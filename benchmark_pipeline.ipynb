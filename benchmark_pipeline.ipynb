{
 "cells": [
  {
   "cell_type": "code",
   "execution_count": null,
   "metadata": {},
   "outputs": [],
   "source": [
    "%matplotlib inline\n",
    "from sklearn.metrics import classification_report, confusion_matrix, roc_curve, auc\n",
    "from pandas_ml import ConfusionMatrix\n",
    "import matplotlib.pyplot as plt\n",
    "import pandas"
   ]
  },
  {
   "cell_type": "code",
   "execution_count": 1,
   "metadata": {},
   "outputs": [
    {
     "ename": "NameError",
     "evalue": "name 'load_data' is not defined",
     "output_type": "error",
     "traceback": [
      "\u001b[0;31m---------------------------------------------------------------------------\u001b[0m",
      "\u001b[0;31mNameError\u001b[0m                                 Traceback (most recent call last)",
      "\u001b[0;32m<ipython-input-1-8a7253b820bb>\u001b[0m in \u001b[0;36m<module>\u001b[0;34m()\u001b[0m\n\u001b[1;32m      1\u001b[0m \u001b[0;31m# Willi's data generator\u001b[0m\u001b[0;34m\u001b[0m\u001b[0;34m\u001b[0m\u001b[0m\n\u001b[0;32m----> 2\u001b[0;31m \u001b[0mload_data\u001b[0m\u001b[0;34m(\u001b[0m\u001b[0;34m)\u001b[0m\u001b[0;34m\u001b[0m\u001b[0m\n\u001b[0m\u001b[1;32m      3\u001b[0m \u001b[0;31m# X_train, X_full, y_train, y_full\u001b[0m\u001b[0;34m\u001b[0m\u001b[0;34m\u001b[0m\u001b[0m\n\u001b[1;32m      4\u001b[0m \u001b[0;34m\u001b[0m\u001b[0m\n\u001b[1;32m      5\u001b[0m \u001b[0mmodels\u001b[0m \u001b[0;34m=\u001b[0m \u001b[0;34m[\u001b[0m\u001b[0;34m]\u001b[0m\u001b[0;34m\u001b[0m\u001b[0m\n",
      "\u001b[0;31mNameError\u001b[0m: name 'load_data' is not defined"
     ]
    }
   ],
   "source": [
    "def load_data():\n",
    "    return 0"
   ]
  },
  {
   "cell_type": "code",
   "execution_count": 17,
   "metadata": {},
   "outputs": [
    {
     "name": "stdout",
     "output_type": "stream",
     "text": [
      "             precision    recall  f1-score   support\n",
      "\n",
      "     normal       0.67      1.00      0.80         2\n",
      "    outlier       1.00      0.67      0.80         3\n",
      "\n",
      "avg / total       0.87      0.80      0.80         5\n",
      "\n",
      "[[2 0]\n",
      " [1 2]]\n",
      "Confusion matrix:\n",
      "<function confusion_matrix at 0x7fce847d1510>\n",
      "population: 5\n",
      "P: 3\n",
      "N: 2\n",
      "PositiveTest: 2\n",
      "NegativeTest: 3\n",
      "TP: 2\n",
      "TN: 2\n",
      "FP: 0\n",
      "FN: 1\n",
      "TPR: 0.6666666666666666\n",
      "TNR: 1.0\n",
      "PPV: 1.0\n",
      "NPV: 0.6666666666666666\n",
      "FPR: 0.0\n",
      "FDR: 0.0\n",
      "FNR: 0.3333333333333333\n",
      "ACC: 0.8\n",
      "F1_score: 0.8\n",
      "MCC: 0.6666666666666666\n",
      "informedness: 0.6666666666666665\n",
      "markedness: 0.6666666666666665\n",
      "prevalence: 0.6\n",
      "LRP: inf\n",
      "LRN: 0.3333333333333333\n",
      "DOR: inf\n",
      "FOR: 0.3333333333333333\n"
     ]
    },
    {
     "name": "stderr",
     "output_type": "stream",
     "text": [
      "/home/maxi/.local/lib/python3.6/site-packages/pandas_ml/confusion_matrix/bcm.py:332: RuntimeWarning: divide by zero encountered in double_scalars\n",
      "  return(np.float64(self.TPR) / self.FPR)\n"
     ]
    },
    {
     "data": {
      "image/png": "[encoded data removed]",
      "text/plain": [
       "<matplotlib.figure.Figure at 0x7fce76ecc2b0>"
      ]
     },
     "metadata": {},
     "output_type": "display_data"
    }
   ],
   "source": [
    "def evaluate(y, saver_locations, names)\n",
    "    saver = tf.train.Saver()\n",
    "    \n",
    "    df = pd.Dataframe(columns = [\"name\", \"precision\", \"recall\", \"F1-score\"])\n",
    "    for i in range(names):\n",
    "        with tf.Session() as sess:\n",
    "            # Restore variables from disk.\n",
    "            saver.restore(sess, saver_loccations[i])\n",
    "            print(\"Model restored.\")\n",
    "\n",
    "            y_ = y_.eval()\n",
    "\n",
    "            cm = ConfusionMatrix(y, y_)\n",
    "            cm.print_stats()\n",
    "            df.append({\"name\": names[i], \n",
    "                       \"precision\": curr_cm['PPV'], \n",
    "                       \"recall\": curr_cm['TPR'], \n",
    "                       \"F1-score\": curr_cm['F1']})\n",
    "            \n",
    "            compute_roc_curve()\n",
    "    print(df)"
   ]
  },
  {
   "cell_type": "code",
   "execution_count": null,
   "metadata": {},
   "outputs": [],
   "source": [
    "def compute_roc_curve(y, y_):\n",
    "                # Compute ROC curve and ROC area for each class\n",
    "            fpr = dict()\n",
    "            tpr = dict()\n",
    "            roc_auc = dict()\n",
    "            for i in range(2):\n",
    "                fpr[i], tpr[i], _ = roc_curve(y, y_, pos_label=1)\n",
    "                roc_auc[i] = auc(fpr[i], tpr[i])\n",
    "\n",
    "            #Plot of a ROC curve for a specific class\n",
    "\n",
    "            plt.figure()\n",
    "            lw = 2\n",
    "            plt.plot(fpr[1], tpr[1], color='darkorange',\n",
    "                     lw=lw, label='ROC curve (area = %0.2f)' % roc_auc[1])\n",
    "            plt.plot([0, 1], [0, 1], color='navy', lw=lw, linestyle='--')\n",
    "            plt.xlim([0.0, 1.0])\n",
    "            plt.ylim([0.0, 1.05])\n",
    "            plt.xlabel('False Positive Rate')\n",
    "            plt.ylabel('True Positive Rate')\n",
    "            plt.title('Receiver operating characteristic example')\n",
    "            plt.legend(loc=\"lower right\")\n",
    "            plt.show()"
   ]
  },
  {
   "cell_type": "code",
   "execution_count": null,
   "metadata": {},
   "outputs": [],
   "source": [
    "def main():\n",
    "    # Willi's data generator\n",
    "    X, y, X_train, y_train = load_data()\n",
    "\n",
    "    models = []\n",
    "    names = ['LSTM-AD', 'LSTM Enc-Dec', 'Donut', 'DBEBM', 'DAGMM']\n",
    "    \n",
    "    savers = []\n",
    "    for model in models:\n",
    "        savers = model.train()\n",
    "\n",
    "    # saver location load last state of session\n",
    "    evaluate(y, savers, names)\n",
    "\n",
    "if __name__ == '__main__':\n",
    "    main()"
   ]
  },
  {
   "cell_type": "code",
   "execution_count": null,
   "metadata": {},
   "outputs": [],
   "source": []
  }
 ],
 "metadata": {
  "kernelspec": {
   "display_name": "Python 3",
   "language": "python",
   "name": "python3"
  },
  "language_info": {
   "codemirror_mode": {
    "name": "ipython",
    "version": 3
   },
   "file_extension": ".py",
   "mimetype": "text/x-python",
   "name": "python",
   "nbconvert_exporter": "python",
   "pygments_lexer": "ipython3",
   "version": "3.6.3"
  }
 },
 "nbformat": 4,
 "nbformat_minor": 2
}
