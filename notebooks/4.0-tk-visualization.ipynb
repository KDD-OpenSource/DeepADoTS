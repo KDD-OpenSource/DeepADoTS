{
 "cells": [
  {
   "cell_type": "code",
   "execution_count": 3,
   "metadata": {},
   "outputs": [
    {
     "name": "stdout",
     "output_type": "stream",
     "text": [
      "The autoreload extension is already loaded. To reload it, use:\n",
      "  %reload_ext autoreload\n"
     ]
    }
   ],
   "source": [
    "% load_ext autoreload\n",
    "% autoreload 2\n",
    "\n",
    "import numpy as np\n",
    "import pandas as pd\n",
    "\n",
    "from matplotlib import pyplot as plt\n",
    "\n",
    "import sys\n",
    "sys.path.append('..')"
   ]
  },
  {
   "cell_type": "code",
   "execution_count": 22,
   "metadata": {},
   "outputs": [],
   "source": [
    "detectors = ['ModelA', 'ModelB', 'ModelC']\n",
    "datasetTypes = ['Pollution', 'Missing']\n",
    "datasetLevels = [0.1, 0.3, 0.5]\n",
    "\n",
    "np.random.seed(42)\n",
    "datasets = pd.MultiIndex.from_product([datasetTypes, datasetLevels], names=['first', 'second'])\n",
    "sampleValues = np.random.random((len(datasets), len(detectors)))\n",
    "df = pd.DataFrame(sampleValues, index=index, columns=detectors)"
   ]
  },
  {
   "cell_type": "code",
   "execution_count": 18,
   "metadata": {},
   "outputs": [
    {
     "data": {
      "image/png": "[encoded data removed]",
      "text/plain": [
       "<matplotlib.figure.Figure at 0x232b48b23c8>"
      ]
     },
     "metadata": {},
     "output_type": "display_data"
    }
   ],
   "source": [
    "fig, ax = plt.subplots()\n",
    "im = ax.imshow(df)"
   ]
  },
  {
   "cell_type": "code",
   "execution_count": 43,
   "metadata": {},
   "outputs": [
    {
     "data": {
      "text/plain": [
       "0.1"
      ]
     },
     "execution_count": 43,
     "metadata": {},
     "output_type": "execute_result"
    }
   ],
   "source": [
    "datasets[0][1]"
   ]
  },
  {
   "cell_type": "code",
   "execution_count": 40,
   "metadata": {},
   "outputs": [
    {
     "data": {
      "text/plain": [
       "'Pollution 0.1'"
      ]
     },
     "execution_count": 40,
     "metadata": {},
     "output_type": "execute_result"
    }
   ],
   "source": [
    "' '.join((str(x) for x in datasets[0]))"
   ]
  },
  {
   "cell_type": "code",
   "execution_count": 65,
   "metadata": {},
   "outputs": [
    {
     "data": {
      "image/png": "[encoded data removed]",
      "text/plain": [
       "<matplotlib.figure.Figure at 0x232b5e21fd0>"
      ]
     },
     "metadata": {},
     "output_type": "display_data"
    }
   ],
   "source": [
    "fig, ax = plt.subplots(figsize=(6, 6))\n",
    "im = ax.imshow(df)\n",
    "\n",
    "# We want to show all ticks...\n",
    "ax.set_xticks(np.arange(len(detectors)))\n",
    "ax.set_yticks(np.arange(len(datasets)))\n",
    "# ... and label them with the respective list entries\n",
    "ax.set_xticklabels(detectors)\n",
    "ax.set_yticklabels([f'{x[1]}' for x in datasets])\n",
    "ax.text(-1.5, 1, datasets[0][0], ha=\"center\", va=\"center\", rotation=90)\n",
    "ax.text(-1.5, 2.4, '_'*10, ha=\"center\", va=\"center\")\n",
    "ax.text(-1.5, 4, datasets[4][0], ha=\"center\", va=\"center\", rotation=90)\n",
    "\n",
    "# Rotate the tick labels and set their alignment.\n",
    "plt.setp(ax.get_xticklabels(), rotation=45, ha=\"right\",\n",
    "         rotation_mode=\"anchor\")\n",
    "\n",
    "# Loop over data dimensions and create text annotations.\n",
    "for i in range(len(detectors)):\n",
    "    for j in range(len(datasets)):\n",
    "        text = ax.text(i, j, f'{sampleValues[j, i]:.2f}', ha=\"center\", va=\"center\", color=\"w\")\n",
    "\n",
    "ax.set_title('AUROC over all datasets and detectors')\n",
    "fig.tight_layout()\n",
    "\n",
    "# Beautiful: http://pyinformatics.blogspot.com/2015/05/nested-heatmaps-in-pandas.html"
   ]
  },
  {
   "cell_type": "code",
   "execution_count": null,
   "metadata": {},
   "outputs": [],
   "source": [
    "multiIndex = [\n",
    "    np.array(['bar', 'bar', 'baz', 'baz', 'foo', 'foo', 'qux', 'qux']),\n",
    "    np.array(['one', 'two', 'one', 'two', 'one', 'two', 'one', 'two'])\n",
    "]"
   ]
  }
 ],
 "metadata": {
  "kernelspec": {
   "display_name": "Python36 (MP)",
   "language": "python",
   "name": "venv_mp"
  },
  "language_info": {
   "codemirror_mode": {
    "name": "ipython",
    "version": 3
   },
   "file_extension": ".py",
   "mimetype": "text/x-python",
   "name": "python",
   "nbconvert_exporter": "python",
   "pygments_lexer": "ipython3",
   "version": "3.6.4"
  }
 },
 "nbformat": 4,
 "nbformat_minor": 2
}
