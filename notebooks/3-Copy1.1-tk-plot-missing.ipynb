{
 "cells": [
  {
   "cell_type": "code",
   "execution_count": 21,
   "metadata": {},
   "outputs": [
    {
     "name": "stdout",
     "output_type": "stream",
     "text": [
      "The autoreload extension is already loaded. To reload it, use:\n",
      "  %reload_ext autoreload\n"
     ]
    }
   ],
   "source": [
    "% load_ext autoreload\n",
    "% autoreload 2\n",
    "\n",
    "import numpy as np\n",
    "import pandas as pd\n",
    "\n",
    "from matplotlib import pyplot as plt\n",
    "\n",
    "import sys\n",
    "sys.path.append('..')\n",
    "from src.evaluation.evaluator import Evaluator\n",
    "from src.datasets import SyntheticDataGenerator, MultivariateAnomalyFunction\n",
    "import main"
   ]
  },
  {
   "cell_type": "markdown",
   "metadata": {},
   "source": [
    "TODO:\n",
    "- XOR (Anomaly -> gleichzeitig)\n",
    "- Ableitung (Geschwindigkeit vs Beschleunigung)\n",
    "- Invers"
   ]
  },
  {
   "cell_type": "markdown",
   "metadata": {},
   "source": [
    "## Plot missing results"
   ]
  },
  {
   "cell_type": "code",
   "execution_count": 28,
   "metadata": {},
   "outputs": [],
   "source": [
    "datasets = [SyntheticDataGenerator.get(f'extreme_1_missing', 42, missing) for missing in np.linspace(0, 0.9, 5)]\n",
    "detectors = main.get_detectors()[:1] + main.get_detectors()[1:]"
   ]
  },
  {
   "cell_type": "code",
   "execution_count": null,
   "metadata": {
    "scrolled": true
   },
   "outputs": [
    {
     "name": "stderr",
     "output_type": "stream",
     "text": [
      "N/A% (0 of 7) |                          | Elapsed Time: 0:00:00 ETA:  --:--:--"
     ]
    },
    {
     "name": "stdout",
     "output_type": "stream",
     "text": [
      "2018-07-10 13:29:06 [INFO] src.evaluation.evaluator: Training LSTM-AD on Syn Extreme Outliers (mis=0.0) with seed 4138928969\n"
     ]
    },
    {
     "name": "stderr",
     "output_type": "stream",
     "text": [
      "\r",
      "                                                                               \r",
      "\r",
      " 14% (1 of 7) |###                       | Elapsed Time: 0:01:44 ETA:   0:10:25"
     ]
    },
    {
     "name": "stdout",
     "output_type": "stream",
     "text": [
      "2018-07-10 13:30:50 [INFO] src.evaluation.evaluator: Training LSTMED on Syn Extreme Outliers (mis=0.0) with seed 4138928969\n"
     ]
    },
    {
     "name": "stderr",
     "output_type": "stream",
     "text": [
      "\r",
      "                                                                               \r",
      "\r",
      " 28% (2 of 7) |#######                   | Elapsed Time: 0:03:21 ETA:   0:08:04"
     ]
    },
    {
     "name": "stdout",
     "output_type": "stream",
     "text": [
      "2018-07-10 13:32:27 [INFO] src.evaluation.evaluator: Training DAGMM_NNAutoEncoder_withoutWindow on Syn Extreme Outliers (mis=0.0) with seed 4138928969\n",
      "2018-07-10 13:32:27 [WARNING] root: Determinant was negative! Clipping Eigenvalues to 0+epsilon from -1.1159342339084333e-09\n",
      "2018-07-10 13:32:27 [WARNING] root: Determinant was negative! Clipping Eigenvalues to 0+epsilon from -2.1390158533307613e-09\n",
      "2018-07-10 13:32:27 [WARNING] root: Determinant was negative! Clipping Eigenvalues to 0+epsilon from -1.283411421582059e-07\n",
      "2018-07-10 13:32:27 [WARNING] root: Determinant was negative! Clipping Eigenvalues to 0+epsilon from -3.9156554976216285e-07\n",
      "2018-07-10 13:32:27 [WARNING] root: Determinant was negative! Clipping Eigenvalues to 0+epsilon from -2.364604734239606e-09\n",
      "2018-07-10 13:32:27 [WARNING] root: Determinant was negative! Clipping Eigenvalues to 0+epsilon from -1.7675260721716768e-07\n",
      "2018-07-10 13:32:28 [WARNING] root: Determinant was negative! Clipping Eigenvalues to 0+epsilon from -2.1720344633990862e-08\n",
      "2018-07-10 13:32:28 [WARNING] root: Determinant was negative! Clipping Eigenvalues to 0+epsilon from -4.9017753411817466e-08\n",
      "2018-07-10 13:32:28 [WARNING] root: Determinant was negative! Clipping Eigenvalues to 0+epsilon from -1.2586667708092136e-08\n",
      "2018-07-10 13:32:28 [WARNING] root: Determinant was negative! Clipping Eigenvalues to 0+epsilon from -1.9134994033720432e-07\n",
      "2018-07-10 13:32:28 [WARNING] root: Determinant was negative! Clipping Eigenvalues to 0+epsilon from -3.327798836494367e-08\n",
      "2018-07-10 13:32:29 [WARNING] root: Determinant was negative! Clipping Eigenvalues to 0+epsilon from -3.566740147675773e-08\n",
      "2018-07-10 13:32:29 [WARNING] root: Determinant was negative! Clipping Eigenvalues to 0+epsilon from -2.353148829570273e-06\n",
      "2018-07-10 13:32:29 [WARNING] root: Determinant was negative! Clipping Eigenvalues to 0+epsilon from -4.1334535794135263e-10\n",
      "2018-07-10 13:32:29 [WARNING] root: Determinant was negative! Clipping Eigenvalues to 0+epsilon from -1.473318533840029e-08\n",
      "2018-07-10 13:32:29 [WARNING] root: Determinant was negative! Clipping Eigenvalues to 0+epsilon from -8.623309213362518e-07\n",
      "2018-07-10 13:32:29 [WARNING] root: Determinant was negative! Clipping Eigenvalues to 0+epsilon from -1.3723491747441585e-06\n",
      "2018-07-10 13:32:29 [WARNING] root: Determinant was negative! Clipping Eigenvalues to 0+epsilon from -6.083110548615878e-08\n",
      "2018-07-10 13:32:29 [WARNING] root: Determinant was negative! Clipping Eigenvalues to 0+epsilon from -5.324770313563931e-08\n",
      "2018-07-10 13:32:29 [WARNING] root: Determinant was negative! Clipping Eigenvalues to 0+epsilon from -1.49506167446134e-08\n"
     ]
    },
    {
     "name": "stderr",
     "output_type": "stream",
     "text": [
      "\r",
      "                                                                               \r",
      "\r",
      " 42% (3 of 7) |###########               | Elapsed Time: 0:03:25 ETA:   0:00:16"
     ]
    },
    {
     "name": "stdout",
     "output_type": "stream",
     "text": [
      "2018-07-10 13:32:31 [INFO] src.evaluation.evaluator: Training DAGMM_NNAutoEncoder_withWindow on Syn Extreme Outliers (mis=0.0) with seed 4138928969\n"
     ]
    },
    {
     "name": "stderr",
     "output_type": "stream",
     "text": [
      "\r",
      "                                                                               \r",
      "\r",
      " 57% (4 of 7) |##############            | Elapsed Time: 0:03:29 ETA:   0:00:11"
     ]
    },
    {
     "name": "stdout",
     "output_type": "stream",
     "text": [
      "2018-07-10 13:32:35 [INFO] src.evaluation.evaluator: Training DAGMM_LSTMAutoEncoder_withWindow on Syn Extreme Outliers (mis=0.0) with seed 4138928969\n"
     ]
    },
    {
     "name": "stderr",
     "output_type": "stream",
     "text": [
      "\r",
      "                                                                               \r",
      "\r",
      " 71% (5 of 7) |##################        | Elapsed Time: 0:03:59 ETA:   0:01:00"
     ]
    },
    {
     "name": "stdout",
     "output_type": "stream",
     "text": [
      "2018-07-10 13:33:05 [INFO] src.evaluation.evaluator: Training Recurrent EBM on Syn Extreme Outliers (mis=0.0) with seed 4138928969\n"
     ]
    },
    {
     "name": "stderr",
     "output_type": "stream",
     "text": [
      "100%|██████████| 15/15 [00:06<00:00,  2.30it/s]\n",
      " 85% (6 of 7) |######################    | Elapsed Time: 0:04:16 ETA:   0:00:17"
     ]
    },
    {
     "name": "stdout",
     "output_type": "stream",
     "text": [
      "2018-07-10 13:33:23 [INFO] src.evaluation.evaluator: Training Donut on Syn Extreme Outliers (mis=0.0) with seed 4138928969\n"
     ]
    },
    {
     "name": "stderr",
     "output_type": "stream",
     "text": [
      "\r",
      "  0%|          | 0/1 [00:00<?, ?it/s]"
     ]
    },
    {
     "name": "stdout",
     "output_type": "stream",
     "text": [
      "INFO:tensorflow:Restoring parameters from /tmp/tmp8pcilb5m/variables.dat-900\n",
      "2018-07-10 13:34:56 [INFO] tensorflow: Restoring parameters from /tmp/tmp8pcilb5m/variables.dat-900\n"
     ]
    },
    {
     "name": "stderr",
     "output_type": "stream",
     "text": [
      "100%|██████████| 1/1 [01:33<00:00, 93.72s/it]\n",
      "100% (7 of 7) |##########################| Elapsed Time: 0:05:57 Time:  0:05:57\n",
      "N/A% (0 of 7) |                          | Elapsed Time: 0:00:00 ETA:  --:--:--"
     ]
    },
    {
     "name": "stdout",
     "output_type": "stream",
     "text": [
      "2018-07-10 13:35:03 [INFO] src.evaluation.evaluator: Training LSTM-AD on Syn Extreme Outliers (mis=0.225) with seed 4138928969\n"
     ]
    },
    {
     "name": "stderr",
     "output_type": "stream",
     "text": [
      "\r",
      "                                                                               \r",
      "\r",
      " 14% (1 of 7) |###                       | Elapsed Time: 0:01:43 ETA:   0:10:22"
     ]
    },
    {
     "name": "stdout",
     "output_type": "stream",
     "text": [
      "2018-07-10 13:36:47 [INFO] src.evaluation.evaluator: Training LSTMED on Syn Extreme Outliers (mis=0.225) with seed 4138928969\n"
     ]
    },
    {
     "name": "stderr",
     "output_type": "stream",
     "text": [
      "\r",
      "                                                                               \r",
      "\r",
      " 28% (2 of 7) |#######                   | Elapsed Time: 0:03:22 ETA:   0:08:14"
     ]
    },
    {
     "name": "stdout",
     "output_type": "stream",
     "text": [
      "2018-07-10 13:38:26 [INFO] src.evaluation.evaluator: Training DAGMM_NNAutoEncoder_withoutWindow on Syn Extreme Outliers (mis=0.225) with seed 4138928969\n",
      "2018-07-10 13:38:26 [WARNING] root: Determinant was negative! Clipping Eigenvalues to 0+epsilon from -3.337412124437833e-07\n",
      "2018-07-10 13:38:26 [WARNING] root: Determinant was negative! Clipping Eigenvalues to 0+epsilon from -1.7686663511540246e-07\n",
      "2018-07-10 13:38:26 [WARNING] root: Determinant was negative! Clipping Eigenvalues to 0+epsilon from -1.1732529969776806e-07\n",
      "2018-07-10 13:38:26 [WARNING] root: Determinant was negative! Clipping Eigenvalues to 0+epsilon from -4.5363123035713215e-08\n",
      "2018-07-10 13:38:26 [WARNING] root: Determinant was negative! Clipping Eigenvalues to 0+epsilon from -4.6995324964882457e-07\n",
      "2018-07-10 13:38:26 [WARNING] root: Determinant was negative! Clipping Eigenvalues to 0+epsilon from -7.66826360631967e-07\n",
      "2018-07-10 13:38:26 [WARNING] root: Determinant was negative! Clipping Eigenvalues to 0+epsilon from -3.148058738133841e-07\n",
      "2018-07-10 13:38:26 [WARNING] root: Determinant was negative! Clipping Eigenvalues to 0+epsilon from -8.469982049064129e-08\n",
      "2018-07-10 13:38:26 [WARNING] root: Determinant was negative! Clipping Eigenvalues to 0+epsilon from -6.807288599475214e-08\n",
      "2018-07-10 13:38:26 [WARNING] root: Determinant was negative! Clipping Eigenvalues to 0+epsilon from -2.691490408324171e-07\n",
      "2018-07-10 13:38:26 [WARNING] root: Determinant was negative! Clipping Eigenvalues to 0+epsilon from -6.013664801685081e-07\n",
      "2018-07-10 13:38:26 [WARNING] root: Determinant was negative! Clipping Eigenvalues to 0+epsilon from -1.9510034476866167e-08\n",
      "2018-07-10 13:38:26 [WARNING] root: Determinant was negative! Clipping Eigenvalues to 0+epsilon from -1.650844438927379e-07\n",
      "2018-07-10 13:38:26 [ERROR] src.evaluation.evaluator: An exception occurred while training DAGMM_NNAutoEncoder_withoutWindow on Syn Extreme Outliers (mis=0.225): Lapack Error getrf : U(3,3) is 0, U is singular at /pytorch/aten/src/TH/generic/THTensorLapack.c:514\n",
      "2018-07-10 13:38:26 [ERROR] src.evaluation.evaluator: Traceback (most recent call last):\n",
      "  File \"../src/evaluation/evaluator.py\", line 122, in evaluate\n",
      "    det.fit(X_train.copy(), y_train.copy())\n",
      "  File \"../src/algorithms/dagmm.py\", line 203, in fit\n",
      "    self.dagmm_step(input_data.float())\n",
      "  File \"../src/algorithms/dagmm.py\", line 177, in dagmm_step\n",
      "    self.lambda_cov_diag)\n",
      "  File \"../src/algorithms/dagmm.py\", line 144, in loss_function\n",
      "    sample_energy, cov_diag = self.compute_energy(z, phi, mu, cov)\n",
      "  File \"../src/algorithms/dagmm.py\", line 113, in compute_energy\n",
      "    cov_inverse.append(torch.inverse(cov_k).unsqueeze(0))\n",
      "RuntimeError: Lapack Error getrf : U(3,3) is 0, U is singular at /pytorch/aten/src/TH/generic/THTensorLapack.c:514\n",
      "\n"
     ]
    },
    {
     "name": "stderr",
     "output_type": "stream",
     "text": [
      "\r",
      "                                                                               \r",
      "\r",
      " 42% (3 of 7) |###########               | Elapsed Time: 0:03:22 ETA:   0:03:18"
     ]
    },
    {
     "name": "stdout",
     "output_type": "stream",
     "text": [
      "2018-07-10 13:38:26 [INFO] src.evaluation.evaluator: Training DAGMM_NNAutoEncoder_withWindow on Syn Extreme Outliers (mis=0.225) with seed 4138928969\n"
     ]
    },
    {
     "name": "stderr",
     "output_type": "stream",
     "text": [
      "\r",
      "                                                                               \r",
      "\r",
      " 57% (4 of 7) |##############            | Elapsed Time: 0:03:26 ETA:   0:00:12"
     ]
    },
    {
     "name": "stdout",
     "output_type": "stream",
     "text": [
      "2018-07-10 13:38:30 [INFO] src.evaluation.evaluator: Training DAGMM_LSTMAutoEncoder_withWindow on Syn Extreme Outliers (mis=0.225) with seed 4138928969\n"
     ]
    },
    {
     "name": "stderr",
     "output_type": "stream",
     "text": [
      "\r",
      "                                                                               \r",
      "\r",
      " 71% (5 of 7) |##################        | Elapsed Time: 0:03:58 ETA:   0:01:02"
     ]
    },
    {
     "name": "stdout",
     "output_type": "stream",
     "text": [
      "2018-07-10 13:39:01 [INFO] src.evaluation.evaluator: Training Recurrent EBM on Syn Extreme Outliers (mis=0.225) with seed 4138928969\n"
     ]
    },
    {
     "name": "stderr",
     "output_type": "stream",
     "text": [
      "100%|██████████| 15/15 [00:06<00:00,  2.30it/s]\n",
      " 85% (6 of 7) |######################    | Elapsed Time: 0:04:16 ETA:   0:00:17"
     ]
    },
    {
     "name": "stdout",
     "output_type": "stream",
     "text": [
      "2018-07-10 13:39:19 [INFO] src.evaluation.evaluator: Training Donut on Syn Extreme Outliers (mis=0.225) with seed 4138928969\n"
     ]
    },
    {
     "name": "stderr",
     "output_type": "stream",
     "text": [
      "  0%|          | 0/1 [00:00<?, ?it/s]/home/thomas/.local/lib/python3.6/site-packages/tfsnippet/scaffold/early_stopping_.py:127: UserWarning: Early-stopping metric has never been updated. The variables will keep their latest values. Did you forget to add corresponding metric?\n",
      "  'Early-stopping metric has never been updated. '\n",
      "100%|██████████| 1/1 [00:15<00:00, 15.09s/it]\n",
      "100% (7 of 7) |##########################| Elapsed Time: 0:04:38 Time:  0:04:38\n",
      "N/A% (0 of 7) |                          | Elapsed Time: 0:00:00 ETA:  --:--:--"
     ]
    },
    {
     "name": "stdout",
     "output_type": "stream",
     "text": [
      "2018-07-10 13:39:41 [INFO] src.evaluation.evaluator: Training LSTM-AD on Syn Extreme Outliers (mis=0.45) with seed 4138928969\n"
     ]
    },
    {
     "name": "stderr",
     "output_type": "stream",
     "text": [
      "\r",
      "                                                                               \r",
      "\r",
      " 14% (1 of 7) |###                       | Elapsed Time: 0:01:41 ETA:   0:10:09"
     ]
    },
    {
     "name": "stdout",
     "output_type": "stream",
     "text": [
      "2018-07-10 13:41:23 [INFO] src.evaluation.evaluator: Training LSTMED on Syn Extreme Outliers (mis=0.45) with seed 4138928969\n"
     ]
    },
    {
     "name": "stderr",
     "output_type": "stream",
     "text": [
      "\r",
      "                                                                               \r",
      "\r",
      " 28% (2 of 7) |#######                   | Elapsed Time: 0:03:18 ETA:   0:08:06"
     ]
    },
    {
     "name": "stdout",
     "output_type": "stream",
     "text": [
      "2018-07-10 13:43:00 [INFO] src.evaluation.evaluator: Training DAGMM_NNAutoEncoder_withoutWindow on Syn Extreme Outliers (mis=0.45) with seed 4138928969\n",
      "2018-07-10 13:43:00 [WARNING] root: Determinant was negative! Clipping Eigenvalues to 0+epsilon from -4.684242185248877e-07\n",
      "2018-07-10 13:43:00 [WARNING] root: Determinant was negative! Clipping Eigenvalues to 0+epsilon from -1.3709814083995298e-07\n",
      "2018-07-10 13:43:00 [WARNING] root: Determinant was negative! Clipping Eigenvalues to 0+epsilon from -6.393322564690607e-07\n",
      "2018-07-10 13:43:00 [WARNING] root: Determinant was negative! Clipping Eigenvalues to 0+epsilon from -6.062039119569818e-07\n",
      "2018-07-10 13:43:00 [WARNING] root: Determinant was negative! Clipping Eigenvalues to 0+epsilon from -5.20092896749702e-07\n",
      "2018-07-10 13:43:00 [WARNING] root: Determinant was negative! Clipping Eigenvalues to 0+epsilon from -1.980315147420697e-07\n",
      "2018-07-10 13:43:00 [WARNING] root: Determinant was negative! Clipping Eigenvalues to 0+epsilon from -1.4820041371876869e-07\n",
      "2018-07-10 13:43:00 [WARNING] root: Determinant was negative! Clipping Eigenvalues to 0+epsilon from -4.4552143663167953e-07\n",
      "2018-07-10 13:43:01 [WARNING] root: Determinant was negative! Clipping Eigenvalues to 0+epsilon from -2.897742206187104e-07\n",
      "2018-07-10 13:43:01 [WARNING] root: Determinant was negative! Clipping Eigenvalues to 0+epsilon from -4.129187232138065e-07\n",
      "2018-07-10 13:43:01 [WARNING] root: Determinant was negative! Clipping Eigenvalues to 0+epsilon from -3.3366984553140355e-07\n",
      "2018-07-10 13:43:01 [WARNING] root: Determinant was negative! Clipping Eigenvalues to 0+epsilon from -1.668067142190921e-07\n",
      "2018-07-10 13:43:01 [WARNING] root: Determinant was negative! Clipping Eigenvalues to 0+epsilon from -2.5778641088436416e-07\n",
      "2018-07-10 13:43:01 [WARNING] root: Determinant was negative! Clipping Eigenvalues to 0+epsilon from -2.784033199532132e-07\n",
      "2018-07-10 13:43:01 [WARNING] root: Determinant was negative! Clipping Eigenvalues to 0+epsilon from -1.1002867950082873e-07\n",
      "2018-07-10 13:43:01 [WARNING] root: Determinant was negative! Clipping Eigenvalues to 0+epsilon from -4.679259575368633e-07\n",
      "2018-07-10 13:43:01 [WARNING] root: Determinant was negative! Clipping Eigenvalues to 0+epsilon from -5.693553930541384e-07\n",
      "2018-07-10 13:43:01 [WARNING] root: Determinant was negative! Clipping Eigenvalues to 0+epsilon from -1.668789622044642e-07\n",
      "2018-07-10 13:43:01 [WARNING] root: Determinant was negative! Clipping Eigenvalues to 0+epsilon from -3.822300413958146e-07\n",
      "2018-07-10 13:43:01 [WARNING] root: Determinant was negative! Clipping Eigenvalues to 0+epsilon from -3.0765721703573945e-07\n",
      "2018-07-10 13:43:01 [WARNING] root: Determinant was negative! Clipping Eigenvalues to 0+epsilon from -8.416604657668358e-08\n",
      "2018-07-10 13:43:01 [WARNING] root: Determinant was negative! Clipping Eigenvalues to 0+epsilon from -6.420062845791108e-07\n",
      "2018-07-10 13:43:01 [ERROR] src.evaluation.evaluator: An exception occurred while training DAGMM_NNAutoEncoder_withoutWindow on Syn Extreme Outliers (mis=0.45): Lapack Error getrf : U(3,3) is 0, U is singular at /pytorch/aten/src/TH/generic/THTensorLapack.c:514\n",
      "2018-07-10 13:43:01 [ERROR] src.evaluation.evaluator: Traceback (most recent call last):\n",
      "  File \"../src/evaluation/evaluator.py\", line 122, in evaluate\n",
      "    det.fit(X_train.copy(), y_train.copy())\n",
      "  File \"../src/algorithms/dagmm.py\", line 203, in fit\n",
      "    self.dagmm_step(input_data.float())\n",
      "  File \"../src/algorithms/dagmm.py\", line 177, in dagmm_step\n",
      "    self.lambda_cov_diag)\n",
      "  File \"../src/algorithms/dagmm.py\", line 144, in loss_function\n",
      "    sample_energy, cov_diag = self.compute_energy(z, phi, mu, cov)\n",
      "  File \"../src/algorithms/dagmm.py\", line 113, in compute_energy\n",
      "    cov_inverse.append(torch.inverse(cov_k).unsqueeze(0))\n",
      "RuntimeError: Lapack Error getrf : U(3,3) is 0, U is singular at /pytorch/aten/src/TH/generic/THTensorLapack.c:514\n",
      "\n"
     ]
    },
    {
     "name": "stderr",
     "output_type": "stream",
     "text": [
      "\r",
      "                                                                               \r",
      "\r",
      " 42% (3 of 7) |###########               | Elapsed Time: 0:03:19 ETA:   0:03:15"
     ]
    },
    {
     "name": "stdout",
     "output_type": "stream",
     "text": [
      "2018-07-10 13:43:01 [INFO] src.evaluation.evaluator: Training DAGMM_NNAutoEncoder_withWindow on Syn Extreme Outliers (mis=0.45) with seed 4138928969\n"
     ]
    },
    {
     "name": "stderr",
     "output_type": "stream",
     "text": [
      "\r",
      "                                                                               \r",
      "\r",
      " 57% (4 of 7) |##############            | Elapsed Time: 0:03:23 ETA:   0:00:11"
     ]
    },
    {
     "name": "stdout",
     "output_type": "stream",
     "text": [
      "2018-07-10 13:43:05 [INFO] src.evaluation.evaluator: Training DAGMM_LSTMAutoEncoder_withWindow on Syn Extreme Outliers (mis=0.45) with seed 4138928969\n"
     ]
    },
    {
     "name": "stderr",
     "output_type": "stream",
     "text": [
      "\r",
      "                                                                               \r",
      "\r",
      " 71% (5 of 7) |##################        | Elapsed Time: 0:03:53 ETA:   0:01:00"
     ]
    },
    {
     "name": "stdout",
     "output_type": "stream",
     "text": [
      "2018-07-10 13:43:35 [INFO] src.evaluation.evaluator: Training Recurrent EBM on Syn Extreme Outliers (mis=0.45) with seed 4138928969\n"
     ]
    },
    {
     "name": "stderr",
     "output_type": "stream",
     "text": [
      "100%|██████████| 15/15 [00:06<00:00,  2.29it/s]\n",
      " 85% (6 of 7) |######################    | Elapsed Time: 0:04:11 ETA:   0:00:18"
     ]
    },
    {
     "name": "stdout",
     "output_type": "stream",
     "text": [
      "2018-07-10 13:43:53 [INFO] src.evaluation.evaluator: Training Donut on Syn Extreme Outliers (mis=0.45) with seed 4138928969\n"
     ]
    },
    {
     "name": "stderr",
     "output_type": "stream",
     "text": [
      "100%|██████████| 1/1 [00:15<00:00, 15.59s/it]\n",
      "100% (7 of 7) |##########################| Elapsed Time: 0:04:34 Time:  0:04:34\n",
      "N/A% (0 of 7) |                          | Elapsed Time: 0:00:00 ETA:  --:--:--"
     ]
    },
    {
     "name": "stdout",
     "output_type": "stream",
     "text": [
      "2018-07-10 13:44:16 [INFO] src.evaluation.evaluator: Training LSTM-AD on Syn Extreme Outliers (mis=0.675) with seed 4138928969\n"
     ]
    },
    {
     "name": "stderr",
     "output_type": "stream",
     "text": [
      "\r",
      "                                                                               \r",
      "\r",
      " 14% (1 of 7) |###                       | Elapsed Time: 0:01:41 ETA:   0:10:10"
     ]
    },
    {
     "name": "stdout",
     "output_type": "stream",
     "text": [
      "2018-07-10 13:45:58 [INFO] src.evaluation.evaluator: Training LSTMED on Syn Extreme Outliers (mis=0.675) with seed 4138928969\n"
     ]
    },
    {
     "name": "stderr",
     "output_type": "stream",
     "text": [
      "\r",
      "                                                                               \r",
      "\r",
      " 28% (2 of 7) |#######                   | Elapsed Time: 0:03:18 ETA:   0:08:04"
     ]
    },
    {
     "name": "stdout",
     "output_type": "stream",
     "text": [
      "2018-07-10 13:47:35 [INFO] src.evaluation.evaluator: Training DAGMM_NNAutoEncoder_withoutWindow on Syn Extreme Outliers (mis=0.675) with seed 4138928969\n",
      "2018-07-10 13:47:35 [WARNING] root: Determinant was negative! Clipping Eigenvalues to 0+epsilon from -3.4551078442746075e-07\n",
      "2018-07-10 13:47:35 [WARNING] root: Determinant was negative! Clipping Eigenvalues to 0+epsilon from -3.264619152787418e-08\n",
      "2018-07-10 13:47:35 [WARNING] root: Determinant was negative! Clipping Eigenvalues to 0+epsilon from -3.3057011705750483e-07\n",
      "2018-07-10 13:47:35 [WARNING] root: Determinant was negative! Clipping Eigenvalues to 0+epsilon from -1.5314574852709484e-07\n",
      "2018-07-10 13:47:35 [WARNING] root: Determinant was negative! Clipping Eigenvalues to 0+epsilon from -1.5717676049575857e-08\n",
      "2018-07-10 13:47:35 [WARNING] root: Determinant was negative! Clipping Eigenvalues to 0+epsilon from -6.926071449697702e-08\n",
      "2018-07-10 13:47:35 [WARNING] root: Determinant was negative! Clipping Eigenvalues to 0+epsilon from -3.55520313632951e-07\n",
      "2018-07-10 13:47:35 [WARNING] root: Determinant was negative! Clipping Eigenvalues to 0+epsilon from -6.93326782652548e-08\n",
      "2018-07-10 13:47:35 [WARNING] root: Determinant was negative! Clipping Eigenvalues to 0+epsilon from -7.224473961287003e-07\n",
      "2018-07-10 13:47:35 [WARNING] root: Determinant was negative! Clipping Eigenvalues to 0+epsilon from -1.074443929383051e-07\n",
      "2018-07-10 13:47:35 [WARNING] root: Determinant was negative! Clipping Eigenvalues to 0+epsilon from -9.817477319984391e-08\n",
      "2018-07-10 13:47:35 [WARNING] root: Determinant was negative! Clipping Eigenvalues to 0+epsilon from -3.6888607723994937e-07\n",
      "2018-07-10 13:47:35 [WARNING] root: Determinant was negative! Clipping Eigenvalues to 0+epsilon from -4.555791406346543e-07\n",
      "2018-07-10 13:47:35 [WARNING] root: Determinant was negative! Clipping Eigenvalues to 0+epsilon from -5.196078518565628e-07\n",
      "2018-07-10 13:47:35 [WARNING] root: Determinant was negative! Clipping Eigenvalues to 0+epsilon from -7.150140390876913e-07\n",
      "2018-07-10 13:47:35 [WARNING] root: Determinant was negative! Clipping Eigenvalues to 0+epsilon from -5.2464290689613335e-08\n",
      "2018-07-10 13:47:35 [WARNING] root: Determinant was negative! Clipping Eigenvalues to 0+epsilon from -2.052018146514456e-07\n",
      "2018-07-10 13:47:35 [WARNING] root: Determinant was negative! Clipping Eigenvalues to 0+epsilon from -2.3480181710056058e-07\n",
      "2018-07-10 13:47:35 [WARNING] root: Determinant was negative! Clipping Eigenvalues to 0+epsilon from -8.556179977858847e-07\n",
      "2018-07-10 13:47:35 [WARNING] root: Determinant was negative! Clipping Eigenvalues to 0+epsilon from -8.574337684308375e-09\n",
      "2018-07-10 13:47:35 [WARNING] root: Determinant was negative! Clipping Eigenvalues to 0+epsilon from -5.946183705418662e-07\n",
      "2018-07-10 13:47:35 [WARNING] root: Determinant was negative! Clipping Eigenvalues to 0+epsilon from -3.6334148489913787e-07\n",
      "2018-07-10 13:47:35 [WARNING] root: Determinant was negative! Clipping Eigenvalues to 0+epsilon from -6.496481432805012e-07\n",
      "2018-07-10 13:47:35 [WARNING] root: Determinant was negative! Clipping Eigenvalues to 0+epsilon from -3.315551850846532e-07\n",
      "2018-07-10 13:47:35 [WARNING] root: Determinant was negative! Clipping Eigenvalues to 0+epsilon from -2.6533032837505743e-07\n",
      "2018-07-10 13:47:35 [WARNING] root: Determinant was negative! Clipping Eigenvalues to 0+epsilon from -2.39376646504752e-07\n",
      "2018-07-10 13:47:35 [WARNING] root: Determinant was negative! Clipping Eigenvalues to 0+epsilon from -1.1720540982196326e-07\n",
      "2018-07-10 13:47:35 [WARNING] root: Determinant was negative! Clipping Eigenvalues to 0+epsilon from -8.496783721057e-08\n",
      "2018-07-10 13:47:35 [WARNING] root: Determinant was negative! Clipping Eigenvalues to 0+epsilon from -3.674328752367728e-07\n",
      "2018-07-10 13:47:35 [WARNING] root: Determinant was negative! Clipping Eigenvalues to 0+epsilon from -6.29187923095742e-07\n",
      "2018-07-10 13:47:35 [WARNING] root: Determinant was negative! Clipping Eigenvalues to 0+epsilon from -5.93237700741156e-07\n",
      "2018-07-10 13:47:35 [WARNING] root: Determinant was negative! Clipping Eigenvalues to 0+epsilon from -2.6767966687657463e-07\n",
      "2018-07-10 13:47:35 [WARNING] root: Determinant was negative! Clipping Eigenvalues to 0+epsilon from -2.1853832077312063e-09\n",
      "2018-07-10 13:47:35 [WARNING] root: Determinant was negative! Clipping Eigenvalues to 0+epsilon from -6.140317054814659e-07\n",
      "2018-07-10 13:47:35 [WARNING] root: Determinant was negative! Clipping Eigenvalues to 0+epsilon from -1.9824288699510362e-07\n",
      "2018-07-10 13:47:35 [WARNING] root: Determinant was negative! Clipping Eigenvalues to 0+epsilon from -2.9145357416382467e-07\n",
      "2018-07-10 13:47:35 [WARNING] root: Determinant was negative! Clipping Eigenvalues to 0+epsilon from -3.224392912670737e-07\n",
      "2018-07-10 13:47:35 [WARNING] root: Determinant was negative! Clipping Eigenvalues to 0+epsilon from -5.34263733698026e-07\n",
      "2018-07-10 13:47:35 [WARNING] root: Determinant was negative! Clipping Eigenvalues to 0+epsilon from -5.096219410916092e-07\n",
      "2018-07-10 13:47:35 [WARNING] root: Determinant was negative! Clipping Eigenvalues to 0+epsilon from -6.864986517030047e-07\n",
      "2018-07-10 13:47:35 [WARNING] root: Determinant was negative! Clipping Eigenvalues to 0+epsilon from -2.1498232172234566e-07\n",
      "2018-07-10 13:47:35 [WARNING] root: Determinant was negative! Clipping Eigenvalues to 0+epsilon from -5.315657745086355e-07\n",
      "2018-07-10 13:47:35 [WARNING] root: Determinant was negative! Clipping Eigenvalues to 0+epsilon from -2.9150569957892003e-07\n",
      "2018-07-10 13:47:35 [WARNING] root: Determinant was negative! Clipping Eigenvalues to 0+epsilon from -1.2262243842542375e-07\n",
      "2018-07-10 13:47:35 [WARNING] root: Determinant was negative! Clipping Eigenvalues to 0+epsilon from -3.3291433965132455e-07\n",
      "2018-07-10 13:47:35 [WARNING] root: Determinant was negative! Clipping Eigenvalues to 0+epsilon from -2.4446808311040513e-07\n",
      "2018-07-10 13:47:35 [WARNING] root: Determinant was negative! Clipping Eigenvalues to 0+epsilon from -2.0278608303669898e-07\n",
      "2018-07-10 13:47:35 [WARNING] root: Determinant was negative! Clipping Eigenvalues to 0+epsilon from -1.587029174743293e-07\n",
      "2018-07-10 13:47:35 [WARNING] root: Determinant was negative! Clipping Eigenvalues to 0+epsilon from -5.039909751758387e-07\n",
      "2018-07-10 13:47:35 [WARNING] root: Determinant was negative! Clipping Eigenvalues to 0+epsilon from -4.92732567636267e-07\n",
      "2018-07-10 13:47:35 [WARNING] root: Determinant was negative! Clipping Eigenvalues to 0+epsilon from -2.0167698266959633e-07\n",
      "2018-07-10 13:47:35 [WARNING] root: Determinant was negative! Clipping Eigenvalues to 0+epsilon from -2.565037604540521e-08\n",
      "2018-07-10 13:47:35 [WARNING] root: Determinant was negative! Clipping Eigenvalues to 0+epsilon from -5.484005072275977e-08\n",
      "2018-07-10 13:47:35 [WARNING] root: Determinant was negative! Clipping Eigenvalues to 0+epsilon from -8.77296770340763e-07\n",
      "2018-07-10 13:47:35 [WARNING] root: Determinant was negative! Clipping Eigenvalues to 0+epsilon from -6.565344392583938e-07\n",
      "2018-07-10 13:47:35 [WARNING] root: Determinant was negative! Clipping Eigenvalues to 0+epsilon from -1.9974804033040527e-08\n",
      "2018-07-10 13:47:35 [WARNING] root: Determinant was negative! Clipping Eigenvalues to 0+epsilon from -3.7315547274374694e-07\n",
      "2018-07-10 13:47:35 [WARNING] root: Determinant was negative! Clipping Eigenvalues to 0+epsilon from -4.755575844228588e-07\n",
      "2018-07-10 13:47:35 [WARNING] root: Determinant was negative! Clipping Eigenvalues to 0+epsilon from -9.570719328166888e-08\n",
      "2018-07-10 13:47:35 [WARNING] root: Determinant was negative! Clipping Eigenvalues to 0+epsilon from -6.203964062478917e-07\n",
      "2018-07-10 13:47:35 [WARNING] root: Determinant was negative! Clipping Eigenvalues to 0+epsilon from -2.1011341289067786e-07\n",
      "2018-07-10 13:47:35 [WARNING] root: Determinant was negative! Clipping Eigenvalues to 0+epsilon from -1.3382818053742085e-07\n",
      "2018-07-10 13:47:35 [WARNING] root: Determinant was negative! Clipping Eigenvalues to 0+epsilon from -4.282651744347277e-08\n",
      "2018-07-10 13:47:35 [WARNING] root: Determinant was negative! Clipping Eigenvalues to 0+epsilon from -9.7725362024903e-08\n",
      "2018-07-10 13:47:35 [WARNING] root: Determinant was negative! Clipping Eigenvalues to 0+epsilon from -2.990466043684137e-07\n"
     ]
    },
    {
     "name": "stdout",
     "output_type": "stream",
     "text": [
      "2018-07-10 13:47:35 [WARNING] root: Determinant was negative! Clipping Eigenvalues to 0+epsilon from -5.9361450865935694e-08\n",
      "2018-07-10 13:47:35 [WARNING] root: Determinant was negative! Clipping Eigenvalues to 0+epsilon from -1.8298405279892904e-07\n",
      "2018-07-10 13:47:35 [WARNING] root: Determinant was negative! Clipping Eigenvalues to 0+epsilon from -2.6206228653791186e-07\n",
      "2018-07-10 13:47:35 [WARNING] root: Determinant was negative! Clipping Eigenvalues to 0+epsilon from -3.955403826694237e-07\n",
      "2018-07-10 13:47:35 [WARNING] root: Determinant was negative! Clipping Eigenvalues to 0+epsilon from -2.695685736853193e-07\n",
      "2018-07-10 13:47:35 [WARNING] root: Determinant was negative! Clipping Eigenvalues to 0+epsilon from -3.2811149708322773e-07\n",
      "2018-07-10 13:47:36 [WARNING] root: Determinant was negative! Clipping Eigenvalues to 0+epsilon from -3.778800987674913e-07\n",
      "2018-07-10 13:47:36 [WARNING] root: Determinant was negative! Clipping Eigenvalues to 0+epsilon from -7.671933843766965e-08\n",
      "2018-07-10 13:47:36 [WARNING] root: Determinant was negative! Clipping Eigenvalues to 0+epsilon from -7.122464751319058e-08\n",
      "2018-07-10 13:47:36 [WARNING] root: Determinant was negative! Clipping Eigenvalues to 0+epsilon from -2.094375730621323e-07\n",
      "2018-07-10 13:47:36 [WARNING] root: Determinant was negative! Clipping Eigenvalues to 0+epsilon from -8.988563138245809e-08\n",
      "2018-07-10 13:47:36 [WARNING] root: Determinant was negative! Clipping Eigenvalues to 0+epsilon from -4.4342891669657547e-07\n",
      "2018-07-10 13:47:36 [WARNING] root: Determinant was negative! Clipping Eigenvalues to 0+epsilon from -2.3558729367323394e-07\n",
      "2018-07-10 13:47:36 [WARNING] root: Determinant was negative! Clipping Eigenvalues to 0+epsilon from -3.5185621527489275e-07\n",
      "2018-07-10 13:47:36 [WARNING] root: Determinant was negative! Clipping Eigenvalues to 0+epsilon from -8.096803867374547e-07\n",
      "2018-07-10 13:47:36 [WARNING] root: Determinant was negative! Clipping Eigenvalues to 0+epsilon from -4.334703191943845e-07\n",
      "2018-07-10 13:47:36 [WARNING] root: Determinant was negative! Clipping Eigenvalues to 0+epsilon from -7.250761200339184e-07\n",
      "2018-07-10 13:47:36 [WARNING] root: Determinant was negative! Clipping Eigenvalues to 0+epsilon from -2.583639684416994e-07\n",
      "2018-07-10 13:47:36 [WARNING] root: Determinant was negative! Clipping Eigenvalues to 0+epsilon from -2.1091543089823972e-07\n",
      "2018-07-10 13:47:36 [WARNING] root: Determinant was negative! Clipping Eigenvalues to 0+epsilon from -2.726511070250126e-07\n",
      "2018-07-10 13:47:36 [WARNING] root: Determinant was negative! Clipping Eigenvalues to 0+epsilon from -2.8379545824464003e-07\n",
      "2018-07-10 13:47:36 [WARNING] root: Determinant was negative! Clipping Eigenvalues to 0+epsilon from -1.9602280687536222e-08\n",
      "2018-07-10 13:47:36 [WARNING] root: Determinant was negative! Clipping Eigenvalues to 0+epsilon from -4.3797466986461586e-08\n",
      "2018-07-10 13:47:36 [WARNING] root: Determinant was negative! Clipping Eigenvalues to 0+epsilon from -6.350267085508676e-07\n",
      "2018-07-10 13:47:36 [WARNING] root: Determinant was negative! Clipping Eigenvalues to 0+epsilon from -8.630264574094326e-07\n",
      "2018-07-10 13:47:36 [WARNING] root: Determinant was negative! Clipping Eigenvalues to 0+epsilon from -3.7349937542785483e-07\n",
      "2018-07-10 13:47:36 [WARNING] root: Determinant was negative! Clipping Eigenvalues to 0+epsilon from -5.940478331467602e-07\n",
      "2018-07-10 13:47:36 [WARNING] root: Determinant was negative! Clipping Eigenvalues to 0+epsilon from -2.811300134908379e-07\n",
      "2018-07-10 13:47:36 [WARNING] root: Determinant was negative! Clipping Eigenvalues to 0+epsilon from -5.216178351474809e-07\n",
      "2018-07-10 13:47:36 [WARNING] root: Determinant was negative! Clipping Eigenvalues to 0+epsilon from -1.2513265801317175e-07\n",
      "2018-07-10 13:47:36 [WARNING] root: Determinant was negative! Clipping Eigenvalues to 0+epsilon from -1.4624981758970534e-07\n",
      "2018-07-10 13:47:36 [WARNING] root: Determinant was negative! Clipping Eigenvalues to 0+epsilon from -4.098432100363425e-07\n",
      "2018-07-10 13:47:36 [WARNING] root: Determinant was negative! Clipping Eigenvalues to 0+epsilon from -1.1877649797042977e-07\n",
      "2018-07-10 13:47:36 [WARNING] root: Determinant was negative! Clipping Eigenvalues to 0+epsilon from -3.2341262112822733e-07\n",
      "2018-07-10 13:47:36 [WARNING] root: Determinant was negative! Clipping Eigenvalues to 0+epsilon from -2.548847248817765e-07\n",
      "2018-07-10 13:47:36 [WARNING] root: Determinant was negative! Clipping Eigenvalues to 0+epsilon from -6.886605774525378e-08\n",
      "2018-07-10 13:47:36 [WARNING] root: Determinant was negative! Clipping Eigenvalues to 0+epsilon from -2.1421793405806966e-07\n",
      "2018-07-10 13:47:36 [WARNING] root: Determinant was negative! Clipping Eigenvalues to 0+epsilon from -7.453443231497658e-07\n",
      "2018-07-10 13:47:36 [ERROR] src.evaluation.evaluator: An exception occurred while training DAGMM_NNAutoEncoder_withoutWindow on Syn Extreme Outliers (mis=0.675): Lapack Error getrf : U(3,3) is 0, U is singular at /pytorch/aten/src/TH/generic/THTensorLapack.c:514\n",
      "2018-07-10 13:47:36 [ERROR] src.evaluation.evaluator: Traceback (most recent call last):\n",
      "  File \"../src/evaluation/evaluator.py\", line 122, in evaluate\n",
      "    det.fit(X_train.copy(), y_train.copy())\n",
      "  File \"../src/algorithms/dagmm.py\", line 203, in fit\n",
      "    self.dagmm_step(input_data.float())\n",
      "  File \"../src/algorithms/dagmm.py\", line 177, in dagmm_step\n",
      "    self.lambda_cov_diag)\n",
      "  File \"../src/algorithms/dagmm.py\", line 144, in loss_function\n",
      "    sample_energy, cov_diag = self.compute_energy(z, phi, mu, cov)\n",
      "  File \"../src/algorithms/dagmm.py\", line 113, in compute_energy\n",
      "    cov_inverse.append(torch.inverse(cov_k).unsqueeze(0))\n",
      "RuntimeError: Lapack Error getrf : U(3,3) is 0, U is singular at /pytorch/aten/src/TH/generic/THTensorLapack.c:514\n",
      "\n"
     ]
    },
    {
     "name": "stderr",
     "output_type": "stream",
     "text": [
      "\r",
      "                                                                               \r",
      "\r",
      " 42% (3 of 7) |###########               | Elapsed Time: 0:03:19 ETA:   0:03:16"
     ]
    },
    {
     "name": "stdout",
     "output_type": "stream",
     "text": [
      "2018-07-10 13:47:36 [INFO] src.evaluation.evaluator: Training DAGMM_NNAutoEncoder_withWindow on Syn Extreme Outliers (mis=0.675) with seed 4138928969\n"
     ]
    },
    {
     "name": "stderr",
     "output_type": "stream",
     "text": [
      "\r",
      "                                                                               \r",
      "\r",
      " 57% (4 of 7) |##############            | Elapsed Time: 0:03:23 ETA:   0:00:11"
     ]
    },
    {
     "name": "stdout",
     "output_type": "stream",
     "text": [
      "2018-07-10 13:47:40 [INFO] src.evaluation.evaluator: Training DAGMM_LSTMAutoEncoder_withWindow on Syn Extreme Outliers (mis=0.675) with seed 4138928969\n"
     ]
    },
    {
     "name": "stderr",
     "output_type": "stream",
     "text": [
      "\r",
      "                                                                               \r",
      "\r",
      " 71% (5 of 7) |##################        | Elapsed Time: 0:03:54 ETA:   0:01:00"
     ]
    },
    {
     "name": "stdout",
     "output_type": "stream",
     "text": [
      "2018-07-10 13:48:10 [INFO] src.evaluation.evaluator: Training Recurrent EBM on Syn Extreme Outliers (mis=0.675) with seed 4138928969\n"
     ]
    },
    {
     "name": "stderr",
     "output_type": "stream",
     "text": [
      "100%|██████████| 15/15 [00:06<00:00,  2.29it/s]\n",
      " 85% (6 of 7) |######################    | Elapsed Time: 0:04:12 ETA:   0:00:18"
     ]
    },
    {
     "name": "stdout",
     "output_type": "stream",
     "text": [
      "2018-07-10 13:48:29 [INFO] src.evaluation.evaluator: Training Donut on Syn Extreme Outliers (mis=0.675) with seed 4138928969\n"
     ]
    },
    {
     "name": "stderr",
     "output_type": "stream",
     "text": [
      "100%|██████████| 1/1 [00:16<00:00, 16.18s/it]\n",
      "100% (7 of 7) |##########################| Elapsed Time: 0:04:36 Time:  0:04:36\n",
      "N/A% (0 of 7) |                          | Elapsed Time: 0:00:00 ETA:  --:--:--"
     ]
    },
    {
     "name": "stdout",
     "output_type": "stream",
     "text": [
      "2018-07-10 13:48:52 [INFO] src.evaluation.evaluator: Training LSTM-AD on Syn Extreme Outliers (mis=0.9) with seed 4138928969\n"
     ]
    },
    {
     "name": "stderr",
     "output_type": "stream",
     "text": [
      "\r",
      "                                                                               \r",
      "\r",
      " 14% (1 of 7) |###                       | Elapsed Time: 0:01:41 ETA:   0:10:09"
     ]
    },
    {
     "name": "stdout",
     "output_type": "stream",
     "text": [
      "2018-07-10 13:50:34 [INFO] src.evaluation.evaluator: Training LSTMED on Syn Extreme Outliers (mis=0.9) with seed 4138928969\n"
     ]
    },
    {
     "name": "stderr",
     "output_type": "stream",
     "text": [
      "\r",
      "                                                                               \r",
      "\r",
      " 28% (2 of 7) |#######                   | Elapsed Time: 0:03:18 ETA:   0:08:04"
     ]
    },
    {
     "name": "stdout",
     "output_type": "stream",
     "text": [
      "2018-07-10 13:52:11 [INFO] src.evaluation.evaluator: Training DAGMM_NNAutoEncoder_withoutWindow on Syn Extreme Outliers (mis=0.9) with seed 4138928969\n",
      "2018-07-10 13:52:11 [WARNING] root: Determinant was negative! Clipping Eigenvalues to 0+epsilon from -4.149806187569993e-08\n",
      "2018-07-10 13:52:11 [WARNING] root: Determinant was negative! Clipping Eigenvalues to 0+epsilon from -1.913736902281471e-08\n",
      "2018-07-10 13:52:11 [WARNING] root: Determinant was negative! Clipping Eigenvalues to 0+epsilon from -5.732183439022265e-08\n",
      "2018-07-10 13:52:11 [WARNING] root: Determinant was negative! Clipping Eigenvalues to 0+epsilon from -1.3798002385101427e-07\n",
      "2018-07-10 13:52:11 [WARNING] root: Determinant was negative! Clipping Eigenvalues to 0+epsilon from -2.5194472641487664e-07\n",
      "2018-07-10 13:52:11 [WARNING] root: Determinant was negative! Clipping Eigenvalues to 0+epsilon from -7.415459890580678e-08\n",
      "2018-07-10 13:52:11 [WARNING] root: Determinant was negative! Clipping Eigenvalues to 0+epsilon from -9.909372522542981e-08\n",
      "2018-07-10 13:52:11 [WARNING] root: Determinant was negative! Clipping Eigenvalues to 0+epsilon from -1.4859740815609257e-07\n",
      "2018-07-10 13:52:11 [WARNING] root: Determinant was negative! Clipping Eigenvalues to 0+epsilon from -2.1854528142739582e-07\n",
      "2018-07-10 13:52:11 [WARNING] root: Determinant was negative! Clipping Eigenvalues to 0+epsilon from -9.890903385212368e-08\n",
      "2018-07-10 13:52:11 [WARNING] root: Determinant was negative! Clipping Eigenvalues to 0+epsilon from -3.289641270498578e-08\n",
      "2018-07-10 13:52:11 [WARNING] root: Determinant was negative! Clipping Eigenvalues to 0+epsilon from -1.1819467715667997e-07\n",
      "2018-07-10 13:52:11 [WARNING] root: Determinant was negative! Clipping Eigenvalues to 0+epsilon from -3.898599151841431e-11\n",
      "2018-07-10 13:52:11 [WARNING] root: Determinant was negative! Clipping Eigenvalues to 0+epsilon from -6.012132303112594e-08\n",
      "2018-07-10 13:52:11 [WARNING] root: Determinant was negative! Clipping Eigenvalues to 0+epsilon from -7.998645656925873e-08\n",
      "2018-07-10 13:52:11 [WARNING] root: Determinant was negative! Clipping Eigenvalues to 0+epsilon from -8.553072206041179e-08\n",
      "2018-07-10 13:52:11 [WARNING] root: Determinant was negative! Clipping Eigenvalues to 0+epsilon from -3.2629426982566656e-07\n",
      "2018-07-10 13:52:11 [WARNING] root: Determinant was negative! Clipping Eigenvalues to 0+epsilon from -3.859476294110209e-07\n",
      "2018-07-10 13:52:11 [WARNING] root: Determinant was negative! Clipping Eigenvalues to 0+epsilon from -7.292177173212622e-08\n",
      "2018-07-10 13:52:11 [WARNING] root: Determinant was negative! Clipping Eigenvalues to 0+epsilon from -1.0774789416245767e-07\n",
      "2018-07-10 13:52:11 [WARNING] root: Determinant was negative! Clipping Eigenvalues to 0+epsilon from -4.209242661090684e-07\n",
      "2018-07-10 13:52:11 [WARNING] root: Determinant was negative! Clipping Eigenvalues to 0+epsilon from -8.54361346114274e-08\n",
      "2018-07-10 13:52:11 [WARNING] root: Determinant was negative! Clipping Eigenvalues to 0+epsilon from -1.108794620563458e-07\n",
      "2018-07-10 13:52:11 [WARNING] root: Determinant was negative! Clipping Eigenvalues to 0+epsilon from -2.4171802692762867e-07\n",
      "2018-07-10 13:52:11 [WARNING] root: Determinant was negative! Clipping Eigenvalues to 0+epsilon from -1.3053983138888725e-07\n",
      "2018-07-10 13:52:11 [WARNING] root: Determinant was negative! Clipping Eigenvalues to 0+epsilon from -8.91072815534244e-08\n",
      "2018-07-10 13:52:11 [WARNING] root: Determinant was negative! Clipping Eigenvalues to 0+epsilon from -1.1470941529978518e-07\n",
      "2018-07-10 13:52:11 [WARNING] root: Determinant was negative! Clipping Eigenvalues to 0+epsilon from -5.617140459435177e-07\n",
      "2018-07-10 13:52:11 [WARNING] root: Determinant was negative! Clipping Eigenvalues to 0+epsilon from -2.4502712747676014e-08\n",
      "2018-07-10 13:52:11 [WARNING] root: Determinant was negative! Clipping Eigenvalues to 0+epsilon from -2.3761404577271605e-07\n",
      "2018-07-10 13:52:11 [WARNING] root: Determinant was negative! Clipping Eigenvalues to 0+epsilon from -5.178856810061916e-08\n",
      "2018-07-10 13:52:11 [WARNING] root: Determinant was negative! Clipping Eigenvalues to 0+epsilon from -4.3291649376442365e-07\n",
      "2018-07-10 13:52:11 [WARNING] root: Determinant was negative! Clipping Eigenvalues to 0+epsilon from -2.5697013938952296e-07\n",
      "2018-07-10 13:52:11 [WARNING] root: Determinant was negative! Clipping Eigenvalues to 0+epsilon from -5.0137593632371136e-08\n",
      "2018-07-10 13:52:11 [WARNING] root: Determinant was negative! Clipping Eigenvalues to 0+epsilon from -3.2859210818969586e-07\n",
      "2018-07-10 13:52:11 [WARNING] root: Determinant was negative! Clipping Eigenvalues to 0+epsilon from -7.071714236417392e-08\n",
      "2018-07-10 13:52:11 [WARNING] root: Determinant was negative! Clipping Eigenvalues to 0+epsilon from -6.042058231514602e-08\n",
      "2018-07-10 13:52:11 [ERROR] src.evaluation.evaluator: An exception occurred while training DAGMM_NNAutoEncoder_withoutWindow on Syn Extreme Outliers (mis=0.9): Lapack Error getrf : U(3,3) is 0, U is singular at /pytorch/aten/src/TH/generic/THTensorLapack.c:514\n",
      "2018-07-10 13:52:11 [ERROR] src.evaluation.evaluator: Traceback (most recent call last):\n",
      "  File \"../src/evaluation/evaluator.py\", line 122, in evaluate\n",
      "    det.fit(X_train.copy(), y_train.copy())\n",
      "  File \"../src/algorithms/dagmm.py\", line 203, in fit\n",
      "    self.dagmm_step(input_data.float())\n",
      "  File \"../src/algorithms/dagmm.py\", line 177, in dagmm_step\n",
      "    self.lambda_cov_diag)\n",
      "  File \"../src/algorithms/dagmm.py\", line 144, in loss_function\n",
      "    sample_energy, cov_diag = self.compute_energy(z, phi, mu, cov)\n",
      "  File \"../src/algorithms/dagmm.py\", line 113, in compute_energy\n",
      "    cov_inverse.append(torch.inverse(cov_k).unsqueeze(0))\n",
      "RuntimeError: Lapack Error getrf : U(3,3) is 0, U is singular at /pytorch/aten/src/TH/generic/THTensorLapack.c:514\n",
      "\n"
     ]
    },
    {
     "name": "stderr",
     "output_type": "stream",
     "text": [
      "\r",
      "                                                                               \r",
      "\r",
      " 42% (3 of 7) |###########               | Elapsed Time: 0:03:18 ETA:   0:03:14"
     ]
    },
    {
     "name": "stdout",
     "output_type": "stream",
     "text": [
      "2018-07-10 13:52:11 [INFO] src.evaluation.evaluator: Training DAGMM_NNAutoEncoder_withWindow on Syn Extreme Outliers (mis=0.9) with seed 4138928969\n"
     ]
    },
    {
     "name": "stderr",
     "output_type": "stream",
     "text": [
      "\r",
      "                                                                               \r",
      "\r",
      " 57% (4 of 7) |##############            | Elapsed Time: 0:03:22 ETA:   0:00:11"
     ]
    },
    {
     "name": "stdout",
     "output_type": "stream",
     "text": [
      "2018-07-10 13:52:15 [INFO] src.evaluation.evaluator: Training DAGMM_LSTMAutoEncoder_withWindow on Syn Extreme Outliers (mis=0.9) with seed 4138928969\n"
     ]
    },
    {
     "name": "stderr",
     "output_type": "stream",
     "text": [
      "\r",
      "                                                                               \r",
      "\r",
      " 71% (5 of 7) |##################        | Elapsed Time: 0:03:52 ETA:   0:01:00"
     ]
    },
    {
     "name": "stdout",
     "output_type": "stream",
     "text": [
      "2018-07-10 13:52:45 [INFO] src.evaluation.evaluator: Training Recurrent EBM on Syn Extreme Outliers (mis=0.9) with seed 4138928969\n"
     ]
    },
    {
     "name": "stderr",
     "output_type": "stream",
     "text": [
      "100%|██████████| 15/15 [00:06<00:00,  2.29it/s]\n",
      " 85% (6 of 7) |######################    | Elapsed Time: 0:04:11 ETA:   0:00:18"
     ]
    },
    {
     "name": "stdout",
     "output_type": "stream",
     "text": [
      "2018-07-10 13:53:04 [INFO] src.evaluation.evaluator: Training Donut on Syn Extreme Outliers (mis=0.9) with seed 4138928969\n"
     ]
    },
    {
     "name": "stderr",
     "output_type": "stream",
     "text": [
      "100%|██████████| 1/1 [00:16<00:00, 16.75s/it]\n",
      "100% (7 of 7) |##########################| Elapsed Time: 0:04:36 Time:  0:04:36\n",
      "100% (5 of 5) |##########################| Elapsed Time: 0:24:22 Time:  0:24:22\n"
     ]
    },
    {
     "name": "stdout",
     "output_type": "stream",
     "text": [
      "2018-07-10 13:53:31 [INFO] src.evaluation.evaluator: Store evaluator results at /home/thomas/work/notebooks/data_30/missing-run-0-4138928969-2018-07-10-135331.pkl\n"
     ]
    },
    {
     "name": "stderr",
     "output_type": "stream",
     "text": [
      "N/A% (0 of 7) |                          | Elapsed Time: 0:00:00 ETA:  --:--:--"
     ]
    },
    {
     "name": "stdout",
     "output_type": "stream",
     "text": [
      "2018-07-10 13:53:31 [INFO] src.evaluation.evaluator: Training LSTM-AD on Syn Extreme Outliers (mis=0.0) with seed 111904184\n"
     ]
    },
    {
     "name": "stderr",
     "output_type": "stream",
     "text": [
      "\r",
      "                                                                               \r",
      "\r",
      " 14% (1 of 7) |###                       | Elapsed Time: 0:01:41 ETA:   0:10:09"
     ]
    },
    {
     "name": "stdout",
     "output_type": "stream",
     "text": [
      "2018-07-10 13:55:13 [INFO] src.evaluation.evaluator: Training LSTMED on Syn Extreme Outliers (mis=0.0) with seed 111904184\n"
     ]
    },
    {
     "name": "stderr",
     "output_type": "stream",
     "text": [
      "\r",
      "                                                                               \r",
      "\r",
      " 28% (2 of 7) |#######                   | Elapsed Time: 0:03:18 ETA:   0:08:05"
     ]
    },
    {
     "name": "stdout",
     "output_type": "stream",
     "text": [
      "2018-07-10 13:56:50 [INFO] src.evaluation.evaluator: Training DAGMM_NNAutoEncoder_withoutWindow on Syn Extreme Outliers (mis=0.0) with seed 111904184\n",
      "2018-07-10 13:56:50 [WARNING] root: Determinant was negative! Clipping Eigenvalues to 0+epsilon from -1.2003835081486613e-07\n",
      "2018-07-10 13:56:50 [WARNING] root: Determinant was negative! Clipping Eigenvalues to 0+epsilon from -1.9084493985133122e-08\n",
      "2018-07-10 13:56:51 [WARNING] root: Determinant was negative! Clipping Eigenvalues to 0+epsilon from -2.527419837861089e-07\n",
      "2018-07-10 13:56:51 [WARNING] root: Determinant was negative! Clipping Eigenvalues to 0+epsilon from -2.494991520052281e-07\n",
      "2018-07-10 13:56:51 [WARNING] root: Determinant was negative! Clipping Eigenvalues to 0+epsilon from -2.216977890157068e-07\n",
      "2018-07-10 13:56:51 [WARNING] root: Determinant was negative! Clipping Eigenvalues to 0+epsilon from -1.6467945229692305e-08\n",
      "2018-07-10 13:56:52 [WARNING] root: Determinant was negative! Clipping Eigenvalues to 0+epsilon from -1.3281991062541465e-09\n",
      "2018-07-10 13:56:52 [WARNING] root: Determinant was negative! Clipping Eigenvalues to 0+epsilon from -6.046440148566035e-08\n"
     ]
    },
    {
     "name": "stderr",
     "output_type": "stream",
     "text": [
      "\r",
      "                                                                               \r",
      "\r",
      " 42% (3 of 7) |###########               | Elapsed Time: 0:03:22 ETA:   0:00:15"
     ]
    },
    {
     "name": "stdout",
     "output_type": "stream",
     "text": [
      "2018-07-10 13:56:54 [INFO] src.evaluation.evaluator: Training DAGMM_NNAutoEncoder_withWindow on Syn Extreme Outliers (mis=0.0) with seed 111904184\n"
     ]
    },
    {
     "name": "stderr",
     "output_type": "stream",
     "text": [
      "\r",
      "                                                                               \r",
      "\r",
      " 57% (4 of 7) |##############            | Elapsed Time: 0:03:26 ETA:   0:00:11"
     ]
    },
    {
     "name": "stdout",
     "output_type": "stream",
     "text": [
      "2018-07-10 13:56:58 [INFO] src.evaluation.evaluator: Training DAGMM_LSTMAutoEncoder_withWindow on Syn Extreme Outliers (mis=0.0) with seed 111904184\n"
     ]
    },
    {
     "name": "stderr",
     "output_type": "stream",
     "text": [
      "\r",
      "                                                                               \r",
      "\r",
      " 71% (5 of 7) |##################        | Elapsed Time: 0:03:56 ETA:   0:01:00"
     ]
    },
    {
     "name": "stdout",
     "output_type": "stream",
     "text": [
      "2018-07-10 13:57:28 [INFO] src.evaluation.evaluator: Training Recurrent EBM on Syn Extreme Outliers (mis=0.0) with seed 111904184\n"
     ]
    },
    {
     "name": "stderr",
     "output_type": "stream",
     "text": [
      "100%|██████████| 15/15 [00:06<00:00,  2.25it/s]\n",
      " 85% (6 of 7) |######################    | Elapsed Time: 0:04:16 ETA:   0:00:19"
     ]
    },
    {
     "name": "stdout",
     "output_type": "stream",
     "text": [
      "2018-07-10 13:57:47 [INFO] src.evaluation.evaluator: Training Donut on Syn Extreme Outliers (mis=0.0) with seed 111904184\n"
     ]
    },
    {
     "name": "stderr",
     "output_type": "stream",
     "text": [
      "\r",
      "  0%|          | 0/1 [00:00<?, ?it/s]"
     ]
    },
    {
     "name": "stdout",
     "output_type": "stream",
     "text": [
      "INFO:tensorflow:Restoring parameters from /tmp/tmp1pjjl7k3/variables.dat-1200\n",
      "2018-07-10 13:59:30 [INFO] tensorflow: Restoring parameters from /tmp/tmp1pjjl7k3/variables.dat-1200\n"
     ]
    },
    {
     "name": "stderr",
     "output_type": "stream",
     "text": [
      "100%|██████████| 1/1 [01:43<00:00, 103.14s/it]\n",
      "100% (7 of 7) |##########################| Elapsed Time: 0:06:07 Time:  0:06:07\n",
      "N/A% (0 of 7) |                          | Elapsed Time: 0:00:00 ETA:  --:--:--"
     ]
    },
    {
     "name": "stdout",
     "output_type": "stream",
     "text": [
      "2018-07-10 13:59:38 [INFO] src.evaluation.evaluator: Training LSTM-AD on Syn Extreme Outliers (mis=0.225) with seed 111904184\n"
     ]
    },
    {
     "name": "stderr",
     "output_type": "stream",
     "text": [
      "\r",
      "                                                                               \r",
      "\r",
      " 14% (1 of 7) |###                       | Elapsed Time: 0:01:43 ETA:   0:10:19"
     ]
    },
    {
     "name": "stdout",
     "output_type": "stream",
     "text": [
      "2018-07-10 14:01:21 [INFO] src.evaluation.evaluator: Training LSTMED on Syn Extreme Outliers (mis=0.225) with seed 111904184\n"
     ]
    },
    {
     "name": "stderr",
     "output_type": "stream",
     "text": [
      "\r",
      "                                                                               \r",
      "\r",
      " 28% (2 of 7) |#######                   | Elapsed Time: 0:03:20 ETA:   0:08:05"
     ]
    },
    {
     "name": "stdout",
     "output_type": "stream",
     "text": [
      "2018-07-10 14:02:58 [INFO] src.evaluation.evaluator: Training DAGMM_NNAutoEncoder_withoutWindow on Syn Extreme Outliers (mis=0.225) with seed 111904184\n",
      "2018-07-10 14:02:58 [WARNING] root: Determinant was negative! Clipping Eigenvalues to 0+epsilon from -8.209594284380728e-07\n",
      "2018-07-10 14:02:58 [WARNING] root: Determinant was negative! Clipping Eigenvalues to 0+epsilon from -2.6435009203851223e-07\n",
      "2018-07-10 14:02:58 [WARNING] root: Determinant was negative! Clipping Eigenvalues to 0+epsilon from -4.684129706333806e-08\n",
      "2018-07-10 14:02:58 [WARNING] root: Determinant was negative! Clipping Eigenvalues to 0+epsilon from -2.2696498902519124e-08\n",
      "2018-07-10 14:02:58 [WARNING] root: Determinant was negative! Clipping Eigenvalues to 0+epsilon from -9.720882587771484e-08\n",
      "2018-07-10 14:02:58 [ERROR] src.evaluation.evaluator: An exception occurred while training DAGMM_NNAutoEncoder_withoutWindow on Syn Extreme Outliers (mis=0.225): Lapack Error getrf : U(3,3) is 0, U is singular at /pytorch/aten/src/TH/generic/THTensorLapack.c:514\n",
      "2018-07-10 14:02:58 [ERROR] src.evaluation.evaluator: Traceback (most recent call last):\n",
      "  File \"../src/evaluation/evaluator.py\", line 122, in evaluate\n",
      "    det.fit(X_train.copy(), y_train.copy())\n",
      "  File \"../src/algorithms/dagmm.py\", line 203, in fit\n",
      "    self.dagmm_step(input_data.float())\n",
      "  File \"../src/algorithms/dagmm.py\", line 177, in dagmm_step\n",
      "    self.lambda_cov_diag)\n",
      "  File \"../src/algorithms/dagmm.py\", line 144, in loss_function\n",
      "    sample_energy, cov_diag = self.compute_energy(z, phi, mu, cov)\n",
      "  File \"../src/algorithms/dagmm.py\", line 113, in compute_energy\n",
      "    cov_inverse.append(torch.inverse(cov_k).unsqueeze(0))\n",
      "RuntimeError: Lapack Error getrf : U(3,3) is 0, U is singular at /pytorch/aten/src/TH/generic/THTensorLapack.c:514\n",
      "\n"
     ]
    },
    {
     "name": "stderr",
     "output_type": "stream",
     "text": [
      "\r",
      "                                                                               \r",
      "\r",
      " 42% (3 of 7) |###########               | Elapsed Time: 0:03:20 ETA:   0:06:28"
     ]
    },
    {
     "name": "stdout",
     "output_type": "stream",
     "text": [
      "2018-07-10 14:02:58 [INFO] src.evaluation.evaluator: Training DAGMM_NNAutoEncoder_withWindow on Syn Extreme Outliers (mis=0.225) with seed 111904184\n"
     ]
    },
    {
     "name": "stderr",
     "output_type": "stream",
     "text": [
      "\r",
      "                                                                               \r",
      "\r",
      " 57% (4 of 7) |##############            | Elapsed Time: 0:03:24 ETA:   0:00:06"
     ]
    },
    {
     "name": "stdout",
     "output_type": "stream",
     "text": [
      "2018-07-10 14:03:02 [INFO] src.evaluation.evaluator: Training DAGMM_LSTMAutoEncoder_withWindow on Syn Extreme Outliers (mis=0.225) with seed 111904184\n"
     ]
    },
    {
     "name": "stderr",
     "output_type": "stream",
     "text": [
      "\r",
      "                                                                               \r",
      "\r",
      " 71% (5 of 7) |##################        | Elapsed Time: 0:03:54 ETA:   0:01:00"
     ]
    },
    {
     "name": "stdout",
     "output_type": "stream",
     "text": [
      "2018-07-10 14:03:33 [INFO] src.evaluation.evaluator: Training Recurrent EBM on Syn Extreme Outliers (mis=0.225) with seed 111904184\n"
     ]
    },
    {
     "name": "stderr",
     "output_type": "stream",
     "text": [
      "100%|██████████| 15/15 [00:06<00:00,  2.28it/s]\n",
      " 85% (6 of 7) |######################    | Elapsed Time: 0:04:13 ETA:   0:00:19"
     ]
    },
    {
     "name": "stdout",
     "output_type": "stream",
     "text": [
      "2018-07-10 14:03:52 [INFO] src.evaluation.evaluator: Training Donut on Syn Extreme Outliers (mis=0.225) with seed 111904184\n"
     ]
    },
    {
     "name": "stderr",
     "output_type": "stream",
     "text": [
      "100%|██████████| 1/1 [00:17<00:00, 17.71s/it]\n",
      "100% (7 of 7) |##########################| Elapsed Time: 0:04:39 Time:  0:04:39\n",
      "N/A% (0 of 7) |                          | Elapsed Time: 0:00:00 ETA:  --:--:--"
     ]
    },
    {
     "name": "stdout",
     "output_type": "stream",
     "text": [
      "2018-07-10 14:04:18 [INFO] src.evaluation.evaluator: Training LSTM-AD on Syn Extreme Outliers (mis=0.45) with seed 111904184\n"
     ]
    },
    {
     "name": "stderr",
     "output_type": "stream",
     "text": [
      "\r",
      "                                                                               \r",
      "\r",
      " 14% (1 of 7) |###                       | Elapsed Time: 0:01:41 ETA:   0:10:10"
     ]
    },
    {
     "name": "stdout",
     "output_type": "stream",
     "text": [
      "2018-07-10 14:05:59 [INFO] src.evaluation.evaluator: Training LSTMED on Syn Extreme Outliers (mis=0.45) with seed 111904184\n"
     ]
    },
    {
     "name": "stderr",
     "output_type": "stream",
     "text": [
      "\r",
      "                                                                               \r",
      "\r",
      " 28% (2 of 7) |#######                   | Elapsed Time: 0:03:18 ETA:   0:08:05"
     ]
    },
    {
     "name": "stdout",
     "output_type": "stream",
     "text": [
      "2018-07-10 14:07:37 [INFO] src.evaluation.evaluator: Training DAGMM_NNAutoEncoder_withoutWindow on Syn Extreme Outliers (mis=0.45) with seed 111904184\n",
      "2018-07-10 14:07:37 [WARNING] root: Determinant was negative! Clipping Eigenvalues to 0+epsilon from -1.6031371785629744e-08\n",
      "2018-07-10 14:07:37 [WARNING] root: Determinant was negative! Clipping Eigenvalues to 0+epsilon from -3.4620143196661957e-08\n",
      "2018-07-10 14:07:37 [WARNING] root: Determinant was negative! Clipping Eigenvalues to 0+epsilon from -2.39139382074427e-07\n",
      "2018-07-10 14:07:37 [WARNING] root: Determinant was negative! Clipping Eigenvalues to 0+epsilon from -4.2766328078869265e-07\n",
      "2018-07-10 14:07:37 [WARNING] root: Determinant was negative! Clipping Eigenvalues to 0+epsilon from -5.890733518754132e-07\n",
      "2018-07-10 14:07:37 [WARNING] root: Determinant was negative! Clipping Eigenvalues to 0+epsilon from -6.638850322815415e-07\n",
      "2018-07-10 14:07:37 [WARNING] root: Determinant was negative! Clipping Eigenvalues to 0+epsilon from -3.938024804028828e-07\n",
      "2018-07-10 14:07:37 [WARNING] root: Determinant was negative! Clipping Eigenvalues to 0+epsilon from -1.137348561996987e-07\n",
      "2018-07-10 14:07:37 [WARNING] root: Determinant was negative! Clipping Eigenvalues to 0+epsilon from -1.0740681091192528e-06\n",
      "2018-07-10 14:07:37 [WARNING] root: Determinant was negative! Clipping Eigenvalues to 0+epsilon from -4.045653767548174e-08\n",
      "2018-07-10 14:07:37 [WARNING] root: Determinant was negative! Clipping Eigenvalues to 0+epsilon from -7.681367719669652e-08\n",
      "2018-07-10 14:07:37 [WARNING] root: Determinant was negative! Clipping Eigenvalues to 0+epsilon from -1.0582411391624191e-07\n",
      "2018-07-10 14:07:37 [WARNING] root: Determinant was negative! Clipping Eigenvalues to 0+epsilon from -4.4284485056778067e-07\n",
      "2018-07-10 14:07:37 [WARNING] root: Determinant was negative! Clipping Eigenvalues to 0+epsilon from -5.590988507719885e-07\n",
      "2018-07-10 14:07:37 [WARNING] root: Determinant was negative! Clipping Eigenvalues to 0+epsilon from -1.297877361139399e-08\n",
      "2018-07-10 14:07:37 [WARNING] root: Determinant was negative! Clipping Eigenvalues to 0+epsilon from -4.497812824411085e-07\n",
      "2018-07-10 14:07:37 [WARNING] root: Determinant was negative! Clipping Eigenvalues to 0+epsilon from -5.177002435630129e-07\n",
      "2018-07-10 14:07:37 [WARNING] root: Determinant was negative! Clipping Eigenvalues to 0+epsilon from -7.734277573945292e-08\n",
      "2018-07-10 14:07:37 [WARNING] root: Determinant was negative! Clipping Eigenvalues to 0+epsilon from -5.567638368120242e-07\n",
      "2018-07-10 14:07:37 [WARNING] root: Determinant was negative! Clipping Eigenvalues to 0+epsilon from -1.60659183734424e-07\n",
      "2018-07-10 14:07:37 [WARNING] root: Determinant was negative! Clipping Eigenvalues to 0+epsilon from -2.595283774553536e-07\n",
      "2018-07-10 14:07:37 [WARNING] root: Determinant was negative! Clipping Eigenvalues to 0+epsilon from -1.2024811724131723e-07\n",
      "2018-07-10 14:07:37 [WARNING] root: Determinant was negative! Clipping Eigenvalues to 0+epsilon from -3.912533657057793e-07\n",
      "2018-07-10 14:07:37 [WARNING] root: Determinant was negative! Clipping Eigenvalues to 0+epsilon from -3.65740575603013e-08\n",
      "2018-07-10 14:07:37 [WARNING] root: Determinant was negative! Clipping Eigenvalues to 0+epsilon from -5.66450353289838e-07\n",
      "2018-07-10 14:07:37 [WARNING] root: Determinant was negative! Clipping Eigenvalues to 0+epsilon from -1.6187234885833846e-09\n",
      "2018-07-10 14:07:37 [WARNING] root: Determinant was negative! Clipping Eigenvalues to 0+epsilon from -5.584654445556225e-07\n",
      "2018-07-10 14:07:37 [WARNING] root: Determinant was negative! Clipping Eigenvalues to 0+epsilon from -2.9507066301448504e-07\n",
      "2018-07-10 14:07:37 [WARNING] root: Determinant was negative! Clipping Eigenvalues to 0+epsilon from -5.276789352137712e-07\n",
      "2018-07-10 14:07:37 [WARNING] root: Determinant was negative! Clipping Eigenvalues to 0+epsilon from -4.28989928025203e-08\n",
      "2018-07-10 14:07:37 [WARNING] root: Determinant was negative! Clipping Eigenvalues to 0+epsilon from -1.0573775170996669e-06\n",
      "2018-07-10 14:07:37 [WARNING] root: Determinant was negative! Clipping Eigenvalues to 0+epsilon from -2.0644947085202148e-07\n",
      "2018-07-10 14:07:37 [WARNING] root: Determinant was negative! Clipping Eigenvalues to 0+epsilon from -1.2498128398874542e-07\n",
      "2018-07-10 14:07:37 [WARNING] root: Determinant was negative! Clipping Eigenvalues to 0+epsilon from -3.889321646965982e-07\n",
      "2018-07-10 14:07:37 [WARNING] root: Determinant was negative! Clipping Eigenvalues to 0+epsilon from -1.637156117340055e-07\n",
      "2018-07-10 14:07:37 [WARNING] root: Determinant was negative! Clipping Eigenvalues to 0+epsilon from -9.045419968600754e-10\n",
      "2018-07-10 14:07:37 [WARNING] root: Determinant was negative! Clipping Eigenvalues to 0+epsilon from -1.7704314814181998e-07\n",
      "2018-07-10 14:07:37 [WARNING] root: Determinant was negative! Clipping Eigenvalues to 0+epsilon from -1.48951812661835e-07\n",
      "2018-07-10 14:07:37 [WARNING] root: Determinant was negative! Clipping Eigenvalues to 0+epsilon from -4.3072543576272437e-07\n",
      "2018-07-10 14:07:37 [WARNING] root: Determinant was negative! Clipping Eigenvalues to 0+epsilon from -1.0924994597871773e-07\n",
      "2018-07-10 14:07:37 [WARNING] root: Determinant was negative! Clipping Eigenvalues to 0+epsilon from -2.696676801861031e-07\n",
      "2018-07-10 14:07:37 [WARNING] root: Determinant was negative! Clipping Eigenvalues to 0+epsilon from -2.1117617166055425e-07\n",
      "2018-07-10 14:07:37 [WARNING] root: Determinant was negative! Clipping Eigenvalues to 0+epsilon from -4.835890194954118e-07\n",
      "2018-07-10 14:07:37 [WARNING] root: Determinant was negative! Clipping Eigenvalues to 0+epsilon from -9.002033607430349e-07\n",
      "2018-07-10 14:07:37 [WARNING] root: Determinant was negative! Clipping Eigenvalues to 0+epsilon from -5.1191626937452384e-08\n",
      "2018-07-10 14:07:37 [WARNING] root: Determinant was negative! Clipping Eigenvalues to 0+epsilon from -3.915109232366376e-07\n",
      "2018-07-10 14:07:37 [WARNING] root: Determinant was negative! Clipping Eigenvalues to 0+epsilon from -2.0348441864825872e-07\n",
      "2018-07-10 14:07:37 [WARNING] root: Determinant was negative! Clipping Eigenvalues to 0+epsilon from -2.763196107480326e-07\n",
      "2018-07-10 14:07:37 [WARNING] root: Determinant was negative! Clipping Eigenvalues to 0+epsilon from -8.348791880052886e-07\n",
      "2018-07-10 14:07:37 [WARNING] root: Determinant was negative! Clipping Eigenvalues to 0+epsilon from -3.0305511700134957e-07\n",
      "2018-07-10 14:07:37 [WARNING] root: Determinant was negative! Clipping Eigenvalues to 0+epsilon from -5.738453978665348e-07\n",
      "2018-07-10 14:07:37 [WARNING] root: Determinant was negative! Clipping Eigenvalues to 0+epsilon from -3.225434852538456e-07\n",
      "2018-07-10 14:07:37 [WARNING] root: Determinant was negative! Clipping Eigenvalues to 0+epsilon from -1.3001709930904326e-07\n",
      "2018-07-10 14:07:37 [WARNING] root: Determinant was negative! Clipping Eigenvalues to 0+epsilon from -5.690927551427194e-08\n",
      "2018-07-10 14:07:37 [WARNING] root: Determinant was negative! Clipping Eigenvalues to 0+epsilon from -4.88008026877651e-07\n",
      "2018-07-10 14:07:37 [WARNING] root: Determinant was negative! Clipping Eigenvalues to 0+epsilon from -6.419809324142989e-07\n",
      "2018-07-10 14:07:37 [WARNING] root: Determinant was negative! Clipping Eigenvalues to 0+epsilon from -4.4164528389956104e-07\n",
      "2018-07-10 14:07:37 [WARNING] root: Determinant was negative! Clipping Eigenvalues to 0+epsilon from -2.4982734103673465e-08\n",
      "2018-07-10 14:07:37 [WARNING] root: Determinant was negative! Clipping Eigenvalues to 0+epsilon from -8.795796588856319e-07\n",
      "2018-07-10 14:07:37 [WARNING] root: Determinant was negative! Clipping Eigenvalues to 0+epsilon from -3.2885739642551925e-07\n",
      "2018-07-10 14:07:37 [WARNING] root: Determinant was negative! Clipping Eigenvalues to 0+epsilon from -2.464705914917431e-07\n",
      "2018-07-10 14:07:38 [WARNING] root: Determinant was negative! Clipping Eigenvalues to 0+epsilon from -1.8585832606277108e-07\n",
      "2018-07-10 14:07:38 [WARNING] root: Determinant was negative! Clipping Eigenvalues to 0+epsilon from -8.54998745580815e-07\n",
      "2018-07-10 14:07:38 [WARNING] root: Determinant was negative! Clipping Eigenvalues to 0+epsilon from -1.085995222638303e-07\n",
      "2018-07-10 14:07:38 [WARNING] root: Determinant was negative! Clipping Eigenvalues to 0+epsilon from -2.0266497813281603e-08\n"
     ]
    },
    {
     "name": "stdout",
     "output_type": "stream",
     "text": [
      "2018-07-10 14:07:38 [WARNING] root: Determinant was negative! Clipping Eigenvalues to 0+epsilon from -4.356054148502153e-07\n",
      "2018-07-10 14:07:38 [WARNING] root: Determinant was negative! Clipping Eigenvalues to 0+epsilon from -3.4366816059616667e-09\n",
      "2018-07-10 14:07:38 [WARNING] root: Determinant was negative! Clipping Eigenvalues to 0+epsilon from -4.877167611994082e-07\n",
      "2018-07-10 14:07:38 [WARNING] root: Determinant was negative! Clipping Eigenvalues to 0+epsilon from -3.928235514649714e-07\n",
      "2018-07-10 14:07:38 [WARNING] root: Determinant was negative! Clipping Eigenvalues to 0+epsilon from -4.718288550975558e-07\n",
      "2018-07-10 14:07:38 [WARNING] root: Determinant was negative! Clipping Eigenvalues to 0+epsilon from -2.57453450558387e-07\n",
      "2018-07-10 14:07:38 [WARNING] root: Determinant was negative! Clipping Eigenvalues to 0+epsilon from -1.3549069421969762e-07\n",
      "2018-07-10 14:07:38 [WARNING] root: Determinant was negative! Clipping Eigenvalues to 0+epsilon from -8.29225825782487e-08\n",
      "2018-07-10 14:07:38 [WARNING] root: Determinant was negative! Clipping Eigenvalues to 0+epsilon from -1.2752095379653383e-08\n",
      "2018-07-10 14:07:38 [WARNING] root: Determinant was negative! Clipping Eigenvalues to 0+epsilon from -5.509084530785913e-07\n",
      "2018-07-10 14:07:38 [WARNING] root: Determinant was negative! Clipping Eigenvalues to 0+epsilon from -3.0901023251317383e-07\n",
      "2018-07-10 14:07:38 [WARNING] root: Determinant was negative! Clipping Eigenvalues to 0+epsilon from -4.545924525700684e-07\n",
      "2018-07-10 14:07:38 [WARNING] root: Determinant was negative! Clipping Eigenvalues to 0+epsilon from -3.5989822322335385e-07\n",
      "2018-07-10 14:07:38 [WARNING] root: Determinant was negative! Clipping Eigenvalues to 0+epsilon from -2.6539933628555445e-07\n",
      "2018-07-10 14:07:38 [WARNING] root: Determinant was negative! Clipping Eigenvalues to 0+epsilon from -2.232333855545221e-07\n",
      "2018-07-10 14:07:38 [WARNING] root: Determinant was negative! Clipping Eigenvalues to 0+epsilon from -3.7801166286044463e-07\n",
      "2018-07-10 14:07:38 [WARNING] root: Determinant was negative! Clipping Eigenvalues to 0+epsilon from -1.5871503933340136e-07\n",
      "2018-07-10 14:07:38 [WARNING] root: Determinant was negative! Clipping Eigenvalues to 0+epsilon from -2.0440184300696274e-07\n",
      "2018-07-10 14:07:38 [WARNING] root: Determinant was negative! Clipping Eigenvalues to 0+epsilon from -7.950020375346867e-08\n",
      "2018-07-10 14:07:38 [WARNING] root: Determinant was negative! Clipping Eigenvalues to 0+epsilon from -2.793247517729469e-07\n",
      "2018-07-10 14:07:38 [WARNING] root: Determinant was negative! Clipping Eigenvalues to 0+epsilon from -2.3100369617168326e-08\n",
      "2018-07-10 14:07:38 [WARNING] root: Determinant was negative! Clipping Eigenvalues to 0+epsilon from -7.00194613401095e-09\n",
      "2018-07-10 14:07:38 [WARNING] root: Determinant was negative! Clipping Eigenvalues to 0+epsilon from -1.4616534826927818e-07\n",
      "2018-07-10 14:07:38 [WARNING] root: Determinant was negative! Clipping Eigenvalues to 0+epsilon from -1.061362013388134e-06\n",
      "2018-07-10 14:07:38 [WARNING] root: Determinant was negative! Clipping Eigenvalues to 0+epsilon from -2.315339919789494e-08\n",
      "2018-07-10 14:07:38 [WARNING] root: Determinant was negative! Clipping Eigenvalues to 0+epsilon from -1.6467784291762655e-07\n",
      "2018-07-10 14:07:38 [WARNING] root: Determinant was negative! Clipping Eigenvalues to 0+epsilon from -1.7166813393032498e-07\n",
      "2018-07-10 14:07:38 [WARNING] root: Determinant was negative! Clipping Eigenvalues to 0+epsilon from -2.2170701186041697e-07\n",
      "2018-07-10 14:07:38 [WARNING] root: Determinant was negative! Clipping Eigenvalues to 0+epsilon from -3.2153548090718687e-07\n",
      "2018-07-10 14:07:38 [WARNING] root: Determinant was negative! Clipping Eigenvalues to 0+epsilon from -2.422998761630879e-07\n",
      "2018-07-10 14:07:38 [WARNING] root: Determinant was negative! Clipping Eigenvalues to 0+epsilon from -4.938922870678653e-07\n",
      "2018-07-10 14:07:38 [WARNING] root: Determinant was negative! Clipping Eigenvalues to 0+epsilon from -1.2336439567661728e-06\n",
      "2018-07-10 14:07:38 [WARNING] root: Determinant was negative! Clipping Eigenvalues to 0+epsilon from -4.2282374579372117e-07\n",
      "2018-07-10 14:07:38 [WARNING] root: Determinant was negative! Clipping Eigenvalues to 0+epsilon from -3.38300907287703e-07\n",
      "2018-07-10 14:07:38 [WARNING] root: Determinant was negative! Clipping Eigenvalues to 0+epsilon from -2.8560086207107815e-07\n",
      "2018-07-10 14:07:38 [WARNING] root: Determinant was negative! Clipping Eigenvalues to 0+epsilon from -1.0293992858123602e-07\n",
      "2018-07-10 14:07:38 [WARNING] root: Determinant was negative! Clipping Eigenvalues to 0+epsilon from -1.4437570428071922e-07\n",
      "2018-07-10 14:07:38 [WARNING] root: Determinant was negative! Clipping Eigenvalues to 0+epsilon from -4.845151693189109e-07\n",
      "2018-07-10 14:07:38 [WARNING] root: Determinant was negative! Clipping Eigenvalues to 0+epsilon from -4.574900458464981e-07\n",
      "2018-07-10 14:07:38 [WARNING] root: Determinant was negative! Clipping Eigenvalues to 0+epsilon from -7.777438781886303e-07\n",
      "2018-07-10 14:07:38 [WARNING] root: Determinant was negative! Clipping Eigenvalues to 0+epsilon from -4.448191930350731e-07\n",
      "2018-07-10 14:07:38 [WARNING] root: Determinant was negative! Clipping Eigenvalues to 0+epsilon from -9.206898354818804e-09\n",
      "2018-07-10 14:07:38 [ERROR] src.evaluation.evaluator: An exception occurred while training DAGMM_NNAutoEncoder_withoutWindow on Syn Extreme Outliers (mis=0.45): Lapack Error getrf : U(3,3) is 0, U is singular at /pytorch/aten/src/TH/generic/THTensorLapack.c:514\n",
      "2018-07-10 14:07:38 [ERROR] src.evaluation.evaluator: Traceback (most recent call last):\n",
      "  File \"../src/evaluation/evaluator.py\", line 122, in evaluate\n",
      "    det.fit(X_train.copy(), y_train.copy())\n",
      "  File \"../src/algorithms/dagmm.py\", line 203, in fit\n",
      "    self.dagmm_step(input_data.float())\n",
      "  File \"../src/algorithms/dagmm.py\", line 177, in dagmm_step\n",
      "    self.lambda_cov_diag)\n",
      "  File \"../src/algorithms/dagmm.py\", line 144, in loss_function\n",
      "    sample_energy, cov_diag = self.compute_energy(z, phi, mu, cov)\n",
      "  File \"../src/algorithms/dagmm.py\", line 113, in compute_energy\n",
      "    cov_inverse.append(torch.inverse(cov_k).unsqueeze(0))\n",
      "RuntimeError: Lapack Error getrf : U(3,3) is 0, U is singular at /pytorch/aten/src/TH/generic/THTensorLapack.c:514\n",
      "\n"
     ]
    },
    {
     "name": "stderr",
     "output_type": "stream",
     "text": [
      "\r",
      "                                                                               \r",
      "\r",
      " 42% (3 of 7) |###########               | Elapsed Time: 0:03:20 ETA:   0:03:17"
     ]
    },
    {
     "name": "stdout",
     "output_type": "stream",
     "text": [
      "2018-07-10 14:07:38 [INFO] src.evaluation.evaluator: Training DAGMM_NNAutoEncoder_withWindow on Syn Extreme Outliers (mis=0.45) with seed 111904184\n"
     ]
    },
    {
     "name": "stderr",
     "output_type": "stream",
     "text": [
      "\r",
      "                                                                               \r",
      "\r",
      " 57% (4 of 7) |##############            | Elapsed Time: 0:03:24 ETA:   0:00:11"
     ]
    },
    {
     "name": "stdout",
     "output_type": "stream",
     "text": [
      "2018-07-10 14:07:42 [INFO] src.evaluation.evaluator: Training DAGMM_LSTMAutoEncoder_withWindow on Syn Extreme Outliers (mis=0.45) with seed 111904184\n"
     ]
    },
    {
     "name": "stderr",
     "output_type": "stream",
     "text": [
      "\r",
      "                                                                               \r",
      "\r",
      " 71% (5 of 7) |##################        | Elapsed Time: 0:03:54 ETA:   0:01:00"
     ]
    },
    {
     "name": "stdout",
     "output_type": "stream",
     "text": [
      "2018-07-10 14:08:12 [INFO] src.evaluation.evaluator: Training Recurrent EBM on Syn Extreme Outliers (mis=0.45) with seed 111904184\n"
     ]
    },
    {
     "name": "stderr",
     "output_type": "stream",
     "text": [
      "100%|██████████| 15/15 [00:06<00:00,  2.27it/s]\n",
      " 85% (6 of 7) |######################    | Elapsed Time: 0:04:14 ETA:   0:00:19"
     ]
    },
    {
     "name": "stdout",
     "output_type": "stream",
     "text": [
      "2018-07-10 14:08:32 [INFO] src.evaluation.evaluator: Training Donut on Syn Extreme Outliers (mis=0.45) with seed 111904184\n"
     ]
    },
    {
     "name": "stderr",
     "output_type": "stream",
     "text": [
      "100%|██████████| 1/1 [00:18<00:00, 18.26s/it]\n",
      "100% (7 of 7) |##########################| Elapsed Time: 0:04:40 Time:  0:04:40\n",
      "N/A% (0 of 7) |                          | Elapsed Time: 0:00:00 ETA:  --:--:--"
     ]
    },
    {
     "name": "stdout",
     "output_type": "stream",
     "text": [
      "2018-07-10 14:08:58 [INFO] src.evaluation.evaluator: Training LSTM-AD on Syn Extreme Outliers (mis=0.675) with seed 111904184\n"
     ]
    },
    {
     "name": "stderr",
     "output_type": "stream",
     "text": [
      "\r",
      "                                                                               \r",
      "\r",
      " 14% (1 of 7) |###                       | Elapsed Time: 0:01:41 ETA:   0:10:11"
     ]
    },
    {
     "name": "stdout",
     "output_type": "stream",
     "text": [
      "2018-07-10 14:10:40 [INFO] src.evaluation.evaluator: Training LSTMED on Syn Extreme Outliers (mis=0.675) with seed 111904184\n"
     ]
    },
    {
     "name": "stderr",
     "output_type": "stream",
     "text": [
      "\r",
      "                                                                               \r",
      "\r",
      " 28% (2 of 7) |#######                   | Elapsed Time: 0:03:18 ETA:   0:08:04"
     ]
    },
    {
     "name": "stdout",
     "output_type": "stream",
     "text": [
      "2018-07-10 14:12:17 [INFO] src.evaluation.evaluator: Training DAGMM_NNAutoEncoder_withoutWindow on Syn Extreme Outliers (mis=0.675) with seed 111904184\n",
      "2018-07-10 14:12:17 [WARNING] root: Determinant was negative! Clipping Eigenvalues to 0+epsilon from -1.4090280942014033e-08\n",
      "2018-07-10 14:12:17 [WARNING] root: Determinant was negative! Clipping Eigenvalues to 0+epsilon from -4.832403988075384e-07\n",
      "2018-07-10 14:12:17 [WARNING] root: Determinant was negative! Clipping Eigenvalues to 0+epsilon from -5.119309207657352e-07\n",
      "2018-07-10 14:12:17 [WARNING] root: Determinant was negative! Clipping Eigenvalues to 0+epsilon from -3.9465965073759435e-07\n",
      "2018-07-10 14:12:17 [WARNING] root: Determinant was negative! Clipping Eigenvalues to 0+epsilon from -4.6512141693710873e-08\n",
      "2018-07-10 14:12:17 [WARNING] root: Determinant was negative! Clipping Eigenvalues to 0+epsilon from -2.0968476732718955e-08\n",
      "2018-07-10 14:12:17 [WARNING] root: Determinant was negative! Clipping Eigenvalues to 0+epsilon from -3.666498571419652e-07\n",
      "2018-07-10 14:12:17 [WARNING] root: Determinant was negative! Clipping Eigenvalues to 0+epsilon from -4.794359824700223e-07\n",
      "2018-07-10 14:12:17 [WARNING] root: Determinant was negative! Clipping Eigenvalues to 0+epsilon from -5.095366191198991e-07\n",
      "2018-07-10 14:12:17 [WARNING] root: Determinant was negative! Clipping Eigenvalues to 0+epsilon from -7.614442409931144e-08\n",
      "2018-07-10 14:12:17 [ERROR] src.evaluation.evaluator: An exception occurred while training DAGMM_NNAutoEncoder_withoutWindow on Syn Extreme Outliers (mis=0.675): Lapack Error getrf : U(3,3) is 0, U is singular at /pytorch/aten/src/TH/generic/THTensorLapack.c:514\n",
      "2018-07-10 14:12:17 [ERROR] src.evaluation.evaluator: Traceback (most recent call last):\n",
      "  File \"../src/evaluation/evaluator.py\", line 122, in evaluate\n",
      "    det.fit(X_train.copy(), y_train.copy())\n",
      "  File \"../src/algorithms/dagmm.py\", line 203, in fit\n",
      "    self.dagmm_step(input_data.float())\n",
      "  File \"../src/algorithms/dagmm.py\", line 177, in dagmm_step\n",
      "    self.lambda_cov_diag)\n",
      "  File \"../src/algorithms/dagmm.py\", line 144, in loss_function\n",
      "    sample_energy, cov_diag = self.compute_energy(z, phi, mu, cov)\n",
      "  File \"../src/algorithms/dagmm.py\", line 113, in compute_energy\n",
      "    cov_inverse.append(torch.inverse(cov_k).unsqueeze(0))\n",
      "RuntimeError: Lapack Error getrf : U(3,3) is 0, U is singular at /pytorch/aten/src/TH/generic/THTensorLapack.c:514\n",
      "\n"
     ]
    },
    {
     "name": "stderr",
     "output_type": "stream",
     "text": [
      "\r",
      "                                                                               \r",
      "\r",
      " 42% (3 of 7) |###########               | Elapsed Time: 0:03:18 ETA:   0:06:27"
     ]
    },
    {
     "name": "stdout",
     "output_type": "stream",
     "text": [
      "2018-07-10 14:12:17 [INFO] src.evaluation.evaluator: Training DAGMM_NNAutoEncoder_withWindow on Syn Extreme Outliers (mis=0.675) with seed 111904184\n"
     ]
    },
    {
     "name": "stderr",
     "output_type": "stream",
     "text": [
      "\r",
      "                                                                               \r",
      "\r",
      " 57% (4 of 7) |##############            | Elapsed Time: 0:03:22 ETA:   0:00:06"
     ]
    },
    {
     "name": "stdout",
     "output_type": "stream",
     "text": [
      "2018-07-10 14:12:21 [INFO] src.evaluation.evaluator: Training DAGMM_LSTMAutoEncoder_withWindow on Syn Extreme Outliers (mis=0.675) with seed 111904184\n"
     ]
    },
    {
     "name": "stderr",
     "output_type": "stream",
     "text": [
      "\r",
      "                                                                               \r",
      "\r",
      " 71% (5 of 7) |##################        | Elapsed Time: 0:03:53 ETA:   0:01:00"
     ]
    },
    {
     "name": "stdout",
     "output_type": "stream",
     "text": [
      "2018-07-10 14:12:52 [INFO] src.evaluation.evaluator: Training Recurrent EBM on Syn Extreme Outliers (mis=0.675) with seed 111904184\n"
     ]
    },
    {
     "name": "stderr",
     "output_type": "stream",
     "text": [
      "100%|██████████| 15/15 [00:06<00:00,  2.26it/s]\n",
      " 85% (6 of 7) |######################    | Elapsed Time: 0:04:13 ETA:   0:00:20"
     ]
    },
    {
     "name": "stdout",
     "output_type": "stream",
     "text": [
      "2018-07-10 14:13:12 [INFO] src.evaluation.evaluator: Training Donut on Syn Extreme Outliers (mis=0.675) with seed 111904184\n"
     ]
    },
    {
     "name": "stderr",
     "output_type": "stream",
     "text": [
      "100%|██████████| 1/1 [00:18<00:00, 18.83s/it]\n",
      "100% (7 of 7) |##########################| Elapsed Time: 0:04:40 Time:  0:04:40\n",
      "N/A% (0 of 7) |                          | Elapsed Time: 0:00:00 ETA:  --:--:--"
     ]
    },
    {
     "name": "stdout",
     "output_type": "stream",
     "text": [
      "2018-07-10 14:13:39 [INFO] src.evaluation.evaluator: Training LSTM-AD on Syn Extreme Outliers (mis=0.9) with seed 111904184\n"
     ]
    },
    {
     "name": "stderr",
     "output_type": "stream",
     "text": [
      "\r",
      "                                                                               \r",
      "\r",
      " 14% (1 of 7) |###                       | Elapsed Time: 0:01:41 ETA:   0:10:09"
     ]
    },
    {
     "name": "stdout",
     "output_type": "stream",
     "text": [
      "2018-07-10 14:15:21 [INFO] src.evaluation.evaluator: Training LSTMED on Syn Extreme Outliers (mis=0.9) with seed 111904184\n"
     ]
    },
    {
     "name": "stderr",
     "output_type": "stream",
     "text": [
      "\r",
      "                                                                               \r",
      "\r",
      " 28% (2 of 7) |#######                   | Elapsed Time: 0:03:18 ETA:   0:08:05"
     ]
    },
    {
     "name": "stdout",
     "output_type": "stream",
     "text": [
      "2018-07-10 14:16:58 [INFO] src.evaluation.evaluator: Training DAGMM_NNAutoEncoder_withoutWindow on Syn Extreme Outliers (mis=0.9) with seed 111904184\n",
      "2018-07-10 14:16:58 [WARNING] root: Determinant was negative! Clipping Eigenvalues to 0+epsilon from -3.019328431719259e-08\n",
      "2018-07-10 14:16:58 [WARNING] root: Determinant was negative! Clipping Eigenvalues to 0+epsilon from -4.346538560184854e-07\n",
      "2018-07-10 14:16:58 [WARNING] root: Determinant was negative! Clipping Eigenvalues to 0+epsilon from -1.1677611411187172e-07\n",
      "2018-07-10 14:16:58 [WARNING] root: Determinant was negative! Clipping Eigenvalues to 0+epsilon from -8.253683603243189e-08\n",
      "2018-07-10 14:16:58 [WARNING] root: Determinant was negative! Clipping Eigenvalues to 0+epsilon from -1.1772914376706467e-07\n",
      "2018-07-10 14:16:58 [WARNING] root: Determinant was negative! Clipping Eigenvalues to 0+epsilon from -2.7840549421398464e-08\n",
      "2018-07-10 14:16:58 [WARNING] root: Determinant was negative! Clipping Eigenvalues to 0+epsilon from -6.764100390910244e-08\n",
      "2018-07-10 14:16:58 [WARNING] root: Determinant was negative! Clipping Eigenvalues to 0+epsilon from -3.502265499832902e-08\n",
      "2018-07-10 14:16:58 [WARNING] root: Determinant was negative! Clipping Eigenvalues to 0+epsilon from -8.011372898408808e-08\n",
      "2018-07-10 14:16:58 [WARNING] root: Determinant was negative! Clipping Eigenvalues to 0+epsilon from -2.0943397771588934e-07\n",
      "2018-07-10 14:16:58 [WARNING] root: Determinant was negative! Clipping Eigenvalues to 0+epsilon from -1.8515909516736428e-07\n",
      "2018-07-10 14:16:58 [WARNING] root: Determinant was negative! Clipping Eigenvalues to 0+epsilon from -3.840039752844859e-08\n",
      "2018-07-10 14:16:58 [WARNING] root: Determinant was negative! Clipping Eigenvalues to 0+epsilon from -1.4754350274870376e-07\n",
      "2018-07-10 14:16:58 [WARNING] root: Determinant was negative! Clipping Eigenvalues to 0+epsilon from -2.0960813174042414e-07\n",
      "2018-07-10 14:16:58 [WARNING] root: Determinant was negative! Clipping Eigenvalues to 0+epsilon from -1.668523452735826e-08\n",
      "2018-07-10 14:16:58 [WARNING] root: Determinant was negative! Clipping Eigenvalues to 0+epsilon from -5.717485862533067e-08\n",
      "2018-07-10 14:16:58 [WARNING] root: Determinant was negative! Clipping Eigenvalues to 0+epsilon from -2.2171671787418745e-07\n",
      "2018-07-10 14:16:58 [WARNING] root: Determinant was negative! Clipping Eigenvalues to 0+epsilon from -3.552763416792004e-08\n",
      "2018-07-10 14:16:58 [WARNING] root: Determinant was negative! Clipping Eigenvalues to 0+epsilon from -9.84026229389201e-08\n",
      "2018-07-10 14:16:58 [WARNING] root: Determinant was negative! Clipping Eigenvalues to 0+epsilon from -2.1446661335744466e-08\n",
      "2018-07-10 14:16:58 [WARNING] root: Determinant was negative! Clipping Eigenvalues to 0+epsilon from -1.5570236655548797e-08\n",
      "2018-07-10 14:16:58 [WARNING] root: Determinant was negative! Clipping Eigenvalues to 0+epsilon from -1.0444514231267021e-07\n",
      "2018-07-10 14:16:58 [WARNING] root: Determinant was negative! Clipping Eigenvalues to 0+epsilon from -9.445037640887222e-09\n",
      "2018-07-10 14:16:58 [WARNING] root: Determinant was negative! Clipping Eigenvalues to 0+epsilon from -4.62464981865196e-08\n",
      "2018-07-10 14:16:58 [WARNING] root: Determinant was negative! Clipping Eigenvalues to 0+epsilon from -1.131247540087088e-08\n",
      "2018-07-10 14:16:58 [WARNING] root: Determinant was negative! Clipping Eigenvalues to 0+epsilon from -3.775306822717539e-07\n",
      "2018-07-10 14:16:58 [WARNING] root: Determinant was negative! Clipping Eigenvalues to 0+epsilon from -2.8916318228766613e-07\n",
      "2018-07-10 14:16:58 [WARNING] root: Determinant was negative! Clipping Eigenvalues to 0+epsilon from -1.61507699658614e-07\n",
      "2018-07-10 14:16:58 [WARNING] root: Determinant was negative! Clipping Eigenvalues to 0+epsilon from -1.1341219519067636e-08\n",
      "2018-07-10 14:16:58 [WARNING] root: Determinant was negative! Clipping Eigenvalues to 0+epsilon from -2.580677289643063e-07\n",
      "2018-07-10 14:16:58 [WARNING] root: Determinant was negative! Clipping Eigenvalues to 0+epsilon from -1.5924575436088162e-08\n",
      "2018-07-10 14:16:58 [WARNING] root: Determinant was negative! Clipping Eigenvalues to 0+epsilon from -3.644346824316358e-09\n",
      "2018-07-10 14:16:58 [WARNING] root: Determinant was negative! Clipping Eigenvalues to 0+epsilon from -1.7330100376966584e-07\n",
      "2018-07-10 14:16:58 [WARNING] root: Determinant was negative! Clipping Eigenvalues to 0+epsilon from -1.1855107118208252e-07\n",
      "2018-07-10 14:16:58 [WARNING] root: Determinant was negative! Clipping Eigenvalues to 0+epsilon from -7.524517542378817e-08\n",
      "2018-07-10 14:16:58 [WARNING] root: Determinant was negative! Clipping Eigenvalues to 0+epsilon from -3.827499739372797e-08\n",
      "2018-07-10 14:16:58 [WARNING] root: Determinant was negative! Clipping Eigenvalues to 0+epsilon from -3.64739420888327e-08\n",
      "2018-07-10 14:16:58 [WARNING] root: Determinant was negative! Clipping Eigenvalues to 0+epsilon from -1.6140097258698916e-08\n",
      "2018-07-10 14:16:58 [WARNING] root: Determinant was negative! Clipping Eigenvalues to 0+epsilon from -5.515536116718067e-08\n",
      "2018-07-10 14:16:58 [WARNING] root: Determinant was negative! Clipping Eigenvalues to 0+epsilon from -1.29233114876115e-07\n",
      "2018-07-10 14:16:58 [WARNING] root: Determinant was negative! Clipping Eigenvalues to 0+epsilon from -1.8259716227930767e-07\n",
      "2018-07-10 14:16:58 [WARNING] root: Determinant was negative! Clipping Eigenvalues to 0+epsilon from -1.1714460868006427e-07\n",
      "2018-07-10 14:16:58 [WARNING] root: Determinant was negative! Clipping Eigenvalues to 0+epsilon from -2.956145692678547e-07\n",
      "2018-07-10 14:16:58 [WARNING] root: Determinant was negative! Clipping Eigenvalues to 0+epsilon from -2.433855115668848e-06\n",
      "2018-07-10 14:16:58 [WARNING] root: Determinant was negative! Clipping Eigenvalues to 0+epsilon from -4.994770392841019e-07\n",
      "2018-07-10 14:16:58 [WARNING] root: Determinant was negative! Clipping Eigenvalues to 0+epsilon from -1.9150769503539777e-07\n",
      "2018-07-10 14:16:58 [WARNING] root: Determinant was negative! Clipping Eigenvalues to 0+epsilon from -9.993522454010417e-09\n",
      "2018-07-10 14:16:58 [WARNING] root: Determinant was negative! Clipping Eigenvalues to 0+epsilon from -3.4587927189022594e-07\n",
      "2018-07-10 14:16:58 [WARNING] root: Determinant was negative! Clipping Eigenvalues to 0+epsilon from -4.913750331070332e-07\n",
      "2018-07-10 14:16:58 [WARNING] root: Determinant was negative! Clipping Eigenvalues to 0+epsilon from -1.3212469696100015e-07\n",
      "2018-07-10 14:16:58 [ERROR] src.evaluation.evaluator: An exception occurred while training DAGMM_NNAutoEncoder_withoutWindow on Syn Extreme Outliers (mis=0.9): Lapack Error getrf : U(3,3) is 0, U is singular at /pytorch/aten/src/TH/generic/THTensorLapack.c:514\n",
      "2018-07-10 14:16:58 [ERROR] src.evaluation.evaluator: Traceback (most recent call last):\n",
      "  File \"../src/evaluation/evaluator.py\", line 122, in evaluate\n",
      "    det.fit(X_train.copy(), y_train.copy())\n",
      "  File \"../src/algorithms/dagmm.py\", line 203, in fit\n",
      "    self.dagmm_step(input_data.float())\n",
      "  File \"../src/algorithms/dagmm.py\", line 177, in dagmm_step\n",
      "    self.lambda_cov_diag)\n",
      "  File \"../src/algorithms/dagmm.py\", line 144, in loss_function\n",
      "    sample_energy, cov_diag = self.compute_energy(z, phi, mu, cov)\n",
      "  File \"../src/algorithms/dagmm.py\", line 113, in compute_energy\n",
      "    cov_inverse.append(torch.inverse(cov_k).unsqueeze(0))\n",
      "RuntimeError: Lapack Error getrf : U(3,3) is 0, U is singular at /pytorch/aten/src/TH/generic/THTensorLapack.c:514\n",
      "\n"
     ]
    },
    {
     "name": "stderr",
     "output_type": "stream",
     "text": [
      "\r",
      "                                                                               \r",
      "\r",
      " 42% (3 of 7) |###########               | Elapsed Time: 0:03:19 ETA:   0:03:15"
     ]
    },
    {
     "name": "stdout",
     "output_type": "stream",
     "text": [
      "2018-07-10 14:16:58 [INFO] src.evaluation.evaluator: Training DAGMM_NNAutoEncoder_withWindow on Syn Extreme Outliers (mis=0.9) with seed 111904184\n"
     ]
    },
    {
     "name": "stderr",
     "output_type": "stream",
     "text": [
      "\r",
      "                                                                               \r",
      "\r",
      " 57% (4 of 7) |##############            | Elapsed Time: 0:03:23 ETA:   0:00:11"
     ]
    },
    {
     "name": "stdout",
     "output_type": "stream",
     "text": [
      "2018-07-10 14:17:02 [INFO] src.evaluation.evaluator: Training DAGMM_LSTMAutoEncoder_withWindow on Syn Extreme Outliers (mis=0.9) with seed 111904184\n"
     ]
    },
    {
     "name": "stderr",
     "output_type": "stream",
     "text": [
      "\r",
      "                                                                               \r",
      "\r",
      " 71% (5 of 7) |##################        | Elapsed Time: 0:03:53 ETA:   0:01:00"
     ]
    },
    {
     "name": "stdout",
     "output_type": "stream",
     "text": [
      "2018-07-10 14:17:32 [INFO] src.evaluation.evaluator: Training Recurrent EBM on Syn Extreme Outliers (mis=0.9) with seed 111904184\n"
     ]
    },
    {
     "name": "stderr",
     "output_type": "stream",
     "text": [
      "100%|██████████| 15/15 [00:06<00:00,  2.25it/s]\n",
      " 85% (6 of 7) |######################    | Elapsed Time: 0:04:13 ETA:   0:00:20"
     ]
    },
    {
     "name": "stdout",
     "output_type": "stream",
     "text": [
      "2018-07-10 14:17:53 [INFO] src.evaluation.evaluator: Training Donut on Syn Extreme Outliers (mis=0.9) with seed 111904184\n"
     ]
    },
    {
     "name": "stderr",
     "output_type": "stream",
     "text": [
      "100%|██████████| 1/1 [00:19<00:00, 19.33s/it]\n",
      "100% (7 of 7) |##########################| Elapsed Time: 0:04:41 Time:  0:04:41\n",
      "100% (5 of 5) |##########################| Elapsed Time: 0:24:49 Time:  0:24:49\n"
     ]
    },
    {
     "name": "stdout",
     "output_type": "stream",
     "text": [
      "2018-07-10 14:18:23 [INFO] src.evaluation.evaluator: Store evaluator results at /home/thomas/work/notebooks/data_30/missing-run-1-111904184-2018-07-10-141823.pkl\n"
     ]
    },
    {
     "name": "stderr",
     "output_type": "stream",
     "text": [
      "N/A% (0 of 7) |                          | Elapsed Time: 0:00:00 ETA:  --:--:--"
     ]
    },
    {
     "name": "stdout",
     "output_type": "stream",
     "text": [
      "2018-07-10 14:18:23 [INFO] src.evaluation.evaluator: Training LSTM-AD on Syn Extreme Outliers (mis=0.0) with seed 3693305650\n"
     ]
    },
    {
     "name": "stderr",
     "output_type": "stream",
     "text": [
      "\r",
      "                                                                               \r",
      "\r",
      " 14% (1 of 7) |###                       | Elapsed Time: 0:01:41 ETA:   0:10:08"
     ]
    },
    {
     "name": "stdout",
     "output_type": "stream",
     "text": [
      "2018-07-10 14:20:04 [INFO] src.evaluation.evaluator: Training LSTMED on Syn Extreme Outliers (mis=0.0) with seed 3693305650\n"
     ]
    },
    {
     "name": "stderr",
     "output_type": "stream",
     "text": [
      "\r",
      "                                                                               \r",
      "\r",
      " 28% (2 of 7) |#######                   | Elapsed Time: 0:03:18 ETA:   0:08:05"
     ]
    },
    {
     "name": "stdout",
     "output_type": "stream",
     "text": [
      "2018-07-10 14:21:41 [INFO] src.evaluation.evaluator: Training DAGMM_NNAutoEncoder_withoutWindow on Syn Extreme Outliers (mis=0.0) with seed 3693305650\n",
      "2018-07-10 14:21:42 [WARNING] root: Determinant was negative! Clipping Eigenvalues to 0+epsilon from -9.490618069207812e-09\n",
      "2018-07-10 14:21:42 [WARNING] root: Determinant was negative! Clipping Eigenvalues to 0+epsilon from -6.308125222176386e-08\n",
      "2018-07-10 14:21:42 [WARNING] root: Determinant was negative! Clipping Eigenvalues to 0+epsilon from -4.980093493145432e-08\n",
      "2018-07-10 14:21:43 [WARNING] root: Determinant was negative! Clipping Eigenvalues to 0+epsilon from -5.153843130045743e-09\n",
      "2018-07-10 14:21:43 [WARNING] root: Determinant was negative! Clipping Eigenvalues to 0+epsilon from -1.8225753706246905e-07\n",
      "2018-07-10 14:21:43 [WARNING] root: Determinant was negative! Clipping Eigenvalues to 0+epsilon from -6.046209222176913e-08\n",
      "2018-07-10 14:21:43 [WARNING] root: Determinant was negative! Clipping Eigenvalues to 0+epsilon from -6.05463910119397e-08\n",
      "2018-07-10 14:21:43 [WARNING] root: Determinant was negative! Clipping Eigenvalues to 0+epsilon from -1.432280356539195e-07\n",
      "2018-07-10 14:21:43 [WARNING] root: Determinant was negative! Clipping Eigenvalues to 0+epsilon from -3.2269109606630764e-09\n",
      "2018-07-10 14:21:43 [WARNING] root: Determinant was negative! Clipping Eigenvalues to 0+epsilon from -7.422192283002005e-08\n"
     ]
    },
    {
     "name": "stderr",
     "output_type": "stream",
     "text": [
      "\r",
      "                                                                               \r",
      "\r",
      " 42% (3 of 7) |###########               | Elapsed Time: 0:03:22 ETA:   0:00:16"
     ]
    },
    {
     "name": "stdout",
     "output_type": "stream",
     "text": [
      "2018-07-10 14:21:45 [INFO] src.evaluation.evaluator: Training DAGMM_NNAutoEncoder_withWindow on Syn Extreme Outliers (mis=0.0) with seed 3693305650\n"
     ]
    },
    {
     "name": "stderr",
     "output_type": "stream",
     "text": [
      "\r",
      "                                                                               \r",
      "\r",
      " 57% (4 of 7) |##############            | Elapsed Time: 0:03:26 ETA:   0:00:11"
     ]
    },
    {
     "name": "stdout",
     "output_type": "stream",
     "text": [
      "2018-07-10 14:21:49 [INFO] src.evaluation.evaluator: Training DAGMM_LSTMAutoEncoder_withWindow on Syn Extreme Outliers (mis=0.0) with seed 3693305650\n"
     ]
    },
    {
     "name": "stderr",
     "output_type": "stream",
     "text": [
      "\r",
      "                                                                               \r",
      "\r",
      " 71% (5 of 7) |##################        | Elapsed Time: 0:03:56 ETA:   0:01:00"
     ]
    },
    {
     "name": "stdout",
     "output_type": "stream",
     "text": [
      "2018-07-10 14:22:20 [INFO] src.evaluation.evaluator: Training Recurrent EBM on Syn Extreme Outliers (mis=0.0) with seed 3693305650\n"
     ]
    },
    {
     "name": "stderr",
     "output_type": "stream",
     "text": [
      "100%|██████████| 15/15 [00:06<00:00,  2.23it/s]\n",
      " 85% (6 of 7) |######################    | Elapsed Time: 0:04:17 ETA:   0:00:20"
     ]
    },
    {
     "name": "stdout",
     "output_type": "stream",
     "text": [
      "2018-07-10 14:22:41 [INFO] src.evaluation.evaluator: Training Donut on Syn Extreme Outliers (mis=0.0) with seed 3693305650\n"
     ]
    },
    {
     "name": "stderr",
     "output_type": "stream",
     "text": [
      "\r",
      "  0%|          | 0/1 [00:00<?, ?it/s]"
     ]
    },
    {
     "name": "stdout",
     "output_type": "stream",
     "text": [
      "INFO:tensorflow:Restoring parameters from /tmp/tmpg69xkcvk/variables.dat-800\n",
      "2018-07-10 14:24:14 [INFO] tensorflow: Restoring parameters from /tmp/tmpg69xkcvk/variables.dat-800\n"
     ]
    },
    {
     "name": "stderr",
     "output_type": "stream",
     "text": [
      "100%|██████████| 1/1 [01:34<00:00, 94.38s/it]\n",
      "100% (7 of 7) |##########################| Elapsed Time: 0:06:00 Time:  0:06:00\n",
      "N/A% (0 of 7) |                          | Elapsed Time: 0:00:00 ETA:  --:--:--"
     ]
    },
    {
     "name": "stdout",
     "output_type": "stream",
     "text": [
      "2018-07-10 14:24:24 [INFO] src.evaluation.evaluator: Training LSTM-AD on Syn Extreme Outliers (mis=0.225) with seed 3693305650\n"
     ]
    },
    {
     "name": "stderr",
     "output_type": "stream",
     "text": [
      "\r",
      "                                                                               \r",
      "\r",
      " 14% (1 of 7) |###                       | Elapsed Time: 0:01:43 ETA:   0:10:20"
     ]
    },
    {
     "name": "stdout",
     "output_type": "stream",
     "text": [
      "2018-07-10 14:26:07 [INFO] src.evaluation.evaluator: Training LSTMED on Syn Extreme Outliers (mis=0.225) with seed 3693305650\n"
     ]
    },
    {
     "name": "stderr",
     "output_type": "stream",
     "text": [
      "\r",
      "                                                                               \r",
      "\r",
      " 28% (2 of 7) |#######                   | Elapsed Time: 0:03:20 ETA:   0:08:04"
     ]
    },
    {
     "name": "stdout",
     "output_type": "stream",
     "text": [
      "2018-07-10 14:27:44 [INFO] src.evaluation.evaluator: Training DAGMM_NNAutoEncoder_withoutWindow on Syn Extreme Outliers (mis=0.225) with seed 3693305650\n",
      "2018-07-10 14:27:44 [WARNING] root: Determinant was negative! Clipping Eigenvalues to 0+epsilon from -1.0006345974034048e-06\n",
      "2018-07-10 14:27:44 [WARNING] root: Determinant was negative! Clipping Eigenvalues to 0+epsilon from -1.2568308704885567e-07\n",
      "2018-07-10 14:27:44 [WARNING] root: Determinant was negative! Clipping Eigenvalues to 0+epsilon from -1.436078491678927e-07\n",
      "2018-07-10 14:27:44 [WARNING] root: Determinant was negative! Clipping Eigenvalues to 0+epsilon from -5.732321710638644e-07\n",
      "2018-07-10 14:27:44 [WARNING] root: Determinant was negative! Clipping Eigenvalues to 0+epsilon from -1.1183334436282166e-07\n",
      "2018-07-10 14:27:44 [WARNING] root: Determinant was negative! Clipping Eigenvalues to 0+epsilon from -3.004436521791831e-08\n",
      "2018-07-10 14:27:44 [WARNING] root: Determinant was negative! Clipping Eigenvalues to 0+epsilon from -7.696909278820385e-07\n",
      "2018-07-10 14:27:44 [WARNING] root: Determinant was negative! Clipping Eigenvalues to 0+epsilon from -2.9634827569680056e-07\n",
      "2018-07-10 14:27:44 [WARNING] root: Determinant was negative! Clipping Eigenvalues to 0+epsilon from -4.920728997603874e-07\n",
      "2018-07-10 14:27:44 [WARNING] root: Determinant was negative! Clipping Eigenvalues to 0+epsilon from -2.488495454144868e-08\n",
      "2018-07-10 14:27:44 [WARNING] root: Determinant was negative! Clipping Eigenvalues to 0+epsilon from -7.984655212567304e-07\n",
      "2018-07-10 14:27:44 [WARNING] root: Determinant was negative! Clipping Eigenvalues to 0+epsilon from -6.391777418457423e-08\n",
      "2018-07-10 14:27:44 [WARNING] root: Determinant was negative! Clipping Eigenvalues to 0+epsilon from -3.1694438007434655e-07\n",
      "2018-07-10 14:27:44 [WARNING] root: Determinant was negative! Clipping Eigenvalues to 0+epsilon from -2.9841092441529327e-07\n",
      "2018-07-10 14:27:44 [WARNING] root: Determinant was negative! Clipping Eigenvalues to 0+epsilon from -8.705038112566399e-08\n",
      "2018-07-10 14:27:44 [WARNING] root: Determinant was negative! Clipping Eigenvalues to 0+epsilon from -1.5441496259427367e-07\n",
      "2018-07-10 14:27:44 [WARNING] root: Determinant was negative! Clipping Eigenvalues to 0+epsilon from -5.577249240218407e-08\n",
      "2018-07-10 14:27:44 [WARNING] root: Determinant was negative! Clipping Eigenvalues to 0+epsilon from -1.0038426978553616e-07\n",
      "2018-07-10 14:27:44 [WARNING] root: Determinant was negative! Clipping Eigenvalues to 0+epsilon from -7.566182489426865e-07\n",
      "2018-07-10 14:27:44 [WARNING] root: Determinant was negative! Clipping Eigenvalues to 0+epsilon from -5.30936112852487e-08\n",
      "2018-07-10 14:27:44 [WARNING] root: Determinant was negative! Clipping Eigenvalues to 0+epsilon from -2.8816742769777193e-07\n",
      "2018-07-10 14:27:44 [WARNING] root: Determinant was negative! Clipping Eigenvalues to 0+epsilon from -1.9092144043497683e-07\n",
      "2018-07-10 14:27:44 [WARNING] root: Determinant was negative! Clipping Eigenvalues to 0+epsilon from -3.386622040579823e-07\n",
      "2018-07-10 14:27:44 [WARNING] root: Determinant was negative! Clipping Eigenvalues to 0+epsilon from -5.306902153279225e-07\n",
      "2018-07-10 14:27:44 [WARNING] root: Determinant was negative! Clipping Eigenvalues to 0+epsilon from -2.5340435172438447e-07\n",
      "2018-07-10 14:27:44 [WARNING] root: Determinant was negative! Clipping Eigenvalues to 0+epsilon from -1.275869436767607e-07\n",
      "2018-07-10 14:27:44 [WARNING] root: Determinant was negative! Clipping Eigenvalues to 0+epsilon from -4.361176877409889e-07\n",
      "2018-07-10 14:27:44 [WARNING] root: Determinant was negative! Clipping Eigenvalues to 0+epsilon from -1.5720038959443627e-07\n",
      "2018-07-10 14:27:44 [WARNING] root: Determinant was negative! Clipping Eigenvalues to 0+epsilon from -2.8163159981886565e-07\n",
      "2018-07-10 14:27:44 [WARNING] root: Determinant was negative! Clipping Eigenvalues to 0+epsilon from -3.5840048440149985e-07\n",
      "2018-07-10 14:27:44 [WARNING] root: Determinant was negative! Clipping Eigenvalues to 0+epsilon from -3.3717299174895743e-07\n",
      "2018-07-10 14:27:44 [WARNING] root: Determinant was negative! Clipping Eigenvalues to 0+epsilon from -3.0851481369609246e-07\n",
      "2018-07-10 14:27:44 [WARNING] root: Determinant was negative! Clipping Eigenvalues to 0+epsilon from -2.614954723867413e-07\n",
      "2018-07-10 14:27:44 [WARNING] root: Determinant was negative! Clipping Eigenvalues to 0+epsilon from -3.564335315786593e-08\n",
      "2018-07-10 14:27:44 [WARNING] root: Determinant was negative! Clipping Eigenvalues to 0+epsilon from -2.5102656309172744e-07\n",
      "2018-07-10 14:27:44 [WARNING] root: Determinant was negative! Clipping Eigenvalues to 0+epsilon from -1.8598375106648746e-07\n",
      "2018-07-10 14:27:44 [WARNING] root: Determinant was negative! Clipping Eigenvalues to 0+epsilon from -4.458733542378468e-07\n",
      "2018-07-10 14:27:44 [WARNING] root: Determinant was negative! Clipping Eigenvalues to 0+epsilon from -5.298566634337476e-07\n",
      "2018-07-10 14:27:44 [WARNING] root: Determinant was negative! Clipping Eigenvalues to 0+epsilon from -1.3508883967006113e-07\n",
      "2018-07-10 14:27:44 [WARNING] root: Determinant was negative! Clipping Eigenvalues to 0+epsilon from -3.4178074770352396e-07\n",
      "2018-07-10 14:27:45 [WARNING] root: Determinant was negative! Clipping Eigenvalues to 0+epsilon from -3.1242984732671175e-07\n",
      "2018-07-10 14:27:45 [WARNING] root: Determinant was negative! Clipping Eigenvalues to 0+epsilon from -2.902947073835094e-07\n",
      "2018-07-10 14:27:45 [WARNING] root: Determinant was negative! Clipping Eigenvalues to 0+epsilon from -3.983349756708776e-07\n",
      "2018-07-10 14:27:45 [WARNING] root: Determinant was negative! Clipping Eigenvalues to 0+epsilon from -2.4209107607475744e-08\n",
      "2018-07-10 14:27:45 [WARNING] root: Determinant was negative! Clipping Eigenvalues to 0+epsilon from -7.557391654700041e-07\n",
      "2018-07-10 14:27:45 [WARNING] root: Determinant was negative! Clipping Eigenvalues to 0+epsilon from -9.890310792570745e-08\n",
      "2018-07-10 14:27:45 [WARNING] root: Determinant was negative! Clipping Eigenvalues to 0+epsilon from -1.4735599052073667e-07\n",
      "2018-07-10 14:27:45 [WARNING] root: Determinant was negative! Clipping Eigenvalues to 0+epsilon from -1.0500762925857998e-07\n",
      "2018-07-10 14:27:45 [WARNING] root: Determinant was negative! Clipping Eigenvalues to 0+epsilon from -6.446996962949925e-07\n",
      "2018-07-10 14:27:45 [WARNING] root: Determinant was negative! Clipping Eigenvalues to 0+epsilon from -2.3926361336634727e-07\n",
      "2018-07-10 14:27:45 [WARNING] root: Determinant was negative! Clipping Eigenvalues to 0+epsilon from -1.0477514678086663e-07\n",
      "2018-07-10 14:27:45 [WARNING] root: Determinant was negative! Clipping Eigenvalues to 0+epsilon from -3.080916428643832e-07\n",
      "2018-07-10 14:27:45 [WARNING] root: Determinant was negative! Clipping Eigenvalues to 0+epsilon from -4.892340257356409e-07\n",
      "2018-07-10 14:27:45 [WARNING] root: Determinant was negative! Clipping Eigenvalues to 0+epsilon from -4.295937117149151e-08\n",
      "2018-07-10 14:27:45 [WARNING] root: Determinant was negative! Clipping Eigenvalues to 0+epsilon from -1.8122206313364586e-07\n",
      "2018-07-10 14:27:45 [WARNING] root: Determinant was negative! Clipping Eigenvalues to 0+epsilon from -1.1526507393000429e-07\n",
      "2018-07-10 14:27:45 [WARNING] root: Determinant was negative! Clipping Eigenvalues to 0+epsilon from -2.528718425764964e-07\n",
      "2018-07-10 14:27:45 [WARNING] root: Determinant was negative! Clipping Eigenvalues to 0+epsilon from -1.14356645042335e-07\n",
      "2018-07-10 14:27:45 [WARNING] root: Determinant was negative! Clipping Eigenvalues to 0+epsilon from -2.15439570183662e-07\n",
      "2018-07-10 14:27:45 [WARNING] root: Determinant was negative! Clipping Eigenvalues to 0+epsilon from -8.920421379343679e-08\n",
      "2018-07-10 14:27:45 [WARNING] root: Determinant was negative! Clipping Eigenvalues to 0+epsilon from -6.643523988714151e-07\n",
      "2018-07-10 14:27:45 [WARNING] root: Determinant was negative! Clipping Eigenvalues to 0+epsilon from -1.5603194469804293e-07\n",
      "2018-07-10 14:27:45 [WARNING] root: Determinant was negative! Clipping Eigenvalues to 0+epsilon from -9.114452836911369e-08\n",
      "2018-07-10 14:27:45 [WARNING] root: Determinant was negative! Clipping Eigenvalues to 0+epsilon from -3.859986748011579e-07\n",
      "2018-07-10 14:27:45 [WARNING] root: Determinant was negative! Clipping Eigenvalues to 0+epsilon from -2.3499836743212654e-07\n"
     ]
    },
    {
     "name": "stdout",
     "output_type": "stream",
     "text": [
      "2018-07-10 14:27:45 [WARNING] root: Determinant was negative! Clipping Eigenvalues to 0+epsilon from -2.9045193628007837e-07\n",
      "2018-07-10 14:27:45 [WARNING] root: Determinant was negative! Clipping Eigenvalues to 0+epsilon from -3.6928685887005486e-08\n",
      "2018-07-10 14:27:45 [WARNING] root: Determinant was negative! Clipping Eigenvalues to 0+epsilon from -1.603696802021659e-07\n",
      "2018-07-10 14:27:45 [WARNING] root: Determinant was negative! Clipping Eigenvalues to 0+epsilon from -3.459557262885937e-08\n",
      "2018-07-10 14:27:45 [WARNING] root: Determinant was negative! Clipping Eigenvalues to 0+epsilon from -3.3115364317382046e-07\n",
      "2018-07-10 14:27:45 [WARNING] root: Determinant was negative! Clipping Eigenvalues to 0+epsilon from -1.895864158996119e-07\n",
      "2018-07-10 14:27:45 [WARNING] root: Determinant was negative! Clipping Eigenvalues to 0+epsilon from -2.1818476625412586e-07\n",
      "2018-07-10 14:27:45 [WARNING] root: Determinant was negative! Clipping Eigenvalues to 0+epsilon from -1.615450884173697e-07\n",
      "2018-07-10 14:27:45 [WARNING] root: Determinant was negative! Clipping Eigenvalues to 0+epsilon from -2.688026086161699e-07\n",
      "2018-07-10 14:27:45 [WARNING] root: Determinant was negative! Clipping Eigenvalues to 0+epsilon from -4.767601353705686e-07\n",
      "2018-07-10 14:27:45 [WARNING] root: Determinant was negative! Clipping Eigenvalues to 0+epsilon from -2.409768455891026e-07\n",
      "2018-07-10 14:27:45 [WARNING] root: Determinant was negative! Clipping Eigenvalues to 0+epsilon from -2.0129820654801733e-07\n",
      "2018-07-10 14:27:45 [WARNING] root: Determinant was negative! Clipping Eigenvalues to 0+epsilon from -3.5701182810043974e-07\n",
      "2018-07-10 14:27:45 [WARNING] root: Determinant was negative! Clipping Eigenvalues to 0+epsilon from -9.626634778214793e-08\n",
      "2018-07-10 14:27:45 [WARNING] root: Determinant was negative! Clipping Eigenvalues to 0+epsilon from -3.161488493219622e-08\n",
      "2018-07-10 14:27:45 [WARNING] root: Determinant was negative! Clipping Eigenvalues to 0+epsilon from -3.299154229807755e-07\n",
      "2018-07-10 14:27:45 [WARNING] root: Determinant was negative! Clipping Eigenvalues to 0+epsilon from -2.64362427060405e-07\n",
      "2018-07-10 14:27:45 [WARNING] root: Determinant was negative! Clipping Eigenvalues to 0+epsilon from -2.8836143428634387e-07\n",
      "2018-07-10 14:27:45 [WARNING] root: Determinant was negative! Clipping Eigenvalues to 0+epsilon from -8.893260883269249e-07\n",
      "2018-07-10 14:27:45 [WARNING] root: Determinant was negative! Clipping Eigenvalues to 0+epsilon from -7.278583211700607e-07\n",
      "2018-07-10 14:27:45 [WARNING] root: Determinant was negative! Clipping Eigenvalues to 0+epsilon from -1.34313381749962e-07\n",
      "2018-07-10 14:27:45 [WARNING] root: Determinant was negative! Clipping Eigenvalues to 0+epsilon from -6.31948580576136e-07\n",
      "2018-07-10 14:27:45 [WARNING] root: Determinant was negative! Clipping Eigenvalues to 0+epsilon from -5.298793439578731e-07\n",
      "2018-07-10 14:27:45 [WARNING] root: Determinant was negative! Clipping Eigenvalues to 0+epsilon from -1.277541628041945e-07\n",
      "2018-07-10 14:27:45 [WARNING] root: Determinant was negative! Clipping Eigenvalues to 0+epsilon from -1.2432872154022334e-07\n",
      "2018-07-10 14:27:45 [WARNING] root: Determinant was negative! Clipping Eigenvalues to 0+epsilon from -1.616921281311079e-07\n",
      "2018-07-10 14:27:45 [WARNING] root: Determinant was negative! Clipping Eigenvalues to 0+epsilon from -2.7618803244422452e-08\n",
      "2018-07-10 14:27:45 [WARNING] root: Determinant was negative! Clipping Eigenvalues to 0+epsilon from -4.918016998090025e-07\n",
      "2018-07-10 14:27:45 [WARNING] root: Determinant was negative! Clipping Eigenvalues to 0+epsilon from -2.3655417180634686e-07\n",
      "2018-07-10 14:27:45 [WARNING] root: Determinant was negative! Clipping Eigenvalues to 0+epsilon from -1.6144747760904465e-08\n",
      "2018-07-10 14:27:45 [WARNING] root: Determinant was negative! Clipping Eigenvalues to 0+epsilon from -5.045074402687533e-08\n",
      "2018-07-10 14:27:45 [WARNING] root: Determinant was negative! Clipping Eigenvalues to 0+epsilon from -4.4699143586512946e-07\n",
      "2018-07-10 14:27:45 [ERROR] src.evaluation.evaluator: An exception occurred while training DAGMM_NNAutoEncoder_withoutWindow on Syn Extreme Outliers (mis=0.225): Lapack Error getrf : U(3,3) is 0, U is singular at /pytorch/aten/src/TH/generic/THTensorLapack.c:514\n",
      "2018-07-10 14:27:45 [ERROR] src.evaluation.evaluator: Traceback (most recent call last):\n",
      "  File \"../src/evaluation/evaluator.py\", line 122, in evaluate\n",
      "    det.fit(X_train.copy(), y_train.copy())\n",
      "  File \"../src/algorithms/dagmm.py\", line 203, in fit\n",
      "    self.dagmm_step(input_data.float())\n",
      "  File \"../src/algorithms/dagmm.py\", line 177, in dagmm_step\n",
      "    self.lambda_cov_diag)\n",
      "  File \"../src/algorithms/dagmm.py\", line 144, in loss_function\n",
      "    sample_energy, cov_diag = self.compute_energy(z, phi, mu, cov)\n",
      "  File \"../src/algorithms/dagmm.py\", line 113, in compute_energy\n",
      "    cov_inverse.append(torch.inverse(cov_k).unsqueeze(0))\n",
      "RuntimeError: Lapack Error getrf : U(3,3) is 0, U is singular at /pytorch/aten/src/TH/generic/THTensorLapack.c:514\n",
      "\n"
     ]
    },
    {
     "name": "stderr",
     "output_type": "stream",
     "text": [
      "\r",
      "                                                                               \r",
      "\r",
      " 42% (3 of 7) |###########               | Elapsed Time: 0:03:21 ETA:   0:03:16"
     ]
    },
    {
     "name": "stdout",
     "output_type": "stream",
     "text": [
      "2018-07-10 14:27:45 [INFO] src.evaluation.evaluator: Training DAGMM_NNAutoEncoder_withWindow on Syn Extreme Outliers (mis=0.225) with seed 3693305650\n"
     ]
    },
    {
     "name": "stderr",
     "output_type": "stream",
     "text": [
      "\r",
      "                                                                               \r",
      "\r",
      " 57% (4 of 7) |##############            | Elapsed Time: 0:03:25 ETA:   0:00:11"
     ]
    },
    {
     "name": "stdout",
     "output_type": "stream",
     "text": [
      "2018-07-10 14:27:49 [INFO] src.evaluation.evaluator: Training DAGMM_LSTMAutoEncoder_withWindow on Syn Extreme Outliers (mis=0.225) with seed 3693305650\n"
     ]
    },
    {
     "name": "stderr",
     "output_type": "stream",
     "text": [
      "\r",
      "                                                                               \r",
      "\r",
      " 71% (5 of 7) |##################        | Elapsed Time: 0:03:55 ETA:   0:01:00"
     ]
    },
    {
     "name": "stdout",
     "output_type": "stream",
     "text": [
      "2018-07-10 14:28:20 [INFO] src.evaluation.evaluator: Training Recurrent EBM on Syn Extreme Outliers (mis=0.225) with seed 3693305650\n"
     ]
    },
    {
     "name": "stderr",
     "output_type": "stream",
     "text": [
      "100%|██████████| 15/15 [00:06<00:00,  2.24it/s]\n",
      " 85% (6 of 7) |######################    | Elapsed Time: 0:04:17 ETA:   0:00:21"
     ]
    },
    {
     "name": "stdout",
     "output_type": "stream",
     "text": [
      "2018-07-10 14:28:41 [INFO] src.evaluation.evaluator: Training Donut on Syn Extreme Outliers (mis=0.225) with seed 3693305650\n"
     ]
    },
    {
     "name": "stderr",
     "output_type": "stream",
     "text": [
      "100%|██████████| 1/1 [00:20<00:00, 20.42s/it]\n",
      "100% (7 of 7) |##########################| Elapsed Time: 0:04:46 Time:  0:04:46\n",
      "N/A% (0 of 7) |                          | Elapsed Time: 0:00:00 ETA:  --:--:--"
     ]
    },
    {
     "name": "stdout",
     "output_type": "stream",
     "text": [
      "2018-07-10 14:29:10 [INFO] src.evaluation.evaluator: Training LSTM-AD on Syn Extreme Outliers (mis=0.45) with seed 3693305650\n"
     ]
    },
    {
     "name": "stderr",
     "output_type": "stream",
     "text": [
      "\r",
      "                                                                               \r",
      "\r",
      " 14% (1 of 7) |###                       | Elapsed Time: 0:01:41 ETA:   0:10:07"
     ]
    },
    {
     "name": "stdout",
     "output_type": "stream",
     "text": [
      "2018-07-10 14:30:51 [INFO] src.evaluation.evaluator: Training LSTMED on Syn Extreme Outliers (mis=0.45) with seed 3693305650\n"
     ]
    },
    {
     "name": "stderr",
     "output_type": "stream",
     "text": [
      "\r",
      "                                                                               \r",
      "\r",
      " 28% (2 of 7) |#######                   | Elapsed Time: 0:03:18 ETA:   0:08:04"
     ]
    },
    {
     "name": "stdout",
     "output_type": "stream",
     "text": [
      "2018-07-10 14:32:28 [INFO] src.evaluation.evaluator: Training DAGMM_NNAutoEncoder_withoutWindow on Syn Extreme Outliers (mis=0.45) with seed 3693305650\n",
      "2018-07-10 14:32:28 [WARNING] root: Determinant was negative! Clipping Eigenvalues to 0+epsilon from -1.309740866872744e-07\n",
      "2018-07-10 14:32:28 [WARNING] root: Determinant was negative! Clipping Eigenvalues to 0+epsilon from -1.9781317917022534e-07\n",
      "2018-07-10 14:32:28 [WARNING] root: Determinant was negative! Clipping Eigenvalues to 0+epsilon from -2.5671053549558565e-07\n",
      "2018-07-10 14:32:28 [WARNING] root: Determinant was negative! Clipping Eigenvalues to 0+epsilon from -5.516985197573376e-07\n",
      "2018-07-10 14:32:28 [WARNING] root: Determinant was negative! Clipping Eigenvalues to 0+epsilon from -2.8571574262059585e-07\n",
      "2018-07-10 14:32:28 [WARNING] root: Determinant was negative! Clipping Eigenvalues to 0+epsilon from -6.511582455459575e-07\n",
      "2018-07-10 14:32:28 [WARNING] root: Determinant was negative! Clipping Eigenvalues to 0+epsilon from -1.7679283814686642e-07\n",
      "2018-07-10 14:32:28 [WARNING] root: Determinant was negative! Clipping Eigenvalues to 0+epsilon from -4.939513473800616e-07\n",
      "2018-07-10 14:32:28 [WARNING] root: Determinant was negative! Clipping Eigenvalues to 0+epsilon from -5.2365223268679983e-08\n",
      "2018-07-10 14:32:28 [WARNING] root: Determinant was negative! Clipping Eigenvalues to 0+epsilon from -2.2349547634803457e-07\n",
      "2018-07-10 14:32:28 [WARNING] root: Determinant was negative! Clipping Eigenvalues to 0+epsilon from -1.9549206342617254e-07\n",
      "2018-07-10 14:32:28 [WARNING] root: Determinant was negative! Clipping Eigenvalues to 0+epsilon from -5.353003302843717e-07\n",
      "2018-07-10 14:32:28 [WARNING] root: Determinant was negative! Clipping Eigenvalues to 0+epsilon from -8.000234856808675e-07\n",
      "2018-07-10 14:32:28 [WARNING] root: Determinant was negative! Clipping Eigenvalues to 0+epsilon from -8.160027960002481e-07\n",
      "2018-07-10 14:32:28 [WARNING] root: Determinant was negative! Clipping Eigenvalues to 0+epsilon from -3.127026459992521e-08\n",
      "2018-07-10 14:32:28 [WARNING] root: Determinant was negative! Clipping Eigenvalues to 0+epsilon from -7.26267757045207e-09\n",
      "2018-07-10 14:32:28 [WARNING] root: Determinant was negative! Clipping Eigenvalues to 0+epsilon from -1.1509953310451237e-06\n",
      "2018-07-10 14:32:28 [WARNING] root: Determinant was negative! Clipping Eigenvalues to 0+epsilon from -1.323339375858268e-07\n",
      "2018-07-10 14:32:28 [WARNING] root: Determinant was negative! Clipping Eigenvalues to 0+epsilon from -7.452889150272313e-08\n",
      "2018-07-10 14:32:28 [WARNING] root: Determinant was negative! Clipping Eigenvalues to 0+epsilon from -2.548664269852452e-06\n",
      "2018-07-10 14:32:29 [WARNING] root: Determinant was negative! Clipping Eigenvalues to 0+epsilon from -7.384923037534463e-07\n",
      "2018-07-10 14:32:29 [WARNING] root: Determinant was negative! Clipping Eigenvalues to 0+epsilon from -3.253967122418544e-07\n",
      "2018-07-10 14:32:29 [WARNING] root: Determinant was negative! Clipping Eigenvalues to 0+epsilon from -1.688748625383596e-07\n",
      "2018-07-10 14:32:29 [WARNING] root: Determinant was negative! Clipping Eigenvalues to 0+epsilon from -2.1771514013835258e-07\n",
      "2018-07-10 14:32:29 [WARNING] root: Determinant was negative! Clipping Eigenvalues to 0+epsilon from -3.43771176858354e-07\n",
      "2018-07-10 14:32:29 [WARNING] root: Determinant was negative! Clipping Eigenvalues to 0+epsilon from -1.022452096322013e-07\n",
      "2018-07-10 14:32:29 [WARNING] root: Determinant was negative! Clipping Eigenvalues to 0+epsilon from -3.688841943016996e-08\n",
      "2018-07-10 14:32:29 [WARNING] root: Determinant was negative! Clipping Eigenvalues to 0+epsilon from -1.2297165596919513e-07\n",
      "2018-07-10 14:32:29 [WARNING] root: Determinant was negative! Clipping Eigenvalues to 0+epsilon from -4.163382243405067e-07\n",
      "2018-07-10 14:32:29 [WARNING] root: Determinant was negative! Clipping Eigenvalues to 0+epsilon from -2.416040274511033e-07\n",
      "2018-07-10 14:32:29 [WARNING] root: Determinant was negative! Clipping Eigenvalues to 0+epsilon from -1.203785018333292e-07\n",
      "2018-07-10 14:32:29 [WARNING] root: Determinant was negative! Clipping Eigenvalues to 0+epsilon from -1.4326974451250862e-06\n",
      "2018-07-10 14:32:29 [WARNING] root: Determinant was negative! Clipping Eigenvalues to 0+epsilon from -1.090089199351496e-06\n",
      "2018-07-10 14:32:29 [WARNING] root: Determinant was negative! Clipping Eigenvalues to 0+epsilon from -1.2707323548966087e-07\n",
      "2018-07-10 14:32:29 [WARNING] root: Determinant was negative! Clipping Eigenvalues to 0+epsilon from -1.418547128650971e-07\n",
      "2018-07-10 14:32:29 [WARNING] root: Determinant was negative! Clipping Eigenvalues to 0+epsilon from -5.877318471902981e-07\n",
      "2018-07-10 14:32:29 [WARNING] root: Determinant was negative! Clipping Eigenvalues to 0+epsilon from -2.641804144332127e-07\n",
      "2018-07-10 14:32:29 [WARNING] root: Determinant was negative! Clipping Eigenvalues to 0+epsilon from -1.1010443046188811e-07\n",
      "2018-07-10 14:32:29 [WARNING] root: Determinant was negative! Clipping Eigenvalues to 0+epsilon from -4.576639867082122e-07\n",
      "2018-07-10 14:32:29 [WARNING] root: Determinant was negative! Clipping Eigenvalues to 0+epsilon from -5.672803808920435e-07\n",
      "2018-07-10 14:32:29 [WARNING] root: Determinant was negative! Clipping Eigenvalues to 0+epsilon from -4.6229544636844366e-07\n",
      "2018-07-10 14:32:29 [WARNING] root: Determinant was negative! Clipping Eigenvalues to 0+epsilon from -1.0749265300091793e-07\n",
      "2018-07-10 14:32:29 [WARNING] root: Determinant was negative! Clipping Eigenvalues to 0+epsilon from -3.133879715733201e-07\n",
      "2018-07-10 14:32:29 [WARNING] root: Determinant was negative! Clipping Eigenvalues to 0+epsilon from -2.028621821636989e-07\n",
      "2018-07-10 14:32:29 [WARNING] root: Determinant was negative! Clipping Eigenvalues to 0+epsilon from -5.706389742954343e-07\n",
      "2018-07-10 14:32:29 [WARNING] root: Determinant was negative! Clipping Eigenvalues to 0+epsilon from -1.0718515568441944e-06\n",
      "2018-07-10 14:32:29 [WARNING] root: Determinant was negative! Clipping Eigenvalues to 0+epsilon from -1.8156744374664413e-07\n",
      "2018-07-10 14:32:29 [WARNING] root: Determinant was negative! Clipping Eigenvalues to 0+epsilon from -6.694806415907806e-07\n",
      "2018-07-10 14:32:29 [WARNING] root: Determinant was negative! Clipping Eigenvalues to 0+epsilon from -4.900337913227304e-08\n",
      "2018-07-10 14:32:29 [WARNING] root: Determinant was negative! Clipping Eigenvalues to 0+epsilon from -1.4623260824464523e-07\n",
      "2018-07-10 14:32:29 [WARNING] root: Determinant was negative! Clipping Eigenvalues to 0+epsilon from -4.559156252526009e-07\n",
      "2018-07-10 14:32:29 [WARNING] root: Determinant was negative! Clipping Eigenvalues to 0+epsilon from -2.9351329544624605e-07\n",
      "2018-07-10 14:32:29 [WARNING] root: Determinant was negative! Clipping Eigenvalues to 0+epsilon from -2.3503555723891623e-07\n",
      "2018-07-10 14:32:29 [WARNING] root: Determinant was negative! Clipping Eigenvalues to 0+epsilon from -1.7901096782679815e-07\n",
      "2018-07-10 14:32:29 [WARNING] root: Determinant was negative! Clipping Eigenvalues to 0+epsilon from -2.3811689686681348e-07\n",
      "2018-07-10 14:32:29 [WARNING] root: Determinant was negative! Clipping Eigenvalues to 0+epsilon from -6.14939494880673e-08\n",
      "2018-07-10 14:32:29 [WARNING] root: Determinant was negative! Clipping Eigenvalues to 0+epsilon from -4.8330672797192165e-08\n",
      "2018-07-10 14:32:29 [WARNING] root: Determinant was negative! Clipping Eigenvalues to 0+epsilon from -6.7424892336021e-08\n",
      "2018-07-10 14:32:29 [WARNING] root: Determinant was negative! Clipping Eigenvalues to 0+epsilon from -2.8313476718722086e-07\n",
      "2018-07-10 14:32:29 [WARNING] root: Determinant was negative! Clipping Eigenvalues to 0+epsilon from -1.2084201443940401e-06\n",
      "2018-07-10 14:32:29 [WARNING] root: Determinant was negative! Clipping Eigenvalues to 0+epsilon from -5.164407070878951e-07\n",
      "2018-07-10 14:32:29 [WARNING] root: Determinant was negative! Clipping Eigenvalues to 0+epsilon from -7.122617518007246e-08\n",
      "2018-07-10 14:32:29 [WARNING] root: Determinant was negative! Clipping Eigenvalues to 0+epsilon from -5.804301395073708e-08\n",
      "2018-07-10 14:32:29 [WARNING] root: Determinant was negative! Clipping Eigenvalues to 0+epsilon from -4.4054567638340814e-07\n",
      "2018-07-10 14:32:29 [WARNING] root: Determinant was negative! Clipping Eigenvalues to 0+epsilon from -4.818148227059282e-07\n"
     ]
    },
    {
     "name": "stdout",
     "output_type": "stream",
     "text": [
      "2018-07-10 14:32:29 [WARNING] root: Determinant was negative! Clipping Eigenvalues to 0+epsilon from -8.323456768266624e-08\n",
      "2018-07-10 14:32:29 [WARNING] root: Determinant was negative! Clipping Eigenvalues to 0+epsilon from -4.1934418959499453e-07\n",
      "2018-07-10 14:32:29 [WARNING] root: Determinant was negative! Clipping Eigenvalues to 0+epsilon from -9.624374115446699e-07\n",
      "2018-07-10 14:32:29 [WARNING] root: Determinant was negative! Clipping Eigenvalues to 0+epsilon from -8.276411733731948e-08\n",
      "2018-07-10 14:32:29 [WARNING] root: Determinant was negative! Clipping Eigenvalues to 0+epsilon from -3.148981306821952e-07\n",
      "2018-07-10 14:32:29 [WARNING] root: Determinant was negative! Clipping Eigenvalues to 0+epsilon from -1.0127821781225066e-07\n",
      "2018-07-10 14:32:29 [WARNING] root: Determinant was negative! Clipping Eigenvalues to 0+epsilon from -4.778746642841725e-07\n",
      "2018-07-10 14:32:29 [WARNING] root: Determinant was negative! Clipping Eigenvalues to 0+epsilon from -5.530540647669113e-07\n",
      "2018-07-10 14:32:29 [WARNING] root: Determinant was negative! Clipping Eigenvalues to 0+epsilon from -4.1660945271360106e-07\n",
      "2018-07-10 14:32:29 [WARNING] root: Determinant was negative! Clipping Eigenvalues to 0+epsilon from -4.7508456191280857e-07\n",
      "2018-07-10 14:32:29 [WARNING] root: Determinant was negative! Clipping Eigenvalues to 0+epsilon from -2.393300064795767e-07\n",
      "2018-07-10 14:32:29 [WARNING] root: Determinant was negative! Clipping Eigenvalues to 0+epsilon from -2.829701770679094e-07\n",
      "2018-07-10 14:32:29 [WARNING] root: Determinant was negative! Clipping Eigenvalues to 0+epsilon from -9.508539733360521e-07\n",
      "2018-07-10 14:32:29 [WARNING] root: Determinant was negative! Clipping Eigenvalues to 0+epsilon from -5.76491629544762e-07\n",
      "2018-07-10 14:32:29 [WARNING] root: Determinant was negative! Clipping Eigenvalues to 0+epsilon from -6.492797410828643e-08\n",
      "2018-07-10 14:32:29 [WARNING] root: Determinant was negative! Clipping Eigenvalues to 0+epsilon from -1.5280802472261712e-06\n",
      "2018-07-10 14:32:29 [WARNING] root: Determinant was negative! Clipping Eigenvalues to 0+epsilon from -8.202027288461977e-07\n",
      "2018-07-10 14:32:29 [WARNING] root: Determinant was negative! Clipping Eigenvalues to 0+epsilon from -2.934931728759693e-07\n",
      "2018-07-10 14:32:29 [WARNING] root: Determinant was negative! Clipping Eigenvalues to 0+epsilon from -1.0030129971028146e-07\n",
      "2018-07-10 14:32:29 [WARNING] root: Determinant was negative! Clipping Eigenvalues to 0+epsilon from -1.1417071164032677e-06\n",
      "2018-07-10 14:32:29 [ERROR] src.evaluation.evaluator: An exception occurred while training DAGMM_NNAutoEncoder_withoutWindow on Syn Extreme Outliers (mis=0.45): Lapack Error getrf : U(3,3) is 0, U is singular at /pytorch/aten/src/TH/generic/THTensorLapack.c:514\n",
      "2018-07-10 14:32:29 [ERROR] src.evaluation.evaluator: Traceback (most recent call last):\n",
      "  File \"../src/evaluation/evaluator.py\", line 122, in evaluate\n",
      "    det.fit(X_train.copy(), y_train.copy())\n",
      "  File \"../src/algorithms/dagmm.py\", line 203, in fit\n",
      "    self.dagmm_step(input_data.float())\n",
      "  File \"../src/algorithms/dagmm.py\", line 177, in dagmm_step\n",
      "    self.lambda_cov_diag)\n",
      "  File \"../src/algorithms/dagmm.py\", line 144, in loss_function\n",
      "    sample_energy, cov_diag = self.compute_energy(z, phi, mu, cov)\n",
      "  File \"../src/algorithms/dagmm.py\", line 113, in compute_energy\n",
      "    cov_inverse.append(torch.inverse(cov_k).unsqueeze(0))\n",
      "RuntimeError: Lapack Error getrf : U(3,3) is 0, U is singular at /pytorch/aten/src/TH/generic/THTensorLapack.c:514\n",
      "\n"
     ]
    },
    {
     "name": "stderr",
     "output_type": "stream",
     "text": [
      "\r",
      "                                                                               \r",
      "\r",
      " 42% (3 of 7) |###########               | Elapsed Time: 0:03:19 ETA:   0:03:15"
     ]
    },
    {
     "name": "stdout",
     "output_type": "stream",
     "text": [
      "2018-07-10 14:32:29 [INFO] src.evaluation.evaluator: Training DAGMM_NNAutoEncoder_withWindow on Syn Extreme Outliers (mis=0.45) with seed 3693305650\n"
     ]
    },
    {
     "name": "stderr",
     "output_type": "stream",
     "text": [
      "\r",
      "                                                                               \r",
      "\r",
      " 57% (4 of 7) |##############            | Elapsed Time: 0:03:23 ETA:   0:00:11"
     ]
    },
    {
     "name": "stdout",
     "output_type": "stream",
     "text": [
      "2018-07-10 14:32:33 [INFO] src.evaluation.evaluator: Training DAGMM_LSTMAutoEncoder_withWindow on Syn Extreme Outliers (mis=0.45) with seed 3693305650\n"
     ]
    },
    {
     "name": "stderr",
     "output_type": "stream",
     "text": [
      "\r",
      "                                                                               \r",
      "\r",
      " 71% (5 of 7) |##################        | Elapsed Time: 0:03:53 ETA:   0:01:00"
     ]
    },
    {
     "name": "stdout",
     "output_type": "stream",
     "text": [
      "2018-07-10 14:33:03 [INFO] src.evaluation.evaluator: Training Recurrent EBM on Syn Extreme Outliers (mis=0.45) with seed 3693305650\n"
     ]
    },
    {
     "name": "stderr",
     "output_type": "stream",
     "text": [
      "100%|██████████| 15/15 [00:06<00:00,  2.24it/s]\n",
      " 85% (6 of 7) |######################    | Elapsed Time: 0:04:14 ETA:   0:00:21"
     ]
    },
    {
     "name": "stdout",
     "output_type": "stream",
     "text": [
      "2018-07-10 14:33:25 [INFO] src.evaluation.evaluator: Training Donut on Syn Extreme Outliers (mis=0.45) with seed 3693305650\n"
     ]
    },
    {
     "name": "stderr",
     "output_type": "stream",
     "text": [
      "100%|██████████| 1/1 [00:21<00:00, 21.01s/it]\n",
      "100% (7 of 7) |##########################| Elapsed Time: 0:04:44 Time:  0:04:44\n",
      "N/A% (0 of 7) |                          | Elapsed Time: 0:00:00 ETA:  --:--:--"
     ]
    },
    {
     "name": "stdout",
     "output_type": "stream",
     "text": [
      "2018-07-10 14:33:55 [INFO] src.evaluation.evaluator: Training LSTM-AD on Syn Extreme Outliers (mis=0.675) with seed 3693305650\n"
     ]
    },
    {
     "name": "stderr",
     "output_type": "stream",
     "text": [
      "\r",
      "                                                                               \r",
      "\r",
      " 14% (1 of 7) |###                       | Elapsed Time: 0:01:41 ETA:   0:10:10"
     ]
    },
    {
     "name": "stdout",
     "output_type": "stream",
     "text": [
      "2018-07-10 14:35:37 [INFO] src.evaluation.evaluator: Training LSTMED on Syn Extreme Outliers (mis=0.675) with seed 3693305650\n"
     ]
    },
    {
     "name": "stderr",
     "output_type": "stream",
     "text": [
      "\r",
      "                                                                               \r",
      "\r",
      " 28% (2 of 7) |#######                   | Elapsed Time: 0:03:18 ETA:   0:08:06"
     ]
    },
    {
     "name": "stdout",
     "output_type": "stream",
     "text": [
      "2018-07-10 14:37:14 [INFO] src.evaluation.evaluator: Training DAGMM_NNAutoEncoder_withoutWindow on Syn Extreme Outliers (mis=0.675) with seed 3693305650\n",
      "2018-07-10 14:37:14 [WARNING] root: Determinant was negative! Clipping Eigenvalues to 0+epsilon from -1.7448506639539119e-07\n",
      "2018-07-10 14:37:14 [WARNING] root: Determinant was negative! Clipping Eigenvalues to 0+epsilon from -1.5687302834521688e-07\n",
      "2018-07-10 14:37:14 [WARNING] root: Determinant was negative! Clipping Eigenvalues to 0+epsilon from -5.151063078301377e-07\n",
      "2018-07-10 14:37:14 [WARNING] root: Determinant was negative! Clipping Eigenvalues to 0+epsilon from -4.552789789613598e-07\n",
      "2018-07-10 14:37:14 [WARNING] root: Determinant was negative! Clipping Eigenvalues to 0+epsilon from -5.333441777111148e-07\n",
      "2018-07-10 14:37:14 [WARNING] root: Determinant was negative! Clipping Eigenvalues to 0+epsilon from -1.0334563427250032e-07\n",
      "2018-07-10 14:37:14 [WARNING] root: Determinant was negative! Clipping Eigenvalues to 0+epsilon from -2.6447582968103234e-07\n",
      "2018-07-10 14:37:14 [WARNING] root: Determinant was negative! Clipping Eigenvalues to 0+epsilon from -1.350106657582728e-07\n",
      "2018-07-10 14:37:14 [WARNING] root: Determinant was negative! Clipping Eigenvalues to 0+epsilon from -4.184425606013065e-08\n",
      "2018-07-10 14:37:14 [WARNING] root: Determinant was negative! Clipping Eigenvalues to 0+epsilon from -2.6949965103995055e-07\n",
      "2018-07-10 14:37:14 [WARNING] root: Determinant was negative! Clipping Eigenvalues to 0+epsilon from -8.267442126452806e-07\n",
      "2018-07-10 14:37:14 [WARNING] root: Determinant was negative! Clipping Eigenvalues to 0+epsilon from -4.583715735861915e-07\n",
      "2018-07-10 14:37:14 [WARNING] root: Determinant was negative! Clipping Eigenvalues to 0+epsilon from -2.6734976898978857e-08\n",
      "2018-07-10 14:37:14 [WARNING] root: Determinant was negative! Clipping Eigenvalues to 0+epsilon from -3.996068471678882e-07\n",
      "2018-07-10 14:37:14 [WARNING] root: Determinant was negative! Clipping Eigenvalues to 0+epsilon from -1.6680263570378884e-07\n",
      "2018-07-10 14:37:14 [WARNING] root: Determinant was negative! Clipping Eigenvalues to 0+epsilon from -2.1837589514461797e-08\n",
      "2018-07-10 14:37:14 [WARNING] root: Determinant was negative! Clipping Eigenvalues to 0+epsilon from -2.2516448439091619e-07\n",
      "2018-07-10 14:37:14 [WARNING] root: Determinant was negative! Clipping Eigenvalues to 0+epsilon from -3.152647920501295e-08\n",
      "2018-07-10 14:37:14 [WARNING] root: Determinant was negative! Clipping Eigenvalues to 0+epsilon from -6.74605544759288e-08\n",
      "2018-07-10 14:37:14 [ERROR] src.evaluation.evaluator: An exception occurred while training DAGMM_NNAutoEncoder_withoutWindow on Syn Extreme Outliers (mis=0.675): Lapack Error getrf : U(3,3) is 0, U is singular at /pytorch/aten/src/TH/generic/THTensorLapack.c:514\n",
      "2018-07-10 14:37:14 [ERROR] src.evaluation.evaluator: Traceback (most recent call last):\n",
      "  File \"../src/evaluation/evaluator.py\", line 122, in evaluate\n",
      "    det.fit(X_train.copy(), y_train.copy())\n",
      "  File \"../src/algorithms/dagmm.py\", line 203, in fit\n",
      "    self.dagmm_step(input_data.float())\n",
      "  File \"../src/algorithms/dagmm.py\", line 177, in dagmm_step\n",
      "    self.lambda_cov_diag)\n",
      "  File \"../src/algorithms/dagmm.py\", line 144, in loss_function\n",
      "    sample_energy, cov_diag = self.compute_energy(z, phi, mu, cov)\n",
      "  File \"../src/algorithms/dagmm.py\", line 113, in compute_energy\n",
      "    cov_inverse.append(torch.inverse(cov_k).unsqueeze(0))\n",
      "RuntimeError: Lapack Error getrf : U(3,3) is 0, U is singular at /pytorch/aten/src/TH/generic/THTensorLapack.c:514\n",
      "\n"
     ]
    },
    {
     "name": "stderr",
     "output_type": "stream",
     "text": [
      "\r",
      "                                                                               \r",
      "\r",
      " 42% (3 of 7) |###########               | Elapsed Time: 0:03:19 ETA:   0:03:14"
     ]
    },
    {
     "name": "stdout",
     "output_type": "stream",
     "text": [
      "2018-07-10 14:37:14 [INFO] src.evaluation.evaluator: Training DAGMM_NNAutoEncoder_withWindow on Syn Extreme Outliers (mis=0.675) with seed 3693305650\n"
     ]
    },
    {
     "name": "stderr",
     "output_type": "stream",
     "text": [
      "\r",
      "                                                                               \r",
      "\r",
      " 57% (4 of 7) |##############            | Elapsed Time: 0:03:23 ETA:   0:00:11"
     ]
    },
    {
     "name": "stdout",
     "output_type": "stream",
     "text": [
      "2018-07-10 14:37:18 [INFO] src.evaluation.evaluator: Training DAGMM_LSTMAutoEncoder_withWindow on Syn Extreme Outliers (mis=0.675) with seed 3693305650\n"
     ]
    },
    {
     "name": "stderr",
     "output_type": "stream",
     "text": [
      "\r",
      "                                                                               \r",
      "\r",
      " 71% (5 of 7) |##################        | Elapsed Time: 0:03:53 ETA:   0:01:00"
     ]
    },
    {
     "name": "stdout",
     "output_type": "stream",
     "text": [
      "2018-07-10 14:37:48 [INFO] src.evaluation.evaluator: Training Recurrent EBM on Syn Extreme Outliers (mis=0.675) with seed 3693305650\n"
     ]
    },
    {
     "name": "stderr",
     "output_type": "stream",
     "text": [
      "100%|██████████| 15/15 [00:06<00:00,  2.24it/s]\n",
      " 85% (6 of 7) |######################    | Elapsed Time: 0:04:15 ETA:   0:00:21"
     ]
    },
    {
     "name": "stdout",
     "output_type": "stream",
     "text": [
      "2018-07-10 14:38:10 [INFO] src.evaluation.evaluator: Training Donut on Syn Extreme Outliers (mis=0.675) with seed 3693305650\n"
     ]
    },
    {
     "name": "stderr",
     "output_type": "stream",
     "text": [
      "100%|██████████| 1/1 [00:21<00:00, 21.46s/it]\n",
      "100% (7 of 7) |##########################| Elapsed Time: 0:04:45 Time:  0:04:45\n",
      "N/A% (0 of 7) |                          | Elapsed Time: 0:00:00 ETA:  --:--:--"
     ]
    },
    {
     "name": "stdout",
     "output_type": "stream",
     "text": [
      "2018-07-10 14:38:41 [INFO] src.evaluation.evaluator: Training LSTM-AD on Syn Extreme Outliers (mis=0.9) with seed 3693305650\n"
     ]
    },
    {
     "name": "stderr",
     "output_type": "stream",
     "text": [
      "\r",
      "                                                                               \r",
      "\r",
      " 14% (1 of 7) |###                       | Elapsed Time: 0:01:41 ETA:   0:10:09"
     ]
    },
    {
     "name": "stdout",
     "output_type": "stream",
     "text": [
      "2018-07-10 14:40:22 [INFO] src.evaluation.evaluator: Training LSTMED on Syn Extreme Outliers (mis=0.9) with seed 3693305650\n"
     ]
    },
    {
     "name": "stderr",
     "output_type": "stream",
     "text": [
      "\r",
      "                                                                               \r",
      "\r",
      " 28% (2 of 7) |#######                   | Elapsed Time: 0:03:18 ETA:   0:08:04"
     ]
    },
    {
     "name": "stdout",
     "output_type": "stream",
     "text": [
      "2018-07-10 14:41:59 [INFO] src.evaluation.evaluator: Training DAGMM_NNAutoEncoder_withoutWindow on Syn Extreme Outliers (mis=0.9) with seed 3693305650\n",
      "2018-07-10 14:41:59 [WARNING] root: Determinant was negative! Clipping Eigenvalues to 0+epsilon from -2.6723648716142634e-07\n",
      "2018-07-10 14:41:59 [WARNING] root: Determinant was negative! Clipping Eigenvalues to 0+epsilon from -6.884244641014448e-08\n",
      "2018-07-10 14:41:59 [WARNING] root: Determinant was negative! Clipping Eigenvalues to 0+epsilon from -3.2341848310579735e-08\n",
      "2018-07-10 14:41:59 [WARNING] root: Determinant was negative! Clipping Eigenvalues to 0+epsilon from -2.8953684250154765e-07\n",
      "2018-07-10 14:41:59 [WARNING] root: Determinant was negative! Clipping Eigenvalues to 0+epsilon from -5.48448717552219e-08\n",
      "2018-07-10 14:41:59 [WARNING] root: Determinant was negative! Clipping Eigenvalues to 0+epsilon from -1.829170770406563e-07\n",
      "2018-07-10 14:41:59 [WARNING] root: Determinant was negative! Clipping Eigenvalues to 0+epsilon from -6.012155040480138e-08\n",
      "2018-07-10 14:41:59 [WARNING] root: Determinant was negative! Clipping Eigenvalues to 0+epsilon from -5.913953060598942e-08\n",
      "2018-07-10 14:41:59 [WARNING] root: Determinant was negative! Clipping Eigenvalues to 0+epsilon from -4.8584055889477895e-08\n",
      "2018-07-10 14:42:00 [WARNING] root: Determinant was negative! Clipping Eigenvalues to 0+epsilon from -2.25505147000149e-07\n",
      "2018-07-10 14:42:00 [WARNING] root: Determinant was negative! Clipping Eigenvalues to 0+epsilon from -2.485421077835781e-07\n",
      "2018-07-10 14:42:00 [WARNING] root: Determinant was negative! Clipping Eigenvalues to 0+epsilon from -1.2381495650970464e-07\n",
      "2018-07-10 14:42:00 [WARNING] root: An Eigenvalue is zero! Calculating pseudo inverse.\n",
      "2018-07-10 14:42:00 [WARNING] root: An Eigenvalue is zero! Calculating pseudo inverse.\n",
      "2018-07-10 14:42:00 [WARNING] root: Determinant was negative! Clipping Eigenvalues to 0+epsilon from -2.1806769723298203e-08\n",
      "2018-07-10 14:42:00 [WARNING] root: Determinant was negative! Clipping Eigenvalues to 0+epsilon from -2.787769517453853e-07\n",
      "2018-07-10 14:42:00 [WARNING] root: Determinant was negative! Clipping Eigenvalues to 0+epsilon from -1.784619172440216e-07\n",
      "2018-07-10 14:42:00 [WARNING] root: Determinant was negative! Clipping Eigenvalues to 0+epsilon from -5.516169494512724e-07\n",
      "2018-07-10 14:42:00 [WARNING] root: Determinant was negative! Clipping Eigenvalues to 0+epsilon from -5.506414169076379e-08\n",
      "2018-07-10 14:42:00 [WARNING] root: Determinant was negative! Clipping Eigenvalues to 0+epsilon from -4.6693597255398345e-07\n",
      "2018-07-10 14:42:00 [WARNING] root: Determinant was negative! Clipping Eigenvalues to 0+epsilon from -4.076919708495552e-07\n",
      "2018-07-10 14:42:00 [WARNING] root: Determinant was negative! Clipping Eigenvalues to 0+epsilon from -4.299304237065371e-07\n",
      "2018-07-10 14:42:00 [WARNING] root: Determinant was negative! Clipping Eigenvalues to 0+epsilon from -1.0933341343388747e-07\n",
      "2018-07-10 14:42:00 [WARNING] root: Determinant was negative! Clipping Eigenvalues to 0+epsilon from -1.053206688084174e-06\n",
      "2018-07-10 14:42:00 [WARNING] root: Determinant was negative! Clipping Eigenvalues to 0+epsilon from -1.0831408303602075e-07\n",
      "2018-07-10 14:42:00 [WARNING] root: Determinant was negative! Clipping Eigenvalues to 0+epsilon from -9.991492078142983e-09\n",
      "2018-07-10 14:42:00 [ERROR] src.evaluation.evaluator: An exception occurred while training DAGMM_NNAutoEncoder_withoutWindow on Syn Extreme Outliers (mis=0.9): Lapack Error getrf : U(3,3) is 0, U is singular at /pytorch/aten/src/TH/generic/THTensorLapack.c:514\n",
      "2018-07-10 14:42:00 [ERROR] src.evaluation.evaluator: Traceback (most recent call last):\n",
      "  File \"../src/evaluation/evaluator.py\", line 122, in evaluate\n",
      "    det.fit(X_train.copy(), y_train.copy())\n",
      "  File \"../src/algorithms/dagmm.py\", line 203, in fit\n",
      "    self.dagmm_step(input_data.float())\n",
      "  File \"../src/algorithms/dagmm.py\", line 177, in dagmm_step\n",
      "    self.lambda_cov_diag)\n",
      "  File \"../src/algorithms/dagmm.py\", line 144, in loss_function\n",
      "    sample_energy, cov_diag = self.compute_energy(z, phi, mu, cov)\n",
      "  File \"../src/algorithms/dagmm.py\", line 113, in compute_energy\n",
      "    cov_inverse.append(torch.inverse(cov_k).unsqueeze(0))\n",
      "RuntimeError: Lapack Error getrf : U(3,3) is 0, U is singular at /pytorch/aten/src/TH/generic/THTensorLapack.c:514\n",
      "\n"
     ]
    },
    {
     "name": "stderr",
     "output_type": "stream",
     "text": [
      "\r",
      "                                                                               \r",
      "\r",
      " 42% (3 of 7) |###########               | Elapsed Time: 0:03:18 ETA:   0:03:14"
     ]
    },
    {
     "name": "stdout",
     "output_type": "stream",
     "text": [
      "2018-07-10 14:42:00 [INFO] src.evaluation.evaluator: Training DAGMM_NNAutoEncoder_withWindow on Syn Extreme Outliers (mis=0.9) with seed 3693305650\n"
     ]
    },
    {
     "name": "stderr",
     "output_type": "stream",
     "text": [
      "\r",
      "                                                                               \r",
      "\r",
      " 57% (4 of 7) |##############            | Elapsed Time: 0:03:22 ETA:   0:00:11"
     ]
    },
    {
     "name": "stdout",
     "output_type": "stream",
     "text": [
      "2018-07-10 14:42:04 [INFO] src.evaluation.evaluator: Training DAGMM_LSTMAutoEncoder_withWindow on Syn Extreme Outliers (mis=0.9) with seed 3693305650\n"
     ]
    },
    {
     "name": "stderr",
     "output_type": "stream",
     "text": [
      "\r",
      "                                                                               \r",
      "\r",
      " 71% (5 of 7) |##################        | Elapsed Time: 0:03:52 ETA:   0:01:00"
     ]
    },
    {
     "name": "stdout",
     "output_type": "stream",
     "text": [
      "2018-07-10 14:42:34 [INFO] src.evaluation.evaluator: Training Recurrent EBM on Syn Extreme Outliers (mis=0.9) with seed 3693305650\n"
     ]
    },
    {
     "name": "stderr",
     "output_type": "stream",
     "text": [
      "100%|██████████| 15/15 [00:06<00:00,  2.23it/s]\n",
      " 85% (6 of 7) |######################    | Elapsed Time: 0:04:15 ETA:   0:00:22"
     ]
    },
    {
     "name": "stdout",
     "output_type": "stream",
     "text": [
      "2018-07-10 14:42:56 [INFO] src.evaluation.evaluator: Training Donut on Syn Extreme Outliers (mis=0.9) with seed 3693305650\n"
     ]
    },
    {
     "name": "stderr",
     "output_type": "stream",
     "text": [
      "100%|██████████| 1/1 [00:22<00:00, 22.11s/it]\n",
      "100% (7 of 7) |##########################| Elapsed Time: 0:04:46 Time:  0:04:46\n",
      "100% (5 of 5) |##########################| Elapsed Time: 0:25:04 Time:  0:25:04\n"
     ]
    },
    {
     "name": "stdout",
     "output_type": "stream",
     "text": [
      "2018-07-10 14:43:30 [INFO] src.evaluation.evaluator: Store evaluator results at /home/thomas/work/notebooks/data_30/missing-run-2-3693305650-2018-07-10-144330.pkl\n"
     ]
    },
    {
     "name": "stderr",
     "output_type": "stream",
     "text": [
      "N/A% (0 of 7) |                          | Elapsed Time: 0:00:00 ETA:  --:--:--"
     ]
    },
    {
     "name": "stdout",
     "output_type": "stream",
     "text": [
      "2018-07-10 14:43:30 [INFO] src.evaluation.evaluator: Training LSTM-AD on Syn Extreme Outliers (mis=0.0) with seed 2433894116\n"
     ]
    },
    {
     "name": "stderr",
     "output_type": "stream",
     "text": [
      "\r",
      "                                                                               \r",
      "\r",
      " 14% (1 of 7) |###                       | Elapsed Time: 0:01:41 ETA:   0:10:10"
     ]
    },
    {
     "name": "stdout",
     "output_type": "stream",
     "text": [
      "2018-07-10 14:45:12 [INFO] src.evaluation.evaluator: Training LSTMED on Syn Extreme Outliers (mis=0.0) with seed 2433894116\n"
     ]
    },
    {
     "name": "stderr",
     "output_type": "stream",
     "text": [
      "\r",
      "                                                                               \r",
      "\r",
      " 28% (2 of 7) |#######                   | Elapsed Time: 0:03:18 ETA:   0:08:04"
     ]
    },
    {
     "name": "stdout",
     "output_type": "stream",
     "text": [
      "2018-07-10 14:46:49 [INFO] src.evaluation.evaluator: Training DAGMM_NNAutoEncoder_withoutWindow on Syn Extreme Outliers (mis=0.0) with seed 2433894116\n",
      "2018-07-10 14:46:49 [WARNING] root: Determinant was negative! Clipping Eigenvalues to 0+epsilon from -3.668720438554374e-08\n",
      "2018-07-10 14:46:50 [WARNING] root: Determinant was negative! Clipping Eigenvalues to 0+epsilon from -3.50408612348474e-07\n",
      "2018-07-10 14:46:51 [WARNING] root: Determinant was negative! Clipping Eigenvalues to 0+epsilon from -2.6170271283376678e-08\n",
      "2018-07-10 14:46:51 [WARNING] root: Determinant was negative! Clipping Eigenvalues to 0+epsilon from -4.214323823248378e-08\n",
      "2018-07-10 14:46:51 [WARNING] root: Determinant was negative! Clipping Eigenvalues to 0+epsilon from -3.768862555375563e-08\n",
      "2018-07-10 14:46:51 [WARNING] root: Determinant was negative! Clipping Eigenvalues to 0+epsilon from -1.514979608430167e-08\n"
     ]
    },
    {
     "name": "stderr",
     "output_type": "stream",
     "text": [
      "\r",
      "                                                                               \r",
      "\r",
      " 42% (3 of 7) |###########               | Elapsed Time: 0:03:22 ETA:   0:00:15"
     ]
    },
    {
     "name": "stdout",
     "output_type": "stream",
     "text": [
      "2018-07-10 14:46:53 [INFO] src.evaluation.evaluator: Training DAGMM_NNAutoEncoder_withWindow on Syn Extreme Outliers (mis=0.0) with seed 2433894116\n"
     ]
    },
    {
     "name": "stderr",
     "output_type": "stream",
     "text": [
      "\r",
      "                                                                               \r",
      "\r",
      " 57% (4 of 7) |##############            | Elapsed Time: 0:03:26 ETA:   0:00:11"
     ]
    },
    {
     "name": "stdout",
     "output_type": "stream",
     "text": [
      "2018-07-10 14:46:57 [INFO] src.evaluation.evaluator: Training DAGMM_LSTMAutoEncoder_withWindow on Syn Extreme Outliers (mis=0.0) with seed 2433894116\n"
     ]
    },
    {
     "name": "stderr",
     "output_type": "stream",
     "text": [
      "\r",
      "                                                                               \r",
      "\r",
      " 71% (5 of 7) |##################        | Elapsed Time: 0:03:56 ETA:   0:01:00"
     ]
    },
    {
     "name": "stdout",
     "output_type": "stream",
     "text": [
      "2018-07-10 14:47:27 [INFO] src.evaluation.evaluator: Training Recurrent EBM on Syn Extreme Outliers (mis=0.0) with seed 2433894116\n"
     ]
    },
    {
     "name": "stderr",
     "output_type": "stream",
     "text": [
      "100%|██████████| 15/15 [00:06<00:00,  2.19it/s]\n",
      " 85% (6 of 7) |######################    | Elapsed Time: 0:04:19 ETA:   0:00:22"
     ]
    },
    {
     "name": "stdout",
     "output_type": "stream",
     "text": [
      "2018-07-10 14:47:50 [INFO] src.evaluation.evaluator: Training Donut on Syn Extreme Outliers (mis=0.0) with seed 2433894116\n"
     ]
    },
    {
     "name": "stderr",
     "output_type": "stream",
     "text": [
      "\r",
      "  0%|          | 0/1 [00:00<?, ?it/s]"
     ]
    },
    {
     "name": "stdout",
     "output_type": "stream",
     "text": [
      "INFO:tensorflow:Restoring parameters from /tmp/tmpcx2c2zt7/variables.dat-1200\n",
      "2018-07-10 14:49:53 [INFO] tensorflow: Restoring parameters from /tmp/tmpcx2c2zt7/variables.dat-1200\n"
     ]
    },
    {
     "name": "stderr",
     "output_type": "stream",
     "text": [
      "100%|██████████| 1/1 [02:03<00:00, 123.52s/it]\n",
      "100% (7 of 7) |##########################| Elapsed Time: 0:06:32 Time:  0:06:32\n",
      "N/A% (0 of 7) |                          | Elapsed Time: 0:00:00 ETA:  --:--:--"
     ]
    },
    {
     "name": "stdout",
     "output_type": "stream",
     "text": [
      "2018-07-10 14:50:03 [INFO] src.evaluation.evaluator: Training LSTM-AD on Syn Extreme Outliers (mis=0.225) with seed 2433894116\n"
     ]
    },
    {
     "name": "stderr",
     "output_type": "stream",
     "text": [
      "\r",
      "                                                                               \r",
      "\r",
      " 14% (1 of 7) |###                       | Elapsed Time: 0:01:43 ETA:   0:10:18"
     ]
    },
    {
     "name": "stdout",
     "output_type": "stream",
     "text": [
      "2018-07-10 14:51:46 [INFO] src.evaluation.evaluator: Training LSTMED on Syn Extreme Outliers (mis=0.225) with seed 2433894116\n"
     ]
    },
    {
     "name": "stderr",
     "output_type": "stream",
     "text": [
      "\r",
      "                                                                               \r",
      "\r",
      " 28% (2 of 7) |#######                   | Elapsed Time: 0:03:20 ETA:   0:08:05"
     ]
    },
    {
     "name": "stdout",
     "output_type": "stream",
     "text": [
      "2018-07-10 14:53:23 [INFO] src.evaluation.evaluator: Training DAGMM_NNAutoEncoder_withoutWindow on Syn Extreme Outliers (mis=0.225) with seed 2433894116\n",
      "2018-07-10 14:53:23 [WARNING] root: Determinant was negative! Clipping Eigenvalues to 0+epsilon from -4.1097820258073625e-07\n",
      "2018-07-10 14:53:23 [WARNING] root: Determinant was negative! Clipping Eigenvalues to 0+epsilon from -4.469482064450858e-07\n",
      "2018-07-10 14:53:23 [WARNING] root: Determinant was negative! Clipping Eigenvalues to 0+epsilon from -4.1746497458916565e-07\n",
      "2018-07-10 14:53:23 [WARNING] root: Determinant was negative! Clipping Eigenvalues to 0+epsilon from -1.3027118939135107e-07\n",
      "2018-07-10 14:53:23 [WARNING] root: Determinant was negative! Clipping Eigenvalues to 0+epsilon from -2.3906605406409653e-07\n",
      "2018-07-10 14:53:23 [WARNING] root: Determinant was negative! Clipping Eigenvalues to 0+epsilon from -4.5564377160189906e-08\n",
      "2018-07-10 14:53:23 [WARNING] root: Determinant was negative! Clipping Eigenvalues to 0+epsilon from -2.3138558447044488e-07\n",
      "2018-07-10 14:53:23 [WARNING] root: Determinant was negative! Clipping Eigenvalues to 0+epsilon from -6.192256023496157e-07\n",
      "2018-07-10 14:53:23 [WARNING] root: Determinant was negative! Clipping Eigenvalues to 0+epsilon from -1.4216270471933967e-07\n",
      "2018-07-10 14:53:23 [WARNING] root: Determinant was negative! Clipping Eigenvalues to 0+epsilon from -4.541496139154333e-07\n",
      "2018-07-10 14:53:23 [WARNING] root: Determinant was negative! Clipping Eigenvalues to 0+epsilon from -2.977707254103734e-07\n",
      "2018-07-10 14:53:23 [WARNING] root: Determinant was negative! Clipping Eigenvalues to 0+epsilon from -6.788841346860863e-07\n",
      "2018-07-10 14:53:23 [WARNING] root: Determinant was negative! Clipping Eigenvalues to 0+epsilon from -1.627055468134131e-07\n",
      "2018-07-10 14:53:23 [WARNING] root: Determinant was negative! Clipping Eigenvalues to 0+epsilon from -3.476544563341122e-08\n",
      "2018-07-10 14:53:23 [WARNING] root: Determinant was negative! Clipping Eigenvalues to 0+epsilon from -2.5314939477993903e-08\n",
      "2018-07-10 14:53:23 [WARNING] root: Determinant was negative! Clipping Eigenvalues to 0+epsilon from -3.900734952821949e-07\n",
      "2018-07-10 14:53:23 [WARNING] root: Determinant was negative! Clipping Eigenvalues to 0+epsilon from -3.948889286675694e-07\n",
      "2018-07-10 14:53:23 [WARNING] root: Determinant was negative! Clipping Eigenvalues to 0+epsilon from -3.592424846488029e-08\n",
      "2018-07-10 14:53:23 [WARNING] root: Determinant was negative! Clipping Eigenvalues to 0+epsilon from -3.212728572066226e-08\n",
      "2018-07-10 14:53:23 [WARNING] root: Determinant was negative! Clipping Eigenvalues to 0+epsilon from -2.0209832030104735e-07\n",
      "2018-07-10 14:53:23 [WARNING] root: Determinant was negative! Clipping Eigenvalues to 0+epsilon from -1.3699042256121174e-07\n",
      "2018-07-10 14:53:23 [WARNING] root: Determinant was negative! Clipping Eigenvalues to 0+epsilon from -7.911327202236862e-07\n",
      "2018-07-10 14:53:23 [WARNING] root: Determinant was negative! Clipping Eigenvalues to 0+epsilon from -4.835426352656214e-07\n",
      "2018-07-10 14:53:23 [WARNING] root: Determinant was negative! Clipping Eigenvalues to 0+epsilon from -1.5341917958267004e-07\n",
      "2018-07-10 14:53:23 [WARNING] root: Determinant was negative! Clipping Eigenvalues to 0+epsilon from -9.638254283572678e-08\n",
      "2018-07-10 14:53:23 [WARNING] root: Determinant was negative! Clipping Eigenvalues to 0+epsilon from -8.442854237955544e-08\n",
      "2018-07-10 14:53:24 [WARNING] root: Determinant was negative! Clipping Eigenvalues to 0+epsilon from -7.619424025051558e-08\n",
      "2018-07-10 14:53:24 [WARNING] root: Determinant was negative! Clipping Eigenvalues to 0+epsilon from -2.9903461040703405e-08\n",
      "2018-07-10 14:53:24 [WARNING] root: Determinant was negative! Clipping Eigenvalues to 0+epsilon from -1.930646220671406e-07\n",
      "2018-07-10 14:53:24 [WARNING] root: Determinant was negative! Clipping Eigenvalues to 0+epsilon from -2.737192232871166e-07\n",
      "2018-07-10 14:53:24 [WARNING] root: Determinant was negative! Clipping Eigenvalues to 0+epsilon from -5.918037260244091e-08\n",
      "2018-07-10 14:53:24 [WARNING] root: Determinant was negative! Clipping Eigenvalues to 0+epsilon from -2.300368606711345e-07\n",
      "2018-07-10 14:53:24 [WARNING] root: Determinant was negative! Clipping Eigenvalues to 0+epsilon from -1.8820841773958819e-07\n",
      "2018-07-10 14:53:24 [WARNING] root: Determinant was negative! Clipping Eigenvalues to 0+epsilon from -1.6958473736394808e-08\n",
      "2018-07-10 14:53:24 [WARNING] root: Determinant was negative! Clipping Eigenvalues to 0+epsilon from -2.3940484084050695e-07\n",
      "2018-07-10 14:53:24 [ERROR] src.evaluation.evaluator: An exception occurred while training DAGMM_NNAutoEncoder_withoutWindow on Syn Extreme Outliers (mis=0.225): Lapack Error getrf : U(3,3) is 0, U is singular at /pytorch/aten/src/TH/generic/THTensorLapack.c:514\n",
      "2018-07-10 14:53:24 [ERROR] src.evaluation.evaluator: Traceback (most recent call last):\n",
      "  File \"../src/evaluation/evaluator.py\", line 122, in evaluate\n",
      "    det.fit(X_train.copy(), y_train.copy())\n",
      "  File \"../src/algorithms/dagmm.py\", line 203, in fit\n",
      "    self.dagmm_step(input_data.float())\n",
      "  File \"../src/algorithms/dagmm.py\", line 177, in dagmm_step\n",
      "    self.lambda_cov_diag)\n",
      "  File \"../src/algorithms/dagmm.py\", line 144, in loss_function\n",
      "    sample_energy, cov_diag = self.compute_energy(z, phi, mu, cov)\n",
      "  File \"../src/algorithms/dagmm.py\", line 113, in compute_energy\n",
      "    cov_inverse.append(torch.inverse(cov_k).unsqueeze(0))\n",
      "RuntimeError: Lapack Error getrf : U(3,3) is 0, U is singular at /pytorch/aten/src/TH/generic/THTensorLapack.c:514\n",
      "\n"
     ]
    },
    {
     "name": "stderr",
     "output_type": "stream",
     "text": [
      "\r",
      "                                                                               \r",
      "\r",
      " 42% (3 of 7) |###########               | Elapsed Time: 0:03:20 ETA:   0:03:15"
     ]
    },
    {
     "name": "stdout",
     "output_type": "stream",
     "text": [
      "2018-07-10 14:53:24 [INFO] src.evaluation.evaluator: Training DAGMM_NNAutoEncoder_withWindow on Syn Extreme Outliers (mis=0.225) with seed 2433894116\n"
     ]
    },
    {
     "name": "stderr",
     "output_type": "stream",
     "text": [
      "\r",
      "                                                                               \r",
      "\r",
      " 57% (4 of 7) |##############            | Elapsed Time: 0:03:24 ETA:   0:00:11"
     ]
    },
    {
     "name": "stdout",
     "output_type": "stream",
     "text": [
      "2018-07-10 14:53:28 [INFO] src.evaluation.evaluator: Training DAGMM_LSTMAutoEncoder_withWindow on Syn Extreme Outliers (mis=0.225) with seed 2433894116\n"
     ]
    },
    {
     "name": "stderr",
     "output_type": "stream",
     "text": [
      "\r",
      "                                                                               \r",
      "\r",
      " 71% (5 of 7) |##################        | Elapsed Time: 0:03:55 ETA:   0:01:00"
     ]
    },
    {
     "name": "stdout",
     "output_type": "stream",
     "text": [
      "2018-07-10 14:53:58 [INFO] src.evaluation.evaluator: Training Recurrent EBM on Syn Extreme Outliers (mis=0.225) with seed 2433894116\n"
     ]
    },
    {
     "name": "stderr",
     "output_type": "stream",
     "text": [
      "100%|██████████| 15/15 [00:06<00:00,  2.23it/s]\n",
      " 85% (6 of 7) |######################    | Elapsed Time: 0:04:18 ETA:   0:00:22"
     ]
    },
    {
     "name": "stdout",
     "output_type": "stream",
     "text": [
      "2018-07-10 14:54:21 [INFO] src.evaluation.evaluator: Training Donut on Syn Extreme Outliers (mis=0.225) with seed 2433894116\n"
     ]
    },
    {
     "name": "stderr",
     "output_type": "stream",
     "text": [
      "100%|██████████| 1/1 [00:23<00:00, 23.48s/it]\n",
      "100% (7 of 7) |##########################| Elapsed Time: 0:04:51 Time:  0:04:51\n",
      "N/A% (0 of 7) |                          | Elapsed Time: 0:00:00 ETA:  --:--:--"
     ]
    },
    {
     "name": "stdout",
     "output_type": "stream",
     "text": [
      "2018-07-10 14:54:54 [INFO] src.evaluation.evaluator: Training LSTM-AD on Syn Extreme Outliers (mis=0.45) with seed 2433894116\n"
     ]
    },
    {
     "name": "stderr",
     "output_type": "stream",
     "text": [
      "\r",
      "                                                                               \r",
      "\r",
      " 14% (1 of 7) |###                       | Elapsed Time: 0:01:41 ETA:   0:10:10"
     ]
    },
    {
     "name": "stdout",
     "output_type": "stream",
     "text": [
      "2018-07-10 14:56:36 [INFO] src.evaluation.evaluator: Training LSTMED on Syn Extreme Outliers (mis=0.45) with seed 2433894116\n"
     ]
    },
    {
     "name": "stderr",
     "output_type": "stream",
     "text": [
      "\r",
      "                                                                               \r",
      "\r",
      " 28% (2 of 7) |#######                   | Elapsed Time: 0:03:18 ETA:   0:08:05"
     ]
    },
    {
     "name": "stdout",
     "output_type": "stream",
     "text": [
      "2018-07-10 14:58:13 [INFO] src.evaluation.evaluator: Training DAGMM_NNAutoEncoder_withoutWindow on Syn Extreme Outliers (mis=0.45) with seed 2433894116\n",
      "2018-07-10 14:58:13 [WARNING] root: Determinant was negative! Clipping Eigenvalues to 0+epsilon from -2.306003779040111e-07\n",
      "2018-07-10 14:58:13 [WARNING] root: Determinant was negative! Clipping Eigenvalues to 0+epsilon from -1.1948579015097494e-07\n",
      "2018-07-10 14:58:13 [WARNING] root: Determinant was negative! Clipping Eigenvalues to 0+epsilon from -1.4972916062561126e-07\n",
      "2018-07-10 14:58:13 [WARNING] root: Determinant was negative! Clipping Eigenvalues to 0+epsilon from -6.73128965900105e-07\n",
      "2018-07-10 14:58:13 [WARNING] root: Determinant was negative! Clipping Eigenvalues to 0+epsilon from -7.249702775879996e-07\n",
      "2018-07-10 14:58:13 [WARNING] root: Determinant was negative! Clipping Eigenvalues to 0+epsilon from -1.299706724466887e-07\n",
      "2018-07-10 14:58:13 [WARNING] root: Determinant was negative! Clipping Eigenvalues to 0+epsilon from -2.0274858059110556e-07\n",
      "2018-07-10 14:58:13 [WARNING] root: Determinant was negative! Clipping Eigenvalues to 0+epsilon from -2.5190351493620255e-07\n",
      "2018-07-10 14:58:13 [WARNING] root: Determinant was negative! Clipping Eigenvalues to 0+epsilon from -2.587764242889534e-07\n",
      "2018-07-10 14:58:13 [WARNING] root: Determinant was negative! Clipping Eigenvalues to 0+epsilon from -6.437891215682612e-07\n",
      "2018-07-10 14:58:13 [WARNING] root: Determinant was negative! Clipping Eigenvalues to 0+epsilon from -5.867242407475715e-07\n",
      "2018-07-10 14:58:13 [WARNING] root: Determinant was negative! Clipping Eigenvalues to 0+epsilon from -1.2955408124071255e-07\n",
      "2018-07-10 14:58:13 [WARNING] root: Determinant was negative! Clipping Eigenvalues to 0+epsilon from -3.581495491289388e-07\n",
      "2018-07-10 14:58:13 [WARNING] root: Determinant was negative! Clipping Eigenvalues to 0+epsilon from -1.9319529656058876e-06\n",
      "2018-07-10 14:58:13 [WARNING] root: Determinant was negative! Clipping Eigenvalues to 0+epsilon from -1.637266393572645e-07\n",
      "2018-07-10 14:58:13 [WARNING] root: Determinant was negative! Clipping Eigenvalues to 0+epsilon from -6.212574703567952e-07\n",
      "2018-07-10 14:58:13 [WARNING] root: Determinant was negative! Clipping Eigenvalues to 0+epsilon from -4.4000051957482356e-07\n",
      "2018-07-10 14:58:13 [WARNING] root: Determinant was negative! Clipping Eigenvalues to 0+epsilon from -5.55067913410312e-07\n",
      "2018-07-10 14:58:14 [WARNING] root: Determinant was negative! Clipping Eigenvalues to 0+epsilon from -2.810417072396376e-07\n",
      "2018-07-10 14:58:14 [WARNING] root: Determinant was negative! Clipping Eigenvalues to 0+epsilon from -5.354482368602476e-07\n",
      "2018-07-10 14:58:14 [WARNING] root: Determinant was negative! Clipping Eigenvalues to 0+epsilon from -3.708703104621236e-07\n",
      "2018-07-10 14:58:14 [WARNING] root: Determinant was negative! Clipping Eigenvalues to 0+epsilon from -4.659857211208873e-07\n",
      "2018-07-10 14:58:14 [WARNING] root: Determinant was negative! Clipping Eigenvalues to 0+epsilon from -5.199327688387712e-07\n",
      "2018-07-10 14:58:14 [WARNING] root: Determinant was negative! Clipping Eigenvalues to 0+epsilon from -1.0103558452101424e-06\n",
      "2018-07-10 14:58:14 [WARNING] root: Determinant was negative! Clipping Eigenvalues to 0+epsilon from -3.842483522475959e-07\n",
      "2018-07-10 14:58:14 [WARNING] root: Determinant was negative! Clipping Eigenvalues to 0+epsilon from -1.660910413647798e-07\n",
      "2018-07-10 14:58:14 [WARNING] root: Determinant was negative! Clipping Eigenvalues to 0+epsilon from -5.471760005093529e-07\n",
      "2018-07-10 14:58:14 [WARNING] root: Determinant was negative! Clipping Eigenvalues to 0+epsilon from -6.509208674287947e-07\n",
      "2018-07-10 14:58:14 [WARNING] root: Determinant was negative! Clipping Eigenvalues to 0+epsilon from -1.5281438336955944e-08\n",
      "2018-07-10 14:58:14 [WARNING] root: Determinant was negative! Clipping Eigenvalues to 0+epsilon from -1.9048317767556e-07\n",
      "2018-07-10 14:58:14 [WARNING] root: Determinant was negative! Clipping Eigenvalues to 0+epsilon from -2.8304390298217186e-07\n",
      "2018-07-10 14:58:14 [WARNING] root: Determinant was negative! Clipping Eigenvalues to 0+epsilon from -2.652475643571961e-07\n",
      "2018-07-10 14:58:14 [WARNING] root: Determinant was negative! Clipping Eigenvalues to 0+epsilon from -2.5436381179133605e-07\n",
      "2018-07-10 14:58:14 [WARNING] root: Determinant was negative! Clipping Eigenvalues to 0+epsilon from -1.993913656406221e-07\n",
      "2018-07-10 14:58:14 [WARNING] root: Determinant was negative! Clipping Eigenvalues to 0+epsilon from -9.252152608496544e-07\n",
      "2018-07-10 14:58:14 [WARNING] root: Determinant was negative! Clipping Eigenvalues to 0+epsilon from -1.9728139477592777e-07\n",
      "2018-07-10 14:58:14 [WARNING] root: Determinant was negative! Clipping Eigenvalues to 0+epsilon from -6.126135758677265e-07\n",
      "2018-07-10 14:58:14 [WARNING] root: Determinant was negative! Clipping Eigenvalues to 0+epsilon from -4.952702283844701e-07\n",
      "2018-07-10 14:58:14 [WARNING] root: Determinant was negative! Clipping Eigenvalues to 0+epsilon from -2.280579849411879e-07\n",
      "2018-07-10 14:58:14 [ERROR] src.evaluation.evaluator: An exception occurred while training DAGMM_NNAutoEncoder_withoutWindow on Syn Extreme Outliers (mis=0.45): Lapack Error getrf : U(3,3) is 0, U is singular at /pytorch/aten/src/TH/generic/THTensorLapack.c:514\n",
      "2018-07-10 14:58:14 [ERROR] src.evaluation.evaluator: Traceback (most recent call last):\n",
      "  File \"../src/evaluation/evaluator.py\", line 122, in evaluate\n",
      "    det.fit(X_train.copy(), y_train.copy())\n",
      "  File \"../src/algorithms/dagmm.py\", line 203, in fit\n",
      "    self.dagmm_step(input_data.float())\n",
      "  File \"../src/algorithms/dagmm.py\", line 177, in dagmm_step\n",
      "    self.lambda_cov_diag)\n",
      "  File \"../src/algorithms/dagmm.py\", line 144, in loss_function\n",
      "    sample_energy, cov_diag = self.compute_energy(z, phi, mu, cov)\n",
      "  File \"../src/algorithms/dagmm.py\", line 113, in compute_energy\n",
      "    cov_inverse.append(torch.inverse(cov_k).unsqueeze(0))\n",
      "RuntimeError: Lapack Error getrf : U(3,3) is 0, U is singular at /pytorch/aten/src/TH/generic/THTensorLapack.c:514\n",
      "\n"
     ]
    },
    {
     "name": "stderr",
     "output_type": "stream",
     "text": [
      "\r",
      "                                                                               \r",
      "\r",
      " 42% (3 of 7) |###########               | Elapsed Time: 0:03:19 ETA:   0:03:15"
     ]
    },
    {
     "name": "stdout",
     "output_type": "stream",
     "text": [
      "2018-07-10 14:58:14 [INFO] src.evaluation.evaluator: Training DAGMM_NNAutoEncoder_withWindow on Syn Extreme Outliers (mis=0.45) with seed 2433894116\n"
     ]
    },
    {
     "name": "stderr",
     "output_type": "stream",
     "text": [
      "\r",
      "                                                                               \r",
      "\r",
      " 57% (4 of 7) |##############            | Elapsed Time: 0:03:23 ETA:   0:00:11"
     ]
    },
    {
     "name": "stdout",
     "output_type": "stream",
     "text": [
      "2018-07-10 14:58:18 [INFO] src.evaluation.evaluator: Training DAGMM_LSTMAutoEncoder_withWindow on Syn Extreme Outliers (mis=0.45) with seed 2433894116\n"
     ]
    },
    {
     "name": "stderr",
     "output_type": "stream",
     "text": [
      "\r",
      "                                                                               \r",
      "\r",
      " 71% (5 of 7) |##################        | Elapsed Time: 0:03:53 ETA:   0:01:00"
     ]
    },
    {
     "name": "stdout",
     "output_type": "stream",
     "text": [
      "2018-07-10 14:58:48 [INFO] src.evaluation.evaluator: Training Recurrent EBM on Syn Extreme Outliers (mis=0.45) with seed 2433894116\n"
     ]
    },
    {
     "name": "stderr",
     "output_type": "stream",
     "text": [
      "100%|██████████| 15/15 [00:06<00:00,  2.21it/s]\n",
      " 85% (6 of 7) |######################    | Elapsed Time: 0:04:16 ETA:   0:00:23"
     ]
    },
    {
     "name": "stdout",
     "output_type": "stream",
     "text": [
      "2018-07-10 14:59:11 [INFO] src.evaluation.evaluator: Training Donut on Syn Extreme Outliers (mis=0.45) with seed 2433894116\n"
     ]
    },
    {
     "name": "stderr",
     "output_type": "stream",
     "text": [
      "100%|██████████| 1/1 [00:24<00:00, 24.00s/it]\n",
      "100% (7 of 7) |##########################| Elapsed Time: 0:04:51 Time:  0:04:51\n",
      "N/A% (0 of 7) |                          | Elapsed Time: 0:00:00 ETA:  --:--:--"
     ]
    },
    {
     "name": "stdout",
     "output_type": "stream",
     "text": [
      "2018-07-10 14:59:45 [INFO] src.evaluation.evaluator: Training LSTM-AD on Syn Extreme Outliers (mis=0.675) with seed 2433894116\n"
     ]
    },
    {
     "name": "stderr",
     "output_type": "stream",
     "text": [
      "\r",
      "                                                                               \r",
      "\r",
      " 14% (1 of 7) |###                       | Elapsed Time: 0:01:45 ETA:   0:10:34"
     ]
    },
    {
     "name": "stdout",
     "output_type": "stream",
     "text": [
      "2018-07-10 15:01:31 [INFO] src.evaluation.evaluator: Training LSTMED on Syn Extreme Outliers (mis=0.675) with seed 2433894116\n"
     ]
    },
    {
     "name": "stderr",
     "output_type": "stream",
     "text": [
      "\r",
      "                                                                               \r",
      "\r",
      " 28% (2 of 7) |#######                   | Elapsed Time: 0:03:22 ETA:   0:08:06"
     ]
    },
    {
     "name": "stdout",
     "output_type": "stream",
     "text": [
      "2018-07-10 15:03:08 [INFO] src.evaluation.evaluator: Training DAGMM_NNAutoEncoder_withoutWindow on Syn Extreme Outliers (mis=0.675) with seed 2433894116\n",
      "2018-07-10 15:03:08 [WARNING] root: Determinant was negative! Clipping Eigenvalues to 0+epsilon from -5.734652290811937e-07\n",
      "2018-07-10 15:03:08 [WARNING] root: Determinant was negative! Clipping Eigenvalues to 0+epsilon from -1.6783636169748206e-07\n",
      "2018-07-10 15:03:08 [WARNING] root: Determinant was negative! Clipping Eigenvalues to 0+epsilon from -1.1082756401492588e-07\n",
      "2018-07-10 15:03:08 [WARNING] root: Determinant was negative! Clipping Eigenvalues to 0+epsilon from -5.864348651130058e-08\n",
      "2018-07-10 15:03:08 [WARNING] root: Determinant was negative! Clipping Eigenvalues to 0+epsilon from -5.368106030800845e-07\n",
      "2018-07-10 15:03:08 [WARNING] root: Determinant was negative! Clipping Eigenvalues to 0+epsilon from -2.1317383414043434e-07\n",
      "2018-07-10 15:03:08 [WARNING] root: Determinant was negative! Clipping Eigenvalues to 0+epsilon from -6.551656497322256e-07\n",
      "2018-07-10 15:03:08 [WARNING] root: Determinant was negative! Clipping Eigenvalues to 0+epsilon from -1.641201805568926e-07\n",
      "2018-07-10 15:03:08 [WARNING] root: Determinant was negative! Clipping Eigenvalues to 0+epsilon from -7.201646923249427e-08\n",
      "2018-07-10 15:03:08 [WARNING] root: Determinant was negative! Clipping Eigenvalues to 0+epsilon from -1.714662900553776e-08\n",
      "2018-07-10 15:03:08 [WARNING] root: Determinant was negative! Clipping Eigenvalues to 0+epsilon from -7.715947845099436e-07\n",
      "2018-07-10 15:03:08 [WARNING] root: Determinant was negative! Clipping Eigenvalues to 0+epsilon from -1.916529015488777e-07\n",
      "2018-07-10 15:03:08 [WARNING] root: Determinant was negative! Clipping Eigenvalues to 0+epsilon from -1.5836796762869199e-07\n",
      "2018-07-10 15:03:08 [WARNING] root: Determinant was negative! Clipping Eigenvalues to 0+epsilon from -9.502444697773171e-08\n",
      "2018-07-10 15:03:08 [WARNING] root: Determinant was negative! Clipping Eigenvalues to 0+epsilon from -3.3834083978945273e-07\n",
      "2018-07-10 15:03:08 [WARNING] root: Determinant was negative! Clipping Eigenvalues to 0+epsilon from -4.2840645164687885e-07\n",
      "2018-07-10 15:03:08 [WARNING] root: Determinant was negative! Clipping Eigenvalues to 0+epsilon from -1.059831546967871e-07\n",
      "2018-07-10 15:03:08 [WARNING] root: Determinant was negative! Clipping Eigenvalues to 0+epsilon from -8.963231152847584e-07\n",
      "2018-07-10 15:03:08 [WARNING] root: Determinant was negative! Clipping Eigenvalues to 0+epsilon from -8.012982561922399e-07\n",
      "2018-07-10 15:03:09 [WARNING] root: Determinant was negative! Clipping Eigenvalues to 0+epsilon from -2.580384830253024e-07\n",
      "2018-07-10 15:03:09 [ERROR] src.evaluation.evaluator: An exception occurred while training DAGMM_NNAutoEncoder_withoutWindow on Syn Extreme Outliers (mis=0.675): Lapack Error getrf : U(3,3) is 0, U is singular at /pytorch/aten/src/TH/generic/THTensorLapack.c:514\n",
      "2018-07-10 15:03:09 [ERROR] src.evaluation.evaluator: Traceback (most recent call last):\n",
      "  File \"../src/evaluation/evaluator.py\", line 122, in evaluate\n",
      "    det.fit(X_train.copy(), y_train.copy())\n",
      "  File \"../src/algorithms/dagmm.py\", line 203, in fit\n",
      "    self.dagmm_step(input_data.float())\n",
      "  File \"../src/algorithms/dagmm.py\", line 177, in dagmm_step\n",
      "    self.lambda_cov_diag)\n",
      "  File \"../src/algorithms/dagmm.py\", line 144, in loss_function\n",
      "    sample_energy, cov_diag = self.compute_energy(z, phi, mu, cov)\n",
      "  File \"../src/algorithms/dagmm.py\", line 113, in compute_energy\n",
      "    cov_inverse.append(torch.inverse(cov_k).unsqueeze(0))\n",
      "RuntimeError: Lapack Error getrf : U(3,3) is 0, U is singular at /pytorch/aten/src/TH/generic/THTensorLapack.c:514\n",
      "\n"
     ]
    },
    {
     "name": "stderr",
     "output_type": "stream",
     "text": [
      "\r",
      "                                                                               \r",
      "\r",
      " 42% (3 of 7) |###########               | Elapsed Time: 0:03:23 ETA:   0:03:14"
     ]
    },
    {
     "name": "stdout",
     "output_type": "stream",
     "text": [
      "2018-07-10 15:03:09 [INFO] src.evaluation.evaluator: Training DAGMM_NNAutoEncoder_withWindow on Syn Extreme Outliers (mis=0.675) with seed 2433894116\n"
     ]
    },
    {
     "name": "stderr",
     "output_type": "stream",
     "text": [
      "\r",
      "                                                                               \r",
      "\r",
      " 57% (4 of 7) |##############            | Elapsed Time: 0:03:27 ETA:   0:00:11"
     ]
    },
    {
     "name": "stdout",
     "output_type": "stream",
     "text": [
      "2018-07-10 15:03:12 [INFO] src.evaluation.evaluator: Training DAGMM_LSTMAutoEncoder_withWindow on Syn Extreme Outliers (mis=0.675) with seed 2433894116\n"
     ]
    },
    {
     "name": "stderr",
     "output_type": "stream",
     "text": [
      "\r",
      "                                                                               \r",
      "\r",
      " 71% (5 of 7) |##################        | Elapsed Time: 0:03:57 ETA:   0:01:00"
     ]
    },
    {
     "name": "stdout",
     "output_type": "stream",
     "text": [
      "2018-07-10 15:03:43 [INFO] src.evaluation.evaluator: Training Recurrent EBM on Syn Extreme Outliers (mis=0.675) with seed 2433894116\n"
     ]
    },
    {
     "name": "stderr",
     "output_type": "stream",
     "text": [
      "100%|██████████| 15/15 [00:06<00:00,  2.20it/s]\n",
      " 85% (6 of 7) |######################    | Elapsed Time: 0:04:21 ETA:   0:00:23"
     ]
    },
    {
     "name": "stdout",
     "output_type": "stream",
     "text": [
      "2018-07-10 15:04:07 [INFO] src.evaluation.evaluator: Training Donut on Syn Extreme Outliers (mis=0.675) with seed 2433894116\n"
     ]
    },
    {
     "name": "stderr",
     "output_type": "stream",
     "text": [
      "100%|██████████| 1/1 [00:24<00:00, 24.72s/it]\n",
      "100% (7 of 7) |##########################| Elapsed Time: 0:04:56 Time:  0:04:56\n",
      "N/A% (0 of 7) |                          | Elapsed Time: 0:00:00 ETA:  --:--:--"
     ]
    },
    {
     "name": "stdout",
     "output_type": "stream",
     "text": [
      "2018-07-10 15:04:42 [INFO] src.evaluation.evaluator: Training LSTM-AD on Syn Extreme Outliers (mis=0.9) with seed 2433894116\n"
     ]
    },
    {
     "name": "stderr",
     "output_type": "stream",
     "text": [
      "\r",
      "                                                                               \r",
      "\r",
      " 14% (1 of 7) |###                       | Elapsed Time: 0:01:41 ETA:   0:10:10"
     ]
    },
    {
     "name": "stdout",
     "output_type": "stream",
     "text": [
      "2018-07-10 15:06:23 [INFO] src.evaluation.evaluator: Training LSTMED on Syn Extreme Outliers (mis=0.9) with seed 2433894116\n"
     ]
    },
    {
     "name": "stderr",
     "output_type": "stream",
     "text": [
      "\r",
      "                                                                               \r",
      "\r",
      " 28% (2 of 7) |#######                   | Elapsed Time: 0:03:18 ETA:   0:08:04"
     ]
    },
    {
     "name": "stdout",
     "output_type": "stream",
     "text": [
      "2018-07-10 15:08:00 [INFO] src.evaluation.evaluator: Training DAGMM_NNAutoEncoder_withoutWindow on Syn Extreme Outliers (mis=0.9) with seed 2433894116\n",
      "2018-07-10 15:08:00 [WARNING] root: Determinant was negative! Clipping Eigenvalues to 0+epsilon from -2.0938475131515588e-07\n",
      "2018-07-10 15:08:00 [WARNING] root: Determinant was negative! Clipping Eigenvalues to 0+epsilon from -1.7219670667145692e-07\n",
      "2018-07-10 15:08:00 [WARNING] root: Determinant was negative! Clipping Eigenvalues to 0+epsilon from -3.974433937514732e-08\n",
      "2018-07-10 15:08:00 [WARNING] root: Determinant was negative! Clipping Eigenvalues to 0+epsilon from -1.0028511354676084e-07\n",
      "2018-07-10 15:08:00 [WARNING] root: Determinant was negative! Clipping Eigenvalues to 0+epsilon from -5.437187411416744e-08\n",
      "2018-07-10 15:08:00 [WARNING] root: Determinant was negative! Clipping Eigenvalues to 0+epsilon from -5.6368758549751874e-08\n",
      "2018-07-10 15:08:00 [WARNING] root: Determinant was negative! Clipping Eigenvalues to 0+epsilon from -5.968336580508549e-08\n",
      "2018-07-10 15:08:00 [WARNING] root: Determinant was negative! Clipping Eigenvalues to 0+epsilon from -7.86517659889796e-08\n",
      "2018-07-10 15:08:00 [ERROR] src.evaluation.evaluator: An exception occurred while training DAGMM_NNAutoEncoder_withoutWindow on Syn Extreme Outliers (mis=0.9): Lapack Error getrf : U(3,3) is 0, U is singular at /pytorch/aten/src/TH/generic/THTensorLapack.c:514\n",
      "2018-07-10 15:08:00 [ERROR] src.evaluation.evaluator: Traceback (most recent call last):\n",
      "  File \"../src/evaluation/evaluator.py\", line 122, in evaluate\n",
      "    det.fit(X_train.copy(), y_train.copy())\n",
      "  File \"../src/algorithms/dagmm.py\", line 203, in fit\n",
      "    self.dagmm_step(input_data.float())\n",
      "  File \"../src/algorithms/dagmm.py\", line 177, in dagmm_step\n",
      "    self.lambda_cov_diag)\n",
      "  File \"../src/algorithms/dagmm.py\", line 144, in loss_function\n",
      "    sample_energy, cov_diag = self.compute_energy(z, phi, mu, cov)\n",
      "  File \"../src/algorithms/dagmm.py\", line 113, in compute_energy\n",
      "    cov_inverse.append(torch.inverse(cov_k).unsqueeze(0))\n",
      "RuntimeError: Lapack Error getrf : U(3,3) is 0, U is singular at /pytorch/aten/src/TH/generic/THTensorLapack.c:514\n",
      "\n"
     ]
    },
    {
     "name": "stderr",
     "output_type": "stream",
     "text": [
      "\r",
      "                                                                               \r",
      "\r",
      " 42% (3 of 7) |###########               | Elapsed Time: 0:03:18 ETA:   0:06:27"
     ]
    },
    {
     "name": "stdout",
     "output_type": "stream",
     "text": [
      "2018-07-10 15:08:00 [INFO] src.evaluation.evaluator: Training DAGMM_NNAutoEncoder_withWindow on Syn Extreme Outliers (mis=0.9) with seed 2433894116\n"
     ]
    },
    {
     "name": "stderr",
     "output_type": "stream",
     "text": [
      "\r",
      "                                                                               \r",
      "\r",
      " 57% (4 of 7) |##############            | Elapsed Time: 0:03:22 ETA:   0:00:05"
     ]
    },
    {
     "name": "stdout",
     "output_type": "stream",
     "text": [
      "2018-07-10 15:08:04 [INFO] src.evaluation.evaluator: Training DAGMM_LSTMAutoEncoder_withWindow on Syn Extreme Outliers (mis=0.9) with seed 2433894116\n"
     ]
    },
    {
     "name": "stderr",
     "output_type": "stream",
     "text": [
      "\r",
      "                                                                               \r",
      "\r",
      " 71% (5 of 7) |##################        | Elapsed Time: 0:03:52 ETA:   0:01:00"
     ]
    },
    {
     "name": "stdout",
     "output_type": "stream",
     "text": [
      "2018-07-10 15:08:34 [INFO] src.evaluation.evaluator: Training Recurrent EBM on Syn Extreme Outliers (mis=0.9) with seed 2433894116\n"
     ]
    },
    {
     "name": "stderr",
     "output_type": "stream",
     "text": [
      "100%|██████████| 15/15 [00:06<00:00,  2.20it/s]\n",
      " 85% (6 of 7) |######################    | Elapsed Time: 0:04:16 ETA:   0:00:24"
     ]
    },
    {
     "name": "stdout",
     "output_type": "stream",
     "text": [
      "2018-07-10 15:08:58 [INFO] src.evaluation.evaluator: Training Donut on Syn Extreme Outliers (mis=0.9) with seed 2433894116\n"
     ]
    },
    {
     "name": "stderr",
     "output_type": "stream",
     "text": [
      "100%|██████████| 1/1 [00:25<00:00, 25.50s/it]\n",
      "100% (7 of 7) |##########################| Elapsed Time: 0:04:52 Time:  0:04:52\n",
      "100% (5 of 5) |##########################| Elapsed Time: 0:26:04 Time:  0:26:04\n"
     ]
    },
    {
     "name": "stdout",
     "output_type": "stream",
     "text": [
      "2018-07-10 15:09:37 [INFO] src.evaluation.evaluator: Store evaluator results at /home/thomas/work/notebooks/data_30/missing-run-3-2433894116-2018-07-10-150937.pkl\n"
     ]
    },
    {
     "name": "stderr",
     "output_type": "stream",
     "text": [
      "N/A% (0 of 7) |                          | Elapsed Time: 0:00:00 ETA:  --:--:--"
     ]
    },
    {
     "name": "stdout",
     "output_type": "stream",
     "text": [
      "2018-07-10 15:09:37 [INFO] src.evaluation.evaluator: Training LSTM-AD on Syn Extreme Outliers (mis=0.0) with seed 3266865950\n"
     ]
    },
    {
     "name": "stderr",
     "output_type": "stream",
     "text": [
      "\r",
      "                                                                               \r",
      "\r",
      " 14% (1 of 7) |###                       | Elapsed Time: 0:01:42 ETA:   0:10:12"
     ]
    },
    {
     "name": "stdout",
     "output_type": "stream",
     "text": [
      "2018-07-10 15:11:19 [INFO] src.evaluation.evaluator: Training LSTMED on Syn Extreme Outliers (mis=0.0) with seed 3266865950\n"
     ]
    },
    {
     "name": "stderr",
     "output_type": "stream",
     "text": [
      "\r",
      "                                                                               \r",
      "\r",
      " 28% (2 of 7) |#######                   | Elapsed Time: 0:03:19 ETA:   0:08:06"
     ]
    },
    {
     "name": "stdout",
     "output_type": "stream",
     "text": [
      "2018-07-10 15:12:56 [INFO] src.evaluation.evaluator: Training DAGMM_NNAutoEncoder_withoutWindow on Syn Extreme Outliers (mis=0.0) with seed 3266865950\n",
      "2018-07-10 15:12:56 [WARNING] root: Determinant was negative! Clipping Eigenvalues to 0+epsilon from -6.868923208003253e-08\n",
      "2018-07-10 15:12:57 [WARNING] root: Determinant was negative! Clipping Eigenvalues to 0+epsilon from -1.9598266121079178e-08\n",
      "2018-07-10 15:12:57 [WARNING] root: Determinant was negative! Clipping Eigenvalues to 0+epsilon from -5.677913250679012e-08\n",
      "2018-07-10 15:12:57 [ERROR] src.evaluation.evaluator: An exception occurred while training DAGMM_NNAutoEncoder_withoutWindow on Syn Extreme Outliers (mis=0.0): Lapack Error getrf : U(3,3) is 0, U is singular at /pytorch/aten/src/TH/generic/THTensorLapack.c:514\n",
      "2018-07-10 15:12:57 [ERROR] src.evaluation.evaluator: Traceback (most recent call last):\n",
      "  File \"../src/evaluation/evaluator.py\", line 122, in evaluate\n",
      "    det.fit(X_train.copy(), y_train.copy())\n",
      "  File \"../src/algorithms/dagmm.py\", line 203, in fit\n",
      "    self.dagmm_step(input_data.float())\n",
      "  File \"../src/algorithms/dagmm.py\", line 177, in dagmm_step\n",
      "    self.lambda_cov_diag)\n",
      "  File \"../src/algorithms/dagmm.py\", line 144, in loss_function\n",
      "    sample_energy, cov_diag = self.compute_energy(z, phi, mu, cov)\n",
      "  File \"../src/algorithms/dagmm.py\", line 113, in compute_energy\n",
      "    cov_inverse.append(torch.inverse(cov_k).unsqueeze(0))\n",
      "RuntimeError: Lapack Error getrf : U(3,3) is 0, U is singular at /pytorch/aten/src/TH/generic/THTensorLapack.c:514\n",
      "\n"
     ]
    },
    {
     "name": "stderr",
     "output_type": "stream",
     "text": [
      "\r",
      "                                                                               \r",
      "\r",
      " 42% (3 of 7) |###########               | Elapsed Time: 0:03:20 ETA:   0:03:16"
     ]
    },
    {
     "name": "stdout",
     "output_type": "stream",
     "text": [
      "2018-07-10 15:12:57 [INFO] src.evaluation.evaluator: Training DAGMM_NNAutoEncoder_withWindow on Syn Extreme Outliers (mis=0.0) with seed 3266865950\n"
     ]
    },
    {
     "name": "stderr",
     "output_type": "stream",
     "text": [
      "\r",
      "                                                                               \r",
      "\r",
      " 57% (4 of 7) |##############            | Elapsed Time: 0:03:24 ETA:   0:00:12"
     ]
    },
    {
     "name": "stdout",
     "output_type": "stream",
     "text": [
      "2018-07-10 15:13:01 [INFO] src.evaluation.evaluator: Training DAGMM_LSTMAutoEncoder_withWindow on Syn Extreme Outliers (mis=0.0) with seed 3266865950\n"
     ]
    },
    {
     "name": "stderr",
     "output_type": "stream",
     "text": [
      "\r",
      "                                                                               \r",
      "\r",
      " 71% (5 of 7) |##################        | Elapsed Time: 0:03:54 ETA:   0:01:00"
     ]
    },
    {
     "name": "stdout",
     "output_type": "stream",
     "text": [
      "2018-07-10 15:13:31 [INFO] src.evaluation.evaluator: Training Recurrent EBM on Syn Extreme Outliers (mis=0.0) with seed 3266865950\n"
     ]
    },
    {
     "name": "stderr",
     "output_type": "stream",
     "text": [
      "100%|██████████| 15/15 [00:06<00:00,  2.19it/s]\n",
      " 85% (6 of 7) |######################    | Elapsed Time: 0:04:18 ETA:   0:00:24"
     ]
    },
    {
     "name": "stdout",
     "output_type": "stream",
     "text": [
      "2018-07-10 15:13:56 [INFO] src.evaluation.evaluator: Training Donut on Syn Extreme Outliers (mis=0.0) with seed 3266865950\n"
     ]
    },
    {
     "name": "stderr",
     "output_type": "stream",
     "text": [
      "\r",
      "  0%|          | 0/1 [00:00<?, ?it/s]"
     ]
    },
    {
     "name": "stdout",
     "output_type": "stream",
     "text": [
      "INFO:tensorflow:Restoring parameters from /tmp/tmpj6apu0hn/variables.dat-1200\n",
      "2018-07-10 15:15:58 [INFO] tensorflow: Restoring parameters from /tmp/tmpj6apu0hn/variables.dat-1200\n"
     ]
    },
    {
     "name": "stderr",
     "output_type": "stream",
     "text": [
      "100%|██████████| 1/1 [02:03<00:00, 123.21s/it]\n",
      "100% (7 of 7) |##########################| Elapsed Time: 0:06:32 Time:  0:06:32\n",
      "N/A% (0 of 7) |                          | Elapsed Time: 0:00:00 ETA:  --:--:--"
     ]
    },
    {
     "name": "stdout",
     "output_type": "stream",
     "text": [
      "2018-07-10 15:16:10 [INFO] src.evaluation.evaluator: Training LSTM-AD on Syn Extreme Outliers (mis=0.225) with seed 3266865950\n"
     ]
    },
    {
     "name": "stderr",
     "output_type": "stream",
     "text": [
      "\r",
      "                                                                               \r",
      "\r",
      " 14% (1 of 7) |###                       | Elapsed Time: 0:01:43 ETA:   0:10:19"
     ]
    },
    {
     "name": "stdout",
     "output_type": "stream",
     "text": [
      "2018-07-10 15:17:53 [INFO] src.evaluation.evaluator: Training LSTMED on Syn Extreme Outliers (mis=0.225) with seed 3266865950\n"
     ]
    },
    {
     "name": "stderr",
     "output_type": "stream",
     "text": [
      "\r",
      "                                                                               \r",
      "\r",
      " 28% (2 of 7) |#######                   | Elapsed Time: 0:03:20 ETA:   0:08:04"
     ]
    },
    {
     "name": "stdout",
     "output_type": "stream",
     "text": [
      "2018-07-10 15:19:30 [INFO] src.evaluation.evaluator: Training DAGMM_NNAutoEncoder_withoutWindow on Syn Extreme Outliers (mis=0.225) with seed 3266865950\n",
      "2018-07-10 15:19:30 [WARNING] root: Determinant was negative! Clipping Eigenvalues to 0+epsilon from -1.4483200416748332e-08\n",
      "2018-07-10 15:19:30 [WARNING] root: Determinant was negative! Clipping Eigenvalues to 0+epsilon from -1.1255351495265131e-07\n",
      "2018-07-10 15:19:30 [WARNING] root: Determinant was negative! Clipping Eigenvalues to 0+epsilon from -2.666875502654875e-07\n",
      "2018-07-10 15:19:30 [WARNING] root: Determinant was negative! Clipping Eigenvalues to 0+epsilon from -3.7796579022142396e-07\n",
      "2018-07-10 15:19:30 [WARNING] root: Determinant was negative! Clipping Eigenvalues to 0+epsilon from -3.068219314172893e-07\n",
      "2018-07-10 15:19:30 [WARNING] root: Determinant was negative! Clipping Eigenvalues to 0+epsilon from -5.1711094073425556e-08\n",
      "2018-07-10 15:19:30 [WARNING] root: Determinant was negative! Clipping Eigenvalues to 0+epsilon from -6.573903732487452e-08\n",
      "2018-07-10 15:19:30 [WARNING] root: Determinant was negative! Clipping Eigenvalues to 0+epsilon from -2.1950583573016047e-07\n",
      "2018-07-10 15:19:30 [WARNING] root: Determinant was negative! Clipping Eigenvalues to 0+epsilon from -2.456135632655787e-07\n",
      "2018-07-10 15:19:30 [WARNING] root: Determinant was negative! Clipping Eigenvalues to 0+epsilon from -2.592825296687806e-07\n",
      "2018-07-10 15:19:30 [WARNING] root: Determinant was negative! Clipping Eigenvalues to 0+epsilon from -1.537573552923277e-07\n",
      "2018-07-10 15:19:30 [WARNING] root: Determinant was negative! Clipping Eigenvalues to 0+epsilon from -2.3267934068371687e-07\n",
      "2018-07-10 15:19:30 [WARNING] root: Determinant was negative! Clipping Eigenvalues to 0+epsilon from -1.236016444750021e-08\n",
      "2018-07-10 15:19:30 [WARNING] root: Determinant was negative! Clipping Eigenvalues to 0+epsilon from -1.1592745607913457e-07\n",
      "2018-07-10 15:19:30 [WARNING] root: Determinant was negative! Clipping Eigenvalues to 0+epsilon from -1.768635797816387e-07\n",
      "2018-07-10 15:19:30 [WARNING] root: Determinant was negative! Clipping Eigenvalues to 0+epsilon from -1.5832316080377495e-07\n",
      "2018-07-10 15:19:30 [WARNING] root: Determinant was negative! Clipping Eigenvalues to 0+epsilon from -1.0219891777296652e-07\n",
      "2018-07-10 15:19:30 [WARNING] root: Determinant was negative! Clipping Eigenvalues to 0+epsilon from -1.3967633094580378e-07\n",
      "2018-07-10 15:19:30 [WARNING] root: Determinant was negative! Clipping Eigenvalues to 0+epsilon from -1.8014665670307295e-07\n",
      "2018-07-10 15:19:30 [WARNING] root: Determinant was negative! Clipping Eigenvalues to 0+epsilon from -2.9512807486753445e-07\n",
      "2018-07-10 15:19:30 [WARNING] root: Determinant was negative! Clipping Eigenvalues to 0+epsilon from -1.6473214259349334e-07\n",
      "2018-07-10 15:19:30 [WARNING] root: Determinant was negative! Clipping Eigenvalues to 0+epsilon from -1.41950522447587e-07\n",
      "2018-07-10 15:19:30 [WARNING] root: Determinant was negative! Clipping Eigenvalues to 0+epsilon from -3.781804593927518e-07\n",
      "2018-07-10 15:19:30 [WARNING] root: Determinant was negative! Clipping Eigenvalues to 0+epsilon from -2.7657284817905747e-07\n",
      "2018-07-10 15:19:30 [WARNING] root: Determinant was negative! Clipping Eigenvalues to 0+epsilon from -2.7151151016369113e-07\n",
      "2018-07-10 15:19:30 [WARNING] root: Determinant was negative! Clipping Eigenvalues to 0+epsilon from -3.023628494247532e-07\n",
      "2018-07-10 15:19:30 [WARNING] root: Determinant was negative! Clipping Eigenvalues to 0+epsilon from -4.2624489537956833e-07\n",
      "2018-07-10 15:19:30 [WARNING] root: Determinant was negative! Clipping Eigenvalues to 0+epsilon from -5.371325642045122e-07\n",
      "2018-07-10 15:19:30 [WARNING] root: Determinant was negative! Clipping Eigenvalues to 0+epsilon from -2.107562977471389e-07\n",
      "2018-07-10 15:19:30 [WARNING] root: Determinant was negative! Clipping Eigenvalues to 0+epsilon from -2.6594807422952726e-07\n",
      "2018-07-10 15:19:30 [WARNING] root: Determinant was negative! Clipping Eigenvalues to 0+epsilon from -1.8845263127786893e-07\n",
      "2018-07-10 15:19:30 [WARNING] root: Determinant was negative! Clipping Eigenvalues to 0+epsilon from -8.015263119887095e-08\n",
      "2018-07-10 15:19:30 [WARNING] root: Determinant was negative! Clipping Eigenvalues to 0+epsilon from -2.3280391303615033e-07\n",
      "2018-07-10 15:19:30 [WARNING] root: Determinant was negative! Clipping Eigenvalues to 0+epsilon from -7.322497452832977e-08\n",
      "2018-07-10 15:19:30 [WARNING] root: Determinant was negative! Clipping Eigenvalues to 0+epsilon from -1.0631750058109901e-07\n",
      "2018-07-10 15:19:30 [WARNING] root: Determinant was negative! Clipping Eigenvalues to 0+epsilon from -4.2939302602462703e-07\n",
      "2018-07-10 15:19:30 [WARNING] root: Determinant was negative! Clipping Eigenvalues to 0+epsilon from -1.4716384555413242e-08\n",
      "2018-07-10 15:19:31 [WARNING] root: Determinant was negative! Clipping Eigenvalues to 0+epsilon from -4.2409883604932475e-08\n",
      "2018-07-10 15:19:31 [WARNING] root: Determinant was negative! Clipping Eigenvalues to 0+epsilon from -3.557715047008969e-07\n",
      "2018-07-10 15:19:31 [WARNING] root: Determinant was negative! Clipping Eigenvalues to 0+epsilon from -4.248106790782913e-07\n",
      "2018-07-10 15:19:31 [WARNING] root: Determinant was negative! Clipping Eigenvalues to 0+epsilon from -2.9580391469608003e-07\n",
      "2018-07-10 15:19:31 [WARNING] root: Determinant was negative! Clipping Eigenvalues to 0+epsilon from -1.3012223121222632e-07\n",
      "2018-07-10 15:19:31 [WARNING] root: Determinant was negative! Clipping Eigenvalues to 0+epsilon from -1.5779397699589026e-07\n",
      "2018-07-10 15:19:31 [WARNING] root: Determinant was negative! Clipping Eigenvalues to 0+epsilon from -3.1094211294657725e-07\n",
      "2018-07-10 15:19:31 [WARNING] root: Determinant was negative! Clipping Eigenvalues to 0+epsilon from -2.834644021731947e-07\n",
      "2018-07-10 15:19:31 [WARNING] root: Determinant was negative! Clipping Eigenvalues to 0+epsilon from -7.2103155446257e-08\n",
      "2018-07-10 15:19:31 [WARNING] root: Determinant was negative! Clipping Eigenvalues to 0+epsilon from -9.971886072435154e-08\n",
      "2018-07-10 15:19:31 [WARNING] root: Determinant was negative! Clipping Eigenvalues to 0+epsilon from -1.7809186658723775e-07\n",
      "2018-07-10 15:19:31 [WARNING] root: Determinant was negative! Clipping Eigenvalues to 0+epsilon from -1.383140499910951e-07\n",
      "2018-07-10 15:19:31 [WARNING] root: Determinant was negative! Clipping Eigenvalues to 0+epsilon from -2.4241451512807544e-08\n",
      "2018-07-10 15:19:31 [ERROR] src.evaluation.evaluator: An exception occurred while training DAGMM_NNAutoEncoder_withoutWindow on Syn Extreme Outliers (mis=0.225): Lapack Error getrf : U(3,3) is 0, U is singular at /pytorch/aten/src/TH/generic/THTensorLapack.c:514\n",
      "2018-07-10 15:19:31 [ERROR] src.evaluation.evaluator: Traceback (most recent call last):\n",
      "  File \"../src/evaluation/evaluator.py\", line 122, in evaluate\n",
      "    det.fit(X_train.copy(), y_train.copy())\n",
      "  File \"../src/algorithms/dagmm.py\", line 203, in fit\n",
      "    self.dagmm_step(input_data.float())\n",
      "  File \"../src/algorithms/dagmm.py\", line 177, in dagmm_step\n",
      "    self.lambda_cov_diag)\n",
      "  File \"../src/algorithms/dagmm.py\", line 144, in loss_function\n",
      "    sample_energy, cov_diag = self.compute_energy(z, phi, mu, cov)\n",
      "  File \"../src/algorithms/dagmm.py\", line 113, in compute_energy\n",
      "    cov_inverse.append(torch.inverse(cov_k).unsqueeze(0))\n",
      "RuntimeError: Lapack Error getrf : U(3,3) is 0, U is singular at /pytorch/aten/src/TH/generic/THTensorLapack.c:514\n",
      "\n"
     ]
    },
    {
     "name": "stderr",
     "output_type": "stream",
     "text": [
      "\r",
      "                                                                               \r",
      "\r",
      " 42% (3 of 7) |###########               | Elapsed Time: 0:03:20 ETA:   0:03:15"
     ]
    },
    {
     "name": "stdout",
     "output_type": "stream",
     "text": [
      "2018-07-10 15:19:31 [INFO] src.evaluation.evaluator: Training DAGMM_NNAutoEncoder_withWindow on Syn Extreme Outliers (mis=0.225) with seed 3266865950\n"
     ]
    },
    {
     "name": "stderr",
     "output_type": "stream",
     "text": [
      "\r",
      "                                                                               \r",
      "\r",
      " 57% (4 of 7) |##############            | Elapsed Time: 0:03:24 ETA:   0:00:11"
     ]
    },
    {
     "name": "stdout",
     "output_type": "stream",
     "text": [
      "2018-07-10 15:19:35 [INFO] src.evaluation.evaluator: Training DAGMM_LSTMAutoEncoder_withWindow on Syn Extreme Outliers (mis=0.225) with seed 3266865950\n"
     ]
    },
    {
     "name": "stderr",
     "output_type": "stream",
     "text": [
      "\r",
      "                                                                               \r",
      "\r",
      " 71% (5 of 7) |##################        | Elapsed Time: 0:03:55 ETA:   0:01:01"
     ]
    },
    {
     "name": "stdout",
     "output_type": "stream",
     "text": [
      "2018-07-10 15:20:05 [INFO] src.evaluation.evaluator: Training Recurrent EBM on Syn Extreme Outliers (mis=0.225) with seed 3266865950\n"
     ]
    },
    {
     "name": "stderr",
     "output_type": "stream",
     "text": [
      "100%|██████████| 15/15 [00:06<00:00,  2.19it/s]\n",
      " 85% (6 of 7) |######################    | Elapsed Time: 0:04:20 ETA:   0:00:24"
     ]
    },
    {
     "name": "stdout",
     "output_type": "stream",
     "text": [
      "2018-07-10 15:20:30 [INFO] src.evaluation.evaluator: Training Donut on Syn Extreme Outliers (mis=0.225) with seed 3266865950\n"
     ]
    },
    {
     "name": "stderr",
     "output_type": "stream",
     "text": [
      "100%|██████████| 1/1 [00:26<00:00, 26.84s/it]\n",
      "100% (7 of 7) |##########################| Elapsed Time: 0:04:57 Time:  0:04:57\n",
      "N/A% (0 of 7) |                          | Elapsed Time: 0:00:00 ETA:  --:--:--"
     ]
    },
    {
     "name": "stdout",
     "output_type": "stream",
     "text": [
      "2018-07-10 15:21:08 [INFO] src.evaluation.evaluator: Training LSTM-AD on Syn Extreme Outliers (mis=0.45) with seed 3266865950\n"
     ]
    },
    {
     "name": "stderr",
     "output_type": "stream",
     "text": [
      "\r",
      "                                                                               \r",
      "\r",
      " 14% (1 of 7) |###                       | Elapsed Time: 0:01:41 ETA:   0:10:10"
     ]
    },
    {
     "name": "stdout",
     "output_type": "stream",
     "text": [
      "2018-07-10 15:22:49 [INFO] src.evaluation.evaluator: Training LSTMED on Syn Extreme Outliers (mis=0.45) with seed 3266865950\n"
     ]
    },
    {
     "name": "stderr",
     "output_type": "stream",
     "text": [
      "\r",
      "                                                                               \r",
      "\r",
      " 28% (2 of 7) |#######                   | Elapsed Time: 0:03:18 ETA:   0:08:06"
     ]
    },
    {
     "name": "stdout",
     "output_type": "stream",
     "text": [
      "2018-07-10 15:24:27 [INFO] src.evaluation.evaluator: Training DAGMM_NNAutoEncoder_withoutWindow on Syn Extreme Outliers (mis=0.45) with seed 3266865950\n",
      "2018-07-10 15:24:27 [WARNING] root: Determinant was negative! Clipping Eigenvalues to 0+epsilon from -5.933022748649819e-07\n",
      "2018-07-10 15:24:27 [WARNING] root: Determinant was negative! Clipping Eigenvalues to 0+epsilon from -8.186833611034672e-07\n",
      "2018-07-10 15:24:27 [WARNING] root: Determinant was negative! Clipping Eigenvalues to 0+epsilon from -3.4895657563538407e-07\n",
      "2018-07-10 15:24:27 [WARNING] root: Determinant was negative! Clipping Eigenvalues to 0+epsilon from -6.933260578989575e-07\n",
      "2018-07-10 15:24:27 [WARNING] root: Determinant was negative! Clipping Eigenvalues to 0+epsilon from -4.903553190160892e-07\n",
      "2018-07-10 15:24:27 [WARNING] root: Determinant was negative! Clipping Eigenvalues to 0+epsilon from -6.091565865062876e-07\n",
      "2018-07-10 15:24:27 [WARNING] root: Determinant was negative! Clipping Eigenvalues to 0+epsilon from -1.5929310848150635e-07\n",
      "2018-07-10 15:24:27 [WARNING] root: Determinant was negative! Clipping Eigenvalues to 0+epsilon from -7.679813620597997e-07\n",
      "2018-07-10 15:24:27 [WARNING] root: Determinant was negative! Clipping Eigenvalues to 0+epsilon from -6.344033067762211e-07\n",
      "2018-07-10 15:24:27 [WARNING] root: Determinant was negative! Clipping Eigenvalues to 0+epsilon from -2.803927543482132e-07\n",
      "2018-07-10 15:24:27 [WARNING] root: Determinant was negative! Clipping Eigenvalues to 0+epsilon from -5.395493190007983e-07\n",
      "2018-07-10 15:24:27 [WARNING] root: Determinant was negative! Clipping Eigenvalues to 0+epsilon from -6.354877655212476e-07\n",
      "2018-07-10 15:24:27 [WARNING] root: Determinant was negative! Clipping Eigenvalues to 0+epsilon from -1.4622258959207102e-07\n",
      "2018-07-10 15:24:27 [ERROR] src.evaluation.evaluator: An exception occurred while training DAGMM_NNAutoEncoder_withoutWindow on Syn Extreme Outliers (mis=0.45): Lapack Error getrf : U(3,3) is 0, U is singular at /pytorch/aten/src/TH/generic/THTensorLapack.c:514\n",
      "2018-07-10 15:24:27 [ERROR] src.evaluation.evaluator: Traceback (most recent call last):\n",
      "  File \"../src/evaluation/evaluator.py\", line 122, in evaluate\n",
      "    det.fit(X_train.copy(), y_train.copy())\n",
      "  File \"../src/algorithms/dagmm.py\", line 203, in fit\n",
      "    self.dagmm_step(input_data.float())\n",
      "  File \"../src/algorithms/dagmm.py\", line 177, in dagmm_step\n",
      "    self.lambda_cov_diag)\n",
      "  File \"../src/algorithms/dagmm.py\", line 144, in loss_function\n",
      "    sample_energy, cov_diag = self.compute_energy(z, phi, mu, cov)\n",
      "  File \"../src/algorithms/dagmm.py\", line 113, in compute_energy\n",
      "    cov_inverse.append(torch.inverse(cov_k).unsqueeze(0))\n",
      "RuntimeError: Lapack Error getrf : U(3,3) is 0, U is singular at /pytorch/aten/src/TH/generic/THTensorLapack.c:514\n",
      "\n"
     ]
    },
    {
     "name": "stderr",
     "output_type": "stream",
     "text": [
      "\r",
      "                                                                               \r",
      "\r",
      " 42% (3 of 7) |###########               | Elapsed Time: 0:03:19 ETA:   0:03:14"
     ]
    },
    {
     "name": "stdout",
     "output_type": "stream",
     "text": [
      "2018-07-10 15:24:27 [INFO] src.evaluation.evaluator: Training DAGMM_NNAutoEncoder_withWindow on Syn Extreme Outliers (mis=0.45) with seed 3266865950\n"
     ]
    },
    {
     "name": "stderr",
     "output_type": "stream",
     "text": [
      "\r",
      "                                                                               \r",
      "\r",
      " 57% (4 of 7) |##############            | Elapsed Time: 0:03:23 ETA:   0:00:11"
     ]
    },
    {
     "name": "stdout",
     "output_type": "stream",
     "text": [
      "2018-07-10 15:24:31 [INFO] src.evaluation.evaluator: Training DAGMM_LSTMAutoEncoder_withWindow on Syn Extreme Outliers (mis=0.45) with seed 3266865950\n"
     ]
    },
    {
     "name": "stderr",
     "output_type": "stream",
     "text": [
      "\r",
      "                                                                               \r",
      "\r",
      " 71% (5 of 7) |##################        | Elapsed Time: 0:03:53 ETA:   0:01:00"
     ]
    },
    {
     "name": "stdout",
     "output_type": "stream",
     "text": [
      "2018-07-10 15:25:01 [INFO] src.evaluation.evaluator: Training Recurrent EBM on Syn Extreme Outliers (mis=0.45) with seed 3266865950\n"
     ]
    },
    {
     "name": "stderr",
     "output_type": "stream",
     "text": [
      "100%|██████████| 15/15 [00:06<00:00,  2.18it/s]\n",
      " 85% (6 of 7) |######################    | Elapsed Time: 0:04:18 ETA:   0:00:25"
     ]
    },
    {
     "name": "stdout",
     "output_type": "stream",
     "text": [
      "2018-07-10 15:25:26 [INFO] src.evaluation.evaluator: Training Donut on Syn Extreme Outliers (mis=0.45) with seed 3266865950\n"
     ]
    },
    {
     "name": "stderr",
     "output_type": "stream",
     "text": [
      "100%|██████████| 1/1 [00:27<00:00, 27.78s/it]\n",
      "100% (7 of 7) |##########################| Elapsed Time: 0:04:57 Time:  0:04:57\n",
      "N/A% (0 of 7) |                          | Elapsed Time: 0:00:00 ETA:  --:--:--"
     ]
    },
    {
     "name": "stdout",
     "output_type": "stream",
     "text": [
      "2018-07-10 15:26:06 [INFO] src.evaluation.evaluator: Training LSTM-AD on Syn Extreme Outliers (mis=0.675) with seed 3266865950\n"
     ]
    },
    {
     "name": "stderr",
     "output_type": "stream",
     "text": [
      "\r",
      "                                                                               \r",
      "\r",
      " 14% (1 of 7) |###                       | Elapsed Time: 0:01:41 ETA:   0:10:10"
     ]
    },
    {
     "name": "stdout",
     "output_type": "stream",
     "text": [
      "2018-07-10 15:27:47 [INFO] src.evaluation.evaluator: Training LSTMED on Syn Extreme Outliers (mis=0.675) with seed 3266865950\n"
     ]
    },
    {
     "name": "stderr",
     "output_type": "stream",
     "text": [
      "\r",
      "                                                                               \r",
      "\r",
      " 28% (2 of 7) |#######                   | Elapsed Time: 0:03:18 ETA:   0:08:05"
     ]
    },
    {
     "name": "stdout",
     "output_type": "stream",
     "text": [
      "2018-07-10 15:29:24 [INFO] src.evaluation.evaluator: Training DAGMM_NNAutoEncoder_withoutWindow on Syn Extreme Outliers (mis=0.675) with seed 3266865950\n",
      "2018-07-10 15:29:24 [WARNING] root: Determinant was negative! Clipping Eigenvalues to 0+epsilon from -1.4195457254118082e-07\n",
      "2018-07-10 15:29:24 [WARNING] root: Determinant was negative! Clipping Eigenvalues to 0+epsilon from -3.957859462389024e-08\n",
      "2018-07-10 15:29:24 [WARNING] root: Determinant was negative! Clipping Eigenvalues to 0+epsilon from -3.559106005468493e-07\n",
      "2018-07-10 15:29:24 [WARNING] root: Determinant was negative! Clipping Eigenvalues to 0+epsilon from -6.431407655327348e-07\n",
      "2018-07-10 15:29:24 [WARNING] root: Determinant was negative! Clipping Eigenvalues to 0+epsilon from -4.5370191514848557e-07\n",
      "2018-07-10 15:29:24 [WARNING] root: Determinant was negative! Clipping Eigenvalues to 0+epsilon from -9.195832717523444e-07\n",
      "2018-07-10 15:29:24 [WARNING] root: Determinant was negative! Clipping Eigenvalues to 0+epsilon from -9.252902088974224e-08\n",
      "2018-07-10 15:29:24 [WARNING] root: Determinant was negative! Clipping Eigenvalues to 0+epsilon from -1.4688411056340556e-06\n",
      "2018-07-10 15:29:24 [WARNING] root: Determinant was negative! Clipping Eigenvalues to 0+epsilon from -6.719539555888332e-07\n",
      "2018-07-10 15:29:24 [WARNING] root: Determinant was negative! Clipping Eigenvalues to 0+epsilon from -3.2492440027453995e-07\n",
      "2018-07-10 15:29:24 [WARNING] root: Determinant was negative! Clipping Eigenvalues to 0+epsilon from -1.6708739281057206e-07\n",
      "2018-07-10 15:29:24 [WARNING] root: Determinant was negative! Clipping Eigenvalues to 0+epsilon from -1.0169249264890823e-07\n",
      "2018-07-10 15:29:24 [WARNING] root: Determinant was negative! Clipping Eigenvalues to 0+epsilon from -5.726640850411968e-08\n",
      "2018-07-10 15:29:24 [WARNING] root: Determinant was negative! Clipping Eigenvalues to 0+epsilon from -2.7788698275799106e-07\n",
      "2018-07-10 15:29:24 [WARNING] root: Determinant was negative! Clipping Eigenvalues to 0+epsilon from -1.2622807332718367e-07\n",
      "2018-07-10 15:29:24 [WARNING] root: Determinant was negative! Clipping Eigenvalues to 0+epsilon from -3.6457186070038006e-07\n",
      "2018-07-10 15:29:24 [WARNING] root: Determinant was negative! Clipping Eigenvalues to 0+epsilon from -1.6564528948492807e-07\n",
      "2018-07-10 15:29:24 [WARNING] root: Determinant was negative! Clipping Eigenvalues to 0+epsilon from -1.8902102283391287e-07\n",
      "2018-07-10 15:29:24 [WARNING] root: Determinant was negative! Clipping Eigenvalues to 0+epsilon from -4.3476282485244155e-07\n",
      "2018-07-10 15:29:24 [WARNING] root: Determinant was negative! Clipping Eigenvalues to 0+epsilon from -1.2576427366184362e-07\n",
      "2018-07-10 15:29:24 [WARNING] root: Determinant was negative! Clipping Eigenvalues to 0+epsilon from -4.1305989384454733e-07\n",
      "2018-07-10 15:29:24 [WARNING] root: Determinant was negative! Clipping Eigenvalues to 0+epsilon from -4.688301942223916e-07\n",
      "2018-07-10 15:29:24 [WARNING] root: Determinant was negative! Clipping Eigenvalues to 0+epsilon from -1.0578320086551685e-07\n",
      "2018-07-10 15:29:24 [WARNING] root: Determinant was negative! Clipping Eigenvalues to 0+epsilon from -1.9209349488846783e-07\n",
      "2018-07-10 15:29:24 [WARNING] root: Determinant was negative! Clipping Eigenvalues to 0+epsilon from -6.965196774899596e-08\n",
      "2018-07-10 15:29:24 [WARNING] root: Determinant was negative! Clipping Eigenvalues to 0+epsilon from -1.8163345316679624e-07\n",
      "2018-07-10 15:29:24 [WARNING] root: Determinant was negative! Clipping Eigenvalues to 0+epsilon from -4.574571121906956e-08\n",
      "2018-07-10 15:29:24 [WARNING] root: Determinant was negative! Clipping Eigenvalues to 0+epsilon from -2.0325819605204742e-07\n",
      "2018-07-10 15:29:25 [WARNING] root: Determinant was negative! Clipping Eigenvalues to 0+epsilon from -3.3026740453578896e-08\n",
      "2018-07-10 15:29:25 [WARNING] root: Determinant was negative! Clipping Eigenvalues to 0+epsilon from -3.0771209935664956e-07\n",
      "2018-07-10 15:29:25 [WARNING] root: Determinant was negative! Clipping Eigenvalues to 0+epsilon from -5.146993586890858e-08\n",
      "2018-07-10 15:29:25 [WARNING] root: Determinant was negative! Clipping Eigenvalues to 0+epsilon from -1.9293970865419396e-07\n",
      "2018-07-10 15:29:25 [ERROR] src.evaluation.evaluator: An exception occurred while training DAGMM_NNAutoEncoder_withoutWindow on Syn Extreme Outliers (mis=0.675): Lapack Error getrf : U(3,3) is 0, U is singular at /pytorch/aten/src/TH/generic/THTensorLapack.c:514\n",
      "2018-07-10 15:29:25 [ERROR] src.evaluation.evaluator: Traceback (most recent call last):\n",
      "  File \"../src/evaluation/evaluator.py\", line 122, in evaluate\n",
      "    det.fit(X_train.copy(), y_train.copy())\n",
      "  File \"../src/algorithms/dagmm.py\", line 203, in fit\n",
      "    self.dagmm_step(input_data.float())\n",
      "  File \"../src/algorithms/dagmm.py\", line 177, in dagmm_step\n",
      "    self.lambda_cov_diag)\n",
      "  File \"../src/algorithms/dagmm.py\", line 144, in loss_function\n",
      "    sample_energy, cov_diag = self.compute_energy(z, phi, mu, cov)\n",
      "  File \"../src/algorithms/dagmm.py\", line 113, in compute_energy\n",
      "    cov_inverse.append(torch.inverse(cov_k).unsqueeze(0))\n",
      "RuntimeError: Lapack Error getrf : U(3,3) is 0, U is singular at /pytorch/aten/src/TH/generic/THTensorLapack.c:514\n",
      "\n"
     ]
    },
    {
     "name": "stderr",
     "output_type": "stream",
     "text": [
      "\r",
      "                                                                               \r",
      "\r",
      " 42% (3 of 7) |###########               | Elapsed Time: 0:03:19 ETA:   0:03:14"
     ]
    },
    {
     "name": "stdout",
     "output_type": "stream",
     "text": [
      "2018-07-10 15:29:25 [INFO] src.evaluation.evaluator: Training DAGMM_NNAutoEncoder_withWindow on Syn Extreme Outliers (mis=0.675) with seed 3266865950\n"
     ]
    },
    {
     "name": "stderr",
     "output_type": "stream",
     "text": [
      "\r",
      "                                                                               \r",
      "\r",
      " 57% (4 of 7) |##############            | Elapsed Time: 0:03:22 ETA:   0:00:11"
     ]
    },
    {
     "name": "stdout",
     "output_type": "stream",
     "text": [
      "2018-07-10 15:29:28 [INFO] src.evaluation.evaluator: Training DAGMM_LSTMAutoEncoder_withWindow on Syn Extreme Outliers (mis=0.675) with seed 3266865950\n"
     ]
    },
    {
     "name": "stderr",
     "output_type": "stream",
     "text": [
      "\r",
      "                                                                               \r",
      "\r",
      " 71% (5 of 7) |##################        | Elapsed Time: 0:03:53 ETA:   0:01:00"
     ]
    },
    {
     "name": "stdout",
     "output_type": "stream",
     "text": [
      "2018-07-10 15:29:59 [INFO] src.evaluation.evaluator: Training Recurrent EBM on Syn Extreme Outliers (mis=0.675) with seed 3266865950\n"
     ]
    },
    {
     "name": "stderr",
     "output_type": "stream",
     "text": [
      "100%|██████████| 15/15 [00:06<00:00,  2.17it/s]\n",
      " 85% (6 of 7) |######################    | Elapsed Time: 0:04:18 ETA:   0:00:25"
     ]
    },
    {
     "name": "stdout",
     "output_type": "stream",
     "text": [
      "2018-07-10 15:30:24 [INFO] src.evaluation.evaluator: Training Donut on Syn Extreme Outliers (mis=0.675) with seed 3266865950\n"
     ]
    },
    {
     "name": "stderr",
     "output_type": "stream",
     "text": [
      "100%|██████████| 1/1 [00:28<00:00, 28.35s/it]\n",
      "100% (7 of 7) |##########################| Elapsed Time: 0:04:58 Time:  0:04:58\n",
      "N/A% (0 of 7) |                          | Elapsed Time: 0:00:00 ETA:  --:--:--"
     ]
    },
    {
     "name": "stdout",
     "output_type": "stream",
     "text": [
      "2018-07-10 15:31:04 [INFO] src.evaluation.evaluator: Training LSTM-AD on Syn Extreme Outliers (mis=0.9) with seed 3266865950\n"
     ]
    },
    {
     "name": "stderr",
     "output_type": "stream",
     "text": [
      "\r",
      "                                                                               \r",
      "\r",
      " 14% (1 of 7) |###                       | Elapsed Time: 0:01:41 ETA:   0:10:10"
     ]
    },
    {
     "name": "stdout",
     "output_type": "stream",
     "text": [
      "2018-07-10 15:32:46 [INFO] src.evaluation.evaluator: Training LSTMED on Syn Extreme Outliers (mis=0.9) with seed 3266865950\n"
     ]
    },
    {
     "name": "stderr",
     "output_type": "stream",
     "text": [
      "\r",
      "                                                                               \r",
      "\r",
      " 28% (2 of 7) |#######                   | Elapsed Time: 0:03:19 ETA:   0:08:06"
     ]
    },
    {
     "name": "stdout",
     "output_type": "stream",
     "text": [
      "2018-07-10 15:34:23 [INFO] src.evaluation.evaluator: Training DAGMM_NNAutoEncoder_withoutWindow on Syn Extreme Outliers (mis=0.9) with seed 3266865950\n",
      "2018-07-10 15:34:23 [WARNING] root: Determinant was negative! Clipping Eigenvalues to 0+epsilon from -1.7009519126531814e-08\n",
      "2018-07-10 15:34:23 [WARNING] root: Determinant was negative! Clipping Eigenvalues to 0+epsilon from -1.7559736420480476e-07\n",
      "2018-07-10 15:34:23 [WARNING] root: Determinant was negative! Clipping Eigenvalues to 0+epsilon from -1.4505555157029448e-07\n",
      "2018-07-10 15:34:23 [WARNING] root: Determinant was negative! Clipping Eigenvalues to 0+epsilon from -3.75357593895842e-08\n",
      "2018-07-10 15:34:23 [WARNING] root: Determinant was negative! Clipping Eigenvalues to 0+epsilon from -2.131843146457868e-08\n",
      "2018-07-10 15:34:23 [WARNING] root: Determinant was negative! Clipping Eigenvalues to 0+epsilon from -1.8088737618882078e-08\n",
      "2018-07-10 15:34:23 [WARNING] root: Determinant was negative! Clipping Eigenvalues to 0+epsilon from -4.4779135066619347e-08\n",
      "2018-07-10 15:34:23 [WARNING] root: Determinant was negative! Clipping Eigenvalues to 0+epsilon from -6.971756505436133e-09\n",
      "2018-07-10 15:34:23 [WARNING] root: Determinant was negative! Clipping Eigenvalues to 0+epsilon from -1.880381006458265e-08\n",
      "2018-07-10 15:34:23 [WARNING] root: Determinant was negative! Clipping Eigenvalues to 0+epsilon from -1.4708845696986828e-07\n",
      "2018-07-10 15:34:23 [WARNING] root: Determinant was negative! Clipping Eigenvalues to 0+epsilon from -4.868480232289585e-07\n",
      "2018-07-10 15:34:23 [WARNING] root: Determinant was negative! Clipping Eigenvalues to 0+epsilon from -2.4634786655042262e-08\n",
      "2018-07-10 15:34:23 [WARNING] root: Determinant was negative! Clipping Eigenvalues to 0+epsilon from -1.5201545977561182e-07\n",
      "2018-07-10 15:34:23 [WARNING] root: Determinant was negative! Clipping Eigenvalues to 0+epsilon from -2.644352150582563e-07\n",
      "2018-07-10 15:34:23 [WARNING] root: Determinant was negative! Clipping Eigenvalues to 0+epsilon from -2.7360679055732362e-08\n",
      "2018-07-10 15:34:24 [WARNING] root: Determinant was negative! Clipping Eigenvalues to 0+epsilon from -1.6770709976299258e-07\n",
      "2018-07-10 15:34:24 [WARNING] root: Determinant was negative! Clipping Eigenvalues to 0+epsilon from -2.396483864686161e-07\n",
      "2018-07-10 15:34:24 [WARNING] root: Determinant was negative! Clipping Eigenvalues to 0+epsilon from -1.1126392962523823e-07\n",
      "2018-07-10 15:34:24 [WARNING] root: Determinant was negative! Clipping Eigenvalues to 0+epsilon from -1.1429938950868745e-07\n",
      "2018-07-10 15:34:24 [WARNING] root: Determinant was negative! Clipping Eigenvalues to 0+epsilon from -1.603227062219048e-08\n",
      "2018-07-10 15:34:24 [WARNING] root: Determinant was negative! Clipping Eigenvalues to 0+epsilon from -1.9927961147914175e-07\n",
      "2018-07-10 15:34:24 [WARNING] root: Determinant was negative! Clipping Eigenvalues to 0+epsilon from -2.554207298999245e-07\n",
      "2018-07-10 15:34:24 [WARNING] root: Determinant was negative! Clipping Eigenvalues to 0+epsilon from -1.34843247678873e-07\n",
      "2018-07-10 15:34:24 [WARNING] root: Determinant was negative! Clipping Eigenvalues to 0+epsilon from -1.9394668981931318e-07\n",
      "2018-07-10 15:34:24 [WARNING] root: Determinant was negative! Clipping Eigenvalues to 0+epsilon from -1.1775466646213317e-07\n",
      "2018-07-10 15:34:24 [WARNING] root: Determinant was negative! Clipping Eigenvalues to 0+epsilon from -5.496044153119328e-08\n",
      "2018-07-10 15:34:24 [WARNING] root: Determinant was negative! Clipping Eigenvalues to 0+epsilon from -1.6747563336139137e-07\n",
      "2018-07-10 15:34:24 [WARNING] root: Determinant was negative! Clipping Eigenvalues to 0+epsilon from -1.7054334477961675e-07\n",
      "2018-07-10 15:34:24 [WARNING] root: Determinant was negative! Clipping Eigenvalues to 0+epsilon from -1.524505961469913e-07\n",
      "2018-07-10 15:34:24 [WARNING] root: Determinant was negative! Clipping Eigenvalues to 0+epsilon from -7.437063231918728e-08\n",
      "2018-07-10 15:34:24 [WARNING] root: Determinant was negative! Clipping Eigenvalues to 0+epsilon from -1.0633343805466211e-07\n",
      "2018-07-10 15:34:24 [WARNING] root: Determinant was negative! Clipping Eigenvalues to 0+epsilon from -4.839202460971137e-07\n",
      "2018-07-10 15:34:24 [WARNING] root: Determinant was negative! Clipping Eigenvalues to 0+epsilon from -3.790969174133352e-07\n",
      "2018-07-10 15:34:24 [WARNING] root: Determinant was negative! Clipping Eigenvalues to 0+epsilon from -1.8204412199906983e-08\n",
      "2018-07-10 15:34:24 [WARNING] root: Determinant was negative! Clipping Eigenvalues to 0+epsilon from -8.26347879012701e-09\n",
      "2018-07-10 15:34:24 [WARNING] root: Determinant was negative! Clipping Eigenvalues to 0+epsilon from -1.5099479355740186e-07\n",
      "2018-07-10 15:34:24 [WARNING] root: Determinant was negative! Clipping Eigenvalues to 0+epsilon from -1.9749440127725393e-07\n",
      "2018-07-10 15:34:24 [WARNING] root: Determinant was negative! Clipping Eigenvalues to 0+epsilon from -2.7711232064575597e-07\n",
      "2018-07-10 15:34:24 [WARNING] root: Determinant was negative! Clipping Eigenvalues to 0+epsilon from -5.125345523993019e-06\n",
      "2018-07-10 15:34:24 [WARNING] root: Determinant was negative! Clipping Eigenvalues to 0+epsilon from -7.51669290366408e-07\n",
      "2018-07-10 15:34:24 [WARNING] root: Determinant was negative! Clipping Eigenvalues to 0+epsilon from -1.4621936372805067e-07\n",
      "2018-07-10 15:34:24 [WARNING] root: Determinant was negative! Clipping Eigenvalues to 0+epsilon from -1.5706139322446688e-07\n",
      "2018-07-10 15:34:24 [WARNING] root: Determinant was negative! Clipping Eigenvalues to 0+epsilon from -1.44042047622861e-07\n",
      "2018-07-10 15:34:24 [WARNING] root: Determinant was negative! Clipping Eigenvalues to 0+epsilon from -7.399116270789818e-07\n",
      "2018-07-10 15:34:24 [WARNING] root: Determinant was negative! Clipping Eigenvalues to 0+epsilon from -3.565690462892235e-07\n",
      "2018-07-10 15:34:24 [WARNING] root: Determinant was negative! Clipping Eigenvalues to 0+epsilon from -2.2948583477955253e-07\n",
      "2018-07-10 15:34:24 [WARNING] root: Determinant was negative! Clipping Eigenvalues to 0+epsilon from -4.17340935143784e-08\n",
      "2018-07-10 15:34:24 [WARNING] root: Determinant was negative! Clipping Eigenvalues to 0+epsilon from -3.276856830325414e-07\n",
      "2018-07-10 15:34:24 [ERROR] src.evaluation.evaluator: An exception occurred while training DAGMM_NNAutoEncoder_withoutWindow on Syn Extreme Outliers (mis=0.9): Lapack Error getrf : U(3,3) is 0, U is singular at /pytorch/aten/src/TH/generic/THTensorLapack.c:514\n",
      "2018-07-10 15:34:24 [ERROR] src.evaluation.evaluator: Traceback (most recent call last):\n",
      "  File \"../src/evaluation/evaluator.py\", line 122, in evaluate\n",
      "    det.fit(X_train.copy(), y_train.copy())\n",
      "  File \"../src/algorithms/dagmm.py\", line 203, in fit\n",
      "    self.dagmm_step(input_data.float())\n",
      "  File \"../src/algorithms/dagmm.py\", line 177, in dagmm_step\n",
      "    self.lambda_cov_diag)\n",
      "  File \"../src/algorithms/dagmm.py\", line 144, in loss_function\n",
      "    sample_energy, cov_diag = self.compute_energy(z, phi, mu, cov)\n",
      "  File \"../src/algorithms/dagmm.py\", line 113, in compute_energy\n",
      "    cov_inverse.append(torch.inverse(cov_k).unsqueeze(0))\n",
      "RuntimeError: Lapack Error getrf : U(3,3) is 0, U is singular at /pytorch/aten/src/TH/generic/THTensorLapack.c:514\n",
      "\n"
     ]
    },
    {
     "name": "stderr",
     "output_type": "stream",
     "text": [
      "\r",
      "                                                                               \r",
      "\r",
      " 42% (3 of 7) |###########               | Elapsed Time: 0:03:19 ETA:   0:03:15"
     ]
    },
    {
     "name": "stdout",
     "output_type": "stream",
     "text": [
      "2018-07-10 15:34:24 [INFO] src.evaluation.evaluator: Training DAGMM_NNAutoEncoder_withWindow on Syn Extreme Outliers (mis=0.9) with seed 3266865950\n"
     ]
    },
    {
     "name": "stderr",
     "output_type": "stream",
     "text": [
      "\r",
      "                                                                               \r",
      "\r",
      " 57% (4 of 7) |##############            | Elapsed Time: 0:03:23 ETA:   0:00:11"
     ]
    },
    {
     "name": "stdout",
     "output_type": "stream",
     "text": [
      "2018-07-10 15:34:28 [INFO] src.evaluation.evaluator: Training DAGMM_LSTMAutoEncoder_withWindow on Syn Extreme Outliers (mis=0.9) with seed 3266865950\n"
     ]
    },
    {
     "name": "stderr",
     "output_type": "stream",
     "text": [
      "\r",
      "                                                                               \r",
      "\r",
      " 71% (5 of 7) |##################        | Elapsed Time: 0:03:53 ETA:   0:01:00"
     ]
    },
    {
     "name": "stdout",
     "output_type": "stream",
     "text": [
      "2018-07-10 15:34:58 [INFO] src.evaluation.evaluator: Training Recurrent EBM on Syn Extreme Outliers (mis=0.9) with seed 3266865950\n"
     ]
    },
    {
     "name": "stderr",
     "output_type": "stream",
     "text": [
      "100%|██████████| 15/15 [00:06<00:00,  2.17it/s]\n",
      " 85% (6 of 7) |######################    | Elapsed Time: 0:04:19 ETA:   0:00:26"
     ]
    },
    {
     "name": "stdout",
     "output_type": "stream",
     "text": [
      "2018-07-10 15:35:24 [INFO] src.evaluation.evaluator: Training Donut on Syn Extreme Outliers (mis=0.9) with seed 3266865950\n"
     ]
    },
    {
     "name": "stderr",
     "output_type": "stream",
     "text": [
      "100%|██████████| 1/1 [00:30<00:00, 30.46s/it]\n",
      "100% (7 of 7) |##########################| Elapsed Time: 0:05:01 Time:  0:05:01\n",
      "100% (5 of 5) |##########################| Elapsed Time: 0:26:29 Time:  0:26:29\n"
     ]
    },
    {
     "name": "stdout",
     "output_type": "stream",
     "text": [
      "2018-07-10 15:36:09 [INFO] src.evaluation.evaluator: Store evaluator results at /home/thomas/work/notebooks/data_30/missing-run-4-3266865950-2018-07-10-153609.pkl\n"
     ]
    },
    {
     "name": "stderr",
     "output_type": "stream",
     "text": [
      "N/A% (0 of 7) |                          | Elapsed Time: 0:00:00 ETA:  --:--:--"
     ]
    },
    {
     "name": "stdout",
     "output_type": "stream",
     "text": [
      "2018-07-10 15:36:09 [INFO] src.evaluation.evaluator: Training LSTM-AD on Syn Extreme Outliers (mis=0.0) with seed 3933403682\n"
     ]
    },
    {
     "name": "stderr",
     "output_type": "stream",
     "text": [
      "\r",
      "                                                                               \r",
      "\r",
      " 14% (1 of 7) |###                       | Elapsed Time: 0:01:41 ETA:   0:10:11"
     ]
    },
    {
     "name": "stdout",
     "output_type": "stream",
     "text": [
      "2018-07-10 15:37:51 [INFO] src.evaluation.evaluator: Training LSTMED on Syn Extreme Outliers (mis=0.0) with seed 3933403682\n"
     ]
    },
    {
     "name": "stderr",
     "output_type": "stream",
     "text": [
      "\r",
      "                                                                               \r",
      "\r",
      " 28% (2 of 7) |#######                   | Elapsed Time: 0:03:22 ETA:   0:08:20"
     ]
    },
    {
     "name": "stdout",
     "output_type": "stream",
     "text": [
      "2018-07-10 15:39:31 [INFO] src.evaluation.evaluator: Training DAGMM_NNAutoEncoder_withoutWindow on Syn Extreme Outliers (mis=0.0) with seed 3933403682\n",
      "2018-07-10 15:39:32 [WARNING] root: Determinant was negative! Clipping Eigenvalues to 0+epsilon from -3.0946647910923275e-08\n",
      "2018-07-10 15:39:32 [WARNING] root: Determinant was negative! Clipping Eigenvalues to 0+epsilon from -1.256346990885504e-07\n",
      "2018-07-10 15:39:32 [WARNING] root: Determinant was negative! Clipping Eigenvalues to 0+epsilon from -5.211829829931958e-07\n",
      "2018-07-10 15:39:32 [WARNING] root: Determinant was negative! Clipping Eigenvalues to 0+epsilon from -1.5069300474124248e-08\n",
      "2018-07-10 15:39:32 [WARNING] root: Determinant was negative! Clipping Eigenvalues to 0+epsilon from -2.567047943102807e-07\n",
      "2018-07-10 15:39:32 [WARNING] root: Determinant was negative! Clipping Eigenvalues to 0+epsilon from -2.745315264007786e-08\n",
      "2018-07-10 15:39:32 [WARNING] root: Determinant was negative! Clipping Eigenvalues to 0+epsilon from -1.228381174556148e-09\n",
      "2018-07-10 15:39:33 [WARNING] root: Determinant was negative! Clipping Eigenvalues to 0+epsilon from -5.221448873271584e-07\n"
     ]
    },
    {
     "name": "stderr",
     "output_type": "stream",
     "text": [
      "\r",
      "                                                                               \r",
      "\r",
      " 42% (3 of 7) |###########               | Elapsed Time: 0:03:26 ETA:   0:00:15"
     ]
    },
    {
     "name": "stdout",
     "output_type": "stream",
     "text": [
      "2018-07-10 15:39:35 [INFO] src.evaluation.evaluator: Training DAGMM_NNAutoEncoder_withWindow on Syn Extreme Outliers (mis=0.0) with seed 3933403682\n"
     ]
    },
    {
     "name": "stderr",
     "output_type": "stream",
     "text": [
      "\r",
      "                                                                               \r",
      "\r",
      " 57% (4 of 7) |##############            | Elapsed Time: 0:03:30 ETA:   0:00:11"
     ]
    },
    {
     "name": "stdout",
     "output_type": "stream",
     "text": [
      "2018-07-10 15:39:39 [INFO] src.evaluation.evaluator: Training DAGMM_LSTMAutoEncoder_withWindow on Syn Extreme Outliers (mis=0.0) with seed 3933403682\n"
     ]
    },
    {
     "name": "stderr",
     "output_type": "stream",
     "text": [
      "\r",
      "                                                                               \r",
      "\r",
      " 71% (5 of 7) |##################        | Elapsed Time: 0:04:00 ETA:   0:01:00"
     ]
    },
    {
     "name": "stdout",
     "output_type": "stream",
     "text": [
      "2018-07-10 15:40:09 [INFO] src.evaluation.evaluator: Training Recurrent EBM on Syn Extreme Outliers (mis=0.0) with seed 3933403682\n"
     ]
    },
    {
     "name": "stderr",
     "output_type": "stream",
     "text": [
      "100%|██████████| 15/15 [00:06<00:00,  2.16it/s]\n",
      " 85% (6 of 7) |######################    | Elapsed Time: 0:04:26 ETA:   0:00:26"
     ]
    },
    {
     "name": "stdout",
     "output_type": "stream",
     "text": [
      "2018-07-10 15:40:36 [INFO] src.evaluation.evaluator: Training Donut on Syn Extreme Outliers (mis=0.0) with seed 3933403682\n"
     ]
    },
    {
     "name": "stderr",
     "output_type": "stream",
     "text": [
      "\r",
      "  0%|          | 0/1 [00:00<?, ?it/s]"
     ]
    },
    {
     "name": "stdout",
     "output_type": "stream",
     "text": [
      "INFO:tensorflow:Restoring parameters from /tmp/tmp_07duvz8/variables.dat-1200\n",
      "2018-07-10 15:43:24 [INFO] tensorflow: Restoring parameters from /tmp/tmp_07duvz8/variables.dat-1200\n"
     ]
    },
    {
     "name": "stderr",
     "output_type": "stream",
     "text": [
      "100%|██████████| 1/1 [02:49<00:00, 169.68s/it]\n",
      "100% (7 of 7) |##########################| Elapsed Time: 0:07:28 Time:  0:07:28\n",
      "N/A% (0 of 7) |                          | Elapsed Time: 0:00:00 ETA:  --:--:--"
     ]
    },
    {
     "name": "stdout",
     "output_type": "stream",
     "text": [
      "2018-07-10 15:43:37 [INFO] src.evaluation.evaluator: Training LSTM-AD on Syn Extreme Outliers (mis=0.225) with seed 3933403682\n"
     ]
    },
    {
     "name": "stderr",
     "output_type": "stream",
     "text": [
      "\r",
      "                                                                               \r",
      "\r",
      " 14% (1 of 7) |###                       | Elapsed Time: 0:01:43 ETA:   0:10:20"
     ]
    },
    {
     "name": "stdout",
     "output_type": "stream",
     "text": [
      "2018-07-10 15:45:21 [INFO] src.evaluation.evaluator: Training LSTMED on Syn Extreme Outliers (mis=0.225) with seed 3933403682\n"
     ]
    },
    {
     "name": "stderr",
     "output_type": "stream",
     "text": [
      "\r",
      "                                                                               \r",
      "\r",
      " 28% (2 of 7) |#######                   | Elapsed Time: 0:03:20 ETA:   0:08:07"
     ]
    },
    {
     "name": "stdout",
     "output_type": "stream",
     "text": [
      "2018-07-10 15:46:58 [INFO] src.evaluation.evaluator: Training DAGMM_NNAutoEncoder_withoutWindow on Syn Extreme Outliers (mis=0.225) with seed 3933403682\n",
      "2018-07-10 15:46:58 [WARNING] root: Determinant was negative! Clipping Eigenvalues to 0+epsilon from -7.163959736544712e-08\n",
      "2018-07-10 15:46:58 [WARNING] root: Determinant was negative! Clipping Eigenvalues to 0+epsilon from -1.5470003233986063e-07\n",
      "2018-07-10 15:46:58 [WARNING] root: Determinant was negative! Clipping Eigenvalues to 0+epsilon from -2.5551696580805583e-07\n",
      "2018-07-10 15:46:58 [WARNING] root: Determinant was negative! Clipping Eigenvalues to 0+epsilon from -3.998104602942476e-07\n",
      "2018-07-10 15:46:58 [WARNING] root: Determinant was negative! Clipping Eigenvalues to 0+epsilon from -1.5177191414750268e-07\n",
      "2018-07-10 15:46:59 [ERROR] src.evaluation.evaluator: An exception occurred while training DAGMM_NNAutoEncoder_withoutWindow on Syn Extreme Outliers (mis=0.225): Lapack Error getrf : U(3,3) is 0, U is singular at /pytorch/aten/src/TH/generic/THTensorLapack.c:514\n",
      "2018-07-10 15:46:59 [ERROR] src.evaluation.evaluator: Traceback (most recent call last):\n",
      "  File \"../src/evaluation/evaluator.py\", line 122, in evaluate\n",
      "    det.fit(X_train.copy(), y_train.copy())\n",
      "  File \"../src/algorithms/dagmm.py\", line 203, in fit\n",
      "    self.dagmm_step(input_data.float())\n",
      "  File \"../src/algorithms/dagmm.py\", line 177, in dagmm_step\n",
      "    self.lambda_cov_diag)\n",
      "  File \"../src/algorithms/dagmm.py\", line 144, in loss_function\n",
      "    sample_energy, cov_diag = self.compute_energy(z, phi, mu, cov)\n",
      "  File \"../src/algorithms/dagmm.py\", line 113, in compute_energy\n",
      "    cov_inverse.append(torch.inverse(cov_k).unsqueeze(0))\n",
      "RuntimeError: Lapack Error getrf : U(3,3) is 0, U is singular at /pytorch/aten/src/TH/generic/THTensorLapack.c:514\n",
      "\n"
     ]
    },
    {
     "name": "stderr",
     "output_type": "stream",
     "text": [
      "\r",
      "                                                                               \r",
      "\r",
      " 42% (3 of 7) |###########               | Elapsed Time: 0:03:21 ETA:   0:03:15"
     ]
    },
    {
     "name": "stdout",
     "output_type": "stream",
     "text": [
      "2018-07-10 15:46:59 [INFO] src.evaluation.evaluator: Training DAGMM_NNAutoEncoder_withWindow on Syn Extreme Outliers (mis=0.225) with seed 3933403682\n"
     ]
    },
    {
     "name": "stderr",
     "output_type": "stream",
     "text": [
      "\r",
      "                                                                               \r",
      "\r",
      " 57% (4 of 7) |##############            | Elapsed Time: 0:03:25 ETA:   0:00:11"
     ]
    },
    {
     "name": "stdout",
     "output_type": "stream",
     "text": [
      "2018-07-10 15:47:03 [INFO] src.evaluation.evaluator: Training DAGMM_LSTMAutoEncoder_withWindow on Syn Extreme Outliers (mis=0.225) with seed 3933403682\n"
     ]
    },
    {
     "name": "stderr",
     "output_type": "stream",
     "text": [
      "\r",
      "                                                                               \r",
      "\r",
      " 71% (5 of 7) |##################        | Elapsed Time: 0:03:55 ETA:   0:01:00"
     ]
    },
    {
     "name": "stdout",
     "output_type": "stream",
     "text": [
      "2018-07-10 15:47:33 [INFO] src.evaluation.evaluator: Training Recurrent EBM on Syn Extreme Outliers (mis=0.225) with seed 3933403682\n"
     ]
    },
    {
     "name": "stderr",
     "output_type": "stream",
     "text": [
      "100%|██████████| 15/15 [00:06<00:00,  2.17it/s]\n",
      " 85% (6 of 7) |######################    | Elapsed Time: 0:04:22 ETA:   0:00:26"
     ]
    },
    {
     "name": "stdout",
     "output_type": "stream",
     "text": [
      "2018-07-10 15:48:00 [INFO] src.evaluation.evaluator: Training Donut on Syn Extreme Outliers (mis=0.225) with seed 3933403682\n"
     ]
    },
    {
     "name": "stderr",
     "output_type": "stream",
     "text": [
      "100%|██████████| 1/1 [00:30<00:00, 30.71s/it]\n",
      "100% (7 of 7) |##########################| Elapsed Time: 0:05:05 Time:  0:05:05\n",
      "N/A% (0 of 7) |                          | Elapsed Time: 0:00:00 ETA:  --:--:--"
     ]
    },
    {
     "name": "stdout",
     "output_type": "stream",
     "text": [
      "2018-07-10 15:48:43 [INFO] src.evaluation.evaluator: Training LSTM-AD on Syn Extreme Outliers (mis=0.45) with seed 3933403682\n"
     ]
    },
    {
     "name": "stderr",
     "output_type": "stream",
     "text": [
      "\r",
      "                                                                               \r",
      "\r",
      " 14% (1 of 7) |###                       | Elapsed Time: 0:01:41 ETA:   0:10:09"
     ]
    },
    {
     "name": "stdout",
     "output_type": "stream",
     "text": [
      "2018-07-10 15:50:24 [INFO] src.evaluation.evaluator: Training LSTMED on Syn Extreme Outliers (mis=0.45) with seed 3933403682\n"
     ]
    },
    {
     "name": "stderr",
     "output_type": "stream",
     "text": [
      "\r",
      "                                                                               \r",
      "\r",
      " 28% (2 of 7) |#######                   | Elapsed Time: 0:03:18 ETA:   0:08:06"
     ]
    },
    {
     "name": "stdout",
     "output_type": "stream",
     "text": [
      "2018-07-10 15:52:02 [INFO] src.evaluation.evaluator: Training DAGMM_NNAutoEncoder_withoutWindow on Syn Extreme Outliers (mis=0.45) with seed 3933403682\n",
      "2018-07-10 15:52:02 [WARNING] root: Determinant was negative! Clipping Eigenvalues to 0+epsilon from -4.4188169567860314e-07\n",
      "2018-07-10 15:52:02 [WARNING] root: Determinant was negative! Clipping Eigenvalues to 0+epsilon from -9.198544859145841e-08\n",
      "2018-07-10 15:52:02 [WARNING] root: Determinant was negative! Clipping Eigenvalues to 0+epsilon from -1.1431548330165242e-07\n",
      "2018-07-10 15:52:02 [WARNING] root: Determinant was negative! Clipping Eigenvalues to 0+epsilon from -8.380969234167424e-07\n",
      "2018-07-10 15:52:02 [WARNING] root: Determinant was negative! Clipping Eigenvalues to 0+epsilon from -5.0652683825092026e-08\n",
      "2018-07-10 15:52:02 [WARNING] root: Determinant was negative! Clipping Eigenvalues to 0+epsilon from -1.6163598104412813e-07\n",
      "2018-07-10 15:52:02 [WARNING] root: Determinant was negative! Clipping Eigenvalues to 0+epsilon from -1.784654557468457e-08\n",
      "2018-07-10 15:52:02 [WARNING] root: Determinant was negative! Clipping Eigenvalues to 0+epsilon from -3.7727039625679026e-07\n",
      "2018-07-10 15:52:02 [WARNING] root: Determinant was negative! Clipping Eigenvalues to 0+epsilon from -1.6030608662731538e-07\n",
      "2018-07-10 15:52:02 [WARNING] root: Determinant was negative! Clipping Eigenvalues to 0+epsilon from -3.200547951109911e-07\n",
      "2018-07-10 15:52:02 [WARNING] root: Determinant was negative! Clipping Eigenvalues to 0+epsilon from -1.1101483323727734e-06\n",
      "2018-07-10 15:52:02 [WARNING] root: Determinant was negative! Clipping Eigenvalues to 0+epsilon from -4.8819906339758745e-08\n",
      "2018-07-10 15:52:02 [WARNING] root: Determinant was negative! Clipping Eigenvalues to 0+epsilon from -3.6485556620391435e-07\n",
      "2018-07-10 15:52:02 [WARNING] root: Determinant was negative! Clipping Eigenvalues to 0+epsilon from -3.7455373558259453e-07\n",
      "2018-07-10 15:52:02 [WARNING] root: Determinant was negative! Clipping Eigenvalues to 0+epsilon from -5.09507685819699e-07\n",
      "2018-07-10 15:52:02 [WARNING] root: Determinant was negative! Clipping Eigenvalues to 0+epsilon from -4.2652283127608825e-07\n",
      "2018-07-10 15:52:02 [WARNING] root: Determinant was negative! Clipping Eigenvalues to 0+epsilon from -4.946884928358486e-07\n",
      "2018-07-10 15:52:02 [WARNING] root: Determinant was negative! Clipping Eigenvalues to 0+epsilon from -4.441215537553944e-07\n",
      "2018-07-10 15:52:02 [WARNING] root: Determinant was negative! Clipping Eigenvalues to 0+epsilon from -1.5706127953762916e-07\n",
      "2018-07-10 15:52:02 [WARNING] root: Determinant was negative! Clipping Eigenvalues to 0+epsilon from -1.7242209082724003e-07\n",
      "2018-07-10 15:52:02 [WARNING] root: Determinant was negative! Clipping Eigenvalues to 0+epsilon from -2.3092944445579633e-07\n",
      "2018-07-10 15:52:02 [WARNING] root: Determinant was negative! Clipping Eigenvalues to 0+epsilon from -7.537503279309021e-07\n",
      "2018-07-10 15:52:02 [WARNING] root: Determinant was negative! Clipping Eigenvalues to 0+epsilon from -8.60356195175882e-08\n",
      "2018-07-10 15:52:02 [WARNING] root: Determinant was negative! Clipping Eigenvalues to 0+epsilon from -1.6961558912953478e-07\n",
      "2018-07-10 15:52:02 [WARNING] root: Determinant was negative! Clipping Eigenvalues to 0+epsilon from -1.4173276774442911e-08\n",
      "2018-07-10 15:52:02 [WARNING] root: Determinant was negative! Clipping Eigenvalues to 0+epsilon from -2.4233094109149533e-07\n",
      "2018-07-10 15:52:02 [WARNING] root: Determinant was negative! Clipping Eigenvalues to 0+epsilon from -1.0604160394223072e-07\n",
      "2018-07-10 15:52:02 [WARNING] root: Determinant was negative! Clipping Eigenvalues to 0+epsilon from -9.65376443673449e-07\n",
      "2018-07-10 15:52:02 [WARNING] root: Determinant was negative! Clipping Eigenvalues to 0+epsilon from -5.041478701173219e-08\n",
      "2018-07-10 15:52:02 [WARNING] root: Determinant was negative! Clipping Eigenvalues to 0+epsilon from -2.8158586928839213e-07\n",
      "2018-07-10 15:52:02 [WARNING] root: Determinant was negative! Clipping Eigenvalues to 0+epsilon from -5.500548923009774e-07\n",
      "2018-07-10 15:52:02 [WARNING] root: Determinant was negative! Clipping Eigenvalues to 0+epsilon from -2.4937139642133843e-07\n",
      "2018-07-10 15:52:02 [WARNING] root: Determinant was negative! Clipping Eigenvalues to 0+epsilon from -3.717582899298577e-07\n",
      "2018-07-10 15:52:02 [WARNING] root: Determinant was negative! Clipping Eigenvalues to 0+epsilon from -2.5039186724029605e-08\n",
      "2018-07-10 15:52:02 [WARNING] root: Determinant was negative! Clipping Eigenvalues to 0+epsilon from -5.307413175614784e-07\n",
      "2018-07-10 15:52:02 [WARNING] root: Determinant was negative! Clipping Eigenvalues to 0+epsilon from -5.34026369791718e-08\n",
      "2018-07-10 15:52:02 [WARNING] root: Determinant was negative! Clipping Eigenvalues to 0+epsilon from -2.169137616192529e-07\n",
      "2018-07-10 15:52:02 [WARNING] root: Determinant was negative! Clipping Eigenvalues to 0+epsilon from -2.7472790975480166e-07\n",
      "2018-07-10 15:52:02 [WARNING] root: Determinant was negative! Clipping Eigenvalues to 0+epsilon from -6.344091616483638e-07\n",
      "2018-07-10 15:52:02 [WARNING] root: Determinant was negative! Clipping Eigenvalues to 0+epsilon from -1.7531357343614218e-07\n",
      "2018-07-10 15:52:03 [WARNING] root: Determinant was negative! Clipping Eigenvalues to 0+epsilon from -6.109138439569506e-07\n",
      "2018-07-10 15:52:03 [WARNING] root: Determinant was negative! Clipping Eigenvalues to 0+epsilon from -1.618339524611656e-07\n",
      "2018-07-10 15:52:03 [WARNING] root: Determinant was negative! Clipping Eigenvalues to 0+epsilon from -1.6045378359308415e-08\n",
      "2018-07-10 15:52:03 [WARNING] root: Determinant was negative! Clipping Eigenvalues to 0+epsilon from -2.0350714180494833e-07\n",
      "2018-07-10 15:52:03 [WARNING] root: Determinant was negative! Clipping Eigenvalues to 0+epsilon from -7.186435624362275e-08\n",
      "2018-07-10 15:52:03 [WARNING] root: Determinant was negative! Clipping Eigenvalues to 0+epsilon from -3.5770452200267755e-07\n",
      "2018-07-10 15:52:03 [WARNING] root: Determinant was negative! Clipping Eigenvalues to 0+epsilon from -5.638278253172757e-07\n",
      "2018-07-10 15:52:03 [WARNING] root: Determinant was negative! Clipping Eigenvalues to 0+epsilon from -4.95726851568179e-07\n",
      "2018-07-10 15:52:03 [WARNING] root: Determinant was negative! Clipping Eigenvalues to 0+epsilon from -1.8784343183142482e-06\n",
      "2018-07-10 15:52:03 [WARNING] root: Determinant was negative! Clipping Eigenvalues to 0+epsilon from -2.4752978333708597e-07\n",
      "2018-07-10 15:52:03 [WARNING] root: Determinant was negative! Clipping Eigenvalues to 0+epsilon from -1.1675380306996885e-07\n",
      "2018-07-10 15:52:03 [WARNING] root: Determinant was negative! Clipping Eigenvalues to 0+epsilon from -2.9506057330763724e-07\n",
      "2018-07-10 15:52:03 [WARNING] root: Determinant was negative! Clipping Eigenvalues to 0+epsilon from -6.045386271580355e-07\n",
      "2018-07-10 15:52:03 [WARNING] root: Determinant was negative! Clipping Eigenvalues to 0+epsilon from -4.3367478497202683e-07\n",
      "2018-07-10 15:52:03 [WARNING] root: Determinant was negative! Clipping Eigenvalues to 0+epsilon from -1.6207080477670388e-07\n",
      "2018-07-10 15:52:03 [WARNING] root: Determinant was negative! Clipping Eigenvalues to 0+epsilon from -4.395333874640528e-08\n",
      "2018-07-10 15:52:03 [WARNING] root: Determinant was negative! Clipping Eigenvalues to 0+epsilon from -1.7726623013913922e-07\n",
      "2018-07-10 15:52:03 [ERROR] src.evaluation.evaluator: An exception occurred while training DAGMM_NNAutoEncoder_withoutWindow on Syn Extreme Outliers (mis=0.45): Lapack Error getrf : U(3,3) is 0, U is singular at /pytorch/aten/src/TH/generic/THTensorLapack.c:514\n",
      "2018-07-10 15:52:03 [ERROR] src.evaluation.evaluator: Traceback (most recent call last):\n",
      "  File \"../src/evaluation/evaluator.py\", line 122, in evaluate\n",
      "    det.fit(X_train.copy(), y_train.copy())\n",
      "  File \"../src/algorithms/dagmm.py\", line 203, in fit\n",
      "    self.dagmm_step(input_data.float())\n",
      "  File \"../src/algorithms/dagmm.py\", line 177, in dagmm_step\n",
      "    self.lambda_cov_diag)\n",
      "  File \"../src/algorithms/dagmm.py\", line 144, in loss_function\n",
      "    sample_energy, cov_diag = self.compute_energy(z, phi, mu, cov)\n",
      "  File \"../src/algorithms/dagmm.py\", line 113, in compute_energy\n",
      "    cov_inverse.append(torch.inverse(cov_k).unsqueeze(0))\n",
      "RuntimeError: Lapack Error getrf : U(3,3) is 0, U is singular at /pytorch/aten/src/TH/generic/THTensorLapack.c:514\n",
      "\n"
     ]
    },
    {
     "name": "stderr",
     "output_type": "stream",
     "text": [
      "\r",
      "                                                                               \r",
      "\r",
      " 42% (3 of 7) |###########               | Elapsed Time: 0:03:19 ETA:   0:03:16"
     ]
    },
    {
     "name": "stdout",
     "output_type": "stream",
     "text": [
      "2018-07-10 15:52:03 [INFO] src.evaluation.evaluator: Training DAGMM_NNAutoEncoder_withWindow on Syn Extreme Outliers (mis=0.45) with seed 3933403682\n"
     ]
    },
    {
     "name": "stderr",
     "output_type": "stream",
     "text": [
      "\r",
      "                                                                               \r",
      "\r",
      " 57% (4 of 7) |##############            | Elapsed Time: 0:03:23 ETA:   0:00:11"
     ]
    },
    {
     "name": "stdout",
     "output_type": "stream",
     "text": [
      "2018-07-10 15:52:07 [INFO] src.evaluation.evaluator: Training DAGMM_LSTMAutoEncoder_withWindow on Syn Extreme Outliers (mis=0.45) with seed 3933403682\n"
     ]
    },
    {
     "name": "stderr",
     "output_type": "stream",
     "text": [
      "\r",
      "                                                                               \r",
      "\r",
      " 71% (5 of 7) |##################        | Elapsed Time: 0:03:54 ETA:   0:01:00"
     ]
    },
    {
     "name": "stdout",
     "output_type": "stream",
     "text": [
      "2018-07-10 15:52:37 [INFO] src.evaluation.evaluator: Training Recurrent EBM on Syn Extreme Outliers (mis=0.45) with seed 3933403682\n"
     ]
    },
    {
     "name": "stderr",
     "output_type": "stream",
     "text": [
      "100%|██████████| 15/15 [00:06<00:00,  2.14it/s]\n",
      " 85% (6 of 7) |######################    | Elapsed Time: 0:04:21 ETA:   0:00:27"
     ]
    },
    {
     "name": "stdout",
     "output_type": "stream",
     "text": [
      "2018-07-10 15:53:04 [INFO] src.evaluation.evaluator: Training Donut on Syn Extreme Outliers (mis=0.45) with seed 3933403682\n"
     ]
    },
    {
     "name": "stderr",
     "output_type": "stream",
     "text": [
      "100%|██████████| 1/1 [00:31<00:00, 31.57s/it]\n",
      "100% (7 of 7) |##########################| Elapsed Time: 0:05:05 Time:  0:05:05\n",
      "N/A% (0 of 7) |                          | Elapsed Time: 0:00:00 ETA:  --:--:--"
     ]
    },
    {
     "name": "stdout",
     "output_type": "stream",
     "text": [
      "2018-07-10 15:53:49 [INFO] src.evaluation.evaluator: Training LSTM-AD on Syn Extreme Outliers (mis=0.675) with seed 3933403682\n"
     ]
    },
    {
     "name": "stderr",
     "output_type": "stream",
     "text": [
      "\r",
      "                                                                               \r",
      "\r",
      " 14% (1 of 7) |###                       | Elapsed Time: 0:01:42 ETA:   0:10:12"
     ]
    },
    {
     "name": "stdout",
     "output_type": "stream",
     "text": [
      "2018-07-10 15:55:31 [INFO] src.evaluation.evaluator: Training LSTMED on Syn Extreme Outliers (mis=0.675) with seed 3933403682\n"
     ]
    },
    {
     "name": "stderr",
     "output_type": "stream",
     "text": [
      "\r",
      "                                                                               \r",
      "\r",
      " 28% (2 of 7) |#######                   | Elapsed Time: 0:03:19 ETA:   0:08:07"
     ]
    },
    {
     "name": "stdout",
     "output_type": "stream",
     "text": [
      "2018-07-10 15:57:08 [INFO] src.evaluation.evaluator: Training DAGMM_NNAutoEncoder_withoutWindow on Syn Extreme Outliers (mis=0.675) with seed 3933403682\n",
      "2018-07-10 15:57:08 [WARNING] root: Determinant was negative! Clipping Eigenvalues to 0+epsilon from -8.831933087094512e-07\n",
      "2018-07-10 15:57:08 [WARNING] root: Determinant was negative! Clipping Eigenvalues to 0+epsilon from -3.1920012588670943e-07\n",
      "2018-07-10 15:57:08 [WARNING] root: Determinant was negative! Clipping Eigenvalues to 0+epsilon from -2.6091987592735677e-07\n",
      "2018-07-10 15:57:08 [WARNING] root: Determinant was negative! Clipping Eigenvalues to 0+epsilon from -4.96485199619201e-07\n",
      "2018-07-10 15:57:08 [WARNING] root: Determinant was negative! Clipping Eigenvalues to 0+epsilon from -2.0688948154656828e-07\n",
      "2018-07-10 15:57:08 [WARNING] root: Determinant was negative! Clipping Eigenvalues to 0+epsilon from -4.969318752046092e-07\n",
      "2018-07-10 15:57:08 [WARNING] root: Determinant was negative! Clipping Eigenvalues to 0+epsilon from -2.2033096058748924e-07\n",
      "2018-07-10 15:57:08 [WARNING] root: Determinant was negative! Clipping Eigenvalues to 0+epsilon from -3.823837744221237e-07\n",
      "2018-07-10 15:57:08 [WARNING] root: Determinant was negative! Clipping Eigenvalues to 0+epsilon from -2.1035680219938513e-07\n",
      "2018-07-10 15:57:08 [WARNING] root: Determinant was negative! Clipping Eigenvalues to 0+epsilon from -7.307497895681081e-08\n",
      "2018-07-10 15:57:08 [WARNING] root: Determinant was negative! Clipping Eigenvalues to 0+epsilon from -1.644088776231456e-08\n",
      "2018-07-10 15:57:08 [ERROR] src.evaluation.evaluator: An exception occurred while training DAGMM_NNAutoEncoder_withoutWindow on Syn Extreme Outliers (mis=0.675): Lapack Error getrf : U(3,3) is 0, U is singular at /pytorch/aten/src/TH/generic/THTensorLapack.c:514\n",
      "2018-07-10 15:57:08 [ERROR] src.evaluation.evaluator: Traceback (most recent call last):\n",
      "  File \"../src/evaluation/evaluator.py\", line 122, in evaluate\n",
      "    det.fit(X_train.copy(), y_train.copy())\n",
      "  File \"../src/algorithms/dagmm.py\", line 203, in fit\n",
      "    self.dagmm_step(input_data.float())\n",
      "  File \"../src/algorithms/dagmm.py\", line 177, in dagmm_step\n",
      "    self.lambda_cov_diag)\n",
      "  File \"../src/algorithms/dagmm.py\", line 144, in loss_function\n",
      "    sample_energy, cov_diag = self.compute_energy(z, phi, mu, cov)\n",
      "  File \"../src/algorithms/dagmm.py\", line 113, in compute_energy\n",
      "    cov_inverse.append(torch.inverse(cov_k).unsqueeze(0))\n",
      "RuntimeError: Lapack Error getrf : U(3,3) is 0, U is singular at /pytorch/aten/src/TH/generic/THTensorLapack.c:514\n",
      "\n"
     ]
    },
    {
     "name": "stderr",
     "output_type": "stream",
     "text": [
      "\r",
      "                                                                               \r",
      "\r",
      " 42% (3 of 7) |###########               | Elapsed Time: 0:03:19 ETA:   0:03:15"
     ]
    },
    {
     "name": "stdout",
     "output_type": "stream",
     "text": [
      "2018-07-10 15:57:08 [INFO] src.evaluation.evaluator: Training DAGMM_NNAutoEncoder_withWindow on Syn Extreme Outliers (mis=0.675) with seed 3933403682\n"
     ]
    },
    {
     "name": "stderr",
     "output_type": "stream",
     "text": [
      "\r",
      "                                                                               \r",
      "\r",
      " 57% (4 of 7) |##############            | Elapsed Time: 0:03:23 ETA:   0:00:11"
     ]
    },
    {
     "name": "stdout",
     "output_type": "stream",
     "text": [
      "2018-07-10 15:57:12 [INFO] src.evaluation.evaluator: Training DAGMM_LSTMAutoEncoder_withWindow on Syn Extreme Outliers (mis=0.675) with seed 3933403682\n"
     ]
    },
    {
     "name": "stderr",
     "output_type": "stream",
     "text": [
      "\r",
      "                                                                               \r",
      "\r",
      " 71% (5 of 7) |##################        | Elapsed Time: 0:03:54 ETA:   0:01:00"
     ]
    },
    {
     "name": "stdout",
     "output_type": "stream",
     "text": [
      "2018-07-10 15:57:43 [INFO] src.evaluation.evaluator: Training Recurrent EBM on Syn Extreme Outliers (mis=0.675) with seed 3933403682\n"
     ]
    },
    {
     "name": "stderr",
     "output_type": "stream",
     "text": [
      "100%|██████████| 15/15 [00:06<00:00,  2.16it/s]\n",
      " 85% (6 of 7) |######################    | Elapsed Time: 0:04:21 ETA:   0:00:27"
     ]
    },
    {
     "name": "stdout",
     "output_type": "stream",
     "text": [
      "2018-07-10 15:58:10 [INFO] src.evaluation.evaluator: Training Donut on Syn Extreme Outliers (mis=0.675) with seed 3933403682\n"
     ]
    },
    {
     "name": "stderr",
     "output_type": "stream",
     "text": [
      "100%|██████████| 1/1 [00:32<00:00, 32.39s/it]\n",
      "100% (7 of 7) |##########################| Elapsed Time: 0:05:06 Time:  0:05:06\n",
      "N/A% (0 of 7) |                          | Elapsed Time: 0:00:00 ETA:  --:--:--"
     ]
    },
    {
     "name": "stdout",
     "output_type": "stream",
     "text": [
      "2018-07-10 15:58:56 [INFO] src.evaluation.evaluator: Training LSTM-AD on Syn Extreme Outliers (mis=0.9) with seed 3933403682\n"
     ]
    },
    {
     "name": "stderr",
     "output_type": "stream",
     "text": [
      "\r",
      "                                                                               \r",
      "\r",
      " 14% (1 of 7) |###                       | Elapsed Time: 0:01:42 ETA:   0:10:12"
     ]
    },
    {
     "name": "stdout",
     "output_type": "stream",
     "text": [
      "2018-07-10 16:00:38 [INFO] src.evaluation.evaluator: Training LSTMED on Syn Extreme Outliers (mis=0.9) with seed 3933403682\n"
     ]
    },
    {
     "name": "stderr",
     "output_type": "stream",
     "text": [
      "\r",
      "                                                                               \r",
      "\r",
      " 28% (2 of 7) |#######                   | Elapsed Time: 0:03:19 ETA:   0:08:06"
     ]
    },
    {
     "name": "stdout",
     "output_type": "stream",
     "text": [
      "2018-07-10 16:02:15 [INFO] src.evaluation.evaluator: Training DAGMM_NNAutoEncoder_withoutWindow on Syn Extreme Outliers (mis=0.9) with seed 3933403682\n",
      "2018-07-10 16:02:15 [WARNING] root: Determinant was negative! Clipping Eigenvalues to 0+epsilon from -4.8648242767512784e-08\n",
      "2018-07-10 16:02:15 [WARNING] root: Determinant was negative! Clipping Eigenvalues to 0+epsilon from -7.750687869290118e-10\n",
      "2018-07-10 16:02:15 [WARNING] root: Determinant was negative! Clipping Eigenvalues to 0+epsilon from -1.703518037743379e-08\n",
      "2018-07-10 16:02:15 [WARNING] root: Determinant was negative! Clipping Eigenvalues to 0+epsilon from -1.216899363498669e-07\n",
      "2018-07-10 16:02:15 [WARNING] root: Determinant was negative! Clipping Eigenvalues to 0+epsilon from -3.905537937498593e-08\n",
      "2018-07-10 16:02:15 [WARNING] root: Determinant was negative! Clipping Eigenvalues to 0+epsilon from -5.030718739362783e-07\n",
      "2018-07-10 16:02:15 [WARNING] root: Determinant was negative! Clipping Eigenvalues to 0+epsilon from -1.3787644093099516e-07\n",
      "2018-07-10 16:02:15 [WARNING] root: Determinant was negative! Clipping Eigenvalues to 0+epsilon from -9.186766192215146e-07\n",
      "2018-07-10 16:02:15 [WARNING] root: Determinant was negative! Clipping Eigenvalues to 0+epsilon from -2.0133327893745445e-07\n",
      "2018-07-10 16:02:15 [WARNING] root: Determinant was negative! Clipping Eigenvalues to 0+epsilon from -4.418443950271467e-06\n",
      "2018-07-10 16:02:15 [WARNING] root: Determinant was negative! Clipping Eigenvalues to 0+epsilon from -1.2348502878012368e-06\n",
      "2018-07-10 16:02:15 [WARNING] root: Determinant was negative! Clipping Eigenvalues to 0+epsilon from -7.368014820485769e-08\n",
      "2018-07-10 16:02:15 [WARNING] root: Determinant was negative! Clipping Eigenvalues to 0+epsilon from -2.430491008453828e-07\n",
      "2018-07-10 16:02:15 [WARNING] root: Determinant was negative! Clipping Eigenvalues to 0+epsilon from -2.9965960379740864e-08\n",
      "2018-07-10 16:02:15 [WARNING] root: Determinant was negative! Clipping Eigenvalues to 0+epsilon from -1.1363619023541105e-06\n",
      "2018-07-10 16:02:15 [WARNING] root: Determinant was negative! Clipping Eigenvalues to 0+epsilon from -1.392641877373535e-07\n",
      "2018-07-10 16:02:15 [WARNING] root: Determinant was negative! Clipping Eigenvalues to 0+epsilon from -3.675341702091828e-07\n",
      "2018-07-10 16:02:15 [WARNING] root: Determinant was negative! Clipping Eigenvalues to 0+epsilon from -2.5275687320913676e-08\n",
      "2018-07-10 16:02:15 [WARNING] root: Determinant was negative! Clipping Eigenvalues to 0+epsilon from -2.544309722907201e-07\n",
      "2018-07-10 16:02:15 [WARNING] root: Determinant was negative! Clipping Eigenvalues to 0+epsilon from -3.374933044142381e-07\n",
      "2018-07-10 16:02:15 [WARNING] root: Determinant was negative! Clipping Eigenvalues to 0+epsilon from -5.202889141742162e-08\n",
      "2018-07-10 16:02:15 [WARNING] root: Determinant was negative! Clipping Eigenvalues to 0+epsilon from -3.287818231001438e-07\n",
      "2018-07-10 16:02:15 [WARNING] root: Determinant was negative! Clipping Eigenvalues to 0+epsilon from -2.4326817538167234e-07\n",
      "2018-07-10 16:02:15 [WARNING] root: Determinant was negative! Clipping Eigenvalues to 0+epsilon from -6.374445149504027e-08\n",
      "2018-07-10 16:02:15 [WARNING] root: Determinant was negative! Clipping Eigenvalues to 0+epsilon from -9.863341574600781e-07\n",
      "2018-07-10 16:02:15 [WARNING] root: Determinant was negative! Clipping Eigenvalues to 0+epsilon from -8.688141406310024e-08\n",
      "2018-07-10 16:02:15 [WARNING] root: Determinant was negative! Clipping Eigenvalues to 0+epsilon from -1.4568088602118223e-07\n",
      "2018-07-10 16:02:15 [WARNING] root: Determinant was negative! Clipping Eigenvalues to 0+epsilon from -8.574102139391471e-08\n",
      "2018-07-10 16:02:15 [WARNING] root: Determinant was negative! Clipping Eigenvalues to 0+epsilon from -1.9083656752627576e-06\n",
      "2018-07-10 16:02:15 [WARNING] root: Determinant was negative! Clipping Eigenvalues to 0+epsilon from -7.344087560312573e-09\n",
      "2018-07-10 16:02:15 [WARNING] root: Determinant was negative! Clipping Eigenvalues to 0+epsilon from -3.07873648353052e-07\n",
      "2018-07-10 16:02:15 [WARNING] root: Determinant was negative! Clipping Eigenvalues to 0+epsilon from -4.7157257654362184e-08\n",
      "2018-07-10 16:02:15 [WARNING] root: Determinant was negative! Clipping Eigenvalues to 0+epsilon from -6.406728658703287e-08\n",
      "2018-07-10 16:02:15 [WARNING] root: Determinant was negative! Clipping Eigenvalues to 0+epsilon from -4.044181423523696e-06\n",
      "2018-07-10 16:02:15 [WARNING] root: Determinant was negative! Clipping Eigenvalues to 0+epsilon from -5.047721742812428e-07\n",
      "2018-07-10 16:02:15 [WARNING] root: Determinant was negative! Clipping Eigenvalues to 0+epsilon from -7.696984738458923e-08\n",
      "2018-07-10 16:02:15 [WARNING] root: Determinant was negative! Clipping Eigenvalues to 0+epsilon from -4.96740028665954e-07\n",
      "2018-07-10 16:02:15 [WARNING] root: Determinant was negative! Clipping Eigenvalues to 0+epsilon from -2.2298746671367553e-07\n",
      "2018-07-10 16:02:15 [WARNING] root: Determinant was negative! Clipping Eigenvalues to 0+epsilon from -3.984604646234402e-08\n",
      "2018-07-10 16:02:15 [WARNING] root: Determinant was negative! Clipping Eigenvalues to 0+epsilon from -1.626413279609551e-07\n",
      "2018-07-10 16:02:15 [WARNING] root: Determinant was negative! Clipping Eigenvalues to 0+epsilon from -2.462922452650673e-07\n",
      "2018-07-10 16:02:15 [WARNING] root: Determinant was negative! Clipping Eigenvalues to 0+epsilon from -6.454036451941647e-07\n",
      "2018-07-10 16:02:15 [WARNING] root: Determinant was negative! Clipping Eigenvalues to 0+epsilon from -2.1365039515330864e-07\n",
      "2018-07-10 16:02:15 [WARNING] root: Determinant was negative! Clipping Eigenvalues to 0+epsilon from -3.715865375397698e-07\n",
      "2018-07-10 16:02:15 [WARNING] root: Determinant was negative! Clipping Eigenvalues to 0+epsilon from -2.2600595173116744e-07\n",
      "2018-07-10 16:02:15 [WARNING] root: Determinant was negative! Clipping Eigenvalues to 0+epsilon from -2.1648945676133735e-06\n",
      "2018-07-10 16:02:15 [WARNING] root: Determinant was negative! Clipping Eigenvalues to 0+epsilon from -1.0641893055662877e-07\n",
      "2018-07-10 16:02:15 [WARNING] root: Determinant was negative! Clipping Eigenvalues to 0+epsilon from -3.6743711007147795e-07\n",
      "2018-07-10 16:02:15 [WARNING] root: Determinant was negative! Clipping Eigenvalues to 0+epsilon from -1.5087262283941527e-07\n",
      "2018-07-10 16:02:15 [WARNING] root: Determinant was negative! Clipping Eigenvalues to 0+epsilon from -1.5058597568895493e-07\n",
      "2018-07-10 16:02:15 [ERROR] src.evaluation.evaluator: An exception occurred while training DAGMM_NNAutoEncoder_withoutWindow on Syn Extreme Outliers (mis=0.9): Lapack Error getrf : U(3,3) is 0, U is singular at /pytorch/aten/src/TH/generic/THTensorLapack.c:514\n",
      "2018-07-10 16:02:15 [ERROR] src.evaluation.evaluator: Traceback (most recent call last):\n",
      "  File \"../src/evaluation/evaluator.py\", line 122, in evaluate\n",
      "    det.fit(X_train.copy(), y_train.copy())\n",
      "  File \"../src/algorithms/dagmm.py\", line 203, in fit\n",
      "    self.dagmm_step(input_data.float())\n",
      "  File \"../src/algorithms/dagmm.py\", line 177, in dagmm_step\n",
      "    self.lambda_cov_diag)\n",
      "  File \"../src/algorithms/dagmm.py\", line 144, in loss_function\n",
      "    sample_energy, cov_diag = self.compute_energy(z, phi, mu, cov)\n",
      "  File \"../src/algorithms/dagmm.py\", line 113, in compute_energy\n",
      "    cov_inverse.append(torch.inverse(cov_k).unsqueeze(0))\n",
      "RuntimeError: Lapack Error getrf : U(3,3) is 0, U is singular at /pytorch/aten/src/TH/generic/THTensorLapack.c:514\n",
      "\n"
     ]
    },
    {
     "name": "stderr",
     "output_type": "stream",
     "text": [
      "\r",
      "                                                                               \r",
      "\r",
      " 42% (3 of 7) |###########               | Elapsed Time: 0:03:19 ETA:   0:03:15"
     ]
    },
    {
     "name": "stdout",
     "output_type": "stream",
     "text": [
      "2018-07-10 16:02:15 [INFO] src.evaluation.evaluator: Training DAGMM_NNAutoEncoder_withWindow on Syn Extreme Outliers (mis=0.9) with seed 3933403682\n"
     ]
    },
    {
     "name": "stderr",
     "output_type": "stream",
     "text": [
      "\r",
      "                                                                               \r",
      "\r",
      " 57% (4 of 7) |##############            | Elapsed Time: 0:03:23 ETA:   0:00:11"
     ]
    },
    {
     "name": "stdout",
     "output_type": "stream",
     "text": [
      "2018-07-10 16:02:19 [INFO] src.evaluation.evaluator: Training DAGMM_LSTMAutoEncoder_withWindow on Syn Extreme Outliers (mis=0.9) with seed 3933403682\n"
     ]
    },
    {
     "name": "stderr",
     "output_type": "stream",
     "text": [
      "\r",
      "                                                                               \r",
      "\r",
      " 71% (5 of 7) |##################        | Elapsed Time: 0:03:53 ETA:   0:01:00"
     ]
    },
    {
     "name": "stdout",
     "output_type": "stream",
     "text": [
      "2018-07-10 16:02:49 [INFO] src.evaluation.evaluator: Training Recurrent EBM on Syn Extreme Outliers (mis=0.9) with seed 3933403682\n"
     ]
    },
    {
     "name": "stderr",
     "output_type": "stream",
     "text": [
      "100%|██████████| 15/15 [00:07<00:00,  2.14it/s]\n",
      " 85% (6 of 7) |######################    | Elapsed Time: 0:04:22 ETA:   0:00:28"
     ]
    },
    {
     "name": "stdout",
     "output_type": "stream",
     "text": [
      "2018-07-10 16:03:18 [INFO] src.evaluation.evaluator: Training Donut on Syn Extreme Outliers (mis=0.9) with seed 3933403682\n"
     ]
    },
    {
     "name": "stderr",
     "output_type": "stream",
     "text": [
      "100%|██████████| 1/1 [00:32<00:00, 32.90s/it]\n",
      "100% (7 of 7) |##########################| Elapsed Time: 0:05:08 Time:  0:05:08\n",
      "100% (5 of 5) |##########################| Elapsed Time: 0:27:55 Time:  0:27:55\n"
     ]
    },
    {
     "name": "stdout",
     "output_type": "stream",
     "text": [
      "2018-07-10 16:04:06 [INFO] src.evaluation.evaluator: Store evaluator results at /home/thomas/work/notebooks/data_30/missing-run-5-3933403682-2018-07-10-160406.pkl\n"
     ]
    },
    {
     "name": "stderr",
     "output_type": "stream",
     "text": [
      "N/A% (0 of 7) |                          | Elapsed Time: 0:00:00 ETA:  --:--:--"
     ]
    },
    {
     "name": "stdout",
     "output_type": "stream",
     "text": [
      "2018-07-10 16:04:06 [INFO] src.evaluation.evaluator: Training LSTM-AD on Syn Extreme Outliers (mis=0.0) with seed 3863686483\n"
     ]
    },
    {
     "name": "stderr",
     "output_type": "stream",
     "text": [
      "\r",
      "                                                                               \r",
      "\r",
      " 14% (1 of 7) |###                       | Elapsed Time: 0:01:42 ETA:   0:10:15"
     ]
    },
    {
     "name": "stdout",
     "output_type": "stream",
     "text": [
      "2018-07-10 16:05:49 [INFO] src.evaluation.evaluator: Training LSTMED on Syn Extreme Outliers (mis=0.0) with seed 3863686483\n"
     ]
    },
    {
     "name": "stderr",
     "output_type": "stream",
     "text": [
      "\r",
      "                                                                               \r",
      "\r",
      " 28% (2 of 7) |#######                   | Elapsed Time: 0:03:20 ETA:   0:08:07"
     ]
    },
    {
     "name": "stdout",
     "output_type": "stream",
     "text": [
      "2018-07-10 16:07:27 [INFO] src.evaluation.evaluator: Training DAGMM_NNAutoEncoder_withoutWindow on Syn Extreme Outliers (mis=0.0) with seed 3863686483\n",
      "2018-07-10 16:07:27 [ERROR] src.evaluation.evaluator: An exception occurred while training DAGMM_NNAutoEncoder_withoutWindow on Syn Extreme Outliers (mis=0.0): Lapack Error getrf : U(3,3) is 0, U is singular at /pytorch/aten/src/TH/generic/THTensorLapack.c:514\n",
      "2018-07-10 16:07:27 [ERROR] src.evaluation.evaluator: Traceback (most recent call last):\n",
      "  File \"../src/evaluation/evaluator.py\", line 122, in evaluate\n",
      "    det.fit(X_train.copy(), y_train.copy())\n",
      "  File \"../src/algorithms/dagmm.py\", line 203, in fit\n",
      "    self.dagmm_step(input_data.float())\n",
      "  File \"../src/algorithms/dagmm.py\", line 177, in dagmm_step\n",
      "    self.lambda_cov_diag)\n",
      "  File \"../src/algorithms/dagmm.py\", line 144, in loss_function\n",
      "    sample_energy, cov_diag = self.compute_energy(z, phi, mu, cov)\n",
      "  File \"../src/algorithms/dagmm.py\", line 113, in compute_energy\n",
      "    cov_inverse.append(torch.inverse(cov_k).unsqueeze(0))\n",
      "RuntimeError: Lapack Error getrf : U(3,3) is 0, U is singular at /pytorch/aten/src/TH/generic/THTensorLapack.c:514\n",
      "\n"
     ]
    },
    {
     "name": "stderr",
     "output_type": "stream",
     "text": [
      "\r",
      "                                                                               \r",
      "\r",
      " 42% (3 of 7) |###########               | Elapsed Time: 0:03:20 ETA:   0:03:16"
     ]
    },
    {
     "name": "stdout",
     "output_type": "stream",
     "text": [
      "2018-07-10 16:07:27 [INFO] src.evaluation.evaluator: Training DAGMM_NNAutoEncoder_withWindow on Syn Extreme Outliers (mis=0.0) with seed 3863686483\n"
     ]
    },
    {
     "name": "stderr",
     "output_type": "stream",
     "text": [
      "\r",
      "                                                                               \r",
      "\r",
      " 57% (4 of 7) |##############            | Elapsed Time: 0:03:24 ETA:   0:00:12"
     ]
    },
    {
     "name": "stdout",
     "output_type": "stream",
     "text": [
      "2018-07-10 16:07:31 [INFO] src.evaluation.evaluator: Training DAGMM_LSTMAutoEncoder_withWindow on Syn Extreme Outliers (mis=0.0) with seed 3863686483\n"
     ]
    },
    {
     "name": "stderr",
     "output_type": "stream",
     "text": [
      "\r",
      "                                                                               \r",
      "\r",
      " 71% (5 of 7) |##################        | Elapsed Time: 0:03:55 ETA:   0:01:00"
     ]
    },
    {
     "name": "stdout",
     "output_type": "stream",
     "text": [
      "2018-07-10 16:08:02 [INFO] src.evaluation.evaluator: Training Recurrent EBM on Syn Extreme Outliers (mis=0.0) with seed 3863686483\n"
     ]
    },
    {
     "name": "stderr",
     "output_type": "stream",
     "text": [
      "100%|██████████| 15/15 [00:06<00:00,  2.15it/s]\n",
      " 85% (6 of 7) |######################    | Elapsed Time: 0:04:23 ETA:   0:00:28"
     ]
    },
    {
     "name": "stdout",
     "output_type": "stream",
     "text": [
      "2018-07-10 16:08:30 [INFO] src.evaluation.evaluator: Training Donut on Syn Extreme Outliers (mis=0.0) with seed 3863686483\n"
     ]
    },
    {
     "name": "stderr",
     "output_type": "stream",
     "text": [
      "\r",
      "  0%|          | 0/1 [00:00<?, ?it/s]"
     ]
    },
    {
     "name": "stdout",
     "output_type": "stream",
     "text": [
      "INFO:tensorflow:Restoring parameters from /tmp/tmpjgcasbmd/variables.dat-700\n",
      "2018-07-10 16:10:41 [INFO] tensorflow: Restoring parameters from /tmp/tmpjgcasbmd/variables.dat-700\n"
     ]
    },
    {
     "name": "stderr",
     "output_type": "stream",
     "text": [
      "100%|██████████| 1/1 [02:11<00:00, 131.22s/it]\n",
      "100% (7 of 7) |##########################| Elapsed Time: 0:06:48 Time:  0:06:48\n",
      "N/A% (0 of 7) |                          | Elapsed Time: 0:00:00 ETA:  --:--:--"
     ]
    },
    {
     "name": "stdout",
     "output_type": "stream",
     "text": [
      "2018-07-10 16:10:55 [INFO] src.evaluation.evaluator: Training LSTM-AD on Syn Extreme Outliers (mis=0.225) with seed 3863686483\n"
     ]
    },
    {
     "name": "stderr",
     "output_type": "stream",
     "text": [
      "\r",
      "                                                                               \r",
      "\r",
      " 14% (1 of 7) |###                       | Elapsed Time: 0:01:43 ETA:   0:10:20"
     ]
    },
    {
     "name": "stdout",
     "output_type": "stream",
     "text": [
      "2018-07-10 16:12:38 [INFO] src.evaluation.evaluator: Training LSTMED on Syn Extreme Outliers (mis=0.225) with seed 3863686483\n"
     ]
    },
    {
     "name": "stderr",
     "output_type": "stream",
     "text": [
      "\r",
      "                                                                               \r",
      "\r",
      " 28% (2 of 7) |#######                   | Elapsed Time: 0:03:20 ETA:   0:08:07"
     ]
    },
    {
     "name": "stdout",
     "output_type": "stream",
     "text": [
      "2018-07-10 16:14:16 [INFO] src.evaluation.evaluator: Training DAGMM_NNAutoEncoder_withoutWindow on Syn Extreme Outliers (mis=0.225) with seed 3863686483\n",
      "2018-07-10 16:14:16 [WARNING] root: Determinant was negative! Clipping Eigenvalues to 0+epsilon from -2.6297138333575276e-07\n",
      "2018-07-10 16:14:16 [WARNING] root: Determinant was negative! Clipping Eigenvalues to 0+epsilon from -2.1393114479906217e-07\n",
      "2018-07-10 16:14:16 [WARNING] root: Determinant was negative! Clipping Eigenvalues to 0+epsilon from -4.83719190924603e-07\n",
      "2018-07-10 16:14:16 [WARNING] root: Determinant was negative! Clipping Eigenvalues to 0+epsilon from -1.5937553143885452e-07\n",
      "2018-07-10 16:14:16 [WARNING] root: Determinant was negative! Clipping Eigenvalues to 0+epsilon from -9.110155474445492e-08\n",
      "2018-07-10 16:14:16 [WARNING] root: Determinant was negative! Clipping Eigenvalues to 0+epsilon from -8.138390938938755e-08\n",
      "2018-07-10 16:14:16 [WARNING] root: Determinant was negative! Clipping Eigenvalues to 0+epsilon from -2.3151501693519094e-07\n",
      "2018-07-10 16:14:16 [WARNING] root: Determinant was negative! Clipping Eigenvalues to 0+epsilon from -4.972215492671239e-07\n",
      "2018-07-10 16:14:16 [WARNING] root: Determinant was negative! Clipping Eigenvalues to 0+epsilon from -4.109816131858679e-07\n",
      "2018-07-10 16:14:16 [WARNING] root: Determinant was negative! Clipping Eigenvalues to 0+epsilon from -2.854457079592976e-07\n",
      "2018-07-10 16:14:16 [WARNING] root: Determinant was negative! Clipping Eigenvalues to 0+epsilon from -2.0027828284696625e-09\n",
      "2018-07-10 16:14:16 [WARNING] root: Determinant was negative! Clipping Eigenvalues to 0+epsilon from -6.791670159600471e-08\n",
      "2018-07-10 16:14:16 [WARNING] root: Determinant was negative! Clipping Eigenvalues to 0+epsilon from -7.204510552583088e-07\n",
      "2018-07-10 16:14:16 [WARNING] root: Determinant was negative! Clipping Eigenvalues to 0+epsilon from -5.30608758708695e-07\n",
      "2018-07-10 16:14:16 [WARNING] root: Determinant was negative! Clipping Eigenvalues to 0+epsilon from -1.8957722147661116e-07\n",
      "2018-07-10 16:14:16 [WARNING] root: Determinant was negative! Clipping Eigenvalues to 0+epsilon from -2.1597524835215154e-07\n",
      "2018-07-10 16:14:16 [WARNING] root: Determinant was negative! Clipping Eigenvalues to 0+epsilon from -4.053084126098838e-07\n",
      "2018-07-10 16:14:16 [WARNING] root: Determinant was negative! Clipping Eigenvalues to 0+epsilon from -3.9047790778568015e-07\n",
      "2018-07-10 16:14:16 [WARNING] root: Determinant was negative! Clipping Eigenvalues to 0+epsilon from -1.75875882746368e-07\n",
      "2018-07-10 16:14:16 [WARNING] root: Determinant was negative! Clipping Eigenvalues to 0+epsilon from -4.64176935111027e-07\n",
      "2018-07-10 16:14:16 [WARNING] root: Determinant was negative! Clipping Eigenvalues to 0+epsilon from -1.1090941853808545e-07\n",
      "2018-07-10 16:14:16 [WARNING] root: Determinant was negative! Clipping Eigenvalues to 0+epsilon from -7.568501558807839e-08\n",
      "2018-07-10 16:14:16 [WARNING] root: Determinant was negative! Clipping Eigenvalues to 0+epsilon from -1.5938940123305656e-07\n",
      "2018-07-10 16:14:16 [WARNING] root: Determinant was negative! Clipping Eigenvalues to 0+epsilon from -2.4081404603748524e-07\n",
      "2018-07-10 16:14:16 [WARNING] root: Determinant was negative! Clipping Eigenvalues to 0+epsilon from -1.0665098137963014e-08\n",
      "2018-07-10 16:14:16 [WARNING] root: Determinant was negative! Clipping Eigenvalues to 0+epsilon from -3.433743529512867e-07\n",
      "2018-07-10 16:14:16 [WARNING] root: Determinant was negative! Clipping Eigenvalues to 0+epsilon from -6.63379040588552e-08\n",
      "2018-07-10 16:14:16 [ERROR] src.evaluation.evaluator: An exception occurred while training DAGMM_NNAutoEncoder_withoutWindow on Syn Extreme Outliers (mis=0.225): Lapack Error getrf : U(3,3) is 0, U is singular at /pytorch/aten/src/TH/generic/THTensorLapack.c:514\n",
      "2018-07-10 16:14:16 [ERROR] src.evaluation.evaluator: Traceback (most recent call last):\n",
      "  File \"../src/evaluation/evaluator.py\", line 122, in evaluate\n",
      "    det.fit(X_train.copy(), y_train.copy())\n",
      "  File \"../src/algorithms/dagmm.py\", line 203, in fit\n",
      "    self.dagmm_step(input_data.float())\n",
      "  File \"../src/algorithms/dagmm.py\", line 177, in dagmm_step\n",
      "    self.lambda_cov_diag)\n",
      "  File \"../src/algorithms/dagmm.py\", line 144, in loss_function\n",
      "    sample_energy, cov_diag = self.compute_energy(z, phi, mu, cov)\n",
      "  File \"../src/algorithms/dagmm.py\", line 113, in compute_energy\n",
      "    cov_inverse.append(torch.inverse(cov_k).unsqueeze(0))\n",
      "RuntimeError: Lapack Error getrf : U(3,3) is 0, U is singular at /pytorch/aten/src/TH/generic/THTensorLapack.c:514\n",
      "\n"
     ]
    },
    {
     "name": "stderr",
     "output_type": "stream",
     "text": [
      "\r",
      "                                                                               \r",
      "\r",
      " 42% (3 of 7) |###########               | Elapsed Time: 0:03:21 ETA:   0:03:15"
     ]
    },
    {
     "name": "stdout",
     "output_type": "stream",
     "text": [
      "2018-07-10 16:14:16 [INFO] src.evaluation.evaluator: Training DAGMM_NNAutoEncoder_withWindow on Syn Extreme Outliers (mis=0.225) with seed 3863686483\n"
     ]
    },
    {
     "name": "stderr",
     "output_type": "stream",
     "text": [
      "\r",
      "                                                                               \r",
      "\r",
      " 57% (4 of 7) |##############            | Elapsed Time: 0:03:25 ETA:   0:00:11"
     ]
    },
    {
     "name": "stdout",
     "output_type": "stream",
     "text": [
      "2018-07-10 16:14:20 [INFO] src.evaluation.evaluator: Training DAGMM_LSTMAutoEncoder_withWindow on Syn Extreme Outliers (mis=0.225) with seed 3863686483\n"
     ]
    },
    {
     "name": "stderr",
     "output_type": "stream",
     "text": [
      "\r",
      "                                                                               \r",
      "\r",
      " 71% (5 of 7) |##################        | Elapsed Time: 0:03:55 ETA:   0:01:00"
     ]
    },
    {
     "name": "stdout",
     "output_type": "stream",
     "text": [
      "2018-07-10 16:14:51 [INFO] src.evaluation.evaluator: Training Recurrent EBM on Syn Extreme Outliers (mis=0.225) with seed 3863686483\n"
     ]
    },
    {
     "name": "stderr",
     "output_type": "stream",
     "text": [
      "100%|██████████| 15/15 [00:07<00:00,  2.14it/s]\n",
      " 85% (6 of 7) |######################    | Elapsed Time: 0:04:24 ETA:   0:00:29"
     ]
    },
    {
     "name": "stdout",
     "output_type": "stream",
     "text": [
      "2018-07-10 16:15:20 [INFO] src.evaluation.evaluator: Training Donut on Syn Extreme Outliers (mis=0.225) with seed 3863686483\n"
     ]
    },
    {
     "name": "stderr",
     "output_type": "stream",
     "text": [
      "100%|██████████| 1/1 [00:36<00:00, 36.17s/it]\n",
      "100% (7 of 7) |##########################| Elapsed Time: 0:05:14 Time:  0:05:14\n",
      "N/A% (0 of 7) |                          | Elapsed Time: 0:00:00 ETA:  --:--:--"
     ]
    },
    {
     "name": "stdout",
     "output_type": "stream",
     "text": [
      "2018-07-10 16:16:10 [INFO] src.evaluation.evaluator: Training LSTM-AD on Syn Extreme Outliers (mis=0.45) with seed 3863686483\n"
     ]
    },
    {
     "name": "stderr",
     "output_type": "stream",
     "text": [
      "\r",
      "                                                                               \r",
      "\r",
      " 14% (1 of 7) |###                       | Elapsed Time: 0:01:41 ETA:   0:10:10"
     ]
    },
    {
     "name": "stdout",
     "output_type": "stream",
     "text": [
      "2018-07-10 16:17:51 [INFO] src.evaluation.evaluator: Training LSTMED on Syn Extreme Outliers (mis=0.45) with seed 3863686483\n"
     ]
    },
    {
     "name": "stderr",
     "output_type": "stream",
     "text": [
      "\r",
      "                                                                               \r",
      "\r",
      " 28% (2 of 7) |#######                   | Elapsed Time: 0:03:19 ETA:   0:08:08"
     ]
    },
    {
     "name": "stdout",
     "output_type": "stream",
     "text": [
      "2018-07-10 16:19:29 [INFO] src.evaluation.evaluator: Training DAGMM_NNAutoEncoder_withoutWindow on Syn Extreme Outliers (mis=0.45) with seed 3863686483\n",
      "2018-07-10 16:19:29 [WARNING] root: Determinant was negative! Clipping Eigenvalues to 0+epsilon from -6.171901532070478e-07\n",
      "2018-07-10 16:19:29 [WARNING] root: Determinant was negative! Clipping Eigenvalues to 0+epsilon from -6.860547046017018e-07\n",
      "2018-07-10 16:19:29 [WARNING] root: Determinant was negative! Clipping Eigenvalues to 0+epsilon from -4.269734290573979e-07\n",
      "2018-07-10 16:19:29 [WARNING] root: Determinant was negative! Clipping Eigenvalues to 0+epsilon from -2.33303808272467e-07\n",
      "2018-07-10 16:19:29 [WARNING] root: Determinant was negative! Clipping Eigenvalues to 0+epsilon from -2.9076161922603205e-07\n",
      "2018-07-10 16:19:29 [WARNING] root: Determinant was negative! Clipping Eigenvalues to 0+epsilon from -2.332188273612701e-07\n",
      "2018-07-10 16:19:29 [WARNING] root: Determinant was negative! Clipping Eigenvalues to 0+epsilon from -5.452713480735838e-07\n",
      "2018-07-10 16:19:29 [WARNING] root: Determinant was negative! Clipping Eigenvalues to 0+epsilon from -8.342273645212117e-07\n",
      "2018-07-10 16:19:29 [WARNING] root: Determinant was negative! Clipping Eigenvalues to 0+epsilon from -2.518801807127602e-07\n",
      "2018-07-10 16:19:29 [WARNING] root: Determinant was negative! Clipping Eigenvalues to 0+epsilon from -1.5957103016717156e-07\n",
      "2018-07-10 16:19:29 [ERROR] src.evaluation.evaluator: An exception occurred while training DAGMM_NNAutoEncoder_withoutWindow on Syn Extreme Outliers (mis=0.45): Lapack Error getrf : U(3,3) is 0, U is singular at /pytorch/aten/src/TH/generic/THTensorLapack.c:514\n",
      "2018-07-10 16:19:29 [ERROR] src.evaluation.evaluator: Traceback (most recent call last):\n",
      "  File \"../src/evaluation/evaluator.py\", line 122, in evaluate\n",
      "    det.fit(X_train.copy(), y_train.copy())\n",
      "  File \"../src/algorithms/dagmm.py\", line 203, in fit\n",
      "    self.dagmm_step(input_data.float())\n",
      "  File \"../src/algorithms/dagmm.py\", line 177, in dagmm_step\n",
      "    self.lambda_cov_diag)\n",
      "  File \"../src/algorithms/dagmm.py\", line 144, in loss_function\n",
      "    sample_energy, cov_diag = self.compute_energy(z, phi, mu, cov)\n",
      "  File \"../src/algorithms/dagmm.py\", line 113, in compute_energy\n",
      "    cov_inverse.append(torch.inverse(cov_k).unsqueeze(0))\n",
      "RuntimeError: Lapack Error getrf : U(3,3) is 0, U is singular at /pytorch/aten/src/TH/generic/THTensorLapack.c:514\n",
      "\n"
     ]
    },
    {
     "name": "stderr",
     "output_type": "stream",
     "text": [
      "\r",
      "                                                                               \r",
      "\r",
      " 42% (3 of 7) |###########               | Elapsed Time: 0:03:19 ETA:   0:03:15"
     ]
    },
    {
     "name": "stdout",
     "output_type": "stream",
     "text": [
      "2018-07-10 16:19:29 [INFO] src.evaluation.evaluator: Training DAGMM_NNAutoEncoder_withWindow on Syn Extreme Outliers (mis=0.45) with seed 3863686483\n"
     ]
    },
    {
     "name": "stderr",
     "output_type": "stream",
     "text": [
      "\r",
      "                                                                               \r",
      "\r",
      " 57% (4 of 7) |##############            | Elapsed Time: 0:03:23 ETA:   0:00:11"
     ]
    },
    {
     "name": "stdout",
     "output_type": "stream",
     "text": [
      "2018-07-10 16:19:33 [INFO] src.evaluation.evaluator: Training DAGMM_LSTMAutoEncoder_withWindow on Syn Extreme Outliers (mis=0.45) with seed 3863686483\n"
     ]
    },
    {
     "name": "stderr",
     "output_type": "stream",
     "text": [
      "\r",
      "                                                                               \r",
      "\r",
      " 71% (5 of 7) |##################        | Elapsed Time: 0:03:54 ETA:   0:01:00"
     ]
    },
    {
     "name": "stdout",
     "output_type": "stream",
     "text": [
      "2018-07-10 16:20:04 [INFO] src.evaluation.evaluator: Training Recurrent EBM on Syn Extreme Outliers (mis=0.45) with seed 3863686483\n"
     ]
    },
    {
     "name": "stderr",
     "output_type": "stream",
     "text": [
      "100%|██████████| 15/15 [00:07<00:00,  2.11it/s]\n",
      " 85% (6 of 7) |######################    | Elapsed Time: 0:04:23 ETA:   0:00:29"
     ]
    },
    {
     "name": "stdout",
     "output_type": "stream",
     "text": [
      "2018-07-10 16:20:33 [INFO] src.evaluation.evaluator: Training Donut on Syn Extreme Outliers (mis=0.45) with seed 3863686483\n"
     ]
    },
    {
     "name": "stderr",
     "output_type": "stream",
     "text": [
      "100%|██████████| 1/1 [00:35<00:00, 35.50s/it]\n",
      "100% (7 of 7) |##########################| Elapsed Time: 0:05:13 Time:  0:05:13\n",
      "N/A% (0 of 7) |                          | Elapsed Time: 0:00:00 ETA:  --:--:--"
     ]
    },
    {
     "name": "stdout",
     "output_type": "stream",
     "text": [
      "2018-07-10 16:21:23 [INFO] src.evaluation.evaluator: Training LSTM-AD on Syn Extreme Outliers (mis=0.675) with seed 3863686483\n"
     ]
    },
    {
     "name": "stderr",
     "output_type": "stream",
     "text": [
      "\r",
      "                                                                               \r",
      "\r",
      " 14% (1 of 7) |###                       | Elapsed Time: 0:01:42 ETA:   0:10:12"
     ]
    },
    {
     "name": "stdout",
     "output_type": "stream",
     "text": [
      "2018-07-10 16:23:05 [INFO] src.evaluation.evaluator: Training LSTMED on Syn Extreme Outliers (mis=0.675) with seed 3863686483\n"
     ]
    },
    {
     "name": "stderr",
     "output_type": "stream",
     "text": [
      "\r",
      "                                                                               \r",
      "\r",
      " 28% (2 of 7) |#######                   | Elapsed Time: 0:03:19 ETA:   0:08:07"
     ]
    },
    {
     "name": "stdout",
     "output_type": "stream",
     "text": [
      "2018-07-10 16:24:42 [INFO] src.evaluation.evaluator: Training DAGMM_NNAutoEncoder_withoutWindow on Syn Extreme Outliers (mis=0.675) with seed 3863686483\n",
      "2018-07-10 16:24:42 [WARNING] root: Determinant was negative! Clipping Eigenvalues to 0+epsilon from -5.532172053790418e-07\n",
      "2018-07-10 16:24:42 [WARNING] root: Determinant was negative! Clipping Eigenvalues to 0+epsilon from -6.913234074090724e-08\n",
      "2018-07-10 16:24:42 [WARNING] root: Determinant was negative! Clipping Eigenvalues to 0+epsilon from -3.2175989872484934e-07\n",
      "2018-07-10 16:24:42 [WARNING] root: Determinant was negative! Clipping Eigenvalues to 0+epsilon from -2.8059835699423274e-07\n",
      "2018-07-10 16:24:42 [WARNING] root: Determinant was negative! Clipping Eigenvalues to 0+epsilon from -9.57012048274919e-07\n",
      "2018-07-10 16:24:42 [WARNING] root: Determinant was negative! Clipping Eigenvalues to 0+epsilon from -1.0718082421590225e-07\n",
      "2018-07-10 16:24:42 [WARNING] root: Determinant was negative! Clipping Eigenvalues to 0+epsilon from -3.070061040943983e-07\n",
      "2018-07-10 16:24:42 [WARNING] root: Determinant was negative! Clipping Eigenvalues to 0+epsilon from -3.075880670166953e-07\n",
      "2018-07-10 16:24:42 [WARNING] root: Determinant was negative! Clipping Eigenvalues to 0+epsilon from -4.3589923848230683e-07\n",
      "2018-07-10 16:24:42 [WARNING] root: Determinant was negative! Clipping Eigenvalues to 0+epsilon from -6.188313363963971e-07\n",
      "2018-07-10 16:24:43 [WARNING] root: Determinant was negative! Clipping Eigenvalues to 0+epsilon from -3.6045639717485756e-07\n",
      "2018-07-10 16:24:43 [WARNING] root: Determinant was negative! Clipping Eigenvalues to 0+epsilon from -2.2220795869998256e-08\n",
      "2018-07-10 16:24:43 [WARNING] root: Determinant was negative! Clipping Eigenvalues to 0+epsilon from -6.166728212519956e-07\n",
      "2018-07-10 16:24:43 [WARNING] root: Determinant was negative! Clipping Eigenvalues to 0+epsilon from -8.332292367185801e-08\n",
      "2018-07-10 16:24:43 [WARNING] root: Determinant was negative! Clipping Eigenvalues to 0+epsilon from -5.190441356717201e-07\n",
      "2018-07-10 16:24:43 [WARNING] root: Determinant was negative! Clipping Eigenvalues to 0+epsilon from -3.3766247042876785e-07\n",
      "2018-07-10 16:24:43 [WARNING] root: Determinant was negative! Clipping Eigenvalues to 0+epsilon from -1.4166874962029397e-07\n",
      "2018-07-10 16:24:43 [ERROR] src.evaluation.evaluator: An exception occurred while training DAGMM_NNAutoEncoder_withoutWindow on Syn Extreme Outliers (mis=0.675): Lapack Error getrf : U(3,3) is 0, U is singular at /pytorch/aten/src/TH/generic/THTensorLapack.c:514\n",
      "2018-07-10 16:24:43 [ERROR] src.evaluation.evaluator: Traceback (most recent call last):\n",
      "  File \"../src/evaluation/evaluator.py\", line 122, in evaluate\n",
      "    det.fit(X_train.copy(), y_train.copy())\n",
      "  File \"../src/algorithms/dagmm.py\", line 203, in fit\n",
      "    self.dagmm_step(input_data.float())\n",
      "  File \"../src/algorithms/dagmm.py\", line 177, in dagmm_step\n",
      "    self.lambda_cov_diag)\n",
      "  File \"../src/algorithms/dagmm.py\", line 144, in loss_function\n",
      "    sample_energy, cov_diag = self.compute_energy(z, phi, mu, cov)\n",
      "  File \"../src/algorithms/dagmm.py\", line 113, in compute_energy\n",
      "    cov_inverse.append(torch.inverse(cov_k).unsqueeze(0))\n",
      "RuntimeError: Lapack Error getrf : U(3,3) is 0, U is singular at /pytorch/aten/src/TH/generic/THTensorLapack.c:514\n",
      "\n"
     ]
    },
    {
     "name": "stderr",
     "output_type": "stream",
     "text": [
      "\r",
      "                                                                               \r",
      "\r",
      " 42% (3 of 7) |###########               | Elapsed Time: 0:03:19 ETA:   0:03:15"
     ]
    },
    {
     "name": "stdout",
     "output_type": "stream",
     "text": [
      "2018-07-10 16:24:43 [INFO] src.evaluation.evaluator: Training DAGMM_NNAutoEncoder_withWindow on Syn Extreme Outliers (mis=0.675) with seed 3863686483\n"
     ]
    },
    {
     "name": "stderr",
     "output_type": "stream",
     "text": [
      "\r",
      "                                                                               \r",
      "\r",
      " 57% (4 of 7) |##############            | Elapsed Time: 0:03:23 ETA:   0:00:11"
     ]
    },
    {
     "name": "stdout",
     "output_type": "stream",
     "text": [
      "2018-07-10 16:24:47 [INFO] src.evaluation.evaluator: Training DAGMM_LSTMAutoEncoder_withWindow on Syn Extreme Outliers (mis=0.675) with seed 3863686483\n"
     ]
    },
    {
     "name": "stderr",
     "output_type": "stream",
     "text": [
      "\r",
      "                                                                               \r",
      "\r",
      " 71% (5 of 7) |##################        | Elapsed Time: 0:03:54 ETA:   0:01:00"
     ]
    },
    {
     "name": "stdout",
     "output_type": "stream",
     "text": [
      "2018-07-10 16:25:17 [INFO] src.evaluation.evaluator: Training Recurrent EBM on Syn Extreme Outliers (mis=0.675) with seed 3863686483\n"
     ]
    },
    {
     "name": "stderr",
     "output_type": "stream",
     "text": [
      "100%|██████████| 15/15 [00:07<00:00,  2.10it/s]\n",
      " 85% (6 of 7) |######################    | Elapsed Time: 0:04:24 ETA:   0:00:30"
     ]
    },
    {
     "name": "stdout",
     "output_type": "stream",
     "text": [
      "2018-07-10 16:25:47 [INFO] src.evaluation.evaluator: Training Donut on Syn Extreme Outliers (mis=0.675) with seed 3863686483\n"
     ]
    },
    {
     "name": "stderr",
     "output_type": "stream",
     "text": [
      "100%|██████████| 1/1 [00:36<00:00, 36.54s/it]\n",
      "100% (7 of 7) |##########################| Elapsed Time: 0:05:15 Time:  0:05:15\n",
      "N/A% (0 of 7) |                          | Elapsed Time: 0:00:00 ETA:  --:--:--"
     ]
    },
    {
     "name": "stdout",
     "output_type": "stream",
     "text": [
      "2018-07-10 16:26:38 [INFO] src.evaluation.evaluator: Training LSTM-AD on Syn Extreme Outliers (mis=0.9) with seed 3863686483\n"
     ]
    },
    {
     "name": "stderr",
     "output_type": "stream",
     "text": [
      "\r",
      "                                                                               \r",
      "\r",
      " 14% (1 of 7) |###                       | Elapsed Time: 0:01:41 ETA:   0:10:10"
     ]
    },
    {
     "name": "stdout",
     "output_type": "stream",
     "text": [
      "2018-07-10 16:28:20 [INFO] src.evaluation.evaluator: Training LSTMED on Syn Extreme Outliers (mis=0.9) with seed 3863686483\n"
     ]
    },
    {
     "name": "stderr",
     "output_type": "stream",
     "text": [
      "\r",
      "                                                                               \r",
      "\r",
      " 28% (2 of 7) |#######                   | Elapsed Time: 0:03:19 ETA:   0:08:07"
     ]
    },
    {
     "name": "stdout",
     "output_type": "stream",
     "text": [
      "2018-07-10 16:29:57 [INFO] src.evaluation.evaluator: Training DAGMM_NNAutoEncoder_withoutWindow on Syn Extreme Outliers (mis=0.9) with seed 3863686483\n",
      "2018-07-10 16:29:57 [WARNING] root: Determinant was negative! Clipping Eigenvalues to 0+epsilon from -2.9071044238548893e-08\n",
      "2018-07-10 16:29:57 [WARNING] root: Determinant was negative! Clipping Eigenvalues to 0+epsilon from -3.549200044972167e-08\n",
      "2018-07-10 16:29:57 [ERROR] src.evaluation.evaluator: An exception occurred while training DAGMM_NNAutoEncoder_withoutWindow on Syn Extreme Outliers (mis=0.9): Lapack Error getrf : U(3,3) is 0, U is singular at /pytorch/aten/src/TH/generic/THTensorLapack.c:514\n",
      "2018-07-10 16:29:57 [ERROR] src.evaluation.evaluator: Traceback (most recent call last):\n",
      "  File \"../src/evaluation/evaluator.py\", line 122, in evaluate\n",
      "    det.fit(X_train.copy(), y_train.copy())\n",
      "  File \"../src/algorithms/dagmm.py\", line 203, in fit\n",
      "    self.dagmm_step(input_data.float())\n",
      "  File \"../src/algorithms/dagmm.py\", line 177, in dagmm_step\n",
      "    self.lambda_cov_diag)\n",
      "  File \"../src/algorithms/dagmm.py\", line 144, in loss_function\n",
      "    sample_energy, cov_diag = self.compute_energy(z, phi, mu, cov)\n",
      "  File \"../src/algorithms/dagmm.py\", line 113, in compute_energy\n",
      "    cov_inverse.append(torch.inverse(cov_k).unsqueeze(0))\n",
      "RuntimeError: Lapack Error getrf : U(3,3) is 0, U is singular at /pytorch/aten/src/TH/generic/THTensorLapack.c:514\n",
      "\n",
      "2018-07-10 16:29:57 [INFO] src.evaluation.evaluator: Training DAGMM_NNAutoEncoder_withWindow on Syn Extreme Outliers (mis=0.9) with seed 3863686483\n"
     ]
    },
    {
     "name": "stderr",
     "output_type": "stream",
     "text": [
      "\r",
      "                                                                               \r",
      "\r",
      " 57% (4 of 7) |##############            | Elapsed Time: 0:03:23 ETA:   0:00:05"
     ]
    },
    {
     "name": "stdout",
     "output_type": "stream",
     "text": [
      "2018-07-10 16:30:01 [INFO] src.evaluation.evaluator: Training DAGMM_LSTMAutoEncoder_withWindow on Syn Extreme Outliers (mis=0.9) with seed 3863686483\n"
     ]
    },
    {
     "name": "stderr",
     "output_type": "stream",
     "text": [
      "\r",
      "                                                                               \r",
      "\r",
      " 71% (5 of 7) |##################        | Elapsed Time: 0:03:53 ETA:   0:01:00"
     ]
    },
    {
     "name": "stdout",
     "output_type": "stream",
     "text": [
      "2018-07-10 16:30:31 [INFO] src.evaluation.evaluator: Training Recurrent EBM on Syn Extreme Outliers (mis=0.9) with seed 3863686483\n"
     ]
    },
    {
     "name": "stderr",
     "output_type": "stream",
     "text": [
      "100%|██████████| 15/15 [00:07<00:00,  2.12it/s]\n",
      " 85% (6 of 7) |######################    | Elapsed Time: 0:04:24 ETA:   0:00:30"
     ]
    },
    {
     "name": "stdout",
     "output_type": "stream",
     "text": [
      "2018-07-10 16:31:02 [INFO] src.evaluation.evaluator: Training Donut on Syn Extreme Outliers (mis=0.9) with seed 3863686483\n"
     ]
    },
    {
     "name": "stderr",
     "output_type": "stream",
     "text": [
      "100%|██████████| 1/1 [00:37<00:00, 37.20s/it]\n",
      "100% (7 of 7) |##########################| Elapsed Time: 0:05:15 Time:  0:05:15\n",
      "100% (5 of 5) |##########################| Elapsed Time: 0:27:47 Time:  0:27:47\n"
     ]
    },
    {
     "name": "stdout",
     "output_type": "stream",
     "text": [
      "2018-07-10 16:31:56 [INFO] src.evaluation.evaluator: Store evaluator results at /home/thomas/work/notebooks/data_30/missing-run-6-3863686483-2018-07-10-163156.pkl\n"
     ]
    },
    {
     "name": "stderr",
     "output_type": "stream",
     "text": [
      "N/A% (0 of 7) |                          | Elapsed Time: 0:00:00 ETA:  --:--:--"
     ]
    },
    {
     "name": "stdout",
     "output_type": "stream",
     "text": [
      "2018-07-10 16:31:56 [INFO] src.evaluation.evaluator: Training LSTM-AD on Syn Extreme Outliers (mis=0.0) with seed 3109104621\n"
     ]
    },
    {
     "name": "stderr",
     "output_type": "stream",
     "text": [
      "\r",
      "                                                                               \r",
      "\r",
      " 14% (1 of 7) |###                       | Elapsed Time: 0:01:42 ETA:   0:10:12"
     ]
    },
    {
     "name": "stdout",
     "output_type": "stream",
     "text": [
      "2018-07-10 16:33:38 [INFO] src.evaluation.evaluator: Training LSTMED on Syn Extreme Outliers (mis=0.0) with seed 3109104621\n"
     ]
    },
    {
     "name": "stderr",
     "output_type": "stream",
     "text": [
      "\r",
      "                                                                               \r",
      "\r",
      " 28% (2 of 7) |#######                   | Elapsed Time: 0:03:19 ETA:   0:08:07"
     ]
    },
    {
     "name": "stdout",
     "output_type": "stream",
     "text": [
      "2018-07-10 16:35:16 [INFO] src.evaluation.evaluator: Training DAGMM_NNAutoEncoder_withoutWindow on Syn Extreme Outliers (mis=0.0) with seed 3109104621\n",
      "2018-07-10 16:35:16 [WARNING] root: Determinant was negative! Clipping Eigenvalues to 0+epsilon from -4.9676796010089674e-09\n",
      "2018-07-10 16:35:16 [WARNING] root: Determinant was negative! Clipping Eigenvalues to 0+epsilon from -3.2945585815014056e-08\n",
      "2018-07-10 16:35:18 [WARNING] root: Determinant was negative! Clipping Eigenvalues to 0+epsilon from -5.110737788527331e-07\n",
      "2018-07-10 16:35:18 [WARNING] root: Determinant was negative! Clipping Eigenvalues to 0+epsilon from -1.3290735623172623e-08\n"
     ]
    },
    {
     "name": "stderr",
     "output_type": "stream",
     "text": [
      "\r",
      "                                                                               \r",
      "\r",
      " 42% (3 of 7) |###########               | Elapsed Time: 0:03:23 ETA:   0:00:15"
     ]
    },
    {
     "name": "stdout",
     "output_type": "stream",
     "text": [
      "2018-07-10 16:35:20 [INFO] src.evaluation.evaluator: Training DAGMM_NNAutoEncoder_withWindow on Syn Extreme Outliers (mis=0.0) with seed 3109104621\n"
     ]
    },
    {
     "name": "stderr",
     "output_type": "stream",
     "text": [
      "\r",
      "                                                                               \r",
      "\r",
      " 57% (4 of 7) |##############            | Elapsed Time: 0:03:27 ETA:   0:00:11"
     ]
    },
    {
     "name": "stdout",
     "output_type": "stream",
     "text": [
      "2018-07-10 16:35:24 [INFO] src.evaluation.evaluator: Training DAGMM_LSTMAutoEncoder_withWindow on Syn Extreme Outliers (mis=0.0) with seed 3109104621\n"
     ]
    },
    {
     "name": "stderr",
     "output_type": "stream",
     "text": [
      "\r",
      "                                                                               \r",
      "\r",
      " 71% (5 of 7) |##################        | Elapsed Time: 0:03:57 ETA:   0:01:00"
     ]
    },
    {
     "name": "stdout",
     "output_type": "stream",
     "text": [
      "2018-07-10 16:35:54 [INFO] src.evaluation.evaluator: Training Recurrent EBM on Syn Extreme Outliers (mis=0.0) with seed 3109104621\n"
     ]
    },
    {
     "name": "stderr",
     "output_type": "stream",
     "text": [
      "100%|██████████| 15/15 [00:07<00:00,  2.12it/s]\n",
      " 85% (6 of 7) |######################    | Elapsed Time: 0:04:28 ETA:   0:00:30"
     ]
    },
    {
     "name": "stdout",
     "output_type": "stream",
     "text": [
      "2018-07-10 16:36:25 [INFO] src.evaluation.evaluator: Training Donut on Syn Extreme Outliers (mis=0.0) with seed 3109104621\n"
     ]
    },
    {
     "name": "stderr",
     "output_type": "stream",
     "text": [
      "\r",
      "  0%|          | 0/1 [00:00<?, ?it/s]"
     ]
    },
    {
     "name": "stdout",
     "output_type": "stream",
     "text": [
      "INFO:tensorflow:Restoring parameters from /tmp/tmp4g7mf_s8/variables.dat-1200\n",
      "2018-07-10 16:39:00 [INFO] tensorflow: Restoring parameters from /tmp/tmp4g7mf_s8/variables.dat-1200\n"
     ]
    },
    {
     "name": "stderr",
     "output_type": "stream",
     "text": [
      "100%|██████████| 1/1 [02:35<00:00, 155.67s/it]\n",
      "100% (7 of 7) |##########################| Elapsed Time: 0:07:19 Time:  0:07:19\n",
      "N/A% (0 of 7) |                          | Elapsed Time: 0:00:00 ETA:  --:--:--"
     ]
    },
    {
     "name": "stdout",
     "output_type": "stream",
     "text": [
      "2018-07-10 16:39:16 [INFO] src.evaluation.evaluator: Training LSTM-AD on Syn Extreme Outliers (mis=0.225) with seed 3109104621\n"
     ]
    },
    {
     "name": "stderr",
     "output_type": "stream",
     "text": [
      "\r",
      "                                                                               \r",
      "\r",
      " 14% (1 of 7) |###                       | Elapsed Time: 0:01:43 ETA:   0:10:22"
     ]
    },
    {
     "name": "stdout",
     "output_type": "stream",
     "text": [
      "2018-07-10 16:40:59 [INFO] src.evaluation.evaluator: Training LSTMED on Syn Extreme Outliers (mis=0.225) with seed 3109104621\n"
     ]
    },
    {
     "name": "stderr",
     "output_type": "stream",
     "text": [
      "\r",
      "                                                                               \r",
      "\r",
      " 28% (2 of 7) |#######                   | Elapsed Time: 0:03:21 ETA:   0:08:07"
     ]
    },
    {
     "name": "stdout",
     "output_type": "stream",
     "text": [
      "2018-07-10 16:42:37 [INFO] src.evaluation.evaluator: Training DAGMM_NNAutoEncoder_withoutWindow on Syn Extreme Outliers (mis=0.225) with seed 3109104621\n",
      "2018-07-10 16:42:37 [WARNING] root: Determinant was negative! Clipping Eigenvalues to 0+epsilon from -5.457084171212045e-07\n",
      "2018-07-10 16:42:37 [WARNING] root: Determinant was negative! Clipping Eigenvalues to 0+epsilon from -1.925874073549494e-07\n",
      "2018-07-10 16:42:37 [WARNING] root: Determinant was negative! Clipping Eigenvalues to 0+epsilon from -2.293707410672141e-07\n",
      "2018-07-10 16:42:37 [WARNING] root: Determinant was negative! Clipping Eigenvalues to 0+epsilon from -1.0592069088488643e-07\n",
      "2018-07-10 16:42:37 [WARNING] root: Determinant was negative! Clipping Eigenvalues to 0+epsilon from -3.5628008276944456e-07\n",
      "2018-07-10 16:42:37 [WARNING] root: Determinant was negative! Clipping Eigenvalues to 0+epsilon from -2.9109440902175265e-07\n",
      "2018-07-10 16:42:37 [WARNING] root: Determinant was negative! Clipping Eigenvalues to 0+epsilon from -1.3159390732653264e-07\n",
      "2018-07-10 16:42:37 [WARNING] root: Determinant was negative! Clipping Eigenvalues to 0+epsilon from -1.8653992128747632e-07\n",
      "2018-07-10 16:42:37 [WARNING] root: Determinant was negative! Clipping Eigenvalues to 0+epsilon from -7.659440370844095e-08\n",
      "2018-07-10 16:42:37 [WARNING] root: Determinant was negative! Clipping Eigenvalues to 0+epsilon from -9.782689147641577e-08\n",
      "2018-07-10 16:42:37 [WARNING] root: Determinant was negative! Clipping Eigenvalues to 0+epsilon from -6.966806864738828e-08\n",
      "2018-07-10 16:42:37 [WARNING] root: Determinant was negative! Clipping Eigenvalues to 0+epsilon from -7.730892548352131e-08\n",
      "2018-07-10 16:42:37 [WARNING] root: Determinant was negative! Clipping Eigenvalues to 0+epsilon from -3.2171010388992727e-07\n",
      "2018-07-10 16:42:37 [WARNING] root: Determinant was negative! Clipping Eigenvalues to 0+epsilon from -5.123983441990276e-07\n",
      "2018-07-10 16:42:37 [WARNING] root: Determinant was negative! Clipping Eigenvalues to 0+epsilon from -1.74632674543318e-07\n",
      "2018-07-10 16:42:37 [WARNING] root: Determinant was negative! Clipping Eigenvalues to 0+epsilon from -3.72928582237364e-07\n",
      "2018-07-10 16:42:37 [WARNING] root: Determinant was negative! Clipping Eigenvalues to 0+epsilon from -2.4230448048001563e-07\n",
      "2018-07-10 16:42:37 [WARNING] root: Determinant was negative! Clipping Eigenvalues to 0+epsilon from -1.479439077911593e-07\n",
      "2018-07-10 16:42:37 [WARNING] root: Determinant was negative! Clipping Eigenvalues to 0+epsilon from -2.8004944852000335e-07\n",
      "2018-07-10 16:42:37 [WARNING] root: Determinant was negative! Clipping Eigenvalues to 0+epsilon from -1.2542430738449184e-07\n",
      "2018-07-10 16:42:37 [WARNING] root: Determinant was negative! Clipping Eigenvalues to 0+epsilon from -1.1458167392675023e-07\n",
      "2018-07-10 16:42:38 [WARNING] root: Determinant was negative! Clipping Eigenvalues to 0+epsilon from -9.684591617542537e-08\n",
      "2018-07-10 16:42:38 [WARNING] root: Determinant was negative! Clipping Eigenvalues to 0+epsilon from -2.386326514169923e-07\n",
      "2018-07-10 16:42:38 [WARNING] root: Determinant was negative! Clipping Eigenvalues to 0+epsilon from -2.4173553825335148e-08\n",
      "2018-07-10 16:42:38 [WARNING] root: Determinant was negative! Clipping Eigenvalues to 0+epsilon from -7.442301352966751e-08\n",
      "2018-07-10 16:42:38 [WARNING] root: Determinant was negative! Clipping Eigenvalues to 0+epsilon from -4.4124639941856e-08\n",
      "2018-07-10 16:42:38 [ERROR] src.evaluation.evaluator: An exception occurred while training DAGMM_NNAutoEncoder_withoutWindow on Syn Extreme Outliers (mis=0.225): Lapack Error getrf : U(3,3) is 0, U is singular at /pytorch/aten/src/TH/generic/THTensorLapack.c:514\n",
      "2018-07-10 16:42:38 [ERROR] src.evaluation.evaluator: Traceback (most recent call last):\n",
      "  File \"../src/evaluation/evaluator.py\", line 122, in evaluate\n",
      "    det.fit(X_train.copy(), y_train.copy())\n",
      "  File \"../src/algorithms/dagmm.py\", line 203, in fit\n",
      "    self.dagmm_step(input_data.float())\n",
      "  File \"../src/algorithms/dagmm.py\", line 177, in dagmm_step\n",
      "    self.lambda_cov_diag)\n",
      "  File \"../src/algorithms/dagmm.py\", line 144, in loss_function\n",
      "    sample_energy, cov_diag = self.compute_energy(z, phi, mu, cov)\n",
      "  File \"../src/algorithms/dagmm.py\", line 113, in compute_energy\n",
      "    cov_inverse.append(torch.inverse(cov_k).unsqueeze(0))\n",
      "RuntimeError: Lapack Error getrf : U(3,3) is 0, U is singular at /pytorch/aten/src/TH/generic/THTensorLapack.c:514\n",
      "\n"
     ]
    },
    {
     "name": "stderr",
     "output_type": "stream",
     "text": [
      "\r",
      "                                                                               \r",
      "\r",
      " 42% (3 of 7) |###########               | Elapsed Time: 0:03:21 ETA:   0:03:16"
     ]
    },
    {
     "name": "stdout",
     "output_type": "stream",
     "text": [
      "2018-07-10 16:42:38 [INFO] src.evaluation.evaluator: Training DAGMM_NNAutoEncoder_withWindow on Syn Extreme Outliers (mis=0.225) with seed 3109104621\n"
     ]
    },
    {
     "name": "stderr",
     "output_type": "stream",
     "text": [
      "\r",
      "                                                                               \r",
      "\r",
      " 57% (4 of 7) |##############            | Elapsed Time: 0:03:25 ETA:   0:00:12"
     ]
    },
    {
     "name": "stdout",
     "output_type": "stream",
     "text": [
      "2018-07-10 16:42:42 [INFO] src.evaluation.evaluator: Training DAGMM_LSTMAutoEncoder_withWindow on Syn Extreme Outliers (mis=0.225) with seed 3109104621\n"
     ]
    },
    {
     "name": "stderr",
     "output_type": "stream",
     "text": [
      "\r",
      "                                                                               \r",
      "\r",
      " 71% (5 of 7) |##################        | Elapsed Time: 0:03:56 ETA:   0:01:00"
     ]
    },
    {
     "name": "stdout",
     "output_type": "stream",
     "text": [
      "2018-07-10 16:43:12 [INFO] src.evaluation.evaluator: Training Recurrent EBM on Syn Extreme Outliers (mis=0.225) with seed 3109104621\n"
     ]
    },
    {
     "name": "stderr",
     "output_type": "stream",
     "text": [
      "100%|██████████| 15/15 [00:07<00:00,  2.12it/s]\n",
      " 85% (6 of 7) |######################    | Elapsed Time: 0:04:27 ETA:   0:00:31"
     ]
    },
    {
     "name": "stdout",
     "output_type": "stream",
     "text": [
      "2018-07-10 16:43:43 [INFO] src.evaluation.evaluator: Training Donut on Syn Extreme Outliers (mis=0.225) with seed 3109104621\n"
     ]
    },
    {
     "name": "stderr",
     "output_type": "stream",
     "text": [
      "100%|██████████| 1/1 [00:39<00:00, 39.37s/it]\n",
      "100% (7 of 7) |##########################| Elapsed Time: 0:05:22 Time:  0:05:22\n",
      "N/A% (0 of 7) |                          | Elapsed Time: 0:00:00 ETA:  --:--:--"
     ]
    },
    {
     "name": "stdout",
     "output_type": "stream",
     "text": [
      "2018-07-10 16:44:38 [INFO] src.evaluation.evaluator: Training LSTM-AD on Syn Extreme Outliers (mis=0.45) with seed 3109104621\n"
     ]
    },
    {
     "name": "stderr",
     "output_type": "stream",
     "text": [
      "\r",
      "                                                                               \r",
      "\r",
      " 14% (1 of 7) |###                       | Elapsed Time: 0:01:41 ETA:   0:10:11"
     ]
    },
    {
     "name": "stdout",
     "output_type": "stream",
     "text": [
      "2018-07-10 16:46:20 [INFO] src.evaluation.evaluator: Training LSTMED on Syn Extreme Outliers (mis=0.45) with seed 3109104621\n"
     ]
    },
    {
     "name": "stderr",
     "output_type": "stream",
     "text": [
      "\r",
      "                                                                               \r",
      "\r",
      " 28% (2 of 7) |#######                   | Elapsed Time: 0:03:20 ETA:   0:08:15"
     ]
    },
    {
     "name": "stdout",
     "output_type": "stream",
     "text": [
      "2018-07-10 16:47:59 [INFO] src.evaluation.evaluator: Training DAGMM_NNAutoEncoder_withoutWindow on Syn Extreme Outliers (mis=0.45) with seed 3109104621\n",
      "2018-07-10 16:47:59 [WARNING] root: Determinant was negative! Clipping Eigenvalues to 0+epsilon from -1.9251942262599187e-07\n",
      "2018-07-10 16:47:59 [WARNING] root: Determinant was negative! Clipping Eigenvalues to 0+epsilon from -8.646203752959991e-08\n",
      "2018-07-10 16:47:59 [WARNING] root: Determinant was negative! Clipping Eigenvalues to 0+epsilon from -7.651971145605785e-07\n",
      "2018-07-10 16:47:59 [WARNING] root: Determinant was negative! Clipping Eigenvalues to 0+epsilon from -3.1092284302758344e-07\n",
      "2018-07-10 16:47:59 [WARNING] root: Determinant was negative! Clipping Eigenvalues to 0+epsilon from -1.6109511591366754e-07\n",
      "2018-07-10 16:47:59 [WARNING] root: Determinant was negative! Clipping Eigenvalues to 0+epsilon from -3.8776119026806555e-07\n",
      "2018-07-10 16:47:59 [WARNING] root: Determinant was negative! Clipping Eigenvalues to 0+epsilon from -1.7239049077133473e-09\n",
      "2018-07-10 16:47:59 [ERROR] src.evaluation.evaluator: An exception occurred while training DAGMM_NNAutoEncoder_withoutWindow on Syn Extreme Outliers (mis=0.45): Lapack Error getrf : U(3,3) is 0, U is singular at /pytorch/aten/src/TH/generic/THTensorLapack.c:514\n",
      "2018-07-10 16:47:59 [ERROR] src.evaluation.evaluator: Traceback (most recent call last):\n",
      "  File \"../src/evaluation/evaluator.py\", line 122, in evaluate\n",
      "    det.fit(X_train.copy(), y_train.copy())\n",
      "  File \"../src/algorithms/dagmm.py\", line 203, in fit\n",
      "    self.dagmm_step(input_data.float())\n",
      "  File \"../src/algorithms/dagmm.py\", line 177, in dagmm_step\n",
      "    self.lambda_cov_diag)\n",
      "  File \"../src/algorithms/dagmm.py\", line 144, in loss_function\n",
      "    sample_energy, cov_diag = self.compute_energy(z, phi, mu, cov)\n",
      "  File \"../src/algorithms/dagmm.py\", line 113, in compute_energy\n",
      "    cov_inverse.append(torch.inverse(cov_k).unsqueeze(0))\n",
      "RuntimeError: Lapack Error getrf : U(3,3) is 0, U is singular at /pytorch/aten/src/TH/generic/THTensorLapack.c:514\n",
      "\n"
     ]
    },
    {
     "name": "stderr",
     "output_type": "stream",
     "text": [
      "\r",
      "                                                                               \r",
      "\r",
      " 42% (3 of 7) |###########               | Elapsed Time: 0:03:21 ETA:   0:03:18"
     ]
    },
    {
     "name": "stdout",
     "output_type": "stream",
     "text": [
      "2018-07-10 16:47:59 [INFO] src.evaluation.evaluator: Training DAGMM_NNAutoEncoder_withWindow on Syn Extreme Outliers (mis=0.45) with seed 3109104621\n"
     ]
    },
    {
     "name": "stderr",
     "output_type": "stream",
     "text": [
      "\r",
      "                                                                               \r",
      "\r",
      " 57% (4 of 7) |##############            | Elapsed Time: 0:03:25 ETA:   0:00:12"
     ]
    },
    {
     "name": "stdout",
     "output_type": "stream",
     "text": [
      "2018-07-10 16:48:03 [INFO] src.evaluation.evaluator: Training DAGMM_LSTMAutoEncoder_withWindow on Syn Extreme Outliers (mis=0.45) with seed 3109104621\n"
     ]
    },
    {
     "name": "stderr",
     "output_type": "stream",
     "text": [
      "\r",
      "                                                                               \r",
      "\r",
      " 71% (5 of 7) |##################        | Elapsed Time: 0:03:57 ETA:   0:01:05"
     ]
    },
    {
     "name": "stdout",
     "output_type": "stream",
     "text": [
      "2018-07-10 16:48:36 [INFO] src.evaluation.evaluator: Training Recurrent EBM on Syn Extreme Outliers (mis=0.45) with seed 3109104621\n"
     ]
    },
    {
     "name": "stderr",
     "output_type": "stream",
     "text": [
      "100%|██████████| 15/15 [00:07<00:00,  2.11it/s]\n",
      " 85% (6 of 7) |######################    | Elapsed Time: 0:04:29 ETA:   0:00:31"
     ]
    },
    {
     "name": "stdout",
     "output_type": "stream",
     "text": [
      "2018-07-10 16:49:08 [INFO] src.evaluation.evaluator: Training Donut on Syn Extreme Outliers (mis=0.45) with seed 3109104621\n"
     ]
    },
    {
     "name": "stderr",
     "output_type": "stream",
     "text": [
      "100%|██████████| 1/1 [00:40<00:00, 40.17s/it]\n",
      "100% (7 of 7) |##########################| Elapsed Time: 0:05:25 Time:  0:05:25\n",
      "N/A% (0 of 7) |                          | Elapsed Time: 0:00:00 ETA:  --:--:--"
     ]
    },
    {
     "name": "stdout",
     "output_type": "stream",
     "text": [
      "2018-07-10 16:50:04 [INFO] src.evaluation.evaluator: Training LSTM-AD on Syn Extreme Outliers (mis=0.675) with seed 3109104621\n"
     ]
    },
    {
     "name": "stderr",
     "output_type": "stream",
     "text": [
      "\r",
      "                                                                               \r",
      "\r",
      " 14% (1 of 7) |###                       | Elapsed Time: 0:01:42 ETA:   0:10:14"
     ]
    },
    {
     "name": "stdout",
     "output_type": "stream",
     "text": [
      "2018-07-10 16:51:46 [INFO] src.evaluation.evaluator: Training LSTMED on Syn Extreme Outliers (mis=0.675) with seed 3109104621\n"
     ]
    },
    {
     "name": "stderr",
     "output_type": "stream",
     "text": [
      "\r",
      "                                                                               \r",
      "\r",
      " 28% (2 of 7) |#######                   | Elapsed Time: 0:03:19 ETA:   0:08:05"
     ]
    },
    {
     "name": "stdout",
     "output_type": "stream",
     "text": [
      "2018-07-10 16:53:23 [INFO] src.evaluation.evaluator: Training DAGMM_NNAutoEncoder_withoutWindow on Syn Extreme Outliers (mis=0.675) with seed 3109104621\n",
      "2018-07-10 16:53:23 [WARNING] root: Determinant was negative! Clipping Eigenvalues to 0+epsilon from -3.9854805322647735e-07\n",
      "2018-07-10 16:53:23 [WARNING] root: Determinant was negative! Clipping Eigenvalues to 0+epsilon from -7.448461758485792e-08\n",
      "2018-07-10 16:53:23 [WARNING] root: Determinant was negative! Clipping Eigenvalues to 0+epsilon from -7.815906144514884e-08\n",
      "2018-07-10 16:53:23 [WARNING] root: Determinant was negative! Clipping Eigenvalues to 0+epsilon from -1.7664200413491926e-07\n",
      "2018-07-10 16:53:23 [WARNING] root: Determinant was negative! Clipping Eigenvalues to 0+epsilon from -1.6461069662909722e-07\n",
      "2018-07-10 16:53:23 [WARNING] root: Determinant was negative! Clipping Eigenvalues to 0+epsilon from -5.639721507577633e-07\n",
      "2018-07-10 16:53:23 [WARNING] root: Determinant was negative! Clipping Eigenvalues to 0+epsilon from -2.3304185958750168e-07\n",
      "2018-07-10 16:53:23 [WARNING] root: Determinant was negative! Clipping Eigenvalues to 0+epsilon from -1.4136713843981852e-07\n",
      "2018-07-10 16:53:23 [WARNING] root: Determinant was negative! Clipping Eigenvalues to 0+epsilon from -2.3387873682167992e-07\n",
      "2018-07-10 16:53:23 [WARNING] root: Determinant was negative! Clipping Eigenvalues to 0+epsilon from -1.9959139763159328e-07\n",
      "2018-07-10 16:53:23 [WARNING] root: Determinant was negative! Clipping Eigenvalues to 0+epsilon from -2.9483081220860186e-07\n",
      "2018-07-10 16:53:23 [WARNING] root: Determinant was negative! Clipping Eigenvalues to 0+epsilon from -1.3250243569018494e-07\n",
      "2018-07-10 16:53:23 [WARNING] root: Determinant was negative! Clipping Eigenvalues to 0+epsilon from -4.0607162077321846e-08\n",
      "2018-07-10 16:53:23 [WARNING] root: Determinant was negative! Clipping Eigenvalues to 0+epsilon from -1.2326217984082177e-06\n",
      "2018-07-10 16:53:23 [WARNING] root: Determinant was negative! Clipping Eigenvalues to 0+epsilon from -5.213433382778021e-07\n",
      "2018-07-10 16:53:23 [WARNING] root: Determinant was negative! Clipping Eigenvalues to 0+epsilon from -5.586560973824817e-07\n",
      "2018-07-10 16:53:23 [WARNING] root: Determinant was negative! Clipping Eigenvalues to 0+epsilon from -4.6889579152775696e-07\n",
      "2018-07-10 16:53:23 [WARNING] root: Determinant was negative! Clipping Eigenvalues to 0+epsilon from -2.966402519177791e-07\n",
      "2018-07-10 16:53:23 [WARNING] root: Determinant was negative! Clipping Eigenvalues to 0+epsilon from -3.515056334890687e-07\n",
      "2018-07-10 16:53:23 [WARNING] root: Determinant was negative! Clipping Eigenvalues to 0+epsilon from -1.1911853192714261e-07\n",
      "2018-07-10 16:53:23 [WARNING] root: Determinant was negative! Clipping Eigenvalues to 0+epsilon from -3.7467154356818355e-07\n",
      "2018-07-10 16:53:23 [WARNING] root: Determinant was negative! Clipping Eigenvalues to 0+epsilon from -1.6098040234169275e-08\n",
      "2018-07-10 16:53:23 [WARNING] root: Determinant was negative! Clipping Eigenvalues to 0+epsilon from -6.328158974611142e-07\n",
      "2018-07-10 16:53:23 [WARNING] root: Determinant was negative! Clipping Eigenvalues to 0+epsilon from -2.375632419671092e-07\n",
      "2018-07-10 16:53:23 [WARNING] root: Determinant was negative! Clipping Eigenvalues to 0+epsilon from -5.034594323660713e-07\n",
      "2018-07-10 16:53:23 [WARNING] root: Determinant was negative! Clipping Eigenvalues to 0+epsilon from -4.018248489501275e-07\n",
      "2018-07-10 16:53:23 [WARNING] root: Determinant was negative! Clipping Eigenvalues to 0+epsilon from -2.8171123744868964e-07\n",
      "2018-07-10 16:53:23 [WARNING] root: Determinant was negative! Clipping Eigenvalues to 0+epsilon from -3.295827966098841e-08\n",
      "2018-07-10 16:53:23 [WARNING] root: Determinant was negative! Clipping Eigenvalues to 0+epsilon from -6.061717527927613e-08\n",
      "2018-07-10 16:53:23 [WARNING] root: Determinant was negative! Clipping Eigenvalues to 0+epsilon from -6.537173646847805e-08\n",
      "2018-07-10 16:53:23 [WARNING] root: Determinant was negative! Clipping Eigenvalues to 0+epsilon from -2.9023814818174287e-07\n",
      "2018-07-10 16:53:23 [WARNING] root: Determinant was negative! Clipping Eigenvalues to 0+epsilon from -1.2951295502716675e-07\n",
      "2018-07-10 16:53:23 [WARNING] root: Determinant was negative! Clipping Eigenvalues to 0+epsilon from -5.4930136883513114e-08\n",
      "2018-07-10 16:53:23 [WARNING] root: Determinant was negative! Clipping Eigenvalues to 0+epsilon from -1.028939138336682e-07\n",
      "2018-07-10 16:53:23 [WARNING] root: Determinant was negative! Clipping Eigenvalues to 0+epsilon from -1.6639249977856707e-08\n",
      "2018-07-10 16:53:23 [WARNING] root: Determinant was negative! Clipping Eigenvalues to 0+epsilon from -2.7850232342530035e-08\n",
      "2018-07-10 16:53:23 [WARNING] root: Determinant was negative! Clipping Eigenvalues to 0+epsilon from -5.84307201734191e-07\n",
      "2018-07-10 16:53:23 [WARNING] root: Determinant was negative! Clipping Eigenvalues to 0+epsilon from -4.413688202475896e-06\n",
      "2018-07-10 16:53:23 [WARNING] root: Determinant was negative! Clipping Eigenvalues to 0+epsilon from -5.744286113440467e-07\n",
      "2018-07-10 16:53:23 [WARNING] root: Determinant was negative! Clipping Eigenvalues to 0+epsilon from -1.543519147162442e-06\n",
      "2018-07-10 16:53:23 [WARNING] root: Determinant was negative! Clipping Eigenvalues to 0+epsilon from -4.7712507722508235e-08\n",
      "2018-07-10 16:53:23 [WARNING] root: Determinant was negative! Clipping Eigenvalues to 0+epsilon from -7.417863230330113e-07\n",
      "2018-07-10 16:53:24 [WARNING] root: Determinant was negative! Clipping Eigenvalues to 0+epsilon from -8.511130431543279e-07\n",
      "2018-07-10 16:53:24 [WARNING] root: Determinant was negative! Clipping Eigenvalues to 0+epsilon from -6.04397740744389e-08\n",
      "2018-07-10 16:53:24 [WARNING] root: Determinant was negative! Clipping Eigenvalues to 0+epsilon from -3.454357795362739e-07\n",
      "2018-07-10 16:53:24 [WARNING] root: Determinant was negative! Clipping Eigenvalues to 0+epsilon from -1.206998661018588e-07\n",
      "2018-07-10 16:53:24 [WARNING] root: Determinant was negative! Clipping Eigenvalues to 0+epsilon from -8.704956258043239e-07\n",
      "2018-07-10 16:53:24 [WARNING] root: Determinant was negative! Clipping Eigenvalues to 0+epsilon from -4.025452255973505e-07\n",
      "2018-07-10 16:53:24 [WARNING] root: Determinant was negative! Clipping Eigenvalues to 0+epsilon from -4.176098578057008e-09\n",
      "2018-07-10 16:53:24 [ERROR] src.evaluation.evaluator: An exception occurred while training DAGMM_NNAutoEncoder_withoutWindow on Syn Extreme Outliers (mis=0.675): Lapack Error getrf : U(3,3) is 0, U is singular at /pytorch/aten/src/TH/generic/THTensorLapack.c:514\n",
      "2018-07-10 16:53:24 [ERROR] src.evaluation.evaluator: Traceback (most recent call last):\n",
      "  File \"../src/evaluation/evaluator.py\", line 122, in evaluate\n",
      "    det.fit(X_train.copy(), y_train.copy())\n",
      "  File \"../src/algorithms/dagmm.py\", line 203, in fit\n",
      "    self.dagmm_step(input_data.float())\n",
      "  File \"../src/algorithms/dagmm.py\", line 177, in dagmm_step\n",
      "    self.lambda_cov_diag)\n",
      "  File \"../src/algorithms/dagmm.py\", line 144, in loss_function\n",
      "    sample_energy, cov_diag = self.compute_energy(z, phi, mu, cov)\n",
      "  File \"../src/algorithms/dagmm.py\", line 113, in compute_energy\n",
      "    cov_inverse.append(torch.inverse(cov_k).unsqueeze(0))\n",
      "RuntimeError: Lapack Error getrf : U(3,3) is 0, U is singular at /pytorch/aten/src/TH/generic/THTensorLapack.c:514\n",
      "\n"
     ]
    },
    {
     "name": "stderr",
     "output_type": "stream",
     "text": [
      "\r",
      "                                                                               \r",
      "\r",
      " 42% (3 of 7) |###########               | Elapsed Time: 0:03:19 ETA:   0:03:14"
     ]
    },
    {
     "name": "stdout",
     "output_type": "stream",
     "text": [
      "2018-07-10 16:53:24 [INFO] src.evaluation.evaluator: Training DAGMM_NNAutoEncoder_withWindow on Syn Extreme Outliers (mis=0.675) with seed 3109104621\n"
     ]
    },
    {
     "name": "stderr",
     "output_type": "stream",
     "text": [
      "\r",
      "                                                                               \r",
      "\r",
      " 57% (4 of 7) |##############            | Elapsed Time: 0:03:23 ETA:   0:00:11"
     ]
    },
    {
     "name": "stdout",
     "output_type": "stream",
     "text": [
      "2018-07-10 16:53:27 [INFO] src.evaluation.evaluator: Training DAGMM_LSTMAutoEncoder_withWindow on Syn Extreme Outliers (mis=0.675) with seed 3109104621\n"
     ]
    },
    {
     "name": "stderr",
     "output_type": "stream",
     "text": [
      "\r",
      "                                                                               \r",
      "\r",
      " 71% (5 of 7) |##################        | Elapsed Time: 0:03:54 ETA:   0:01:00"
     ]
    },
    {
     "name": "stdout",
     "output_type": "stream",
     "text": [
      "2018-07-10 16:53:58 [INFO] src.evaluation.evaluator: Training Recurrent EBM on Syn Extreme Outliers (mis=0.675) with seed 3109104621\n"
     ]
    },
    {
     "name": "stderr",
     "output_type": "stream",
     "text": [
      "100%|██████████| 15/15 [00:07<00:00,  2.09it/s]\n",
      " 85% (6 of 7) |######################    | Elapsed Time: 0:04:26 ETA:   0:00:32"
     ]
    },
    {
     "name": "stdout",
     "output_type": "stream",
     "text": [
      "2018-07-10 16:54:30 [INFO] src.evaluation.evaluator: Training Donut on Syn Extreme Outliers (mis=0.675) with seed 3109104621\n"
     ]
    },
    {
     "name": "stderr",
     "output_type": "stream",
     "text": [
      "100%|██████████| 1/1 [00:42<00:00, 42.62s/it]\n",
      "100% (7 of 7) |##########################| Elapsed Time: 0:05:25 Time:  0:05:25\n",
      "N/A% (0 of 7) |                          | Elapsed Time: 0:00:00 ETA:  --:--:--"
     ]
    },
    {
     "name": "stdout",
     "output_type": "stream",
     "text": [
      "2018-07-10 16:55:29 [INFO] src.evaluation.evaluator: Training LSTM-AD on Syn Extreme Outliers (mis=0.9) with seed 3109104621\n"
     ]
    },
    {
     "name": "stderr",
     "output_type": "stream",
     "text": [
      "\r",
      "                                                                               \r",
      "\r",
      " 14% (1 of 7) |###                       | Elapsed Time: 0:01:42 ETA:   0:10:14"
     ]
    },
    {
     "name": "stdout",
     "output_type": "stream",
     "text": [
      "2018-07-10 16:57:11 [INFO] src.evaluation.evaluator: Training LSTMED on Syn Extreme Outliers (mis=0.9) with seed 3109104621\n"
     ]
    },
    {
     "name": "stderr",
     "output_type": "stream",
     "text": [
      "\r",
      "                                                                               \r",
      "\r",
      " 28% (2 of 7) |#######                   | Elapsed Time: 0:03:19 ETA:   0:08:05"
     ]
    },
    {
     "name": "stdout",
     "output_type": "stream",
     "text": [
      "2018-07-10 16:58:48 [INFO] src.evaluation.evaluator: Training DAGMM_NNAutoEncoder_withoutWindow on Syn Extreme Outliers (mis=0.9) with seed 3109104621\n",
      "2018-07-10 16:58:48 [WARNING] root: Determinant was negative! Clipping Eigenvalues to 0+epsilon from -3.021473560238519e-07\n",
      "2018-07-10 16:58:48 [WARNING] root: Determinant was negative! Clipping Eigenvalues to 0+epsilon from -8.691464614685174e-08\n",
      "2018-07-10 16:58:48 [WARNING] root: Determinant was negative! Clipping Eigenvalues to 0+epsilon from -1.3707308710309007e-07\n",
      "2018-07-10 16:58:48 [WARNING] root: Determinant was negative! Clipping Eigenvalues to 0+epsilon from -4.2490555074437e-07\n",
      "2018-07-10 16:58:48 [ERROR] src.evaluation.evaluator: An exception occurred while training DAGMM_NNAutoEncoder_withoutWindow on Syn Extreme Outliers (mis=0.9): Lapack Error getrf : U(3,3) is 0, U is singular at /pytorch/aten/src/TH/generic/THTensorLapack.c:514\n",
      "2018-07-10 16:58:48 [ERROR] src.evaluation.evaluator: Traceback (most recent call last):\n",
      "  File \"../src/evaluation/evaluator.py\", line 122, in evaluate\n",
      "    det.fit(X_train.copy(), y_train.copy())\n",
      "  File \"../src/algorithms/dagmm.py\", line 203, in fit\n",
      "    self.dagmm_step(input_data.float())\n",
      "  File \"../src/algorithms/dagmm.py\", line 177, in dagmm_step\n",
      "    self.lambda_cov_diag)\n",
      "  File \"../src/algorithms/dagmm.py\", line 144, in loss_function\n",
      "    sample_energy, cov_diag = self.compute_energy(z, phi, mu, cov)\n",
      "  File \"../src/algorithms/dagmm.py\", line 113, in compute_energy\n",
      "    cov_inverse.append(torch.inverse(cov_k).unsqueeze(0))\n",
      "RuntimeError: Lapack Error getrf : U(3,3) is 0, U is singular at /pytorch/aten/src/TH/generic/THTensorLapack.c:514\n",
      "\n",
      "2018-07-10 16:58:48 [INFO] src.evaluation.evaluator: Training DAGMM_NNAutoEncoder_withWindow on Syn Extreme Outliers (mis=0.9) with seed 3109104621\n"
     ]
    },
    {
     "name": "stderr",
     "output_type": "stream",
     "text": [
      "\r",
      "                                                                               \r",
      "\r",
      " 57% (4 of 7) |##############            | Elapsed Time: 0:03:23 ETA:   0:00:05"
     ]
    },
    {
     "name": "stdout",
     "output_type": "stream",
     "text": [
      "2018-07-10 16:58:52 [INFO] src.evaluation.evaluator: Training DAGMM_LSTMAutoEncoder_withWindow on Syn Extreme Outliers (mis=0.9) with seed 3109104621\n"
     ]
    },
    {
     "name": "stderr",
     "output_type": "stream",
     "text": [
      "\r",
      "                                                                               \r",
      "\r",
      " 71% (5 of 7) |##################        | Elapsed Time: 0:03:53 ETA:   0:01:00"
     ]
    },
    {
     "name": "stdout",
     "output_type": "stream",
     "text": [
      "2018-07-10 16:59:23 [INFO] src.evaluation.evaluator: Training Recurrent EBM on Syn Extreme Outliers (mis=0.9) with seed 3109104621\n"
     ]
    },
    {
     "name": "stderr",
     "output_type": "stream",
     "text": [
      "100%|██████████| 15/15 [00:07<00:00,  2.09it/s]\n",
      " 85% (6 of 7) |######################    | Elapsed Time: 0:04:26 ETA:   0:00:33"
     ]
    },
    {
     "name": "stdout",
     "output_type": "stream",
     "text": [
      "2018-07-10 16:59:56 [INFO] src.evaluation.evaluator: Training Donut on Syn Extreme Outliers (mis=0.9) with seed 3109104621\n"
     ]
    },
    {
     "name": "stderr",
     "output_type": "stream",
     "text": [
      "100%|██████████| 1/1 [00:42<00:00, 42.19s/it]\n",
      "100% (7 of 7) |##########################| Elapsed Time: 0:05:25 Time:  0:05:25\n",
      "100% (5 of 5) |##########################| Elapsed Time: 0:28:57 Time:  0:28:57\n"
     ]
    },
    {
     "name": "stdout",
     "output_type": "stream",
     "text": [
      "2018-07-10 17:00:57 [INFO] src.evaluation.evaluator: Store evaluator results at /home/thomas/work/notebooks/data_30/missing-run-7-3109104621-2018-07-10-170057.pkl\n"
     ]
    },
    {
     "name": "stderr",
     "output_type": "stream",
     "text": [
      "N/A% (0 of 7) |                          | Elapsed Time: 0:00:00 ETA:  --:--:--"
     ]
    },
    {
     "name": "stdout",
     "output_type": "stream",
     "text": [
      "2018-07-10 17:00:57 [INFO] src.evaluation.evaluator: Training LSTM-AD on Syn Extreme Outliers (mis=0.0) with seed 468494922\n"
     ]
    },
    {
     "name": "stderr",
     "output_type": "stream",
     "text": [
      "\r",
      "                                                                               \r",
      "\r",
      " 14% (1 of 7) |###                       | Elapsed Time: 0:01:42 ETA:   0:10:13"
     ]
    },
    {
     "name": "stdout",
     "output_type": "stream",
     "text": [
      "2018-07-10 17:02:39 [INFO] src.evaluation.evaluator: Training LSTMED on Syn Extreme Outliers (mis=0.0) with seed 468494922\n"
     ]
    },
    {
     "name": "stderr",
     "output_type": "stream",
     "text": [
      "\r",
      "                                                                               \r",
      "\r",
      " 28% (2 of 7) |#######                   | Elapsed Time: 0:03:19 ETA:   0:08:06"
     ]
    },
    {
     "name": "stdout",
     "output_type": "stream",
     "text": [
      "2018-07-10 17:04:16 [INFO] src.evaluation.evaluator: Training DAGMM_NNAutoEncoder_withoutWindow on Syn Extreme Outliers (mis=0.0) with seed 468494922\n",
      "2018-07-10 17:04:17 [WARNING] root: Determinant was negative! Clipping Eigenvalues to 0+epsilon from -2.2663142473788866e-09\n",
      "2018-07-10 17:04:17 [WARNING] root: Determinant was negative! Clipping Eigenvalues to 0+epsilon from -2.3957027472931713e-09\n",
      "2018-07-10 17:04:17 [WARNING] root: Determinant was negative! Clipping Eigenvalues to 0+epsilon from -2.3505906554532885e-08\n",
      "2018-07-10 17:04:18 [WARNING] root: Determinant was negative! Clipping Eigenvalues to 0+epsilon from -1.0544615847152272e-08\n",
      "2018-07-10 17:04:18 [WARNING] root: Determinant was negative! Clipping Eigenvalues to 0+epsilon from -7.84655469487916e-07\n",
      "2018-07-10 17:04:18 [WARNING] root: Determinant was negative! Clipping Eigenvalues to 0+epsilon from -3.493771600915352e-07\n",
      "2018-07-10 17:04:19 [WARNING] root: Determinant was negative! Clipping Eigenvalues to 0+epsilon from -1.1113318265643102e-08\n",
      "2018-07-10 17:04:19 [ERROR] src.evaluation.evaluator: An exception occurred while training DAGMM_NNAutoEncoder_withoutWindow on Syn Extreme Outliers (mis=0.0): Lapack Error getrf : U(3,3) is 0, U is singular at /pytorch/aten/src/TH/generic/THTensorLapack.c:514\n",
      "2018-07-10 17:04:19 [ERROR] src.evaluation.evaluator: Traceback (most recent call last):\n",
      "  File \"../src/evaluation/evaluator.py\", line 122, in evaluate\n",
      "    det.fit(X_train.copy(), y_train.copy())\n",
      "  File \"../src/algorithms/dagmm.py\", line 203, in fit\n",
      "    self.dagmm_step(input_data.float())\n",
      "  File \"../src/algorithms/dagmm.py\", line 177, in dagmm_step\n",
      "    self.lambda_cov_diag)\n",
      "  File \"../src/algorithms/dagmm.py\", line 144, in loss_function\n",
      "    sample_energy, cov_diag = self.compute_energy(z, phi, mu, cov)\n",
      "  File \"../src/algorithms/dagmm.py\", line 113, in compute_energy\n",
      "    cov_inverse.append(torch.inverse(cov_k).unsqueeze(0))\n",
      "RuntimeError: Lapack Error getrf : U(3,3) is 0, U is singular at /pytorch/aten/src/TH/generic/THTensorLapack.c:514\n",
      "\n"
     ]
    },
    {
     "name": "stderr",
     "output_type": "stream",
     "text": [
      "\r",
      "                                                                               \r",
      "\r",
      " 42% (3 of 7) |###########               | Elapsed Time: 0:03:21 ETA:   0:00:09"
     ]
    },
    {
     "name": "stdout",
     "output_type": "stream",
     "text": [
      "2018-07-10 17:04:19 [INFO] src.evaluation.evaluator: Training DAGMM_NNAutoEncoder_withWindow on Syn Extreme Outliers (mis=0.0) with seed 468494922\n"
     ]
    },
    {
     "name": "stderr",
     "output_type": "stream",
     "text": [
      "\r",
      "                                                                               \r",
      "\r",
      " 57% (4 of 7) |##############            | Elapsed Time: 0:03:25 ETA:   0:00:11"
     ]
    },
    {
     "name": "stdout",
     "output_type": "stream",
     "text": [
      "2018-07-10 17:04:23 [INFO] src.evaluation.evaluator: Training DAGMM_LSTMAutoEncoder_withWindow on Syn Extreme Outliers (mis=0.0) with seed 468494922\n"
     ]
    },
    {
     "name": "stderr",
     "output_type": "stream",
     "text": [
      "\r",
      "                                                                               \r",
      "\r",
      " 71% (5 of 7) |##################        | Elapsed Time: 0:03:56 ETA:   0:01:00"
     ]
    },
    {
     "name": "stdout",
     "output_type": "stream",
     "text": [
      "2018-07-10 17:04:53 [INFO] src.evaluation.evaluator: Training Recurrent EBM on Syn Extreme Outliers (mis=0.0) with seed 468494922\n"
     ]
    },
    {
     "name": "stderr",
     "output_type": "stream",
     "text": [
      "100%|██████████| 15/15 [00:07<00:00,  2.10it/s]\n",
      " 85% (6 of 7) |######################    | Elapsed Time: 0:04:29 ETA:   0:00:33"
     ]
    },
    {
     "name": "stdout",
     "output_type": "stream",
     "text": [
      "2018-07-10 17:05:27 [INFO] src.evaluation.evaluator: Training Donut on Syn Extreme Outliers (mis=0.0) with seed 468494922\n"
     ]
    },
    {
     "name": "stderr",
     "output_type": "stream",
     "text": [
      "\r",
      "  0%|          | 0/1 [00:00<?, ?it/s]"
     ]
    },
    {
     "name": "stdout",
     "output_type": "stream",
     "text": [
      "INFO:tensorflow:Restoring parameters from /tmp/tmpkot3b4c4/variables.dat-1100\n",
      "2018-07-10 17:08:29 [INFO] tensorflow: Restoring parameters from /tmp/tmpkot3b4c4/variables.dat-1100\n"
     ]
    },
    {
     "name": "stderr",
     "output_type": "stream",
     "text": [
      "100%|██████████| 1/1 [03:03<00:00, 183.17s/it]\n",
      "100% (7 of 7) |##########################| Elapsed Time: 0:07:49 Time:  0:07:49\n",
      "N/A% (0 of 7) |                          | Elapsed Time: 0:00:00 ETA:  --:--:--"
     ]
    },
    {
     "name": "stdout",
     "output_type": "stream",
     "text": [
      "2018-07-10 17:08:46 [INFO] src.evaluation.evaluator: Training LSTM-AD on Syn Extreme Outliers (mis=0.225) with seed 468494922\n"
     ]
    },
    {
     "name": "stderr",
     "output_type": "stream",
     "text": [
      "\r",
      "                                                                               \r",
      "\r",
      " 14% (1 of 7) |###                       | Elapsed Time: 0:01:43 ETA:   0:10:23"
     ]
    },
    {
     "name": "stdout",
     "output_type": "stream",
     "text": [
      "2018-07-10 17:10:30 [INFO] src.evaluation.evaluator: Training LSTMED on Syn Extreme Outliers (mis=0.225) with seed 468494922\n"
     ]
    },
    {
     "name": "stderr",
     "output_type": "stream",
     "text": [
      "\r",
      "                                                                               \r",
      "\r",
      " 28% (2 of 7) |#######                   | Elapsed Time: 0:03:21 ETA:   0:08:05"
     ]
    },
    {
     "name": "stdout",
     "output_type": "stream",
     "text": [
      "2018-07-10 17:12:07 [INFO] src.evaluation.evaluator: Training DAGMM_NNAutoEncoder_withoutWindow on Syn Extreme Outliers (mis=0.225) with seed 468494922\n",
      "2018-07-10 17:12:07 [WARNING] root: Determinant was negative! Clipping Eigenvalues to 0+epsilon from -2.0739751960263675e-07\n",
      "2018-07-10 17:12:07 [WARNING] root: Determinant was negative! Clipping Eigenvalues to 0+epsilon from -4.1061960587285284e-07\n",
      "2018-07-10 17:12:07 [WARNING] root: Determinant was negative! Clipping Eigenvalues to 0+epsilon from -3.7604468161589466e-07\n",
      "2018-07-10 17:12:07 [WARNING] root: Determinant was negative! Clipping Eigenvalues to 0+epsilon from -1.0262054317422553e-08\n",
      "2018-07-10 17:12:08 [WARNING] root: Determinant was negative! Clipping Eigenvalues to 0+epsilon from -1.9035022091884457e-07\n",
      "2018-07-10 17:12:08 [WARNING] root: Determinant was negative! Clipping Eigenvalues to 0+epsilon from -3.241580941448774e-07\n",
      "2018-07-10 17:12:08 [WARNING] root: Determinant was negative! Clipping Eigenvalues to 0+epsilon from -1.7548431685554533e-07\n",
      "2018-07-10 17:12:08 [ERROR] src.evaluation.evaluator: An exception occurred while training DAGMM_NNAutoEncoder_withoutWindow on Syn Extreme Outliers (mis=0.225): Lapack Error getrf : U(3,3) is 0, U is singular at /pytorch/aten/src/TH/generic/THTensorLapack.c:514\n",
      "2018-07-10 17:12:08 [ERROR] src.evaluation.evaluator: Traceback (most recent call last):\n",
      "  File \"../src/evaluation/evaluator.py\", line 122, in evaluate\n",
      "    det.fit(X_train.copy(), y_train.copy())\n",
      "  File \"../src/algorithms/dagmm.py\", line 203, in fit\n",
      "    self.dagmm_step(input_data.float())\n",
      "  File \"../src/algorithms/dagmm.py\", line 177, in dagmm_step\n",
      "    self.lambda_cov_diag)\n",
      "  File \"../src/algorithms/dagmm.py\", line 144, in loss_function\n",
      "    sample_energy, cov_diag = self.compute_energy(z, phi, mu, cov)\n",
      "  File \"../src/algorithms/dagmm.py\", line 113, in compute_energy\n",
      "    cov_inverse.append(torch.inverse(cov_k).unsqueeze(0))\n",
      "RuntimeError: Lapack Error getrf : U(3,3) is 0, U is singular at /pytorch/aten/src/TH/generic/THTensorLapack.c:514\n",
      "\n"
     ]
    },
    {
     "name": "stderr",
     "output_type": "stream",
     "text": [
      "\r",
      "                                                                               \r",
      "\r",
      " 42% (3 of 7) |###########               | Elapsed Time: 0:03:21 ETA:   0:03:14"
     ]
    },
    {
     "name": "stdout",
     "output_type": "stream",
     "text": [
      "2018-07-10 17:12:08 [INFO] src.evaluation.evaluator: Training DAGMM_NNAutoEncoder_withWindow on Syn Extreme Outliers (mis=0.225) with seed 468494922\n"
     ]
    },
    {
     "name": "stderr",
     "output_type": "stream",
     "text": [
      "\r",
      "                                                                               \r",
      "\r",
      " 57% (4 of 7) |##############            | Elapsed Time: 0:03:25 ETA:   0:00:11"
     ]
    },
    {
     "name": "stdout",
     "output_type": "stream",
     "text": [
      "2018-07-10 17:12:12 [INFO] src.evaluation.evaluator: Training DAGMM_LSTMAutoEncoder_withWindow on Syn Extreme Outliers (mis=0.225) with seed 468494922\n"
     ]
    },
    {
     "name": "stderr",
     "output_type": "stream",
     "text": [
      "\r",
      "                                                                               \r",
      "\r",
      " 71% (5 of 7) |##################        | Elapsed Time: 0:03:55 ETA:   0:01:00"
     ]
    },
    {
     "name": "stdout",
     "output_type": "stream",
     "text": [
      "2018-07-10 17:12:42 [INFO] src.evaluation.evaluator: Training Recurrent EBM on Syn Extreme Outliers (mis=0.225) with seed 468494922\n"
     ]
    },
    {
     "name": "stderr",
     "output_type": "stream",
     "text": [
      "100%|██████████| 15/15 [00:07<00:00,  2.08it/s]\n",
      " 85% (6 of 7) |######################    | Elapsed Time: 0:04:29 ETA:   0:00:34"
     ]
    },
    {
     "name": "stdout",
     "output_type": "stream",
     "text": [
      "2018-07-10 17:13:16 [INFO] src.evaluation.evaluator: Training Donut on Syn Extreme Outliers (mis=0.225) with seed 468494922\n"
     ]
    },
    {
     "name": "stderr",
     "output_type": "stream",
     "text": [
      "100%|██████████| 1/1 [00:44<00:00, 44.13s/it]\n",
      "100% (7 of 7) |##########################| Elapsed Time: 0:05:30 Time:  0:05:30\n",
      "N/A% (0 of 7) |                          | Elapsed Time: 0:00:00 ETA:  --:--:--"
     ]
    },
    {
     "name": "stdout",
     "output_type": "stream",
     "text": [
      "2018-07-10 17:14:17 [INFO] src.evaluation.evaluator: Training LSTM-AD on Syn Extreme Outliers (mis=0.45) with seed 468494922\n"
     ]
    },
    {
     "name": "stderr",
     "output_type": "stream",
     "text": [
      "\r",
      "                                                                               \r",
      "\r",
      " 14% (1 of 7) |###                       | Elapsed Time: 0:01:42 ETA:   0:10:12"
     ]
    },
    {
     "name": "stdout",
     "output_type": "stream",
     "text": [
      "2018-07-10 17:15:59 [INFO] src.evaluation.evaluator: Training LSTMED on Syn Extreme Outliers (mis=0.45) with seed 468494922\n"
     ]
    },
    {
     "name": "stderr",
     "output_type": "stream",
     "text": [
      "\r",
      "                                                                               \r",
      "\r",
      " 28% (2 of 7) |#######                   | Elapsed Time: 0:03:19 ETA:   0:08:05"
     ]
    },
    {
     "name": "stdout",
     "output_type": "stream",
     "text": [
      "2018-07-10 17:17:36 [INFO] src.evaluation.evaluator: Training DAGMM_NNAutoEncoder_withoutWindow on Syn Extreme Outliers (mis=0.45) with seed 468494922\n",
      "2018-07-10 17:17:36 [WARNING] root: Determinant was negative! Clipping Eigenvalues to 0+epsilon from -1.5180521728552776e-08\n",
      "2018-07-10 17:17:36 [WARNING] root: Determinant was negative! Clipping Eigenvalues to 0+epsilon from -4.993566449229547e-07\n",
      "2018-07-10 17:17:36 [WARNING] root: Determinant was negative! Clipping Eigenvalues to 0+epsilon from -2.614077629914391e-07\n",
      "2018-07-10 17:17:36 [WARNING] root: Determinant was negative! Clipping Eigenvalues to 0+epsilon from -6.198744131324929e-07\n",
      "2018-07-10 17:17:36 [WARNING] root: Determinant was negative! Clipping Eigenvalues to 0+epsilon from -3.3675243571451574e-07\n",
      "2018-07-10 17:17:36 [WARNING] root: Determinant was negative! Clipping Eigenvalues to 0+epsilon from -1.9949386853568285e-07\n",
      "2018-07-10 17:17:36 [ERROR] src.evaluation.evaluator: An exception occurred while training DAGMM_NNAutoEncoder_withoutWindow on Syn Extreme Outliers (mis=0.45): Lapack Error getrf : U(3,3) is 0, U is singular at /pytorch/aten/src/TH/generic/THTensorLapack.c:514\n",
      "2018-07-10 17:17:36 [ERROR] src.evaluation.evaluator: Traceback (most recent call last):\n",
      "  File \"../src/evaluation/evaluator.py\", line 122, in evaluate\n",
      "    det.fit(X_train.copy(), y_train.copy())\n",
      "  File \"../src/algorithms/dagmm.py\", line 203, in fit\n",
      "    self.dagmm_step(input_data.float())\n",
      "  File \"../src/algorithms/dagmm.py\", line 177, in dagmm_step\n",
      "    self.lambda_cov_diag)\n",
      "  File \"../src/algorithms/dagmm.py\", line 144, in loss_function\n",
      "    sample_energy, cov_diag = self.compute_energy(z, phi, mu, cov)\n",
      "  File \"../src/algorithms/dagmm.py\", line 113, in compute_energy\n",
      "    cov_inverse.append(torch.inverse(cov_k).unsqueeze(0))\n",
      "RuntimeError: Lapack Error getrf : U(3,3) is 0, U is singular at /pytorch/aten/src/TH/generic/THTensorLapack.c:514\n",
      "\n"
     ]
    },
    {
     "name": "stderr",
     "output_type": "stream",
     "text": [
      "\r",
      "                                                                               \r",
      "\r",
      " 42% (3 of 7) |###########               | Elapsed Time: 0:03:19 ETA:   0:06:28"
     ]
    },
    {
     "name": "stdout",
     "output_type": "stream",
     "text": [
      "2018-07-10 17:17:36 [INFO] src.evaluation.evaluator: Training DAGMM_NNAutoEncoder_withWindow on Syn Extreme Outliers (mis=0.45) with seed 468494922\n"
     ]
    },
    {
     "name": "stderr",
     "output_type": "stream",
     "text": [
      "\r",
      "                                                                               \r",
      "\r",
      " 57% (4 of 7) |##############            | Elapsed Time: 0:03:23 ETA:   0:00:06"
     ]
    },
    {
     "name": "stdout",
     "output_type": "stream",
     "text": [
      "2018-07-10 17:17:40 [INFO] src.evaluation.evaluator: Training DAGMM_LSTMAutoEncoder_withWindow on Syn Extreme Outliers (mis=0.45) with seed 468494922\n"
     ]
    },
    {
     "name": "stderr",
     "output_type": "stream",
     "text": [
      "\r",
      "                                                                               \r",
      "\r",
      " 71% (5 of 7) |##################        | Elapsed Time: 0:03:53 ETA:   0:01:00"
     ]
    },
    {
     "name": "stdout",
     "output_type": "stream",
     "text": [
      "2018-07-10 17:18:10 [INFO] src.evaluation.evaluator: Training Recurrent EBM on Syn Extreme Outliers (mis=0.45) with seed 468494922\n"
     ]
    },
    {
     "name": "stderr",
     "output_type": "stream",
     "text": [
      "100%|██████████| 15/15 [00:07<00:00,  2.07it/s]\n",
      " 85% (6 of 7) |######################    | Elapsed Time: 0:04:28 ETA:   0:00:34"
     ]
    },
    {
     "name": "stdout",
     "output_type": "stream",
     "text": [
      "2018-07-10 17:18:45 [INFO] src.evaluation.evaluator: Training Donut on Syn Extreme Outliers (mis=0.45) with seed 468494922\n"
     ]
    },
    {
     "name": "stderr",
     "output_type": "stream",
     "text": [
      "100%|██████████| 1/1 [00:45<00:00, 45.45s/it]\n",
      "100% (7 of 7) |##########################| Elapsed Time: 0:05:30 Time:  0:05:30\n",
      "N/A% (0 of 7) |                          | Elapsed Time: 0:00:00 ETA:  --:--:--"
     ]
    },
    {
     "name": "stdout",
     "output_type": "stream",
     "text": [
      "2018-07-10 17:19:48 [INFO] src.evaluation.evaluator: Training LSTM-AD on Syn Extreme Outliers (mis=0.675) with seed 468494922\n"
     ]
    },
    {
     "name": "stderr",
     "output_type": "stream",
     "text": [
      "\r",
      "                                                                               \r",
      "\r",
      " 14% (1 of 7) |###                       | Elapsed Time: 0:01:42 ETA:   0:10:13"
     ]
    },
    {
     "name": "stdout",
     "output_type": "stream",
     "text": [
      "2018-07-10 17:21:30 [INFO] src.evaluation.evaluator: Training LSTMED on Syn Extreme Outliers (mis=0.675) with seed 468494922\n"
     ]
    },
    {
     "name": "stderr",
     "output_type": "stream",
     "text": [
      "\r",
      "                                                                               \r",
      "\r",
      " 28% (2 of 7) |#######                   | Elapsed Time: 0:03:19 ETA:   0:08:05"
     ]
    },
    {
     "name": "stdout",
     "output_type": "stream",
     "text": [
      "2018-07-10 17:23:07 [INFO] src.evaluation.evaluator: Training DAGMM_NNAutoEncoder_withoutWindow on Syn Extreme Outliers (mis=0.675) with seed 468494922\n",
      "2018-07-10 17:23:07 [WARNING] root: Determinant was negative! Clipping Eigenvalues to 0+epsilon from -1.1720251080760136e-07\n",
      "2018-07-10 17:23:07 [WARNING] root: Determinant was negative! Clipping Eigenvalues to 0+epsilon from -9.10171877421817e-07\n",
      "2018-07-10 17:23:07 [WARNING] root: Determinant was negative! Clipping Eigenvalues to 0+epsilon from -3.934482890599611e-07\n",
      "2018-07-10 17:23:07 [WARNING] root: Determinant was negative! Clipping Eigenvalues to 0+epsilon from -1.597590681967631e-07\n",
      "2018-07-10 17:23:07 [ERROR] src.evaluation.evaluator: An exception occurred while training DAGMM_NNAutoEncoder_withoutWindow on Syn Extreme Outliers (mis=0.675): Lapack Error getrf : U(3,3) is 0, U is singular at /pytorch/aten/src/TH/generic/THTensorLapack.c:514\n",
      "2018-07-10 17:23:07 [ERROR] src.evaluation.evaluator: Traceback (most recent call last):\n",
      "  File \"../src/evaluation/evaluator.py\", line 122, in evaluate\n",
      "    det.fit(X_train.copy(), y_train.copy())\n",
      "  File \"../src/algorithms/dagmm.py\", line 203, in fit\n",
      "    self.dagmm_step(input_data.float())\n",
      "  File \"../src/algorithms/dagmm.py\", line 177, in dagmm_step\n",
      "    self.lambda_cov_diag)\n",
      "  File \"../src/algorithms/dagmm.py\", line 144, in loss_function\n",
      "    sample_energy, cov_diag = self.compute_energy(z, phi, mu, cov)\n",
      "  File \"../src/algorithms/dagmm.py\", line 113, in compute_energy\n",
      "    cov_inverse.append(torch.inverse(cov_k).unsqueeze(0))\n",
      "RuntimeError: Lapack Error getrf : U(3,3) is 0, U is singular at /pytorch/aten/src/TH/generic/THTensorLapack.c:514\n",
      "\n"
     ]
    },
    {
     "name": "stderr",
     "output_type": "stream",
     "text": [
      "\r",
      "                                                                               \r",
      "\r",
      " 42% (3 of 7) |###########               | Elapsed Time: 0:03:19 ETA:   0:06:28"
     ]
    },
    {
     "name": "stdout",
     "output_type": "stream",
     "text": [
      "2018-07-10 17:23:07 [INFO] src.evaluation.evaluator: Training DAGMM_NNAutoEncoder_withWindow on Syn Extreme Outliers (mis=0.675) with seed 468494922\n"
     ]
    },
    {
     "name": "stderr",
     "output_type": "stream",
     "text": [
      "\r",
      "                                                                               \r",
      "\r",
      " 57% (4 of 7) |##############            | Elapsed Time: 0:03:23 ETA:   0:00:06"
     ]
    },
    {
     "name": "stdout",
     "output_type": "stream",
     "text": [
      "2018-07-10 17:23:11 [INFO] src.evaluation.evaluator: Training DAGMM_LSTMAutoEncoder_withWindow on Syn Extreme Outliers (mis=0.675) with seed 468494922\n"
     ]
    },
    {
     "name": "stderr",
     "output_type": "stream",
     "text": [
      "\r",
      "                                                                               \r",
      "\r",
      " 71% (5 of 7) |##################        | Elapsed Time: 0:03:53 ETA:   0:01:00"
     ]
    },
    {
     "name": "stdout",
     "output_type": "stream",
     "text": [
      "2018-07-10 17:23:42 [INFO] src.evaluation.evaluator: Training Recurrent EBM on Syn Extreme Outliers (mis=0.675) with seed 468494922\n"
     ]
    },
    {
     "name": "stderr",
     "output_type": "stream",
     "text": [
      "100%|██████████| 15/15 [00:07<00:00,  2.06it/s]\n",
      " 85% (6 of 7) |######################    | Elapsed Time: 0:04:29 ETA:   0:00:35"
     ]
    },
    {
     "name": "stdout",
     "output_type": "stream",
     "text": [
      "2018-07-10 17:24:17 [INFO] src.evaluation.evaluator: Training Donut on Syn Extreme Outliers (mis=0.675) with seed 468494922\n"
     ]
    },
    {
     "name": "stderr",
     "output_type": "stream",
     "text": [
      "100%|██████████| 1/1 [00:46<00:00, 46.35s/it]\n",
      "100% (7 of 7) |##########################| Elapsed Time: 0:05:33 Time:  0:05:33\n",
      "N/A% (0 of 7) |                          | Elapsed Time: 0:00:00 ETA:  --:--:--"
     ]
    },
    {
     "name": "stdout",
     "output_type": "stream",
     "text": [
      "2018-07-10 17:25:21 [INFO] src.evaluation.evaluator: Training LSTM-AD on Syn Extreme Outliers (mis=0.9) with seed 468494922\n"
     ]
    },
    {
     "name": "stderr",
     "output_type": "stream",
     "text": [
      "\r",
      "                                                                               \r",
      "\r",
      " 14% (1 of 7) |###                       | Elapsed Time: 0:01:42 ETA:   0:10:13"
     ]
    },
    {
     "name": "stdout",
     "output_type": "stream",
     "text": [
      "2018-07-10 17:27:03 [INFO] src.evaluation.evaluator: Training LSTMED on Syn Extreme Outliers (mis=0.9) with seed 468494922\n"
     ]
    },
    {
     "name": "stderr",
     "output_type": "stream",
     "text": [
      "\r",
      "                                                                               \r",
      "\r",
      " 28% (2 of 7) |#######                   | Elapsed Time: 0:03:19 ETA:   0:08:07"
     ]
    },
    {
     "name": "stdout",
     "output_type": "stream",
     "text": [
      "2018-07-10 17:28:41 [INFO] src.evaluation.evaluator: Training DAGMM_NNAutoEncoder_withoutWindow on Syn Extreme Outliers (mis=0.9) with seed 468494922\n",
      "2018-07-10 17:28:41 [WARNING] root: Determinant was negative! Clipping Eigenvalues to 0+epsilon from -2.1948983430775115e-07\n",
      "2018-07-10 17:28:41 [WARNING] root: Determinant was negative! Clipping Eigenvalues to 0+epsilon from -3.236258123706648e-07\n",
      "2018-07-10 17:28:41 [WARNING] root: Determinant was negative! Clipping Eigenvalues to 0+epsilon from -8.992225986048652e-08\n",
      "2018-07-10 17:28:41 [WARNING] root: Determinant was negative! Clipping Eigenvalues to 0+epsilon from -2.4058726921794005e-07\n",
      "2018-07-10 17:28:41 [WARNING] root: Determinant was negative! Clipping Eigenvalues to 0+epsilon from -8.496333236962528e-08\n",
      "2018-07-10 17:28:41 [WARNING] root: Determinant was negative! Clipping Eigenvalues to 0+epsilon from -1.06464675297957e-07\n",
      "2018-07-10 17:28:41 [WARNING] root: Determinant was negative! Clipping Eigenvalues to 0+epsilon from -4.075203818842965e-08\n",
      "2018-07-10 17:28:41 [WARNING] root: Determinant was negative! Clipping Eigenvalues to 0+epsilon from -1.791130870287816e-07\n",
      "2018-07-10 17:28:41 [WARNING] root: Determinant was negative! Clipping Eigenvalues to 0+epsilon from -7.158594161893461e-09\n",
      "2018-07-10 17:28:41 [WARNING] root: Determinant was negative! Clipping Eigenvalues to 0+epsilon from -3.757117994496184e-08\n",
      "2018-07-10 17:28:41 [WARNING] root: Determinant was negative! Clipping Eigenvalues to 0+epsilon from -6.286357745466375e-08\n",
      "2018-07-10 17:28:41 [WARNING] root: Determinant was negative! Clipping Eigenvalues to 0+epsilon from -1.0694179763959255e-07\n",
      "2018-07-10 17:28:41 [WARNING] root: Determinant was negative! Clipping Eigenvalues to 0+epsilon from -2.388099744621286e-07\n",
      "2018-07-10 17:28:41 [WARNING] root: Determinant was negative! Clipping Eigenvalues to 0+epsilon from -5.283505402076116e-07\n",
      "2018-07-10 17:28:41 [WARNING] root: Determinant was negative! Clipping Eigenvalues to 0+epsilon from -1.6353354226339434e-07\n",
      "2018-07-10 17:28:41 [WARNING] root: Determinant was negative! Clipping Eigenvalues to 0+epsilon from -1.1022220292034035e-07\n",
      "2018-07-10 17:28:41 [WARNING] root: Determinant was negative! Clipping Eigenvalues to 0+epsilon from -1.834252749688403e-08\n",
      "2018-07-10 17:28:41 [WARNING] root: Determinant was negative! Clipping Eigenvalues to 0+epsilon from -9.53953644966532e-08\n",
      "2018-07-10 17:28:41 [WARNING] root: Determinant was negative! Clipping Eigenvalues to 0+epsilon from -3.202340792540781e-08\n",
      "2018-07-10 17:28:41 [WARNING] root: Determinant was negative! Clipping Eigenvalues to 0+epsilon from -1.0403837080730227e-07\n",
      "2018-07-10 17:28:41 [WARNING] root: Determinant was negative! Clipping Eigenvalues to 0+epsilon from -2.197054413954902e-07\n",
      "2018-07-10 17:28:41 [WARNING] root: Determinant was negative! Clipping Eigenvalues to 0+epsilon from -1.1709629887945994e-07\n",
      "2018-07-10 17:28:41 [WARNING] root: Determinant was negative! Clipping Eigenvalues to 0+epsilon from -4.4680781741135434e-08\n",
      "2018-07-10 17:28:41 [WARNING] root: Determinant was negative! Clipping Eigenvalues to 0+epsilon from -1.0284561824391858e-07\n",
      "2018-07-10 17:28:41 [WARNING] root: Determinant was negative! Clipping Eigenvalues to 0+epsilon from -1.9362403236300452e-07\n",
      "2018-07-10 17:28:41 [WARNING] root: Determinant was negative! Clipping Eigenvalues to 0+epsilon from -1.3160988032723253e-07\n",
      "2018-07-10 17:28:41 [WARNING] root: Determinant was negative! Clipping Eigenvalues to 0+epsilon from -4.534841195891204e-07\n",
      "2018-07-10 17:28:41 [WARNING] root: Determinant was negative! Clipping Eigenvalues to 0+epsilon from -5.5336286663987266e-08\n",
      "2018-07-10 17:28:41 [WARNING] root: Determinant was negative! Clipping Eigenvalues to 0+epsilon from -1.0398574801229188e-07\n",
      "2018-07-10 17:28:41 [WARNING] root: Determinant was negative! Clipping Eigenvalues to 0+epsilon from -2.5683171145374217e-08\n",
      "2018-07-10 17:28:41 [WARNING] root: Determinant was negative! Clipping Eigenvalues to 0+epsilon from -4.0439964266170136e-08\n",
      "2018-07-10 17:28:41 [WARNING] root: Determinant was negative! Clipping Eigenvalues to 0+epsilon from -8.206320671888534e-07\n",
      "2018-07-10 17:28:41 [WARNING] root: Determinant was negative! Clipping Eigenvalues to 0+epsilon from -1.3598250347968133e-07\n",
      "2018-07-10 17:28:41 [WARNING] root: Determinant was negative! Clipping Eigenvalues to 0+epsilon from -2.2238759811443742e-07\n",
      "2018-07-10 17:28:41 [WARNING] root: Determinant was negative! Clipping Eigenvalues to 0+epsilon from -2.0588352356298856e-07\n",
      "2018-07-10 17:28:41 [WARNING] root: Determinant was negative! Clipping Eigenvalues to 0+epsilon from -1.1956633017007334e-08\n",
      "2018-07-10 17:28:41 [ERROR] src.evaluation.evaluator: An exception occurred while training DAGMM_NNAutoEncoder_withoutWindow on Syn Extreme Outliers (mis=0.9): Lapack Error getrf : U(3,3) is 0, U is singular at /pytorch/aten/src/TH/generic/THTensorLapack.c:514\n",
      "2018-07-10 17:28:41 [ERROR] src.evaluation.evaluator: Traceback (most recent call last):\n",
      "  File \"../src/evaluation/evaluator.py\", line 122, in evaluate\n",
      "    det.fit(X_train.copy(), y_train.copy())\n",
      "  File \"../src/algorithms/dagmm.py\", line 203, in fit\n",
      "    self.dagmm_step(input_data.float())\n",
      "  File \"../src/algorithms/dagmm.py\", line 177, in dagmm_step\n",
      "    self.lambda_cov_diag)\n",
      "  File \"../src/algorithms/dagmm.py\", line 144, in loss_function\n",
      "    sample_energy, cov_diag = self.compute_energy(z, phi, mu, cov)\n",
      "  File \"../src/algorithms/dagmm.py\", line 113, in compute_energy\n",
      "    cov_inverse.append(torch.inverse(cov_k).unsqueeze(0))\n",
      "RuntimeError: Lapack Error getrf : U(3,3) is 0, U is singular at /pytorch/aten/src/TH/generic/THTensorLapack.c:514\n",
      "\n"
     ]
    },
    {
     "name": "stderr",
     "output_type": "stream",
     "text": [
      "\r",
      "                                                                               \r",
      "\r",
      " 42% (3 of 7) |###########               | Elapsed Time: 0:03:19 ETA:   0:03:15"
     ]
    },
    {
     "name": "stdout",
     "output_type": "stream",
     "text": [
      "2018-07-10 17:28:41 [INFO] src.evaluation.evaluator: Training DAGMM_NNAutoEncoder_withWindow on Syn Extreme Outliers (mis=0.9) with seed 468494922\n"
     ]
    },
    {
     "name": "stderr",
     "output_type": "stream",
     "text": [
      "\r",
      "                                                                               \r",
      "\r",
      " 57% (4 of 7) |##############            | Elapsed Time: 0:03:23 ETA:   0:00:11"
     ]
    },
    {
     "name": "stdout",
     "output_type": "stream",
     "text": [
      "2018-07-10 17:28:45 [INFO] src.evaluation.evaluator: Training DAGMM_LSTMAutoEncoder_withWindow on Syn Extreme Outliers (mis=0.9) with seed 468494922\n"
     ]
    },
    {
     "name": "stderr",
     "output_type": "stream",
     "text": [
      "\r",
      "                                                                               \r",
      "\r",
      " 71% (5 of 7) |##################        | Elapsed Time: 0:03:54 ETA:   0:01:00"
     ]
    },
    {
     "name": "stdout",
     "output_type": "stream",
     "text": [
      "2018-07-10 17:29:15 [INFO] src.evaluation.evaluator: Training Recurrent EBM on Syn Extreme Outliers (mis=0.9) with seed 468494922\n"
     ]
    },
    {
     "name": "stderr",
     "output_type": "stream",
     "text": [
      "100%|██████████| 15/15 [00:07<00:00,  2.05it/s]\n",
      " 85% (6 of 7) |######################    | Elapsed Time: 0:04:29 ETA:   0:00:35"
     ]
    },
    {
     "name": "stdout",
     "output_type": "stream",
     "text": [
      "2018-07-10 17:29:51 [INFO] src.evaluation.evaluator: Training Donut on Syn Extreme Outliers (mis=0.9) with seed 468494922\n"
     ]
    },
    {
     "name": "stderr",
     "output_type": "stream",
     "text": [
      "100%|██████████| 1/1 [00:47<00:00, 47.48s/it]\n",
      "100% (7 of 7) |##########################| Elapsed Time: 0:05:35 Time:  0:05:35\n",
      "100% (5 of 5) |##########################| Elapsed Time: 0:29:59 Time:  0:29:59\n"
     ]
    },
    {
     "name": "stdout",
     "output_type": "stream",
     "text": [
      "2018-07-10 17:30:59 [INFO] src.evaluation.evaluator: Store evaluator results at /home/thomas/work/notebooks/data_30/missing-run-8-468494922-2018-07-10-173059.pkl\n"
     ]
    },
    {
     "name": "stderr",
     "output_type": "stream",
     "text": [
      "N/A% (0 of 7) |                          | Elapsed Time: 0:00:00 ETA:  --:--:--"
     ]
    },
    {
     "name": "stdout",
     "output_type": "stream",
     "text": [
      "2018-07-10 17:30:59 [INFO] src.evaluation.evaluator: Training LSTM-AD on Syn Extreme Outliers (mis=0.0) with seed 3214522945\n"
     ]
    },
    {
     "name": "stderr",
     "output_type": "stream",
     "text": [
      "\r",
      "                                                                               \r",
      "\r",
      " 14% (1 of 7) |###                       | Elapsed Time: 0:01:42 ETA:   0:10:14"
     ]
    },
    {
     "name": "stdout",
     "output_type": "stream",
     "text": [
      "2018-07-10 17:32:41 [INFO] src.evaluation.evaluator: Training LSTMED on Syn Extreme Outliers (mis=0.0) with seed 3214522945\n"
     ]
    },
    {
     "name": "stderr",
     "output_type": "stream",
     "text": [
      "\r",
      "                                                                               \r",
      "\r",
      " 28% (2 of 7) |#######                   | Elapsed Time: 0:03:19 ETA:   0:08:04"
     ]
    },
    {
     "name": "stdout",
     "output_type": "stream",
     "text": [
      "2018-07-10 17:34:18 [INFO] src.evaluation.evaluator: Training DAGMM_NNAutoEncoder_withoutWindow on Syn Extreme Outliers (mis=0.0) with seed 3214522945\n",
      "2018-07-10 17:34:19 [WARNING] root: Determinant was negative! Clipping Eigenvalues to 0+epsilon from -3.349144295228257e-09\n",
      "2018-07-10 17:34:19 [WARNING] root: Determinant was negative! Clipping Eigenvalues to 0+epsilon from -3.919527813422974e-09\n",
      "2018-07-10 17:34:19 [WARNING] root: Determinant was negative! Clipping Eigenvalues to 0+epsilon from -6.741648661545696e-08\n",
      "2018-07-10 17:34:19 [WARNING] root: Determinant was negative! Clipping Eigenvalues to 0+epsilon from -1.4143404669653137e-08\n",
      "2018-07-10 17:34:19 [WARNING] root: Determinant was negative! Clipping Eigenvalues to 0+epsilon from -7.733373053042669e-08\n",
      "2018-07-10 17:34:20 [WARNING] root: Determinant was negative! Clipping Eigenvalues to 0+epsilon from -2.0628058905458602e-07\n"
     ]
    },
    {
     "name": "stderr",
     "output_type": "stream",
     "text": [
      "\r",
      "                                                                               \r",
      "\r",
      " 42% (3 of 7) |###########               | Elapsed Time: 0:03:23 ETA:   0:00:15"
     ]
    },
    {
     "name": "stdout",
     "output_type": "stream",
     "text": [
      "2018-07-10 17:34:22 [INFO] src.evaluation.evaluator: Training DAGMM_NNAutoEncoder_withWindow on Syn Extreme Outliers (mis=0.0) with seed 3214522945\n"
     ]
    },
    {
     "name": "stderr",
     "output_type": "stream",
     "text": [
      "\r",
      "                                                                               \r",
      "\r",
      " 57% (4 of 7) |##############            | Elapsed Time: 0:03:27 ETA:   0:00:11"
     ]
    },
    {
     "name": "stdout",
     "output_type": "stream",
     "text": [
      "2018-07-10 17:34:26 [INFO] src.evaluation.evaluator: Training DAGMM_LSTMAutoEncoder_withWindow on Syn Extreme Outliers (mis=0.0) with seed 3214522945\n"
     ]
    },
    {
     "name": "stderr",
     "output_type": "stream",
     "text": [
      "\r",
      "                                                                               \r",
      "\r",
      " 71% (5 of 7) |##################        | Elapsed Time: 0:03:57 ETA:   0:01:00"
     ]
    },
    {
     "name": "stdout",
     "output_type": "stream",
     "text": [
      "2018-07-10 17:34:57 [INFO] src.evaluation.evaluator: Training Recurrent EBM on Syn Extreme Outliers (mis=0.0) with seed 3214522945\n"
     ]
    },
    {
     "name": "stderr",
     "output_type": "stream",
     "text": [
      "100%|██████████| 15/15 [00:07<00:00,  2.07it/s]\n",
      " 85% (6 of 7) |######################    | Elapsed Time: 0:04:33 ETA:   0:00:36"
     ]
    },
    {
     "name": "stdout",
     "output_type": "stream",
     "text": [
      "2018-07-10 17:35:33 [INFO] src.evaluation.evaluator: Training Donut on Syn Extreme Outliers (mis=0.0) with seed 3214522945\n"
     ]
    },
    {
     "name": "stderr",
     "output_type": "stream",
     "text": [
      "\r",
      "  0%|          | 0/1 [00:00<?, ?it/s]"
     ]
    },
    {
     "name": "stdout",
     "output_type": "stream",
     "text": [
      "INFO:tensorflow:Restoring parameters from /tmp/tmpm4ydgfxd/variables.dat-900\n",
      "2018-07-10 17:38:41 [INFO] tensorflow: Restoring parameters from /tmp/tmpm4ydgfxd/variables.dat-900\n"
     ]
    },
    {
     "name": "stderr",
     "output_type": "stream",
     "text": [
      "100%|██████████| 1/1 [03:10<00:00, 190.43s/it]\n",
      "100% (7 of 7) |##########################| Elapsed Time: 0:08:04 Time:  0:08:04\n",
      "N/A% (0 of 7) |                          | Elapsed Time: 0:00:00 ETA:  --:--:--"
     ]
    },
    {
     "name": "stdout",
     "output_type": "stream",
     "text": [
      "2018-07-10 17:39:03 [INFO] src.evaluation.evaluator: Training LSTM-AD on Syn Extreme Outliers (mis=0.225) with seed 3214522945\n"
     ]
    },
    {
     "name": "stderr",
     "output_type": "stream",
     "text": [
      "\r",
      "                                                                               \r",
      "\r",
      " 14% (1 of 7) |###                       | Elapsed Time: 0:01:44 ETA:   0:10:27"
     ]
    },
    {
     "name": "stdout",
     "output_type": "stream",
     "text": [
      "2018-07-10 17:40:48 [INFO] src.evaluation.evaluator: Training LSTMED on Syn Extreme Outliers (mis=0.225) with seed 3214522945\n"
     ]
    },
    {
     "name": "stderr",
     "output_type": "stream",
     "text": [
      "\r",
      "                                                                               \r",
      "\r",
      " 28% (2 of 7) |#######                   | Elapsed Time: 0:03:21 ETA:   0:08:06"
     ]
    },
    {
     "name": "stdout",
     "output_type": "stream",
     "text": [
      "2018-07-10 17:42:25 [INFO] src.evaluation.evaluator: Training DAGMM_NNAutoEncoder_withoutWindow on Syn Extreme Outliers (mis=0.225) with seed 3214522945\n",
      "2018-07-10 17:42:25 [WARNING] root: Determinant was negative! Clipping Eigenvalues to 0+epsilon from -3.597992019876983e-07\n",
      "2018-07-10 17:42:25 [WARNING] root: Determinant was negative! Clipping Eigenvalues to 0+epsilon from -1.0372328773655681e-08\n",
      "2018-07-10 17:42:25 [WARNING] root: Determinant was negative! Clipping Eigenvalues to 0+epsilon from -3.153179761739011e-07\n",
      "2018-07-10 17:42:25 [WARNING] root: Determinant was negative! Clipping Eigenvalues to 0+epsilon from -8.670912876596049e-08\n",
      "2018-07-10 17:42:25 [WARNING] root: Determinant was negative! Clipping Eigenvalues to 0+epsilon from -1.773871787236203e-07\n",
      "2018-07-10 17:42:25 [WARNING] root: Determinant was negative! Clipping Eigenvalues to 0+epsilon from -2.883991712110401e-08\n",
      "2018-07-10 17:42:25 [WARNING] root: Determinant was negative! Clipping Eigenvalues to 0+epsilon from -1.950667041228371e-07\n",
      "2018-07-10 17:42:26 [WARNING] root: Determinant was negative! Clipping Eigenvalues to 0+epsilon from -5.8933053992404894e-08\n",
      "2018-07-10 17:42:26 [WARNING] root: Determinant was negative! Clipping Eigenvalues to 0+epsilon from -2.683552224880259e-07\n",
      "2018-07-10 17:42:26 [WARNING] root: Determinant was negative! Clipping Eigenvalues to 0+epsilon from -3.712434875069448e-07\n",
      "2018-07-10 17:42:26 [WARNING] root: Determinant was negative! Clipping Eigenvalues to 0+epsilon from -4.909917379336548e-07\n",
      "2018-07-10 17:42:26 [WARNING] root: Determinant was negative! Clipping Eigenvalues to 0+epsilon from -2.649861983172741e-07\n",
      "2018-07-10 17:42:26 [WARNING] root: Determinant was negative! Clipping Eigenvalues to 0+epsilon from -5.874327371202526e-07\n",
      "2018-07-10 17:42:26 [WARNING] root: Determinant was negative! Clipping Eigenvalues to 0+epsilon from -1.3969238921163196e-07\n",
      "2018-07-10 17:42:26 [ERROR] src.evaluation.evaluator: An exception occurred while training DAGMM_NNAutoEncoder_withoutWindow on Syn Extreme Outliers (mis=0.225): Lapack Error getrf : U(3,3) is 0, U is singular at /pytorch/aten/src/TH/generic/THTensorLapack.c:514\n",
      "2018-07-10 17:42:26 [ERROR] src.evaluation.evaluator: Traceback (most recent call last):\n",
      "  File \"../src/evaluation/evaluator.py\", line 122, in evaluate\n",
      "    det.fit(X_train.copy(), y_train.copy())\n",
      "  File \"../src/algorithms/dagmm.py\", line 203, in fit\n",
      "    self.dagmm_step(input_data.float())\n",
      "  File \"../src/algorithms/dagmm.py\", line 177, in dagmm_step\n",
      "    self.lambda_cov_diag)\n",
      "  File \"../src/algorithms/dagmm.py\", line 144, in loss_function\n",
      "    sample_energy, cov_diag = self.compute_energy(z, phi, mu, cov)\n",
      "  File \"../src/algorithms/dagmm.py\", line 113, in compute_energy\n",
      "    cov_inverse.append(torch.inverse(cov_k).unsqueeze(0))\n",
      "RuntimeError: Lapack Error getrf : U(3,3) is 0, U is singular at /pytorch/aten/src/TH/generic/THTensorLapack.c:514\n",
      "\n"
     ]
    },
    {
     "name": "stderr",
     "output_type": "stream",
     "text": [
      "\r",
      "                                                                               \r",
      "\r",
      " 42% (3 of 7) |###########               | Elapsed Time: 0:03:22 ETA:   0:03:15"
     ]
    },
    {
     "name": "stdout",
     "output_type": "stream",
     "text": [
      "2018-07-10 17:42:26 [INFO] src.evaluation.evaluator: Training DAGMM_NNAutoEncoder_withWindow on Syn Extreme Outliers (mis=0.225) with seed 3214522945\n"
     ]
    },
    {
     "name": "stderr",
     "output_type": "stream",
     "text": [
      "\r",
      "                                                                               \r",
      "\r",
      " 57% (4 of 7) |##############            | Elapsed Time: 0:03:26 ETA:   0:00:11"
     ]
    },
    {
     "name": "stdout",
     "output_type": "stream",
     "text": [
      "2018-07-10 17:42:30 [INFO] src.evaluation.evaluator: Training DAGMM_LSTMAutoEncoder_withWindow on Syn Extreme Outliers (mis=0.225) with seed 3214522945\n"
     ]
    },
    {
     "name": "stderr",
     "output_type": "stream",
     "text": [
      "\r",
      "                                                                               \r",
      "\r",
      " 71% (5 of 7) |##################        | Elapsed Time: 0:03:56 ETA:   0:01:00"
     ]
    },
    {
     "name": "stdout",
     "output_type": "stream",
     "text": [
      "2018-07-10 17:43:00 [INFO] src.evaluation.evaluator: Training Recurrent EBM on Syn Extreme Outliers (mis=0.225) with seed 3214522945\n"
     ]
    },
    {
     "name": "stderr",
     "output_type": "stream",
     "text": [
      "100%|██████████| 15/15 [00:07<00:00,  2.02it/s]\n",
      " 85% (6 of 7) |######################    | Elapsed Time: 0:04:33 ETA:   0:00:37"
     ]
    },
    {
     "name": "stdout",
     "output_type": "stream",
     "text": [
      "2018-07-10 17:43:37 [INFO] src.evaluation.evaluator: Training Donut on Syn Extreme Outliers (mis=0.225) with seed 3214522945\n"
     ]
    },
    {
     "name": "stderr",
     "output_type": "stream",
     "text": [
      "100%|██████████| 1/1 [00:49<00:00, 49.58s/it]\n",
      "100% (7 of 7) |##########################| Elapsed Time: 0:05:42 Time:  0:05:42\n",
      "N/A% (0 of 7) |                          | Elapsed Time: 0:00:00 ETA:  --:--:--"
     ]
    },
    {
     "name": "stdout",
     "output_type": "stream",
     "text": [
      "2018-07-10 17:44:45 [INFO] src.evaluation.evaluator: Training LSTM-AD on Syn Extreme Outliers (mis=0.45) with seed 3214522945\n"
     ]
    },
    {
     "name": "stderr",
     "output_type": "stream",
     "text": [
      "\r",
      "                                                                               \r",
      "\r",
      " 14% (1 of 7) |###                       | Elapsed Time: 0:01:42 ETA:   0:10:12"
     ]
    },
    {
     "name": "stdout",
     "output_type": "stream",
     "text": [
      "2018-07-10 17:46:28 [INFO] src.evaluation.evaluator: Training LSTMED on Syn Extreme Outliers (mis=0.45) with seed 3214522945\n"
     ]
    },
    {
     "name": "stderr",
     "output_type": "stream",
     "text": [
      "\r",
      "                                                                               \r",
      "\r",
      " 28% (2 of 7) |#######                   | Elapsed Time: 0:03:19 ETA:   0:08:06"
     ]
    },
    {
     "name": "stdout",
     "output_type": "stream",
     "text": [
      "2018-07-10 17:48:05 [INFO] src.evaluation.evaluator: Training DAGMM_NNAutoEncoder_withoutWindow on Syn Extreme Outliers (mis=0.45) with seed 3214522945\n",
      "2018-07-10 17:48:05 [WARNING] root: Determinant was negative! Clipping Eigenvalues to 0+epsilon from -1.9928187100504147e-07\n",
      "2018-07-10 17:48:05 [WARNING] root: Determinant was negative! Clipping Eigenvalues to 0+epsilon from -8.639385669084731e-07\n",
      "2018-07-10 17:48:05 [WARNING] root: Determinant was negative! Clipping Eigenvalues to 0+epsilon from -1.7819021991272166e-07\n",
      "2018-07-10 17:48:05 [WARNING] root: Determinant was negative! Clipping Eigenvalues to 0+epsilon from -7.278902813823152e-08\n",
      "2018-07-10 17:48:05 [ERROR] src.evaluation.evaluator: An exception occurred while training DAGMM_NNAutoEncoder_withoutWindow on Syn Extreme Outliers (mis=0.45): Lapack Error getrf : U(3,3) is 0, U is singular at /pytorch/aten/src/TH/generic/THTensorLapack.c:514\n",
      "2018-07-10 17:48:05 [ERROR] src.evaluation.evaluator: Traceback (most recent call last):\n",
      "  File \"../src/evaluation/evaluator.py\", line 122, in evaluate\n",
      "    det.fit(X_train.copy(), y_train.copy())\n",
      "  File \"../src/algorithms/dagmm.py\", line 203, in fit\n",
      "    self.dagmm_step(input_data.float())\n",
      "  File \"../src/algorithms/dagmm.py\", line 177, in dagmm_step\n",
      "    self.lambda_cov_diag)\n",
      "  File \"../src/algorithms/dagmm.py\", line 144, in loss_function\n",
      "    sample_energy, cov_diag = self.compute_energy(z, phi, mu, cov)\n",
      "  File \"../src/algorithms/dagmm.py\", line 113, in compute_energy\n",
      "    cov_inverse.append(torch.inverse(cov_k).unsqueeze(0))\n",
      "RuntimeError: Lapack Error getrf : U(3,3) is 0, U is singular at /pytorch/aten/src/TH/generic/THTensorLapack.c:514\n",
      "\n"
     ]
    },
    {
     "name": "stderr",
     "output_type": "stream",
     "text": [
      "\r",
      "                                                                               \r",
      "\r",
      " 42% (3 of 7) |###########               | Elapsed Time: 0:03:19 ETA:   0:03:15"
     ]
    },
    {
     "name": "stdout",
     "output_type": "stream",
     "text": [
      "2018-07-10 17:48:05 [INFO] src.evaluation.evaluator: Training DAGMM_NNAutoEncoder_withWindow on Syn Extreme Outliers (mis=0.45) with seed 3214522945\n"
     ]
    },
    {
     "name": "stderr",
     "output_type": "stream",
     "text": [
      "\r",
      "                                                                               \r",
      "\r",
      " 57% (4 of 7) |##############            | Elapsed Time: 0:03:23 ETA:   0:00:11"
     ]
    },
    {
     "name": "stdout",
     "output_type": "stream",
     "text": [
      "2018-07-10 17:48:09 [INFO] src.evaluation.evaluator: Training DAGMM_LSTMAutoEncoder_withWindow on Syn Extreme Outliers (mis=0.45) with seed 3214522945\n"
     ]
    },
    {
     "name": "stderr",
     "output_type": "stream",
     "text": [
      "\r",
      "                                                                               \r",
      "\r",
      " 71% (5 of 7) |##################        | Elapsed Time: 0:03:53 ETA:   0:01:00"
     ]
    },
    {
     "name": "stdout",
     "output_type": "stream",
     "text": [
      "2018-07-10 17:48:39 [INFO] src.evaluation.evaluator: Training Recurrent EBM on Syn Extreme Outliers (mis=0.45) with seed 3214522945\n"
     ]
    },
    {
     "name": "stderr",
     "output_type": "stream",
     "text": [
      "100%|██████████| 15/15 [00:07<00:00,  2.04it/s]\n",
      " 85% (6 of 7) |######################    | Elapsed Time: 0:04:31 ETA:   0:00:37"
     ]
    },
    {
     "name": "stdout",
     "output_type": "stream",
     "text": [
      "2018-07-10 17:49:17 [INFO] src.evaluation.evaluator: Training Donut on Syn Extreme Outliers (mis=0.45) with seed 3214522945\n"
     ]
    },
    {
     "name": "stderr",
     "output_type": "stream",
     "text": [
      "100%|██████████| 1/1 [00:50<00:00, 50.92s/it]\n",
      "100% (7 of 7) |##########################| Elapsed Time: 0:05:41 Time:  0:05:41\n",
      "N/A% (0 of 7) |                          | Elapsed Time: 0:00:00 ETA:  --:--:--"
     ]
    },
    {
     "name": "stdout",
     "output_type": "stream",
     "text": [
      "2018-07-10 17:50:27 [INFO] src.evaluation.evaluator: Training LSTM-AD on Syn Extreme Outliers (mis=0.675) with seed 3214522945\n"
     ]
    },
    {
     "name": "stderr",
     "output_type": "stream",
     "text": [
      "\r",
      "                                                                               \r",
      "\r",
      " 14% (1 of 7) |###                       | Elapsed Time: 0:01:42 ETA:   0:10:12"
     ]
    },
    {
     "name": "stdout",
     "output_type": "stream",
     "text": [
      "2018-07-10 17:52:09 [INFO] src.evaluation.evaluator: Training LSTMED on Syn Extreme Outliers (mis=0.675) with seed 3214522945\n"
     ]
    },
    {
     "name": "stderr",
     "output_type": "stream",
     "text": [
      "\r",
      "                                                                               \r",
      "\r",
      " 28% (2 of 7) |#######                   | Elapsed Time: 0:03:19 ETA:   0:08:06"
     ]
    },
    {
     "name": "stdout",
     "output_type": "stream",
     "text": [
      "2018-07-10 17:53:46 [INFO] src.evaluation.evaluator: Training DAGMM_NNAutoEncoder_withoutWindow on Syn Extreme Outliers (mis=0.675) with seed 3214522945\n",
      "2018-07-10 17:53:46 [WARNING] root: Determinant was negative! Clipping Eigenvalues to 0+epsilon from -9.145511370434178e-08\n",
      "2018-07-10 17:53:46 [WARNING] root: Determinant was negative! Clipping Eigenvalues to 0+epsilon from -8.670330942095461e-08\n",
      "2018-07-10 17:53:46 [WARNING] root: Determinant was negative! Clipping Eigenvalues to 0+epsilon from -9.617552620966308e-08\n",
      "2018-07-10 17:53:46 [WARNING] root: Determinant was negative! Clipping Eigenvalues to 0+epsilon from -2.2923796194618262e-08\n",
      "2018-07-10 17:53:46 [ERROR] src.evaluation.evaluator: An exception occurred while training DAGMM_NNAutoEncoder_withoutWindow on Syn Extreme Outliers (mis=0.675): Lapack Error getrf : U(3,3) is 0, U is singular at /pytorch/aten/src/TH/generic/THTensorLapack.c:514\n",
      "2018-07-10 17:53:46 [ERROR] src.evaluation.evaluator: Traceback (most recent call last):\n",
      "  File \"../src/evaluation/evaluator.py\", line 122, in evaluate\n",
      "    det.fit(X_train.copy(), y_train.copy())\n",
      "  File \"../src/algorithms/dagmm.py\", line 203, in fit\n",
      "    self.dagmm_step(input_data.float())\n",
      "  File \"../src/algorithms/dagmm.py\", line 177, in dagmm_step\n",
      "    self.lambda_cov_diag)\n",
      "  File \"../src/algorithms/dagmm.py\", line 144, in loss_function\n",
      "    sample_energy, cov_diag = self.compute_energy(z, phi, mu, cov)\n",
      "  File \"../src/algorithms/dagmm.py\", line 113, in compute_energy\n",
      "    cov_inverse.append(torch.inverse(cov_k).unsqueeze(0))\n",
      "RuntimeError: Lapack Error getrf : U(3,3) is 0, U is singular at /pytorch/aten/src/TH/generic/THTensorLapack.c:514\n",
      "\n"
     ]
    },
    {
     "name": "stderr",
     "output_type": "stream",
     "text": [
      "\r",
      "                                                                               \r",
      "\r",
      " 42% (3 of 7) |###########               | Elapsed Time: 0:03:19 ETA:   0:03:14"
     ]
    },
    {
     "name": "stdout",
     "output_type": "stream",
     "text": [
      "2018-07-10 17:53:46 [INFO] src.evaluation.evaluator: Training DAGMM_NNAutoEncoder_withWindow on Syn Extreme Outliers (mis=0.675) with seed 3214522945\n"
     ]
    },
    {
     "name": "stderr",
     "output_type": "stream",
     "text": [
      "\r",
      "                                                                               \r",
      "\r",
      " 57% (4 of 7) |##############            | Elapsed Time: 0:03:23 ETA:   0:00:11"
     ]
    },
    {
     "name": "stdout",
     "output_type": "stream",
     "text": [
      "2018-07-10 17:53:50 [INFO] src.evaluation.evaluator: Training DAGMM_LSTMAutoEncoder_withWindow on Syn Extreme Outliers (mis=0.675) with seed 3214522945\n"
     ]
    },
    {
     "name": "stderr",
     "output_type": "stream",
     "text": [
      "\r",
      "                                                                               \r",
      "\r",
      " 71% (5 of 7) |##################        | Elapsed Time: 0:03:53 ETA:   0:01:00"
     ]
    },
    {
     "name": "stdout",
     "output_type": "stream",
     "text": [
      "2018-07-10 17:54:20 [INFO] src.evaluation.evaluator: Training Recurrent EBM on Syn Extreme Outliers (mis=0.675) with seed 3214522945\n"
     ]
    },
    {
     "name": "stderr",
     "output_type": "stream",
     "text": [
      "100%|██████████| 15/15 [00:07<00:00,  2.05it/s]\n",
      " 85% (6 of 7) |######################    | Elapsed Time: 0:04:31 ETA:   0:00:37"
     ]
    },
    {
     "name": "stdout",
     "output_type": "stream",
     "text": [
      "2018-07-10 17:54:58 [INFO] src.evaluation.evaluator: Training Donut on Syn Extreme Outliers (mis=0.675) with seed 3214522945\n"
     ]
    },
    {
     "name": "stderr",
     "output_type": "stream",
     "text": [
      "100%|██████████| 1/1 [00:51<00:00, 51.93s/it]\n",
      "100% (7 of 7) |##########################| Elapsed Time: 0:05:43 Time:  0:05:43\n",
      "N/A% (0 of 7) |                          | Elapsed Time: 0:00:00 ETA:  --:--:--"
     ]
    },
    {
     "name": "stdout",
     "output_type": "stream",
     "text": [
      "2018-07-10 17:56:10 [INFO] src.evaluation.evaluator: Training LSTM-AD on Syn Extreme Outliers (mis=0.9) with seed 3214522945\n"
     ]
    },
    {
     "name": "stderr",
     "output_type": "stream",
     "text": [
      "\r",
      "                                                                               \r",
      "\r",
      " 14% (1 of 7) |###                       | Elapsed Time: 0:01:42 ETA:   0:10:14"
     ]
    },
    {
     "name": "stdout",
     "output_type": "stream",
     "text": [
      "2018-07-10 17:57:52 [INFO] src.evaluation.evaluator: Training LSTMED on Syn Extreme Outliers (mis=0.9) with seed 3214522945\n"
     ]
    },
    {
     "name": "stderr",
     "output_type": "stream",
     "text": [
      "\r",
      "                                                                               \r",
      "\r",
      " 28% (2 of 7) |#######                   | Elapsed Time: 0:03:19 ETA:   0:08:05"
     ]
    },
    {
     "name": "stdout",
     "output_type": "stream",
     "text": [
      "2018-07-10 17:59:29 [INFO] src.evaluation.evaluator: Training DAGMM_NNAutoEncoder_withoutWindow on Syn Extreme Outliers (mis=0.9) with seed 3214522945\n",
      "2018-07-10 17:59:29 [WARNING] root: Determinant was negative! Clipping Eigenvalues to 0+epsilon from -1.4632855993568228e-07\n",
      "2018-07-10 17:59:29 [WARNING] root: Determinant was negative! Clipping Eigenvalues to 0+epsilon from -5.2314071297132614e-08\n",
      "2018-07-10 17:59:29 [WARNING] root: Determinant was negative! Clipping Eigenvalues to 0+epsilon from -2.0488570839916065e-08\n",
      "2018-07-10 17:59:29 [WARNING] root: Determinant was negative! Clipping Eigenvalues to 0+epsilon from -1.8495290987630142e-07\n",
      "2018-07-10 17:59:29 [WARNING] root: Determinant was negative! Clipping Eigenvalues to 0+epsilon from -4.1813699169779284e-08\n",
      "2018-07-10 17:59:29 [WARNING] root: Determinant was negative! Clipping Eigenvalues to 0+epsilon from -2.1446754772114218e-07\n",
      "2018-07-10 17:59:29 [WARNING] root: Determinant was negative! Clipping Eigenvalues to 0+epsilon from -2.6658614160623983e-07\n",
      "2018-07-10 17:59:29 [WARNING] root: Determinant was negative! Clipping Eigenvalues to 0+epsilon from -9.848278637036856e-08\n",
      "2018-07-10 17:59:29 [WARNING] root: Determinant was negative! Clipping Eigenvalues to 0+epsilon from -2.3732866338832537e-07\n",
      "2018-07-10 17:59:29 [ERROR] src.evaluation.evaluator: An exception occurred while training DAGMM_NNAutoEncoder_withoutWindow on Syn Extreme Outliers (mis=0.9): Lapack Error getrf : U(3,3) is 0, U is singular at /pytorch/aten/src/TH/generic/THTensorLapack.c:514\n",
      "2018-07-10 17:59:29 [ERROR] src.evaluation.evaluator: Traceback (most recent call last):\n",
      "  File \"../src/evaluation/evaluator.py\", line 122, in evaluate\n",
      "    det.fit(X_train.copy(), y_train.copy())\n",
      "  File \"../src/algorithms/dagmm.py\", line 203, in fit\n",
      "    self.dagmm_step(input_data.float())\n",
      "  File \"../src/algorithms/dagmm.py\", line 177, in dagmm_step\n",
      "    self.lambda_cov_diag)\n",
      "  File \"../src/algorithms/dagmm.py\", line 144, in loss_function\n",
      "    sample_energy, cov_diag = self.compute_energy(z, phi, mu, cov)\n",
      "  File \"../src/algorithms/dagmm.py\", line 113, in compute_energy\n",
      "    cov_inverse.append(torch.inverse(cov_k).unsqueeze(0))\n",
      "RuntimeError: Lapack Error getrf : U(3,3) is 0, U is singular at /pytorch/aten/src/TH/generic/THTensorLapack.c:514\n",
      "\n"
     ]
    },
    {
     "name": "stderr",
     "output_type": "stream",
     "text": [
      "\r",
      "                                                                               \r",
      "\r",
      " 42% (3 of 7) |###########               | Elapsed Time: 0:03:19 ETA:   0:06:28"
     ]
    },
    {
     "name": "stdout",
     "output_type": "stream",
     "text": [
      "2018-07-10 17:59:29 [INFO] src.evaluation.evaluator: Training DAGMM_NNAutoEncoder_withWindow on Syn Extreme Outliers (mis=0.9) with seed 3214522945\n"
     ]
    },
    {
     "name": "stderr",
     "output_type": "stream",
     "text": [
      "\r",
      "                                                                               \r",
      "\r",
      " 57% (4 of 7) |##############            | Elapsed Time: 0:03:23 ETA:   0:00:05"
     ]
    },
    {
     "name": "stdout",
     "output_type": "stream",
     "text": [
      "2018-07-10 17:59:33 [INFO] src.evaluation.evaluator: Training DAGMM_LSTMAutoEncoder_withWindow on Syn Extreme Outliers (mis=0.9) with seed 3214522945\n"
     ]
    },
    {
     "name": "stderr",
     "output_type": "stream",
     "text": [
      "\r",
      "                                                                               \r",
      "\r",
      " 71% (5 of 7) |##################        | Elapsed Time: 0:03:53 ETA:   0:01:00"
     ]
    },
    {
     "name": "stdout",
     "output_type": "stream",
     "text": [
      "2018-07-10 18:00:04 [INFO] src.evaluation.evaluator: Training Recurrent EBM on Syn Extreme Outliers (mis=0.9) with seed 3214522945\n"
     ]
    },
    {
     "name": "stderr",
     "output_type": "stream",
     "text": [
      "100%|██████████| 15/15 [00:07<00:00,  2.04it/s]\n",
      " 85% (6 of 7) |######################    | Elapsed Time: 0:04:32 ETA:   0:00:38"
     ]
    },
    {
     "name": "stdout",
     "output_type": "stream",
     "text": [
      "2018-07-10 18:00:42 [INFO] src.evaluation.evaluator: Training Donut on Syn Extreme Outliers (mis=0.9) with seed 3214522945\n"
     ]
    },
    {
     "name": "stderr",
     "output_type": "stream",
     "text": [
      "100%|██████████| 1/1 [00:52<00:00, 52.86s/it]\n",
      "100% (7 of 7) |##########################| Elapsed Time: 0:05:45 Time:  0:05:45\n",
      "100% (5 of 5) |##########################| Elapsed Time: 0:30:56 Time:  0:30:56\n"
     ]
    },
    {
     "name": "stdout",
     "output_type": "stream",
     "text": [
      "2018-07-10 18:01:58 [INFO] src.evaluation.evaluator: Store evaluator results at /home/thomas/work/notebooks/data_30/missing-run-9-3214522945-2018-07-10-180158.pkl\n"
     ]
    },
    {
     "name": "stderr",
     "output_type": "stream",
     "text": [
      "N/A% (0 of 7) |                          | Elapsed Time: 0:00:00 ETA:  --:--:--"
     ]
    },
    {
     "name": "stdout",
     "output_type": "stream",
     "text": [
      "2018-07-10 18:01:58 [INFO] src.evaluation.evaluator: Training LSTM-AD on Syn Extreme Outliers (mis=0.0) with seed 2334744318\n"
     ]
    },
    {
     "name": "stderr",
     "output_type": "stream",
     "text": [
      "\r",
      "                                                                               \r",
      "\r",
      " 14% (1 of 7) |###                       | Elapsed Time: 0:01:42 ETA:   0:10:15"
     ]
    },
    {
     "name": "stdout",
     "output_type": "stream",
     "text": [
      "2018-07-10 18:03:40 [INFO] src.evaluation.evaluator: Training LSTMED on Syn Extreme Outliers (mis=0.0) with seed 2334744318\n"
     ]
    },
    {
     "name": "stderr",
     "output_type": "stream",
     "text": [
      "\r",
      "                                                                               \r",
      "\r",
      " 28% (2 of 7) |#######                   | Elapsed Time: 0:03:19 ETA:   0:08:06"
     ]
    },
    {
     "name": "stdout",
     "output_type": "stream",
     "text": [
      "2018-07-10 18:05:18 [INFO] src.evaluation.evaluator: Training DAGMM_NNAutoEncoder_withoutWindow on Syn Extreme Outliers (mis=0.0) with seed 2334744318\n",
      "2018-07-10 18:05:18 [ERROR] src.evaluation.evaluator: An exception occurred while training DAGMM_NNAutoEncoder_withoutWindow on Syn Extreme Outliers (mis=0.0): Lapack Error getrf : U(3,3) is 0, U is singular at /pytorch/aten/src/TH/generic/THTensorLapack.c:514\n",
      "2018-07-10 18:05:18 [ERROR] src.evaluation.evaluator: Traceback (most recent call last):\n",
      "  File \"../src/evaluation/evaluator.py\", line 122, in evaluate\n",
      "    det.fit(X_train.copy(), y_train.copy())\n",
      "  File \"../src/algorithms/dagmm.py\", line 203, in fit\n",
      "    self.dagmm_step(input_data.float())\n",
      "  File \"../src/algorithms/dagmm.py\", line 177, in dagmm_step\n",
      "    self.lambda_cov_diag)\n",
      "  File \"../src/algorithms/dagmm.py\", line 144, in loss_function\n",
      "    sample_energy, cov_diag = self.compute_energy(z, phi, mu, cov)\n",
      "  File \"../src/algorithms/dagmm.py\", line 113, in compute_energy\n",
      "    cov_inverse.append(torch.inverse(cov_k).unsqueeze(0))\n",
      "RuntimeError: Lapack Error getrf : U(3,3) is 0, U is singular at /pytorch/aten/src/TH/generic/THTensorLapack.c:514\n",
      "\n"
     ]
    },
    {
     "name": "stderr",
     "output_type": "stream",
     "text": [
      "\r",
      "                                                                               \r",
      "\r",
      " 42% (3 of 7) |###########               | Elapsed Time: 0:03:19 ETA:   0:06:29"
     ]
    },
    {
     "name": "stdout",
     "output_type": "stream",
     "text": [
      "2018-07-10 18:05:18 [INFO] src.evaluation.evaluator: Training DAGMM_NNAutoEncoder_withWindow on Syn Extreme Outliers (mis=0.0) with seed 2334744318\n"
     ]
    },
    {
     "name": "stderr",
     "output_type": "stream",
     "text": [
      "\r",
      "                                                                               \r",
      "\r",
      " 57% (4 of 7) |##############            | Elapsed Time: 0:03:23 ETA:   0:00:06"
     ]
    },
    {
     "name": "stdout",
     "output_type": "stream",
     "text": [
      "2018-07-10 18:05:22 [INFO] src.evaluation.evaluator: Training DAGMM_LSTMAutoEncoder_withWindow on Syn Extreme Outliers (mis=0.0) with seed 2334744318\n"
     ]
    },
    {
     "name": "stderr",
     "output_type": "stream",
     "text": [
      "\r",
      "                                                                               \r",
      "\r",
      " 71% (5 of 7) |##################        | Elapsed Time: 0:03:54 ETA:   0:01:00"
     ]
    },
    {
     "name": "stdout",
     "output_type": "stream",
     "text": [
      "2018-07-10 18:05:52 [INFO] src.evaluation.evaluator: Training Recurrent EBM on Syn Extreme Outliers (mis=0.0) with seed 2334744318\n"
     ]
    },
    {
     "name": "stderr",
     "output_type": "stream",
     "text": [
      "100%|██████████| 15/15 [00:07<00:00,  2.04it/s]\n",
      " 85% (6 of 7) |######################    | Elapsed Time: 0:04:33 ETA:   0:00:39"
     ]
    },
    {
     "name": "stdout",
     "output_type": "stream",
     "text": [
      "2018-07-10 18:06:31 [INFO] src.evaluation.evaluator: Training Donut on Syn Extreme Outliers (mis=0.0) with seed 2334744318\n"
     ]
    },
    {
     "name": "stderr",
     "output_type": "stream",
     "text": [
      "\r",
      "  0%|          | 0/1 [00:00<?, ?it/s]"
     ]
    },
    {
     "name": "stdout",
     "output_type": "stream",
     "text": [
      "INFO:tensorflow:Restoring parameters from /tmp/tmpf8p4d15x/variables.dat-1100\n",
      "2018-07-10 18:10:48 [INFO] tensorflow: Restoring parameters from /tmp/tmpf8p4d15x/variables.dat-1100\n"
     ]
    },
    {
     "name": "stderr",
     "output_type": "stream",
     "text": [
      "100%|██████████| 1/1 [04:19<00:00, 259.37s/it]\n",
      "100% (7 of 7) |##########################| Elapsed Time: 0:09:13 Time:  0:09:13\n",
      "N/A% (0 of 7) |                          | Elapsed Time: 0:00:00 ETA:  --:--:--"
     ]
    },
    {
     "name": "stdout",
     "output_type": "stream",
     "text": [
      "2018-07-10 18:11:12 [INFO] src.evaluation.evaluator: Training LSTM-AD on Syn Extreme Outliers (mis=0.225) with seed 2334744318\n"
     ]
    },
    {
     "name": "stderr",
     "output_type": "stream",
     "text": [
      "\r",
      "                                                                               \r",
      "\r",
      " 14% (1 of 7) |###                       | Elapsed Time: 0:01:44 ETA:   0:10:29"
     ]
    },
    {
     "name": "stdout",
     "output_type": "stream",
     "text": [
      "2018-07-10 18:12:57 [INFO] src.evaluation.evaluator: Training LSTMED on Syn Extreme Outliers (mis=0.225) with seed 2334744318\n"
     ]
    },
    {
     "name": "stderr",
     "output_type": "stream",
     "text": [
      "\r",
      "                                                                               \r",
      "\r",
      " 28% (2 of 7) |#######                   | Elapsed Time: 0:03:22 ETA:   0:08:06"
     ]
    },
    {
     "name": "stdout",
     "output_type": "stream",
     "text": [
      "2018-07-10 18:14:34 [INFO] src.evaluation.evaluator: Training DAGMM_NNAutoEncoder_withoutWindow on Syn Extreme Outliers (mis=0.225) with seed 2334744318\n",
      "2018-07-10 18:14:34 [WARNING] root: Determinant was negative! Clipping Eigenvalues to 0+epsilon from -1.1811373212822218e-07\n",
      "2018-07-10 18:14:34 [WARNING] root: Determinant was negative! Clipping Eigenvalues to 0+epsilon from -5.393732749325864e-07\n",
      "2018-07-10 18:14:34 [WARNING] root: Determinant was negative! Clipping Eigenvalues to 0+epsilon from -4.0079186192087946e-07\n",
      "2018-07-10 18:14:34 [WARNING] root: Determinant was negative! Clipping Eigenvalues to 0+epsilon from -1.3908132245887828e-07\n",
      "2018-07-10 18:14:34 [ERROR] src.evaluation.evaluator: An exception occurred while training DAGMM_NNAutoEncoder_withoutWindow on Syn Extreme Outliers (mis=0.225): Lapack Error getrf : U(3,3) is 0, U is singular at /pytorch/aten/src/TH/generic/THTensorLapack.c:514\n",
      "2018-07-10 18:14:34 [ERROR] src.evaluation.evaluator: Traceback (most recent call last):\n",
      "  File \"../src/evaluation/evaluator.py\", line 122, in evaluate\n",
      "    det.fit(X_train.copy(), y_train.copy())\n",
      "  File \"../src/algorithms/dagmm.py\", line 203, in fit\n",
      "    self.dagmm_step(input_data.float())\n",
      "  File \"../src/algorithms/dagmm.py\", line 177, in dagmm_step\n",
      "    self.lambda_cov_diag)\n",
      "  File \"../src/algorithms/dagmm.py\", line 144, in loss_function\n",
      "    sample_energy, cov_diag = self.compute_energy(z, phi, mu, cov)\n",
      "  File \"../src/algorithms/dagmm.py\", line 113, in compute_energy\n",
      "    cov_inverse.append(torch.inverse(cov_k).unsqueeze(0))\n",
      "RuntimeError: Lapack Error getrf : U(3,3) is 0, U is singular at /pytorch/aten/src/TH/generic/THTensorLapack.c:514\n",
      "\n"
     ]
    },
    {
     "name": "stderr",
     "output_type": "stream",
     "text": [
      "\r",
      "                                                                               \r",
      "\r",
      " 42% (3 of 7) |###########               | Elapsed Time: 0:03:22 ETA:   0:03:15"
     ]
    },
    {
     "name": "stdout",
     "output_type": "stream",
     "text": [
      "2018-07-10 18:14:34 [INFO] src.evaluation.evaluator: Training DAGMM_NNAutoEncoder_withWindow on Syn Extreme Outliers (mis=0.225) with seed 2334744318\n"
     ]
    },
    {
     "name": "stderr",
     "output_type": "stream",
     "text": [
      "\r",
      "                                                                               \r",
      "\r",
      " 57% (4 of 7) |##############            | Elapsed Time: 0:03:26 ETA:   0:00:12"
     ]
    },
    {
     "name": "stdout",
     "output_type": "stream",
     "text": [
      "2018-07-10 18:14:38 [INFO] src.evaluation.evaluator: Training DAGMM_LSTMAutoEncoder_withWindow on Syn Extreme Outliers (mis=0.225) with seed 2334744318\n"
     ]
    },
    {
     "name": "stderr",
     "output_type": "stream",
     "text": [
      "\r",
      "                                                                               \r",
      "\r",
      " 71% (5 of 7) |##################        | Elapsed Time: 0:03:56 ETA:   0:01:00"
     ]
    },
    {
     "name": "stdout",
     "output_type": "stream",
     "text": [
      "2018-07-10 18:15:09 [INFO] src.evaluation.evaluator: Training Recurrent EBM on Syn Extreme Outliers (mis=0.225) with seed 2334744318\n"
     ]
    },
    {
     "name": "stderr",
     "output_type": "stream",
     "text": [
      "100%|██████████| 15/15 [00:07<00:00,  1.95it/s]\n",
      " 85% (6 of 7) |######################    | Elapsed Time: 0:04:37 ETA:   0:00:40"
     ]
    },
    {
     "name": "stdout",
     "output_type": "stream",
     "text": [
      "2018-07-10 18:15:49 [INFO] src.evaluation.evaluator: Training Donut on Syn Extreme Outliers (mis=0.225) with seed 2334744318\n"
     ]
    },
    {
     "name": "stderr",
     "output_type": "stream",
     "text": [
      "100%|██████████| 1/1 [00:55<00:00, 55.83s/it]\n",
      "100% (7 of 7) |##########################| Elapsed Time: 0:05:53 Time:  0:05:53\n",
      "N/A% (0 of 7) |                          | Elapsed Time: 0:00:00 ETA:  --:--:--"
     ]
    },
    {
     "name": "stdout",
     "output_type": "stream",
     "text": [
      "2018-07-10 18:17:06 [INFO] src.evaluation.evaluator: Training LSTM-AD on Syn Extreme Outliers (mis=0.45) with seed 2334744318\n"
     ]
    },
    {
     "name": "stderr",
     "output_type": "stream",
     "text": [
      "\r",
      "                                                                               \r",
      "\r",
      " 14% (1 of 7) |###                       | Elapsed Time: 0:01:41 ETA:   0:10:11"
     ]
    },
    {
     "name": "stdout",
     "output_type": "stream",
     "text": [
      "2018-07-10 18:18:48 [INFO] src.evaluation.evaluator: Training LSTMED on Syn Extreme Outliers (mis=0.45) with seed 2334744318\n"
     ]
    },
    {
     "name": "stderr",
     "output_type": "stream",
     "text": [
      "\r",
      "                                                                               \r",
      "\r",
      " 28% (2 of 7) |#######                   | Elapsed Time: 0:03:19 ETA:   0:08:05"
     ]
    },
    {
     "name": "stdout",
     "output_type": "stream",
     "text": [
      "2018-07-10 18:20:25 [INFO] src.evaluation.evaluator: Training DAGMM_NNAutoEncoder_withoutWindow on Syn Extreme Outliers (mis=0.45) with seed 2334744318\n",
      "2018-07-10 18:20:25 [WARNING] root: Determinant was negative! Clipping Eigenvalues to 0+epsilon from -4.6190308466975694e-07\n",
      "2018-07-10 18:20:25 [ERROR] src.evaluation.evaluator: An exception occurred while training DAGMM_NNAutoEncoder_withoutWindow on Syn Extreme Outliers (mis=0.45): Lapack Error getrf : U(3,3) is 0, U is singular at /pytorch/aten/src/TH/generic/THTensorLapack.c:514\n",
      "2018-07-10 18:20:25 [ERROR] src.evaluation.evaluator: Traceback (most recent call last):\n",
      "  File \"../src/evaluation/evaluator.py\", line 122, in evaluate\n",
      "    det.fit(X_train.copy(), y_train.copy())\n",
      "  File \"../src/algorithms/dagmm.py\", line 203, in fit\n",
      "    self.dagmm_step(input_data.float())\n",
      "  File \"../src/algorithms/dagmm.py\", line 177, in dagmm_step\n",
      "    self.lambda_cov_diag)\n",
      "  File \"../src/algorithms/dagmm.py\", line 144, in loss_function\n",
      "    sample_energy, cov_diag = self.compute_energy(z, phi, mu, cov)\n",
      "  File \"../src/algorithms/dagmm.py\", line 113, in compute_energy\n",
      "    cov_inverse.append(torch.inverse(cov_k).unsqueeze(0))\n",
      "RuntimeError: Lapack Error getrf : U(3,3) is 0, U is singular at /pytorch/aten/src/TH/generic/THTensorLapack.c:514\n",
      "\n",
      "2018-07-10 18:20:25 [INFO] src.evaluation.evaluator: Training DAGMM_NNAutoEncoder_withWindow on Syn Extreme Outliers (mis=0.45) with seed 2334744318\n"
     ]
    },
    {
     "name": "stderr",
     "output_type": "stream",
     "text": [
      "\r",
      "                                                                               \r",
      "\r",
      " 57% (4 of 7) |##############            | Elapsed Time: 0:03:23 ETA:   0:00:05"
     ]
    },
    {
     "name": "stdout",
     "output_type": "stream",
     "text": [
      "2018-07-10 18:20:29 [INFO] src.evaluation.evaluator: Training DAGMM_LSTMAutoEncoder_withWindow on Syn Extreme Outliers (mis=0.45) with seed 2334744318\n"
     ]
    },
    {
     "name": "stderr",
     "output_type": "stream",
     "text": [
      "\r",
      "                                                                               \r",
      "\r",
      " 71% (5 of 7) |##################        | Elapsed Time: 0:03:53 ETA:   0:01:00"
     ]
    },
    {
     "name": "stdout",
     "output_type": "stream",
     "text": [
      "2018-07-10 18:20:59 [INFO] src.evaluation.evaluator: Training Recurrent EBM on Syn Extreme Outliers (mis=0.45) with seed 2334744318\n"
     ]
    },
    {
     "name": "stderr",
     "output_type": "stream",
     "text": [
      "100%|██████████| 15/15 [00:07<00:00,  2.03it/s]\n",
      " 85% (6 of 7) |######################    | Elapsed Time: 0:04:34 ETA:   0:00:40"
     ]
    },
    {
     "name": "stdout",
     "output_type": "stream",
     "text": [
      "2018-07-10 18:21:40 [INFO] src.evaluation.evaluator: Training Donut on Syn Extreme Outliers (mis=0.45) with seed 2334744318\n"
     ]
    },
    {
     "name": "stderr",
     "output_type": "stream",
     "text": [
      "100%|██████████| 1/1 [00:57<00:00, 57.19s/it]\n",
      "100% (7 of 7) |##########################| Elapsed Time: 0:05:52 Time:  0:05:52\n",
      "N/A% (0 of 7) |                          | Elapsed Time: 0:00:00 ETA:  --:--:--"
     ]
    },
    {
     "name": "stdout",
     "output_type": "stream",
     "text": [
      "2018-07-10 18:22:58 [INFO] src.evaluation.evaluator: Training LSTM-AD on Syn Extreme Outliers (mis=0.675) with seed 2334744318\n"
     ]
    },
    {
     "name": "stderr",
     "output_type": "stream",
     "text": [
      "\r",
      "                                                                               \r",
      "\r",
      " 14% (1 of 7) |###                       | Elapsed Time: 0:01:42 ETA:   0:10:12"
     ]
    },
    {
     "name": "stdout",
     "output_type": "stream",
     "text": [
      "2018-07-10 18:24:40 [INFO] src.evaluation.evaluator: Training LSTMED on Syn Extreme Outliers (mis=0.675) with seed 2334744318\n"
     ]
    },
    {
     "name": "stderr",
     "output_type": "stream",
     "text": [
      "\r",
      "                                                                               \r",
      "\r",
      " 28% (2 of 7) |#######                   | Elapsed Time: 0:03:19 ETA:   0:08:06"
     ]
    },
    {
     "name": "stdout",
     "output_type": "stream",
     "text": [
      "2018-07-10 18:26:18 [INFO] src.evaluation.evaluator: Training DAGMM_NNAutoEncoder_withoutWindow on Syn Extreme Outliers (mis=0.675) with seed 2334744318\n",
      "2018-07-10 18:26:18 [WARNING] root: Determinant was negative! Clipping Eigenvalues to 0+epsilon from -4.950710490447818e-07\n",
      "2018-07-10 18:26:18 [WARNING] root: Determinant was negative! Clipping Eigenvalues to 0+epsilon from -3.41575116635795e-07\n",
      "2018-07-10 18:26:18 [WARNING] root: Determinant was negative! Clipping Eigenvalues to 0+epsilon from -9.44084419529645e-08\n",
      "2018-07-10 18:26:18 [WARNING] root: Determinant was negative! Clipping Eigenvalues to 0+epsilon from -1.9703151110661565e-07\n",
      "2018-07-10 18:26:18 [WARNING] root: Determinant was negative! Clipping Eigenvalues to 0+epsilon from -4.6244659301919455e-07\n",
      "2018-07-10 18:26:18 [WARNING] root: Determinant was negative! Clipping Eigenvalues to 0+epsilon from -9.21320292945893e-07\n",
      "2018-07-10 18:26:18 [WARNING] root: Determinant was negative! Clipping Eigenvalues to 0+epsilon from -9.93536346527435e-08\n",
      "2018-07-10 18:26:18 [WARNING] root: Determinant was negative! Clipping Eigenvalues to 0+epsilon from -1.9391629280107736e-07\n",
      "2018-07-10 18:26:18 [WARNING] root: Determinant was negative! Clipping Eigenvalues to 0+epsilon from -4.5971268036737456e-07\n",
      "2018-07-10 18:26:18 [WARNING] root: Determinant was negative! Clipping Eigenvalues to 0+epsilon from -1.5990832480383688e-07\n",
      "2018-07-10 18:26:18 [WARNING] root: Determinant was negative! Clipping Eigenvalues to 0+epsilon from -2.6650960194274376e-07\n",
      "2018-07-10 18:26:18 [WARNING] root: Determinant was negative! Clipping Eigenvalues to 0+epsilon from -7.565648729723762e-08\n",
      "2018-07-10 18:26:18 [WARNING] root: Determinant was negative! Clipping Eigenvalues to 0+epsilon from -8.701042588654673e-07\n",
      "2018-07-10 18:26:18 [WARNING] root: Determinant was negative! Clipping Eigenvalues to 0+epsilon from -1.362341706112602e-08\n",
      "2018-07-10 18:26:18 [ERROR] src.evaluation.evaluator: An exception occurred while training DAGMM_NNAutoEncoder_withoutWindow on Syn Extreme Outliers (mis=0.675): Lapack Error getrf : U(3,3) is 0, U is singular at /pytorch/aten/src/TH/generic/THTensorLapack.c:514\n",
      "2018-07-10 18:26:18 [ERROR] src.evaluation.evaluator: Traceback (most recent call last):\n",
      "  File \"../src/evaluation/evaluator.py\", line 122, in evaluate\n",
      "    det.fit(X_train.copy(), y_train.copy())\n",
      "  File \"../src/algorithms/dagmm.py\", line 203, in fit\n",
      "    self.dagmm_step(input_data.float())\n",
      "  File \"../src/algorithms/dagmm.py\", line 177, in dagmm_step\n",
      "    self.lambda_cov_diag)\n",
      "  File \"../src/algorithms/dagmm.py\", line 144, in loss_function\n",
      "    sample_energy, cov_diag = self.compute_energy(z, phi, mu, cov)\n",
      "  File \"../src/algorithms/dagmm.py\", line 113, in compute_energy\n",
      "    cov_inverse.append(torch.inverse(cov_k).unsqueeze(0))\n",
      "RuntimeError: Lapack Error getrf : U(3,3) is 0, U is singular at /pytorch/aten/src/TH/generic/THTensorLapack.c:514\n",
      "\n"
     ]
    },
    {
     "name": "stderr",
     "output_type": "stream",
     "text": [
      "\r",
      "                                                                               \r",
      "\r",
      " 42% (3 of 7) |###########               | Elapsed Time: 0:03:19 ETA:   0:03:14"
     ]
    },
    {
     "name": "stdout",
     "output_type": "stream",
     "text": [
      "2018-07-10 18:26:18 [INFO] src.evaluation.evaluator: Training DAGMM_NNAutoEncoder_withWindow on Syn Extreme Outliers (mis=0.675) with seed 2334744318\n"
     ]
    },
    {
     "name": "stderr",
     "output_type": "stream",
     "text": [
      "\r",
      "                                                                               \r",
      "\r",
      " 57% (4 of 7) |##############            | Elapsed Time: 0:03:23 ETA:   0:00:11"
     ]
    },
    {
     "name": "stdout",
     "output_type": "stream",
     "text": [
      "2018-07-10 18:26:22 [INFO] src.evaluation.evaluator: Training DAGMM_LSTMAutoEncoder_withWindow on Syn Extreme Outliers (mis=0.675) with seed 2334744318\n"
     ]
    },
    {
     "name": "stderr",
     "output_type": "stream",
     "text": [
      "\r",
      "                                                                               \r",
      "\r",
      " 71% (5 of 7) |##################        | Elapsed Time: 0:03:53 ETA:   0:01:00"
     ]
    },
    {
     "name": "stdout",
     "output_type": "stream",
     "text": [
      "2018-07-10 18:26:52 [INFO] src.evaluation.evaluator: Training Recurrent EBM on Syn Extreme Outliers (mis=0.675) with seed 2334744318\n"
     ]
    },
    {
     "name": "stderr",
     "output_type": "stream",
     "text": [
      "100%|██████████| 15/15 [00:07<00:00,  2.02it/s]\n",
      " 85% (6 of 7) |######################    | Elapsed Time: 0:04:34 ETA:   0:00:40"
     ]
    },
    {
     "name": "stdout",
     "output_type": "stream",
     "text": [
      "2018-07-10 18:27:33 [INFO] src.evaluation.evaluator: Training Donut on Syn Extreme Outliers (mis=0.675) with seed 2334744318\n"
     ]
    },
    {
     "name": "stderr",
     "output_type": "stream",
     "text": [
      "100%|██████████| 1/1 [00:58<00:00, 58.03s/it]\n",
      "100% (7 of 7) |##########################| Elapsed Time: 0:05:54 Time:  0:05:54\n",
      "N/A% (0 of 7) |                          | Elapsed Time: 0:00:00 ETA:  --:--:--"
     ]
    },
    {
     "name": "stdout",
     "output_type": "stream",
     "text": [
      "2018-07-10 18:28:53 [INFO] src.evaluation.evaluator: Training LSTM-AD on Syn Extreme Outliers (mis=0.9) with seed 2334744318\n"
     ]
    },
    {
     "name": "stderr",
     "output_type": "stream",
     "text": [
      "\r",
      "                                                                               \r",
      "\r",
      " 14% (1 of 7) |###                       | Elapsed Time: 0:01:42 ETA:   0:10:14"
     ]
    },
    {
     "name": "stdout",
     "output_type": "stream",
     "text": [
      "2018-07-10 18:30:35 [INFO] src.evaluation.evaluator: Training LSTMED on Syn Extreme Outliers (mis=0.9) with seed 2334744318\n"
     ]
    },
    {
     "name": "stderr",
     "output_type": "stream",
     "text": [
      "\r",
      "                                                                               \r",
      "\r",
      " 28% (2 of 7) |#######                   | Elapsed Time: 0:03:19 ETA:   0:08:05"
     ]
    },
    {
     "name": "stdout",
     "output_type": "stream",
     "text": [
      "2018-07-10 18:32:12 [INFO] src.evaluation.evaluator: Training DAGMM_NNAutoEncoder_withoutWindow on Syn Extreme Outliers (mis=0.9) with seed 2334744318\n",
      "2018-07-10 18:32:12 [WARNING] root: Determinant was negative! Clipping Eigenvalues to 0+epsilon from -6.784401307413646e-08\n",
      "2018-07-10 18:32:12 [WARNING] root: Determinant was negative! Clipping Eigenvalues to 0+epsilon from -4.076972359712272e-08\n",
      "2018-07-10 18:32:12 [WARNING] root: Determinant was negative! Clipping Eigenvalues to 0+epsilon from -1.0396344407581637e-07\n",
      "2018-07-10 18:32:12 [WARNING] root: Determinant was negative! Clipping Eigenvalues to 0+epsilon from -1.0975625031051095e-07\n",
      "2018-07-10 18:32:12 [WARNING] root: Determinant was negative! Clipping Eigenvalues to 0+epsilon from -7.599054185902787e-08\n",
      "2018-07-10 18:32:12 [WARNING] root: Determinant was negative! Clipping Eigenvalues to 0+epsilon from -3.4193647913127734e-09\n",
      "2018-07-10 18:32:12 [WARNING] root: Determinant was negative! Clipping Eigenvalues to 0+epsilon from -5.914464509260142e-07\n",
      "2018-07-10 18:32:12 [WARNING] root: Determinant was negative! Clipping Eigenvalues to 0+epsilon from -8.555533526077852e-08\n",
      "2018-07-10 18:32:12 [WARNING] root: Determinant was negative! Clipping Eigenvalues to 0+epsilon from -5.7264447406168983e-08\n",
      "2018-07-10 18:32:12 [WARNING] root: Determinant was negative! Clipping Eigenvalues to 0+epsilon from -2.7735202579037832e-08\n",
      "2018-07-10 18:32:12 [WARNING] root: Determinant was negative! Clipping Eigenvalues to 0+epsilon from -4.303949197037582e-07\n",
      "2018-07-10 18:32:12 [WARNING] root: Determinant was negative! Clipping Eigenvalues to 0+epsilon from -9.312815052453516e-08\n",
      "2018-07-10 18:32:12 [WARNING] root: Determinant was negative! Clipping Eigenvalues to 0+epsilon from -9.051767335677141e-08\n",
      "2018-07-10 18:32:12 [WARNING] root: Determinant was negative! Clipping Eigenvalues to 0+epsilon from -6.6396124154266545e-09\n",
      "2018-07-10 18:32:12 [ERROR] src.evaluation.evaluator: An exception occurred while training DAGMM_NNAutoEncoder_withoutWindow on Syn Extreme Outliers (mis=0.9): Lapack Error getrf : U(3,3) is 0, U is singular at /pytorch/aten/src/TH/generic/THTensorLapack.c:514\n",
      "2018-07-10 18:32:12 [ERROR] src.evaluation.evaluator: Traceback (most recent call last):\n",
      "  File \"../src/evaluation/evaluator.py\", line 122, in evaluate\n",
      "    det.fit(X_train.copy(), y_train.copy())\n",
      "  File \"../src/algorithms/dagmm.py\", line 203, in fit\n",
      "    self.dagmm_step(input_data.float())\n",
      "  File \"../src/algorithms/dagmm.py\", line 177, in dagmm_step\n",
      "    self.lambda_cov_diag)\n",
      "  File \"../src/algorithms/dagmm.py\", line 144, in loss_function\n",
      "    sample_energy, cov_diag = self.compute_energy(z, phi, mu, cov)\n",
      "  File \"../src/algorithms/dagmm.py\", line 113, in compute_energy\n",
      "    cov_inverse.append(torch.inverse(cov_k).unsqueeze(0))\n",
      "RuntimeError: Lapack Error getrf : U(3,3) is 0, U is singular at /pytorch/aten/src/TH/generic/THTensorLapack.c:514\n",
      "\n"
     ]
    },
    {
     "name": "stderr",
     "output_type": "stream",
     "text": [
      "\r",
      "                                                                               \r",
      "\r",
      " 42% (3 of 7) |###########               | Elapsed Time: 0:03:19 ETA:   0:06:28"
     ]
    },
    {
     "name": "stdout",
     "output_type": "stream",
     "text": [
      "2018-07-10 18:32:12 [INFO] src.evaluation.evaluator: Training DAGMM_NNAutoEncoder_withWindow on Syn Extreme Outliers (mis=0.9) with seed 2334744318\n"
     ]
    },
    {
     "name": "stderr",
     "output_type": "stream",
     "text": [
      "\r",
      "                                                                               \r",
      "\r",
      " 57% (4 of 7) |##############            | Elapsed Time: 0:03:23 ETA:   0:00:06"
     ]
    },
    {
     "name": "stdout",
     "output_type": "stream",
     "text": [
      "2018-07-10 18:32:16 [INFO] src.evaluation.evaluator: Training DAGMM_LSTMAutoEncoder_withWindow on Syn Extreme Outliers (mis=0.9) with seed 2334744318\n"
     ]
    },
    {
     "name": "stderr",
     "output_type": "stream",
     "text": [
      "\r",
      "                                                                               \r",
      "\r",
      " 71% (5 of 7) |##################        | Elapsed Time: 0:03:53 ETA:   0:01:00"
     ]
    },
    {
     "name": "stdout",
     "output_type": "stream",
     "text": [
      "2018-07-10 18:32:46 [INFO] src.evaluation.evaluator: Training Recurrent EBM on Syn Extreme Outliers (mis=0.9) with seed 2334744318\n"
     ]
    },
    {
     "name": "stderr",
     "output_type": "stream",
     "text": [
      "100%|██████████| 15/15 [00:07<00:00,  2.02it/s]\n",
      " 85% (6 of 7) |######################    | Elapsed Time: 0:04:35 ETA:   0:00:41"
     ]
    },
    {
     "name": "stdout",
     "output_type": "stream",
     "text": [
      "2018-07-10 18:33:28 [INFO] src.evaluation.evaluator: Training Donut on Syn Extreme Outliers (mis=0.9) with seed 2334744318\n"
     ]
    },
    {
     "name": "stderr",
     "output_type": "stream",
     "text": [
      "100%|██████████| 1/1 [00:58<00:00, 58.92s/it]\n",
      "100% (7 of 7) |##########################| Elapsed Time: 0:05:56 Time:  0:05:56\n",
      "100% (5 of 5) |##########################| Elapsed Time: 0:32:51 Time:  0:32:51\n"
     ]
    },
    {
     "name": "stdout",
     "output_type": "stream",
     "text": [
      "2018-07-10 18:34:51 [INFO] src.evaluation.evaluator: Store evaluator results at /home/thomas/work/notebooks/data_30/missing-run-10-2334744318-2018-07-10-183451.pkl\n"
     ]
    },
    {
     "name": "stderr",
     "output_type": "stream",
     "text": [
      "N/A% (0 of 7) |                          | Elapsed Time: 0:00:00 ETA:  --:--:--"
     ]
    },
    {
     "name": "stdout",
     "output_type": "stream",
     "text": [
      "2018-07-10 18:34:52 [INFO] src.evaluation.evaluator: Training LSTM-AD on Syn Extreme Outliers (mis=0.0) with seed 731500182\n"
     ]
    },
    {
     "name": "stderr",
     "output_type": "stream",
     "text": [
      "\r",
      "                                                                               \r",
      "\r",
      " 14% (1 of 7) |###                       | Elapsed Time: 0:01:42 ETA:   0:10:14"
     ]
    },
    {
     "name": "stdout",
     "output_type": "stream",
     "text": [
      "2018-07-10 18:36:34 [INFO] src.evaluation.evaluator: Training LSTMED on Syn Extreme Outliers (mis=0.0) with seed 731500182\n"
     ]
    },
    {
     "name": "stderr",
     "output_type": "stream",
     "text": [
      "\r",
      "                                                                               \r",
      "\r",
      " 28% (2 of 7) |#######                   | Elapsed Time: 0:03:19 ETA:   0:08:06"
     ]
    },
    {
     "name": "stdout",
     "output_type": "stream",
     "text": [
      "2018-07-10 18:38:11 [INFO] src.evaluation.evaluator: Training DAGMM_NNAutoEncoder_withoutWindow on Syn Extreme Outliers (mis=0.0) with seed 731500182\n",
      "2018-07-10 18:38:12 [WARNING] root: Determinant was negative! Clipping Eigenvalues to 0+epsilon from -4.019371502295144e-08\n",
      "2018-07-10 18:38:12 [WARNING] root: Determinant was negative! Clipping Eigenvalues to 0+epsilon from -9.826575819715799e-08\n",
      "2018-07-10 18:38:13 [WARNING] root: Determinant was negative! Clipping Eigenvalues to 0+epsilon from -4.6541140363842715e-07\n",
      "2018-07-10 18:38:13 [WARNING] root: Determinant was negative! Clipping Eigenvalues to 0+epsilon from -1.8060805473396613e-07\n",
      "2018-07-10 18:38:13 [WARNING] root: Determinant was negative! Clipping Eigenvalues to 0+epsilon from -1.0446233744687561e-07\n",
      "2018-07-10 18:38:13 [WARNING] root: Determinant was negative! Clipping Eigenvalues to 0+epsilon from -9.453731131259246e-09\n"
     ]
    },
    {
     "name": "stderr",
     "output_type": "stream",
     "text": [
      "\r",
      "                                                                               \r",
      "\r",
      " 42% (3 of 7) |###########               | Elapsed Time: 0:03:23 ETA:   0:00:16"
     ]
    },
    {
     "name": "stdout",
     "output_type": "stream",
     "text": [
      "2018-07-10 18:38:15 [INFO] src.evaluation.evaluator: Training DAGMM_NNAutoEncoder_withWindow on Syn Extreme Outliers (mis=0.0) with seed 731500182\n"
     ]
    },
    {
     "name": "stderr",
     "output_type": "stream",
     "text": [
      "\r",
      "                                                                               \r",
      "\r",
      " 57% (4 of 7) |##############            | Elapsed Time: 0:03:27 ETA:   0:00:11"
     ]
    },
    {
     "name": "stdout",
     "output_type": "stream",
     "text": [
      "2018-07-10 18:38:19 [INFO] src.evaluation.evaluator: Training DAGMM_LSTMAutoEncoder_withWindow on Syn Extreme Outliers (mis=0.0) with seed 731500182\n"
     ]
    },
    {
     "name": "stderr",
     "output_type": "stream",
     "text": [
      "\r",
      "                                                                               \r",
      "\r",
      " 71% (5 of 7) |##################        | Elapsed Time: 0:03:58 ETA:   0:01:00"
     ]
    },
    {
     "name": "stdout",
     "output_type": "stream",
     "text": [
      "2018-07-10 18:38:50 [INFO] src.evaluation.evaluator: Training Recurrent EBM on Syn Extreme Outliers (mis=0.0) with seed 731500182\n"
     ]
    },
    {
     "name": "stderr",
     "output_type": "stream",
     "text": [
      "100%|██████████| 15/15 [00:07<00:00,  2.02it/s]\n",
      " 85% (6 of 7) |######################    | Elapsed Time: 0:04:40 ETA:   0:00:42"
     ]
    },
    {
     "name": "stdout",
     "output_type": "stream",
     "text": [
      "2018-07-10 18:39:32 [INFO] src.evaluation.evaluator: Training Donut on Syn Extreme Outliers (mis=0.0) with seed 731500182\n"
     ]
    },
    {
     "name": "stderr",
     "output_type": "stream",
     "text": [
      "\r",
      "  0%|          | 0/1 [00:00<?, ?it/s]"
     ]
    },
    {
     "name": "stdout",
     "output_type": "stream",
     "text": [
      "INFO:tensorflow:Restoring parameters from /tmp/tmp2k9ulsjv/variables.dat-1000\n",
      "2018-07-10 18:43:30 [INFO] tensorflow: Restoring parameters from /tmp/tmp2k9ulsjv/variables.dat-1000\n"
     ]
    },
    {
     "name": "stderr",
     "output_type": "stream",
     "text": [
      "100%|██████████| 1/1 [04:00<00:00, 240.75s/it]\n",
      "100% (7 of 7) |##########################| Elapsed Time: 0:09:04 Time:  0:09:04\n",
      "N/A% (0 of 7) |                          | Elapsed Time: 0:00:00 ETA:  --:--:--"
     ]
    },
    {
     "name": "stdout",
     "output_type": "stream",
     "text": [
      "2018-07-10 18:43:56 [INFO] src.evaluation.evaluator: Training LSTM-AD on Syn Extreme Outliers (mis=0.225) with seed 731500182\n"
     ]
    },
    {
     "name": "stderr",
     "output_type": "stream",
     "text": [
      "\r",
      "                                                                               \r",
      "\r",
      " 14% (1 of 7) |###                       | Elapsed Time: 0:01:44 ETA:   0:10:29"
     ]
    },
    {
     "name": "stdout",
     "output_type": "stream",
     "text": [
      "2018-07-10 18:45:41 [INFO] src.evaluation.evaluator: Training LSTMED on Syn Extreme Outliers (mis=0.225) with seed 731500182\n"
     ]
    },
    {
     "name": "stderr",
     "output_type": "stream",
     "text": [
      "\r",
      "                                                                               \r",
      "\r",
      " 28% (2 of 7) |#######                   | Elapsed Time: 0:03:21 ETA:   0:08:05"
     ]
    },
    {
     "name": "stdout",
     "output_type": "stream",
     "text": [
      "2018-07-10 18:47:18 [INFO] src.evaluation.evaluator: Training DAGMM_NNAutoEncoder_withoutWindow on Syn Extreme Outliers (mis=0.225) with seed 731500182\n",
      "2018-07-10 18:47:18 [WARNING] root: Determinant was negative! Clipping Eigenvalues to 0+epsilon from -3.0354186719705467e-07\n",
      "2018-07-10 18:47:18 [WARNING] root: Determinant was negative! Clipping Eigenvalues to 0+epsilon from -1.589801854606776e-07\n",
      "2018-07-10 18:47:18 [WARNING] root: Determinant was negative! Clipping Eigenvalues to 0+epsilon from -8.266435713721876e-08\n",
      "2018-07-10 18:47:18 [WARNING] root: Determinant was negative! Clipping Eigenvalues to 0+epsilon from -7.523068745740602e-08\n",
      "2018-07-10 18:47:18 [WARNING] root: Determinant was negative! Clipping Eigenvalues to 0+epsilon from -3.856514751987561e-07\n",
      "2018-07-10 18:47:18 [WARNING] root: Determinant was negative! Clipping Eigenvalues to 0+epsilon from -5.385349481912272e-07\n",
      "2018-07-10 18:47:18 [WARNING] root: Determinant was negative! Clipping Eigenvalues to 0+epsilon from -1.8241973975818837e-07\n",
      "2018-07-10 18:47:18 [WARNING] root: Determinant was negative! Clipping Eigenvalues to 0+epsilon from -1.947342695984844e-07\n",
      "2018-07-10 18:47:18 [WARNING] root: Determinant was negative! Clipping Eigenvalues to 0+epsilon from -1.880094231410112e-07\n",
      "2018-07-10 18:47:18 [WARNING] root: Determinant was negative! Clipping Eigenvalues to 0+epsilon from -1.6511161504695337e-07\n",
      "2018-07-10 18:47:18 [WARNING] root: Determinant was negative! Clipping Eigenvalues to 0+epsilon from -2.5977472617455533e-08\n",
      "2018-07-10 18:47:18 [WARNING] root: Determinant was negative! Clipping Eigenvalues to 0+epsilon from -1.0593504384814878e-07\n",
      "2018-07-10 18:47:18 [WARNING] root: Determinant was negative! Clipping Eigenvalues to 0+epsilon from -3.493569806778396e-07\n",
      "2018-07-10 18:47:19 [WARNING] root: Determinant was negative! Clipping Eigenvalues to 0+epsilon from -3.8261387658167223e-07\n",
      "2018-07-10 18:47:19 [WARNING] root: Determinant was negative! Clipping Eigenvalues to 0+epsilon from -1.6818988868294582e-08\n",
      "2018-07-10 18:47:19 [WARNING] root: Determinant was negative! Clipping Eigenvalues to 0+epsilon from -4.5602038767356134e-07\n",
      "2018-07-10 18:47:19 [WARNING] root: Determinant was negative! Clipping Eigenvalues to 0+epsilon from -8.279094032559442e-08\n",
      "2018-07-10 18:47:19 [WARNING] root: Determinant was negative! Clipping Eigenvalues to 0+epsilon from -3.081381976244302e-07\n",
      "2018-07-10 18:47:19 [WARNING] root: Determinant was negative! Clipping Eigenvalues to 0+epsilon from -4.825454311685462e-07\n",
      "2018-07-10 18:47:19 [WARNING] root: Determinant was negative! Clipping Eigenvalues to 0+epsilon from -1.0004411876707309e-07\n",
      "2018-07-10 18:47:19 [WARNING] root: Determinant was negative! Clipping Eigenvalues to 0+epsilon from -3.0125403327474487e-07\n",
      "2018-07-10 18:47:19 [WARNING] root: Determinant was negative! Clipping Eigenvalues to 0+epsilon from -4.869265808338241e-07\n",
      "2018-07-10 18:47:19 [WARNING] root: Determinant was negative! Clipping Eigenvalues to 0+epsilon from -8.809636398154908e-08\n",
      "2018-07-10 18:47:19 [WARNING] root: Determinant was negative! Clipping Eigenvalues to 0+epsilon from -6.243921291115839e-08\n",
      "2018-07-10 18:47:19 [WARNING] root: Determinant was negative! Clipping Eigenvalues to 0+epsilon from -3.6553507243297645e-07\n",
      "2018-07-10 18:47:19 [WARNING] root: Determinant was negative! Clipping Eigenvalues to 0+epsilon from -3.310506713205541e-07\n",
      "2018-07-10 18:47:19 [WARNING] root: Determinant was negative! Clipping Eigenvalues to 0+epsilon from -1.7409122676781408e-07\n",
      "2018-07-10 18:47:19 [WARNING] root: Determinant was negative! Clipping Eigenvalues to 0+epsilon from -4.252089880196763e-08\n",
      "2018-07-10 18:47:19 [ERROR] src.evaluation.evaluator: An exception occurred while training DAGMM_NNAutoEncoder_withoutWindow on Syn Extreme Outliers (mis=0.225): Lapack Error getrf : U(3,3) is 0, U is singular at /pytorch/aten/src/TH/generic/THTensorLapack.c:514\n",
      "2018-07-10 18:47:19 [ERROR] src.evaluation.evaluator: Traceback (most recent call last):\n",
      "  File \"../src/evaluation/evaluator.py\", line 122, in evaluate\n",
      "    det.fit(X_train.copy(), y_train.copy())\n",
      "  File \"../src/algorithms/dagmm.py\", line 203, in fit\n",
      "    self.dagmm_step(input_data.float())\n",
      "  File \"../src/algorithms/dagmm.py\", line 177, in dagmm_step\n",
      "    self.lambda_cov_diag)\n",
      "  File \"../src/algorithms/dagmm.py\", line 144, in loss_function\n",
      "    sample_energy, cov_diag = self.compute_energy(z, phi, mu, cov)\n",
      "  File \"../src/algorithms/dagmm.py\", line 113, in compute_energy\n",
      "    cov_inverse.append(torch.inverse(cov_k).unsqueeze(0))\n",
      "RuntimeError: Lapack Error getrf : U(3,3) is 0, U is singular at /pytorch/aten/src/TH/generic/THTensorLapack.c:514\n",
      "\n"
     ]
    },
    {
     "name": "stderr",
     "output_type": "stream",
     "text": [
      "\r",
      "                                                                               \r",
      "\r",
      " 42% (3 of 7) |###########               | Elapsed Time: 0:03:22 ETA:   0:03:16"
     ]
    },
    {
     "name": "stdout",
     "output_type": "stream",
     "text": [
      "2018-07-10 18:47:19 [INFO] src.evaluation.evaluator: Training DAGMM_NNAutoEncoder_withWindow on Syn Extreme Outliers (mis=0.225) with seed 731500182\n"
     ]
    },
    {
     "name": "stderr",
     "output_type": "stream",
     "text": [
      "\r",
      "                                                                               \r",
      "\r",
      " 57% (4 of 7) |##############            | Elapsed Time: 0:03:26 ETA:   0:00:11"
     ]
    },
    {
     "name": "stdout",
     "output_type": "stream",
     "text": [
      "2018-07-10 18:47:23 [INFO] src.evaluation.evaluator: Training DAGMM_LSTMAutoEncoder_withWindow on Syn Extreme Outliers (mis=0.225) with seed 731500182\n"
     ]
    },
    {
     "name": "stderr",
     "output_type": "stream",
     "text": [
      "\r",
      "                                                                               \r",
      "\r",
      " 71% (5 of 7) |##################        | Elapsed Time: 0:03:57 ETA:   0:01:00"
     ]
    },
    {
     "name": "stdout",
     "output_type": "stream",
     "text": [
      "2018-07-10 18:47:53 [INFO] src.evaluation.evaluator: Training Recurrent EBM on Syn Extreme Outliers (mis=0.225) with seed 731500182\n"
     ]
    },
    {
     "name": "stderr",
     "output_type": "stream",
     "text": [
      "100%|██████████| 15/15 [00:07<00:00,  1.99it/s]\n",
      " 85% (6 of 7) |######################    | Elapsed Time: 0:04:40 ETA:   0:00:43"
     ]
    },
    {
     "name": "stdout",
     "output_type": "stream",
     "text": [
      "2018-07-10 18:48:36 [INFO] src.evaluation.evaluator: Training Donut on Syn Extreme Outliers (mis=0.225) with seed 731500182\n"
     ]
    },
    {
     "name": "stderr",
     "output_type": "stream",
     "text": [
      "100%|██████████| 1/1 [01:01<00:00, 61.83s/it]\n",
      "100% (7 of 7) |##########################| Elapsed Time: 0:06:05 Time:  0:06:05\n",
      "N/A% (0 of 7) |                          | Elapsed Time: 0:00:00 ETA:  --:--:--"
     ]
    },
    {
     "name": "stdout",
     "output_type": "stream",
     "text": [
      "2018-07-10 18:50:01 [INFO] src.evaluation.evaluator: Training LSTM-AD on Syn Extreme Outliers (mis=0.45) with seed 731500182\n"
     ]
    },
    {
     "name": "stderr",
     "output_type": "stream",
     "text": [
      "\r",
      "                                                                               \r",
      "\r",
      " 14% (1 of 7) |###                       | Elapsed Time: 0:01:42 ETA:   0:10:13"
     ]
    },
    {
     "name": "stdout",
     "output_type": "stream",
     "text": [
      "2018-07-10 18:51:43 [INFO] src.evaluation.evaluator: Training LSTMED on Syn Extreme Outliers (mis=0.45) with seed 731500182\n"
     ]
    },
    {
     "name": "stderr",
     "output_type": "stream",
     "text": [
      "\r",
      "                                                                               \r",
      "\r",
      " 28% (2 of 7) |#######                   | Elapsed Time: 0:03:19 ETA:   0:08:06"
     ]
    },
    {
     "name": "stdout",
     "output_type": "stream",
     "text": [
      "2018-07-10 18:53:21 [INFO] src.evaluation.evaluator: Training DAGMM_NNAutoEncoder_withoutWindow on Syn Extreme Outliers (mis=0.45) with seed 731500182\n",
      "2018-07-10 18:53:21 [WARNING] root: Determinant was negative! Clipping Eigenvalues to 0+epsilon from -7.923496241346584e-07\n",
      "2018-07-10 18:53:21 [WARNING] root: Determinant was negative! Clipping Eigenvalues to 0+epsilon from -1.7745922775702638e-07\n",
      "2018-07-10 18:53:21 [WARNING] root: Determinant was negative! Clipping Eigenvalues to 0+epsilon from -8.892688185824227e-08\n",
      "2018-07-10 18:53:21 [ERROR] src.evaluation.evaluator: An exception occurred while training DAGMM_NNAutoEncoder_withoutWindow on Syn Extreme Outliers (mis=0.45): Lapack Error getrf : U(3,3) is 0, U is singular at /pytorch/aten/src/TH/generic/THTensorLapack.c:514\n",
      "2018-07-10 18:53:21 [ERROR] src.evaluation.evaluator: Traceback (most recent call last):\n",
      "  File \"../src/evaluation/evaluator.py\", line 122, in evaluate\n",
      "    det.fit(X_train.copy(), y_train.copy())\n",
      "  File \"../src/algorithms/dagmm.py\", line 203, in fit\n",
      "    self.dagmm_step(input_data.float())\n",
      "  File \"../src/algorithms/dagmm.py\", line 177, in dagmm_step\n",
      "    self.lambda_cov_diag)\n",
      "  File \"../src/algorithms/dagmm.py\", line 144, in loss_function\n",
      "    sample_energy, cov_diag = self.compute_energy(z, phi, mu, cov)\n",
      "  File \"../src/algorithms/dagmm.py\", line 113, in compute_energy\n",
      "    cov_inverse.append(torch.inverse(cov_k).unsqueeze(0))\n",
      "RuntimeError: Lapack Error getrf : U(3,3) is 0, U is singular at /pytorch/aten/src/TH/generic/THTensorLapack.c:514\n",
      "\n"
     ]
    },
    {
     "name": "stderr",
     "output_type": "stream",
     "text": [
      "\r",
      "                                                                               \r",
      "\r",
      " 42% (3 of 7) |###########               | Elapsed Time: 0:03:19 ETA:   0:06:29"
     ]
    },
    {
     "name": "stdout",
     "output_type": "stream",
     "text": [
      "2018-07-10 18:53:21 [INFO] src.evaluation.evaluator: Training DAGMM_NNAutoEncoder_withWindow on Syn Extreme Outliers (mis=0.45) with seed 731500182\n"
     ]
    },
    {
     "name": "stderr",
     "output_type": "stream",
     "text": [
      "\r",
      "                                                                               \r",
      "\r",
      " 57% (4 of 7) |##############            | Elapsed Time: 0:03:23 ETA:   0:00:06"
     ]
    },
    {
     "name": "stdout",
     "output_type": "stream",
     "text": [
      "2018-07-10 18:53:25 [INFO] src.evaluation.evaluator: Training DAGMM_LSTMAutoEncoder_withWindow on Syn Extreme Outliers (mis=0.45) with seed 731500182\n"
     ]
    },
    {
     "name": "stderr",
     "output_type": "stream",
     "text": [
      "\r",
      "                                                                               \r",
      "\r",
      " 71% (5 of 7) |##################        | Elapsed Time: 0:03:54 ETA:   0:01:00"
     ]
    },
    {
     "name": "stdout",
     "output_type": "stream",
     "text": [
      "2018-07-10 18:53:55 [INFO] src.evaluation.evaluator: Training Recurrent EBM on Syn Extreme Outliers (mis=0.45) with seed 731500182\n"
     ]
    },
    {
     "name": "stderr",
     "output_type": "stream",
     "text": [
      "100%|██████████| 15/15 [00:07<00:00,  1.99it/s]\n",
      " 85% (6 of 7) |######################    | Elapsed Time: 0:04:37 ETA:   0:00:43"
     ]
    },
    {
     "name": "stdout",
     "output_type": "stream",
     "text": [
      "2018-07-10 18:54:39 [INFO] src.evaluation.evaluator: Training Donut on Syn Extreme Outliers (mis=0.45) with seed 731500182\n"
     ]
    },
    {
     "name": "stderr",
     "output_type": "stream",
     "text": [
      "100%|██████████| 1/1 [01:02<00:00, 62.94s/it]\n",
      "100% (7 of 7) |##########################| Elapsed Time: 0:06:03 Time:  0:06:03\n",
      "N/A% (0 of 7) |                          | Elapsed Time: 0:00:00 ETA:  --:--:--"
     ]
    },
    {
     "name": "stdout",
     "output_type": "stream",
     "text": [
      "2018-07-10 18:56:05 [INFO] src.evaluation.evaluator: Training LSTM-AD on Syn Extreme Outliers (mis=0.675) with seed 731500182\n"
     ]
    },
    {
     "name": "stderr",
     "output_type": "stream",
     "text": [
      "\r",
      "                                                                               \r",
      "\r",
      " 14% (1 of 7) |###                       | Elapsed Time: 0:01:42 ETA:   0:10:15"
     ]
    },
    {
     "name": "stdout",
     "output_type": "stream",
     "text": [
      "2018-07-10 18:57:48 [INFO] src.evaluation.evaluator: Training LSTMED on Syn Extreme Outliers (mis=0.675) with seed 731500182\n"
     ]
    },
    {
     "name": "stderr",
     "output_type": "stream",
     "text": [
      "\r",
      "                                                                               \r",
      "\r",
      " 28% (2 of 7) |#######                   | Elapsed Time: 0:03:19 ETA:   0:08:06"
     ]
    },
    {
     "name": "stdout",
     "output_type": "stream",
     "text": [
      "2018-07-10 18:59:25 [INFO] src.evaluation.evaluator: Training DAGMM_NNAutoEncoder_withoutWindow on Syn Extreme Outliers (mis=0.675) with seed 731500182\n",
      "2018-07-10 18:59:25 [WARNING] root: Determinant was negative! Clipping Eigenvalues to 0+epsilon from -3.158791059831856e-07\n",
      "2018-07-10 18:59:25 [WARNING] root: Determinant was negative! Clipping Eigenvalues to 0+epsilon from -4.161710478456371e-07\n",
      "2018-07-10 18:59:25 [WARNING] root: Determinant was negative! Clipping Eigenvalues to 0+epsilon from -1.7354594206153706e-07\n",
      "2018-07-10 18:59:25 [WARNING] root: Determinant was negative! Clipping Eigenvalues to 0+epsilon from -2.514279060505942e-07\n",
      "2018-07-10 18:59:25 [ERROR] src.evaluation.evaluator: An exception occurred while training DAGMM_NNAutoEncoder_withoutWindow on Syn Extreme Outliers (mis=0.675): Lapack Error getrf : U(3,3) is 0, U is singular at /pytorch/aten/src/TH/generic/THTensorLapack.c:514\n",
      "2018-07-10 18:59:25 [ERROR] src.evaluation.evaluator: Traceback (most recent call last):\n",
      "  File \"../src/evaluation/evaluator.py\", line 122, in evaluate\n",
      "    det.fit(X_train.copy(), y_train.copy())\n",
      "  File \"../src/algorithms/dagmm.py\", line 203, in fit\n",
      "    self.dagmm_step(input_data.float())\n",
      "  File \"../src/algorithms/dagmm.py\", line 177, in dagmm_step\n",
      "    self.lambda_cov_diag)\n",
      "  File \"../src/algorithms/dagmm.py\", line 144, in loss_function\n",
      "    sample_energy, cov_diag = self.compute_energy(z, phi, mu, cov)\n",
      "  File \"../src/algorithms/dagmm.py\", line 113, in compute_energy\n",
      "    cov_inverse.append(torch.inverse(cov_k).unsqueeze(0))\n",
      "RuntimeError: Lapack Error getrf : U(3,3) is 0, U is singular at /pytorch/aten/src/TH/generic/THTensorLapack.c:514\n",
      "\n"
     ]
    },
    {
     "name": "stderr",
     "output_type": "stream",
     "text": [
      "\r",
      "                                                                               \r",
      "\r",
      " 42% (3 of 7) |###########               | Elapsed Time: 0:03:19 ETA:   0:06:29"
     ]
    },
    {
     "name": "stdout",
     "output_type": "stream",
     "text": [
      "2018-07-10 18:59:25 [INFO] src.evaluation.evaluator: Training DAGMM_NNAutoEncoder_withWindow on Syn Extreme Outliers (mis=0.675) with seed 731500182\n"
     ]
    },
    {
     "name": "stderr",
     "output_type": "stream",
     "text": [
      "\r",
      "                                                                               \r",
      "\r",
      " 57% (4 of 7) |##############            | Elapsed Time: 0:03:23 ETA:   0:00:06"
     ]
    },
    {
     "name": "stdout",
     "output_type": "stream",
     "text": [
      "2018-07-10 18:59:29 [INFO] src.evaluation.evaluator: Training DAGMM_LSTMAutoEncoder_withWindow on Syn Extreme Outliers (mis=0.675) with seed 731500182\n"
     ]
    },
    {
     "name": "stderr",
     "output_type": "stream",
     "text": [
      "\r",
      "                                                                               \r",
      "\r",
      " 71% (5 of 7) |##################        | Elapsed Time: 0:03:54 ETA:   0:01:01"
     ]
    },
    {
     "name": "stdout",
     "output_type": "stream",
     "text": [
      "2018-07-10 19:00:00 [INFO] src.evaluation.evaluator: Training Recurrent EBM on Syn Extreme Outliers (mis=0.675) with seed 731500182\n"
     ]
    },
    {
     "name": "stderr",
     "output_type": "stream",
     "text": [
      "100%|██████████| 15/15 [00:07<00:00,  1.99it/s]\n",
      " 85% (6 of 7) |######################    | Elapsed Time: 0:04:38 ETA:   0:00:44"
     ]
    },
    {
     "name": "stdout",
     "output_type": "stream",
     "text": [
      "2018-07-10 19:00:44 [INFO] src.evaluation.evaluator: Training Donut on Syn Extreme Outliers (mis=0.675) with seed 731500182\n"
     ]
    },
    {
     "name": "stderr",
     "output_type": "stream",
     "text": [
      "100%|██████████| 1/1 [01:04<00:00, 64.94s/it]\n",
      "100% (7 of 7) |##########################| Elapsed Time: 0:06:07 Time:  0:06:07\n",
      "N/A% (0 of 7) |                          | Elapsed Time: 0:00:00 ETA:  --:--:--"
     ]
    },
    {
     "name": "stdout",
     "output_type": "stream",
     "text": [
      "2018-07-10 19:02:12 [INFO] src.evaluation.evaluator: Training LSTM-AD on Syn Extreme Outliers (mis=0.9) with seed 731500182\n"
     ]
    },
    {
     "name": "stderr",
     "output_type": "stream",
     "text": [
      "\r",
      "                                                                               \r",
      "\r",
      " 14% (1 of 7) |###                       | Elapsed Time: 0:01:42 ETA:   0:10:16"
     ]
    },
    {
     "name": "stdout",
     "output_type": "stream",
     "text": [
      "2018-07-10 19:03:55 [INFO] src.evaluation.evaluator: Training LSTMED on Syn Extreme Outliers (mis=0.9) with seed 731500182\n"
     ]
    },
    {
     "name": "stderr",
     "output_type": "stream",
     "text": [
      "\r",
      "                                                                               \r",
      "\r",
      " 28% (2 of 7) |#######                   | Elapsed Time: 0:03:19 ETA:   0:08:05"
     ]
    },
    {
     "name": "stdout",
     "output_type": "stream",
     "text": [
      "2018-07-10 19:05:32 [INFO] src.evaluation.evaluator: Training DAGMM_NNAutoEncoder_withoutWindow on Syn Extreme Outliers (mis=0.9) with seed 731500182\n",
      "2018-07-10 19:05:32 [WARNING] root: Determinant was negative! Clipping Eigenvalues to 0+epsilon from -2.648270580607459e-08\n",
      "2018-07-10 19:05:32 [WARNING] root: Determinant was negative! Clipping Eigenvalues to 0+epsilon from -5.0275083651740715e-08\n",
      "2018-07-10 19:05:33 [WARNING] root: Determinant was negative! Clipping Eigenvalues to 0+epsilon from -2.5906913947437715e-07\n",
      "2018-07-10 19:05:33 [WARNING] root: Determinant was negative! Clipping Eigenvalues to 0+epsilon from -5.0986809441155856e-08\n",
      "2018-07-10 19:05:33 [WARNING] root: Determinant was negative! Clipping Eigenvalues to 0+epsilon from -4.763307970279129e-07\n",
      "2018-07-10 19:05:33 [WARNING] root: Determinant was negative! Clipping Eigenvalues to 0+epsilon from -1.452414011282599e-07\n",
      "2018-07-10 19:05:33 [WARNING] root: Determinant was negative! Clipping Eigenvalues to 0+epsilon from -1.75753783082655e-07\n",
      "2018-07-10 19:05:33 [WARNING] root: Determinant was negative! Clipping Eigenvalues to 0+epsilon from -2.8678573471552227e-07\n",
      "2018-07-10 19:05:33 [WARNING] root: Determinant was negative! Clipping Eigenvalues to 0+epsilon from -1.864766119297201e-07\n",
      "2018-07-10 19:05:33 [WARNING] root: Determinant was negative! Clipping Eigenvalues to 0+epsilon from -1.2627920931151948e-08\n",
      "2018-07-10 19:05:33 [WARNING] root: Determinant was negative! Clipping Eigenvalues to 0+epsilon from -2.7196902507853338e-08\n",
      "2018-07-10 19:05:33 [WARNING] root: Determinant was negative! Clipping Eigenvalues to 0+epsilon from -1.0590468235704975e-07\n",
      "2018-07-10 19:05:33 [WARNING] root: Determinant was negative! Clipping Eigenvalues to 0+epsilon from -1.217043177348387e-07\n",
      "2018-07-10 19:05:33 [WARNING] root: Determinant was negative! Clipping Eigenvalues to 0+epsilon from -7.740950280776815e-08\n",
      "2018-07-10 19:05:33 [WARNING] root: Determinant was negative! Clipping Eigenvalues to 0+epsilon from -4.424828148330562e-08\n",
      "2018-07-10 19:05:33 [WARNING] root: Determinant was negative! Clipping Eigenvalues to 0+epsilon from -4.1942776363157463e-08\n",
      "2018-07-10 19:05:33 [WARNING] root: Determinant was negative! Clipping Eigenvalues to 0+epsilon from -1.0057975714516942e-06\n",
      "2018-07-10 19:05:33 [WARNING] root: Determinant was negative! Clipping Eigenvalues to 0+epsilon from -5.953218078502687e-07\n",
      "2018-07-10 19:05:33 [WARNING] root: Determinant was negative! Clipping Eigenvalues to 0+epsilon from -2.4258690700662555e-07\n",
      "2018-07-10 19:05:33 [WARNING] root: Determinant was negative! Clipping Eigenvalues to 0+epsilon from -5.6906742429418955e-08\n",
      "2018-07-10 19:05:33 [WARNING] root: Determinant was negative! Clipping Eigenvalues to 0+epsilon from -1.57754271867816e-08\n",
      "2018-07-10 19:05:33 [WARNING] root: Determinant was negative! Clipping Eigenvalues to 0+epsilon from -2.9593273609407333e-08\n",
      "2018-07-10 19:05:33 [WARNING] root: Determinant was negative! Clipping Eigenvalues to 0+epsilon from -3.4146047767080745e-08\n",
      "2018-07-10 19:05:33 [WARNING] root: Determinant was negative! Clipping Eigenvalues to 0+epsilon from -1.2899592150006356e-07\n",
      "2018-07-10 19:05:33 [WARNING] root: Determinant was negative! Clipping Eigenvalues to 0+epsilon from -5.139840997259171e-09\n",
      "2018-07-10 19:05:33 [WARNING] root: Determinant was negative! Clipping Eigenvalues to 0+epsilon from -1.540824854373568e-07\n",
      "2018-07-10 19:05:33 [WARNING] root: Determinant was negative! Clipping Eigenvalues to 0+epsilon from -3.85658864843208e-07\n",
      "2018-07-10 19:05:33 [WARNING] root: Determinant was negative! Clipping Eigenvalues to 0+epsilon from -2.5575928930265945e-07\n",
      "2018-07-10 19:05:33 [WARNING] root: Determinant was negative! Clipping Eigenvalues to 0+epsilon from -3.621208222170935e-08\n",
      "2018-07-10 19:05:33 [WARNING] root: Determinant was negative! Clipping Eigenvalues to 0+epsilon from -5.4580162611728156e-08\n",
      "2018-07-10 19:05:33 [WARNING] root: Determinant was negative! Clipping Eigenvalues to 0+epsilon from -4.5550785365833235e-10\n",
      "2018-07-10 19:05:33 [WARNING] root: Determinant was negative! Clipping Eigenvalues to 0+epsilon from -7.401243173887906e-09\n",
      "2018-07-10 19:05:33 [WARNING] root: Determinant was negative! Clipping Eigenvalues to 0+epsilon from -3.223913438432646e-07\n",
      "2018-07-10 19:05:33 [WARNING] root: Determinant was negative! Clipping Eigenvalues to 0+epsilon from -4.4795285703003174e-07\n",
      "2018-07-10 19:05:33 [WARNING] root: Determinant was negative! Clipping Eigenvalues to 0+epsilon from -2.18288747078077e-07\n",
      "2018-07-10 19:05:33 [ERROR] src.evaluation.evaluator: An exception occurred while training DAGMM_NNAutoEncoder_withoutWindow on Syn Extreme Outliers (mis=0.9): Lapack Error getrf : U(3,3) is 0, U is singular at /pytorch/aten/src/TH/generic/THTensorLapack.c:514\n",
      "2018-07-10 19:05:33 [ERROR] src.evaluation.evaluator: Traceback (most recent call last):\n",
      "  File \"../src/evaluation/evaluator.py\", line 122, in evaluate\n",
      "    det.fit(X_train.copy(), y_train.copy())\n",
      "  File \"../src/algorithms/dagmm.py\", line 203, in fit\n",
      "    self.dagmm_step(input_data.float())\n",
      "  File \"../src/algorithms/dagmm.py\", line 177, in dagmm_step\n",
      "    self.lambda_cov_diag)\n",
      "  File \"../src/algorithms/dagmm.py\", line 144, in loss_function\n",
      "    sample_energy, cov_diag = self.compute_energy(z, phi, mu, cov)\n",
      "  File \"../src/algorithms/dagmm.py\", line 113, in compute_energy\n",
      "    cov_inverse.append(torch.inverse(cov_k).unsqueeze(0))\n",
      "RuntimeError: Lapack Error getrf : U(3,3) is 0, U is singular at /pytorch/aten/src/TH/generic/THTensorLapack.c:514\n",
      "\n"
     ]
    },
    {
     "name": "stderr",
     "output_type": "stream",
     "text": [
      "\r",
      "                                                                               \r",
      "\r",
      " 42% (3 of 7) |###########               | Elapsed Time: 0:03:20 ETA:   0:03:14"
     ]
    },
    {
     "name": "stdout",
     "output_type": "stream",
     "text": [
      "2018-07-10 19:05:33 [INFO] src.evaluation.evaluator: Training DAGMM_NNAutoEncoder_withWindow on Syn Extreme Outliers (mis=0.9) with seed 731500182\n"
     ]
    },
    {
     "name": "stderr",
     "output_type": "stream",
     "text": [
      "\r",
      "                                                                               \r",
      "\r",
      " 57% (4 of 7) |##############            | Elapsed Time: 0:03:24 ETA:   0:00:11"
     ]
    },
    {
     "name": "stdout",
     "output_type": "stream",
     "text": [
      "2018-07-10 19:05:37 [INFO] src.evaluation.evaluator: Training DAGMM_LSTMAutoEncoder_withWindow on Syn Extreme Outliers (mis=0.9) with seed 731500182\n"
     ]
    },
    {
     "name": "stderr",
     "output_type": "stream",
     "text": [
      "\r",
      "                                                                               \r",
      "\r",
      " 71% (5 of 7) |##################        | Elapsed Time: 0:03:54 ETA:   0:01:00"
     ]
    },
    {
     "name": "stdout",
     "output_type": "stream",
     "text": [
      "2018-07-10 19:06:07 [INFO] src.evaluation.evaluator: Training Recurrent EBM on Syn Extreme Outliers (mis=0.9) with seed 731500182\n"
     ]
    },
    {
     "name": "stderr",
     "output_type": "stream",
     "text": [
      "100%|██████████| 15/15 [00:07<00:00,  2.00it/s]\n",
      " 85% (6 of 7) |######################    | Elapsed Time: 0:04:39 ETA:   0:00:44"
     ]
    },
    {
     "name": "stdout",
     "output_type": "stream",
     "text": [
      "2018-07-10 19:06:52 [INFO] src.evaluation.evaluator: Training Donut on Syn Extreme Outliers (mis=0.9) with seed 731500182\n"
     ]
    },
    {
     "name": "stderr",
     "output_type": "stream",
     "text": [
      "100%|██████████| 1/1 [01:06<00:00, 66.19s/it]\n",
      "100% (7 of 7) |##########################| Elapsed Time: 0:06:09 Time:  0:06:09\n",
      "100% (5 of 5) |##########################| Elapsed Time: 0:33:30 Time:  0:33:30\n"
     ]
    },
    {
     "name": "stdout",
     "output_type": "stream",
     "text": [
      "2018-07-10 19:08:25 [INFO] src.evaluation.evaluator: Store evaluator results at /home/thomas/work/notebooks/data_30/missing-run-11-731500182-2018-07-10-190825.pkl\n"
     ]
    },
    {
     "name": "stderr",
     "output_type": "stream",
     "text": [
      "N/A% (0 of 7) |                          | Elapsed Time: 0:00:00 ETA:  --:--:--"
     ]
    },
    {
     "name": "stdout",
     "output_type": "stream",
     "text": [
      "2018-07-10 19:08:25 [INFO] src.evaluation.evaluator: Training LSTM-AD on Syn Extreme Outliers (mis=0.0) with seed 1014951156\n"
     ]
    },
    {
     "name": "stderr",
     "output_type": "stream",
     "text": [
      "\r",
      "                                                                               \r",
      "\r",
      " 14% (1 of 7) |###                       | Elapsed Time: 0:01:42 ETA:   0:10:15"
     ]
    },
    {
     "name": "stdout",
     "output_type": "stream",
     "text": [
      "2018-07-10 19:10:08 [INFO] src.evaluation.evaluator: Training LSTMED on Syn Extreme Outliers (mis=0.0) with seed 1014951156\n"
     ]
    },
    {
     "name": "stderr",
     "output_type": "stream",
     "text": [
      "\r",
      "                                                                               \r",
      "\r",
      " 28% (2 of 7) |#######                   | Elapsed Time: 0:03:20 ETA:   0:08:07"
     ]
    },
    {
     "name": "stdout",
     "output_type": "stream",
     "text": [
      "2018-07-10 19:11:45 [INFO] src.evaluation.evaluator: Training DAGMM_NNAutoEncoder_withoutWindow on Syn Extreme Outliers (mis=0.0) with seed 1014951156\n",
      "2018-07-10 19:11:46 [WARNING] root: Determinant was negative! Clipping Eigenvalues to 0+epsilon from -1.0776583536653561e-07\n",
      "2018-07-10 19:11:46 [WARNING] root: Determinant was negative! Clipping Eigenvalues to 0+epsilon from -9.165358960672165e-08\n"
     ]
    },
    {
     "name": "stderr",
     "output_type": "stream",
     "text": [
      "\r",
      "                                                                               \r",
      "\r",
      " 42% (3 of 7) |###########               | Elapsed Time: 0:03:24 ETA:   0:00:15"
     ]
    },
    {
     "name": "stdout",
     "output_type": "stream",
     "text": [
      "2018-07-10 19:11:49 [INFO] src.evaluation.evaluator: Training DAGMM_NNAutoEncoder_withWindow on Syn Extreme Outliers (mis=0.0) with seed 1014951156\n"
     ]
    },
    {
     "name": "stderr",
     "output_type": "stream",
     "text": [
      "\r",
      "                                                                               \r",
      "\r",
      " 57% (4 of 7) |##############            | Elapsed Time: 0:03:28 ETA:   0:00:11"
     ]
    },
    {
     "name": "stdout",
     "output_type": "stream",
     "text": [
      "2018-07-10 19:11:53 [INFO] src.evaluation.evaluator: Training DAGMM_LSTMAutoEncoder_withWindow on Syn Extreme Outliers (mis=0.0) with seed 1014951156\n"
     ]
    },
    {
     "name": "stderr",
     "output_type": "stream",
     "text": [
      "\r",
      "                                                                               \r",
      "\r",
      " 71% (5 of 7) |##################        | Elapsed Time: 0:03:58 ETA:   0:01:00"
     ]
    },
    {
     "name": "stdout",
     "output_type": "stream",
     "text": [
      "2018-07-10 19:12:24 [INFO] src.evaluation.evaluator: Training Recurrent EBM on Syn Extreme Outliers (mis=0.0) with seed 1014951156\n"
     ]
    },
    {
     "name": "stderr",
     "output_type": "stream",
     "text": [
      "100%|██████████| 15/15 [00:07<00:00,  1.99it/s]\n",
      " 85% (6 of 7) |######################    | Elapsed Time: 0:04:43 ETA:   0:00:45"
     ]
    },
    {
     "name": "stdout",
     "output_type": "stream",
     "text": [
      "2018-07-10 19:13:09 [INFO] src.evaluation.evaluator: Training Donut on Syn Extreme Outliers (mis=0.0) with seed 1014951156\n"
     ]
    },
    {
     "name": "stderr",
     "output_type": "stream",
     "text": [
      "\r",
      "  0%|          | 0/1 [00:00<?, ?it/s]"
     ]
    },
    {
     "name": "stdout",
     "output_type": "stream",
     "text": [
      "INFO:tensorflow:Restoring parameters from /tmp/tmpa1aoyve5/variables.dat-1100\n",
      "2018-07-10 19:17:41 [INFO] tensorflow: Restoring parameters from /tmp/tmpa1aoyve5/variables.dat-1100\n"
     ]
    },
    {
     "name": "stderr",
     "output_type": "stream",
     "text": [
      "100%|██████████| 1/1 [04:44<00:00, 284.06s/it]\n",
      "100% (7 of 7) |##########################| Elapsed Time: 0:09:53 Time:  0:09:53\n",
      "N/A% (0 of 7) |                          | Elapsed Time: 0:00:00 ETA:  --:--:--"
     ]
    },
    {
     "name": "stdout",
     "output_type": "stream",
     "text": [
      "2018-07-10 19:18:19 [INFO] src.evaluation.evaluator: Training LSTM-AD on Syn Extreme Outliers (mis=0.225) with seed 1014951156\n"
     ]
    },
    {
     "name": "stderr",
     "output_type": "stream",
     "text": [
      "\r",
      "                                                                               \r",
      "\r",
      " 14% (1 of 7) |###                       | Elapsed Time: 0:01:44 ETA:   0:10:29"
     ]
    },
    {
     "name": "stdout",
     "output_type": "stream",
     "text": [
      "2018-07-10 19:20:04 [INFO] src.evaluation.evaluator: Training LSTMED on Syn Extreme Outliers (mis=0.225) with seed 1014951156\n"
     ]
    },
    {
     "name": "stderr",
     "output_type": "stream",
     "text": [
      "\r",
      "                                                                               \r",
      "\r",
      " 28% (2 of 7) |#######                   | Elapsed Time: 0:03:22 ETA:   0:08:05"
     ]
    },
    {
     "name": "stdout",
     "output_type": "stream",
     "text": [
      "2018-07-10 19:21:41 [INFO] src.evaluation.evaluator: Training DAGMM_NNAutoEncoder_withoutWindow on Syn Extreme Outliers (mis=0.225) with seed 1014951156\n",
      "2018-07-10 19:21:41 [WARNING] root: Determinant was negative! Clipping Eigenvalues to 0+epsilon from -6.473619009739195e-07\n",
      "2018-07-10 19:21:41 [WARNING] root: Determinant was negative! Clipping Eigenvalues to 0+epsilon from -3.0964022812440817e-07\n",
      "2018-07-10 19:21:41 [ERROR] src.evaluation.evaluator: An exception occurred while training DAGMM_NNAutoEncoder_withoutWindow on Syn Extreme Outliers (mis=0.225): Lapack Error getrf : U(3,3) is 0, U is singular at /pytorch/aten/src/TH/generic/THTensorLapack.c:514\n",
      "2018-07-10 19:21:41 [ERROR] src.evaluation.evaluator: Traceback (most recent call last):\n",
      "  File \"../src/evaluation/evaluator.py\", line 122, in evaluate\n",
      "    det.fit(X_train.copy(), y_train.copy())\n",
      "  File \"../src/algorithms/dagmm.py\", line 203, in fit\n",
      "    self.dagmm_step(input_data.float())\n",
      "  File \"../src/algorithms/dagmm.py\", line 177, in dagmm_step\n",
      "    self.lambda_cov_diag)\n",
      "  File \"../src/algorithms/dagmm.py\", line 144, in loss_function\n",
      "    sample_energy, cov_diag = self.compute_energy(z, phi, mu, cov)\n",
      "  File \"../src/algorithms/dagmm.py\", line 113, in compute_energy\n",
      "    cov_inverse.append(torch.inverse(cov_k).unsqueeze(0))\n",
      "RuntimeError: Lapack Error getrf : U(3,3) is 0, U is singular at /pytorch/aten/src/TH/generic/THTensorLapack.c:514\n",
      "\n"
     ]
    },
    {
     "name": "stderr",
     "output_type": "stream",
     "text": [
      "\r",
      "                                                                               \r",
      "\r",
      " 42% (3 of 7) |###########               | Elapsed Time: 0:03:22 ETA:   0:03:15"
     ]
    },
    {
     "name": "stdout",
     "output_type": "stream",
     "text": [
      "2018-07-10 19:21:41 [INFO] src.evaluation.evaluator: Training DAGMM_NNAutoEncoder_withWindow on Syn Extreme Outliers (mis=0.225) with seed 1014951156\n"
     ]
    },
    {
     "name": "stderr",
     "output_type": "stream",
     "text": [
      "\r",
      "                                                                               \r",
      "\r",
      " 57% (4 of 7) |##############            | Elapsed Time: 0:03:26 ETA:   0:00:11"
     ]
    },
    {
     "name": "stdout",
     "output_type": "stream",
     "text": [
      "2018-07-10 19:21:45 [INFO] src.evaluation.evaluator: Training DAGMM_LSTMAutoEncoder_withWindow on Syn Extreme Outliers (mis=0.225) with seed 1014951156\n"
     ]
    },
    {
     "name": "stderr",
     "output_type": "stream",
     "text": [
      "\r",
      "                                                                               \r",
      "\r",
      " 71% (5 of 7) |##################        | Elapsed Time: 0:03:56 ETA:   0:01:00"
     ]
    },
    {
     "name": "stdout",
     "output_type": "stream",
     "text": [
      "2018-07-10 19:22:16 [INFO] src.evaluation.evaluator: Training Recurrent EBM on Syn Extreme Outliers (mis=0.225) with seed 1014951156\n"
     ]
    },
    {
     "name": "stderr",
     "output_type": "stream",
     "text": [
      "100%|██████████| 15/15 [00:07<00:00,  1.97it/s]\n",
      " 85% (6 of 7) |######################    | Elapsed Time: 0:04:51 ETA:   0:00:54"
     ]
    },
    {
     "name": "stdout",
     "output_type": "stream",
     "text": [
      "2018-07-10 19:23:10 [INFO] src.evaluation.evaluator: Training Donut on Syn Extreme Outliers (mis=0.225) with seed 1014951156\n"
     ]
    },
    {
     "name": "stderr",
     "output_type": "stream",
     "text": [
      "100%|██████████| 1/1 [01:08<00:00, 68.97s/it]\n",
      "100% (7 of 7) |##########################| Elapsed Time: 0:06:26 Time:  0:06:26\n",
      "N/A% (0 of 7) |                          | Elapsed Time: 0:00:00 ETA:  --:--:--"
     ]
    },
    {
     "name": "stdout",
     "output_type": "stream",
     "text": [
      "2018-07-10 19:24:45 [INFO] src.evaluation.evaluator: Training LSTM-AD on Syn Extreme Outliers (mis=0.45) with seed 1014951156\n"
     ]
    },
    {
     "name": "stderr",
     "output_type": "stream",
     "text": [
      "\r",
      "                                                                               \r",
      "\r",
      " 14% (1 of 7) |###                       | Elapsed Time: 0:01:42 ETA:   0:10:13"
     ]
    },
    {
     "name": "stdout",
     "output_type": "stream",
     "text": [
      "2018-07-10 19:26:27 [INFO] src.evaluation.evaluator: Training LSTMED on Syn Extreme Outliers (mis=0.45) with seed 1014951156\n"
     ]
    },
    {
     "name": "stderr",
     "output_type": "stream",
     "text": [
      "\r",
      "                                                                               \r",
      "\r",
      " 28% (2 of 7) |#######                   | Elapsed Time: 0:03:19 ETA:   0:08:06"
     ]
    },
    {
     "name": "stdout",
     "output_type": "stream",
     "text": [
      "2018-07-10 19:28:04 [INFO] src.evaluation.evaluator: Training DAGMM_NNAutoEncoder_withoutWindow on Syn Extreme Outliers (mis=0.45) with seed 1014951156\n",
      "2018-07-10 19:28:04 [WARNING] root: Determinant was negative! Clipping Eigenvalues to 0+epsilon from -7.347687187575502e-07\n",
      "2018-07-10 19:28:04 [WARNING] root: Determinant was negative! Clipping Eigenvalues to 0+epsilon from -3.0314427590383275e-07\n",
      "2018-07-10 19:28:04 [WARNING] root: Determinant was negative! Clipping Eigenvalues to 0+epsilon from -1.4223701327864546e-07\n",
      "2018-07-10 19:28:04 [WARNING] root: Determinant was negative! Clipping Eigenvalues to 0+epsilon from -6.570831345698025e-08\n",
      "2018-07-10 19:28:04 [WARNING] root: Determinant was negative! Clipping Eigenvalues to 0+epsilon from -3.065719624828489e-07\n",
      "2018-07-10 19:28:04 [WARNING] root: Determinant was negative! Clipping Eigenvalues to 0+epsilon from -5.159359517392659e-08\n",
      "2018-07-10 19:28:04 [WARNING] root: Determinant was negative! Clipping Eigenvalues to 0+epsilon from -3.1795852351024223e-07\n",
      "2018-07-10 19:28:04 [WARNING] root: Determinant was negative! Clipping Eigenvalues to 0+epsilon from -5.440290919977997e-07\n",
      "2018-07-10 19:28:04 [WARNING] root: Determinant was negative! Clipping Eigenvalues to 0+epsilon from -2.0594242755578307e-08\n",
      "2018-07-10 19:28:04 [WARNING] root: Determinant was negative! Clipping Eigenvalues to 0+epsilon from -5.740262736253499e-07\n",
      "2018-07-10 19:28:04 [WARNING] root: Determinant was negative! Clipping Eigenvalues to 0+epsilon from -4.825387645013279e-09\n",
      "2018-07-10 19:28:04 [WARNING] root: Determinant was negative! Clipping Eigenvalues to 0+epsilon from -2.249891224437306e-07\n",
      "2018-07-10 19:28:05 [WARNING] root: Determinant was negative! Clipping Eigenvalues to 0+epsilon from -7.096972467479645e-07\n",
      "2018-07-10 19:28:05 [WARNING] root: Determinant was negative! Clipping Eigenvalues to 0+epsilon from -1.7829761134180444e-07\n",
      "2018-07-10 19:28:05 [WARNING] root: Determinant was negative! Clipping Eigenvalues to 0+epsilon from -1.8586813155252457e-07\n",
      "2018-07-10 19:28:05 [WARNING] root: Determinant was negative! Clipping Eigenvalues to 0+epsilon from -2.332076149968998e-07\n",
      "2018-07-10 19:28:05 [WARNING] root: Determinant was negative! Clipping Eigenvalues to 0+epsilon from -1.2509852354014583e-07\n",
      "2018-07-10 19:28:05 [WARNING] root: Determinant was negative! Clipping Eigenvalues to 0+epsilon from -2.538191381518118e-07\n",
      "2018-07-10 19:28:05 [WARNING] root: Determinant was negative! Clipping Eigenvalues to 0+epsilon from -4.241134377025446e-07\n",
      "2018-07-10 19:28:05 [WARNING] root: Determinant was negative! Clipping Eigenvalues to 0+epsilon from -3.8588814277318306e-07\n",
      "2018-07-10 19:28:05 [WARNING] root: Determinant was negative! Clipping Eigenvalues to 0+epsilon from -5.956854352007213e-07\n",
      "2018-07-10 19:28:05 [WARNING] root: Determinant was negative! Clipping Eigenvalues to 0+epsilon from -4.7178190243357676e-08\n",
      "2018-07-10 19:28:05 [WARNING] root: Determinant was negative! Clipping Eigenvalues to 0+epsilon from -1.7163499421712913e-07\n",
      "2018-07-10 19:28:05 [WARNING] root: Determinant was negative! Clipping Eigenvalues to 0+epsilon from -1.8230484499781596e-07\n",
      "2018-07-10 19:28:05 [WARNING] root: Determinant was negative! Clipping Eigenvalues to 0+epsilon from -4.879838684246351e-07\n",
      "2018-07-10 19:28:05 [WARNING] root: Determinant was negative! Clipping Eigenvalues to 0+epsilon from -6.171298139179271e-08\n",
      "2018-07-10 19:28:05 [WARNING] root: Determinant was negative! Clipping Eigenvalues to 0+epsilon from -2.1300341757068963e-07\n",
      "2018-07-10 19:28:05 [WARNING] root: Determinant was negative! Clipping Eigenvalues to 0+epsilon from -1.675079914775779e-07\n",
      "2018-07-10 19:28:05 [ERROR] src.evaluation.evaluator: An exception occurred while training DAGMM_NNAutoEncoder_withoutWindow on Syn Extreme Outliers (mis=0.45): Lapack Error getrf : U(3,3) is 0, U is singular at /pytorch/aten/src/TH/generic/THTensorLapack.c:514\n",
      "2018-07-10 19:28:05 [ERROR] src.evaluation.evaluator: Traceback (most recent call last):\n",
      "  File \"../src/evaluation/evaluator.py\", line 122, in evaluate\n",
      "    det.fit(X_train.copy(), y_train.copy())\n",
      "  File \"../src/algorithms/dagmm.py\", line 203, in fit\n",
      "    self.dagmm_step(input_data.float())\n",
      "  File \"../src/algorithms/dagmm.py\", line 177, in dagmm_step\n",
      "    self.lambda_cov_diag)\n",
      "  File \"../src/algorithms/dagmm.py\", line 144, in loss_function\n",
      "    sample_energy, cov_diag = self.compute_energy(z, phi, mu, cov)\n",
      "  File \"../src/algorithms/dagmm.py\", line 113, in compute_energy\n",
      "    cov_inverse.append(torch.inverse(cov_k).unsqueeze(0))\n",
      "RuntimeError: Lapack Error getrf : U(3,3) is 0, U is singular at /pytorch/aten/src/TH/generic/THTensorLapack.c:514\n",
      "\n"
     ]
    },
    {
     "name": "stderr",
     "output_type": "stream",
     "text": [
      "\r",
      "                                                                               \r",
      "\r",
      " 42% (3 of 7) |###########               | Elapsed Time: 0:03:20 ETA:   0:03:15"
     ]
    },
    {
     "name": "stdout",
     "output_type": "stream",
     "text": [
      "2018-07-10 19:28:05 [INFO] src.evaluation.evaluator: Training DAGMM_NNAutoEncoder_withWindow on Syn Extreme Outliers (mis=0.45) with seed 1014951156\n"
     ]
    },
    {
     "name": "stderr",
     "output_type": "stream",
     "text": [
      "\r",
      "                                                                               \r",
      "\r",
      " 57% (4 of 7) |##############            | Elapsed Time: 0:03:24 ETA:   0:00:11"
     ]
    },
    {
     "name": "stdout",
     "output_type": "stream",
     "text": [
      "2018-07-10 19:28:09 [INFO] src.evaluation.evaluator: Training DAGMM_LSTMAutoEncoder_withWindow on Syn Extreme Outliers (mis=0.45) with seed 1014951156\n"
     ]
    },
    {
     "name": "stderr",
     "output_type": "stream",
     "text": [
      "\r",
      "                                                                               \r",
      "\r",
      " 71% (5 of 7) |##################        | Elapsed Time: 0:03:54 ETA:   0:01:00"
     ]
    },
    {
     "name": "stdout",
     "output_type": "stream",
     "text": [
      "2018-07-10 19:28:39 [INFO] src.evaluation.evaluator: Training Recurrent EBM on Syn Extreme Outliers (mis=0.45) with seed 1014951156\n"
     ]
    },
    {
     "name": "stderr",
     "output_type": "stream",
     "text": [
      "100%|██████████| 15/15 [00:07<00:00,  1.98it/s]\n",
      " 85% (6 of 7) |######################    | Elapsed Time: 0:04:41 ETA:   0:00:46"
     ]
    },
    {
     "name": "stdout",
     "output_type": "stream",
     "text": [
      "2018-07-10 19:29:26 [INFO] src.evaluation.evaluator: Training Donut on Syn Extreme Outliers (mis=0.45) with seed 1014951156\n"
     ]
    },
    {
     "name": "stderr",
     "output_type": "stream",
     "text": [
      "100%|██████████| 1/1 [01:10<00:00, 70.57s/it]\n",
      "100% (7 of 7) |##########################| Elapsed Time: 0:06:17 Time:  0:06:17\n",
      "N/A% (0 of 7) |                          | Elapsed Time: 0:00:00 ETA:  --:--:--"
     ]
    },
    {
     "name": "stdout",
     "output_type": "stream",
     "text": [
      "2018-07-10 19:31:02 [INFO] src.evaluation.evaluator: Training LSTM-AD on Syn Extreme Outliers (mis=0.675) with seed 1014951156\n"
     ]
    },
    {
     "name": "stderr",
     "output_type": "stream",
     "text": [
      "\r",
      "                                                                               \r",
      "\r",
      " 14% (1 of 7) |###                       | Elapsed Time: 0:01:42 ETA:   0:10:14"
     ]
    },
    {
     "name": "stdout",
     "output_type": "stream",
     "text": [
      "2018-07-10 19:32:45 [INFO] src.evaluation.evaluator: Training LSTMED on Syn Extreme Outliers (mis=0.675) with seed 1014951156\n"
     ]
    },
    {
     "name": "stderr",
     "output_type": "stream",
     "text": [
      "\r",
      "                                                                               \r",
      "\r",
      " 28% (2 of 7) |#######                   | Elapsed Time: 0:03:19 ETA:   0:08:05"
     ]
    },
    {
     "name": "stdout",
     "output_type": "stream",
     "text": [
      "2018-07-10 19:34:22 [INFO] src.evaluation.evaluator: Training DAGMM_NNAutoEncoder_withoutWindow on Syn Extreme Outliers (mis=0.675) with seed 1014951156\n",
      "2018-07-10 19:34:22 [WARNING] root: Determinant was negative! Clipping Eigenvalues to 0+epsilon from -6.000796588523372e-07\n",
      "2018-07-10 19:34:22 [WARNING] root: Determinant was negative! Clipping Eigenvalues to 0+epsilon from -6.00081364154903e-07\n",
      "2018-07-10 19:34:22 [WARNING] root: Determinant was negative! Clipping Eigenvalues to 0+epsilon from -4.313995702887041e-07\n",
      "2018-07-10 19:34:22 [WARNING] root: Determinant was negative! Clipping Eigenvalues to 0+epsilon from -3.457423645158997e-07\n",
      "2018-07-10 19:34:22 [WARNING] root: Determinant was negative! Clipping Eigenvalues to 0+epsilon from -4.4915447006133036e-07\n",
      "2018-07-10 19:34:22 [WARNING] root: Determinant was negative! Clipping Eigenvalues to 0+epsilon from -4.4921421249455307e-07\n",
      "2018-07-10 19:34:22 [WARNING] root: Determinant was negative! Clipping Eigenvalues to 0+epsilon from -1.0458345656161327e-07\n",
      "2018-07-10 19:34:22 [WARNING] root: Determinant was negative! Clipping Eigenvalues to 0+epsilon from -4.539004123671475e-07\n",
      "2018-07-10 19:34:22 [WARNING] root: Determinant was negative! Clipping Eigenvalues to 0+epsilon from -9.819024171520141e-08\n",
      "2018-07-10 19:34:22 [WARNING] root: Determinant was negative! Clipping Eigenvalues to 0+epsilon from -3.3622342243688763e-07\n",
      "2018-07-10 19:34:22 [WARNING] root: Determinant was negative! Clipping Eigenvalues to 0+epsilon from -3.6618268950405763e-07\n",
      "2018-07-10 19:34:22 [WARNING] root: Determinant was negative! Clipping Eigenvalues to 0+epsilon from -4.903019430457789e-07\n",
      "2018-07-10 19:34:22 [WARNING] root: Determinant was negative! Clipping Eigenvalues to 0+epsilon from -4.897556777905265e-07\n",
      "2018-07-10 19:34:22 [WARNING] root: Determinant was negative! Clipping Eigenvalues to 0+epsilon from -1.2541943483768137e-08\n",
      "2018-07-10 19:34:22 [WARNING] root: Determinant was negative! Clipping Eigenvalues to 0+epsilon from -3.5461311664874984e-09\n",
      "2018-07-10 19:34:22 [WARNING] root: Determinant was negative! Clipping Eigenvalues to 0+epsilon from -4.3096232360539943e-08\n",
      "2018-07-10 19:34:22 [WARNING] root: Determinant was negative! Clipping Eigenvalues to 0+epsilon from -6.678862973785726e-07\n",
      "2018-07-10 19:34:22 [WARNING] root: Determinant was negative! Clipping Eigenvalues to 0+epsilon from -3.212678620911902e-07\n",
      "2018-07-10 19:34:22 [WARNING] root: Determinant was negative! Clipping Eigenvalues to 0+epsilon from -1.404456781983754e-07\n",
      "2018-07-10 19:34:22 [WARNING] root: Determinant was negative! Clipping Eigenvalues to 0+epsilon from -1.087524594822753e-07\n",
      "2018-07-10 19:34:22 [WARNING] root: Determinant was negative! Clipping Eigenvalues to 0+epsilon from -1.517008740847814e-07\n",
      "2018-07-10 19:34:22 [WARNING] root: Determinant was negative! Clipping Eigenvalues to 0+epsilon from -1.5837402145280066e-07\n",
      "2018-07-10 19:34:22 [WARNING] root: Determinant was negative! Clipping Eigenvalues to 0+epsilon from -2.6012383358420266e-08\n",
      "2018-07-10 19:34:22 [WARNING] root: Determinant was negative! Clipping Eigenvalues to 0+epsilon from -1.781034200121212e-07\n",
      "2018-07-10 19:34:22 [WARNING] root: Determinant was negative! Clipping Eigenvalues to 0+epsilon from -7.969911308691735e-08\n",
      "2018-07-10 19:34:22 [WARNING] root: Determinant was negative! Clipping Eigenvalues to 0+epsilon from -2.7550248660190846e-07\n",
      "2018-07-10 19:34:22 [WARNING] root: Determinant was negative! Clipping Eigenvalues to 0+epsilon from -5.191083687350329e-07\n",
      "2018-07-10 19:34:22 [WARNING] root: Determinant was negative! Clipping Eigenvalues to 0+epsilon from -3.1932654565025587e-07\n",
      "2018-07-10 19:34:22 [WARNING] root: Determinant was negative! Clipping Eigenvalues to 0+epsilon from -1.9500825487739348e-07\n",
      "2018-07-10 19:34:22 [WARNING] root: Determinant was negative! Clipping Eigenvalues to 0+epsilon from -8.27819768289828e-09\n",
      "2018-07-10 19:34:22 [WARNING] root: Determinant was negative! Clipping Eigenvalues to 0+epsilon from -2.5768795808289724e-07\n",
      "2018-07-10 19:34:22 [WARNING] root: Determinant was negative! Clipping Eigenvalues to 0+epsilon from -6.226699156286486e-07\n",
      "2018-07-10 19:34:22 [WARNING] root: Determinant was negative! Clipping Eigenvalues to 0+epsilon from -1.7018005848967732e-07\n",
      "2018-07-10 19:34:22 [WARNING] root: Determinant was negative! Clipping Eigenvalues to 0+epsilon from -2.5606598796912294e-07\n",
      "2018-07-10 19:34:22 [WARNING] root: Determinant was negative! Clipping Eigenvalues to 0+epsilon from -9.272525858250447e-08\n",
      "2018-07-10 19:34:22 [WARNING] root: Determinant was negative! Clipping Eigenvalues to 0+epsilon from -9.760767483157906e-08\n",
      "2018-07-10 19:34:22 [WARNING] root: Determinant was negative! Clipping Eigenvalues to 0+epsilon from -1.1145754319485945e-09\n",
      "2018-07-10 19:34:22 [WARNING] root: Determinant was negative! Clipping Eigenvalues to 0+epsilon from -6.0837179738371105e-09\n",
      "2018-07-10 19:34:22 [ERROR] src.evaluation.evaluator: An exception occurred while training DAGMM_NNAutoEncoder_withoutWindow on Syn Extreme Outliers (mis=0.675): Lapack Error getrf : U(3,3) is 0, U is singular at /pytorch/aten/src/TH/generic/THTensorLapack.c:514\n",
      "2018-07-10 19:34:22 [ERROR] src.evaluation.evaluator: Traceback (most recent call last):\n",
      "  File \"../src/evaluation/evaluator.py\", line 122, in evaluate\n",
      "    det.fit(X_train.copy(), y_train.copy())\n",
      "  File \"../src/algorithms/dagmm.py\", line 203, in fit\n",
      "    self.dagmm_step(input_data.float())\n",
      "  File \"../src/algorithms/dagmm.py\", line 177, in dagmm_step\n",
      "    self.lambda_cov_diag)\n",
      "  File \"../src/algorithms/dagmm.py\", line 144, in loss_function\n",
      "    sample_energy, cov_diag = self.compute_energy(z, phi, mu, cov)\n",
      "  File \"../src/algorithms/dagmm.py\", line 113, in compute_energy\n",
      "    cov_inverse.append(torch.inverse(cov_k).unsqueeze(0))\n",
      "RuntimeError: Lapack Error getrf : U(3,3) is 0, U is singular at /pytorch/aten/src/TH/generic/THTensorLapack.c:514\n",
      "\n"
     ]
    },
    {
     "name": "stderr",
     "output_type": "stream",
     "text": [
      "\r",
      "                                                                               \r",
      "\r",
      " 42% (3 of 7) |###########               | Elapsed Time: 0:03:19 ETA:   0:03:15"
     ]
    },
    {
     "name": "stdout",
     "output_type": "stream",
     "text": [
      "2018-07-10 19:34:22 [INFO] src.evaluation.evaluator: Training DAGMM_NNAutoEncoder_withWindow on Syn Extreme Outliers (mis=0.675) with seed 1014951156\n"
     ]
    },
    {
     "name": "stderr",
     "output_type": "stream",
     "text": [
      "\r",
      "                                                                               \r",
      "\r",
      " 57% (4 of 7) |##############            | Elapsed Time: 0:03:23 ETA:   0:00:11"
     ]
    },
    {
     "name": "stdout",
     "output_type": "stream",
     "text": [
      "2018-07-10 19:34:26 [INFO] src.evaluation.evaluator: Training DAGMM_LSTMAutoEncoder_withWindow on Syn Extreme Outliers (mis=0.675) with seed 1014951156\n"
     ]
    },
    {
     "name": "stderr",
     "output_type": "stream",
     "text": [
      "\r",
      "                                                                               \r",
      "\r",
      " 71% (5 of 7) |##################        | Elapsed Time: 0:03:54 ETA:   0:01:00"
     ]
    },
    {
     "name": "stdout",
     "output_type": "stream",
     "text": [
      "2018-07-10 19:34:56 [INFO] src.evaluation.evaluator: Training Recurrent EBM on Syn Extreme Outliers (mis=0.675) with seed 1014951156\n"
     ]
    },
    {
     "name": "stderr",
     "output_type": "stream",
     "text": [
      "100%|██████████| 15/15 [00:07<00:00,  1.96it/s]\n",
      " 85% (6 of 7) |######################    | Elapsed Time: 0:04:42 ETA:   0:00:47"
     ]
    },
    {
     "name": "stdout",
     "output_type": "stream",
     "text": [
      "2018-07-10 19:35:44 [INFO] src.evaluation.evaluator: Training Donut on Syn Extreme Outliers (mis=0.675) with seed 1014951156\n"
     ]
    },
    {
     "name": "stderr",
     "output_type": "stream",
     "text": [
      "100%|██████████| 1/1 [01:11<00:00, 71.88s/it]\n",
      "100% (7 of 7) |##########################| Elapsed Time: 0:06:20 Time:  0:06:20\n",
      "N/A% (0 of 7) |                          | Elapsed Time: 0:00:00 ETA:  --:--:--"
     ]
    },
    {
     "name": "stdout",
     "output_type": "stream",
     "text": [
      "2018-07-10 19:37:22 [INFO] src.evaluation.evaluator: Training LSTM-AD on Syn Extreme Outliers (mis=0.9) with seed 1014951156\n"
     ]
    },
    {
     "name": "stderr",
     "output_type": "stream",
     "text": [
      "\r",
      "                                                                               \r",
      "\r",
      " 14% (1 of 7) |###                       | Elapsed Time: 0:01:42 ETA:   0:10:13"
     ]
    },
    {
     "name": "stdout",
     "output_type": "stream",
     "text": [
      "2018-07-10 19:39:05 [INFO] src.evaluation.evaluator: Training LSTMED on Syn Extreme Outliers (mis=0.9) with seed 1014951156\n"
     ]
    },
    {
     "name": "stderr",
     "output_type": "stream",
     "text": [
      "\r",
      "                                                                               \r",
      "\r",
      " 28% (2 of 7) |#######                   | Elapsed Time: 0:03:19 ETA:   0:08:05"
     ]
    },
    {
     "name": "stdout",
     "output_type": "stream",
     "text": [
      "2018-07-10 19:40:42 [INFO] src.evaluation.evaluator: Training DAGMM_NNAutoEncoder_withoutWindow on Syn Extreme Outliers (mis=0.9) with seed 1014951156\n",
      "2018-07-10 19:40:42 [WARNING] root: Determinant was negative! Clipping Eigenvalues to 0+epsilon from -1.2410464478307404e-07\n",
      "2018-07-10 19:40:42 [WARNING] root: Determinant was negative! Clipping Eigenvalues to 0+epsilon from -4.189827507161681e-07\n",
      "2018-07-10 19:40:42 [WARNING] root: Determinant was negative! Clipping Eigenvalues to 0+epsilon from -5.6248914859224897e-08\n",
      "2018-07-10 19:40:42 [WARNING] root: Determinant was negative! Clipping Eigenvalues to 0+epsilon from -9.199764861023141e-08\n",
      "2018-07-10 19:40:42 [WARNING] root: Determinant was negative! Clipping Eigenvalues to 0+epsilon from -4.211846089674509e-07\n",
      "2018-07-10 19:40:42 [WARNING] root: Determinant was negative! Clipping Eigenvalues to 0+epsilon from -1.2410430372256087e-07\n",
      "2018-07-10 19:40:42 [WARNING] root: Determinant was negative! Clipping Eigenvalues to 0+epsilon from -1.4414563764830746e-08\n",
      "2018-07-10 19:40:42 [WARNING] root: Determinant was negative! Clipping Eigenvalues to 0+epsilon from -1.3635183648830207e-08\n",
      "2018-07-10 19:40:42 [WARNING] root: Determinant was negative! Clipping Eigenvalues to 0+epsilon from -2.541351484808274e-08\n",
      "2018-07-10 19:40:42 [ERROR] src.evaluation.evaluator: An exception occurred while training DAGMM_NNAutoEncoder_withoutWindow on Syn Extreme Outliers (mis=0.9): Lapack Error getrf : U(3,3) is 0, U is singular at /pytorch/aten/src/TH/generic/THTensorLapack.c:514\n",
      "2018-07-10 19:40:42 [ERROR] src.evaluation.evaluator: Traceback (most recent call last):\n",
      "  File \"../src/evaluation/evaluator.py\", line 122, in evaluate\n",
      "    det.fit(X_train.copy(), y_train.copy())\n",
      "  File \"../src/algorithms/dagmm.py\", line 203, in fit\n",
      "    self.dagmm_step(input_data.float())\n",
      "  File \"../src/algorithms/dagmm.py\", line 177, in dagmm_step\n",
      "    self.lambda_cov_diag)\n",
      "  File \"../src/algorithms/dagmm.py\", line 144, in loss_function\n",
      "    sample_energy, cov_diag = self.compute_energy(z, phi, mu, cov)\n",
      "  File \"../src/algorithms/dagmm.py\", line 113, in compute_energy\n",
      "    cov_inverse.append(torch.inverse(cov_k).unsqueeze(0))\n",
      "RuntimeError: Lapack Error getrf : U(3,3) is 0, U is singular at /pytorch/aten/src/TH/generic/THTensorLapack.c:514\n",
      "\n"
     ]
    },
    {
     "name": "stderr",
     "output_type": "stream",
     "text": [
      "\r",
      "                                                                               \r",
      "\r",
      " 42% (3 of 7) |###########               | Elapsed Time: 0:03:19 ETA:   0:03:14"
     ]
    },
    {
     "name": "stdout",
     "output_type": "stream",
     "text": [
      "2018-07-10 19:40:42 [INFO] src.evaluation.evaluator: Training DAGMM_NNAutoEncoder_withWindow on Syn Extreme Outliers (mis=0.9) with seed 1014951156\n"
     ]
    },
    {
     "name": "stderr",
     "output_type": "stream",
     "text": [
      "\r",
      "                                                                               \r",
      "\r",
      " 57% (4 of 7) |##############            | Elapsed Time: 0:03:23 ETA:   0:00:11"
     ]
    },
    {
     "name": "stdout",
     "output_type": "stream",
     "text": [
      "2018-07-10 19:40:46 [INFO] src.evaluation.evaluator: Training DAGMM_LSTMAutoEncoder_withWindow on Syn Extreme Outliers (mis=0.9) with seed 1014951156\n"
     ]
    },
    {
     "name": "stderr",
     "output_type": "stream",
     "text": [
      "\r",
      "                                                                               \r",
      "\r",
      " 71% (5 of 7) |##################        | Elapsed Time: 0:03:53 ETA:   0:01:00"
     ]
    },
    {
     "name": "stdout",
     "output_type": "stream",
     "text": [
      "2018-07-10 19:41:16 [INFO] src.evaluation.evaluator: Training Recurrent EBM on Syn Extreme Outliers (mis=0.9) with seed 1014951156\n"
     ]
    },
    {
     "name": "stderr",
     "output_type": "stream",
     "text": [
      "100%|██████████| 15/15 [00:07<00:00,  1.96it/s]\n",
      " 85% (6 of 7) |######################    | Elapsed Time: 0:04:42 ETA:   0:00:48"
     ]
    },
    {
     "name": "stdout",
     "output_type": "stream",
     "text": [
      "2018-07-10 19:42:04 [INFO] src.evaluation.evaluator: Training Donut on Syn Extreme Outliers (mis=0.9) with seed 1014951156\n"
     ]
    },
    {
     "name": "stderr",
     "output_type": "stream",
     "text": [
      "100%|██████████| 1/1 [01:12<00:00, 72.79s/it]\n",
      "100% (7 of 7) |##########################| Elapsed Time: 0:06:21 Time:  0:06:21\n",
      "100% (5 of 5) |##########################| Elapsed Time: 0:35:18 Time:  0:35:18\n"
     ]
    },
    {
     "name": "stdout",
     "output_type": "stream",
     "text": [
      "2018-07-10 19:43:47 [INFO] src.evaluation.evaluator: Store evaluator results at /home/thomas/work/notebooks/data_30/missing-run-12-1014951156-2018-07-10-194347.pkl\n"
     ]
    },
    {
     "name": "stderr",
     "output_type": "stream",
     "text": [
      "N/A% (0 of 7) |                          | Elapsed Time: 0:00:00 ETA:  --:--:--"
     ]
    },
    {
     "name": "stdout",
     "output_type": "stream",
     "text": [
      "2018-07-10 19:43:47 [INFO] src.evaluation.evaluator: Training LSTM-AD on Syn Extreme Outliers (mis=0.0) with seed 4207519642\n"
     ]
    },
    {
     "name": "stderr",
     "output_type": "stream",
     "text": [
      "\r",
      "                                                                               \r",
      "\r",
      " 14% (1 of 7) |###                       | Elapsed Time: 0:01:42 ETA:   0:10:14"
     ]
    },
    {
     "name": "stdout",
     "output_type": "stream",
     "text": [
      "2018-07-10 19:45:29 [INFO] src.evaluation.evaluator: Training LSTMED on Syn Extreme Outliers (mis=0.0) with seed 4207519642\n"
     ]
    },
    {
     "name": "stderr",
     "output_type": "stream",
     "text": [
      "\r",
      "                                                                               \r",
      "\r",
      " 28% (2 of 7) |#######                   | Elapsed Time: 0:03:19 ETA:   0:08:06"
     ]
    },
    {
     "name": "stdout",
     "output_type": "stream",
     "text": [
      "2018-07-10 19:47:06 [INFO] src.evaluation.evaluator: Training DAGMM_NNAutoEncoder_withoutWindow on Syn Extreme Outliers (mis=0.0) with seed 4207519642\n",
      "2018-07-10 19:47:07 [WARNING] root: Determinant was negative! Clipping Eigenvalues to 0+epsilon from -1.0491746138541203e-07\n",
      "2018-07-10 19:47:07 [WARNING] root: Determinant was negative! Clipping Eigenvalues to 0+epsilon from -5.340029574085747e-08\n",
      "2018-07-10 19:47:09 [WARNING] root: Determinant was negative! Clipping Eigenvalues to 0+epsilon from -5.526631952079697e-08\n",
      "2018-07-10 19:47:09 [WARNING] root: Determinant was negative! Clipping Eigenvalues to 0+epsilon from -5.261346558427249e-08\n"
     ]
    },
    {
     "name": "stderr",
     "output_type": "stream",
     "text": [
      "\r",
      "                                                                               \r",
      "\r",
      " 42% (3 of 7) |###########               | Elapsed Time: 0:03:23 ETA:   0:00:15"
     ]
    },
    {
     "name": "stdout",
     "output_type": "stream",
     "text": [
      "2018-07-10 19:47:10 [INFO] src.evaluation.evaluator: Training DAGMM_NNAutoEncoder_withWindow on Syn Extreme Outliers (mis=0.0) with seed 4207519642\n"
     ]
    },
    {
     "name": "stderr",
     "output_type": "stream",
     "text": [
      "\r",
      "                                                                               \r",
      "\r",
      " 57% (4 of 7) |##############            | Elapsed Time: 0:03:27 ETA:   0:00:12"
     ]
    },
    {
     "name": "stdout",
     "output_type": "stream",
     "text": [
      "2018-07-10 19:47:14 [INFO] src.evaluation.evaluator: Training DAGMM_LSTMAutoEncoder_withWindow on Syn Extreme Outliers (mis=0.0) with seed 4207519642\n"
     ]
    },
    {
     "name": "stderr",
     "output_type": "stream",
     "text": [
      "\r",
      "                                                                               \r",
      "\r",
      " 71% (5 of 7) |##################        | Elapsed Time: 0:03:58 ETA:   0:01:00"
     ]
    },
    {
     "name": "stdout",
     "output_type": "stream",
     "text": [
      "2018-07-10 19:47:45 [INFO] src.evaluation.evaluator: Training Recurrent EBM on Syn Extreme Outliers (mis=0.0) with seed 4207519642\n"
     ]
    },
    {
     "name": "stderr",
     "output_type": "stream",
     "text": [
      "100%|██████████| 15/15 [00:07<00:00,  1.98it/s]\n",
      " 85% (6 of 7) |######################    | Elapsed Time: 0:04:47 ETA:   0:00:49"
     ]
    },
    {
     "name": "stdout",
     "output_type": "stream",
     "text": [
      "2018-07-10 19:48:34 [INFO] src.evaluation.evaluator: Training Donut on Syn Extreme Outliers (mis=0.0) with seed 4207519642\n"
     ]
    },
    {
     "name": "stderr",
     "output_type": "stream",
     "text": [
      "\r",
      "  0%|          | 0/1 [00:00<?, ?it/s]"
     ]
    },
    {
     "name": "stdout",
     "output_type": "stream",
     "text": [
      "INFO:tensorflow:Restoring parameters from /tmp/tmpc3qtuuwg/variables.dat-900\n",
      "2018-07-10 19:54:33 [INFO] tensorflow: Restoring parameters from /tmp/tmpc3qtuuwg/variables.dat-900\n"
     ]
    },
    {
     "name": "stderr",
     "output_type": "stream",
     "text": [
      "100%|██████████| 1/1 [06:19<00:00, 379.91s/it]\n",
      "100% (7 of 7) |##########################| Elapsed Time: 0:11:39 Time:  0:11:39\n",
      "N/A% (0 of 7) |                          | Elapsed Time: 0:00:00 ETA:  --:--:--"
     ]
    },
    {
     "name": "stdout",
     "output_type": "stream",
     "text": [
      "2018-07-10 19:55:26 [INFO] src.evaluation.evaluator: Training LSTM-AD on Syn Extreme Outliers (mis=0.225) with seed 4207519642\n"
     ]
    },
    {
     "name": "stderr",
     "output_type": "stream",
     "text": [
      "\r",
      "                                                                               \r",
      "\r",
      " 14% (1 of 7) |###                       | Elapsed Time: 0:01:44 ETA:   0:10:29"
     ]
    },
    {
     "name": "stdout",
     "output_type": "stream",
     "text": [
      "2018-07-10 19:57:11 [INFO] src.evaluation.evaluator: Training LSTMED on Syn Extreme Outliers (mis=0.225) with seed 4207519642\n"
     ]
    },
    {
     "name": "stderr",
     "output_type": "stream",
     "text": [
      "\r",
      "                                                                               \r",
      "\r",
      " 28% (2 of 7) |#######                   | Elapsed Time: 0:03:22 ETA:   0:08:08"
     ]
    },
    {
     "name": "stdout",
     "output_type": "stream",
     "text": [
      "2018-07-10 19:58:49 [INFO] src.evaluation.evaluator: Training DAGMM_NNAutoEncoder_withoutWindow on Syn Extreme Outliers (mis=0.225) with seed 4207519642\n",
      "2018-07-10 19:58:49 [ERROR] src.evaluation.evaluator: An exception occurred while training DAGMM_NNAutoEncoder_withoutWindow on Syn Extreme Outliers (mis=0.225): Lapack Error getrf : U(3,3) is 0, U is singular at /pytorch/aten/src/TH/generic/THTensorLapack.c:514\n",
      "2018-07-10 19:58:49 [ERROR] src.evaluation.evaluator: Traceback (most recent call last):\n",
      "  File \"../src/evaluation/evaluator.py\", line 122, in evaluate\n",
      "    det.fit(X_train.copy(), y_train.copy())\n",
      "  File \"../src/algorithms/dagmm.py\", line 203, in fit\n",
      "    self.dagmm_step(input_data.float())\n",
      "  File \"../src/algorithms/dagmm.py\", line 177, in dagmm_step\n",
      "    self.lambda_cov_diag)\n",
      "  File \"../src/algorithms/dagmm.py\", line 144, in loss_function\n",
      "    sample_energy, cov_diag = self.compute_energy(z, phi, mu, cov)\n",
      "  File \"../src/algorithms/dagmm.py\", line 113, in compute_energy\n",
      "    cov_inverse.append(torch.inverse(cov_k).unsqueeze(0))\n",
      "RuntimeError: Lapack Error getrf : U(3,3) is 0, U is singular at /pytorch/aten/src/TH/generic/THTensorLapack.c:514\n",
      "\n"
     ]
    },
    {
     "name": "stderr",
     "output_type": "stream",
     "text": [
      "\r",
      "                                                                               \r",
      "\r",
      " 42% (3 of 7) |###########               | Elapsed Time: 0:03:22 ETA:   0:03:16"
     ]
    },
    {
     "name": "stdout",
     "output_type": "stream",
     "text": [
      "2018-07-10 19:58:49 [INFO] src.evaluation.evaluator: Training DAGMM_NNAutoEncoder_withWindow on Syn Extreme Outliers (mis=0.225) with seed 4207519642\n"
     ]
    },
    {
     "name": "stderr",
     "output_type": "stream",
     "text": [
      "\r",
      "                                                                               \r",
      "\r",
      " 57% (4 of 7) |##############            | Elapsed Time: 0:03:26 ETA:   0:00:11"
     ]
    },
    {
     "name": "stdout",
     "output_type": "stream",
     "text": [
      "2018-07-10 19:58:53 [INFO] src.evaluation.evaluator: Training DAGMM_LSTMAutoEncoder_withWindow on Syn Extreme Outliers (mis=0.225) with seed 4207519642\n"
     ]
    },
    {
     "name": "stderr",
     "output_type": "stream",
     "text": [
      "\r",
      "                                                                               \r",
      "\r",
      " 71% (5 of 7) |##################        | Elapsed Time: 0:03:57 ETA:   0:01:00"
     ]
    },
    {
     "name": "stdout",
     "output_type": "stream",
     "text": [
      "2018-07-10 19:59:24 [INFO] src.evaluation.evaluator: Training Recurrent EBM on Syn Extreme Outliers (mis=0.225) with seed 4207519642\n"
     ]
    },
    {
     "name": "stderr",
     "output_type": "stream",
     "text": [
      "100%|██████████| 15/15 [00:07<00:00,  1.90it/s]\n",
      " 85% (6 of 7) |######################    | Elapsed Time: 0:05:19 ETA:   0:01:22"
     ]
    },
    {
     "name": "stdout",
     "output_type": "stream",
     "text": [
      "2018-07-10 20:00:46 [INFO] src.evaluation.evaluator: Training Donut on Syn Extreme Outliers (mis=0.225) with seed 4207519642\n"
     ]
    },
    {
     "name": "stderr",
     "output_type": "stream",
     "text": [
      "100%|██████████| 1/1 [01:17<00:00, 77.87s/it]\n",
      "100% (7 of 7) |##########################| Elapsed Time: 0:07:05 Time:  0:07:05\n",
      "N/A% (0 of 7) |                          | Elapsed Time: 0:00:00 ETA:  --:--:--"
     ]
    },
    {
     "name": "stdout",
     "output_type": "stream",
     "text": [
      "2018-07-10 20:02:32 [INFO] src.evaluation.evaluator: Training LSTM-AD on Syn Extreme Outliers (mis=0.45) with seed 4207519642\n"
     ]
    },
    {
     "name": "stderr",
     "output_type": "stream",
     "text": [
      "\r",
      "                                                                               \r",
      "\r",
      " 14% (1 of 7) |###                       | Elapsed Time: 0:01:42 ETA:   0:10:12"
     ]
    },
    {
     "name": "stdout",
     "output_type": "stream",
     "text": [
      "2018-07-10 20:04:14 [INFO] src.evaluation.evaluator: Training LSTMED on Syn Extreme Outliers (mis=0.45) with seed 4207519642\n"
     ]
    },
    {
     "name": "stderr",
     "output_type": "stream",
     "text": [
      "\r",
      "                                                                               \r",
      "\r",
      " 28% (2 of 7) |#######                   | Elapsed Time: 0:03:19 ETA:   0:08:05"
     ]
    },
    {
     "name": "stdout",
     "output_type": "stream",
     "text": [
      "2018-07-10 20:05:51 [INFO] src.evaluation.evaluator: Training DAGMM_NNAutoEncoder_withoutWindow on Syn Extreme Outliers (mis=0.45) with seed 4207519642\n",
      "2018-07-10 20:05:51 [WARNING] root: Determinant was negative! Clipping Eigenvalues to 0+epsilon from -4.595445659560937e-07\n",
      "2018-07-10 20:05:51 [WARNING] root: Determinant was negative! Clipping Eigenvalues to 0+epsilon from -5.987500628634734e-08\n",
      "2018-07-10 20:05:51 [WARNING] root: Determinant was negative! Clipping Eigenvalues to 0+epsilon from -3.177485439209704e-07\n",
      "2018-07-10 20:05:51 [WARNING] root: Determinant was negative! Clipping Eigenvalues to 0+epsilon from -2.8030749277263567e-08\n",
      "2018-07-10 20:05:51 [WARNING] root: Determinant was negative! Clipping Eigenvalues to 0+epsilon from -4.032847584767296e-07\n",
      "2018-07-10 20:05:51 [WARNING] root: Determinant was negative! Clipping Eigenvalues to 0+epsilon from -3.873957155065e-07\n",
      "2018-07-10 20:05:51 [WARNING] root: Determinant was negative! Clipping Eigenvalues to 0+epsilon from -4.3273018945910735e-07\n",
      "2018-07-10 20:05:51 [WARNING] root: Determinant was negative! Clipping Eigenvalues to 0+epsilon from -1.2252401404566626e-07\n",
      "2018-07-10 20:05:51 [WARNING] root: Determinant was negative! Clipping Eigenvalues to 0+epsilon from -2.9159481940155274e-08\n",
      "2018-07-10 20:05:51 [WARNING] root: Determinant was negative! Clipping Eigenvalues to 0+epsilon from -3.7028055288601536e-08\n",
      "2018-07-10 20:05:51 [WARNING] root: Determinant was negative! Clipping Eigenvalues to 0+epsilon from -6.308709430413728e-07\n",
      "2018-07-10 20:05:51 [WARNING] root: Determinant was negative! Clipping Eigenvalues to 0+epsilon from -6.135400667517388e-07\n",
      "2018-07-10 20:05:51 [WARNING] root: Determinant was negative! Clipping Eigenvalues to 0+epsilon from -1.263420585928543e-07\n",
      "2018-07-10 20:05:51 [WARNING] root: Determinant was negative! Clipping Eigenvalues to 0+epsilon from -1.5984744550223695e-07\n",
      "2018-07-10 20:05:52 [WARNING] root: Determinant was negative! Clipping Eigenvalues to 0+epsilon from -6.680986075480178e-07\n",
      "2018-07-10 20:05:52 [WARNING] root: Determinant was negative! Clipping Eigenvalues to 0+epsilon from -4.068675423241075e-07\n",
      "2018-07-10 20:05:52 [WARNING] root: Determinant was negative! Clipping Eigenvalues to 0+epsilon from -1.7480428482485877e-07\n",
      "2018-07-10 20:05:52 [WARNING] root: Determinant was negative! Clipping Eigenvalues to 0+epsilon from -2.097603726269881e-07\n",
      "2018-07-10 20:05:52 [WARNING] root: Determinant was negative! Clipping Eigenvalues to 0+epsilon from -1.9509322157773568e-07\n",
      "2018-07-10 20:05:52 [WARNING] root: Determinant was negative! Clipping Eigenvalues to 0+epsilon from -8.24437108803977e-07\n",
      "2018-07-10 20:05:52 [WARNING] root: Determinant was negative! Clipping Eigenvalues to 0+epsilon from -1.520756427453307e-07\n",
      "2018-07-10 20:05:52 [WARNING] root: Determinant was negative! Clipping Eigenvalues to 0+epsilon from -9.952050561423675e-08\n",
      "2018-07-10 20:05:52 [WARNING] root: Determinant was negative! Clipping Eigenvalues to 0+epsilon from -4.386907335174328e-07\n",
      "2018-07-10 20:05:52 [WARNING] root: Determinant was negative! Clipping Eigenvalues to 0+epsilon from -2.3006718663509673e-07\n",
      "2018-07-10 20:05:52 [WARNING] root: Determinant was negative! Clipping Eigenvalues to 0+epsilon from -1.0271431705177747e-07\n",
      "2018-07-10 20:05:52 [WARNING] root: Determinant was negative! Clipping Eigenvalues to 0+epsilon from -3.4760222433760646e-07\n",
      "2018-07-10 20:05:52 [WARNING] root: Determinant was negative! Clipping Eigenvalues to 0+epsilon from -9.502346465239953e-09\n",
      "2018-07-10 20:05:52 [WARNING] root: Determinant was negative! Clipping Eigenvalues to 0+epsilon from -6.195860891011762e-08\n",
      "2018-07-10 20:05:52 [WARNING] root: Determinant was negative! Clipping Eigenvalues to 0+epsilon from -2.709305988446431e-07\n",
      "2018-07-10 20:05:52 [WARNING] root: Determinant was negative! Clipping Eigenvalues to 0+epsilon from -9.390626587446604e-07\n",
      "2018-07-10 20:05:52 [WARNING] root: Determinant was negative! Clipping Eigenvalues to 0+epsilon from -4.162243385508191e-07\n",
      "2018-07-10 20:05:52 [WARNING] root: Determinant was negative! Clipping Eigenvalues to 0+epsilon from -3.0571666798095976e-07\n",
      "2018-07-10 20:05:52 [WARNING] root: Determinant was negative! Clipping Eigenvalues to 0+epsilon from -5.474956310536072e-07\n",
      "2018-07-10 20:05:52 [WARNING] root: Determinant was negative! Clipping Eigenvalues to 0+epsilon from -7.10324741248769e-07\n",
      "2018-07-10 20:05:52 [WARNING] root: Determinant was negative! Clipping Eigenvalues to 0+epsilon from -1.029571095045867e-07\n",
      "2018-07-10 20:05:52 [WARNING] root: Determinant was negative! Clipping Eigenvalues to 0+epsilon from -4.089058052159089e-07\n",
      "2018-07-10 20:05:52 [WARNING] root: Determinant was negative! Clipping Eigenvalues to 0+epsilon from -3.7163204069656786e-07\n",
      "2018-07-10 20:05:52 [WARNING] root: Determinant was negative! Clipping Eigenvalues to 0+epsilon from -6.055875019228552e-07\n",
      "2018-07-10 20:05:52 [WARNING] root: Determinant was negative! Clipping Eigenvalues to 0+epsilon from -4.484410851546272e-07\n",
      "2018-07-10 20:05:52 [WARNING] root: Determinant was negative! Clipping Eigenvalues to 0+epsilon from -4.668757469517004e-07\n",
      "2018-07-10 20:05:52 [WARNING] root: Determinant was negative! Clipping Eigenvalues to 0+epsilon from -6.231529141587089e-07\n",
      "2018-07-10 20:05:52 [WARNING] root: Determinant was negative! Clipping Eigenvalues to 0+epsilon from -4.2823677404157934e-07\n",
      "2018-07-10 20:05:52 [WARNING] root: Determinant was negative! Clipping Eigenvalues to 0+epsilon from -3.517299660416029e-07\n",
      "2018-07-10 20:05:52 [WARNING] root: Determinant was negative! Clipping Eigenvalues to 0+epsilon from -1.3644233831655583e-07\n",
      "2018-07-10 20:05:52 [WARNING] root: Determinant was negative! Clipping Eigenvalues to 0+epsilon from -6.42434201836295e-07\n",
      "2018-07-10 20:05:52 [WARNING] root: Determinant was negative! Clipping Eigenvalues to 0+epsilon from -4.006188021321577e-07\n",
      "2018-07-10 20:05:52 [WARNING] root: Determinant was negative! Clipping Eigenvalues to 0+epsilon from -8.331424510288343e-07\n",
      "2018-07-10 20:05:52 [WARNING] root: Determinant was negative! Clipping Eigenvalues to 0+epsilon from -1.2941885074724269e-07\n",
      "2018-07-10 20:05:52 [WARNING] root: Determinant was negative! Clipping Eigenvalues to 0+epsilon from -6.091669320085202e-07\n",
      "2018-07-10 20:05:52 [WARNING] root: Determinant was negative! Clipping Eigenvalues to 0+epsilon from -4.319723245771456e-08\n",
      "2018-07-10 20:05:52 [WARNING] root: Determinant was negative! Clipping Eigenvalues to 0+epsilon from -8.264860866802337e-07\n",
      "2018-07-10 20:05:52 [WARNING] root: Determinant was negative! Clipping Eigenvalues to 0+epsilon from -1.0181123570873751e-06\n",
      "2018-07-10 20:05:52 [WARNING] root: Determinant was negative! Clipping Eigenvalues to 0+epsilon from -2.201377924393455e-07\n",
      "2018-07-10 20:05:52 [WARNING] root: Determinant was negative! Clipping Eigenvalues to 0+epsilon from -6.091121207418837e-08\n",
      "2018-07-10 20:05:52 [WARNING] root: Determinant was negative! Clipping Eigenvalues to 0+epsilon from -3.5275738241580257e-07\n",
      "2018-07-10 20:05:52 [WARNING] root: Determinant was negative! Clipping Eigenvalues to 0+epsilon from -2.7513110012478137e-07\n",
      "2018-07-10 20:05:52 [WARNING] root: Determinant was negative! Clipping Eigenvalues to 0+epsilon from -1.0623008250831845e-07\n",
      "2018-07-10 20:05:52 [ERROR] src.evaluation.evaluator: An exception occurred while training DAGMM_NNAutoEncoder_withoutWindow on Syn Extreme Outliers (mis=0.45): Lapack Error getrf : U(3,3) is 0, U is singular at /pytorch/aten/src/TH/generic/THTensorLapack.c:514\n",
      "2018-07-10 20:05:52 [ERROR] src.evaluation.evaluator: Traceback (most recent call last):\n",
      "  File \"../src/evaluation/evaluator.py\", line 122, in evaluate\n",
      "    det.fit(X_train.copy(), y_train.copy())\n",
      "  File \"../src/algorithms/dagmm.py\", line 203, in fit\n",
      "    self.dagmm_step(input_data.float())\n",
      "  File \"../src/algorithms/dagmm.py\", line 177, in dagmm_step\n",
      "    self.lambda_cov_diag)\n",
      "  File \"../src/algorithms/dagmm.py\", line 144, in loss_function\n",
      "    sample_energy, cov_diag = self.compute_energy(z, phi, mu, cov)\n",
      "  File \"../src/algorithms/dagmm.py\", line 113, in compute_energy\n",
      "    cov_inverse.append(torch.inverse(cov_k).unsqueeze(0))\n",
      "RuntimeError: Lapack Error getrf : U(3,3) is 0, U is singular at /pytorch/aten/src/TH/generic/THTensorLapack.c:514\n",
      "\n"
     ]
    },
    {
     "name": "stderr",
     "output_type": "stream",
     "text": [
      "\r",
      "                                                                               \r",
      "\r",
      " 42% (3 of 7) |###########               | Elapsed Time: 0:03:20 ETA:   0:03:15"
     ]
    },
    {
     "name": "stdout",
     "output_type": "stream",
     "text": [
      "2018-07-10 20:05:52 [INFO] src.evaluation.evaluator: Training DAGMM_NNAutoEncoder_withWindow on Syn Extreme Outliers (mis=0.45) with seed 4207519642\n"
     ]
    },
    {
     "name": "stderr",
     "output_type": "stream",
     "text": [
      "\r",
      "                                                                               \r",
      "\r",
      " 57% (4 of 7) |##############            | Elapsed Time: 0:03:24 ETA:   0:00:12"
     ]
    },
    {
     "name": "stdout",
     "output_type": "stream",
     "text": [
      "2018-07-10 20:05:56 [INFO] src.evaluation.evaluator: Training DAGMM_LSTMAutoEncoder_withWindow on Syn Extreme Outliers (mis=0.45) with seed 4207519642\n"
     ]
    },
    {
     "name": "stderr",
     "output_type": "stream",
     "text": [
      "\r",
      "                                                                               \r",
      "\r",
      " 71% (5 of 7) |##################        | Elapsed Time: 0:03:54 ETA:   0:01:00"
     ]
    },
    {
     "name": "stdout",
     "output_type": "stream",
     "text": [
      "2018-07-10 20:06:26 [INFO] src.evaluation.evaluator: Training Recurrent EBM on Syn Extreme Outliers (mis=0.45) with seed 4207519642\n"
     ]
    },
    {
     "name": "stderr",
     "output_type": "stream",
     "text": [
      "100%|██████████| 15/15 [00:07<00:00,  1.94it/s]\n",
      " 85% (6 of 7) |######################    | Elapsed Time: 0:04:45 ETA:   0:00:50"
     ]
    },
    {
     "name": "stdout",
     "output_type": "stream",
     "text": [
      "2018-07-10 20:07:17 [INFO] src.evaluation.evaluator: Training Donut on Syn Extreme Outliers (mis=0.45) with seed 4207519642\n"
     ]
    },
    {
     "name": "stderr",
     "output_type": "stream",
     "text": [
      "100%|██████████| 1/1 [01:18<00:00, 78.04s/it]\n",
      "100% (7 of 7) |##########################| Elapsed Time: 0:06:31 Time:  0:06:31\n",
      "N/A% (0 of 7) |                          | Elapsed Time: 0:00:00 ETA:  --:--:--"
     ]
    },
    {
     "name": "stdout",
     "output_type": "stream",
     "text": [
      "2018-07-10 20:09:03 [INFO] src.evaluation.evaluator: Training LSTM-AD on Syn Extreme Outliers (mis=0.675) with seed 4207519642\n"
     ]
    },
    {
     "name": "stderr",
     "output_type": "stream",
     "text": [
      "\r",
      "                                                                               \r",
      "\r",
      " 14% (1 of 7) |###                       | Elapsed Time: 0:01:42 ETA:   0:10:15"
     ]
    },
    {
     "name": "stdout",
     "output_type": "stream",
     "text": [
      "2018-07-10 20:10:46 [INFO] src.evaluation.evaluator: Training LSTMED on Syn Extreme Outliers (mis=0.675) with seed 4207519642\n"
     ]
    },
    {
     "name": "stderr",
     "output_type": "stream",
     "text": [
      "\r",
      "                                                                               \r",
      "\r",
      " 28% (2 of 7) |#######                   | Elapsed Time: 0:03:19 ETA:   0:08:06"
     ]
    },
    {
     "name": "stdout",
     "output_type": "stream",
     "text": [
      "2018-07-10 20:12:23 [INFO] src.evaluation.evaluator: Training DAGMM_NNAutoEncoder_withoutWindow on Syn Extreme Outliers (mis=0.675) with seed 4207519642\n",
      "2018-07-10 20:12:23 [WARNING] root: Determinant was negative! Clipping Eigenvalues to 0+epsilon from -2.43821460799154e-07\n",
      "2018-07-10 20:12:23 [WARNING] root: Determinant was negative! Clipping Eigenvalues to 0+epsilon from -1.605581161356895e-07\n",
      "2018-07-10 20:12:23 [WARNING] root: Determinant was negative! Clipping Eigenvalues to 0+epsilon from -4.7501629296675674e-07\n",
      "2018-07-10 20:12:23 [WARNING] root: Determinant was negative! Clipping Eigenvalues to 0+epsilon from -6.390259272848198e-07\n",
      "2018-07-10 20:12:23 [WARNING] root: Determinant was negative! Clipping Eigenvalues to 0+epsilon from -7.294459436479883e-08\n",
      "2018-07-10 20:12:23 [WARNING] root: Determinant was negative! Clipping Eigenvalues to 0+epsilon from -2.259413207639227e-07\n",
      "2018-07-10 20:12:23 [WARNING] root: Determinant was negative! Clipping Eigenvalues to 0+epsilon from -3.1213480156111473e-07\n",
      "2018-07-10 20:12:23 [WARNING] root: Determinant was negative! Clipping Eigenvalues to 0+epsilon from -2.617306620322779e-07\n",
      "2018-07-10 20:12:23 [WARNING] root: Determinant was negative! Clipping Eigenvalues to 0+epsilon from -3.4868799048126675e-07\n",
      "2018-07-10 20:12:23 [WARNING] root: Determinant was negative! Clipping Eigenvalues to 0+epsilon from -4.187339897043785e-08\n",
      "2018-07-10 20:12:23 [WARNING] root: Determinant was negative! Clipping Eigenvalues to 0+epsilon from -4.2088262830475287e-07\n",
      "2018-07-10 20:12:23 [WARNING] root: Determinant was negative! Clipping Eigenvalues to 0+epsilon from -3.9009313468341134e-07\n",
      "2018-07-10 20:12:23 [WARNING] root: Determinant was negative! Clipping Eigenvalues to 0+epsilon from -1.1925995124784095e-07\n",
      "2018-07-10 20:12:23 [WARNING] root: Determinant was negative! Clipping Eigenvalues to 0+epsilon from -1.2345984714556835e-06\n",
      "2018-07-10 20:12:23 [WARNING] root: Determinant was negative! Clipping Eigenvalues to 0+epsilon from -1.0878313361217806e-07\n",
      "2018-07-10 20:12:23 [WARNING] root: Determinant was negative! Clipping Eigenvalues to 0+epsilon from -6.87702026880288e-07\n",
      "2018-07-10 20:12:23 [WARNING] root: Determinant was negative! Clipping Eigenvalues to 0+epsilon from -3.5257312447356526e-07\n",
      "2018-07-10 20:12:23 [WARNING] root: Determinant was negative! Clipping Eigenvalues to 0+epsilon from -2.6455328594465755e-08\n",
      "2018-07-10 20:12:23 [WARNING] root: Determinant was negative! Clipping Eigenvalues to 0+epsilon from -1.179564002029565e-08\n",
      "2018-07-10 20:12:23 [WARNING] root: Determinant was negative! Clipping Eigenvalues to 0+epsilon from -2.5863511154966545e-07\n",
      "2018-07-10 20:12:23 [WARNING] root: Determinant was negative! Clipping Eigenvalues to 0+epsilon from -5.992666842757899e-07\n",
      "2018-07-10 20:12:23 [WARNING] root: Determinant was negative! Clipping Eigenvalues to 0+epsilon from -1.2782955138845864e-07\n",
      "2018-07-10 20:12:23 [WARNING] root: Determinant was negative! Clipping Eigenvalues to 0+epsilon from -3.593788164835132e-07\n",
      "2018-07-10 20:12:23 [WARNING] root: Determinant was negative! Clipping Eigenvalues to 0+epsilon from -3.049129588816868e-07\n",
      "2018-07-10 20:12:23 [WARNING] root: Determinant was negative! Clipping Eigenvalues to 0+epsilon from -1.9643320303686096e-09\n",
      "2018-07-10 20:12:23 [WARNING] root: Determinant was negative! Clipping Eigenvalues to 0+epsilon from -1.8805599211191293e-07\n",
      "2018-07-10 20:12:23 [ERROR] src.evaluation.evaluator: An exception occurred while training DAGMM_NNAutoEncoder_withoutWindow on Syn Extreme Outliers (mis=0.675): Lapack Error getrf : U(3,3) is 0, U is singular at /pytorch/aten/src/TH/generic/THTensorLapack.c:514\n",
      "2018-07-10 20:12:23 [ERROR] src.evaluation.evaluator: Traceback (most recent call last):\n",
      "  File \"../src/evaluation/evaluator.py\", line 122, in evaluate\n",
      "    det.fit(X_train.copy(), y_train.copy())\n",
      "  File \"../src/algorithms/dagmm.py\", line 203, in fit\n",
      "    self.dagmm_step(input_data.float())\n",
      "  File \"../src/algorithms/dagmm.py\", line 177, in dagmm_step\n",
      "    self.lambda_cov_diag)\n",
      "  File \"../src/algorithms/dagmm.py\", line 144, in loss_function\n",
      "    sample_energy, cov_diag = self.compute_energy(z, phi, mu, cov)\n",
      "  File \"../src/algorithms/dagmm.py\", line 113, in compute_energy\n",
      "    cov_inverse.append(torch.inverse(cov_k).unsqueeze(0))\n",
      "RuntimeError: Lapack Error getrf : U(3,3) is 0, U is singular at /pytorch/aten/src/TH/generic/THTensorLapack.c:514\n",
      "\n"
     ]
    },
    {
     "name": "stderr",
     "output_type": "stream",
     "text": [
      "\r",
      "                                                                               \r",
      "\r",
      " 42% (3 of 7) |###########               | Elapsed Time: 0:03:20 ETA:   0:03:14"
     ]
    },
    {
     "name": "stdout",
     "output_type": "stream",
     "text": [
      "2018-07-10 20:12:23 [INFO] src.evaluation.evaluator: Training DAGMM_NNAutoEncoder_withWindow on Syn Extreme Outliers (mis=0.675) with seed 4207519642\n"
     ]
    },
    {
     "name": "stderr",
     "output_type": "stream",
     "text": [
      "\r",
      "                                                                               \r",
      "\r",
      " 57% (4 of 7) |##############            | Elapsed Time: 0:03:24 ETA:   0:00:11"
     ]
    },
    {
     "name": "stdout",
     "output_type": "stream",
     "text": [
      "2018-07-10 20:12:27 [INFO] src.evaluation.evaluator: Training DAGMM_LSTMAutoEncoder_withWindow on Syn Extreme Outliers (mis=0.675) with seed 4207519642\n"
     ]
    },
    {
     "name": "stderr",
     "output_type": "stream",
     "text": [
      "\r",
      "                                                                               \r",
      "\r",
      " 71% (5 of 7) |##################        | Elapsed Time: 0:03:54 ETA:   0:01:01"
     ]
    },
    {
     "name": "stdout",
     "output_type": "stream",
     "text": [
      "2018-07-10 20:12:58 [INFO] src.evaluation.evaluator: Training Recurrent EBM on Syn Extreme Outliers (mis=0.675) with seed 4207519642\n"
     ]
    },
    {
     "name": "stderr",
     "output_type": "stream",
     "text": [
      "100%|██████████| 15/15 [00:07<00:00,  1.88it/s]\n",
      " 85% (6 of 7) |######################    | Elapsed Time: 0:04:46 ETA:   0:00:51"
     ]
    },
    {
     "name": "stdout",
     "output_type": "stream",
     "text": [
      "2018-07-10 20:13:50 [INFO] src.evaluation.evaluator: Training Donut on Syn Extreme Outliers (mis=0.675) with seed 4207519642\n"
     ]
    },
    {
     "name": "stderr",
     "output_type": "stream",
     "text": [
      "100%|██████████| 1/1 [01:19<00:00, 79.20s/it]\n",
      "100% (7 of 7) |##########################| Elapsed Time: 0:06:34 Time:  0:06:34\n",
      "N/A% (0 of 7) |                          | Elapsed Time: 0:00:00 ETA:  --:--:--"
     ]
    },
    {
     "name": "stdout",
     "output_type": "stream",
     "text": [
      "2018-07-10 20:15:38 [INFO] src.evaluation.evaluator: Training LSTM-AD on Syn Extreme Outliers (mis=0.9) with seed 4207519642\n"
     ]
    },
    {
     "name": "stderr",
     "output_type": "stream",
     "text": [
      "\r",
      "                                                                               \r",
      "\r",
      " 14% (1 of 7) |###                       | Elapsed Time: 0:01:42 ETA:   0:10:15"
     ]
    },
    {
     "name": "stdout",
     "output_type": "stream",
     "text": [
      "2018-07-10 20:17:20 [INFO] src.evaluation.evaluator: Training LSTMED on Syn Extreme Outliers (mis=0.9) with seed 4207519642\n"
     ]
    },
    {
     "name": "stderr",
     "output_type": "stream",
     "text": [
      "\r",
      "                                                                               \r",
      "\r",
      " 28% (2 of 7) |#######                   | Elapsed Time: 0:03:19 ETA:   0:08:05"
     ]
    },
    {
     "name": "stdout",
     "output_type": "stream",
     "text": [
      "2018-07-10 20:18:57 [INFO] src.evaluation.evaluator: Training DAGMM_NNAutoEncoder_withoutWindow on Syn Extreme Outliers (mis=0.9) with seed 4207519642\n",
      "2018-07-10 20:18:57 [WARNING] root: Determinant was negative! Clipping Eigenvalues to 0+epsilon from -9.563918723642928e-08\n",
      "2018-07-10 20:18:57 [WARNING] root: Determinant was negative! Clipping Eigenvalues to 0+epsilon from -5.0649106242417474e-08\n",
      "2018-07-10 20:18:57 [WARNING] root: Determinant was negative! Clipping Eigenvalues to 0+epsilon from -2.937393901447649e-07\n",
      "2018-07-10 20:18:57 [WARNING] root: Determinant was negative! Clipping Eigenvalues to 0+epsilon from -2.802013510105894e-09\n",
      "2018-07-10 20:18:57 [WARNING] root: Determinant was negative! Clipping Eigenvalues to 0+epsilon from -3.1687511636846466e-07\n",
      "2018-07-10 20:18:57 [WARNING] root: Determinant was negative! Clipping Eigenvalues to 0+epsilon from -2.4800360165500024e-07\n",
      "2018-07-10 20:18:57 [WARNING] root: Determinant was negative! Clipping Eigenvalues to 0+epsilon from -9.027191794075407e-08\n",
      "2018-07-10 20:18:57 [WARNING] root: Determinant was negative! Clipping Eigenvalues to 0+epsilon from -1.0224041169237807e-08\n",
      "2018-07-10 20:18:57 [WARNING] root: Determinant was negative! Clipping Eigenvalues to 0+epsilon from -2.5468557041108397e-08\n",
      "2018-07-10 20:18:57 [WARNING] root: Determinant was negative! Clipping Eigenvalues to 0+epsilon from -3.111039481584754e-10\n",
      "2018-07-10 20:18:57 [WARNING] root: Determinant was negative! Clipping Eigenvalues to 0+epsilon from -2.538703647303464e-08\n",
      "2018-07-10 20:18:57 [WARNING] root: Determinant was negative! Clipping Eigenvalues to 0+epsilon from -1.2114351477521268e-07\n",
      "2018-07-10 20:18:57 [WARNING] root: Determinant was negative! Clipping Eigenvalues to 0+epsilon from -7.004281599165552e-08\n",
      "2018-07-10 20:18:57 [WARNING] root: Determinant was negative! Clipping Eigenvalues to 0+epsilon from -1.9298913400689344e-07\n",
      "2018-07-10 20:18:58 [WARNING] root: Determinant was negative! Clipping Eigenvalues to 0+epsilon from -1.2173120467195986e-07\n",
      "2018-07-10 20:18:58 [WARNING] root: Determinant was negative! Clipping Eigenvalues to 0+epsilon from -6.801362673058975e-08\n",
      "2018-07-10 20:18:58 [WARNING] root: Determinant was negative! Clipping Eigenvalues to 0+epsilon from -1.6449099859983107e-07\n",
      "2018-07-10 20:18:58 [WARNING] root: Determinant was negative! Clipping Eigenvalues to 0+epsilon from -4.4867672244208734e-08\n",
      "2018-07-10 20:18:58 [WARNING] root: Determinant was negative! Clipping Eigenvalues to 0+epsilon from -1.247936580739406e-07\n",
      "2018-07-10 20:18:58 [WARNING] root: Determinant was negative! Clipping Eigenvalues to 0+epsilon from -6.459110579726257e-09\n",
      "2018-07-10 20:18:58 [WARNING] root: Determinant was negative! Clipping Eigenvalues to 0+epsilon from -5.719281048754965e-08\n",
      "2018-07-10 20:18:58 [WARNING] root: Determinant was negative! Clipping Eigenvalues to 0+epsilon from -2.7898889243260783e-07\n",
      "2018-07-10 20:18:58 [WARNING] root: Determinant was negative! Clipping Eigenvalues to 0+epsilon from -1.9587139377108542e-07\n",
      "2018-07-10 20:18:58 [WARNING] root: Determinant was negative! Clipping Eigenvalues to 0+epsilon from -1.6016441506394585e-08\n",
      "2018-07-10 20:18:58 [WARNING] root: Determinant was negative! Clipping Eigenvalues to 0+epsilon from -1.4800765768541169e-07\n",
      "2018-07-10 20:18:58 [WARNING] root: Determinant was negative! Clipping Eigenvalues to 0+epsilon from -3.5467894576868275e-07\n",
      "2018-07-10 20:18:58 [WARNING] root: Determinant was negative! Clipping Eigenvalues to 0+epsilon from -9.543608570083961e-08\n",
      "2018-07-10 20:18:58 [WARNING] root: Determinant was negative! Clipping Eigenvalues to 0+epsilon from -1.0757515767068071e-08\n",
      "2018-07-10 20:18:58 [WARNING] root: Determinant was negative! Clipping Eigenvalues to 0+epsilon from -1.7202604851718206e-07\n",
      "2018-07-10 20:18:58 [WARNING] root: Determinant was negative! Clipping Eigenvalues to 0+epsilon from -2.6853345502786397e-07\n",
      "2018-07-10 20:18:58 [WARNING] root: Determinant was negative! Clipping Eigenvalues to 0+epsilon from -6.236512604118616e-07\n",
      "2018-07-10 20:18:58 [ERROR] src.evaluation.evaluator: An exception occurred while training DAGMM_NNAutoEncoder_withoutWindow on Syn Extreme Outliers (mis=0.9): Lapack Error getrf : U(3,3) is 0, U is singular at /pytorch/aten/src/TH/generic/THTensorLapack.c:514\n",
      "2018-07-10 20:18:58 [ERROR] src.evaluation.evaluator: Traceback (most recent call last):\n",
      "  File \"../src/evaluation/evaluator.py\", line 122, in evaluate\n",
      "    det.fit(X_train.copy(), y_train.copy())\n",
      "  File \"../src/algorithms/dagmm.py\", line 203, in fit\n",
      "    self.dagmm_step(input_data.float())\n",
      "  File \"../src/algorithms/dagmm.py\", line 177, in dagmm_step\n",
      "    self.lambda_cov_diag)\n",
      "  File \"../src/algorithms/dagmm.py\", line 144, in loss_function\n",
      "    sample_energy, cov_diag = self.compute_energy(z, phi, mu, cov)\n",
      "  File \"../src/algorithms/dagmm.py\", line 113, in compute_energy\n",
      "    cov_inverse.append(torch.inverse(cov_k).unsqueeze(0))\n",
      "RuntimeError: Lapack Error getrf : U(3,3) is 0, U is singular at /pytorch/aten/src/TH/generic/THTensorLapack.c:514\n",
      "\n"
     ]
    },
    {
     "name": "stderr",
     "output_type": "stream",
     "text": [
      "\r",
      "                                                                               \r",
      "\r",
      " 42% (3 of 7) |###########               | Elapsed Time: 0:03:19 ETA:   0:03:14"
     ]
    },
    {
     "name": "stdout",
     "output_type": "stream",
     "text": [
      "2018-07-10 20:18:58 [INFO] src.evaluation.evaluator: Training DAGMM_NNAutoEncoder_withWindow on Syn Extreme Outliers (mis=0.9) with seed 4207519642\n"
     ]
    },
    {
     "name": "stderr",
     "output_type": "stream",
     "text": [
      "\r",
      "                                                                               \r",
      "\r",
      " 57% (4 of 7) |##############            | Elapsed Time: 0:03:23 ETA:   0:00:11"
     ]
    },
    {
     "name": "stdout",
     "output_type": "stream",
     "text": [
      "2018-07-10 20:19:02 [INFO] src.evaluation.evaluator: Training DAGMM_LSTMAutoEncoder_withWindow on Syn Extreme Outliers (mis=0.9) with seed 4207519642\n"
     ]
    },
    {
     "name": "stderr",
     "output_type": "stream",
     "text": [
      "\r",
      "                                                                               \r",
      "\r",
      " 71% (5 of 7) |##################        | Elapsed Time: 0:03:54 ETA:   0:01:00"
     ]
    },
    {
     "name": "stdout",
     "output_type": "stream",
     "text": [
      "2018-07-10 20:19:32 [INFO] src.evaluation.evaluator: Training Recurrent EBM on Syn Extreme Outliers (mis=0.9) with seed 4207519642\n"
     ]
    },
    {
     "name": "stderr",
     "output_type": "stream",
     "text": [
      "100%|██████████| 15/15 [00:07<00:00,  1.93it/s]\n",
      " 85% (6 of 7) |######################    | Elapsed Time: 0:04:46 ETA:   0:00:52"
     ]
    },
    {
     "name": "stdout",
     "output_type": "stream",
     "text": [
      "2018-07-10 20:20:24 [INFO] src.evaluation.evaluator: Training Donut on Syn Extreme Outliers (mis=0.9) with seed 4207519642\n"
     ]
    },
    {
     "name": "stderr",
     "output_type": "stream",
     "text": [
      "100%|██████████| 1/1 [01:30<00:00, 90.24s/it]\n",
      "100% (7 of 7) |##########################| Elapsed Time: 0:06:46 Time:  0:06:46\n",
      "100% (5 of 5) |##########################| Elapsed Time: 0:38:37 Time:  0:38:37\n"
     ]
    },
    {
     "name": "stdout",
     "output_type": "stream",
     "text": [
      "2018-07-10 20:22:27 [INFO] src.evaluation.evaluator: Store evaluator results at /home/thomas/work/notebooks/data_30/missing-run-13-4207519642-2018-07-10-202227.pkl\n"
     ]
    },
    {
     "name": "stderr",
     "output_type": "stream",
     "text": [
      "N/A% (0 of 7) |                          | Elapsed Time: 0:00:00 ETA:  --:--:--"
     ]
    },
    {
     "name": "stdout",
     "output_type": "stream",
     "text": [
      "2018-07-10 20:22:27 [INFO] src.evaluation.evaluator: Training LSTM-AD on Syn Extreme Outliers (mis=0.0) with seed 1921407734\n"
     ]
    },
    {
     "name": "stderr",
     "output_type": "stream",
     "text": [
      "\r",
      "                                                                               \r",
      "\r",
      " 14% (1 of 7) |###                       | Elapsed Time: 0:01:42 ETA:   0:10:15"
     ]
    },
    {
     "name": "stdout",
     "output_type": "stream",
     "text": [
      "2018-07-10 20:24:09 [INFO] src.evaluation.evaluator: Training LSTMED on Syn Extreme Outliers (mis=0.0) with seed 1921407734\n"
     ]
    },
    {
     "name": "stderr",
     "output_type": "stream",
     "text": [
      "\r",
      "                                                                               \r",
      "\r",
      " 28% (2 of 7) |#######                   | Elapsed Time: 0:03:20 ETA:   0:08:08"
     ]
    },
    {
     "name": "stdout",
     "output_type": "stream",
     "text": [
      "2018-07-10 20:25:47 [INFO] src.evaluation.evaluator: Training DAGMM_NNAutoEncoder_withoutWindow on Syn Extreme Outliers (mis=0.0) with seed 1921407734\n",
      "2018-07-10 20:25:47 [WARNING] root: Determinant was negative! Clipping Eigenvalues to 0+epsilon from -2.269566863333239e-07\n",
      "2018-07-10 20:25:47 [WARNING] root: Determinant was negative! Clipping Eigenvalues to 0+epsilon from -4.442937040494144e-08\n",
      "2018-07-10 20:25:48 [WARNING] root: Determinant was negative! Clipping Eigenvalues to 0+epsilon from -1.9782648852384455e-09\n",
      "2018-07-10 20:25:48 [ERROR] src.evaluation.evaluator: An exception occurred while training DAGMM_NNAutoEncoder_withoutWindow on Syn Extreme Outliers (mis=0.0): Lapack Error getrf : U(3,3) is 0, U is singular at /pytorch/aten/src/TH/generic/THTensorLapack.c:514\n",
      "2018-07-10 20:25:48 [ERROR] src.evaluation.evaluator: Traceback (most recent call last):\n",
      "  File \"../src/evaluation/evaluator.py\", line 122, in evaluate\n",
      "    det.fit(X_train.copy(), y_train.copy())\n",
      "  File \"../src/algorithms/dagmm.py\", line 203, in fit\n",
      "    self.dagmm_step(input_data.float())\n",
      "  File \"../src/algorithms/dagmm.py\", line 177, in dagmm_step\n",
      "    self.lambda_cov_diag)\n",
      "  File \"../src/algorithms/dagmm.py\", line 144, in loss_function\n",
      "    sample_energy, cov_diag = self.compute_energy(z, phi, mu, cov)\n",
      "  File \"../src/algorithms/dagmm.py\", line 113, in compute_energy\n",
      "    cov_inverse.append(torch.inverse(cov_k).unsqueeze(0))\n",
      "RuntimeError: Lapack Error getrf : U(3,3) is 0, U is singular at /pytorch/aten/src/TH/generic/THTensorLapack.c:514\n",
      "\n"
     ]
    },
    {
     "name": "stderr",
     "output_type": "stream",
     "text": [
      "\r",
      "                                                                               \r",
      "\r",
      " 42% (3 of 7) |###########               | Elapsed Time: 0:03:21 ETA:   0:03:17"
     ]
    },
    {
     "name": "stdout",
     "output_type": "stream",
     "text": [
      "2018-07-10 20:25:48 [INFO] src.evaluation.evaluator: Training DAGMM_NNAutoEncoder_withWindow on Syn Extreme Outliers (mis=0.0) with seed 1921407734\n"
     ]
    },
    {
     "name": "stderr",
     "output_type": "stream",
     "text": [
      "\r",
      "                                                                               \r",
      "\r",
      " 57% (4 of 7) |##############            | Elapsed Time: 0:03:25 ETA:   0:00:11"
     ]
    },
    {
     "name": "stdout",
     "output_type": "stream",
     "text": [
      "2018-07-10 20:25:52 [INFO] src.evaluation.evaluator: Training DAGMM_LSTMAutoEncoder_withWindow on Syn Extreme Outliers (mis=0.0) with seed 1921407734\n"
     ]
    },
    {
     "name": "stderr",
     "output_type": "stream",
     "text": [
      "\r",
      "                                                                               \r",
      "\r",
      " 71% (5 of 7) |##################        | Elapsed Time: 0:03:55 ETA:   0:01:00"
     ]
    },
    {
     "name": "stdout",
     "output_type": "stream",
     "text": [
      "2018-07-10 20:26:22 [INFO] src.evaluation.evaluator: Training Recurrent EBM on Syn Extreme Outliers (mis=0.0) with seed 1921407734\n"
     ]
    },
    {
     "name": "stderr",
     "output_type": "stream",
     "text": [
      "100%|██████████| 15/15 [00:07<00:00,  1.93it/s]\n",
      " 85% (6 of 7) |######################    | Elapsed Time: 0:04:48 ETA:   0:00:52"
     ]
    },
    {
     "name": "stdout",
     "output_type": "stream",
     "text": [
      "2018-07-10 20:27:15 [INFO] src.evaluation.evaluator: Training Donut on Syn Extreme Outliers (mis=0.0) with seed 1921407734\n"
     ]
    },
    {
     "name": "stderr",
     "output_type": "stream",
     "text": [
      "\r",
      "  0%|          | 0/1 [00:00<?, ?it/s]"
     ]
    },
    {
     "name": "stdout",
     "output_type": "stream",
     "text": [
      "INFO:tensorflow:Restoring parameters from /tmp/tmptkv8dhqt/variables.dat-1100\n",
      "2018-07-10 20:34:00 [INFO] tensorflow: Restoring parameters from /tmp/tmptkv8dhqt/variables.dat-1100\n"
     ]
    },
    {
     "name": "stderr",
     "output_type": "stream",
     "text": [
      "100%|██████████| 1/1 [07:11<00:00, 431.25s/it]\n",
      "100% (7 of 7) |##########################| Elapsed Time: 0:12:35 Time:  0:12:35\n",
      "N/A% (0 of 7) |                          | Elapsed Time: 0:00:00 ETA:  --:--:--"
     ]
    },
    {
     "name": "stdout",
     "output_type": "stream",
     "text": [
      "2018-07-10 20:35:02 [INFO] src.evaluation.evaluator: Training LSTM-AD on Syn Extreme Outliers (mis=0.225) with seed 1921407734\n"
     ]
    },
    {
     "name": "stderr",
     "output_type": "stream",
     "text": [
      "\r",
      "                                                                               \r",
      "\r",
      " 14% (1 of 7) |###                       | Elapsed Time: 0:01:45 ETA:   0:10:30"
     ]
    },
    {
     "name": "stdout",
     "output_type": "stream",
     "text": [
      "2018-07-10 20:36:47 [INFO] src.evaluation.evaluator: Training LSTMED on Syn Extreme Outliers (mis=0.225) with seed 1921407734\n"
     ]
    },
    {
     "name": "stderr",
     "output_type": "stream",
     "text": [
      "\r",
      "                                                                               \r",
      "\r",
      " 28% (2 of 7) |#######                   | Elapsed Time: 0:03:22 ETA:   0:08:05"
     ]
    },
    {
     "name": "stdout",
     "output_type": "stream",
     "text": [
      "2018-07-10 20:38:24 [INFO] src.evaluation.evaluator: Training DAGMM_NNAutoEncoder_withoutWindow on Syn Extreme Outliers (mis=0.225) with seed 1921407734\n",
      "2018-07-10 20:38:24 [WARNING] root: Determinant was negative! Clipping Eigenvalues to 0+epsilon from -2.5703343453642447e-07\n",
      "2018-07-10 20:38:24 [WARNING] root: Determinant was negative! Clipping Eigenvalues to 0+epsilon from -8.712992212167592e-07\n",
      "2018-07-10 20:38:24 [WARNING] root: Determinant was negative! Clipping Eigenvalues to 0+epsilon from -1.1829192914092346e-07\n",
      "2018-07-10 20:38:24 [WARNING] root: Determinant was negative! Clipping Eigenvalues to 0+epsilon from -8.599501910566687e-08\n",
      "2018-07-10 20:38:25 [ERROR] src.evaluation.evaluator: An exception occurred while training DAGMM_NNAutoEncoder_withoutWindow on Syn Extreme Outliers (mis=0.225): Lapack Error getrf : U(3,3) is 0, U is singular at /pytorch/aten/src/TH/generic/THTensorLapack.c:514\n",
      "2018-07-10 20:38:25 [ERROR] src.evaluation.evaluator: Traceback (most recent call last):\n",
      "  File \"../src/evaluation/evaluator.py\", line 122, in evaluate\n",
      "    det.fit(X_train.copy(), y_train.copy())\n",
      "  File \"../src/algorithms/dagmm.py\", line 203, in fit\n",
      "    self.dagmm_step(input_data.float())\n",
      "  File \"../src/algorithms/dagmm.py\", line 177, in dagmm_step\n",
      "    self.lambda_cov_diag)\n",
      "  File \"../src/algorithms/dagmm.py\", line 144, in loss_function\n",
      "    sample_energy, cov_diag = self.compute_energy(z, phi, mu, cov)\n",
      "  File \"../src/algorithms/dagmm.py\", line 113, in compute_energy\n",
      "    cov_inverse.append(torch.inverse(cov_k).unsqueeze(0))\n",
      "RuntimeError: Lapack Error getrf : U(3,3) is 0, U is singular at /pytorch/aten/src/TH/generic/THTensorLapack.c:514\n",
      "\n"
     ]
    },
    {
     "name": "stderr",
     "output_type": "stream",
     "text": [
      "\r",
      "                                                                               \r",
      "\r",
      " 42% (3 of 7) |###########               | Elapsed Time: 0:03:22 ETA:   0:03:15"
     ]
    },
    {
     "name": "stdout",
     "output_type": "stream",
     "text": [
      "2018-07-10 20:38:25 [INFO] src.evaluation.evaluator: Training DAGMM_NNAutoEncoder_withWindow on Syn Extreme Outliers (mis=0.225) with seed 1921407734\n"
     ]
    },
    {
     "name": "stderr",
     "output_type": "stream",
     "text": [
      "\r",
      "                                                                               \r",
      "\r",
      " 57% (4 of 7) |##############            | Elapsed Time: 0:03:26 ETA:   0:00:11"
     ]
    },
    {
     "name": "stdout",
     "output_type": "stream",
     "text": [
      "2018-07-10 20:38:29 [INFO] src.evaluation.evaluator: Training DAGMM_LSTMAutoEncoder_withWindow on Syn Extreme Outliers (mis=0.225) with seed 1921407734\n"
     ]
    },
    {
     "name": "stderr",
     "output_type": "stream",
     "text": [
      "\r",
      "                                                                               \r",
      "\r",
      " 71% (5 of 7) |##################        | Elapsed Time: 0:03:57 ETA:   0:01:00"
     ]
    },
    {
     "name": "stdout",
     "output_type": "stream",
     "text": [
      "2018-07-10 20:38:59 [INFO] src.evaluation.evaluator: Training Recurrent EBM on Syn Extreme Outliers (mis=0.225) with seed 1921407734\n"
     ]
    },
    {
     "name": "stderr",
     "output_type": "stream",
     "text": [
      "100%|██████████| 15/15 [00:07<00:00,  1.89it/s]\n",
      " 85% (6 of 7) |######################    | Elapsed Time: 0:05:18 ETA:   0:01:21"
     ]
    },
    {
     "name": "stdout",
     "output_type": "stream",
     "text": [
      "2018-07-10 20:40:21 [INFO] src.evaluation.evaluator: Training Donut on Syn Extreme Outliers (mis=0.225) with seed 1921407734\n"
     ]
    },
    {
     "name": "stderr",
     "output_type": "stream",
     "text": [
      "100%|██████████| 1/1 [01:28<00:00, 88.12s/it]\n",
      "100% (7 of 7) |##########################| Elapsed Time: 0:07:17 Time:  0:07:17\n",
      "N/A% (0 of 7) |                          | Elapsed Time: 0:00:00 ETA:  --:--:--"
     ]
    },
    {
     "name": "stdout",
     "output_type": "stream",
     "text": [
      "2018-07-10 20:42:19 [INFO] src.evaluation.evaluator: Training LSTM-AD on Syn Extreme Outliers (mis=0.45) with seed 1921407734\n"
     ]
    },
    {
     "name": "stderr",
     "output_type": "stream",
     "text": [
      "\r",
      "                                                                               \r",
      "\r",
      " 14% (1 of 7) |###                       | Elapsed Time: 0:01:42 ETA:   0:10:14"
     ]
    },
    {
     "name": "stdout",
     "output_type": "stream",
     "text": [
      "2018-07-10 20:44:01 [INFO] src.evaluation.evaluator: Training LSTMED on Syn Extreme Outliers (mis=0.45) with seed 1921407734\n"
     ]
    },
    {
     "name": "stderr",
     "output_type": "stream",
     "text": [
      "\r",
      "                                                                               \r",
      "\r",
      " 28% (2 of 7) |#######                   | Elapsed Time: 0:03:19 ETA:   0:08:05"
     ]
    },
    {
     "name": "stdout",
     "output_type": "stream",
     "text": [
      "2018-07-10 20:45:39 [INFO] src.evaluation.evaluator: Training DAGMM_NNAutoEncoder_withoutWindow on Syn Extreme Outliers (mis=0.45) with seed 1921407734\n",
      "2018-07-10 20:45:39 [WARNING] root: Determinant was negative! Clipping Eigenvalues to 0+epsilon from -1.9590770250488276e-07\n",
      "2018-07-10 20:45:39 [WARNING] root: Determinant was negative! Clipping Eigenvalues to 0+epsilon from -7.095235332599259e-07\n",
      "2018-07-10 20:45:39 [WARNING] root: Determinant was negative! Clipping Eigenvalues to 0+epsilon from -1.839858470020772e-07\n",
      "2018-07-10 20:45:39 [WARNING] root: Determinant was negative! Clipping Eigenvalues to 0+epsilon from -4.4511236296784773e-07\n",
      "2018-07-10 20:45:39 [WARNING] root: Determinant was negative! Clipping Eigenvalues to 0+epsilon from -1.306752324126137e-07\n",
      "2018-07-10 20:45:39 [WARNING] root: Determinant was negative! Clipping Eigenvalues to 0+epsilon from -1.5284483367850044e-07\n",
      "2018-07-10 20:45:39 [WARNING] root: Determinant was negative! Clipping Eigenvalues to 0+epsilon from -4.0159224568014906e-07\n",
      "2018-07-10 20:45:39 [WARNING] root: Determinant was negative! Clipping Eigenvalues to 0+epsilon from -5.695447384823638e-07\n",
      "2018-07-10 20:45:39 [WARNING] root: Determinant was negative! Clipping Eigenvalues to 0+epsilon from -4.899932264379459e-07\n",
      "2018-07-10 20:45:39 [WARNING] root: Determinant was negative! Clipping Eigenvalues to 0+epsilon from -6.823931926192017e-07\n",
      "2018-07-10 20:45:39 [WARNING] root: Determinant was negative! Clipping Eigenvalues to 0+epsilon from -3.9328259049398184e-07\n",
      "2018-07-10 20:45:39 [WARNING] root: Determinant was negative! Clipping Eigenvalues to 0+epsilon from -3.710111116106418e-07\n",
      "2018-07-10 20:45:39 [WARNING] root: Determinant was negative! Clipping Eigenvalues to 0+epsilon from -1.0061087607482477e-07\n",
      "2018-07-10 20:45:39 [WARNING] root: Determinant was negative! Clipping Eigenvalues to 0+epsilon from -1.7536467566969804e-07\n",
      "2018-07-10 20:45:39 [WARNING] root: Determinant was negative! Clipping Eigenvalues to 0+epsilon from -3.0064444445088156e-07\n",
      "2018-07-10 20:45:39 [WARNING] root: Determinant was negative! Clipping Eigenvalues to 0+epsilon from -7.773272159283806e-07\n",
      "2018-07-10 20:45:39 [WARNING] root: Determinant was negative! Clipping Eigenvalues to 0+epsilon from -1.0454888155209119e-07\n",
      "2018-07-10 20:45:39 [WARNING] root: Determinant was negative! Clipping Eigenvalues to 0+epsilon from -2.7636809818432084e-07\n",
      "2018-07-10 20:45:39 [WARNING] root: Determinant was negative! Clipping Eigenvalues to 0+epsilon from -4.508191011609597e-07\n",
      "2018-07-10 20:45:39 [WARNING] root: Determinant was negative! Clipping Eigenvalues to 0+epsilon from -6.070790732337628e-07\n",
      "2018-07-10 20:45:39 [WARNING] root: Determinant was negative! Clipping Eigenvalues to 0+epsilon from -1.8036280380329117e-07\n",
      "2018-07-10 20:45:39 [WARNING] root: Determinant was negative! Clipping Eigenvalues to 0+epsilon from -7.201387006716686e-07\n",
      "2018-07-10 20:45:39 [WARNING] root: Determinant was negative! Clipping Eigenvalues to 0+epsilon from -1.3101411866500712e-07\n",
      "2018-07-10 20:45:39 [WARNING] root: Determinant was negative! Clipping Eigenvalues to 0+epsilon from -4.826835038329591e-07\n",
      "2018-07-10 20:45:39 [WARNING] root: Determinant was negative! Clipping Eigenvalues to 0+epsilon from -4.850817276746966e-07\n",
      "2018-07-10 20:45:39 [WARNING] root: Determinant was negative! Clipping Eigenvalues to 0+epsilon from -1.4252061930619675e-07\n",
      "2018-07-10 20:45:39 [WARNING] root: Determinant was negative! Clipping Eigenvalues to 0+epsilon from -7.611792085526758e-08\n",
      "2018-07-10 20:45:39 [ERROR] src.evaluation.evaluator: An exception occurred while training DAGMM_NNAutoEncoder_withoutWindow on Syn Extreme Outliers (mis=0.45): Lapack Error getrf : U(3,3) is 0, U is singular at /pytorch/aten/src/TH/generic/THTensorLapack.c:514\n",
      "2018-07-10 20:45:39 [ERROR] src.evaluation.evaluator: Traceback (most recent call last):\n",
      "  File \"../src/evaluation/evaluator.py\", line 122, in evaluate\n",
      "    det.fit(X_train.copy(), y_train.copy())\n",
      "  File \"../src/algorithms/dagmm.py\", line 203, in fit\n",
      "    self.dagmm_step(input_data.float())\n",
      "  File \"../src/algorithms/dagmm.py\", line 177, in dagmm_step\n",
      "    self.lambda_cov_diag)\n",
      "  File \"../src/algorithms/dagmm.py\", line 144, in loss_function\n",
      "    sample_energy, cov_diag = self.compute_energy(z, phi, mu, cov)\n",
      "  File \"../src/algorithms/dagmm.py\", line 113, in compute_energy\n",
      "    cov_inverse.append(torch.inverse(cov_k).unsqueeze(0))\n",
      "RuntimeError: Lapack Error getrf : U(3,3) is 0, U is singular at /pytorch/aten/src/TH/generic/THTensorLapack.c:514\n",
      "\n"
     ]
    },
    {
     "name": "stderr",
     "output_type": "stream",
     "text": [
      "\r",
      "                                                                               \r",
      "\r",
      " 42% (3 of 7) |###########               | Elapsed Time: 0:03:20 ETA:   0:03:15"
     ]
    },
    {
     "name": "stdout",
     "output_type": "stream",
     "text": [
      "2018-07-10 20:45:39 [INFO] src.evaluation.evaluator: Training DAGMM_NNAutoEncoder_withWindow on Syn Extreme Outliers (mis=0.45) with seed 1921407734\n"
     ]
    },
    {
     "name": "stderr",
     "output_type": "stream",
     "text": [
      "\r",
      "                                                                               \r",
      "\r",
      " 57% (4 of 7) |##############            | Elapsed Time: 0:03:24 ETA:   0:00:11"
     ]
    },
    {
     "name": "stdout",
     "output_type": "stream",
     "text": [
      "2018-07-10 20:45:43 [INFO] src.evaluation.evaluator: Training DAGMM_LSTMAutoEncoder_withWindow on Syn Extreme Outliers (mis=0.45) with seed 1921407734\n"
     ]
    },
    {
     "name": "stderr",
     "output_type": "stream",
     "text": [
      "\r",
      "                                                                               \r",
      "\r",
      " 71% (5 of 7) |##################        | Elapsed Time: 0:03:54 ETA:   0:01:01"
     ]
    },
    {
     "name": "stdout",
     "output_type": "stream",
     "text": [
      "2018-07-10 20:46:14 [INFO] src.evaluation.evaluator: Training Recurrent EBM on Syn Extreme Outliers (mis=0.45) with seed 1921407734\n"
     ]
    },
    {
     "name": "stderr",
     "output_type": "stream",
     "text": [
      "100%|██████████| 15/15 [00:07<00:00,  1.92it/s]\n",
      " 85% (6 of 7) |######################    | Elapsed Time: 0:04:49 ETA:   0:00:54"
     ]
    },
    {
     "name": "stdout",
     "output_type": "stream",
     "text": [
      "2018-07-10 20:47:08 [INFO] src.evaluation.evaluator: Training Donut on Syn Extreme Outliers (mis=0.45) with seed 1921407734\n"
     ]
    },
    {
     "name": "stderr",
     "output_type": "stream",
     "text": [
      "100%|██████████| 1/1 [01:26<00:00, 86.22s/it]\n",
      "100% (7 of 7) |##########################| Elapsed Time: 0:06:46 Time:  0:06:46\n",
      "N/A% (0 of 7) |                          | Elapsed Time: 0:00:00 ETA:  --:--:--"
     ]
    },
    {
     "name": "stdout",
     "output_type": "stream",
     "text": [
      "2018-07-10 20:49:05 [INFO] src.evaluation.evaluator: Training LSTM-AD on Syn Extreme Outliers (mis=0.675) with seed 1921407734\n"
     ]
    },
    {
     "name": "stderr",
     "output_type": "stream",
     "text": [
      "\r",
      "                                                                               \r",
      "\r",
      " 14% (1 of 7) |###                       | Elapsed Time: 0:01:42 ETA:   0:10:13"
     ]
    },
    {
     "name": "stdout",
     "output_type": "stream",
     "text": [
      "2018-07-10 20:50:48 [INFO] src.evaluation.evaluator: Training LSTMED on Syn Extreme Outliers (mis=0.675) with seed 1921407734\n"
     ]
    },
    {
     "name": "stderr",
     "output_type": "stream",
     "text": [
      "\r",
      "                                                                               \r",
      "\r",
      " 28% (2 of 7) |#######                   | Elapsed Time: 0:03:19 ETA:   0:08:05"
     ]
    },
    {
     "name": "stdout",
     "output_type": "stream",
     "text": [
      "2018-07-10 20:52:25 [INFO] src.evaluation.evaluator: Training DAGMM_NNAutoEncoder_withoutWindow on Syn Extreme Outliers (mis=0.675) with seed 1921407734\n",
      "2018-07-10 20:52:25 [WARNING] root: Determinant was negative! Clipping Eigenvalues to 0+epsilon from -1.6281261139283743e-07\n",
      "2018-07-10 20:52:25 [WARNING] root: Determinant was negative! Clipping Eigenvalues to 0+epsilon from -4.042814083504709e-08\n",
      "2018-07-10 20:52:25 [WARNING] root: Determinant was negative! Clipping Eigenvalues to 0+epsilon from -4.874098067375598e-07\n",
      "2018-07-10 20:52:25 [WARNING] root: Determinant was negative! Clipping Eigenvalues to 0+epsilon from -9.91428350971546e-07\n",
      "2018-07-10 20:52:25 [WARNING] root: Determinant was negative! Clipping Eigenvalues to 0+epsilon from -5.98739404722437e-08\n",
      "2018-07-10 20:52:25 [WARNING] root: Determinant was negative! Clipping Eigenvalues to 0+epsilon from -1.450660249702196e-07\n",
      "2018-07-10 20:52:25 [WARNING] root: Determinant was negative! Clipping Eigenvalues to 0+epsilon from -1.3187320746510522e-07\n",
      "2018-07-10 20:52:25 [WARNING] root: Determinant was negative! Clipping Eigenvalues to 0+epsilon from -1.0912400227880426e-07\n",
      "2018-07-10 20:52:25 [WARNING] root: Determinant was negative! Clipping Eigenvalues to 0+epsilon from -5.407382559496909e-07\n",
      "2018-07-10 20:52:25 [WARNING] root: Determinant was negative! Clipping Eigenvalues to 0+epsilon from -1.0920776105649566e-07\n",
      "2018-07-10 20:52:25 [WARNING] root: Determinant was negative! Clipping Eigenvalues to 0+epsilon from -3.833672792552534e-07\n",
      "2018-07-10 20:52:25 [WARNING] root: Determinant was negative! Clipping Eigenvalues to 0+epsilon from -5.436021410787362e-07\n",
      "2018-07-10 20:52:25 [ERROR] src.evaluation.evaluator: An exception occurred while training DAGMM_NNAutoEncoder_withoutWindow on Syn Extreme Outliers (mis=0.675): Lapack Error getrf : U(3,3) is 0, U is singular at /pytorch/aten/src/TH/generic/THTensorLapack.c:514\n",
      "2018-07-10 20:52:25 [ERROR] src.evaluation.evaluator: Traceback (most recent call last):\n",
      "  File \"../src/evaluation/evaluator.py\", line 122, in evaluate\n",
      "    det.fit(X_train.copy(), y_train.copy())\n",
      "  File \"../src/algorithms/dagmm.py\", line 203, in fit\n",
      "    self.dagmm_step(input_data.float())\n",
      "  File \"../src/algorithms/dagmm.py\", line 177, in dagmm_step\n",
      "    self.lambda_cov_diag)\n",
      "  File \"../src/algorithms/dagmm.py\", line 144, in loss_function\n",
      "    sample_energy, cov_diag = self.compute_energy(z, phi, mu, cov)\n",
      "  File \"../src/algorithms/dagmm.py\", line 113, in compute_energy\n",
      "    cov_inverse.append(torch.inverse(cov_k).unsqueeze(0))\n",
      "RuntimeError: Lapack Error getrf : U(3,3) is 0, U is singular at /pytorch/aten/src/TH/generic/THTensorLapack.c:514\n",
      "\n"
     ]
    },
    {
     "name": "stderr",
     "output_type": "stream",
     "text": [
      "\r",
      "                                                                               \r",
      "\r",
      " 42% (3 of 7) |###########               | Elapsed Time: 0:03:19 ETA:   0:03:14"
     ]
    },
    {
     "name": "stdout",
     "output_type": "stream",
     "text": [
      "2018-07-10 20:52:25 [INFO] src.evaluation.evaluator: Training DAGMM_NNAutoEncoder_withWindow on Syn Extreme Outliers (mis=0.675) with seed 1921407734\n"
     ]
    },
    {
     "name": "stderr",
     "output_type": "stream",
     "text": [
      "\r",
      "                                                                               \r",
      "\r",
      " 57% (4 of 7) |##############            | Elapsed Time: 0:03:23 ETA:   0:00:12"
     ]
    },
    {
     "name": "stdout",
     "output_type": "stream",
     "text": [
      "2018-07-10 20:52:29 [INFO] src.evaluation.evaluator: Training DAGMM_LSTMAutoEncoder_withWindow on Syn Extreme Outliers (mis=0.675) with seed 1921407734\n"
     ]
    },
    {
     "name": "stderr",
     "output_type": "stream",
     "text": [
      "\r",
      "                                                                               \r",
      "\r",
      " 71% (5 of 7) |##################        | Elapsed Time: 0:03:54 ETA:   0:01:00"
     ]
    },
    {
     "name": "stdout",
     "output_type": "stream",
     "text": [
      "2018-07-10 20:52:59 [INFO] src.evaluation.evaluator: Training Recurrent EBM on Syn Extreme Outliers (mis=0.675) with seed 1921407734\n"
     ]
    },
    {
     "name": "stderr",
     "output_type": "stream",
     "text": [
      "100%|██████████| 15/15 [00:07<00:00,  1.90it/s]\n",
      " 85% (6 of 7) |######################    | Elapsed Time: 0:04:49 ETA:   0:00:55"
     ]
    },
    {
     "name": "stdout",
     "output_type": "stream",
     "text": [
      "2018-07-10 20:53:55 [INFO] src.evaluation.evaluator: Training Donut on Syn Extreme Outliers (mis=0.675) with seed 1921407734\n"
     ]
    },
    {
     "name": "stderr",
     "output_type": "stream",
     "text": [
      "100%|██████████| 1/1 [01:27<00:00, 87.49s/it]\n",
      "100% (7 of 7) |##########################| Elapsed Time: 0:06:48 Time:  0:06:48\n",
      "N/A% (0 of 7) |                          | Elapsed Time: 0:00:00 ETA:  --:--:--"
     ]
    },
    {
     "name": "stdout",
     "output_type": "stream",
     "text": [
      "2018-07-10 20:55:54 [INFO] src.evaluation.evaluator: Training LSTM-AD on Syn Extreme Outliers (mis=0.9) with seed 1921407734\n"
     ]
    },
    {
     "name": "stderr",
     "output_type": "stream",
     "text": [
      "\r",
      "                                                                               \r",
      "\r",
      " 14% (1 of 7) |###                       | Elapsed Time: 0:01:42 ETA:   0:10:13"
     ]
    },
    {
     "name": "stdout",
     "output_type": "stream",
     "text": [
      "2018-07-10 20:57:36 [INFO] src.evaluation.evaluator: Training LSTMED on Syn Extreme Outliers (mis=0.9) with seed 1921407734\n"
     ]
    },
    {
     "name": "stderr",
     "output_type": "stream",
     "text": [
      "\r",
      "                                                                               \r",
      "\r",
      " 28% (2 of 7) |#######                   | Elapsed Time: 0:03:19 ETA:   0:08:06"
     ]
    },
    {
     "name": "stdout",
     "output_type": "stream",
     "text": [
      "2018-07-10 20:59:13 [INFO] src.evaluation.evaluator: Training DAGMM_NNAutoEncoder_withoutWindow on Syn Extreme Outliers (mis=0.9) with seed 1921407734\n",
      "2018-07-10 20:59:13 [WARNING] root: Determinant was negative! Clipping Eigenvalues to 0+epsilon from -1.6756243326199183e-07\n",
      "2018-07-10 20:59:13 [WARNING] root: Determinant was negative! Clipping Eigenvalues to 0+epsilon from -1.1918186970660827e-07\n",
      "2018-07-10 20:59:13 [WARNING] root: Determinant was negative! Clipping Eigenvalues to 0+epsilon from -1.0697374364099232e-07\n",
      "2018-07-10 20:59:13 [WARNING] root: Determinant was negative! Clipping Eigenvalues to 0+epsilon from -2.720867655625625e-07\n",
      "2018-07-10 20:59:13 [WARNING] root: Determinant was negative! Clipping Eigenvalues to 0+epsilon from -1.3827215639139467e-07\n",
      "2018-07-10 20:59:13 [WARNING] root: Determinant was negative! Clipping Eigenvalues to 0+epsilon from -1.0997182187111321e-07\n",
      "2018-07-10 20:59:13 [WARNING] root: Determinant was negative! Clipping Eigenvalues to 0+epsilon from -1.221784486915567e-07\n",
      "2018-07-10 20:59:13 [WARNING] root: Determinant was negative! Clipping Eigenvalues to 0+epsilon from -4.692089206059791e-08\n",
      "2018-07-10 20:59:13 [WARNING] root: Determinant was negative! Clipping Eigenvalues to 0+epsilon from -8.145773477963303e-08\n",
      "2018-07-10 20:59:13 [ERROR] src.evaluation.evaluator: An exception occurred while training DAGMM_NNAutoEncoder_withoutWindow on Syn Extreme Outliers (mis=0.9): Lapack Error getrf : U(3,3) is 0, U is singular at /pytorch/aten/src/TH/generic/THTensorLapack.c:514\n",
      "2018-07-10 20:59:13 [ERROR] src.evaluation.evaluator: Traceback (most recent call last):\n",
      "  File \"../src/evaluation/evaluator.py\", line 122, in evaluate\n",
      "    det.fit(X_train.copy(), y_train.copy())\n",
      "  File \"../src/algorithms/dagmm.py\", line 203, in fit\n",
      "    self.dagmm_step(input_data.float())\n",
      "  File \"../src/algorithms/dagmm.py\", line 177, in dagmm_step\n",
      "    self.lambda_cov_diag)\n",
      "  File \"../src/algorithms/dagmm.py\", line 144, in loss_function\n",
      "    sample_energy, cov_diag = self.compute_energy(z, phi, mu, cov)\n",
      "  File \"../src/algorithms/dagmm.py\", line 113, in compute_energy\n",
      "    cov_inverse.append(torch.inverse(cov_k).unsqueeze(0))\n",
      "RuntimeError: Lapack Error getrf : U(3,3) is 0, U is singular at /pytorch/aten/src/TH/generic/THTensorLapack.c:514\n",
      "\n"
     ]
    },
    {
     "name": "stderr",
     "output_type": "stream",
     "text": [
      "\r",
      "                                                                               \r",
      "\r",
      " 42% (3 of 7) |###########               | Elapsed Time: 0:03:19 ETA:   0:03:14"
     ]
    },
    {
     "name": "stdout",
     "output_type": "stream",
     "text": [
      "2018-07-10 20:59:13 [INFO] src.evaluation.evaluator: Training DAGMM_NNAutoEncoder_withWindow on Syn Extreme Outliers (mis=0.9) with seed 1921407734\n"
     ]
    },
    {
     "name": "stderr",
     "output_type": "stream",
     "text": [
      "\r",
      "                                                                               \r",
      "\r",
      " 57% (4 of 7) |##############            | Elapsed Time: 0:03:23 ETA:   0:00:11"
     ]
    },
    {
     "name": "stdout",
     "output_type": "stream",
     "text": [
      "2018-07-10 20:59:17 [INFO] src.evaluation.evaluator: Training DAGMM_LSTMAutoEncoder_withWindow on Syn Extreme Outliers (mis=0.9) with seed 1921407734\n"
     ]
    },
    {
     "name": "stderr",
     "output_type": "stream",
     "text": [
      "\r",
      "                                                                               \r",
      "\r",
      " 71% (5 of 7) |##################        | Elapsed Time: 0:03:54 ETA:   0:01:00"
     ]
    },
    {
     "name": "stdout",
     "output_type": "stream",
     "text": [
      "2018-07-10 20:59:48 [INFO] src.evaluation.evaluator: Training Recurrent EBM on Syn Extreme Outliers (mis=0.9) with seed 1921407734\n"
     ]
    },
    {
     "name": "stderr",
     "output_type": "stream",
     "text": [
      "100%|██████████| 15/15 [00:07<00:00,  1.90it/s]\n",
      " 85% (6 of 7) |######################    | Elapsed Time: 0:04:50 ETA:   0:00:56"
     ]
    },
    {
     "name": "stdout",
     "output_type": "stream",
     "text": [
      "2018-07-10 21:00:44 [INFO] src.evaluation.evaluator: Training Donut on Syn Extreme Outliers (mis=0.9) with seed 1921407734\n"
     ]
    },
    {
     "name": "stderr",
     "output_type": "stream",
     "text": [
      "100%|██████████| 1/1 [01:29<00:00, 89.15s/it]\n",
      "100% (7 of 7) |##########################| Elapsed Time: 0:06:51 Time:  0:06:51\n",
      "100% (5 of 5) |##########################| Elapsed Time: 0:40:18 Time:  0:40:18\n"
     ]
    },
    {
     "name": "stdout",
     "output_type": "stream",
     "text": [
      "2018-07-10 21:02:48 [INFO] src.evaluation.evaluator: Store evaluator results at /home/thomas/work/notebooks/data_30/missing-run-14-1921407734-2018-07-10-210248.pkl\n"
     ]
    },
    {
     "name": "stderr",
     "output_type": "stream",
     "text": [
      "N/A% (0 of 7) |                          | Elapsed Time: 0:00:00 ETA:  --:--:--"
     ]
    },
    {
     "name": "stdout",
     "output_type": "stream",
     "text": [
      "2018-07-10 21:02:48 [INFO] src.evaluation.evaluator: Training LSTM-AD on Syn Extreme Outliers (mis=0.0) with seed 2696844554\n"
     ]
    },
    {
     "name": "stderr",
     "output_type": "stream",
     "text": [
      "\r",
      "                                                                               \r",
      "\r",
      " 14% (1 of 7) |###                       | Elapsed Time: 0:01:42 ETA:   0:10:14"
     ]
    },
    {
     "name": "stdout",
     "output_type": "stream",
     "text": [
      "2018-07-10 21:04:30 [INFO] src.evaluation.evaluator: Training LSTMED on Syn Extreme Outliers (mis=0.0) with seed 2696844554\n"
     ]
    },
    {
     "name": "stderr",
     "output_type": "stream",
     "text": [
      "\r",
      "                                                                               \r",
      "\r",
      " 28% (2 of 7) |#######                   | Elapsed Time: 0:03:19 ETA:   0:08:06"
     ]
    },
    {
     "name": "stdout",
     "output_type": "stream",
     "text": [
      "2018-07-10 21:06:07 [INFO] src.evaluation.evaluator: Training DAGMM_NNAutoEncoder_withoutWindow on Syn Extreme Outliers (mis=0.0) with seed 2696844554\n",
      "2018-07-10 21:06:07 [WARNING] root: Determinant was negative! Clipping Eigenvalues to 0+epsilon from -2.9004314505698403e-09\n",
      "2018-07-10 21:06:07 [WARNING] root: Determinant was negative! Clipping Eigenvalues to 0+epsilon from -8.290485631334832e-09\n",
      "2018-07-10 21:06:07 [WARNING] root: Determinant was negative! Clipping Eigenvalues to 0+epsilon from -9.292099534263798e-09\n",
      "2018-07-10 21:06:08 [WARNING] root: Determinant was negative! Clipping Eigenvalues to 0+epsilon from -9.701181369337064e-08\n",
      "2018-07-10 21:06:08 [WARNING] root: Determinant was negative! Clipping Eigenvalues to 0+epsilon from -7.760665887701634e-09\n",
      "2018-07-10 21:06:08 [WARNING] root: Determinant was negative! Clipping Eigenvalues to 0+epsilon from -1.2339778088232833e-08\n",
      "2018-07-10 21:06:08 [WARNING] root: Determinant was negative! Clipping Eigenvalues to 0+epsilon from -6.35505159607419e-08\n",
      "2018-07-10 21:06:08 [WARNING] root: Determinant was negative! Clipping Eigenvalues to 0+epsilon from -3.2107963510163984e-10\n",
      "2018-07-10 21:06:09 [WARNING] root: Determinant was negative! Clipping Eigenvalues to 0+epsilon from -2.423289231501258e-07\n",
      "2018-07-10 21:06:09 [WARNING] root: Determinant was negative! Clipping Eigenvalues to 0+epsilon from -2.693907958928321e-07\n",
      "2018-07-10 21:06:10 [WARNING] root: Determinant was negative! Clipping Eigenvalues to 0+epsilon from -5.3812335920611076e-08\n",
      "2018-07-10 21:06:10 [WARNING] root: Determinant was negative! Clipping Eigenvalues to 0+epsilon from -1.5328149061133445e-07\n"
     ]
    },
    {
     "name": "stderr",
     "output_type": "stream",
     "text": [
      "\r",
      "                                                                               \r",
      "\r",
      " 42% (3 of 7) |###########               | Elapsed Time: 0:03:23 ETA:   0:00:16"
     ]
    },
    {
     "name": "stdout",
     "output_type": "stream",
     "text": [
      "2018-07-10 21:06:11 [INFO] src.evaluation.evaluator: Training DAGMM_NNAutoEncoder_withWindow on Syn Extreme Outliers (mis=0.0) with seed 2696844554\n"
     ]
    },
    {
     "name": "stderr",
     "output_type": "stream",
     "text": [
      "\r",
      "                                                                               \r",
      "\r",
      " 57% (4 of 7) |##############            | Elapsed Time: 0:03:27 ETA:   0:00:11"
     ]
    },
    {
     "name": "stdout",
     "output_type": "stream",
     "text": [
      "2018-07-10 21:06:15 [INFO] src.evaluation.evaluator: Training DAGMM_LSTMAutoEncoder_withWindow on Syn Extreme Outliers (mis=0.0) with seed 2696844554\n"
     ]
    },
    {
     "name": "stderr",
     "output_type": "stream",
     "text": [
      "\r",
      "                                                                               \r",
      "\r",
      " 71% (5 of 7) |##################        | Elapsed Time: 0:03:58 ETA:   0:01:00"
     ]
    },
    {
     "name": "stdout",
     "output_type": "stream",
     "text": [
      "2018-07-10 21:06:46 [INFO] src.evaluation.evaluator: Training Recurrent EBM on Syn Extreme Outliers (mis=0.0) with seed 2696844554\n"
     ]
    },
    {
     "name": "stderr",
     "output_type": "stream",
     "text": [
      "100%|██████████| 15/15 [00:07<00:00,  1.90it/s]\n",
      " 85% (6 of 7) |######################    | Elapsed Time: 0:04:55 ETA:   0:00:56"
     ]
    },
    {
     "name": "stdout",
     "output_type": "stream",
     "text": [
      "2018-07-10 21:07:43 [INFO] src.evaluation.evaluator: Training Donut on Syn Extreme Outliers (mis=0.0) with seed 2696844554\n"
     ]
    },
    {
     "name": "stderr",
     "output_type": "stream",
     "text": [
      "\r",
      "  0%|          | 0/1 [00:00<?, ?it/s]"
     ]
    },
    {
     "name": "stdout",
     "output_type": "stream",
     "text": [
      "INFO:tensorflow:Restoring parameters from /tmp/tmppoekajvd/variables.dat-1000\n",
      "2018-07-10 21:19:43 [INFO] tensorflow: Restoring parameters from /tmp/tmppoekajvd/variables.dat-1000\n"
     ]
    },
    {
     "name": "stderr",
     "output_type": "stream",
     "text": [
      "100%|██████████| 1/1 [12:40<00:00, 760.78s/it]\n",
      "100% (7 of 7) |##########################| Elapsed Time: 0:18:17 Time:  0:18:17\n",
      "N/A% (0 of 7) |                          | Elapsed Time: 0:00:00 ETA:  --:--:--"
     ]
    },
    {
     "name": "stdout",
     "output_type": "stream",
     "text": [
      "2018-07-10 21:21:05 [INFO] src.evaluation.evaluator: Training LSTM-AD on Syn Extreme Outliers (mis=0.225) with seed 2696844554\n"
     ]
    },
    {
     "name": "stderr",
     "output_type": "stream",
     "text": [
      "\r",
      "                                                                               \r",
      "\r",
      " 14% (1 of 7) |###                       | Elapsed Time: 0:01:46 ETA:   0:10:39"
     ]
    },
    {
     "name": "stdout",
     "output_type": "stream",
     "text": [
      "2018-07-10 21:22:52 [INFO] src.evaluation.evaluator: Training LSTMED on Syn Extreme Outliers (mis=0.225) with seed 2696844554\n"
     ]
    },
    {
     "name": "stderr",
     "output_type": "stream",
     "text": [
      "\r",
      "                                                                               \r",
      "\r",
      " 28% (2 of 7) |#######                   | Elapsed Time: 0:03:24 ETA:   0:08:08"
     ]
    },
    {
     "name": "stdout",
     "output_type": "stream",
     "text": [
      "2018-07-10 21:24:29 [INFO] src.evaluation.evaluator: Training DAGMM_NNAutoEncoder_withoutWindow on Syn Extreme Outliers (mis=0.225) with seed 2696844554\n",
      "2018-07-10 21:24:30 [WARNING] root: Determinant was negative! Clipping Eigenvalues to 0+epsilon from -1.5190698832157068e-07\n",
      "2018-07-10 21:24:30 [ERROR] src.evaluation.evaluator: An exception occurred while training DAGMM_NNAutoEncoder_withoutWindow on Syn Extreme Outliers (mis=0.225): Lapack Error getrf : U(3,3) is 0, U is singular at /pytorch/aten/src/TH/generic/THTensorLapack.c:514\n",
      "2018-07-10 21:24:30 [ERROR] src.evaluation.evaluator: Traceback (most recent call last):\n",
      "  File \"../src/evaluation/evaluator.py\", line 122, in evaluate\n",
      "    det.fit(X_train.copy(), y_train.copy())\n",
      "  File \"../src/algorithms/dagmm.py\", line 203, in fit\n",
      "    self.dagmm_step(input_data.float())\n",
      "  File \"../src/algorithms/dagmm.py\", line 177, in dagmm_step\n",
      "    self.lambda_cov_diag)\n",
      "  File \"../src/algorithms/dagmm.py\", line 144, in loss_function\n",
      "    sample_energy, cov_diag = self.compute_energy(z, phi, mu, cov)\n",
      "  File \"../src/algorithms/dagmm.py\", line 113, in compute_energy\n",
      "    cov_inverse.append(torch.inverse(cov_k).unsqueeze(0))\n",
      "RuntimeError: Lapack Error getrf : U(3,3) is 0, U is singular at /pytorch/aten/src/TH/generic/THTensorLapack.c:514\n",
      "\n"
     ]
    },
    {
     "name": "stderr",
     "output_type": "stream",
     "text": [
      "\r",
      "                                                                               \r",
      "\r",
      " 42% (3 of 7) |###########               | Elapsed Time: 0:03:24 ETA:   0:03:16"
     ]
    },
    {
     "name": "stdout",
     "output_type": "stream",
     "text": [
      "2018-07-10 21:24:30 [INFO] src.evaluation.evaluator: Training DAGMM_NNAutoEncoder_withWindow on Syn Extreme Outliers (mis=0.225) with seed 2696844554\n"
     ]
    },
    {
     "name": "stderr",
     "output_type": "stream",
     "text": [
      "\r",
      "                                                                               \r",
      "\r",
      " 57% (4 of 7) |##############            | Elapsed Time: 0:03:28 ETA:   0:00:12"
     ]
    },
    {
     "name": "stdout",
     "output_type": "stream",
     "text": [
      "2018-07-10 21:24:34 [INFO] src.evaluation.evaluator: Training DAGMM_LSTMAutoEncoder_withWindow on Syn Extreme Outliers (mis=0.225) with seed 2696844554\n"
     ]
    },
    {
     "name": "stderr",
     "output_type": "stream",
     "text": [
      "\r",
      "                                                                               \r",
      "\r",
      " 71% (5 of 7) |##################        | Elapsed Time: 0:03:59 ETA:   0:01:01"
     ]
    },
    {
     "name": "stdout",
     "output_type": "stream",
     "text": [
      "2018-07-10 21:25:05 [INFO] src.evaluation.evaluator: Training Recurrent EBM on Syn Extreme Outliers (mis=0.225) with seed 2696844554\n"
     ]
    },
    {
     "name": "stderr",
     "output_type": "stream",
     "text": [
      "100%|██████████| 15/15 [00:08<00:00,  1.85it/s]\n",
      " 85% (6 of 7) |######################    | Elapsed Time: 0:05:53 ETA:   0:01:53"
     ]
    },
    {
     "name": "stdout",
     "output_type": "stream",
     "text": [
      "2018-07-10 21:26:58 [INFO] src.evaluation.evaluator: Training Donut on Syn Extreme Outliers (mis=0.225) with seed 2696844554\n"
     ]
    },
    {
     "name": "stderr",
     "output_type": "stream",
     "text": [
      "100%|██████████| 1/1 [01:35<00:00, 95.26s/it]\n",
      "100% (7 of 7) |##########################| Elapsed Time: 0:08:01 Time:  0:08:01\n",
      "N/A% (0 of 7) |                          | Elapsed Time: 0:00:00 ETA:  --:--:--"
     ]
    },
    {
     "name": "stdout",
     "output_type": "stream",
     "text": [
      "2018-07-10 21:29:07 [INFO] src.evaluation.evaluator: Training LSTM-AD on Syn Extreme Outliers (mis=0.45) with seed 2696844554\n"
     ]
    },
    {
     "name": "stderr",
     "output_type": "stream",
     "text": [
      "\r",
      "                                                                               \r",
      "\r",
      " 14% (1 of 7) |###                       | Elapsed Time: 0:01:41 ETA:   0:10:11"
     ]
    },
    {
     "name": "stdout",
     "output_type": "stream",
     "text": [
      "2018-07-10 21:30:49 [INFO] src.evaluation.evaluator: Training LSTMED on Syn Extreme Outliers (mis=0.45) with seed 2696844554\n"
     ]
    },
    {
     "name": "stderr",
     "output_type": "stream",
     "text": [
      "\r",
      "                                                                               \r",
      "\r",
      " 28% (2 of 7) |#######                   | Elapsed Time: 0:03:19 ETA:   0:08:05"
     ]
    },
    {
     "name": "stdout",
     "output_type": "stream",
     "text": [
      "2018-07-10 21:32:26 [INFO] src.evaluation.evaluator: Training DAGMM_NNAutoEncoder_withoutWindow on Syn Extreme Outliers (mis=0.45) with seed 2696844554\n",
      "2018-07-10 21:32:26 [WARNING] root: Determinant was negative! Clipping Eigenvalues to 0+epsilon from -4.175597041466972e-07\n",
      "2018-07-10 21:32:26 [WARNING] root: Determinant was negative! Clipping Eigenvalues to 0+epsilon from -6.634263627347536e-07\n",
      "2018-07-10 21:32:26 [WARNING] root: Determinant was negative! Clipping Eigenvalues to 0+epsilon from -3.136323556418574e-08\n",
      "2018-07-10 21:32:26 [WARNING] root: Determinant was negative! Clipping Eigenvalues to 0+epsilon from -3.0920170956960646e-07\n",
      "2018-07-10 21:32:26 [WARNING] root: Determinant was negative! Clipping Eigenvalues to 0+epsilon from -3.488171103072091e-07\n",
      "2018-07-10 21:32:26 [WARNING] root: Determinant was negative! Clipping Eigenvalues to 0+epsilon from -1.831954499209587e-08\n",
      "2018-07-10 21:32:26 [WARNING] root: Determinant was negative! Clipping Eigenvalues to 0+epsilon from -9.692660114524188e-07\n",
      "2018-07-10 21:32:26 [WARNING] root: Determinant was negative! Clipping Eigenvalues to 0+epsilon from -8.242622584475612e-08\n",
      "2018-07-10 21:32:26 [WARNING] root: Determinant was negative! Clipping Eigenvalues to 0+epsilon from -1.5435733757840353e-07\n",
      "2018-07-10 21:32:26 [WARNING] root: Determinant was negative! Clipping Eigenvalues to 0+epsilon from -1.1881888184461786e-07\n",
      "2018-07-10 21:32:26 [WARNING] root: Determinant was negative! Clipping Eigenvalues to 0+epsilon from -2.39501190435476e-07\n",
      "2018-07-10 21:32:26 [WARNING] root: Determinant was negative! Clipping Eigenvalues to 0+epsilon from -7.345252015511505e-07\n",
      "2018-07-10 21:32:26 [WARNING] root: Determinant was negative! Clipping Eigenvalues to 0+epsilon from -5.597177050731261e-07\n",
      "2018-07-10 21:32:26 [WARNING] root: Determinant was negative! Clipping Eigenvalues to 0+epsilon from -7.68189522659668e-07\n",
      "2018-07-10 21:32:26 [WARNING] root: Determinant was negative! Clipping Eigenvalues to 0+epsilon from -3.226135163458821e-07\n",
      "2018-07-10 21:32:26 [WARNING] root: Determinant was negative! Clipping Eigenvalues to 0+epsilon from -7.717103400750602e-09\n",
      "2018-07-10 21:32:26 [WARNING] root: Determinant was negative! Clipping Eigenvalues to 0+epsilon from -4.913463840239274e-07\n",
      "2018-07-10 21:32:26 [WARNING] root: Determinant was negative! Clipping Eigenvalues to 0+epsilon from -1.4186778685143508e-07\n",
      "2018-07-10 21:32:26 [WARNING] root: Determinant was negative! Clipping Eigenvalues to 0+epsilon from -2.8696362619484717e-07\n",
      "2018-07-10 21:32:26 [WARNING] root: Determinant was negative! Clipping Eigenvalues to 0+epsilon from -2.457117318499513e-07\n",
      "2018-07-10 21:32:26 [WARNING] root: Determinant was negative! Clipping Eigenvalues to 0+epsilon from -2.2985040004641633e-07\n",
      "2018-07-10 21:32:26 [WARNING] root: Determinant was negative! Clipping Eigenvalues to 0+epsilon from -1.0874846623210033e-07\n",
      "2018-07-10 21:32:26 [WARNING] root: Determinant was negative! Clipping Eigenvalues to 0+epsilon from -8.680750056555553e-07\n",
      "2018-07-10 21:32:26 [WARNING] root: Determinant was negative! Clipping Eigenvalues to 0+epsilon from -2.0369701303479815e-07\n",
      "2018-07-10 21:32:26 [WARNING] root: Determinant was negative! Clipping Eigenvalues to 0+epsilon from -2.594175896319939e-07\n",
      "2018-07-10 21:32:26 [WARNING] root: Determinant was negative! Clipping Eigenvalues to 0+epsilon from -1.0587019261265596e-07\n",
      "2018-07-10 21:32:26 [WARNING] root: Determinant was negative! Clipping Eigenvalues to 0+epsilon from -9.03492534121142e-08\n",
      "2018-07-10 21:32:26 [ERROR] src.evaluation.evaluator: An exception occurred while training DAGMM_NNAutoEncoder_withoutWindow on Syn Extreme Outliers (mis=0.45): Lapack Error getrf : U(3,3) is 0, U is singular at /pytorch/aten/src/TH/generic/THTensorLapack.c:514\n",
      "2018-07-10 21:32:26 [ERROR] src.evaluation.evaluator: Traceback (most recent call last):\n",
      "  File \"../src/evaluation/evaluator.py\", line 122, in evaluate\n",
      "    det.fit(X_train.copy(), y_train.copy())\n",
      "  File \"../src/algorithms/dagmm.py\", line 203, in fit\n",
      "    self.dagmm_step(input_data.float())\n",
      "  File \"../src/algorithms/dagmm.py\", line 177, in dagmm_step\n",
      "    self.lambda_cov_diag)\n",
      "  File \"../src/algorithms/dagmm.py\", line 144, in loss_function\n",
      "    sample_energy, cov_diag = self.compute_energy(z, phi, mu, cov)\n",
      "  File \"../src/algorithms/dagmm.py\", line 113, in compute_energy\n",
      "    cov_inverse.append(torch.inverse(cov_k).unsqueeze(0))\n",
      "RuntimeError: Lapack Error getrf : U(3,3) is 0, U is singular at /pytorch/aten/src/TH/generic/THTensorLapack.c:514\n",
      "\n"
     ]
    },
    {
     "name": "stderr",
     "output_type": "stream",
     "text": [
      "\r",
      "                                                                               \r",
      "\r",
      " 42% (3 of 7) |###########               | Elapsed Time: 0:03:19 ETA:   0:03:15"
     ]
    },
    {
     "name": "stdout",
     "output_type": "stream",
     "text": [
      "2018-07-10 21:32:26 [INFO] src.evaluation.evaluator: Training DAGMM_NNAutoEncoder_withWindow on Syn Extreme Outliers (mis=0.45) with seed 2696844554\n"
     ]
    },
    {
     "name": "stderr",
     "output_type": "stream",
     "text": [
      "\r",
      "                                                                               \r",
      "\r",
      " 57% (4 of 7) |##############            | Elapsed Time: 0:03:23 ETA:   0:00:11"
     ]
    },
    {
     "name": "stdout",
     "output_type": "stream",
     "text": [
      "2018-07-10 21:32:30 [INFO] src.evaluation.evaluator: Training DAGMM_LSTMAutoEncoder_withWindow on Syn Extreme Outliers (mis=0.45) with seed 2696844554\n"
     ]
    },
    {
     "name": "stderr",
     "output_type": "stream",
     "text": [
      "\r",
      "                                                                               \r",
      "\r",
      " 71% (5 of 7) |##################        | Elapsed Time: 0:03:53 ETA:   0:01:00"
     ]
    },
    {
     "name": "stdout",
     "output_type": "stream",
     "text": [
      "2018-07-10 21:33:01 [INFO] src.evaluation.evaluator: Training Recurrent EBM on Syn Extreme Outliers (mis=0.45) with seed 2696844554\n"
     ]
    },
    {
     "name": "stderr",
     "output_type": "stream",
     "text": [
      "100%|██████████| 15/15 [00:07<00:00,  1.89it/s]\n",
      " 85% (6 of 7) |######################    | Elapsed Time: 0:04:52 ETA:   0:00:58"
     ]
    },
    {
     "name": "stdout",
     "output_type": "stream",
     "text": [
      "2018-07-10 21:33:59 [INFO] src.evaluation.evaluator: Training Donut on Syn Extreme Outliers (mis=0.45) with seed 2696844554\n"
     ]
    },
    {
     "name": "stderr",
     "output_type": "stream",
     "text": [
      "100%|██████████| 1/1 [01:34<00:00, 94.79s/it]\n",
      "100% (7 of 7) |##########################| Elapsed Time: 0:07:00 Time:  0:07:00\n",
      "N/A% (0 of 7) |                          | Elapsed Time: 0:00:00 ETA:  --:--:--"
     ]
    },
    {
     "name": "stdout",
     "output_type": "stream",
     "text": [
      "2018-07-10 21:36:07 [INFO] src.evaluation.evaluator: Training LSTM-AD on Syn Extreme Outliers (mis=0.675) with seed 2696844554\n"
     ]
    },
    {
     "name": "stderr",
     "output_type": "stream",
     "text": [
      "\r",
      "                                                                               \r",
      "\r",
      " 14% (1 of 7) |###                       | Elapsed Time: 0:01:42 ETA:   0:10:13"
     ]
    },
    {
     "name": "stdout",
     "output_type": "stream",
     "text": [
      "2018-07-10 21:37:50 [INFO] src.evaluation.evaluator: Training LSTMED on Syn Extreme Outliers (mis=0.675) with seed 2696844554\n"
     ]
    },
    {
     "name": "stderr",
     "output_type": "stream",
     "text": [
      "\r",
      "                                                                               \r",
      "\r",
      " 28% (2 of 7) |#######                   | Elapsed Time: 0:03:19 ETA:   0:08:05"
     ]
    },
    {
     "name": "stdout",
     "output_type": "stream",
     "text": [
      "2018-07-10 21:39:27 [INFO] src.evaluation.evaluator: Training DAGMM_NNAutoEncoder_withoutWindow on Syn Extreme Outliers (mis=0.675) with seed 2696844554\n",
      "2018-07-10 21:39:27 [WARNING] root: Determinant was negative! Clipping Eigenvalues to 0+epsilon from -2.480437615304254e-07\n",
      "2018-07-10 21:39:27 [WARNING] root: Determinant was negative! Clipping Eigenvalues to 0+epsilon from -2.075064742257382e-07\n",
      "2018-07-10 21:39:27 [WARNING] root: Determinant was negative! Clipping Eigenvalues to 0+epsilon from -7.118762255231559e-07\n",
      "2018-07-10 21:39:27 [WARNING] root: Determinant was negative! Clipping Eigenvalues to 0+epsilon from -2.578599378466606e-07\n",
      "2018-07-10 21:39:27 [ERROR] src.evaluation.evaluator: An exception occurred while training DAGMM_NNAutoEncoder_withoutWindow on Syn Extreme Outliers (mis=0.675): Lapack Error getrf : U(3,3) is 0, U is singular at /pytorch/aten/src/TH/generic/THTensorLapack.c:514\n",
      "2018-07-10 21:39:27 [ERROR] src.evaluation.evaluator: Traceback (most recent call last):\n",
      "  File \"../src/evaluation/evaluator.py\", line 122, in evaluate\n",
      "    det.fit(X_train.copy(), y_train.copy())\n",
      "  File \"../src/algorithms/dagmm.py\", line 203, in fit\n",
      "    self.dagmm_step(input_data.float())\n",
      "  File \"../src/algorithms/dagmm.py\", line 177, in dagmm_step\n",
      "    self.lambda_cov_diag)\n",
      "  File \"../src/algorithms/dagmm.py\", line 144, in loss_function\n",
      "    sample_energy, cov_diag = self.compute_energy(z, phi, mu, cov)\n",
      "  File \"../src/algorithms/dagmm.py\", line 113, in compute_energy\n",
      "    cov_inverse.append(torch.inverse(cov_k).unsqueeze(0))\n",
      "RuntimeError: Lapack Error getrf : U(3,3) is 0, U is singular at /pytorch/aten/src/TH/generic/THTensorLapack.c:514\n",
      "\n"
     ]
    },
    {
     "name": "stderr",
     "output_type": "stream",
     "text": [
      "\r",
      "                                                                               \r",
      "\r",
      " 42% (3 of 7) |###########               | Elapsed Time: 0:03:19 ETA:   0:03:14"
     ]
    },
    {
     "name": "stdout",
     "output_type": "stream",
     "text": [
      "2018-07-10 21:39:27 [INFO] src.evaluation.evaluator: Training DAGMM_NNAutoEncoder_withWindow on Syn Extreme Outliers (mis=0.675) with seed 2696844554\n"
     ]
    },
    {
     "name": "stderr",
     "output_type": "stream",
     "text": [
      "\r",
      "                                                                               \r",
      "\r",
      " 57% (4 of 7) |##############            | Elapsed Time: 0:03:23 ETA:   0:00:11"
     ]
    },
    {
     "name": "stdout",
     "output_type": "stream",
     "text": [
      "2018-07-10 21:39:31 [INFO] src.evaluation.evaluator: Training DAGMM_LSTMAutoEncoder_withWindow on Syn Extreme Outliers (mis=0.675) with seed 2696844554\n"
     ]
    },
    {
     "name": "stderr",
     "output_type": "stream",
     "text": [
      "\r",
      "                                                                               \r",
      "\r",
      " 71% (5 of 7) |##################        | Elapsed Time: 0:03:53 ETA:   0:01:00"
     ]
    },
    {
     "name": "stdout",
     "output_type": "stream",
     "text": [
      "2018-07-10 21:40:01 [INFO] src.evaluation.evaluator: Training Recurrent EBM on Syn Extreme Outliers (mis=0.675) with seed 2696844554\n"
     ]
    },
    {
     "name": "stderr",
     "output_type": "stream",
     "text": [
      "100%|██████████| 15/15 [00:07<00:00,  1.88it/s]\n",
      " 85% (6 of 7) |######################    | Elapsed Time: 0:04:53 ETA:   0:00:59"
     ]
    },
    {
     "name": "stdout",
     "output_type": "stream",
     "text": [
      "2018-07-10 21:41:01 [INFO] src.evaluation.evaluator: Training Donut on Syn Extreme Outliers (mis=0.675) with seed 2696844554\n"
     ]
    },
    {
     "name": "stderr",
     "output_type": "stream",
     "text": [
      "100%|██████████| 1/1 [01:36<00:00, 96.22s/it]\n",
      "100% (7 of 7) |##########################| Elapsed Time: 0:07:03 Time:  0:07:03\n",
      "N/A% (0 of 7) |                          | Elapsed Time: 0:00:00 ETA:  --:--:--"
     ]
    },
    {
     "name": "stdout",
     "output_type": "stream",
     "text": [
      "2018-07-10 21:43:11 [INFO] src.evaluation.evaluator: Training LSTM-AD on Syn Extreme Outliers (mis=0.9) with seed 2696844554\n"
     ]
    },
    {
     "name": "stderr",
     "output_type": "stream",
     "text": [
      "\r",
      "                                                                               \r",
      "\r",
      " 14% (1 of 7) |###                       | Elapsed Time: 0:01:42 ETA:   0:10:12"
     ]
    },
    {
     "name": "stdout",
     "output_type": "stream",
     "text": [
      "2018-07-10 21:44:53 [INFO] src.evaluation.evaluator: Training LSTMED on Syn Extreme Outliers (mis=0.9) with seed 2696844554\n"
     ]
    },
    {
     "name": "stderr",
     "output_type": "stream",
     "text": [
      "\r",
      "                                                                               \r",
      "\r",
      " 28% (2 of 7) |#######                   | Elapsed Time: 0:03:19 ETA:   0:08:04"
     ]
    },
    {
     "name": "stdout",
     "output_type": "stream",
     "text": [
      "2018-07-10 21:46:30 [INFO] src.evaluation.evaluator: Training DAGMM_NNAutoEncoder_withoutWindow on Syn Extreme Outliers (mis=0.9) with seed 2696844554\n",
      "2018-07-10 21:46:30 [WARNING] root: Determinant was negative! Clipping Eigenvalues to 0+epsilon from -6.701434784872617e-08\n",
      "2018-07-10 21:46:30 [WARNING] root: Determinant was negative! Clipping Eigenvalues to 0+epsilon from -7.365444254503473e-09\n",
      "2018-07-10 21:46:30 [ERROR] src.evaluation.evaluator: An exception occurred while training DAGMM_NNAutoEncoder_withoutWindow on Syn Extreme Outliers (mis=0.9): Lapack Error getrf : U(3,3) is 0, U is singular at /pytorch/aten/src/TH/generic/THTensorLapack.c:514\n",
      "2018-07-10 21:46:30 [ERROR] src.evaluation.evaluator: Traceback (most recent call last):\n",
      "  File \"../src/evaluation/evaluator.py\", line 122, in evaluate\n",
      "    det.fit(X_train.copy(), y_train.copy())\n",
      "  File \"../src/algorithms/dagmm.py\", line 203, in fit\n",
      "    self.dagmm_step(input_data.float())\n",
      "  File \"../src/algorithms/dagmm.py\", line 177, in dagmm_step\n",
      "    self.lambda_cov_diag)\n",
      "  File \"../src/algorithms/dagmm.py\", line 144, in loss_function\n",
      "    sample_energy, cov_diag = self.compute_energy(z, phi, mu, cov)\n",
      "  File \"../src/algorithms/dagmm.py\", line 113, in compute_energy\n",
      "    cov_inverse.append(torch.inverse(cov_k).unsqueeze(0))\n",
      "RuntimeError: Lapack Error getrf : U(3,3) is 0, U is singular at /pytorch/aten/src/TH/generic/THTensorLapack.c:514\n",
      "\n"
     ]
    },
    {
     "name": "stderr",
     "output_type": "stream",
     "text": [
      "\r",
      "                                                                               \r",
      "\r",
      " 42% (3 of 7) |###########               | Elapsed Time: 0:03:19 ETA:   0:06:27"
     ]
    },
    {
     "name": "stdout",
     "output_type": "stream",
     "text": [
      "2018-07-10 21:46:30 [INFO] src.evaluation.evaluator: Training DAGMM_NNAutoEncoder_withWindow on Syn Extreme Outliers (mis=0.9) with seed 2696844554\n"
     ]
    },
    {
     "name": "stderr",
     "output_type": "stream",
     "text": [
      "\r",
      "                                                                               \r",
      "\r",
      " 57% (4 of 7) |##############            | Elapsed Time: 0:03:23 ETA:   0:00:06"
     ]
    },
    {
     "name": "stdout",
     "output_type": "stream",
     "text": [
      "2018-07-10 21:46:34 [INFO] src.evaluation.evaluator: Training DAGMM_LSTMAutoEncoder_withWindow on Syn Extreme Outliers (mis=0.9) with seed 2696844554\n"
     ]
    },
    {
     "name": "stderr",
     "output_type": "stream",
     "text": [
      "\r",
      "                                                                               \r",
      "\r",
      " 71% (5 of 7) |##################        | Elapsed Time: 0:03:53 ETA:   0:01:01"
     ]
    },
    {
     "name": "stdout",
     "output_type": "stream",
     "text": [
      "2018-07-10 21:47:05 [INFO] src.evaluation.evaluator: Training Recurrent EBM on Syn Extreme Outliers (mis=0.9) with seed 2696844554\n"
     ]
    },
    {
     "name": "stderr",
     "output_type": "stream",
     "text": [
      "100%|██████████| 15/15 [00:07<00:00,  1.88it/s]\n",
      " 85% (6 of 7) |######################    | Elapsed Time: 0:04:53 ETA:   0:01:00"
     ]
    },
    {
     "name": "stdout",
     "output_type": "stream",
     "text": [
      "2018-07-10 21:48:05 [INFO] src.evaluation.evaluator: Training Donut on Syn Extreme Outliers (mis=0.9) with seed 2696844554\n"
     ]
    },
    {
     "name": "stderr",
     "output_type": "stream",
     "text": [
      "100%|██████████| 1/1 [01:38<00:00, 98.62s/it]\n",
      "100% (7 of 7) |##########################| Elapsed Time: 0:07:07 Time:  0:07:07\n",
      "100% (5 of 5) |##########################| Elapsed Time: 0:47:31 Time:  0:47:31\n"
     ]
    },
    {
     "name": "stdout",
     "output_type": "stream",
     "text": [
      "2018-07-10 21:50:22 [INFO] src.evaluation.evaluator: Store evaluator results at /home/thomas/work/notebooks/data_30/missing-run-15-2696844554-2018-07-10-215022.pkl\n"
     ]
    },
    {
     "name": "stderr",
     "output_type": "stream",
     "text": [
      "N/A% (0 of 7) |                          | Elapsed Time: 0:00:00 ETA:  --:--:--"
     ]
    },
    {
     "name": "stdout",
     "output_type": "stream",
     "text": [
      "2018-07-10 21:50:22 [INFO] src.evaluation.evaluator: Training LSTM-AD on Syn Extreme Outliers (mis=0.0) with seed 3114219740\n"
     ]
    },
    {
     "name": "stderr",
     "output_type": "stream",
     "text": [
      "\r",
      "                                                                               \r",
      "\r",
      " 14% (1 of 7) |###                       | Elapsed Time: 0:01:41 ETA:   0:10:11"
     ]
    },
    {
     "name": "stdout",
     "output_type": "stream",
     "text": [
      "2018-07-10 21:52:04 [INFO] src.evaluation.evaluator: Training LSTMED on Syn Extreme Outliers (mis=0.0) with seed 3114219740\n"
     ]
    },
    {
     "name": "stderr",
     "output_type": "stream",
     "text": [
      "\r",
      "                                                                               \r",
      "\r",
      " 28% (2 of 7) |#######                   | Elapsed Time: 0:03:19 ETA:   0:08:07"
     ]
    },
    {
     "name": "stdout",
     "output_type": "stream",
     "text": [
      "2018-07-10 21:53:41 [INFO] src.evaluation.evaluator: Training DAGMM_NNAutoEncoder_withoutWindow on Syn Extreme Outliers (mis=0.0) with seed 3114219740\n"
     ]
    },
    {
     "name": "stderr",
     "output_type": "stream",
     "text": [
      "\r",
      "                                                                               \r",
      "\r",
      " 42% (3 of 7) |###########               | Elapsed Time: 0:03:23 ETA:   0:00:16"
     ]
    },
    {
     "name": "stdout",
     "output_type": "stream",
     "text": [
      "2018-07-10 21:53:45 [INFO] src.evaluation.evaluator: Training DAGMM_NNAutoEncoder_withWindow on Syn Extreme Outliers (mis=0.0) with seed 3114219740\n"
     ]
    },
    {
     "name": "stderr",
     "output_type": "stream",
     "text": [
      "\r",
      "                                                                               \r",
      "\r",
      " 57% (4 of 7) |##############            | Elapsed Time: 0:03:27 ETA:   0:00:11"
     ]
    },
    {
     "name": "stdout",
     "output_type": "stream",
     "text": [
      "2018-07-10 21:53:49 [INFO] src.evaluation.evaluator: Training DAGMM_LSTMAutoEncoder_withWindow on Syn Extreme Outliers (mis=0.0) with seed 3114219740\n"
     ]
    },
    {
     "name": "stderr",
     "output_type": "stream",
     "text": [
      "\r",
      "                                                                               \r",
      "\r",
      " 71% (5 of 7) |##################        | Elapsed Time: 0:03:57 ETA:   0:01:00"
     ]
    },
    {
     "name": "stdout",
     "output_type": "stream",
     "text": [
      "2018-07-10 21:54:20 [INFO] src.evaluation.evaluator: Training Recurrent EBM on Syn Extreme Outliers (mis=0.0) with seed 3114219740\n"
     ]
    },
    {
     "name": "stderr",
     "output_type": "stream",
     "text": [
      "100%|██████████| 15/15 [00:08<00:00,  1.87it/s]\n",
      " 85% (6 of 7) |######################    | Elapsed Time: 0:04:58 ETA:   0:01:00"
     ]
    },
    {
     "name": "stdout",
     "output_type": "stream",
     "text": [
      "2018-07-10 21:55:21 [INFO] src.evaluation.evaluator: Training Donut on Syn Extreme Outliers (mis=0.0) with seed 3114219740\n"
     ]
    },
    {
     "name": "stderr",
     "output_type": "stream",
     "text": [
      "\r",
      "  0%|          | 0/1 [00:00<?, ?it/s]"
     ]
    }
   ],
   "source": [
    "seeds = np.random.randint(low=0, high=2 ** 32 - 1, size=30, dtype=\"uint32\")\n",
    "print_order = [\"dataset\", \"algorithm\", \"accuracy\", \"precision\", \"recall\", \"F1-score\", \"F0.1-score\", \"auroc\"]\n",
    "rename_columns = [col for col in print_order if col not in ['dataset', 'algorithm']]\n",
    "results = pd.DataFrame()\n",
    "\n",
    "for i, seed in enumerate(seeds):\n",
    "    evaluator = Evaluator(datasets if datasets else get_pipeline_datasets(seed), detectors, seed=seed, output_dir='data_30')\n",
    "    evaluator.evaluate()\n",
    "    result = evaluator.benchmarks()\n",
    "    evaluator.benchmark_results = result\n",
    "    evaluator.export_results(f'missing-run-{i}-{seed}')\n",
    "    del evaluator  # Save memory\n",
    "    results = results.append(result, ignore_index=True)"
   ]
  },
  {
   "cell_type": "code",
   "execution_count": null,
   "metadata": {},
   "outputs": [],
   "source": [
    "avg_results = results.groupby([\"dataset\", \"algorithm\"], as_index=False).mean()\n",
    "std_results = results.groupby([\"dataset\", \"algorithm\"]).std(ddof=0)\n",
    "\n",
    "evaluator = Evaluator(datasets if datasets else get_pipeline_datasets(seed), detectors, seed=42, output_dir='data')\n",
    "evaluator.benchmark_results = avg_results"
   ]
  },
  {
   "cell_type": "code",
   "execution_count": null,
   "metadata": {},
   "outputs": [],
   "source": [
    "print(f'{\"-\"*20} Average {\"-\"*20}')\n",
    "print(avg_results)\n",
    "print(f'{\"-\"*22} Std {\"-\"*22}')\n",
    "print(std_results)"
   ]
  },
  {
   "cell_type": "code",
   "execution_count": null,
   "metadata": {},
   "outputs": [],
   "source": [
    "path = evaluator.export_results('missing-final')"
   ]
  },
  {
   "cell_type": "code",
   "execution_count": null,
   "metadata": {},
   "outputs": [],
   "source": [
    "evaluator2 = Evaluator(datasets, detectors, output_dir='data_30')\n",
    "evaluator2.import_results(path[8:-4])"
   ]
  },
  {
   "cell_type": "code",
   "execution_count": null,
   "metadata": {},
   "outputs": [],
   "source": [
    "fig = evaluator2.plot_experiment_comparison('Missing')"
   ]
  }
 ],
 "metadata": {
  "kernelspec": {
   "display_name": "Python 3",
   "language": "python",
   "name": "python3"
  },
  "language_info": {
   "codemirror_mode": {
    "name": "ipython",
    "version": 3
   },
   "file_extension": ".py",
   "mimetype": "text/x-python",
   "name": "python",
   "nbconvert_exporter": "python",
   "pygments_lexer": "ipython3",
   "version": "3.6.5"
  }
 },
 "nbformat": 4,
 "nbformat_minor": 2
}
