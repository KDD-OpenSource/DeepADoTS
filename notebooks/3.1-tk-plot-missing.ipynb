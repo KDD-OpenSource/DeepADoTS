{
 "cells": [
  {
   "cell_type": "code",
   "execution_count": 21,
   "metadata": {},
   "outputs": [
    {
     "name": "stdout",
     "output_type": "stream",
     "text": [
      "The autoreload extension is already loaded. To reload it, use:\n",
      "  %reload_ext autoreload\n"
     ]
    }
   ],
   "source": [
    "% load_ext autoreload\n",
    "% autoreload 2\n",
    "\n",
    "import numpy as np\n",
    "import pandas as pd\n",
    "\n",
    "from matplotlib import pyplot as plt\n",
    "\n",
    "import sys\n",
    "sys.path.append('..')\n",
    "from src.evaluation.evaluator import Evaluator\n",
    "from src.datasets import SyntheticDataGenerator, MultivariateAnomalyFunction\n",
    "import main"
   ]
  },
  {
   "cell_type": "markdown",
   "metadata": {},
   "source": [
    "TODO:\n",
    "- XOR (Anomaly -> gleichzeitig)\n",
    "- Ableitung (Geschwindigkeit vs Beschleunigung)\n",
    "- Invers"
   ]
  },
  {
   "cell_type": "markdown",
   "metadata": {},
   "source": [
    "## Plot missing results"
   ]
  },
  {
   "cell_type": "code",
   "execution_count": 28,
   "metadata": {},
   "outputs": [],
   "source": [
    "datasets = [SyntheticDataGenerator.get(f'extreme_1_missing', 42, missing) for missing in np.linspace(0, 0.9, 5)]\n",
    "detectors = main.get_detectors()[:1] + main.get_detectors()[1:]"
   ]
  },
  {
   "cell_type": "code",
   "execution_count": 29,
   "metadata": {
    "scrolled": true
   },
   "outputs": [
    {
     "name": "stderr",
     "output_type": "stream",
     "text": [
      "N/A% (0 of 7) |                          | Elapsed Time: 0:00:00 ETA:  --:--:--"
     ]
    },
    {
     "name": "stdout",
     "output_type": "stream",
     "text": [
      "2018-07-05 16:49:57 [INFO] src.evaluation.evaluator: Training LSTM-AD on Syn Extreme Outliers (mis=0.0) with seed 2421901651\n"
     ]
    },
    {
     "name": "stderr",
     "output_type": "stream",
     "text": [
      "\r",
      "                                                                               \r",
      "\r",
      " 14% (1 of 7) |###                       | Elapsed Time: 0:01:49 ETA:   0:10:54"
     ]
    },
    {
     "name": "stdout",
     "output_type": "stream",
     "text": [
      "2018-07-05 16:51:46 [INFO] src.evaluation.evaluator: Training LSTMED on Syn Extreme Outliers (mis=0.0) with seed 2421901651\n"
     ]
    },
    {
     "name": "stderr",
     "output_type": "stream",
     "text": [
      "\r",
      "                                                                               \r",
      "\r",
      " 28% (2 of 7) |#######                   | Elapsed Time: 0:03:32 ETA:   0:08:37"
     ]
    },
    {
     "name": "stdout",
     "output_type": "stream",
     "text": [
      "2018-07-05 16:53:29 [INFO] src.evaluation.evaluator: Training DAGMM_NNAutoEncoder_withoutWindow on Syn Extreme Outliers (mis=0.0) with seed 2421901651\n",
      "2018-07-05 16:53:29 [WARNING] root: Determinant was negative! Clipping Eigenvalues to 0+epsilon from -3.430810124882555e-08\n",
      "2018-07-05 16:53:29 [WARNING] root: Determinant was negative! Clipping Eigenvalues to 0+epsilon from -5.39781908059922e-08\n",
      "2018-07-05 16:53:29 [WARNING] root: Determinant was negative! Clipping Eigenvalues to 0+epsilon from -1.447236730456325e-08\n",
      "2018-07-05 16:53:30 [WARNING] root: Determinant was negative! Clipping Eigenvalues to 0+epsilon from -4.704586498149865e-09\n",
      "2018-07-05 16:53:31 [WARNING] root: Determinant was negative! Clipping Eigenvalues to 0+epsilon from -5.580518802617007e-08\n"
     ]
    },
    {
     "name": "stderr",
     "output_type": "stream",
     "text": [
      "\r",
      "                                                                               \r",
      "\r",
      " 42% (3 of 7) |###########               | Elapsed Time: 0:03:36 ETA:   0:00:16"
     ]
    },
    {
     "name": "stdout",
     "output_type": "stream",
     "text": [
      "2018-07-05 16:53:33 [INFO] src.evaluation.evaluator: Training DAGMM_NNAutoEncoder_withWindow on Syn Extreme Outliers (mis=0.0) with seed 2421901651\n"
     ]
    },
    {
     "name": "stderr",
     "output_type": "stream",
     "text": [
      "\r",
      "                                                                               \r",
      "\r",
      " 57% (4 of 7) |##############            | Elapsed Time: 0:03:40 ETA:   0:00:12"
     ]
    },
    {
     "name": "stdout",
     "output_type": "stream",
     "text": [
      "2018-07-05 16:53:37 [INFO] src.evaluation.evaluator: Training DAGMM_LSTMAutoEncoder_withWindow on Syn Extreme Outliers (mis=0.0) with seed 2421901651\n"
     ]
    },
    {
     "name": "stderr",
     "output_type": "stream",
     "text": [
      "\r",
      "                                                                               \r",
      "\r",
      " 71% (5 of 7) |##################        | Elapsed Time: 0:04:13 ETA:   0:01:06"
     ]
    },
    {
     "name": "stdout",
     "output_type": "stream",
     "text": [
      "2018-07-05 16:54:11 [INFO] src.evaluation.evaluator: Training Recurrent EBM on Syn Extreme Outliers (mis=0.0) with seed 2421901651\n"
     ]
    },
    {
     "name": "stderr",
     "output_type": "stream",
     "text": [
      "100%|██████████| 15/15 [00:05<00:00,  2.51it/s]\n",
      " 85% (6 of 7) |######################    | Elapsed Time: 0:04:21 ETA:   0:00:07"
     ]
    },
    {
     "name": "stdout",
     "output_type": "stream",
     "text": [
      "2018-07-05 16:54:18 [INFO] src.evaluation.evaluator: Training Donut on Syn Extreme Outliers (mis=0.0) with seed 2421901651\n"
     ]
    },
    {
     "name": "stderr",
     "output_type": "stream",
     "text": [
      "\r",
      "  0%|          | 0/1 [00:00<?, ?it/s]"
     ]
    },
    {
     "name": "stdout",
     "output_type": "stream",
     "text": [
      "INFO:tensorflow:Restoring parameters from /tmp/tmpbya3jkct/variables.dat-900\n",
      "2018-07-05 16:54:31 [INFO] tensorflow: Restoring parameters from /tmp/tmpbya3jkct/variables.dat-900\n"
     ]
    },
    {
     "name": "stderr",
     "output_type": "stream",
     "text": [
      "100%|██████████| 1/1 [00:12<00:00, 12.75s/it]\n",
      "100% (7 of 7) |##########################| Elapsed Time: 0:04:36 Time:  0:04:36\n",
      "N/A% (0 of 7) |                          | Elapsed Time: 0:00:00 ETA:  --:--:--"
     ]
    },
    {
     "name": "stdout",
     "output_type": "stream",
     "text": [
      "2018-07-05 16:54:33 [INFO] src.evaluation.evaluator: Training LSTM-AD on Syn Extreme Outliers (mis=0.225) with seed 2421901651\n"
     ]
    },
    {
     "name": "stderr",
     "output_type": "stream",
     "text": [
      "\r",
      "                                                                               \r",
      "\r",
      " 14% (1 of 7) |###                       | Elapsed Time: 0:01:41 ETA:   0:10:07"
     ]
    },
    {
     "name": "stdout",
     "output_type": "stream",
     "text": [
      "2018-07-05 16:56:15 [INFO] src.evaluation.evaluator: Training LSTMED on Syn Extreme Outliers (mis=0.225) with seed 2421901651\n"
     ]
    },
    {
     "name": "stderr",
     "output_type": "stream",
     "text": [
      "\r",
      "                                                                               \r",
      "\r",
      " 28% (2 of 7) |#######                   | Elapsed Time: 0:03:20 ETA:   0:08:16"
     ]
    },
    {
     "name": "stdout",
     "output_type": "stream",
     "text": [
      "2018-07-05 16:57:54 [INFO] src.evaluation.evaluator: Training DAGMM_NNAutoEncoder_withoutWindow on Syn Extreme Outliers (mis=0.225) with seed 2421901651\n",
      "2018-07-05 16:57:54 [ERROR] src.evaluation.evaluator: An exception occurred while training DAGMM_NNAutoEncoder_withoutWindow on Syn Extreme Outliers (mis=0.225): Lapack Error getrf : U(3,3) is 0, U is singular at /pytorch/aten/src/TH/generic/THTensorLapack.c:514\n",
      "2018-07-05 16:57:54 [ERROR] src.evaluation.evaluator: Traceback (most recent call last):\n",
      "  File \"../src/evaluation/evaluator.py\", line 122, in evaluate\n",
      "    det.fit(X_train.copy(), y_train.copy())\n",
      "  File \"../src/algorithms/dagmm.py\", line 203, in fit\n",
      "    self.dagmm_step(input_data.float())\n",
      "  File \"../src/algorithms/dagmm.py\", line 177, in dagmm_step\n",
      "    self.lambda_cov_diag)\n",
      "  File \"../src/algorithms/dagmm.py\", line 144, in loss_function\n",
      "    sample_energy, cov_diag = self.compute_energy(z, phi, mu, cov)\n",
      "  File \"../src/algorithms/dagmm.py\", line 113, in compute_energy\n",
      "    cov_inverse.append(torch.inverse(cov_k).unsqueeze(0))\n",
      "RuntimeError: Lapack Error getrf : U(3,3) is 0, U is singular at /pytorch/aten/src/TH/generic/THTensorLapack.c:514\n",
      "\n",
      "2018-07-05 16:57:54 [INFO] src.evaluation.evaluator: Training DAGMM_NNAutoEncoder_withWindow on Syn Extreme Outliers (mis=0.225) with seed 2421901651\n"
     ]
    },
    {
     "name": "stderr",
     "output_type": "stream",
     "text": [
      "\r",
      "                                                                               \r",
      "\r",
      " 57% (4 of 7) |##############            | Elapsed Time: 0:03:24 ETA:   0:00:05"
     ]
    },
    {
     "name": "stdout",
     "output_type": "stream",
     "text": [
      "2018-07-05 16:57:58 [INFO] src.evaluation.evaluator: Training DAGMM_LSTMAutoEncoder_withWindow on Syn Extreme Outliers (mis=0.225) with seed 2421901651\n"
     ]
    },
    {
     "name": "stderr",
     "output_type": "stream",
     "text": [
      "\r",
      "                                                                               \r",
      "\r",
      " 71% (5 of 7) |##################        | Elapsed Time: 0:03:54 ETA:   0:01:00"
     ]
    },
    {
     "name": "stdout",
     "output_type": "stream",
     "text": [
      "2018-07-05 16:58:28 [INFO] src.evaluation.evaluator: Training Recurrent EBM on Syn Extreme Outliers (mis=0.225) with seed 2421901651\n"
     ]
    },
    {
     "name": "stderr",
     "output_type": "stream",
     "text": [
      "100%|██████████| 15/15 [00:05<00:00,  2.53it/s]\n",
      " 85% (6 of 7) |######################    | Elapsed Time: 0:04:02 ETA:   0:00:07"
     ]
    },
    {
     "name": "stdout",
     "output_type": "stream",
     "text": [
      "2018-07-05 16:58:36 [INFO] src.evaluation.evaluator: Training Donut on Syn Extreme Outliers (mis=0.225) with seed 2421901651\n"
     ]
    },
    {
     "name": "stderr",
     "output_type": "stream",
     "text": [
      "  0%|          | 0/1 [00:00<?, ?it/s]/home/thomas/.local/lib/python3.6/site-packages/tfsnippet/scaffold/early_stopping_.py:127: UserWarning: Early-stopping metric has never been updated. The variables will keep their latest values. Did you forget to add corresponding metric?\n",
      "  'Early-stopping metric has never been updated. '\n",
      "100%|██████████| 1/1 [00:01<00:00,  1.60s/it]\n",
      "100% (7 of 7) |##########################| Elapsed Time: 0:04:06 Time:  0:04:06\n",
      "N/A% (0 of 7) |                          | Elapsed Time: 0:00:00 ETA:  --:--:--"
     ]
    },
    {
     "name": "stdout",
     "output_type": "stream",
     "text": [
      "2018-07-05 16:58:40 [INFO] src.evaluation.evaluator: Training LSTM-AD on Syn Extreme Outliers (mis=0.45) with seed 2421901651\n"
     ]
    },
    {
     "name": "stderr",
     "output_type": "stream",
     "text": [
      "\r",
      "                                                                               \r",
      "\r",
      " 14% (1 of 7) |###                       | Elapsed Time: 0:01:40 ETA:   0:10:02"
     ]
    },
    {
     "name": "stdout",
     "output_type": "stream",
     "text": [
      "2018-07-05 17:00:20 [INFO] src.evaluation.evaluator: Training LSTMED on Syn Extreme Outliers (mis=0.45) with seed 2421901651\n"
     ]
    },
    {
     "name": "stderr",
     "output_type": "stream",
     "text": [
      "\r",
      "                                                                               \r",
      "\r",
      " 28% (2 of 7) |#######                   | Elapsed Time: 0:03:17 ETA:   0:08:04"
     ]
    },
    {
     "name": "stdout",
     "output_type": "stream",
     "text": [
      "2018-07-05 17:01:57 [INFO] src.evaluation.evaluator: Training DAGMM_NNAutoEncoder_withoutWindow on Syn Extreme Outliers (mis=0.45) with seed 2421901651\n",
      "2018-07-05 17:01:57 [WARNING] root: Determinant was negative! Clipping Eigenvalues to 0+epsilon from -4.141269585034024e-07\n",
      "2018-07-05 17:01:57 [ERROR] src.evaluation.evaluator: An exception occurred while training DAGMM_NNAutoEncoder_withoutWindow on Syn Extreme Outliers (mis=0.45): Lapack Error getrf : U(3,3) is 0, U is singular at /pytorch/aten/src/TH/generic/THTensorLapack.c:514\n",
      "2018-07-05 17:01:57 [ERROR] src.evaluation.evaluator: Traceback (most recent call last):\n",
      "  File \"../src/evaluation/evaluator.py\", line 122, in evaluate\n",
      "    det.fit(X_train.copy(), y_train.copy())\n",
      "  File \"../src/algorithms/dagmm.py\", line 203, in fit\n",
      "    self.dagmm_step(input_data.float())\n",
      "  File \"../src/algorithms/dagmm.py\", line 177, in dagmm_step\n",
      "    self.lambda_cov_diag)\n",
      "  File \"../src/algorithms/dagmm.py\", line 144, in loss_function\n",
      "    sample_energy, cov_diag = self.compute_energy(z, phi, mu, cov)\n",
      "  File \"../src/algorithms/dagmm.py\", line 113, in compute_energy\n",
      "    cov_inverse.append(torch.inverse(cov_k).unsqueeze(0))\n",
      "RuntimeError: Lapack Error getrf : U(3,3) is 0, U is singular at /pytorch/aten/src/TH/generic/THTensorLapack.c:514\n",
      "\n",
      "2018-07-05 17:01:57 [INFO] src.evaluation.evaluator: Training DAGMM_NNAutoEncoder_withWindow on Syn Extreme Outliers (mis=0.45) with seed 2421901651\n"
     ]
    },
    {
     "name": "stderr",
     "output_type": "stream",
     "text": [
      "\r",
      "                                                                               \r",
      "\r",
      " 57% (4 of 7) |##############            | Elapsed Time: 0:03:21 ETA:   0:00:05"
     ]
    },
    {
     "name": "stdout",
     "output_type": "stream",
     "text": [
      "2018-07-05 17:02:01 [INFO] src.evaluation.evaluator: Training DAGMM_LSTMAutoEncoder_withWindow on Syn Extreme Outliers (mis=0.45) with seed 2421901651\n"
     ]
    },
    {
     "name": "stderr",
     "output_type": "stream",
     "text": [
      "\r",
      "                                                                               \r",
      "\r",
      " 71% (5 of 7) |##################        | Elapsed Time: 0:03:51 ETA:   0:00:59"
     ]
    },
    {
     "name": "stdout",
     "output_type": "stream",
     "text": [
      "2018-07-05 17:02:31 [INFO] src.evaluation.evaluator: Training Recurrent EBM on Syn Extreme Outliers (mis=0.45) with seed 2421901651\n"
     ]
    },
    {
     "name": "stderr",
     "output_type": "stream",
     "text": [
      "100%|██████████| 15/15 [00:05<00:00,  2.52it/s]\n",
      " 85% (6 of 7) |######################    | Elapsed Time: 0:03:59 ETA:   0:00:07"
     ]
    },
    {
     "name": "stdout",
     "output_type": "stream",
     "text": [
      "2018-07-05 17:02:39 [INFO] src.evaluation.evaluator: Training Donut on Syn Extreme Outliers (mis=0.45) with seed 2421901651\n"
     ]
    },
    {
     "name": "stderr",
     "output_type": "stream",
     "text": [
      "100%|██████████| 1/1 [00:01<00:00,  1.73s/it]\n",
      "100% (7 of 7) |##########################| Elapsed Time: 0:04:03 Time:  0:04:03\n",
      "N/A% (0 of 7) |                          | Elapsed Time: 0:00:00 ETA:  --:--:--"
     ]
    },
    {
     "name": "stdout",
     "output_type": "stream",
     "text": [
      "2018-07-05 17:02:44 [INFO] src.evaluation.evaluator: Training LSTM-AD on Syn Extreme Outliers (mis=0.675) with seed 2421901651\n"
     ]
    },
    {
     "name": "stderr",
     "output_type": "stream",
     "text": [
      "\r",
      "                                                                               \r",
      "\r",
      " 14% (1 of 7) |###                       | Elapsed Time: 0:01:40 ETA:   0:10:03"
     ]
    },
    {
     "name": "stdout",
     "output_type": "stream",
     "text": [
      "2018-07-05 17:04:24 [INFO] src.evaluation.evaluator: Training LSTMED on Syn Extreme Outliers (mis=0.675) with seed 2421901651\n"
     ]
    },
    {
     "name": "stderr",
     "output_type": "stream",
     "text": [
      "\r",
      "                                                                               \r",
      "\r",
      " 28% (2 of 7) |#######                   | Elapsed Time: 0:03:17 ETA:   0:08:04"
     ]
    },
    {
     "name": "stdout",
     "output_type": "stream",
     "text": [
      "2018-07-05 17:06:01 [INFO] src.evaluation.evaluator: Training DAGMM_NNAutoEncoder_withoutWindow on Syn Extreme Outliers (mis=0.675) with seed 2421901651\n",
      "2018-07-05 17:06:01 [WARNING] root: Determinant was negative! Clipping Eigenvalues to 0+epsilon from -6.131248255769606e-07\n",
      "2018-07-05 17:06:01 [WARNING] root: Determinant was negative! Clipping Eigenvalues to 0+epsilon from -3.71086798622855e-07\n",
      "2018-07-05 17:06:01 [WARNING] root: Determinant was negative! Clipping Eigenvalues to 0+epsilon from -5.413807002696558e-07\n",
      "2018-07-05 17:06:01 [WARNING] root: Determinant was negative! Clipping Eigenvalues to 0+epsilon from -5.725022447222727e-07\n",
      "2018-07-05 17:06:01 [WARNING] root: Determinant was negative! Clipping Eigenvalues to 0+epsilon from -1.7027355170284864e-07\n",
      "2018-07-05 17:06:01 [WARNING] root: Determinant was negative! Clipping Eigenvalues to 0+epsilon from -2.0847723192218837e-07\n",
      "2018-07-05 17:06:01 [WARNING] root: Determinant was negative! Clipping Eigenvalues to 0+epsilon from -6.190569479258556e-07\n",
      "2018-07-05 17:06:01 [WARNING] root: Determinant was negative! Clipping Eigenvalues to 0+epsilon from -3.2705284525036404e-07\n",
      "2018-07-05 17:06:01 [WARNING] root: Determinant was negative! Clipping Eigenvalues to 0+epsilon from -1.274551379992772e-07\n",
      "2018-07-05 17:06:01 [WARNING] root: Determinant was negative! Clipping Eigenvalues to 0+epsilon from -1.3824360678427183e-07\n",
      "2018-07-05 17:06:01 [WARNING] root: Determinant was negative! Clipping Eigenvalues to 0+epsilon from -2.706506165850442e-07\n",
      "2018-07-05 17:06:01 [WARNING] root: Determinant was negative! Clipping Eigenvalues to 0+epsilon from -3.8843677430122625e-07\n",
      "2018-07-05 17:06:01 [WARNING] root: Determinant was negative! Clipping Eigenvalues to 0+epsilon from -1.1401383659404019e-07\n",
      "2018-07-05 17:06:01 [WARNING] root: Determinant was negative! Clipping Eigenvalues to 0+epsilon from -1.5279307774562767e-07\n",
      "2018-07-05 17:06:01 [WARNING] root: Determinant was negative! Clipping Eigenvalues to 0+epsilon from -6.67413644350745e-07\n",
      "2018-07-05 17:06:01 [WARNING] root: Determinant was negative! Clipping Eigenvalues to 0+epsilon from -5.1913421117433245e-08\n",
      "2018-07-05 17:06:01 [WARNING] root: Determinant was negative! Clipping Eigenvalues to 0+epsilon from -2.3189523190580985e-08\n",
      "2018-07-05 17:06:01 [WARNING] root: Determinant was negative! Clipping Eigenvalues to 0+epsilon from -3.7387977158687136e-07\n",
      "2018-07-05 17:06:01 [WARNING] root: Determinant was negative! Clipping Eigenvalues to 0+epsilon from -2.932862912530254e-07\n",
      "2018-07-05 17:06:01 [WARNING] root: Determinant was negative! Clipping Eigenvalues to 0+epsilon from -7.368183219114144e-08\n",
      "2018-07-05 17:06:01 [WARNING] root: Determinant was negative! Clipping Eigenvalues to 0+epsilon from -8.262495754252086e-08\n",
      "2018-07-05 17:06:01 [WARNING] root: Determinant was negative! Clipping Eigenvalues to 0+epsilon from -6.54447546821757e-07\n",
      "2018-07-05 17:06:01 [WARNING] root: Determinant was negative! Clipping Eigenvalues to 0+epsilon from -1.868634313950679e-07\n",
      "2018-07-05 17:06:01 [WARNING] root: Determinant was negative! Clipping Eigenvalues to 0+epsilon from -5.208066227169184e-07\n",
      "2018-07-05 17:06:01 [WARNING] root: Determinant was negative! Clipping Eigenvalues to 0+epsilon from -3.6237730682842084e-07\n",
      "2018-07-05 17:06:01 [WARNING] root: Determinant was negative! Clipping Eigenvalues to 0+epsilon from -4.504670059191085e-08\n",
      "2018-07-05 17:06:01 [WARNING] root: Determinant was negative! Clipping Eigenvalues to 0+epsilon from -9.98308724575736e-09\n",
      "2018-07-05 17:06:01 [WARNING] root: Determinant was negative! Clipping Eigenvalues to 0+epsilon from -3.0682056717523665e-07\n",
      "2018-07-05 17:06:01 [WARNING] root: Determinant was negative! Clipping Eigenvalues to 0+epsilon from -2.733434314450278e-07\n",
      "2018-07-05 17:06:01 [WARNING] root: Determinant was negative! Clipping Eigenvalues to 0+epsilon from -1.6875370434377146e-08\n",
      "2018-07-05 17:06:01 [WARNING] root: Determinant was negative! Clipping Eigenvalues to 0+epsilon from -7.814655589299946e-08\n",
      "2018-07-05 17:06:01 [WARNING] root: Determinant was negative! Clipping Eigenvalues to 0+epsilon from -7.529556977914353e-10\n",
      "2018-07-05 17:06:01 [WARNING] root: Determinant was negative! Clipping Eigenvalues to 0+epsilon from -7.578991016998771e-07\n",
      "2018-07-05 17:06:01 [WARNING] root: Determinant was negative! Clipping Eigenvalues to 0+epsilon from -2.0613835260974156e-07\n",
      "2018-07-05 17:06:01 [WARNING] root: Determinant was negative! Clipping Eigenvalues to 0+epsilon from -9.237562892394635e-08\n",
      "2018-07-05 17:06:01 [WARNING] root: Determinant was negative! Clipping Eigenvalues to 0+epsilon from -2.8588632972059713e-07\n",
      "2018-07-05 17:06:01 [WARNING] root: Determinant was negative! Clipping Eigenvalues to 0+epsilon from -2.2942651867197128e-07\n",
      "2018-07-05 17:06:01 [WARNING] root: Determinant was negative! Clipping Eigenvalues to 0+epsilon from -4.2763073793139483e-07\n",
      "2018-07-05 17:06:01 [WARNING] root: Determinant was negative! Clipping Eigenvalues to 0+epsilon from -2.2224207896215376e-07\n",
      "2018-07-05 17:06:01 [WARNING] root: Determinant was negative! Clipping Eigenvalues to 0+epsilon from -1.9074451529377257e-07\n",
      "2018-07-05 17:06:01 [WARNING] root: Determinant was negative! Clipping Eigenvalues to 0+epsilon from -4.845578587264754e-07\n",
      "2018-07-05 17:06:01 [WARNING] root: Determinant was negative! Clipping Eigenvalues to 0+epsilon from -6.881209912990016e-08\n",
      "2018-07-05 17:06:01 [WARNING] root: Determinant was negative! Clipping Eigenvalues to 0+epsilon from -1.480478744042557e-07\n",
      "2018-07-05 17:06:01 [ERROR] src.evaluation.evaluator: An exception occurred while training DAGMM_NNAutoEncoder_withoutWindow on Syn Extreme Outliers (mis=0.675): Lapack Error getrf : U(3,3) is 0, U is singular at /pytorch/aten/src/TH/generic/THTensorLapack.c:514\n",
      "2018-07-05 17:06:01 [ERROR] src.evaluation.evaluator: Traceback (most recent call last):\n",
      "  File \"../src/evaluation/evaluator.py\", line 122, in evaluate\n",
      "    det.fit(X_train.copy(), y_train.copy())\n",
      "  File \"../src/algorithms/dagmm.py\", line 203, in fit\n",
      "    self.dagmm_step(input_data.float())\n",
      "  File \"../src/algorithms/dagmm.py\", line 177, in dagmm_step\n",
      "    self.lambda_cov_diag)\n",
      "  File \"../src/algorithms/dagmm.py\", line 144, in loss_function\n",
      "    sample_energy, cov_diag = self.compute_energy(z, phi, mu, cov)\n",
      "  File \"../src/algorithms/dagmm.py\", line 113, in compute_energy\n",
      "    cov_inverse.append(torch.inverse(cov_k).unsqueeze(0))\n",
      "RuntimeError: Lapack Error getrf : U(3,3) is 0, U is singular at /pytorch/aten/src/TH/generic/THTensorLapack.c:514\n",
      "\n"
     ]
    },
    {
     "name": "stderr",
     "output_type": "stream",
     "text": [
      "\r",
      "                                                                               \r",
      "\r",
      " 42% (3 of 7) |###########               | Elapsed Time: 0:03:17 ETA:   0:03:14"
     ]
    },
    {
     "name": "stdout",
     "output_type": "stream",
     "text": [
      "2018-07-05 17:06:01 [INFO] src.evaluation.evaluator: Training DAGMM_NNAutoEncoder_withWindow on Syn Extreme Outliers (mis=0.675) with seed 2421901651\n"
     ]
    },
    {
     "name": "stderr",
     "output_type": "stream",
     "text": [
      "\r",
      "                                                                               \r",
      "\r",
      " 57% (4 of 7) |##############            | Elapsed Time: 0:03:21 ETA:   0:00:11"
     ]
    },
    {
     "name": "stdout",
     "output_type": "stream",
     "text": [
      "2018-07-05 17:06:05 [INFO] src.evaluation.evaluator: Training DAGMM_LSTMAutoEncoder_withWindow on Syn Extreme Outliers (mis=0.675) with seed 2421901651\n"
     ]
    },
    {
     "name": "stderr",
     "output_type": "stream",
     "text": [
      "\r",
      "                                                                               \r",
      "\r",
      " 71% (5 of 7) |##################        | Elapsed Time: 0:03:51 ETA:   0:01:00"
     ]
    },
    {
     "name": "stdout",
     "output_type": "stream",
     "text": [
      "2018-07-05 17:06:35 [INFO] src.evaluation.evaluator: Training Recurrent EBM on Syn Extreme Outliers (mis=0.675) with seed 2421901651\n"
     ]
    },
    {
     "name": "stderr",
     "output_type": "stream",
     "text": [
      "100%|██████████| 15/15 [00:05<00:00,  2.52it/s]\n",
      " 85% (6 of 7) |######################    | Elapsed Time: 0:03:59 ETA:   0:00:08"
     ]
    },
    {
     "name": "stdout",
     "output_type": "stream",
     "text": [
      "2018-07-05 17:06:43 [INFO] src.evaluation.evaluator: Training Donut on Syn Extreme Outliers (mis=0.675) with seed 2421901651\n"
     ]
    },
    {
     "name": "stderr",
     "output_type": "stream",
     "text": [
      "100%|██████████| 1/1 [00:01<00:00,  1.90s/it]\n",
      "100% (7 of 7) |##########################| Elapsed Time: 0:04:04 Time:  0:04:04\n",
      "N/A% (0 of 7) |                          | Elapsed Time: 0:00:00 ETA:  --:--:--"
     ]
    },
    {
     "name": "stdout",
     "output_type": "stream",
     "text": [
      "2018-07-05 17:06:48 [INFO] src.evaluation.evaluator: Training LSTM-AD on Syn Extreme Outliers (mis=0.9) with seed 2421901651\n"
     ]
    },
    {
     "name": "stderr",
     "output_type": "stream",
     "text": [
      "\r",
      "                                                                               \r",
      "\r",
      " 14% (1 of 7) |###                       | Elapsed Time: 0:01:40 ETA:   0:10:03"
     ]
    },
    {
     "name": "stdout",
     "output_type": "stream",
     "text": [
      "2018-07-05 17:08:28 [INFO] src.evaluation.evaluator: Training LSTMED on Syn Extreme Outliers (mis=0.9) with seed 2421901651\n"
     ]
    },
    {
     "name": "stderr",
     "output_type": "stream",
     "text": [
      "\r",
      "                                                                               \r",
      "\r",
      " 28% (2 of 7) |#######                   | Elapsed Time: 0:03:17 ETA:   0:08:05"
     ]
    },
    {
     "name": "stdout",
     "output_type": "stream",
     "text": [
      "2018-07-05 17:10:05 [INFO] src.evaluation.evaluator: Training DAGMM_NNAutoEncoder_withoutWindow on Syn Extreme Outliers (mis=0.9) with seed 2421901651\n",
      "2018-07-05 17:10:05 [WARNING] root: Determinant was negative! Clipping Eigenvalues to 0+epsilon from -3.7124223695172986e-08\n",
      "2018-07-05 17:10:05 [WARNING] root: Determinant was negative! Clipping Eigenvalues to 0+epsilon from -7.499134113686523e-08\n",
      "2018-07-05 17:10:05 [WARNING] root: Determinant was negative! Clipping Eigenvalues to 0+epsilon from -5.213439280282728e-08\n",
      "2018-07-05 17:10:05 [WARNING] root: Determinant was negative! Clipping Eigenvalues to 0+epsilon from -3.841536866389106e-08\n",
      "2018-07-05 17:10:05 [WARNING] root: Determinant was negative! Clipping Eigenvalues to 0+epsilon from -4.981858978680975e-07\n",
      "2018-07-05 17:10:05 [WARNING] root: Determinant was negative! Clipping Eigenvalues to 0+epsilon from -4.809418641116281e-08\n",
      "2018-07-05 17:10:05 [WARNING] root: Determinant was negative! Clipping Eigenvalues to 0+epsilon from -9.726631056139468e-09\n",
      "2018-07-05 17:10:05 [WARNING] root: Determinant was negative! Clipping Eigenvalues to 0+epsilon from -5.6527184710830625e-08\n",
      "2018-07-05 17:10:05 [WARNING] root: Determinant was negative! Clipping Eigenvalues to 0+epsilon from -7.85620013488142e-09\n",
      "2018-07-05 17:10:05 [WARNING] root: Determinant was negative! Clipping Eigenvalues to 0+epsilon from -1.9304384579754696e-07\n",
      "2018-07-05 17:10:05 [WARNING] root: Determinant was negative! Clipping Eigenvalues to 0+epsilon from -1.8176146454607078e-07\n",
      "2018-07-05 17:10:05 [WARNING] root: Determinant was negative! Clipping Eigenvalues to 0+epsilon from -3.281271574451239e-07\n",
      "2018-07-05 17:10:05 [WARNING] root: Determinant was negative! Clipping Eigenvalues to 0+epsilon from -1.511460823166999e-07\n",
      "2018-07-05 17:10:05 [WARNING] root: Determinant was negative! Clipping Eigenvalues to 0+epsilon from -4.3914671010725215e-08\n",
      "2018-07-05 17:10:05 [WARNING] root: Determinant was negative! Clipping Eigenvalues to 0+epsilon from -4.380780467272416e-07\n",
      "2018-07-05 17:10:05 [WARNING] root: Determinant was negative! Clipping Eigenvalues to 0+epsilon from -1.9831043118756497e-07\n",
      "2018-07-05 17:10:05 [WARNING] root: Determinant was negative! Clipping Eigenvalues to 0+epsilon from -1.6714122352823324e-07\n",
      "2018-07-05 17:10:05 [WARNING] root: Determinant was negative! Clipping Eigenvalues to 0+epsilon from -1.3319410641088325e-07\n",
      "2018-07-05 17:10:05 [WARNING] root: Determinant was negative! Clipping Eigenvalues to 0+epsilon from -3.425965644510143e-07\n",
      "2018-07-05 17:10:05 [WARNING] root: Determinant was negative! Clipping Eigenvalues to 0+epsilon from -3.0123513283797365e-07\n",
      "2018-07-05 17:10:05 [WARNING] root: Determinant was negative! Clipping Eigenvalues to 0+epsilon from -7.919252453802983e-08\n",
      "2018-07-05 17:10:05 [WARNING] root: Determinant was negative! Clipping Eigenvalues to 0+epsilon from -1.73296953676072e-07\n",
      "2018-07-05 17:10:05 [WARNING] root: Determinant was negative! Clipping Eigenvalues to 0+epsilon from -1.2712430219607995e-08\n",
      "2018-07-05 17:10:05 [WARNING] root: Determinant was negative! Clipping Eigenvalues to 0+epsilon from -2.33641106461846e-09\n",
      "2018-07-05 17:10:05 [WARNING] root: Determinant was negative! Clipping Eigenvalues to 0+epsilon from -1.1784450748564268e-07\n",
      "2018-07-05 17:10:05 [WARNING] root: Determinant was negative! Clipping Eigenvalues to 0+epsilon from -3.31857101798505e-08\n",
      "2018-07-05 17:10:05 [WARNING] root: Determinant was negative! Clipping Eigenvalues to 0+epsilon from -3.2135556438106505e-08\n",
      "2018-07-05 17:10:05 [WARNING] root: Determinant was negative! Clipping Eigenvalues to 0+epsilon from -8.446369292869349e-08\n",
      "2018-07-05 17:10:05 [WARNING] root: Determinant was negative! Clipping Eigenvalues to 0+epsilon from -7.955882352916888e-08\n",
      "2018-07-05 17:10:05 [WARNING] root: Determinant was negative! Clipping Eigenvalues to 0+epsilon from -1.0565206309820496e-07\n",
      "2018-07-05 17:10:05 [WARNING] root: Determinant was negative! Clipping Eigenvalues to 0+epsilon from -1.648101743967345e-07\n",
      "2018-07-05 17:10:05 [WARNING] root: Determinant was negative! Clipping Eigenvalues to 0+epsilon from -1.9564602382615703e-07\n",
      "2018-07-05 17:10:05 [WARNING] root: Determinant was negative! Clipping Eigenvalues to 0+epsilon from -4.622481597493788e-08\n",
      "2018-07-05 17:10:05 [WARNING] root: Determinant was negative! Clipping Eigenvalues to 0+epsilon from -5.782647249930051e-08\n",
      "2018-07-05 17:10:05 [WARNING] root: Determinant was negative! Clipping Eigenvalues to 0+epsilon from -2.4774893248036278e-08\n",
      "2018-07-05 17:10:05 [WARNING] root: Determinant was negative! Clipping Eigenvalues to 0+epsilon from -6.698559218420996e-08\n",
      "2018-07-05 17:10:05 [WARNING] root: Determinant was negative! Clipping Eigenvalues to 0+epsilon from -2.0409056844528095e-07\n",
      "2018-07-05 17:10:05 [WARNING] root: Determinant was negative! Clipping Eigenvalues to 0+epsilon from -2.6702812760959205e-07\n",
      "2018-07-05 17:10:05 [WARNING] root: Determinant was negative! Clipping Eigenvalues to 0+epsilon from -6.944991923774069e-07\n",
      "2018-07-05 17:10:06 [WARNING] root: Determinant was negative! Clipping Eigenvalues to 0+epsilon from -1.0723885424113178e-07\n",
      "2018-07-05 17:10:06 [WARNING] root: Determinant was negative! Clipping Eigenvalues to 0+epsilon from -1.0804374994677346e-07\n",
      "2018-07-05 17:10:06 [WARNING] root: Determinant was negative! Clipping Eigenvalues to 0+epsilon from -6.576091493570857e-08\n",
      "2018-07-05 17:10:06 [WARNING] root: Determinant was negative! Clipping Eigenvalues to 0+epsilon from -3.231804157621809e-08\n",
      "2018-07-05 17:10:06 [WARNING] root: Determinant was negative! Clipping Eigenvalues to 0+epsilon from -1.384410097671207e-07\n",
      "2018-07-05 17:10:06 [WARNING] root: Determinant was negative! Clipping Eigenvalues to 0+epsilon from -5.0384844740847257e-08\n",
      "2018-07-05 17:10:06 [WARNING] root: Determinant was negative! Clipping Eigenvalues to 0+epsilon from -1.0905493041946102e-07\n",
      "2018-07-05 17:10:06 [WARNING] root: Determinant was negative! Clipping Eigenvalues to 0+epsilon from -3.459073028011517e-08\n",
      "2018-07-05 17:10:06 [WARNING] root: Determinant was negative! Clipping Eigenvalues to 0+epsilon from -1.5489919746869418e-07\n",
      "2018-07-05 17:10:06 [WARNING] root: Determinant was negative! Clipping Eigenvalues to 0+epsilon from -1.248231029649105e-07\n",
      "2018-07-05 17:10:06 [WARNING] root: Determinant was negative! Clipping Eigenvalues to 0+epsilon from -1.2184395359327027e-07\n",
      "2018-07-05 17:10:06 [WARNING] root: Determinant was negative! Clipping Eigenvalues to 0+epsilon from -3.517068023484171e-07\n",
      "2018-07-05 17:10:06 [WARNING] root: Determinant was negative! Clipping Eigenvalues to 0+epsilon from -8.99034091617068e-07\n",
      "2018-07-05 17:10:06 [WARNING] root: Determinant was negative! Clipping Eigenvalues to 0+epsilon from -8.34960701467935e-07\n",
      "2018-07-05 17:10:06 [WARNING] root: Determinant was negative! Clipping Eigenvalues to 0+epsilon from -2.474992299994483e-07\n",
      "2018-07-05 17:10:06 [WARNING] root: Determinant was negative! Clipping Eigenvalues to 0+epsilon from -2.8596713264050777e-07\n",
      "2018-07-05 17:10:06 [WARNING] root: Determinant was negative! Clipping Eigenvalues to 0+epsilon from -4.0686393276700983e-07\n",
      "2018-07-05 17:10:06 [WARNING] root: Determinant was negative! Clipping Eigenvalues to 0+epsilon from -1.7020249742927263e-07\n",
      "2018-07-05 17:10:06 [WARNING] root: Determinant was negative! Clipping Eigenvalues to 0+epsilon from -3.234288499243121e-07\n",
      "2018-07-05 17:10:06 [WARNING] root: Determinant was negative! Clipping Eigenvalues to 0+epsilon from -4.2373383735139214e-07\n",
      "2018-07-05 17:10:06 [WARNING] root: Determinant was negative! Clipping Eigenvalues to 0+epsilon from -6.397002039193467e-08\n",
      "2018-07-05 17:10:06 [WARNING] root: Determinant was negative! Clipping Eigenvalues to 0+epsilon from -1.8576415072857344e-07\n",
      "2018-07-05 17:10:06 [WARNING] root: Determinant was negative! Clipping Eigenvalues to 0+epsilon from -1.2383178216168744e-07\n",
      "2018-07-05 17:10:06 [WARNING] root: Determinant was negative! Clipping Eigenvalues to 0+epsilon from -4.585928081723978e-07\n",
      "2018-07-05 17:10:06 [WARNING] root: Determinant was negative! Clipping Eigenvalues to 0+epsilon from -1.507869171746279e-07\n",
      "2018-07-05 17:10:06 [WARNING] root: Determinant was negative! Clipping Eigenvalues to 0+epsilon from -1.4600138342757418e-07\n"
     ]
    },
    {
     "name": "stdout",
     "output_type": "stream",
     "text": [
      "2018-07-05 17:10:06 [WARNING] root: Determinant was negative! Clipping Eigenvalues to 0+epsilon from -6.328299377855728e-07\n",
      "2018-07-05 17:10:06 [WARNING] root: Determinant was negative! Clipping Eigenvalues to 0+epsilon from -1.9313521448793836e-08\n",
      "2018-07-05 17:10:06 [WARNING] root: Determinant was negative! Clipping Eigenvalues to 0+epsilon from -1.5227247729399096e-07\n",
      "2018-07-05 17:10:06 [WARNING] root: Determinant was negative! Clipping Eigenvalues to 0+epsilon from -1.495444905685872e-07\n",
      "2018-07-05 17:10:06 [WARNING] root: Determinant was negative! Clipping Eigenvalues to 0+epsilon from -6.411594881683413e-07\n",
      "2018-07-05 17:10:06 [WARNING] root: Determinant was negative! Clipping Eigenvalues to 0+epsilon from -4.81076142477832e-07\n",
      "2018-07-05 17:10:06 [WARNING] root: Determinant was negative! Clipping Eigenvalues to 0+epsilon from -6.454751400042369e-08\n",
      "2018-07-05 17:10:06 [WARNING] root: Determinant was negative! Clipping Eigenvalues to 0+epsilon from -4.7145817916316446e-07\n",
      "2018-07-05 17:10:06 [WARNING] root: Determinant was negative! Clipping Eigenvalues to 0+epsilon from -6.678860700048972e-07\n",
      "2018-07-05 17:10:06 [WARNING] root: Determinant was negative! Clipping Eigenvalues to 0+epsilon from -1.498304413871665e-07\n",
      "2018-07-05 17:10:06 [WARNING] root: Determinant was negative! Clipping Eigenvalues to 0+epsilon from -1.5695771082846477e-07\n",
      "2018-07-05 17:10:06 [WARNING] root: Determinant was negative! Clipping Eigenvalues to 0+epsilon from -5.229808266449254e-07\n",
      "2018-07-05 17:10:06 [WARNING] root: Determinant was negative! Clipping Eigenvalues to 0+epsilon from -5.230939947864499e-08\n",
      "2018-07-05 17:10:06 [WARNING] root: Determinant was negative! Clipping Eigenvalues to 0+epsilon from -3.238483259337954e-07\n",
      "2018-07-05 17:10:06 [WARNING] root: Determinant was negative! Clipping Eigenvalues to 0+epsilon from -4.312686385787856e-08\n",
      "2018-07-05 17:10:06 [WARNING] root: Determinant was negative! Clipping Eigenvalues to 0+epsilon from -1.6402911029445022e-08\n",
      "2018-07-05 17:10:06 [WARNING] root: Determinant was negative! Clipping Eigenvalues to 0+epsilon from -5.661676709678432e-07\n",
      "2018-07-05 17:10:06 [WARNING] root: Determinant was negative! Clipping Eigenvalues to 0+epsilon from -5.4990405118360286e-08\n",
      "2018-07-05 17:10:06 [WARNING] root: Determinant was negative! Clipping Eigenvalues to 0+epsilon from -4.1121190008652775e-08\n",
      "2018-07-05 17:10:06 [WARNING] root: Determinant was negative! Clipping Eigenvalues to 0+epsilon from -5.628512411703923e-08\n",
      "2018-07-05 17:10:06 [WARNING] root: Determinant was negative! Clipping Eigenvalues to 0+epsilon from -2.903233564666152e-07\n",
      "2018-07-05 17:10:06 [WARNING] root: Determinant was negative! Clipping Eigenvalues to 0+epsilon from -2.118707875808923e-08\n",
      "2018-07-05 17:10:06 [WARNING] root: Determinant was negative! Clipping Eigenvalues to 0+epsilon from -6.660930296220613e-08\n",
      "2018-07-05 17:10:06 [WARNING] root: Determinant was negative! Clipping Eigenvalues to 0+epsilon from -9.23370251371125e-08\n",
      "2018-07-05 17:10:06 [WARNING] root: Determinant was negative! Clipping Eigenvalues to 0+epsilon from -5.413306780610583e-07\n",
      "2018-07-05 17:10:06 [WARNING] root: Determinant was negative! Clipping Eigenvalues to 0+epsilon from -3.4616186894709244e-07\n",
      "2018-07-05 17:10:06 [WARNING] root: Determinant was negative! Clipping Eigenvalues to 0+epsilon from -1.606413349009017e-07\n",
      "2018-07-05 17:10:06 [WARNING] root: Determinant was negative! Clipping Eigenvalues to 0+epsilon from -2.5640403578108817e-07\n",
      "2018-07-05 17:10:06 [WARNING] root: Determinant was negative! Clipping Eigenvalues to 0+epsilon from -2.882297565065528e-07\n",
      "2018-07-05 17:10:06 [WARNING] root: Determinant was negative! Clipping Eigenvalues to 0+epsilon from -6.958224503250676e-07\n",
      "2018-07-05 17:10:06 [WARNING] root: Determinant was negative! Clipping Eigenvalues to 0+epsilon from -8.496831327420296e-08\n",
      "2018-07-05 17:10:06 [WARNING] root: Determinant was negative! Clipping Eigenvalues to 0+epsilon from -3.054900332699617e-07\n",
      "2018-07-05 17:10:06 [WARNING] root: Determinant was negative! Clipping Eigenvalues to 0+epsilon from -6.685775701953389e-07\n",
      "2018-07-05 17:10:06 [WARNING] root: Determinant was negative! Clipping Eigenvalues to 0+epsilon from -5.569841050601099e-07\n",
      "2018-07-05 17:10:06 [WARNING] root: Determinant was negative! Clipping Eigenvalues to 0+epsilon from -1.404453229270075e-07\n",
      "2018-07-05 17:10:06 [WARNING] root: Determinant was negative! Clipping Eigenvalues to 0+epsilon from -7.120534917248733e-08\n",
      "2018-07-05 17:10:06 [WARNING] root: Determinant was negative! Clipping Eigenvalues to 0+epsilon from -1.6037870409491006e-07\n",
      "2018-07-05 17:10:06 [WARNING] root: Determinant was negative! Clipping Eigenvalues to 0+epsilon from -1.472697306326154e-07\n",
      "2018-07-05 17:10:06 [WARNING] root: Determinant was negative! Clipping Eigenvalues to 0+epsilon from -5.3091227414370223e-08\n",
      "2018-07-05 17:10:06 [WARNING] root: Determinant was negative! Clipping Eigenvalues to 0+epsilon from -2.430305130474153e-07\n",
      "2018-07-05 17:10:06 [WARNING] root: Determinant was negative! Clipping Eigenvalues to 0+epsilon from -4.1151224650093354e-08\n",
      "2018-07-05 17:10:06 [WARNING] root: Determinant was negative! Clipping Eigenvalues to 0+epsilon from -2.271110446372404e-07\n",
      "2018-07-05 17:10:06 [WARNING] root: Determinant was negative! Clipping Eigenvalues to 0+epsilon from -3.394420957647526e-07\n",
      "2018-07-05 17:10:06 [WARNING] root: Determinant was negative! Clipping Eigenvalues to 0+epsilon from -1.2358931655853667e-07\n",
      "2018-07-05 17:10:06 [WARNING] root: Determinant was negative! Clipping Eigenvalues to 0+epsilon from -5.4721351006037366e-08\n",
      "2018-07-05 17:10:06 [WARNING] root: Determinant was negative! Clipping Eigenvalues to 0+epsilon from -2.1538813399502033e-08\n",
      "2018-07-05 17:10:06 [WARNING] root: Determinant was negative! Clipping Eigenvalues to 0+epsilon from -7.260743473125331e-07\n",
      "2018-07-05 17:10:06 [WARNING] root: Determinant was negative! Clipping Eigenvalues to 0+epsilon from -1.766099728683912e-07\n",
      "2018-07-05 17:10:06 [WARNING] root: Determinant was negative! Clipping Eigenvalues to 0+epsilon from -2.3196918164103408e-07\n",
      "2018-07-05 17:10:06 [ERROR] src.evaluation.evaluator: An exception occurred while training DAGMM_NNAutoEncoder_withoutWindow on Syn Extreme Outliers (mis=0.9): Lapack Error getrf : U(3,3) is 0, U is singular at /pytorch/aten/src/TH/generic/THTensorLapack.c:514\n",
      "2018-07-05 17:10:06 [ERROR] src.evaluation.evaluator: Traceback (most recent call last):\n",
      "  File \"../src/evaluation/evaluator.py\", line 122, in evaluate\n",
      "    det.fit(X_train.copy(), y_train.copy())\n",
      "  File \"../src/algorithms/dagmm.py\", line 203, in fit\n",
      "    self.dagmm_step(input_data.float())\n",
      "  File \"../src/algorithms/dagmm.py\", line 177, in dagmm_step\n",
      "    self.lambda_cov_diag)\n",
      "  File \"../src/algorithms/dagmm.py\", line 144, in loss_function\n",
      "    sample_energy, cov_diag = self.compute_energy(z, phi, mu, cov)\n",
      "  File \"../src/algorithms/dagmm.py\", line 113, in compute_energy\n",
      "    cov_inverse.append(torch.inverse(cov_k).unsqueeze(0))\n",
      "RuntimeError: Lapack Error getrf : U(3,3) is 0, U is singular at /pytorch/aten/src/TH/generic/THTensorLapack.c:514\n",
      "\n"
     ]
    },
    {
     "name": "stderr",
     "output_type": "stream",
     "text": [
      "\r",
      "                                                                               \r",
      "\r",
      " 42% (3 of 7) |###########               | Elapsed Time: 0:03:18 ETA:   0:03:15"
     ]
    },
    {
     "name": "stdout",
     "output_type": "stream",
     "text": [
      "2018-07-05 17:10:06 [INFO] src.evaluation.evaluator: Training DAGMM_NNAutoEncoder_withWindow on Syn Extreme Outliers (mis=0.9) with seed 2421901651\n"
     ]
    },
    {
     "name": "stderr",
     "output_type": "stream",
     "text": [
      "\r",
      "                                                                               \r",
      "\r",
      " 57% (4 of 7) |##############            | Elapsed Time: 0:03:22 ETA:   0:00:11"
     ]
    },
    {
     "name": "stdout",
     "output_type": "stream",
     "text": [
      "2018-07-05 17:10:10 [INFO] src.evaluation.evaluator: Training DAGMM_LSTMAutoEncoder_withWindow on Syn Extreme Outliers (mis=0.9) with seed 2421901651\n"
     ]
    },
    {
     "name": "stderr",
     "output_type": "stream",
     "text": [
      "\r",
      "                                                                               \r",
      "\r",
      " 71% (5 of 7) |##################        | Elapsed Time: 0:03:52 ETA:   0:01:00"
     ]
    },
    {
     "name": "stdout",
     "output_type": "stream",
     "text": [
      "2018-07-05 17:10:40 [INFO] src.evaluation.evaluator: Training Recurrent EBM on Syn Extreme Outliers (mis=0.9) with seed 2421901651\n"
     ]
    },
    {
     "name": "stderr",
     "output_type": "stream",
     "text": [
      "100%|██████████| 15/15 [00:05<00:00,  2.52it/s]\n",
      " 85% (6 of 7) |######################    | Elapsed Time: 0:04:00 ETA:   0:00:08"
     ]
    },
    {
     "name": "stdout",
     "output_type": "stream",
     "text": [
      "2018-07-05 17:10:48 [INFO] src.evaluation.evaluator: Training Donut on Syn Extreme Outliers (mis=0.9) with seed 2421901651\n"
     ]
    },
    {
     "name": "stderr",
     "output_type": "stream",
     "text": [
      "100%|██████████| 1/1 [00:02<00:00,  2.05s/it]\n",
      "100% (7 of 7) |##########################| Elapsed Time: 0:04:05 Time:  0:04:05\n",
      "100% (5 of 5) |##########################| Elapsed Time: 0:20:56 Time:  0:20:56\n"
     ]
    },
    {
     "name": "stdout",
     "output_type": "stream",
     "text": [
      "2018-07-05 17:10:55 [INFO] src.evaluation.evaluator: Store evaluator results at /home/thomas/work/notebooks/data/missing-run-0-2421901651-2018-07-05-171055.pkl\n"
     ]
    },
    {
     "name": "stderr",
     "output_type": "stream",
     "text": [
      "N/A% (0 of 7) |                          | Elapsed Time: 0:00:00 ETA:  --:--:--"
     ]
    },
    {
     "name": "stdout",
     "output_type": "stream",
     "text": [
      "2018-07-05 17:10:55 [INFO] src.evaluation.evaluator: Training LSTM-AD on Syn Extreme Outliers (mis=0.0) with seed 3003640154\n"
     ]
    },
    {
     "name": "stderr",
     "output_type": "stream",
     "text": [
      "\r",
      "                                                                               \r",
      "\r",
      " 14% (1 of 7) |###                       | Elapsed Time: 0:01:40 ETA:   0:10:03"
     ]
    },
    {
     "name": "stdout",
     "output_type": "stream",
     "text": [
      "2018-07-05 17:12:36 [INFO] src.evaluation.evaluator: Training LSTMED on Syn Extreme Outliers (mis=0.0) with seed 3003640154\n"
     ]
    },
    {
     "name": "stderr",
     "output_type": "stream",
     "text": [
      "\r",
      "                                                                               \r",
      "\r",
      " 28% (2 of 7) |#######                   | Elapsed Time: 0:03:17 ETA:   0:08:04"
     ]
    },
    {
     "name": "stdout",
     "output_type": "stream",
     "text": [
      "2018-07-05 17:14:13 [INFO] src.evaluation.evaluator: Training DAGMM_NNAutoEncoder_withoutWindow on Syn Extreme Outliers (mis=0.0) with seed 3003640154\n",
      "2018-07-05 17:14:14 [WARNING] root: Determinant was negative! Clipping Eigenvalues to 0+epsilon from -4.7947645853696486e-09\n",
      "2018-07-05 17:14:14 [WARNING] root: Determinant was negative! Clipping Eigenvalues to 0+epsilon from -8.642152238280687e-08\n",
      "2018-07-05 17:14:14 [WARNING] root: Determinant was negative! Clipping Eigenvalues to 0+epsilon from -3.012820855019527e-07\n",
      "2018-07-05 17:14:14 [WARNING] root: Determinant was negative! Clipping Eigenvalues to 0+epsilon from -8.592363798243241e-08\n",
      "2018-07-05 17:14:14 [WARNING] root: Determinant was negative! Clipping Eigenvalues to 0+epsilon from -7.320095196661214e-09\n",
      "2018-07-05 17:14:15 [WARNING] root: Determinant was negative! Clipping Eigenvalues to 0+epsilon from -2.4439182766400336e-07\n",
      "2018-07-05 17:14:15 [WARNING] root: Determinant was negative! Clipping Eigenvalues to 0+epsilon from -9.084902830025499e-10\n",
      "2018-07-05 17:14:15 [WARNING] root: Determinant was negative! Clipping Eigenvalues to 0+epsilon from -8.710245538168238e-07\n"
     ]
    },
    {
     "name": "stderr",
     "output_type": "stream",
     "text": [
      "\r",
      "                                                                               \r",
      "\r",
      " 42% (3 of 7) |###########               | Elapsed Time: 0:03:21 ETA:   0:00:15"
     ]
    },
    {
     "name": "stdout",
     "output_type": "stream",
     "text": [
      "2018-07-05 17:14:17 [INFO] src.evaluation.evaluator: Training DAGMM_NNAutoEncoder_withWindow on Syn Extreme Outliers (mis=0.0) with seed 3003640154\n"
     ]
    },
    {
     "name": "stderr",
     "output_type": "stream",
     "text": [
      "\r",
      "                                                                               \r",
      "\r",
      " 57% (4 of 7) |##############            | Elapsed Time: 0:03:25 ETA:   0:00:11"
     ]
    },
    {
     "name": "stdout",
     "output_type": "stream",
     "text": [
      "2018-07-05 17:14:21 [INFO] src.evaluation.evaluator: Training DAGMM_LSTMAutoEncoder_withWindow on Syn Extreme Outliers (mis=0.0) with seed 3003640154\n"
     ]
    },
    {
     "name": "stderr",
     "output_type": "stream",
     "text": [
      "\r",
      "                                                                               \r",
      "\r",
      " 71% (5 of 7) |##################        | Elapsed Time: 0:03:55 ETA:   0:00:59"
     ]
    },
    {
     "name": "stdout",
     "output_type": "stream",
     "text": [
      "2018-07-05 17:14:51 [INFO] src.evaluation.evaluator: Training Recurrent EBM on Syn Extreme Outliers (mis=0.0) with seed 3003640154\n"
     ]
    },
    {
     "name": "stderr",
     "output_type": "stream",
     "text": [
      "100%|██████████| 15/15 [00:05<00:00,  2.52it/s]\n",
      " 85% (6 of 7) |######################    | Elapsed Time: 0:04:03 ETA:   0:00:08"
     ]
    },
    {
     "name": "stdout",
     "output_type": "stream",
     "text": [
      "2018-07-05 17:14:59 [INFO] src.evaluation.evaluator: Training Donut on Syn Extreme Outliers (mis=0.0) with seed 3003640154\n"
     ]
    },
    {
     "name": "stderr",
     "output_type": "stream",
     "text": [
      "\r",
      "  0%|          | 0/1 [00:00<?, ?it/s]"
     ]
    },
    {
     "name": "stdout",
     "output_type": "stream",
     "text": [
      "INFO:tensorflow:Restoring parameters from /tmp/tmporuaq0ve/variables.dat-1100\n",
      "2018-07-05 17:15:19 [INFO] tensorflow: Restoring parameters from /tmp/tmporuaq0ve/variables.dat-1100\n"
     ]
    },
    {
     "name": "stderr",
     "output_type": "stream",
     "text": [
      "100%|██████████| 1/1 [00:19<00:00, 19.42s/it]\n",
      "100% (7 of 7) |##########################| Elapsed Time: 0:04:25 Time:  0:04:25\n",
      "N/A% (0 of 7) |                          | Elapsed Time: 0:00:00 ETA:  --:--:--"
     ]
    },
    {
     "name": "stdout",
     "output_type": "stream",
     "text": [
      "2018-07-05 17:15:21 [INFO] src.evaluation.evaluator: Training LSTM-AD on Syn Extreme Outliers (mis=0.225) with seed 3003640154\n"
     ]
    },
    {
     "name": "stderr",
     "output_type": "stream",
     "text": [
      "\r",
      "                                                                               \r",
      "\r",
      " 14% (1 of 7) |###                       | Elapsed Time: 0:01:41 ETA:   0:10:06"
     ]
    },
    {
     "name": "stdout",
     "output_type": "stream",
     "text": [
      "2018-07-05 17:17:02 [INFO] src.evaluation.evaluator: Training LSTMED on Syn Extreme Outliers (mis=0.225) with seed 3003640154\n"
     ]
    },
    {
     "name": "stderr",
     "output_type": "stream",
     "text": [
      "\r",
      "                                                                               \r",
      "\r",
      " 28% (2 of 7) |#######                   | Elapsed Time: 0:03:18 ETA:   0:08:05"
     ]
    },
    {
     "name": "stdout",
     "output_type": "stream",
     "text": [
      "2018-07-05 17:18:39 [INFO] src.evaluation.evaluator: Training DAGMM_NNAutoEncoder_withoutWindow on Syn Extreme Outliers (mis=0.225) with seed 3003640154\n",
      "2018-07-05 17:18:39 [WARNING] root: Determinant was negative! Clipping Eigenvalues to 0+epsilon from -6.737348030583235e-07\n",
      "2018-07-05 17:18:39 [WARNING] root: Determinant was negative! Clipping Eigenvalues to 0+epsilon from -1.0801122840575772e-07\n",
      "2018-07-05 17:18:39 [WARNING] root: Determinant was negative! Clipping Eigenvalues to 0+epsilon from -1.9906613601960998e-07\n",
      "2018-07-05 17:18:39 [WARNING] root: Determinant was negative! Clipping Eigenvalues to 0+epsilon from -1.793203381339481e-07\n",
      "2018-07-05 17:18:39 [ERROR] src.evaluation.evaluator: An exception occurred while training DAGMM_NNAutoEncoder_withoutWindow on Syn Extreme Outliers (mis=0.225): Lapack Error getrf : U(3,3) is 0, U is singular at /pytorch/aten/src/TH/generic/THTensorLapack.c:514\n",
      "2018-07-05 17:18:39 [ERROR] src.evaluation.evaluator: Traceback (most recent call last):\n",
      "  File \"../src/evaluation/evaluator.py\", line 122, in evaluate\n",
      "    det.fit(X_train.copy(), y_train.copy())\n",
      "  File \"../src/algorithms/dagmm.py\", line 203, in fit\n",
      "    self.dagmm_step(input_data.float())\n",
      "  File \"../src/algorithms/dagmm.py\", line 177, in dagmm_step\n",
      "    self.lambda_cov_diag)\n",
      "  File \"../src/algorithms/dagmm.py\", line 144, in loss_function\n",
      "    sample_energy, cov_diag = self.compute_energy(z, phi, mu, cov)\n",
      "  File \"../src/algorithms/dagmm.py\", line 113, in compute_energy\n",
      "    cov_inverse.append(torch.inverse(cov_k).unsqueeze(0))\n",
      "RuntimeError: Lapack Error getrf : U(3,3) is 0, U is singular at /pytorch/aten/src/TH/generic/THTensorLapack.c:514\n",
      "\n"
     ]
    },
    {
     "name": "stderr",
     "output_type": "stream",
     "text": [
      "\r",
      "                                                                               \r",
      "\r",
      " 42% (3 of 7) |###########               | Elapsed Time: 0:03:18 ETA:   0:06:28"
     ]
    },
    {
     "name": "stdout",
     "output_type": "stream",
     "text": [
      "2018-07-05 17:18:39 [INFO] src.evaluation.evaluator: Training DAGMM_NNAutoEncoder_withWindow on Syn Extreme Outliers (mis=0.225) with seed 3003640154\n"
     ]
    },
    {
     "name": "stderr",
     "output_type": "stream",
     "text": [
      "\r",
      "                                                                               \r",
      "\r",
      " 57% (4 of 7) |##############            | Elapsed Time: 0:03:22 ETA:   0:00:06"
     ]
    },
    {
     "name": "stdout",
     "output_type": "stream",
     "text": [
      "2018-07-05 17:18:43 [INFO] src.evaluation.evaluator: Training DAGMM_LSTMAutoEncoder_withWindow on Syn Extreme Outliers (mis=0.225) with seed 3003640154\n"
     ]
    },
    {
     "name": "stderr",
     "output_type": "stream",
     "text": [
      "\r",
      "                                                                               \r",
      "\r",
      " 71% (5 of 7) |##################        | Elapsed Time: 0:03:52 ETA:   0:01:00"
     ]
    },
    {
     "name": "stdout",
     "output_type": "stream",
     "text": [
      "2018-07-05 17:19:13 [INFO] src.evaluation.evaluator: Training Recurrent EBM on Syn Extreme Outliers (mis=0.225) with seed 3003640154\n"
     ]
    },
    {
     "name": "stderr",
     "output_type": "stream",
     "text": [
      "100%|██████████| 15/15 [00:05<00:00,  2.54it/s]\n",
      " 85% (6 of 7) |######################    | Elapsed Time: 0:04:00 ETA:   0:00:08"
     ]
    },
    {
     "name": "stdout",
     "output_type": "stream",
     "text": [
      "2018-07-05 17:19:22 [INFO] src.evaluation.evaluator: Training Donut on Syn Extreme Outliers (mis=0.225) with seed 3003640154\n"
     ]
    },
    {
     "name": "stderr",
     "output_type": "stream",
     "text": [
      "100%|██████████| 1/1 [00:02<00:00,  2.36s/it]\n",
      "100% (7 of 7) |##########################| Elapsed Time: 0:04:05 Time:  0:04:05\n",
      "N/A% (0 of 7) |                          | Elapsed Time: 0:00:00 ETA:  --:--:--"
     ]
    },
    {
     "name": "stdout",
     "output_type": "stream",
     "text": [
      "2018-07-05 17:19:27 [INFO] src.evaluation.evaluator: Training LSTM-AD on Syn Extreme Outliers (mis=0.45) with seed 3003640154\n"
     ]
    },
    {
     "name": "stderr",
     "output_type": "stream",
     "text": [
      "\r",
      "                                                                               \r",
      "\r",
      " 14% (1 of 7) |###                       | Elapsed Time: 0:01:40 ETA:   0:10:04"
     ]
    },
    {
     "name": "stdout",
     "output_type": "stream",
     "text": [
      "2018-07-05 17:21:08 [INFO] src.evaluation.evaluator: Training LSTMED on Syn Extreme Outliers (mis=0.45) with seed 3003640154\n"
     ]
    },
    {
     "name": "stderr",
     "output_type": "stream",
     "text": [
      "\r",
      "                                                                               \r",
      "\r",
      " 28% (2 of 7) |#######                   | Elapsed Time: 0:03:17 ETA:   0:08:03"
     ]
    },
    {
     "name": "stdout",
     "output_type": "stream",
     "text": [
      "2018-07-05 17:22:45 [INFO] src.evaluation.evaluator: Training DAGMM_NNAutoEncoder_withoutWindow on Syn Extreme Outliers (mis=0.45) with seed 3003640154\n",
      "2018-07-05 17:22:45 [WARNING] root: Determinant was negative! Clipping Eigenvalues to 0+epsilon from -9.953275537100126e-08\n",
      "2018-07-05 17:22:45 [WARNING] root: Determinant was negative! Clipping Eigenvalues to 0+epsilon from -2.0760244012762996e-07\n",
      "2018-07-05 17:22:45 [WARNING] root: Determinant was negative! Clipping Eigenvalues to 0+epsilon from -1.1587274428848104e-07\n",
      "2018-07-05 17:22:45 [WARNING] root: Determinant was negative! Clipping Eigenvalues to 0+epsilon from -1.997094898342766e-07\n",
      "2018-07-05 17:22:45 [WARNING] root: Determinant was negative! Clipping Eigenvalues to 0+epsilon from -1.3114589592078119e-07\n",
      "2018-07-05 17:22:45 [ERROR] src.evaluation.evaluator: An exception occurred while training DAGMM_NNAutoEncoder_withoutWindow on Syn Extreme Outliers (mis=0.45): Lapack Error getrf : U(3,3) is 0, U is singular at /pytorch/aten/src/TH/generic/THTensorLapack.c:514\n",
      "2018-07-05 17:22:45 [ERROR] src.evaluation.evaluator: Traceback (most recent call last):\n",
      "  File \"../src/evaluation/evaluator.py\", line 122, in evaluate\n",
      "    det.fit(X_train.copy(), y_train.copy())\n",
      "  File \"../src/algorithms/dagmm.py\", line 203, in fit\n",
      "    self.dagmm_step(input_data.float())\n",
      "  File \"../src/algorithms/dagmm.py\", line 177, in dagmm_step\n",
      "    self.lambda_cov_diag)\n",
      "  File \"../src/algorithms/dagmm.py\", line 144, in loss_function\n",
      "    sample_energy, cov_diag = self.compute_energy(z, phi, mu, cov)\n",
      "  File \"../src/algorithms/dagmm.py\", line 113, in compute_energy\n",
      "    cov_inverse.append(torch.inverse(cov_k).unsqueeze(0))\n",
      "RuntimeError: Lapack Error getrf : U(3,3) is 0, U is singular at /pytorch/aten/src/TH/generic/THTensorLapack.c:514\n",
      "\n"
     ]
    },
    {
     "name": "stderr",
     "output_type": "stream",
     "text": [
      "\r",
      "                                                                               \r",
      "\r",
      " 42% (3 of 7) |###########               | Elapsed Time: 0:03:17 ETA:   0:06:26"
     ]
    },
    {
     "name": "stdout",
     "output_type": "stream",
     "text": [
      "2018-07-05 17:22:45 [INFO] src.evaluation.evaluator: Training DAGMM_NNAutoEncoder_withWindow on Syn Extreme Outliers (mis=0.45) with seed 3003640154\n"
     ]
    },
    {
     "name": "stderr",
     "output_type": "stream",
     "text": [
      "\r",
      "                                                                               \r",
      "\r",
      " 57% (4 of 7) |##############            | Elapsed Time: 0:03:21 ETA:   0:00:06"
     ]
    },
    {
     "name": "stdout",
     "output_type": "stream",
     "text": [
      "2018-07-05 17:22:49 [INFO] src.evaluation.evaluator: Training DAGMM_LSTMAutoEncoder_withWindow on Syn Extreme Outliers (mis=0.45) with seed 3003640154\n"
     ]
    },
    {
     "name": "stderr",
     "output_type": "stream",
     "text": [
      "\r",
      "                                                                               \r",
      "\r",
      " 71% (5 of 7) |##################        | Elapsed Time: 0:03:51 ETA:   0:01:00"
     ]
    },
    {
     "name": "stdout",
     "output_type": "stream",
     "text": [
      "2018-07-05 17:23:19 [INFO] src.evaluation.evaluator: Training Recurrent EBM on Syn Extreme Outliers (mis=0.45) with seed 3003640154\n"
     ]
    },
    {
     "name": "stderr",
     "output_type": "stream",
     "text": [
      "100%|██████████| 15/15 [00:05<00:00,  2.52it/s]\n",
      " 85% (6 of 7) |######################    | Elapsed Time: 0:04:00 ETA:   0:00:08"
     ]
    },
    {
     "name": "stdout",
     "output_type": "stream",
     "text": [
      "2018-07-05 17:23:27 [INFO] src.evaluation.evaluator: Training Donut on Syn Extreme Outliers (mis=0.45) with seed 3003640154\n"
     ]
    },
    {
     "name": "stderr",
     "output_type": "stream",
     "text": [
      "100%|██████████| 1/1 [00:02<00:00,  2.52s/it]\n",
      "100% (7 of 7) |##########################| Elapsed Time: 0:04:05 Time:  0:04:05\n",
      "N/A% (0 of 7) |                          | Elapsed Time: 0:00:00 ETA:  --:--:--"
     ]
    },
    {
     "name": "stdout",
     "output_type": "stream",
     "text": [
      "2018-07-05 17:23:32 [INFO] src.evaluation.evaluator: Training LSTM-AD on Syn Extreme Outliers (mis=0.675) with seed 3003640154\n"
     ]
    },
    {
     "name": "stderr",
     "output_type": "stream",
     "text": [
      "\r",
      "                                                                               \r",
      "\r",
      " 14% (1 of 7) |###                       | Elapsed Time: 0:01:40 ETA:   0:10:05"
     ]
    },
    {
     "name": "stdout",
     "output_type": "stream",
     "text": [
      "2018-07-05 17:25:13 [INFO] src.evaluation.evaluator: Training LSTMED on Syn Extreme Outliers (mis=0.675) with seed 3003640154\n"
     ]
    },
    {
     "name": "stderr",
     "output_type": "stream",
     "text": [
      "\r",
      "                                                                               \r",
      "\r",
      " 28% (2 of 7) |#######                   | Elapsed Time: 0:03:17 ETA:   0:08:03"
     ]
    },
    {
     "name": "stdout",
     "output_type": "stream",
     "text": [
      "2018-07-05 17:26:50 [INFO] src.evaluation.evaluator: Training DAGMM_NNAutoEncoder_withoutWindow on Syn Extreme Outliers (mis=0.675) with seed 3003640154\n",
      "2018-07-05 17:26:50 [WARNING] root: Determinant was negative! Clipping Eigenvalues to 0+epsilon from -4.148153323058068e-07\n",
      "2018-07-05 17:26:50 [WARNING] root: Determinant was negative! Clipping Eigenvalues to 0+epsilon from -5.242830525276077e-07\n",
      "2018-07-05 17:26:50 [WARNING] root: Determinant was negative! Clipping Eigenvalues to 0+epsilon from -4.169447365143242e-08\n",
      "2018-07-05 17:26:50 [WARNING] root: Determinant was negative! Clipping Eigenvalues to 0+epsilon from -1.1193125004638205e-07\n",
      "2018-07-05 17:26:50 [WARNING] root: Determinant was negative! Clipping Eigenvalues to 0+epsilon from -2.2543534328178794e-07\n",
      "2018-07-05 17:26:50 [WARNING] root: Determinant was negative! Clipping Eigenvalues to 0+epsilon from -7.154169452405768e-07\n",
      "2018-07-05 17:26:50 [WARNING] root: Determinant was negative! Clipping Eigenvalues to 0+epsilon from -1.8743483565231145e-07\n",
      "2018-07-05 17:26:50 [WARNING] root: Determinant was negative! Clipping Eigenvalues to 0+epsilon from -4.1096240011029295e-07\n",
      "2018-07-05 17:26:50 [WARNING] root: Determinant was negative! Clipping Eigenvalues to 0+epsilon from -1.3806688059503358e-07\n",
      "2018-07-05 17:26:50 [WARNING] root: Determinant was negative! Clipping Eigenvalues to 0+epsilon from -1.7393034568158328e-07\n",
      "2018-07-05 17:26:50 [WARNING] root: Determinant was negative! Clipping Eigenvalues to 0+epsilon from -1.8553070901816682e-07\n",
      "2018-07-05 17:26:50 [WARNING] root: Determinant was negative! Clipping Eigenvalues to 0+epsilon from -3.149585268147348e-07\n",
      "2018-07-05 17:26:50 [WARNING] root: Determinant was negative! Clipping Eigenvalues to 0+epsilon from -6.524788886963506e-08\n",
      "2018-07-05 17:26:50 [WARNING] root: Determinant was negative! Clipping Eigenvalues to 0+epsilon from -1.5543497511316673e-07\n",
      "2018-07-05 17:26:50 [WARNING] root: Determinant was negative! Clipping Eigenvalues to 0+epsilon from -2.0053464311331481e-07\n",
      "2018-07-05 17:26:50 [WARNING] root: Determinant was negative! Clipping Eigenvalues to 0+epsilon from -8.555426234124752e-08\n",
      "2018-07-05 17:26:50 [WARNING] root: Determinant was negative! Clipping Eigenvalues to 0+epsilon from -7.014626390855483e-08\n",
      "2018-07-05 17:26:50 [WARNING] root: Determinant was negative! Clipping Eigenvalues to 0+epsilon from -7.370412049567676e-07\n",
      "2018-07-05 17:26:50 [WARNING] root: Determinant was negative! Clipping Eigenvalues to 0+epsilon from -2.552283433487901e-07\n",
      "2018-07-05 17:26:50 [WARNING] root: Determinant was negative! Clipping Eigenvalues to 0+epsilon from -1.8902277076904284e-07\n",
      "2018-07-05 17:26:50 [WARNING] root: Determinant was negative! Clipping Eigenvalues to 0+epsilon from -2.568233412603149e-07\n",
      "2018-07-05 17:26:50 [WARNING] root: Determinant was negative! Clipping Eigenvalues to 0+epsilon from -1.3987880720378598e-07\n",
      "2018-07-05 17:26:50 [WARNING] root: Determinant was negative! Clipping Eigenvalues to 0+epsilon from -2.2368519125848252e-07\n",
      "2018-07-05 17:26:50 [WARNING] root: Determinant was negative! Clipping Eigenvalues to 0+epsilon from -2.171327118105637e-08\n",
      "2018-07-05 17:26:50 [WARNING] root: Determinant was negative! Clipping Eigenvalues to 0+epsilon from -3.528668628405285e-07\n",
      "2018-07-05 17:26:50 [WARNING] root: Determinant was negative! Clipping Eigenvalues to 0+epsilon from -5.98501443960231e-08\n",
      "2018-07-05 17:26:50 [WARNING] root: Determinant was negative! Clipping Eigenvalues to 0+epsilon from -2.20291653363347e-07\n",
      "2018-07-05 17:26:50 [WARNING] root: Determinant was negative! Clipping Eigenvalues to 0+epsilon from -1.8932109924207907e-07\n",
      "2018-07-05 17:26:50 [WARNING] root: Determinant was negative! Clipping Eigenvalues to 0+epsilon from -3.0732797995369765e-07\n",
      "2018-07-05 17:26:50 [WARNING] root: Determinant was negative! Clipping Eigenvalues to 0+epsilon from -7.718011829638272e-07\n",
      "2018-07-05 17:26:50 [WARNING] root: Determinant was negative! Clipping Eigenvalues to 0+epsilon from -7.218432784839024e-08\n",
      "2018-07-05 17:26:50 [WARNING] root: Determinant was negative! Clipping Eigenvalues to 0+epsilon from -8.816792274046747e-08\n",
      "2018-07-05 17:26:50 [ERROR] src.evaluation.evaluator: An exception occurred while training DAGMM_NNAutoEncoder_withoutWindow on Syn Extreme Outliers (mis=0.675): Lapack Error getrf : U(3,3) is 0, U is singular at /pytorch/aten/src/TH/generic/THTensorLapack.c:514\n",
      "2018-07-05 17:26:50 [ERROR] src.evaluation.evaluator: Traceback (most recent call last):\n",
      "  File \"../src/evaluation/evaluator.py\", line 122, in evaluate\n",
      "    det.fit(X_train.copy(), y_train.copy())\n",
      "  File \"../src/algorithms/dagmm.py\", line 203, in fit\n",
      "    self.dagmm_step(input_data.float())\n",
      "  File \"../src/algorithms/dagmm.py\", line 177, in dagmm_step\n",
      "    self.lambda_cov_diag)\n",
      "  File \"../src/algorithms/dagmm.py\", line 144, in loss_function\n",
      "    sample_energy, cov_diag = self.compute_energy(z, phi, mu, cov)\n",
      "  File \"../src/algorithms/dagmm.py\", line 113, in compute_energy\n",
      "    cov_inverse.append(torch.inverse(cov_k).unsqueeze(0))\n",
      "RuntimeError: Lapack Error getrf : U(3,3) is 0, U is singular at /pytorch/aten/src/TH/generic/THTensorLapack.c:514\n",
      "\n"
     ]
    },
    {
     "name": "stderr",
     "output_type": "stream",
     "text": [
      "\r",
      "                                                                               \r",
      "\r",
      " 42% (3 of 7) |###########               | Elapsed Time: 0:03:18 ETA:   0:03:14"
     ]
    },
    {
     "name": "stdout",
     "output_type": "stream",
     "text": [
      "2018-07-05 17:26:50 [INFO] src.evaluation.evaluator: Training DAGMM_NNAutoEncoder_withWindow on Syn Extreme Outliers (mis=0.675) with seed 3003640154\n"
     ]
    },
    {
     "name": "stderr",
     "output_type": "stream",
     "text": [
      "\r",
      "                                                                               \r",
      "\r",
      " 57% (4 of 7) |##############            | Elapsed Time: 0:03:21 ETA:   0:00:11"
     ]
    },
    {
     "name": "stdout",
     "output_type": "stream",
     "text": [
      "2018-07-05 17:26:54 [INFO] src.evaluation.evaluator: Training DAGMM_LSTMAutoEncoder_withWindow on Syn Extreme Outliers (mis=0.675) with seed 3003640154\n"
     ]
    },
    {
     "name": "stderr",
     "output_type": "stream",
     "text": [
      "\r",
      "                                                                               \r",
      "\r",
      " 71% (5 of 7) |##################        | Elapsed Time: 0:03:52 ETA:   0:01:00"
     ]
    },
    {
     "name": "stdout",
     "output_type": "stream",
     "text": [
      "2018-07-05 17:27:24 [INFO] src.evaluation.evaluator: Training Recurrent EBM on Syn Extreme Outliers (mis=0.675) with seed 3003640154\n"
     ]
    },
    {
     "name": "stderr",
     "output_type": "stream",
     "text": [
      "100%|██████████| 15/15 [00:05<00:00,  2.52it/s]\n",
      " 85% (6 of 7) |######################    | Elapsed Time: 0:04:00 ETA:   0:00:08"
     ]
    },
    {
     "name": "stdout",
     "output_type": "stream",
     "text": [
      "2018-07-05 17:27:33 [INFO] src.evaluation.evaluator: Training Donut on Syn Extreme Outliers (mis=0.675) with seed 3003640154\n"
     ]
    },
    {
     "name": "stderr",
     "output_type": "stream",
     "text": [
      "100%|██████████| 1/1 [00:02<00:00,  2.71s/it]\n",
      "100% (7 of 7) |##########################| Elapsed Time: 0:04:06 Time:  0:04:06\n",
      "N/A% (0 of 7) |                          | Elapsed Time: 0:00:00 ETA:  --:--:--"
     ]
    },
    {
     "name": "stdout",
     "output_type": "stream",
     "text": [
      "2018-07-05 17:27:39 [INFO] src.evaluation.evaluator: Training LSTM-AD on Syn Extreme Outliers (mis=0.9) with seed 3003640154\n"
     ]
    },
    {
     "name": "stderr",
     "output_type": "stream",
     "text": [
      "\r",
      "                                                                               \r",
      "\r",
      " 14% (1 of 7) |###                       | Elapsed Time: 0:01:40 ETA:   0:10:05"
     ]
    },
    {
     "name": "stdout",
     "output_type": "stream",
     "text": [
      "2018-07-05 17:29:20 [INFO] src.evaluation.evaluator: Training LSTMED on Syn Extreme Outliers (mis=0.9) with seed 3003640154\n"
     ]
    },
    {
     "name": "stderr",
     "output_type": "stream",
     "text": [
      "\r",
      "                                                                               \r",
      "\r",
      " 28% (2 of 7) |#######                   | Elapsed Time: 0:03:17 ETA:   0:08:03"
     ]
    },
    {
     "name": "stdout",
     "output_type": "stream",
     "text": [
      "2018-07-05 17:30:56 [INFO] src.evaluation.evaluator: Training DAGMM_NNAutoEncoder_withoutWindow on Syn Extreme Outliers (mis=0.9) with seed 3003640154\n",
      "2018-07-05 17:30:56 [WARNING] root: Determinant was negative! Clipping Eigenvalues to 0+epsilon from -2.891106305469293e-07\n",
      "2018-07-05 17:30:56 [WARNING] root: Determinant was negative! Clipping Eigenvalues to 0+epsilon from -6.924243933781327e-08\n",
      "2018-07-05 17:30:56 [WARNING] root: Determinant was negative! Clipping Eigenvalues to 0+epsilon from -6.981065325817326e-08\n",
      "2018-07-05 17:30:56 [WARNING] root: Determinant was negative! Clipping Eigenvalues to 0+epsilon from -1.872218291509853e-08\n",
      "2018-07-05 17:30:56 [WARNING] root: Determinant was negative! Clipping Eigenvalues to 0+epsilon from -1.3600011072867346e-07\n",
      "2018-07-05 17:30:56 [WARNING] root: Determinant was negative! Clipping Eigenvalues to 0+epsilon from -2.1516373749363993e-07\n",
      "2018-07-05 17:30:56 [WARNING] root: Determinant was negative! Clipping Eigenvalues to 0+epsilon from -2.3133244653195106e-08\n",
      "2018-07-05 17:30:56 [WARNING] root: Determinant was negative! Clipping Eigenvalues to 0+epsilon from -1.2453178044324886e-07\n",
      "2018-07-05 17:30:56 [WARNING] root: Determinant was negative! Clipping Eigenvalues to 0+epsilon from -1.863197667262284e-07\n",
      "2018-07-05 17:30:56 [WARNING] root: Determinant was negative! Clipping Eigenvalues to 0+epsilon from -2.593718022581015e-07\n",
      "2018-07-05 17:30:56 [WARNING] root: Determinant was negative! Clipping Eigenvalues to 0+epsilon from -2.24056595499178e-08\n",
      "2018-07-05 17:30:56 [WARNING] root: Determinant was negative! Clipping Eigenvalues to 0+epsilon from -2.9973308991043668e-12\n",
      "2018-07-05 17:30:56 [WARNING] root: Determinant was negative! Clipping Eigenvalues to 0+epsilon from -7.198721618806303e-08\n",
      "2018-07-05 17:30:56 [WARNING] root: Determinant was negative! Clipping Eigenvalues to 0+epsilon from -5.89797082284349e-08\n",
      "2018-07-05 17:30:56 [WARNING] root: Determinant was negative! Clipping Eigenvalues to 0+epsilon from -6.238903438315901e-08\n",
      "2018-07-05 17:30:56 [WARNING] root: Determinant was negative! Clipping Eigenvalues to 0+epsilon from -4.07913454125719e-08\n",
      "2018-07-05 17:30:56 [WARNING] root: Determinant was negative! Clipping Eigenvalues to 0+epsilon from -5.025252676205127e-07\n",
      "2018-07-05 17:30:56 [WARNING] root: Determinant was negative! Clipping Eigenvalues to 0+epsilon from -1.2680196448400238e-07\n",
      "2018-07-05 17:30:56 [WARNING] root: Determinant was negative! Clipping Eigenvalues to 0+epsilon from -2.653912360983668e-07\n",
      "2018-07-05 17:30:56 [WARNING] root: Determinant was negative! Clipping Eigenvalues to 0+epsilon from -8.545067942122841e-08\n",
      "2018-07-05 17:30:56 [WARNING] root: Determinant was negative! Clipping Eigenvalues to 0+epsilon from -5.734782604349675e-08\n",
      "2018-07-05 17:30:56 [WARNING] root: Determinant was negative! Clipping Eigenvalues to 0+epsilon from -3.2916119607762084e-08\n",
      "2018-07-05 17:30:56 [WARNING] root: Determinant was negative! Clipping Eigenvalues to 0+epsilon from -1.9203783097054838e-07\n",
      "2018-07-05 17:30:56 [WARNING] root: Determinant was negative! Clipping Eigenvalues to 0+epsilon from -1.381314973514236e-08\n",
      "2018-07-05 17:30:56 [WARNING] root: Determinant was negative! Clipping Eigenvalues to 0+epsilon from -1.468313115537967e-08\n",
      "2018-07-05 17:30:56 [WARNING] root: Determinant was negative! Clipping Eigenvalues to 0+epsilon from -9.505634324113998e-08\n",
      "2018-07-05 17:30:56 [WARNING] root: Determinant was negative! Clipping Eigenvalues to 0+epsilon from -6.521024431549449e-08\n",
      "2018-07-05 17:30:56 [WARNING] root: Determinant was negative! Clipping Eigenvalues to 0+epsilon from -3.0209598378405644e-08\n",
      "2018-07-05 17:30:56 [WARNING] root: Determinant was negative! Clipping Eigenvalues to 0+epsilon from -4.0446067828270316e-07\n",
      "2018-07-05 17:30:56 [WARNING] root: Determinant was negative! Clipping Eigenvalues to 0+epsilon from -2.904851612584025e-07\n",
      "2018-07-05 17:30:56 [WARNING] root: Determinant was negative! Clipping Eigenvalues to 0+epsilon from -8.080995428372262e-08\n",
      "2018-07-05 17:30:56 [WARNING] root: Determinant was negative! Clipping Eigenvalues to 0+epsilon from -2.7879634600935788e-08\n",
      "2018-07-05 17:30:57 [WARNING] root: Determinant was negative! Clipping Eigenvalues to 0+epsilon from -4.2651140574889723e-07\n",
      "2018-07-05 17:30:57 [WARNING] root: Determinant was negative! Clipping Eigenvalues to 0+epsilon from -5.031753858020238e-07\n",
      "2018-07-05 17:30:57 [ERROR] src.evaluation.evaluator: An exception occurred while training DAGMM_NNAutoEncoder_withoutWindow on Syn Extreme Outliers (mis=0.9): Lapack Error getrf : U(3,3) is 0, U is singular at /pytorch/aten/src/TH/generic/THTensorLapack.c:514\n",
      "2018-07-05 17:30:57 [ERROR] src.evaluation.evaluator: Traceback (most recent call last):\n",
      "  File \"../src/evaluation/evaluator.py\", line 122, in evaluate\n",
      "    det.fit(X_train.copy(), y_train.copy())\n",
      "  File \"../src/algorithms/dagmm.py\", line 203, in fit\n",
      "    self.dagmm_step(input_data.float())\n",
      "  File \"../src/algorithms/dagmm.py\", line 177, in dagmm_step\n",
      "    self.lambda_cov_diag)\n",
      "  File \"../src/algorithms/dagmm.py\", line 144, in loss_function\n",
      "    sample_energy, cov_diag = self.compute_energy(z, phi, mu, cov)\n",
      "  File \"../src/algorithms/dagmm.py\", line 113, in compute_energy\n",
      "    cov_inverse.append(torch.inverse(cov_k).unsqueeze(0))\n",
      "RuntimeError: Lapack Error getrf : U(3,3) is 0, U is singular at /pytorch/aten/src/TH/generic/THTensorLapack.c:514\n",
      "\n"
     ]
    },
    {
     "name": "stderr",
     "output_type": "stream",
     "text": [
      "\r",
      "                                                                               \r",
      "\r",
      " 42% (3 of 7) |###########               | Elapsed Time: 0:03:17 ETA:   0:03:13"
     ]
    },
    {
     "name": "stdout",
     "output_type": "stream",
     "text": [
      "2018-07-05 17:30:57 [INFO] src.evaluation.evaluator: Training DAGMM_NNAutoEncoder_withWindow on Syn Extreme Outliers (mis=0.9) with seed 3003640154\n"
     ]
    },
    {
     "name": "stderr",
     "output_type": "stream",
     "text": [
      "\r",
      "                                                                               \r",
      "\r",
      " 57% (4 of 7) |##############            | Elapsed Time: 0:03:21 ETA:   0:00:11"
     ]
    },
    {
     "name": "stdout",
     "output_type": "stream",
     "text": [
      "2018-07-05 17:31:00 [INFO] src.evaluation.evaluator: Training DAGMM_LSTMAutoEncoder_withWindow on Syn Extreme Outliers (mis=0.9) with seed 3003640154\n"
     ]
    },
    {
     "name": "stderr",
     "output_type": "stream",
     "text": [
      "\r",
      "                                                                               \r",
      "\r",
      " 71% (5 of 7) |##################        | Elapsed Time: 0:03:51 ETA:   0:01:00"
     ]
    },
    {
     "name": "stdout",
     "output_type": "stream",
     "text": [
      "2018-07-05 17:31:30 [INFO] src.evaluation.evaluator: Training Recurrent EBM on Syn Extreme Outliers (mis=0.9) with seed 3003640154\n"
     ]
    },
    {
     "name": "stderr",
     "output_type": "stream",
     "text": [
      "100%|██████████| 15/15 [00:05<00:00,  2.50it/s]\n",
      " 85% (6 of 7) |######################    | Elapsed Time: 0:04:00 ETA:   0:00:08"
     ]
    },
    {
     "name": "stdout",
     "output_type": "stream",
     "text": [
      "2018-07-05 17:31:39 [INFO] src.evaluation.evaluator: Training Donut on Syn Extreme Outliers (mis=0.9) with seed 3003640154\n"
     ]
    },
    {
     "name": "stderr",
     "output_type": "stream",
     "text": [
      "100%|██████████| 1/1 [00:02<00:00,  2.88s/it]\n",
      "100% (7 of 7) |##########################| Elapsed Time: 0:04:06 Time:  0:04:06\n",
      "100% (5 of 5) |##########################| Elapsed Time: 0:20:49 Time:  0:20:49\n"
     ]
    },
    {
     "name": "stdout",
     "output_type": "stream",
     "text": [
      "2018-07-05 17:31:48 [INFO] src.evaluation.evaluator: Store evaluator results at /home/thomas/work/notebooks/data/missing-run-1-3003640154-2018-07-05-173148.pkl\n"
     ]
    },
    {
     "name": "stderr",
     "output_type": "stream",
     "text": [
      "N/A% (0 of 7) |                          | Elapsed Time: 0:00:00 ETA:  --:--:--"
     ]
    },
    {
     "name": "stdout",
     "output_type": "stream",
     "text": [
      "2018-07-05 17:31:48 [INFO] src.evaluation.evaluator: Training LSTM-AD on Syn Extreme Outliers (mis=0.0) with seed 1121684101\n"
     ]
    },
    {
     "name": "stderr",
     "output_type": "stream",
     "text": [
      "\r",
      "                                                                               \r",
      "\r",
      " 14% (1 of 7) |###                       | Elapsed Time: 0:01:40 ETA:   0:10:05"
     ]
    },
    {
     "name": "stdout",
     "output_type": "stream",
     "text": [
      "2018-07-05 17:33:28 [INFO] src.evaluation.evaluator: Training LSTMED on Syn Extreme Outliers (mis=0.0) with seed 1121684101\n"
     ]
    },
    {
     "name": "stderr",
     "output_type": "stream",
     "text": [
      "\r",
      "                                                                               \r",
      "\r",
      " 28% (2 of 7) |#######                   | Elapsed Time: 0:03:17 ETA:   0:08:05"
     ]
    },
    {
     "name": "stdout",
     "output_type": "stream",
     "text": [
      "2018-07-05 17:35:06 [INFO] src.evaluation.evaluator: Training DAGMM_NNAutoEncoder_withoutWindow on Syn Extreme Outliers (mis=0.0) with seed 1121684101\n",
      "2018-07-05 17:35:06 [WARNING] root: Determinant was negative! Clipping Eigenvalues to 0+epsilon from -5.453897777840666e-09\n",
      "2018-07-05 17:35:06 [WARNING] root: Determinant was negative! Clipping Eigenvalues to 0+epsilon from -1.191932685884467e-08\n",
      "2018-07-05 17:35:06 [WARNING] root: Determinant was negative! Clipping Eigenvalues to 0+epsilon from -7.518523403859945e-08\n"
     ]
    },
    {
     "name": "stderr",
     "output_type": "stream",
     "text": [
      "\r",
      "                                                                               \r",
      "\r",
      " 42% (3 of 7) |###########               | Elapsed Time: 0:03:21 ETA:   0:00:15"
     ]
    },
    {
     "name": "stdout",
     "output_type": "stream",
     "text": [
      "2018-07-05 17:35:09 [INFO] src.evaluation.evaluator: Training DAGMM_NNAutoEncoder_withWindow on Syn Extreme Outliers (mis=0.0) with seed 1121684101\n"
     ]
    },
    {
     "name": "stderr",
     "output_type": "stream",
     "text": [
      "\r",
      "                                                                               \r",
      "\r",
      " 57% (4 of 7) |##############            | Elapsed Time: 0:03:25 ETA:   0:00:11"
     ]
    },
    {
     "name": "stdout",
     "output_type": "stream",
     "text": [
      "2018-07-05 17:35:13 [INFO] src.evaluation.evaluator: Training DAGMM_LSTMAutoEncoder_withWindow on Syn Extreme Outliers (mis=0.0) with seed 1121684101\n"
     ]
    },
    {
     "name": "stderr",
     "output_type": "stream",
     "text": [
      "\r",
      "                                                                               \r",
      "\r",
      " 71% (5 of 7) |##################        | Elapsed Time: 0:03:56 ETA:   0:01:00"
     ]
    },
    {
     "name": "stdout",
     "output_type": "stream",
     "text": [
      "2018-07-05 17:35:44 [INFO] src.evaluation.evaluator: Training Recurrent EBM on Syn Extreme Outliers (mis=0.0) with seed 1121684101\n"
     ]
    },
    {
     "name": "stderr",
     "output_type": "stream",
     "text": [
      "100%|██████████| 15/15 [00:05<00:00,  2.54it/s]\n",
      " 85% (6 of 7) |######################    | Elapsed Time: 0:04:05 ETA:   0:00:08"
     ]
    },
    {
     "name": "stdout",
     "output_type": "stream",
     "text": [
      "2018-07-05 17:35:53 [INFO] src.evaluation.evaluator: Training Donut on Syn Extreme Outliers (mis=0.0) with seed 1121684101\n"
     ]
    },
    {
     "name": "stderr",
     "output_type": "stream",
     "text": [
      "\r",
      "  0%|          | 0/1 [00:00<?, ?it/s]"
     ]
    },
    {
     "name": "stdout",
     "output_type": "stream",
     "text": [
      "INFO:tensorflow:Restoring parameters from /tmp/tmpuy9g1m2l/variables.dat-900\n",
      "2018-07-05 17:36:16 [INFO] tensorflow: Restoring parameters from /tmp/tmpuy9g1m2l/variables.dat-900\n"
     ]
    },
    {
     "name": "stderr",
     "output_type": "stream",
     "text": [
      "100%|██████████| 1/1 [00:23<00:00, 23.74s/it]\n",
      "100% (7 of 7) |##########################| Elapsed Time: 0:04:31 Time:  0:04:31\n",
      "N/A% (0 of 7) |                          | Elapsed Time: 0:00:00 ETA:  --:--:--"
     ]
    },
    {
     "name": "stdout",
     "output_type": "stream",
     "text": [
      "2018-07-05 17:36:19 [INFO] src.evaluation.evaluator: Training LSTM-AD on Syn Extreme Outliers (mis=0.225) with seed 1121684101\n"
     ]
    },
    {
     "name": "stderr",
     "output_type": "stream",
     "text": [
      "\r",
      "                                                                               \r",
      "\r",
      " 14% (1 of 7) |###                       | Elapsed Time: 0:01:41 ETA:   0:10:07"
     ]
    },
    {
     "name": "stdout",
     "output_type": "stream",
     "text": [
      "2018-07-05 17:38:01 [INFO] src.evaluation.evaluator: Training LSTMED on Syn Extreme Outliers (mis=0.225) with seed 1121684101\n"
     ]
    },
    {
     "name": "stderr",
     "output_type": "stream",
     "text": [
      "\r",
      "                                                                               \r",
      "\r",
      " 28% (2 of 7) |#######                   | Elapsed Time: 0:03:18 ETA:   0:08:04"
     ]
    },
    {
     "name": "stdout",
     "output_type": "stream",
     "text": [
      "2018-07-05 17:39:37 [INFO] src.evaluation.evaluator: Training DAGMM_NNAutoEncoder_withoutWindow on Syn Extreme Outliers (mis=0.225) with seed 1121684101\n",
      "2018-07-05 17:39:38 [WARNING] root: Determinant was negative! Clipping Eigenvalues to 0+epsilon from -3.122963887491892e-09\n",
      "2018-07-05 17:39:38 [WARNING] root: Determinant was negative! Clipping Eigenvalues to 0+epsilon from -2.080249998925865e-07\n",
      "2018-07-05 17:39:38 [WARNING] root: Determinant was negative! Clipping Eigenvalues to 0+epsilon from -2.7286441550700147e-08\n",
      "2018-07-05 17:39:38 [WARNING] root: Determinant was negative! Clipping Eigenvalues to 0+epsilon from -9.063218442406651e-08\n",
      "2018-07-05 17:39:38 [WARNING] root: Determinant was negative! Clipping Eigenvalues to 0+epsilon from -7.975491200795659e-08\n",
      "2018-07-05 17:39:38 [WARNING] root: Determinant was negative! Clipping Eigenvalues to 0+epsilon from -1.331336676457795e-07\n",
      "2018-07-05 17:39:38 [WARNING] root: Determinant was negative! Clipping Eigenvalues to 0+epsilon from -3.973006812429958e-07\n",
      "2018-07-05 17:39:38 [WARNING] root: Determinant was negative! Clipping Eigenvalues to 0+epsilon from -1.459662541947182e-07\n",
      "2018-07-05 17:39:38 [WARNING] root: Determinant was negative! Clipping Eigenvalues to 0+epsilon from -4.5746392629553156e-07\n",
      "2018-07-05 17:39:38 [WARNING] root: Determinant was negative! Clipping Eigenvalues to 0+epsilon from -5.228321242611855e-07\n",
      "2018-07-05 17:39:38 [WARNING] root: Determinant was negative! Clipping Eigenvalues to 0+epsilon from -2.450506144668907e-07\n",
      "2018-07-05 17:39:38 [WARNING] root: Determinant was negative! Clipping Eigenvalues to 0+epsilon from -3.193194686446077e-07\n",
      "2018-07-05 17:39:38 [WARNING] root: Determinant was negative! Clipping Eigenvalues to 0+epsilon from -3.8082197306721355e-07\n",
      "2018-07-05 17:39:38 [WARNING] root: Determinant was negative! Clipping Eigenvalues to 0+epsilon from -8.263178585821152e-09\n",
      "2018-07-05 17:39:38 [WARNING] root: Determinant was negative! Clipping Eigenvalues to 0+epsilon from -4.924562446717573e-08\n",
      "2018-07-05 17:39:38 [WARNING] root: Determinant was negative! Clipping Eigenvalues to 0+epsilon from -4.362259531376367e-08\n",
      "2018-07-05 17:39:38 [WARNING] root: Determinant was negative! Clipping Eigenvalues to 0+epsilon from -1.6411328829235572e-07\n",
      "2018-07-05 17:39:38 [WARNING] root: Determinant was negative! Clipping Eigenvalues to 0+epsilon from -2.7224308141171605e-08\n",
      "2018-07-05 17:39:38 [ERROR] src.evaluation.evaluator: An exception occurred while training DAGMM_NNAutoEncoder_withoutWindow on Syn Extreme Outliers (mis=0.225): Lapack Error getrf : U(3,3) is 0, U is singular at /pytorch/aten/src/TH/generic/THTensorLapack.c:514\n",
      "2018-07-05 17:39:38 [ERROR] src.evaluation.evaluator: Traceback (most recent call last):\n",
      "  File \"../src/evaluation/evaluator.py\", line 122, in evaluate\n",
      "    det.fit(X_train.copy(), y_train.copy())\n",
      "  File \"../src/algorithms/dagmm.py\", line 203, in fit\n",
      "    self.dagmm_step(input_data.float())\n",
      "  File \"../src/algorithms/dagmm.py\", line 177, in dagmm_step\n",
      "    self.lambda_cov_diag)\n",
      "  File \"../src/algorithms/dagmm.py\", line 144, in loss_function\n",
      "    sample_energy, cov_diag = self.compute_energy(z, phi, mu, cov)\n",
      "  File \"../src/algorithms/dagmm.py\", line 113, in compute_energy\n",
      "    cov_inverse.append(torch.inverse(cov_k).unsqueeze(0))\n",
      "RuntimeError: Lapack Error getrf : U(3,3) is 0, U is singular at /pytorch/aten/src/TH/generic/THTensorLapack.c:514\n",
      "\n"
     ]
    },
    {
     "name": "stderr",
     "output_type": "stream",
     "text": [
      "\r",
      "                                                                               \r",
      "\r",
      " 42% (3 of 7) |###########               | Elapsed Time: 0:03:18 ETA:   0:03:14"
     ]
    },
    {
     "name": "stdout",
     "output_type": "stream",
     "text": [
      "2018-07-05 17:39:38 [INFO] src.evaluation.evaluator: Training DAGMM_NNAutoEncoder_withWindow on Syn Extreme Outliers (mis=0.225) with seed 1121684101\n"
     ]
    },
    {
     "name": "stderr",
     "output_type": "stream",
     "text": [
      "\r",
      "                                                                               \r",
      "\r",
      " 57% (4 of 7) |##############            | Elapsed Time: 0:03:22 ETA:   0:00:11"
     ]
    },
    {
     "name": "stdout",
     "output_type": "stream",
     "text": [
      "2018-07-05 17:39:42 [INFO] src.evaluation.evaluator: Training DAGMM_LSTMAutoEncoder_withWindow on Syn Extreme Outliers (mis=0.225) with seed 1121684101\n"
     ]
    },
    {
     "name": "stderr",
     "output_type": "stream",
     "text": [
      "\r",
      "                                                                               \r",
      "\r",
      " 71% (5 of 7) |##################        | Elapsed Time: 0:03:52 ETA:   0:01:00"
     ]
    },
    {
     "name": "stdout",
     "output_type": "stream",
     "text": [
      "2018-07-05 17:40:12 [INFO] src.evaluation.evaluator: Training Recurrent EBM on Syn Extreme Outliers (mis=0.225) with seed 1121684101\n"
     ]
    },
    {
     "name": "stderr",
     "output_type": "stream",
     "text": [
      "100%|██████████| 15/15 [00:06<00:00,  2.50it/s]\n",
      " 85% (6 of 7) |######################    | Elapsed Time: 0:04:01 ETA:   0:00:09"
     ]
    },
    {
     "name": "stdout",
     "output_type": "stream",
     "text": [
      "2018-07-05 17:40:21 [INFO] src.evaluation.evaluator: Training Donut on Syn Extreme Outliers (mis=0.225) with seed 1121684101\n"
     ]
    },
    {
     "name": "stderr",
     "output_type": "stream",
     "text": [
      "100%|██████████| 1/1 [00:03<00:00,  3.50s/it]\n",
      "100% (7 of 7) |##########################| Elapsed Time: 0:04:08 Time:  0:04:08\n",
      "N/A% (0 of 7) |                          | Elapsed Time: 0:00:00 ETA:  --:--:--"
     ]
    },
    {
     "name": "stdout",
     "output_type": "stream",
     "text": [
      "2018-07-05 17:40:28 [INFO] src.evaluation.evaluator: Training LSTM-AD on Syn Extreme Outliers (mis=0.45) with seed 1121684101\n"
     ]
    },
    {
     "name": "stderr",
     "output_type": "stream",
     "text": [
      "\r",
      "                                                                               \r",
      "\r",
      " 14% (1 of 7) |###                       | Elapsed Time: 0:01:40 ETA:   0:10:05"
     ]
    },
    {
     "name": "stdout",
     "output_type": "stream",
     "text": [
      "2018-07-05 17:42:09 [INFO] src.evaluation.evaluator: Training LSTMED on Syn Extreme Outliers (mis=0.45) with seed 1121684101\n"
     ]
    },
    {
     "name": "stderr",
     "output_type": "stream",
     "text": [
      "\r",
      "                                                                               \r",
      "\r",
      " 28% (2 of 7) |#######                   | Elapsed Time: 0:03:17 ETA:   0:08:04"
     ]
    },
    {
     "name": "stdout",
     "output_type": "stream",
     "text": [
      "2018-07-05 17:43:45 [INFO] src.evaluation.evaluator: Training DAGMM_NNAutoEncoder_withoutWindow on Syn Extreme Outliers (mis=0.45) with seed 1121684101\n",
      "2018-07-05 17:43:45 [WARNING] root: Determinant was negative! Clipping Eigenvalues to 0+epsilon from -2.0122337218708708e-07\n",
      "2018-07-05 17:43:45 [WARNING] root: Determinant was negative! Clipping Eigenvalues to 0+epsilon from -7.418927339131187e-07\n",
      "2018-07-05 17:43:45 [WARNING] root: Determinant was negative! Clipping Eigenvalues to 0+epsilon from -2.2471721194960992e-07\n",
      "2018-07-05 17:43:46 [WARNING] root: Determinant was negative! Clipping Eigenvalues to 0+epsilon from -1.766675552516972e-07\n",
      "2018-07-05 17:43:46 [WARNING] root: Determinant was negative! Clipping Eigenvalues to 0+epsilon from -2.2940469079912873e-07\n",
      "2018-07-05 17:43:46 [WARNING] root: Determinant was negative! Clipping Eigenvalues to 0+epsilon from -7.038606213427556e-07\n",
      "2018-07-05 17:43:46 [WARNING] root: Determinant was negative! Clipping Eigenvalues to 0+epsilon from -2.907019336362282e-08\n",
      "2018-07-05 17:43:46 [WARNING] root: Determinant was negative! Clipping Eigenvalues to 0+epsilon from -7.923629254946718e-07\n",
      "2018-07-05 17:43:46 [WARNING] root: Determinant was negative! Clipping Eigenvalues to 0+epsilon from -7.329332447625347e-07\n",
      "2018-07-05 17:43:46 [WARNING] root: Determinant was negative! Clipping Eigenvalues to 0+epsilon from -9.725662408754943e-08\n",
      "2018-07-05 17:43:46 [WARNING] root: Determinant was negative! Clipping Eigenvalues to 0+epsilon from -3.169946438674742e-08\n",
      "2018-07-05 17:43:46 [WARNING] root: Determinant was negative! Clipping Eigenvalues to 0+epsilon from -4.279709742149862e-07\n",
      "2018-07-05 17:43:46 [WARNING] root: Determinant was negative! Clipping Eigenvalues to 0+epsilon from -9.162871350554269e-08\n",
      "2018-07-05 17:43:46 [WARNING] root: Determinant was negative! Clipping Eigenvalues to 0+epsilon from -2.1892495283282187e-07\n",
      "2018-07-05 17:43:46 [WARNING] root: Determinant was negative! Clipping Eigenvalues to 0+epsilon from -3.8630889775959076e-07\n",
      "2018-07-05 17:43:46 [WARNING] root: Determinant was negative! Clipping Eigenvalues to 0+epsilon from -1.4724602692695044e-07\n",
      "2018-07-05 17:43:46 [WARNING] root: Determinant was negative! Clipping Eigenvalues to 0+epsilon from -2.749339671481721e-07\n",
      "2018-07-05 17:43:46 [WARNING] root: Determinant was negative! Clipping Eigenvalues to 0+epsilon from -3.4394369663459656e-07\n",
      "2018-07-05 17:43:46 [ERROR] src.evaluation.evaluator: An exception occurred while training DAGMM_NNAutoEncoder_withoutWindow on Syn Extreme Outliers (mis=0.45): Lapack Error getrf : U(3,3) is 0, U is singular at /pytorch/aten/src/TH/generic/THTensorLapack.c:514\n",
      "2018-07-05 17:43:46 [ERROR] src.evaluation.evaluator: Traceback (most recent call last):\n",
      "  File \"../src/evaluation/evaluator.py\", line 122, in evaluate\n",
      "    det.fit(X_train.copy(), y_train.copy())\n",
      "  File \"../src/algorithms/dagmm.py\", line 203, in fit\n",
      "    self.dagmm_step(input_data.float())\n",
      "  File \"../src/algorithms/dagmm.py\", line 177, in dagmm_step\n",
      "    self.lambda_cov_diag)\n",
      "  File \"../src/algorithms/dagmm.py\", line 144, in loss_function\n",
      "    sample_energy, cov_diag = self.compute_energy(z, phi, mu, cov)\n",
      "  File \"../src/algorithms/dagmm.py\", line 113, in compute_energy\n",
      "    cov_inverse.append(torch.inverse(cov_k).unsqueeze(0))\n",
      "RuntimeError: Lapack Error getrf : U(3,3) is 0, U is singular at /pytorch/aten/src/TH/generic/THTensorLapack.c:514\n",
      "\n"
     ]
    },
    {
     "name": "stderr",
     "output_type": "stream",
     "text": [
      "\r",
      "                                                                               \r",
      "\r",
      " 42% (3 of 7) |###########               | Elapsed Time: 0:03:18 ETA:   0:03:14"
     ]
    },
    {
     "name": "stdout",
     "output_type": "stream",
     "text": [
      "2018-07-05 17:43:46 [INFO] src.evaluation.evaluator: Training DAGMM_NNAutoEncoder_withWindow on Syn Extreme Outliers (mis=0.45) with seed 1121684101\n"
     ]
    },
    {
     "name": "stderr",
     "output_type": "stream",
     "text": [
      "\r",
      "                                                                               \r",
      "\r",
      " 57% (4 of 7) |##############            | Elapsed Time: 0:03:22 ETA:   0:00:11"
     ]
    },
    {
     "name": "stdout",
     "output_type": "stream",
     "text": [
      "2018-07-05 17:43:50 [INFO] src.evaluation.evaluator: Training DAGMM_LSTMAutoEncoder_withWindow on Syn Extreme Outliers (mis=0.45) with seed 1121684101\n"
     ]
    },
    {
     "name": "stderr",
     "output_type": "stream",
     "text": [
      "\r",
      "                                                                               \r",
      "\r",
      " 71% (5 of 7) |##################        | Elapsed Time: 0:03:52 ETA:   0:01:00"
     ]
    },
    {
     "name": "stdout",
     "output_type": "stream",
     "text": [
      "2018-07-05 17:44:20 [INFO] src.evaluation.evaluator: Training Recurrent EBM on Syn Extreme Outliers (mis=0.45) with seed 1121684101\n"
     ]
    },
    {
     "name": "stderr",
     "output_type": "stream",
     "text": [
      "100%|██████████| 15/15 [00:05<00:00,  2.50it/s]\n",
      " 85% (6 of 7) |######################    | Elapsed Time: 0:04:01 ETA:   0:00:09"
     ]
    },
    {
     "name": "stdout",
     "output_type": "stream",
     "text": [
      "2018-07-05 17:44:29 [INFO] src.evaluation.evaluator: Training Donut on Syn Extreme Outliers (mis=0.45) with seed 1121684101\n"
     ]
    },
    {
     "name": "stderr",
     "output_type": "stream",
     "text": [
      "100%|██████████| 1/1 [00:03<00:00,  3.43s/it]\n",
      "100% (7 of 7) |##########################| Elapsed Time: 0:04:08 Time:  0:04:08\n",
      "N/A% (0 of 7) |                          | Elapsed Time: 0:00:00 ETA:  --:--:--"
     ]
    },
    {
     "name": "stdout",
     "output_type": "stream",
     "text": [
      "2018-07-05 17:44:36 [INFO] src.evaluation.evaluator: Training LSTM-AD on Syn Extreme Outliers (mis=0.675) with seed 1121684101\n"
     ]
    },
    {
     "name": "stderr",
     "output_type": "stream",
     "text": [
      "\r",
      "                                                                               \r",
      "\r",
      " 14% (1 of 7) |###                       | Elapsed Time: 0:01:41 ETA:   0:10:06"
     ]
    },
    {
     "name": "stdout",
     "output_type": "stream",
     "text": [
      "2018-07-05 17:46:17 [INFO] src.evaluation.evaluator: Training LSTMED on Syn Extreme Outliers (mis=0.675) with seed 1121684101\n"
     ]
    },
    {
     "name": "stderr",
     "output_type": "stream",
     "text": [
      "\r",
      "                                                                               \r",
      "\r",
      " 28% (2 of 7) |#######                   | Elapsed Time: 0:03:17 ETA:   0:08:03"
     ]
    },
    {
     "name": "stdout",
     "output_type": "stream",
     "text": [
      "2018-07-05 17:47:53 [INFO] src.evaluation.evaluator: Training DAGMM_NNAutoEncoder_withoutWindow on Syn Extreme Outliers (mis=0.675) with seed 1121684101\n",
      "2018-07-05 17:47:53 [WARNING] root: Determinant was negative! Clipping Eigenvalues to 0+epsilon from -1.708890806639829e-08\n",
      "2018-07-05 17:47:54 [WARNING] root: Determinant was negative! Clipping Eigenvalues to 0+epsilon from -8.212962825382419e-07\n",
      "2018-07-05 17:47:54 [WARNING] root: Determinant was negative! Clipping Eigenvalues to 0+epsilon from -8.579905852457159e-08\n",
      "2018-07-05 17:47:54 [WARNING] root: Determinant was negative! Clipping Eigenvalues to 0+epsilon from -8.940036211324554e-11\n",
      "2018-07-05 17:47:54 [WARNING] root: Determinant was negative! Clipping Eigenvalues to 0+epsilon from -7.173504457114177e-08\n",
      "2018-07-05 17:47:54 [WARNING] root: Determinant was negative! Clipping Eigenvalues to 0+epsilon from -2.7895568521785208e-08\n",
      "2018-07-05 17:47:54 [WARNING] root: Determinant was negative! Clipping Eigenvalues to 0+epsilon from -3.747313144231157e-07\n",
      "2018-07-05 17:47:54 [WARNING] root: Determinant was negative! Clipping Eigenvalues to 0+epsilon from -1.3127272779911436e-07\n",
      "2018-07-05 17:47:54 [WARNING] root: Determinant was negative! Clipping Eigenvalues to 0+epsilon from -1.8436558946177684e-07\n",
      "2018-07-05 17:47:54 [WARNING] root: Determinant was negative! Clipping Eigenvalues to 0+epsilon from -1.6103325606309227e-07\n",
      "2018-07-05 17:47:54 [WARNING] root: Determinant was negative! Clipping Eigenvalues to 0+epsilon from -1.5688456755924562e-08\n",
      "2018-07-05 17:47:54 [WARNING] root: Determinant was negative! Clipping Eigenvalues to 0+epsilon from -1.1786094944454817e-07\n",
      "2018-07-05 17:47:54 [WARNING] root: Determinant was negative! Clipping Eigenvalues to 0+epsilon from -3.0202514267330116e-07\n",
      "2018-07-05 17:47:54 [WARNING] root: Determinant was negative! Clipping Eigenvalues to 0+epsilon from -2.3222605705086607e-07\n",
      "2018-07-05 17:47:54 [WARNING] root: Determinant was negative! Clipping Eigenvalues to 0+epsilon from -1.4171118323247356e-07\n",
      "2018-07-05 17:47:54 [WARNING] root: Determinant was negative! Clipping Eigenvalues to 0+epsilon from -9.928665178904339e-08\n",
      "2018-07-05 17:47:54 [WARNING] root: Determinant was negative! Clipping Eigenvalues to 0+epsilon from -3.3383437880729616e-07\n",
      "2018-07-05 17:47:54 [WARNING] root: Determinant was negative! Clipping Eigenvalues to 0+epsilon from -4.2442522385499615e-08\n",
      "2018-07-05 17:47:54 [WARNING] root: Determinant was negative! Clipping Eigenvalues to 0+epsilon from -6.0932262613278e-07\n",
      "2018-07-05 17:47:54 [WARNING] root: Determinant was negative! Clipping Eigenvalues to 0+epsilon from -2.851259353064961e-07\n",
      "2018-07-05 17:47:54 [WARNING] root: Determinant was negative! Clipping Eigenvalues to 0+epsilon from -8.787550598299276e-08\n",
      "2018-07-05 17:47:54 [WARNING] root: Determinant was negative! Clipping Eigenvalues to 0+epsilon from -2.3685853989263705e-07\n",
      "2018-07-05 17:47:54 [WARNING] root: Determinant was negative! Clipping Eigenvalues to 0+epsilon from -5.808534524476272e-07\n",
      "2018-07-05 17:47:54 [WARNING] root: Determinant was negative! Clipping Eigenvalues to 0+epsilon from -2.7458852969175496e-07\n",
      "2018-07-05 17:47:54 [WARNING] root: Determinant was negative! Clipping Eigenvalues to 0+epsilon from -7.43981303230612e-08\n",
      "2018-07-05 17:47:54 [WARNING] root: Determinant was negative! Clipping Eigenvalues to 0+epsilon from -3.028195010301715e-07\n",
      "2018-07-05 17:47:54 [WARNING] root: Determinant was negative! Clipping Eigenvalues to 0+epsilon from -3.003247002197895e-07\n",
      "2018-07-05 17:47:54 [WARNING] root: Determinant was negative! Clipping Eigenvalues to 0+epsilon from -6.750417469447711e-08\n",
      "2018-07-05 17:47:54 [WARNING] root: Determinant was negative! Clipping Eigenvalues to 0+epsilon from -3.4383887737021723e-07\n",
      "2018-07-05 17:47:54 [WARNING] root: Determinant was negative! Clipping Eigenvalues to 0+epsilon from -6.261507934368638e-08\n",
      "2018-07-05 17:47:54 [WARNING] root: Determinant was negative! Clipping Eigenvalues to 0+epsilon from -4.6679417664563516e-07\n",
      "2018-07-05 17:47:54 [WARNING] root: Determinant was negative! Clipping Eigenvalues to 0+epsilon from -1.8339291329994012e-07\n",
      "2018-07-05 17:47:54 [WARNING] root: Determinant was negative! Clipping Eigenvalues to 0+epsilon from -1.1147801615152275e-07\n",
      "2018-07-05 17:47:54 [WARNING] root: Determinant was negative! Clipping Eigenvalues to 0+epsilon from -5.450056050904095e-07\n",
      "2018-07-05 17:47:54 [WARNING] root: Determinant was negative! Clipping Eigenvalues to 0+epsilon from -4.073523314218619e-07\n",
      "2018-07-05 17:47:54 [ERROR] src.evaluation.evaluator: An exception occurred while training DAGMM_NNAutoEncoder_withoutWindow on Syn Extreme Outliers (mis=0.675): Lapack Error getrf : U(3,3) is 0, U is singular at /pytorch/aten/src/TH/generic/THTensorLapack.c:514\n",
      "2018-07-05 17:47:54 [ERROR] src.evaluation.evaluator: Traceback (most recent call last):\n",
      "  File \"../src/evaluation/evaluator.py\", line 122, in evaluate\n",
      "    det.fit(X_train.copy(), y_train.copy())\n",
      "  File \"../src/algorithms/dagmm.py\", line 203, in fit\n",
      "    self.dagmm_step(input_data.float())\n",
      "  File \"../src/algorithms/dagmm.py\", line 177, in dagmm_step\n",
      "    self.lambda_cov_diag)\n",
      "  File \"../src/algorithms/dagmm.py\", line 144, in loss_function\n",
      "    sample_energy, cov_diag = self.compute_energy(z, phi, mu, cov)\n",
      "  File \"../src/algorithms/dagmm.py\", line 113, in compute_energy\n",
      "    cov_inverse.append(torch.inverse(cov_k).unsqueeze(0))\n",
      "RuntimeError: Lapack Error getrf : U(3,3) is 0, U is singular at /pytorch/aten/src/TH/generic/THTensorLapack.c:514\n",
      "\n"
     ]
    },
    {
     "name": "stderr",
     "output_type": "stream",
     "text": [
      "\r",
      "                                                                               \r",
      "\r",
      " 42% (3 of 7) |###########               | Elapsed Time: 0:03:18 ETA:   0:03:14"
     ]
    },
    {
     "name": "stdout",
     "output_type": "stream",
     "text": [
      "2018-07-05 17:47:54 [INFO] src.evaluation.evaluator: Training DAGMM_NNAutoEncoder_withWindow on Syn Extreme Outliers (mis=0.675) with seed 1121684101\n"
     ]
    },
    {
     "name": "stderr",
     "output_type": "stream",
     "text": [
      "\r",
      "                                                                               \r",
      "\r",
      " 57% (4 of 7) |##############            | Elapsed Time: 0:03:22 ETA:   0:00:11"
     ]
    },
    {
     "name": "stdout",
     "output_type": "stream",
     "text": [
      "2018-07-05 17:47:58 [INFO] src.evaluation.evaluator: Training DAGMM_LSTMAutoEncoder_withWindow on Syn Extreme Outliers (mis=0.675) with seed 1121684101\n"
     ]
    },
    {
     "name": "stderr",
     "output_type": "stream",
     "text": [
      "\r",
      "                                                                               \r",
      "\r",
      " 71% (5 of 7) |##################        | Elapsed Time: 0:03:52 ETA:   0:01:00"
     ]
    },
    {
     "name": "stdout",
     "output_type": "stream",
     "text": [
      "2018-07-05 17:48:28 [INFO] src.evaluation.evaluator: Training Recurrent EBM on Syn Extreme Outliers (mis=0.675) with seed 1121684101\n"
     ]
    },
    {
     "name": "stderr",
     "output_type": "stream",
     "text": [
      "100%|██████████| 15/15 [00:06<00:00,  2.49it/s]\n",
      " 85% (6 of 7) |######################    | Elapsed Time: 0:04:01 ETA:   0:00:09"
     ]
    },
    {
     "name": "stdout",
     "output_type": "stream",
     "text": [
      "2018-07-05 17:48:37 [INFO] src.evaluation.evaluator: Training Donut on Syn Extreme Outliers (mis=0.675) with seed 1121684101\n"
     ]
    },
    {
     "name": "stderr",
     "output_type": "stream",
     "text": [
      "100%|██████████| 1/1 [00:03<00:00,  3.62s/it]\n",
      "100% (7 of 7) |##########################| Elapsed Time: 0:04:08 Time:  0:04:08\n",
      "N/A% (0 of 7) |                          | Elapsed Time: 0:00:00 ETA:  --:--:--"
     ]
    },
    {
     "name": "stdout",
     "output_type": "stream",
     "text": [
      "2018-07-05 17:48:44 [INFO] src.evaluation.evaluator: Training LSTM-AD on Syn Extreme Outliers (mis=0.9) with seed 1121684101\n"
     ]
    },
    {
     "name": "stderr",
     "output_type": "stream",
     "text": [
      "\r",
      "                                                                               \r",
      "\r",
      " 14% (1 of 7) |###                       | Elapsed Time: 0:01:41 ETA:   0:10:06"
     ]
    },
    {
     "name": "stdout",
     "output_type": "stream",
     "text": [
      "2018-07-05 17:50:25 [INFO] src.evaluation.evaluator: Training LSTMED on Syn Extreme Outliers (mis=0.9) with seed 1121684101\n"
     ]
    },
    {
     "name": "stderr",
     "output_type": "stream",
     "text": [
      "\r",
      "                                                                               \r",
      "\r",
      " 28% (2 of 7) |#######                   | Elapsed Time: 0:03:18 ETA:   0:08:05"
     ]
    },
    {
     "name": "stdout",
     "output_type": "stream",
     "text": [
      "2018-07-05 17:52:02 [INFO] src.evaluation.evaluator: Training DAGMM_NNAutoEncoder_withoutWindow on Syn Extreme Outliers (mis=0.9) with seed 1121684101\n",
      "2018-07-05 17:52:02 [WARNING] root: Determinant was negative! Clipping Eigenvalues to 0+epsilon from -8.521141126038856e-08\n",
      "2018-07-05 17:52:02 [WARNING] root: Determinant was negative! Clipping Eigenvalues to 0+epsilon from -5.95145053239321e-08\n",
      "2018-07-05 17:52:02 [WARNING] root: Determinant was negative! Clipping Eigenvalues to 0+epsilon from -9.396386246862676e-08\n",
      "2018-07-05 17:52:02 [WARNING] root: Determinant was negative! Clipping Eigenvalues to 0+epsilon from -2.465732951151267e-09\n",
      "2018-07-05 17:52:02 [WARNING] root: Determinant was negative! Clipping Eigenvalues to 0+epsilon from -6.831360366277295e-08\n",
      "2018-07-05 17:52:02 [WARNING] root: Determinant was negative! Clipping Eigenvalues to 0+epsilon from -4.307000267544936e-07\n",
      "2018-07-05 17:52:02 [ERROR] src.evaluation.evaluator: An exception occurred while training DAGMM_NNAutoEncoder_withoutWindow on Syn Extreme Outliers (mis=0.9): Lapack Error getrf : U(3,3) is 0, U is singular at /pytorch/aten/src/TH/generic/THTensorLapack.c:514\n",
      "2018-07-05 17:52:02 [ERROR] src.evaluation.evaluator: Traceback (most recent call last):\n",
      "  File \"../src/evaluation/evaluator.py\", line 122, in evaluate\n",
      "    det.fit(X_train.copy(), y_train.copy())\n",
      "  File \"../src/algorithms/dagmm.py\", line 203, in fit\n",
      "    self.dagmm_step(input_data.float())\n",
      "  File \"../src/algorithms/dagmm.py\", line 177, in dagmm_step\n",
      "    self.lambda_cov_diag)\n",
      "  File \"../src/algorithms/dagmm.py\", line 144, in loss_function\n",
      "    sample_energy, cov_diag = self.compute_energy(z, phi, mu, cov)\n",
      "  File \"../src/algorithms/dagmm.py\", line 113, in compute_energy\n",
      "    cov_inverse.append(torch.inverse(cov_k).unsqueeze(0))\n",
      "RuntimeError: Lapack Error getrf : U(3,3) is 0, U is singular at /pytorch/aten/src/TH/generic/THTensorLapack.c:514\n",
      "\n",
      "2018-07-05 17:52:02 [INFO] src.evaluation.evaluator: Training DAGMM_NNAutoEncoder_withWindow on Syn Extreme Outliers (mis=0.9) with seed 1121684101\n"
     ]
    },
    {
     "name": "stderr",
     "output_type": "stream",
     "text": [
      "\r",
      "                                                                               \r",
      "\r",
      " 57% (4 of 7) |##############            | Elapsed Time: 0:03:22 ETA:   0:00:05"
     ]
    },
    {
     "name": "stdout",
     "output_type": "stream",
     "text": [
      "2018-07-05 17:52:06 [INFO] src.evaluation.evaluator: Training DAGMM_LSTMAutoEncoder_withWindow on Syn Extreme Outliers (mis=0.9) with seed 1121684101\n"
     ]
    },
    {
     "name": "stderr",
     "output_type": "stream",
     "text": [
      "\r",
      "                                                                               \r",
      "\r",
      " 71% (5 of 7) |##################        | Elapsed Time: 0:03:52 ETA:   0:01:00"
     ]
    },
    {
     "name": "stdout",
     "output_type": "stream",
     "text": [
      "2018-07-05 17:52:36 [INFO] src.evaluation.evaluator: Training Recurrent EBM on Syn Extreme Outliers (mis=0.9) with seed 1121684101\n"
     ]
    },
    {
     "name": "stderr",
     "output_type": "stream",
     "text": [
      "100%|██████████| 15/15 [00:06<00:00,  2.48it/s]\n",
      " 85% (6 of 7) |######################    | Elapsed Time: 0:04:01 ETA:   0:00:09"
     ]
    },
    {
     "name": "stdout",
     "output_type": "stream",
     "text": [
      "2018-07-05 17:52:46 [INFO] src.evaluation.evaluator: Training Donut on Syn Extreme Outliers (mis=0.9) with seed 1121684101\n"
     ]
    },
    {
     "name": "stderr",
     "output_type": "stream",
     "text": [
      "100%|██████████| 1/1 [00:03<00:00,  3.79s/it]\n",
      "100% (7 of 7) |##########################| Elapsed Time: 0:04:08 Time:  0:04:08\n",
      "100% (5 of 5) |##########################| Elapsed Time: 0:21:05 Time:  0:21:05\n"
     ]
    },
    {
     "name": "stdout",
     "output_type": "stream",
     "text": [
      "2018-07-05 17:52:55 [INFO] src.evaluation.evaluator: Store evaluator results at /home/thomas/work/notebooks/data/missing-run-2-1121684101-2018-07-05-175255.pkl\n"
     ]
    },
    {
     "name": "stderr",
     "output_type": "stream",
     "text": [
      "N/A% (0 of 7) |                          | Elapsed Time: 0:00:00 ETA:  --:--:--"
     ]
    },
    {
     "name": "stdout",
     "output_type": "stream",
     "text": [
      "2018-07-05 17:52:55 [INFO] src.evaluation.evaluator: Training LSTM-AD on Syn Extreme Outliers (mis=0.0) with seed 1419748698\n"
     ]
    },
    {
     "name": "stderr",
     "output_type": "stream",
     "text": [
      "\r",
      "                                                                               \r",
      "\r",
      " 14% (1 of 7) |###                       | Elapsed Time: 0:01:41 ETA:   0:10:06"
     ]
    },
    {
     "name": "stdout",
     "output_type": "stream",
     "text": [
      "2018-07-05 17:54:36 [INFO] src.evaluation.evaluator: Training LSTMED on Syn Extreme Outliers (mis=0.0) with seed 1419748698\n"
     ]
    },
    {
     "name": "stderr",
     "output_type": "stream",
     "text": [
      "\r",
      "                                                                               \r",
      "\r",
      " 28% (2 of 7) |#######                   | Elapsed Time: 0:03:18 ETA:   0:08:05"
     ]
    },
    {
     "name": "stdout",
     "output_type": "stream",
     "text": [
      "2018-07-05 17:56:14 [INFO] src.evaluation.evaluator: Training DAGMM_NNAutoEncoder_withoutWindow on Syn Extreme Outliers (mis=0.0) with seed 1419748698\n",
      "2018-07-05 17:56:14 [WARNING] root: Determinant was negative! Clipping Eigenvalues to 0+epsilon from -3.16515560427888e-08\n",
      "2018-07-05 17:56:14 [WARNING] root: Determinant was negative! Clipping Eigenvalues to 0+epsilon from -5.866466068482623e-08\n",
      "2018-07-05 17:56:14 [WARNING] root: Determinant was negative! Clipping Eigenvalues to 0+epsilon from -3.6308275497276554e-08\n",
      "2018-07-05 17:56:14 [WARNING] root: Determinant was negative! Clipping Eigenvalues to 0+epsilon from -4.611270920662491e-09\n",
      "2018-07-05 17:56:15 [WARNING] root: Determinant was negative! Clipping Eigenvalues to 0+epsilon from -8.53738768569201e-08\n",
      "2018-07-05 17:56:15 [ERROR] src.evaluation.evaluator: An exception occurred while training DAGMM_NNAutoEncoder_withoutWindow on Syn Extreme Outliers (mis=0.0): Lapack Error getrf : U(3,3) is 0, U is singular at /pytorch/aten/src/TH/generic/THTensorLapack.c:514\n",
      "2018-07-05 17:56:15 [ERROR] src.evaluation.evaluator: Traceback (most recent call last):\n",
      "  File \"../src/evaluation/evaluator.py\", line 122, in evaluate\n",
      "    det.fit(X_train.copy(), y_train.copy())\n",
      "  File \"../src/algorithms/dagmm.py\", line 203, in fit\n",
      "    self.dagmm_step(input_data.float())\n",
      "  File \"../src/algorithms/dagmm.py\", line 177, in dagmm_step\n",
      "    self.lambda_cov_diag)\n",
      "  File \"../src/algorithms/dagmm.py\", line 144, in loss_function\n",
      "    sample_energy, cov_diag = self.compute_energy(z, phi, mu, cov)\n",
      "  File \"../src/algorithms/dagmm.py\", line 113, in compute_energy\n",
      "    cov_inverse.append(torch.inverse(cov_k).unsqueeze(0))\n",
      "RuntimeError: Lapack Error getrf : U(3,3) is 0, U is singular at /pytorch/aten/src/TH/generic/THTensorLapack.c:514\n",
      "\n"
     ]
    },
    {
     "name": "stderr",
     "output_type": "stream",
     "text": [
      "\r",
      "                                                                               \r",
      "\r",
      " 42% (3 of 7) |###########               | Elapsed Time: 0:03:19 ETA:   0:03:16"
     ]
    },
    {
     "name": "stdout",
     "output_type": "stream",
     "text": [
      "2018-07-05 17:56:15 [INFO] src.evaluation.evaluator: Training DAGMM_NNAutoEncoder_withWindow on Syn Extreme Outliers (mis=0.0) with seed 1419748698\n"
     ]
    },
    {
     "name": "stderr",
     "output_type": "stream",
     "text": [
      "\r",
      "                                                                               \r",
      "\r",
      " 57% (4 of 7) |##############            | Elapsed Time: 0:03:23 ETA:   0:00:11"
     ]
    },
    {
     "name": "stdout",
     "output_type": "stream",
     "text": [
      "2018-07-05 17:56:19 [INFO] src.evaluation.evaluator: Training DAGMM_LSTMAutoEncoder_withWindow on Syn Extreme Outliers (mis=0.0) with seed 1419748698\n"
     ]
    },
    {
     "name": "stderr",
     "output_type": "stream",
     "text": [
      "\r",
      "                                                                               \r",
      "\r",
      " 71% (5 of 7) |##################        | Elapsed Time: 0:03:53 ETA:   0:01:00"
     ]
    },
    {
     "name": "stdout",
     "output_type": "stream",
     "text": [
      "2018-07-05 17:56:49 [INFO] src.evaluation.evaluator: Training Recurrent EBM on Syn Extreme Outliers (mis=0.0) with seed 1419748698\n"
     ]
    },
    {
     "name": "stderr",
     "output_type": "stream",
     "text": [
      "100%|██████████| 15/15 [00:06<00:00,  2.48it/s]\n",
      " 85% (6 of 7) |######################    | Elapsed Time: 0:04:03 ETA:   0:00:09"
     ]
    },
    {
     "name": "stdout",
     "output_type": "stream",
     "text": [
      "2018-07-05 17:56:59 [INFO] src.evaluation.evaluator: Training Donut on Syn Extreme Outliers (mis=0.0) with seed 1419748698\n"
     ]
    },
    {
     "name": "stderr",
     "output_type": "stream",
     "text": [
      "\r",
      "  0%|          | 0/1 [00:00<?, ?it/s]"
     ]
    },
    {
     "name": "stdout",
     "output_type": "stream",
     "text": [
      "INFO:tensorflow:Restoring parameters from /tmp/tmp9cf9gtyo/variables.dat-1100\n",
      "2018-07-05 17:57:34 [INFO] tensorflow: Restoring parameters from /tmp/tmp9cf9gtyo/variables.dat-1100\n"
     ]
    },
    {
     "name": "stderr",
     "output_type": "stream",
     "text": [
      "100%|██████████| 1/1 [00:35<00:00, 35.16s/it]\n",
      "100% (7 of 7) |##########################| Elapsed Time: 0:04:41 Time:  0:04:41\n",
      "N/A% (0 of 7) |                          | Elapsed Time: 0:00:00 ETA:  --:--:--"
     ]
    },
    {
     "name": "stdout",
     "output_type": "stream",
     "text": [
      "2018-07-05 17:57:37 [INFO] src.evaluation.evaluator: Training LSTM-AD on Syn Extreme Outliers (mis=0.225) with seed 1419748698\n"
     ]
    },
    {
     "name": "stderr",
     "output_type": "stream",
     "text": [
      "\r",
      "                                                                               \r",
      "\r",
      " 14% (1 of 7) |###                       | Elapsed Time: 0:01:41 ETA:   0:10:11"
     ]
    },
    {
     "name": "stdout",
     "output_type": "stream",
     "text": [
      "2018-07-05 17:59:19 [INFO] src.evaluation.evaluator: Training LSTMED on Syn Extreme Outliers (mis=0.225) with seed 1419748698\n"
     ]
    },
    {
     "name": "stderr",
     "output_type": "stream",
     "text": [
      "\r",
      "                                                                               \r",
      "\r",
      " 28% (2 of 7) |#######                   | Elapsed Time: 0:03:18 ETA:   0:08:04"
     ]
    },
    {
     "name": "stdout",
     "output_type": "stream",
     "text": [
      "2018-07-05 18:00:56 [INFO] src.evaluation.evaluator: Training DAGMM_NNAutoEncoder_withoutWindow on Syn Extreme Outliers (mis=0.225) with seed 1419748698\n",
      "2018-07-05 18:00:56 [WARNING] root: Determinant was negative! Clipping Eigenvalues to 0+epsilon from -2.1230765412383334e-07\n",
      "2018-07-05 18:00:56 [WARNING] root: Determinant was negative! Clipping Eigenvalues to 0+epsilon from -5.880093567611766e-08\n",
      "2018-07-05 18:00:56 [WARNING] root: Determinant was negative! Clipping Eigenvalues to 0+epsilon from -2.3022100492653408e-07\n",
      "2018-07-05 18:00:56 [WARNING] root: Determinant was negative! Clipping Eigenvalues to 0+epsilon from -1.6023584237245814e-07\n",
      "2018-07-05 18:00:56 [WARNING] root: Determinant was negative! Clipping Eigenvalues to 0+epsilon from -3.7847215139663604e-07\n",
      "2018-07-05 18:00:56 [WARNING] root: Determinant was negative! Clipping Eigenvalues to 0+epsilon from -1.5464345779037103e-05\n",
      "2018-07-05 18:00:56 [WARNING] root: Determinant was negative! Clipping Eigenvalues to 0+epsilon from -9.927827022693236e-07\n",
      "2018-07-05 18:00:56 [WARNING] root: Determinant was negative! Clipping Eigenvalues to 0+epsilon from -7.73509398754868e-08\n",
      "2018-07-05 18:00:56 [WARNING] root: Determinant was negative! Clipping Eigenvalues to 0+epsilon from -1.2687513617493096e-07\n",
      "2018-07-05 18:00:56 [WARNING] root: Determinant was negative! Clipping Eigenvalues to 0+epsilon from -1.798693460841605e-07\n",
      "2018-07-05 18:00:56 [WARNING] root: Determinant was negative! Clipping Eigenvalues to 0+epsilon from -6.501225016108947e-07\n",
      "2018-07-05 18:00:56 [WARNING] root: Determinant was negative! Clipping Eigenvalues to 0+epsilon from -8.09061333484351e-08\n",
      "2018-07-05 18:00:56 [ERROR] src.evaluation.evaluator: An exception occurred while training DAGMM_NNAutoEncoder_withoutWindow on Syn Extreme Outliers (mis=0.225): Lapack Error getrf : U(3,3) is 0, U is singular at /pytorch/aten/src/TH/generic/THTensorLapack.c:514\n",
      "2018-07-05 18:00:56 [ERROR] src.evaluation.evaluator: Traceback (most recent call last):\n",
      "  File \"../src/evaluation/evaluator.py\", line 122, in evaluate\n",
      "    det.fit(X_train.copy(), y_train.copy())\n",
      "  File \"../src/algorithms/dagmm.py\", line 203, in fit\n",
      "    self.dagmm_step(input_data.float())\n",
      "  File \"../src/algorithms/dagmm.py\", line 177, in dagmm_step\n",
      "    self.lambda_cov_diag)\n",
      "  File \"../src/algorithms/dagmm.py\", line 144, in loss_function\n",
      "    sample_energy, cov_diag = self.compute_energy(z, phi, mu, cov)\n",
      "  File \"../src/algorithms/dagmm.py\", line 113, in compute_energy\n",
      "    cov_inverse.append(torch.inverse(cov_k).unsqueeze(0))\n",
      "RuntimeError: Lapack Error getrf : U(3,3) is 0, U is singular at /pytorch/aten/src/TH/generic/THTensorLapack.c:514\n",
      "\n"
     ]
    },
    {
     "name": "stderr",
     "output_type": "stream",
     "text": [
      "\r",
      "                                                                               \r",
      "\r",
      " 42% (3 of 7) |###########               | Elapsed Time: 0:03:19 ETA:   0:03:14"
     ]
    },
    {
     "name": "stdout",
     "output_type": "stream",
     "text": [
      "2018-07-05 18:00:56 [INFO] src.evaluation.evaluator: Training DAGMM_NNAutoEncoder_withWindow on Syn Extreme Outliers (mis=0.225) with seed 1419748698\n"
     ]
    },
    {
     "name": "stderr",
     "output_type": "stream",
     "text": [
      "\r",
      "                                                                               \r",
      "\r",
      " 57% (4 of 7) |##############            | Elapsed Time: 0:03:23 ETA:   0:00:11"
     ]
    },
    {
     "name": "stdout",
     "output_type": "stream",
     "text": [
      "2018-07-05 18:01:00 [INFO] src.evaluation.evaluator: Training DAGMM_LSTMAutoEncoder_withWindow on Syn Extreme Outliers (mis=0.225) with seed 1419748698\n"
     ]
    },
    {
     "name": "stderr",
     "output_type": "stream",
     "text": [
      "\r",
      "                                                                               \r",
      "\r",
      " 71% (5 of 7) |##################        | Elapsed Time: 0:03:53 ETA:   0:01:00"
     ]
    },
    {
     "name": "stdout",
     "output_type": "stream",
     "text": [
      "2018-07-05 18:01:30 [INFO] src.evaluation.evaluator: Training Recurrent EBM on Syn Extreme Outliers (mis=0.225) with seed 1419748698\n"
     ]
    },
    {
     "name": "stderr",
     "output_type": "stream",
     "text": [
      "100%|██████████| 15/15 [00:06<00:00,  2.48it/s]\n",
      " 85% (6 of 7) |######################    | Elapsed Time: 0:04:03 ETA:   0:00:10"
     ]
    },
    {
     "name": "stdout",
     "output_type": "stream",
     "text": [
      "2018-07-05 18:01:40 [INFO] src.evaluation.evaluator: Training Donut on Syn Extreme Outliers (mis=0.225) with seed 1419748698\n"
     ]
    },
    {
     "name": "stderr",
     "output_type": "stream",
     "text": [
      "100%|██████████| 1/1 [00:04<00:00,  4.19s/it]\n",
      "100% (7 of 7) |##########################| Elapsed Time: 0:04:10 Time:  0:04:10\n",
      "N/A% (0 of 7) |                          | Elapsed Time: 0:00:00 ETA:  --:--:--"
     ]
    },
    {
     "name": "stdout",
     "output_type": "stream",
     "text": [
      "2018-07-05 18:01:48 [INFO] src.evaluation.evaluator: Training LSTM-AD on Syn Extreme Outliers (mis=0.45) with seed 1419748698\n"
     ]
    },
    {
     "name": "stderr",
     "output_type": "stream",
     "text": [
      "\r",
      "                                                                               \r",
      "\r",
      " 14% (1 of 7) |###                       | Elapsed Time: 0:01:40 ETA:   0:10:05"
     ]
    },
    {
     "name": "stdout",
     "output_type": "stream",
     "text": [
      "2018-07-05 18:03:28 [INFO] src.evaluation.evaluator: Training LSTMED on Syn Extreme Outliers (mis=0.45) with seed 1419748698\n"
     ]
    },
    {
     "name": "stderr",
     "output_type": "stream",
     "text": [
      "\r",
      "                                                                               \r",
      "\r",
      " 28% (2 of 7) |#######                   | Elapsed Time: 0:03:17 ETA:   0:08:05"
     ]
    },
    {
     "name": "stdout",
     "output_type": "stream",
     "text": [
      "2018-07-05 18:05:06 [INFO] src.evaluation.evaluator: Training DAGMM_NNAutoEncoder_withoutWindow on Syn Extreme Outliers (mis=0.45) with seed 1419748698\n",
      "2018-07-05 18:05:06 [WARNING] root: Determinant was negative! Clipping Eigenvalues to 0+epsilon from -2.704906592043699e-07\n",
      "2018-07-05 18:05:06 [WARNING] root: Determinant was negative! Clipping Eigenvalues to 0+epsilon from -2.1487799983788136e-07\n",
      "2018-07-05 18:05:06 [WARNING] root: Determinant was negative! Clipping Eigenvalues to 0+epsilon from -5.50773393115378e-07\n",
      "2018-07-05 18:05:06 [WARNING] root: Determinant was negative! Clipping Eigenvalues to 0+epsilon from -4.575193202072114e-07\n",
      "2018-07-05 18:05:06 [WARNING] root: Determinant was negative! Clipping Eigenvalues to 0+epsilon from -1.425034668045555e-07\n",
      "2018-07-05 18:05:06 [WARNING] root: Determinant was negative! Clipping Eigenvalues to 0+epsilon from -5.585671374319645e-07\n",
      "2018-07-05 18:05:06 [WARNING] root: Determinant was negative! Clipping Eigenvalues to 0+epsilon from -8.607663204429628e-08\n",
      "2018-07-05 18:05:06 [WARNING] root: Determinant was negative! Clipping Eigenvalues to 0+epsilon from -3.6286871818447253e-07\n",
      "2018-07-05 18:05:06 [WARNING] root: Determinant was negative! Clipping Eigenvalues to 0+epsilon from -1.7858728540431912e-07\n",
      "2018-07-05 18:05:06 [WARNING] root: Determinant was negative! Clipping Eigenvalues to 0+epsilon from -1.3935678566667775e-07\n",
      "2018-07-05 18:05:06 [WARNING] root: Determinant was negative! Clipping Eigenvalues to 0+epsilon from -4.1907404124685854e-07\n",
      "2018-07-05 18:05:06 [WARNING] root: Determinant was negative! Clipping Eigenvalues to 0+epsilon from -2.4391243869104073e-07\n",
      "2018-07-05 18:05:06 [WARNING] root: Determinant was negative! Clipping Eigenvalues to 0+epsilon from -3.103608747778708e-08\n",
      "2018-07-05 18:05:06 [WARNING] root: Determinant was negative! Clipping Eigenvalues to 0+epsilon from -5.529160489459173e-07\n",
      "2018-07-05 18:05:06 [WARNING] root: Determinant was negative! Clipping Eigenvalues to 0+epsilon from -3.399030390482949e-07\n",
      "2018-07-05 18:05:06 [WARNING] root: Determinant was negative! Clipping Eigenvalues to 0+epsilon from -1.62608898790495e-07\n",
      "2018-07-05 18:05:06 [WARNING] root: Determinant was negative! Clipping Eigenvalues to 0+epsilon from -1.830372866606922e-07\n",
      "2018-07-05 18:05:06 [WARNING] root: Determinant was negative! Clipping Eigenvalues to 0+epsilon from -5.202563784223457e-07\n",
      "2018-07-05 18:05:06 [WARNING] root: Determinant was negative! Clipping Eigenvalues to 0+epsilon from -7.470902829709303e-08\n",
      "2018-07-05 18:05:06 [WARNING] root: Determinant was negative! Clipping Eigenvalues to 0+epsilon from -3.108771693405288e-07\n",
      "2018-07-05 18:05:06 [WARNING] root: Determinant was negative! Clipping Eigenvalues to 0+epsilon from -6.679637749584799e-07\n",
      "2018-07-05 18:05:06 [WARNING] root: Determinant was negative! Clipping Eigenvalues to 0+epsilon from -9.063981565304857e-07\n",
      "2018-07-05 18:05:06 [WARNING] root: Determinant was negative! Clipping Eigenvalues to 0+epsilon from -5.939628522355633e-08\n",
      "2018-07-05 18:05:06 [WARNING] root: Determinant was negative! Clipping Eigenvalues to 0+epsilon from -6.235087539607775e-07\n",
      "2018-07-05 18:05:06 [WARNING] root: Determinant was negative! Clipping Eigenvalues to 0+epsilon from -1.378315204192404e-07\n",
      "2018-07-05 18:05:06 [WARNING] root: Determinant was negative! Clipping Eigenvalues to 0+epsilon from -1.1772414865163228e-07\n",
      "2018-07-05 18:05:06 [WARNING] root: Determinant was negative! Clipping Eigenvalues to 0+epsilon from -6.444314237796789e-08\n",
      "2018-07-05 18:05:06 [WARNING] root: Determinant was negative! Clipping Eigenvalues to 0+epsilon from -3.5741260262511787e-07\n",
      "2018-07-05 18:05:06 [WARNING] root: Determinant was negative! Clipping Eigenvalues to 0+epsilon from -1.2549433847652836e-07\n",
      "2018-07-05 18:05:06 [WARNING] root: Determinant was negative! Clipping Eigenvalues to 0+epsilon from -6.504450880129298e-07\n",
      "2018-07-05 18:05:06 [WARNING] root: Determinant was negative! Clipping Eigenvalues to 0+epsilon from -3.768561995798336e-08\n",
      "2018-07-05 18:05:06 [WARNING] root: Determinant was negative! Clipping Eigenvalues to 0+epsilon from -6.308609385996533e-07\n",
      "2018-07-05 18:05:06 [WARNING] root: Determinant was negative! Clipping Eigenvalues to 0+epsilon from -1.2022852047266497e-07\n",
      "2018-07-05 18:05:06 [WARNING] root: Determinant was negative! Clipping Eigenvalues to 0+epsilon from -4.969907081431302e-07\n",
      "2018-07-05 18:05:06 [WARNING] root: Determinant was negative! Clipping Eigenvalues to 0+epsilon from -3.434859365825105e-07\n",
      "2018-07-05 18:05:06 [WARNING] root: Determinant was negative! Clipping Eigenvalues to 0+epsilon from -4.9101640087201304e-08\n",
      "2018-07-05 18:05:06 [ERROR] src.evaluation.evaluator: An exception occurred while training DAGMM_NNAutoEncoder_withoutWindow on Syn Extreme Outliers (mis=0.45): Lapack Error getrf : U(3,3) is 0, U is singular at /pytorch/aten/src/TH/generic/THTensorLapack.c:514\n",
      "2018-07-05 18:05:06 [ERROR] src.evaluation.evaluator: Traceback (most recent call last):\n",
      "  File \"../src/evaluation/evaluator.py\", line 122, in evaluate\n",
      "    det.fit(X_train.copy(), y_train.copy())\n",
      "  File \"../src/algorithms/dagmm.py\", line 203, in fit\n",
      "    self.dagmm_step(input_data.float())\n",
      "  File \"../src/algorithms/dagmm.py\", line 177, in dagmm_step\n",
      "    self.lambda_cov_diag)\n",
      "  File \"../src/algorithms/dagmm.py\", line 144, in loss_function\n",
      "    sample_energy, cov_diag = self.compute_energy(z, phi, mu, cov)\n",
      "  File \"../src/algorithms/dagmm.py\", line 113, in compute_energy\n",
      "    cov_inverse.append(torch.inverse(cov_k).unsqueeze(0))\n",
      "RuntimeError: Lapack Error getrf : U(3,3) is 0, U is singular at /pytorch/aten/src/TH/generic/THTensorLapack.c:514\n",
      "\n"
     ]
    },
    {
     "name": "stderr",
     "output_type": "stream",
     "text": [
      "\r",
      "                                                                               \r",
      "\r",
      " 42% (3 of 7) |###########               | Elapsed Time: 0:03:18 ETA:   0:03:15"
     ]
    },
    {
     "name": "stdout",
     "output_type": "stream",
     "text": [
      "2018-07-05 18:05:06 [INFO] src.evaluation.evaluator: Training DAGMM_NNAutoEncoder_withWindow on Syn Extreme Outliers (mis=0.45) with seed 1419748698\n"
     ]
    },
    {
     "name": "stderr",
     "output_type": "stream",
     "text": [
      "\r",
      "                                                                               \r",
      "\r",
      " 57% (4 of 7) |##############            | Elapsed Time: 0:03:22 ETA:   0:00:11"
     ]
    },
    {
     "name": "stdout",
     "output_type": "stream",
     "text": [
      "2018-07-05 18:05:10 [INFO] src.evaluation.evaluator: Training DAGMM_LSTMAutoEncoder_withWindow on Syn Extreme Outliers (mis=0.45) with seed 1419748698\n"
     ]
    },
    {
     "name": "stderr",
     "output_type": "stream",
     "text": [
      "\r",
      "                                                                               \r",
      "\r",
      " 71% (5 of 7) |##################        | Elapsed Time: 0:03:52 ETA:   0:01:00"
     ]
    },
    {
     "name": "stdout",
     "output_type": "stream",
     "text": [
      "2018-07-05 18:05:40 [INFO] src.evaluation.evaluator: Training Recurrent EBM on Syn Extreme Outliers (mis=0.45) with seed 1419748698\n"
     ]
    },
    {
     "name": "stderr",
     "output_type": "stream",
     "text": [
      "100%|██████████| 15/15 [00:06<00:00,  2.45it/s]\n",
      " 85% (6 of 7) |######################    | Elapsed Time: 0:04:03 ETA:   0:00:10"
     ]
    },
    {
     "name": "stdout",
     "output_type": "stream",
     "text": [
      "2018-07-05 18:05:51 [INFO] src.evaluation.evaluator: Training Donut on Syn Extreme Outliers (mis=0.45) with seed 1419748698\n"
     ]
    },
    {
     "name": "stderr",
     "output_type": "stream",
     "text": [
      "100%|██████████| 1/1 [00:04<00:00,  4.39s/it]\n",
      "100% (7 of 7) |##########################| Elapsed Time: 0:04:10 Time:  0:04:10\n",
      "N/A% (0 of 7) |                          | Elapsed Time: 0:00:00 ETA:  --:--:--"
     ]
    },
    {
     "name": "stdout",
     "output_type": "stream",
     "text": [
      "2018-07-05 18:05:58 [INFO] src.evaluation.evaluator: Training LSTM-AD on Syn Extreme Outliers (mis=0.675) with seed 1419748698\n"
     ]
    },
    {
     "name": "stderr",
     "output_type": "stream",
     "text": [
      "\r",
      "                                                                               \r",
      "\r",
      " 14% (1 of 7) |###                       | Elapsed Time: 0:01:41 ETA:   0:10:06"
     ]
    },
    {
     "name": "stdout",
     "output_type": "stream",
     "text": [
      "2018-07-05 18:07:39 [INFO] src.evaluation.evaluator: Training LSTMED on Syn Extreme Outliers (mis=0.675) with seed 1419748698\n"
     ]
    },
    {
     "name": "stderr",
     "output_type": "stream",
     "text": [
      "\r",
      "                                                                               \r",
      "\r",
      " 28% (2 of 7) |#######                   | Elapsed Time: 0:03:18 ETA:   0:08:05"
     ]
    },
    {
     "name": "stdout",
     "output_type": "stream",
     "text": [
      "2018-07-05 18:09:16 [INFO] src.evaluation.evaluator: Training DAGMM_NNAutoEncoder_withoutWindow on Syn Extreme Outliers (mis=0.675) with seed 1419748698\n",
      "2018-07-05 18:09:16 [WARNING] root: Determinant was negative! Clipping Eigenvalues to 0+epsilon from -3.413144895603182e-07\n",
      "2018-07-05 18:09:16 [WARNING] root: Determinant was negative! Clipping Eigenvalues to 0+epsilon from -2.3209602773022198e-07\n",
      "2018-07-05 18:09:16 [WARNING] root: Determinant was negative! Clipping Eigenvalues to 0+epsilon from -3.114686535354849e-07\n",
      "2018-07-05 18:09:16 [WARNING] root: Determinant was negative! Clipping Eigenvalues to 0+epsilon from -1.6044380046764672e-08\n",
      "2018-07-05 18:09:16 [WARNING] root: Determinant was negative! Clipping Eigenvalues to 0+epsilon from -2.4104902962562846e-08\n",
      "2018-07-05 18:09:16 [WARNING] root: Determinant was negative! Clipping Eigenvalues to 0+epsilon from -3.1127461852520355e-07\n",
      "2018-07-05 18:09:16 [WARNING] root: Determinant was negative! Clipping Eigenvalues to 0+epsilon from -8.876746449004713e-09\n",
      "2018-07-05 18:09:16 [WARNING] root: Determinant was negative! Clipping Eigenvalues to 0+epsilon from -1.6490282916947763e-08\n",
      "2018-07-05 18:09:16 [WARNING] root: Determinant was negative! Clipping Eigenvalues to 0+epsilon from -2.0485515506152296e-07\n",
      "2018-07-05 18:09:16 [WARNING] root: Determinant was negative! Clipping Eigenvalues to 0+epsilon from -2.6707439815254475e-07\n",
      "2018-07-05 18:09:17 [WARNING] root: Determinant was negative! Clipping Eigenvalues to 0+epsilon from -5.048024149800767e-07\n",
      "2018-07-05 18:09:17 [WARNING] root: Determinant was negative! Clipping Eigenvalues to 0+epsilon from -4.196121494715044e-07\n",
      "2018-07-05 18:09:17 [WARNING] root: Determinant was negative! Clipping Eigenvalues to 0+epsilon from -3.109831823167042e-07\n",
      "2018-07-05 18:09:17 [WARNING] root: Determinant was negative! Clipping Eigenvalues to 0+epsilon from -3.501677099393419e-07\n",
      "2018-07-05 18:09:17 [WARNING] root: Determinant was negative! Clipping Eigenvalues to 0+epsilon from -3.189157382621488e-07\n",
      "2018-07-05 18:09:17 [WARNING] root: Determinant was negative! Clipping Eigenvalues to 0+epsilon from -7.272981328299011e-09\n",
      "2018-07-05 18:09:17 [WARNING] root: Determinant was negative! Clipping Eigenvalues to 0+epsilon from -3.272973287948844e-07\n",
      "2018-07-05 18:09:17 [WARNING] root: Determinant was negative! Clipping Eigenvalues to 0+epsilon from -9.673998491166458e-09\n",
      "2018-07-05 18:09:17 [WARNING] root: Determinant was negative! Clipping Eigenvalues to 0+epsilon from -1.317274609391461e-07\n",
      "2018-07-05 18:09:17 [WARNING] root: Determinant was negative! Clipping Eigenvalues to 0+epsilon from -1.7534520679873822e-07\n",
      "2018-07-05 18:09:17 [WARNING] root: Determinant was negative! Clipping Eigenvalues to 0+epsilon from -1.027385607699216e-07\n",
      "2018-07-05 18:09:17 [WARNING] root: Determinant was negative! Clipping Eigenvalues to 0+epsilon from -1.710836805557392e-08\n",
      "2018-07-05 18:09:17 [WARNING] root: Determinant was negative! Clipping Eigenvalues to 0+epsilon from -3.532786507776109e-08\n",
      "2018-07-05 18:09:17 [WARNING] root: Determinant was negative! Clipping Eigenvalues to 0+epsilon from -2.356983408446922e-08\n",
      "2018-07-05 18:09:17 [WARNING] root: Determinant was negative! Clipping Eigenvalues to 0+epsilon from -8.037353040890594e-07\n",
      "2018-07-05 18:09:17 [WARNING] root: Determinant was negative! Clipping Eigenvalues to 0+epsilon from -3.257196112826932e-07\n",
      "2018-07-05 18:09:17 [WARNING] root: Determinant was negative! Clipping Eigenvalues to 0+epsilon from -3.301643971553858e-07\n",
      "2018-07-05 18:09:17 [WARNING] root: Determinant was negative! Clipping Eigenvalues to 0+epsilon from -2.1541417538628593e-07\n",
      "2018-07-05 18:09:17 [ERROR] src.evaluation.evaluator: An exception occurred while training DAGMM_NNAutoEncoder_withoutWindow on Syn Extreme Outliers (mis=0.675): Lapack Error getrf : U(3,3) is 0, U is singular at /pytorch/aten/src/TH/generic/THTensorLapack.c:514\n",
      "2018-07-05 18:09:17 [ERROR] src.evaluation.evaluator: Traceback (most recent call last):\n",
      "  File \"../src/evaluation/evaluator.py\", line 122, in evaluate\n",
      "    det.fit(X_train.copy(), y_train.copy())\n",
      "  File \"../src/algorithms/dagmm.py\", line 203, in fit\n",
      "    self.dagmm_step(input_data.float())\n",
      "  File \"../src/algorithms/dagmm.py\", line 177, in dagmm_step\n",
      "    self.lambda_cov_diag)\n",
      "  File \"../src/algorithms/dagmm.py\", line 144, in loss_function\n",
      "    sample_energy, cov_diag = self.compute_energy(z, phi, mu, cov)\n",
      "  File \"../src/algorithms/dagmm.py\", line 113, in compute_energy\n",
      "    cov_inverse.append(torch.inverse(cov_k).unsqueeze(0))\n",
      "RuntimeError: Lapack Error getrf : U(3,3) is 0, U is singular at /pytorch/aten/src/TH/generic/THTensorLapack.c:514\n",
      "\n"
     ]
    },
    {
     "name": "stderr",
     "output_type": "stream",
     "text": [
      "\r",
      "                                                                               \r",
      "\r",
      " 42% (3 of 7) |###########               | Elapsed Time: 0:03:18 ETA:   0:03:14"
     ]
    },
    {
     "name": "stdout",
     "output_type": "stream",
     "text": [
      "2018-07-05 18:09:17 [INFO] src.evaluation.evaluator: Training DAGMM_NNAutoEncoder_withWindow on Syn Extreme Outliers (mis=0.675) with seed 1419748698\n"
     ]
    },
    {
     "name": "stderr",
     "output_type": "stream",
     "text": [
      "\r",
      "                                                                               \r",
      "\r",
      " 57% (4 of 7) |##############            | Elapsed Time: 0:03:22 ETA:   0:00:11"
     ]
    },
    {
     "name": "stdout",
     "output_type": "stream",
     "text": [
      "2018-07-05 18:09:21 [INFO] src.evaluation.evaluator: Training DAGMM_LSTMAutoEncoder_withWindow on Syn Extreme Outliers (mis=0.675) with seed 1419748698\n"
     ]
    },
    {
     "name": "stderr",
     "output_type": "stream",
     "text": [
      "\r",
      "                                                                               \r",
      "\r",
      " 71% (5 of 7) |##################        | Elapsed Time: 0:03:52 ETA:   0:01:00"
     ]
    },
    {
     "name": "stdout",
     "output_type": "stream",
     "text": [
      "2018-07-05 18:09:51 [INFO] src.evaluation.evaluator: Training Recurrent EBM on Syn Extreme Outliers (mis=0.675) with seed 1419748698\n"
     ]
    },
    {
     "name": "stderr",
     "output_type": "stream",
     "text": [
      "100%|██████████| 15/15 [00:06<00:00,  2.46it/s]\n",
      " 85% (6 of 7) |######################    | Elapsed Time: 0:04:02 ETA:   0:00:10"
     ]
    },
    {
     "name": "stdout",
     "output_type": "stream",
     "text": [
      "2018-07-05 18:10:01 [INFO] src.evaluation.evaluator: Training Donut on Syn Extreme Outliers (mis=0.675) with seed 1419748698\n"
     ]
    },
    {
     "name": "stderr",
     "output_type": "stream",
     "text": [
      "100%|██████████| 1/1 [00:04<00:00,  4.93s/it]\n",
      "100% (7 of 7) |##########################| Elapsed Time: 0:04:11 Time:  0:04:11\n",
      "N/A% (0 of 7) |                          | Elapsed Time: 0:00:00 ETA:  --:--:--"
     ]
    },
    {
     "name": "stdout",
     "output_type": "stream",
     "text": [
      "2018-07-05 18:10:10 [INFO] src.evaluation.evaluator: Training LSTM-AD on Syn Extreme Outliers (mis=0.9) with seed 1419748698\n"
     ]
    },
    {
     "name": "stderr",
     "output_type": "stream",
     "text": [
      "\r",
      "                                                                               \r",
      "\r",
      " 14% (1 of 7) |###                       | Elapsed Time: 0:01:41 ETA:   0:10:06"
     ]
    },
    {
     "name": "stdout",
     "output_type": "stream",
     "text": [
      "2018-07-05 18:11:51 [INFO] src.evaluation.evaluator: Training LSTMED on Syn Extreme Outliers (mis=0.9) with seed 1419748698\n"
     ]
    },
    {
     "name": "stderr",
     "output_type": "stream",
     "text": [
      "\r",
      "                                                                               \r",
      "\r",
      " 28% (2 of 7) |#######                   | Elapsed Time: 0:03:18 ETA:   0:08:05"
     ]
    },
    {
     "name": "stdout",
     "output_type": "stream",
     "text": [
      "2018-07-05 18:13:28 [INFO] src.evaluation.evaluator: Training DAGMM_NNAutoEncoder_withoutWindow on Syn Extreme Outliers (mis=0.9) with seed 1419748698\n",
      "2018-07-05 18:13:28 [WARNING] root: Determinant was negative! Clipping Eigenvalues to 0+epsilon from -1.1901716590045908e-07\n",
      "2018-07-05 18:13:28 [WARNING] root: Determinant was negative! Clipping Eigenvalues to 0+epsilon from -5.6539004589239994e-08\n",
      "2018-07-05 18:13:28 [WARNING] root: Determinant was negative! Clipping Eigenvalues to 0+epsilon from -1.86934805412875e-08\n",
      "2018-07-05 18:13:28 [WARNING] root: Determinant was negative! Clipping Eigenvalues to 0+epsilon from -1.1673520816657401e-07\n",
      "2018-07-05 18:13:28 [WARNING] root: Determinant was negative! Clipping Eigenvalues to 0+epsilon from -2.124678388781831e-07\n",
      "2018-07-05 18:13:28 [WARNING] root: Determinant was negative! Clipping Eigenvalues to 0+epsilon from -1.2207094002292251e-08\n",
      "2018-07-05 18:13:28 [ERROR] src.evaluation.evaluator: An exception occurred while training DAGMM_NNAutoEncoder_withoutWindow on Syn Extreme Outliers (mis=0.9): Lapack Error getrf : U(3,3) is 0, U is singular at /pytorch/aten/src/TH/generic/THTensorLapack.c:514\n",
      "2018-07-05 18:13:28 [ERROR] src.evaluation.evaluator: Traceback (most recent call last):\n",
      "  File \"../src/evaluation/evaluator.py\", line 122, in evaluate\n",
      "    det.fit(X_train.copy(), y_train.copy())\n",
      "  File \"../src/algorithms/dagmm.py\", line 203, in fit\n",
      "    self.dagmm_step(input_data.float())\n",
      "  File \"../src/algorithms/dagmm.py\", line 177, in dagmm_step\n",
      "    self.lambda_cov_diag)\n",
      "  File \"../src/algorithms/dagmm.py\", line 144, in loss_function\n",
      "    sample_energy, cov_diag = self.compute_energy(z, phi, mu, cov)\n",
      "  File \"../src/algorithms/dagmm.py\", line 113, in compute_energy\n",
      "    cov_inverse.append(torch.inverse(cov_k).unsqueeze(0))\n",
      "RuntimeError: Lapack Error getrf : U(3,3) is 0, U is singular at /pytorch/aten/src/TH/generic/THTensorLapack.c:514\n",
      "\n",
      "2018-07-05 18:13:28 [INFO] src.evaluation.evaluator: Training DAGMM_NNAutoEncoder_withWindow on Syn Extreme Outliers (mis=0.9) with seed 1419748698\n"
     ]
    },
    {
     "name": "stderr",
     "output_type": "stream",
     "text": [
      "\r",
      "                                                                               \r",
      "\r",
      " 57% (4 of 7) |##############            | Elapsed Time: 0:03:22 ETA:   0:00:05"
     ]
    },
    {
     "name": "stdout",
     "output_type": "stream",
     "text": [
      "2018-07-05 18:13:32 [INFO] src.evaluation.evaluator: Training DAGMM_LSTMAutoEncoder_withWindow on Syn Extreme Outliers (mis=0.9) with seed 1419748698\n"
     ]
    },
    {
     "name": "stderr",
     "output_type": "stream",
     "text": [
      "\r",
      "                                                                               \r",
      "\r",
      " 71% (5 of 7) |##################        | Elapsed Time: 0:03:52 ETA:   0:01:00"
     ]
    },
    {
     "name": "stdout",
     "output_type": "stream",
     "text": [
      "2018-07-05 18:14:02 [INFO] src.evaluation.evaluator: Training Recurrent EBM on Syn Extreme Outliers (mis=0.9) with seed 1419748698\n"
     ]
    },
    {
     "name": "stderr",
     "output_type": "stream",
     "text": [
      "100%|██████████| 15/15 [00:06<00:00,  2.45it/s]\n",
      " 85% (6 of 7) |######################    | Elapsed Time: 0:04:02 ETA:   0:00:10"
     ]
    },
    {
     "name": "stdout",
     "output_type": "stream",
     "text": [
      "2018-07-05 18:14:12 [INFO] src.evaluation.evaluator: Training Donut on Syn Extreme Outliers (mis=0.9) with seed 1419748698\n"
     ]
    },
    {
     "name": "stderr",
     "output_type": "stream",
     "text": [
      "100%|██████████| 1/1 [00:04<00:00,  4.79s/it]\n",
      "100% (7 of 7) |##########################| Elapsed Time: 0:04:11 Time:  0:04:11\n",
      "100% (5 of 5) |##########################| Elapsed Time: 0:21:25 Time:  0:21:25\n"
     ]
    },
    {
     "name": "stdout",
     "output_type": "stream",
     "text": [
      "2018-07-05 18:14:23 [INFO] src.evaluation.evaluator: Store evaluator results at /home/thomas/work/notebooks/data/missing-run-3-1419748698-2018-07-05-181423.pkl\n"
     ]
    },
    {
     "name": "stderr",
     "output_type": "stream",
     "text": [
      "N/A% (0 of 7) |                          | Elapsed Time: 0:00:00 ETA:  --:--:--"
     ]
    },
    {
     "name": "stdout",
     "output_type": "stream",
     "text": [
      "2018-07-05 18:14:23 [INFO] src.evaluation.evaluator: Training LSTM-AD on Syn Extreme Outliers (mis=0.0) with seed 2984800904\n"
     ]
    },
    {
     "name": "stderr",
     "output_type": "stream",
     "text": [
      "\r",
      "                                                                               \r",
      "\r",
      " 14% (1 of 7) |###                       | Elapsed Time: 0:01:41 ETA:   0:10:07"
     ]
    },
    {
     "name": "stdout",
     "output_type": "stream",
     "text": [
      "2018-07-05 18:16:04 [INFO] src.evaluation.evaluator: Training LSTMED on Syn Extreme Outliers (mis=0.0) with seed 2984800904\n"
     ]
    },
    {
     "name": "stderr",
     "output_type": "stream",
     "text": [
      "\r",
      "                                                                               \r",
      "\r",
      " 28% (2 of 7) |#######                   | Elapsed Time: 0:03:18 ETA:   0:08:04"
     ]
    },
    {
     "name": "stdout",
     "output_type": "stream",
     "text": [
      "2018-07-05 18:17:41 [INFO] src.evaluation.evaluator: Training DAGMM_NNAutoEncoder_withoutWindow on Syn Extreme Outliers (mis=0.0) with seed 2984800904\n",
      "2018-07-05 18:17:42 [WARNING] root: Determinant was negative! Clipping Eigenvalues to 0+epsilon from -2.34809842680761e-08\n",
      "2018-07-05 18:17:42 [WARNING] root: Determinant was negative! Clipping Eigenvalues to 0+epsilon from -9.727470740017452e-08\n",
      "2018-07-05 18:17:42 [WARNING] root: Determinant was negative! Clipping Eigenvalues to 0+epsilon from -1.0264737948517677e-09\n",
      "2018-07-05 18:17:42 [WARNING] root: Determinant was negative! Clipping Eigenvalues to 0+epsilon from -3.5237928130982255e-08\n",
      "2018-07-05 18:17:42 [WARNING] root: Determinant was negative! Clipping Eigenvalues to 0+epsilon from -1.2259355308685826e-08\n",
      "2018-07-05 18:17:42 [WARNING] root: Determinant was negative! Clipping Eigenvalues to 0+epsilon from -4.149342203163542e-08\n",
      "2018-07-05 18:17:43 [WARNING] root: Determinant was negative! Clipping Eigenvalues to 0+epsilon from -1.863344500918629e-08\n",
      "2018-07-05 18:17:43 [WARNING] root: Determinant was negative! Clipping Eigenvalues to 0+epsilon from -4.820798338300847e-08\n",
      "2018-07-05 18:17:43 [WARNING] root: Determinant was negative! Clipping Eigenvalues to 0+epsilon from -2.9600029094467573e-08\n",
      "2018-07-05 18:17:43 [WARNING] root: Determinant was negative! Clipping Eigenvalues to 0+epsilon from -1.159028897745884e-06\n",
      "2018-07-05 18:17:43 [WARNING] root: Determinant was negative! Clipping Eigenvalues to 0+epsilon from -9.312930160376709e-07\n",
      "2018-07-05 18:17:43 [WARNING] root: Determinant was negative! Clipping Eigenvalues to 0+epsilon from -4.556401922428677e-09\n",
      "2018-07-05 18:17:43 [WARNING] root: Determinant was negative! Clipping Eigenvalues to 0+epsilon from -7.945079232740682e-06\n",
      "2018-07-05 18:17:43 [WARNING] root: Determinant was negative! Clipping Eigenvalues to 0+epsilon from -7.681614079046994e-06\n",
      "2018-07-05 18:17:43 [WARNING] root: Determinant was negative! Clipping Eigenvalues to 0+epsilon from -1.5950004126352724e-06\n",
      "2018-07-05 18:17:43 [WARNING] root: Determinant was negative! Clipping Eigenvalues to 0+epsilon from -1.4779194543734775e-06\n",
      "2018-07-05 18:17:44 [WARNING] root: Determinant was negative! Clipping Eigenvalues to 0+epsilon from -5.198069743528322e-07\n",
      "2018-07-05 18:17:44 [WARNING] root: Determinant was negative! Clipping Eigenvalues to 0+epsilon from -6.898240485497809e-07\n"
     ]
    },
    {
     "name": "stderr",
     "output_type": "stream",
     "text": [
      "\r",
      "                                                                               \r",
      "\r",
      " 42% (3 of 7) |###########               | Elapsed Time: 0:03:22 ETA:   0:00:16"
     ]
    },
    {
     "name": "stdout",
     "output_type": "stream",
     "text": [
      "2018-07-05 18:17:45 [INFO] src.evaluation.evaluator: Training DAGMM_NNAutoEncoder_withWindow on Syn Extreme Outliers (mis=0.0) with seed 2984800904\n"
     ]
    },
    {
     "name": "stderr",
     "output_type": "stream",
     "text": [
      "\r",
      "                                                                               \r",
      "\r",
      " 57% (4 of 7) |##############            | Elapsed Time: 0:03:26 ETA:   0:00:11"
     ]
    },
    {
     "name": "stdout",
     "output_type": "stream",
     "text": [
      "2018-07-05 18:17:49 [INFO] src.evaluation.evaluator: Training DAGMM_LSTMAutoEncoder_withWindow on Syn Extreme Outliers (mis=0.0) with seed 2984800904\n"
     ]
    },
    {
     "name": "stderr",
     "output_type": "stream",
     "text": [
      "\r",
      "                                                                               \r",
      "\r",
      " 71% (5 of 7) |##################        | Elapsed Time: 0:03:56 ETA:   0:01:00"
     ]
    },
    {
     "name": "stdout",
     "output_type": "stream",
     "text": [
      "2018-07-05 18:18:19 [INFO] src.evaluation.evaluator: Training Recurrent EBM on Syn Extreme Outliers (mis=0.0) with seed 2984800904\n"
     ]
    },
    {
     "name": "stderr",
     "output_type": "stream",
     "text": [
      "100%|██████████| 15/15 [00:06<00:00,  2.45it/s]\n",
      " 85% (6 of 7) |######################    | Elapsed Time: 0:04:06 ETA:   0:00:10"
     ]
    },
    {
     "name": "stdout",
     "output_type": "stream",
     "text": [
      "2018-07-05 18:18:30 [INFO] src.evaluation.evaluator: Training Donut on Syn Extreme Outliers (mis=0.0) with seed 2984800904\n"
     ]
    },
    {
     "name": "stderr",
     "output_type": "stream",
     "text": [
      "\r",
      "  0%|          | 0/1 [00:00<?, ?it/s]"
     ]
    },
    {
     "name": "stdout",
     "output_type": "stream",
     "text": [
      "INFO:tensorflow:Restoring parameters from /tmp/tmp241un5y1/variables.dat-1100\n",
      "2018-07-05 18:19:13 [INFO] tensorflow: Restoring parameters from /tmp/tmp241un5y1/variables.dat-1100\n"
     ]
    },
    {
     "name": "stderr",
     "output_type": "stream",
     "text": [
      "100%|██████████| 1/1 [00:42<00:00, 42.76s/it]\n",
      "100% (7 of 7) |##########################| Elapsed Time: 0:04:53 Time:  0:04:53\n",
      "N/A% (0 of 7) |                          | Elapsed Time: 0:00:00 ETA:  --:--:--"
     ]
    },
    {
     "name": "stdout",
     "output_type": "stream",
     "text": [
      "2018-07-05 18:19:16 [INFO] src.evaluation.evaluator: Training LSTM-AD on Syn Extreme Outliers (mis=0.225) with seed 2984800904\n"
     ]
    },
    {
     "name": "stderr",
     "output_type": "stream",
     "text": [
      "\r",
      "                                                                               \r",
      "\r",
      " 14% (1 of 7) |###                       | Elapsed Time: 0:01:42 ETA:   0:10:14"
     ]
    },
    {
     "name": "stdout",
     "output_type": "stream",
     "text": [
      "2018-07-05 18:20:59 [INFO] src.evaluation.evaluator: Training LSTMED on Syn Extreme Outliers (mis=0.225) with seed 2984800904\n"
     ]
    },
    {
     "name": "stderr",
     "output_type": "stream",
     "text": [
      "\r",
      "                                                                               \r",
      "\r",
      " 28% (2 of 7) |#######                   | Elapsed Time: 0:03:19 ETA:   0:08:04"
     ]
    },
    {
     "name": "stdout",
     "output_type": "stream",
     "text": [
      "2018-07-05 18:22:36 [INFO] src.evaluation.evaluator: Training DAGMM_NNAutoEncoder_withoutWindow on Syn Extreme Outliers (mis=0.225) with seed 2984800904\n",
      "2018-07-05 18:22:36 [ERROR] src.evaluation.evaluator: An exception occurred while training DAGMM_NNAutoEncoder_withoutWindow on Syn Extreme Outliers (mis=0.225): Lapack Error getrf : U(3,3) is 0, U is singular at /pytorch/aten/src/TH/generic/THTensorLapack.c:514\n",
      "2018-07-05 18:22:36 [ERROR] src.evaluation.evaluator: Traceback (most recent call last):\n",
      "  File \"../src/evaluation/evaluator.py\", line 122, in evaluate\n",
      "    det.fit(X_train.copy(), y_train.copy())\n",
      "  File \"../src/algorithms/dagmm.py\", line 203, in fit\n",
      "    self.dagmm_step(input_data.float())\n",
      "  File \"../src/algorithms/dagmm.py\", line 177, in dagmm_step\n",
      "    self.lambda_cov_diag)\n",
      "  File \"../src/algorithms/dagmm.py\", line 144, in loss_function\n",
      "    sample_energy, cov_diag = self.compute_energy(z, phi, mu, cov)\n",
      "  File \"../src/algorithms/dagmm.py\", line 113, in compute_energy\n",
      "    cov_inverse.append(torch.inverse(cov_k).unsqueeze(0))\n",
      "RuntimeError: Lapack Error getrf : U(3,3) is 0, U is singular at /pytorch/aten/src/TH/generic/THTensorLapack.c:514\n",
      "\n"
     ]
    },
    {
     "name": "stderr",
     "output_type": "stream",
     "text": [
      "\r",
      "                                                                               \r",
      "\r",
      " 42% (3 of 7) |###########               | Elapsed Time: 0:03:19 ETA:   0:06:27"
     ]
    },
    {
     "name": "stdout",
     "output_type": "stream",
     "text": [
      "2018-07-05 18:22:36 [INFO] src.evaluation.evaluator: Training DAGMM_NNAutoEncoder_withWindow on Syn Extreme Outliers (mis=0.225) with seed 2984800904\n"
     ]
    },
    {
     "name": "stderr",
     "output_type": "stream",
     "text": [
      "\r",
      "                                                                               \r",
      "\r",
      " 57% (4 of 7) |##############            | Elapsed Time: 0:03:23 ETA:   0:00:05"
     ]
    },
    {
     "name": "stdout",
     "output_type": "stream",
     "text": [
      "2018-07-05 18:22:40 [INFO] src.evaluation.evaluator: Training DAGMM_LSTMAutoEncoder_withWindow on Syn Extreme Outliers (mis=0.225) with seed 2984800904\n"
     ]
    },
    {
     "name": "stderr",
     "output_type": "stream",
     "text": [
      "\r",
      "                                                                               \r",
      "\r",
      " 71% (5 of 7) |##################        | Elapsed Time: 0:03:53 ETA:   0:01:00"
     ]
    },
    {
     "name": "stdout",
     "output_type": "stream",
     "text": [
      "2018-07-05 18:23:10 [INFO] src.evaluation.evaluator: Training Recurrent EBM on Syn Extreme Outliers (mis=0.225) with seed 2984800904\n"
     ]
    },
    {
     "name": "stderr",
     "output_type": "stream",
     "text": [
      "100%|██████████| 15/15 [00:06<00:00,  2.48it/s]\n",
      " 85% (6 of 7) |######################    | Elapsed Time: 0:04:04 ETA:   0:00:10"
     ]
    },
    {
     "name": "stdout",
     "output_type": "stream",
     "text": [
      "2018-07-05 18:23:20 [INFO] src.evaluation.evaluator: Training Donut on Syn Extreme Outliers (mis=0.225) with seed 2984800904\n"
     ]
    },
    {
     "name": "stderr",
     "output_type": "stream",
     "text": [
      "100%|██████████| 1/1 [00:05<00:00,  5.23s/it]\n",
      "100% (7 of 7) |##########################| Elapsed Time: 0:04:12 Time:  0:04:12\n",
      "N/A% (0 of 7) |                          | Elapsed Time: 0:00:00 ETA:  --:--:--"
     ]
    },
    {
     "name": "stdout",
     "output_type": "stream",
     "text": [
      "2018-07-05 18:23:29 [INFO] src.evaluation.evaluator: Training LSTM-AD on Syn Extreme Outliers (mis=0.45) with seed 2984800904\n"
     ]
    },
    {
     "name": "stderr",
     "output_type": "stream",
     "text": [
      "\r",
      "                                                                               \r",
      "\r",
      " 14% (1 of 7) |###                       | Elapsed Time: 0:01:41 ETA:   0:10:07"
     ]
    },
    {
     "name": "stdout",
     "output_type": "stream",
     "text": [
      "2018-07-05 18:25:10 [INFO] src.evaluation.evaluator: Training LSTMED on Syn Extreme Outliers (mis=0.45) with seed 2984800904\n"
     ]
    },
    {
     "name": "stderr",
     "output_type": "stream",
     "text": [
      "\r",
      "                                                                               \r",
      "\r",
      " 28% (2 of 7) |#######                   | Elapsed Time: 0:03:18 ETA:   0:08:05"
     ]
    },
    {
     "name": "stdout",
     "output_type": "stream",
     "text": [
      "2018-07-05 18:26:48 [INFO] src.evaluation.evaluator: Training DAGMM_NNAutoEncoder_withoutWindow on Syn Extreme Outliers (mis=0.45) with seed 2984800904\n",
      "2018-07-05 18:26:48 [WARNING] root: Determinant was negative! Clipping Eigenvalues to 0+epsilon from -4.345515947079548e-07\n",
      "2018-07-05 18:26:48 [WARNING] root: Determinant was negative! Clipping Eigenvalues to 0+epsilon from -3.296821091680613e-07\n",
      "2018-07-05 18:26:48 [WARNING] root: Determinant was negative! Clipping Eigenvalues to 0+epsilon from -6.500843596768391e-08\n",
      "2018-07-05 18:26:48 [WARNING] root: Determinant was negative! Clipping Eigenvalues to 0+epsilon from -1.0100833378601237e-06\n",
      "2018-07-05 18:26:48 [WARNING] root: Determinant was negative! Clipping Eigenvalues to 0+epsilon from -2.8568855725552567e-08\n",
      "2018-07-05 18:26:48 [WARNING] root: Determinant was negative! Clipping Eigenvalues to 0+epsilon from -6.172383848479512e-08\n",
      "2018-07-05 18:26:48 [WARNING] root: Determinant was negative! Clipping Eigenvalues to 0+epsilon from -2.1652316206655087e-07\n",
      "2018-07-05 18:26:48 [WARNING] root: Determinant was negative! Clipping Eigenvalues to 0+epsilon from -4.040086309942126e-07\n",
      "2018-07-05 18:26:48 [WARNING] root: Determinant was negative! Clipping Eigenvalues to 0+epsilon from -7.359483902291686e-07\n",
      "2018-07-05 18:26:48 [WARNING] root: Determinant was negative! Clipping Eigenvalues to 0+epsilon from -3.6293306493462296e-07\n",
      "2018-07-05 18:26:48 [WARNING] root: Determinant was negative! Clipping Eigenvalues to 0+epsilon from -3.1370231567962037e-07\n",
      "2018-07-05 18:26:48 [WARNING] root: Determinant was negative! Clipping Eigenvalues to 0+epsilon from -9.888368168731176e-08\n",
      "2018-07-05 18:26:48 [WARNING] root: Determinant was negative! Clipping Eigenvalues to 0+epsilon from -2.3481888433707354e-07\n",
      "2018-07-05 18:26:48 [WARNING] root: Determinant was negative! Clipping Eigenvalues to 0+epsilon from -4.704612308614742e-07\n",
      "2018-07-05 18:26:48 [WARNING] root: Determinant was negative! Clipping Eigenvalues to 0+epsilon from -5.126493078932981e-07\n",
      "2018-07-05 18:26:48 [WARNING] root: Determinant was negative! Clipping Eigenvalues to 0+epsilon from -6.081756254161519e-08\n",
      "2018-07-05 18:26:48 [WARNING] root: Determinant was negative! Clipping Eigenvalues to 0+epsilon from -2.35991564068172e-08\n",
      "2018-07-05 18:26:48 [WARNING] root: Determinant was negative! Clipping Eigenvalues to 0+epsilon from -5.092043693366577e-07\n",
      "2018-07-05 18:26:48 [WARNING] root: Determinant was negative! Clipping Eigenvalues to 0+epsilon from -8.070026069617597e-07\n",
      "2018-07-05 18:26:48 [WARNING] root: Determinant was negative! Clipping Eigenvalues to 0+epsilon from -5.643387339659967e-07\n",
      "2018-07-05 18:26:48 [WARNING] root: Determinant was negative! Clipping Eigenvalues to 0+epsilon from -1.8565069126452727e-07\n",
      "2018-07-05 18:26:48 [WARNING] root: Determinant was negative! Clipping Eigenvalues to 0+epsilon from -1.3714077340409858e-07\n",
      "2018-07-05 18:26:48 [WARNING] root: Determinant was negative! Clipping Eigenvalues to 0+epsilon from -4.6114854512779857e-07\n",
      "2018-07-05 18:26:48 [WARNING] root: Determinant was negative! Clipping Eigenvalues to 0+epsilon from -1.9677790419336816e-07\n",
      "2018-07-05 18:26:48 [WARNING] root: Determinant was negative! Clipping Eigenvalues to 0+epsilon from -9.042209967446979e-07\n",
      "2018-07-05 18:26:48 [WARNING] root: Determinant was negative! Clipping Eigenvalues to 0+epsilon from -5.468929771268449e-07\n",
      "2018-07-05 18:26:48 [WARNING] root: Determinant was negative! Clipping Eigenvalues to 0+epsilon from -6.678894806100288e-07\n",
      "2018-07-05 18:26:48 [WARNING] root: Determinant was negative! Clipping Eigenvalues to 0+epsilon from -4.192593294760627e-08\n",
      "2018-07-05 18:26:48 [WARNING] root: Determinant was negative! Clipping Eigenvalues to 0+epsilon from -4.326123530518089e-07\n",
      "2018-07-05 18:26:48 [WARNING] root: Determinant was negative! Clipping Eigenvalues to 0+epsilon from -1.2254914736331557e-06\n",
      "2018-07-05 18:26:48 [WARNING] root: Determinant was negative! Clipping Eigenvalues to 0+epsilon from -1.1148417655704179e-07\n",
      "2018-07-05 18:26:48 [WARNING] root: Determinant was negative! Clipping Eigenvalues to 0+epsilon from -2.3240252744471945e-07\n",
      "2018-07-05 18:26:48 [WARNING] root: Determinant was negative! Clipping Eigenvalues to 0+epsilon from -6.471156552834145e-07\n",
      "2018-07-05 18:26:48 [WARNING] root: Determinant was negative! Clipping Eigenvalues to 0+epsilon from -6.434287911361025e-07\n",
      "2018-07-05 18:26:48 [WARNING] root: Determinant was negative! Clipping Eigenvalues to 0+epsilon from -8.5701188368148e-08\n",
      "2018-07-05 18:26:48 [WARNING] root: Determinant was negative! Clipping Eigenvalues to 0+epsilon from -3.225278817353683e-07\n",
      "2018-07-05 18:26:48 [WARNING] root: Determinant was negative! Clipping Eigenvalues to 0+epsilon from -4.523839436387789e-07\n",
      "2018-07-05 18:26:48 [WARNING] root: Determinant was negative! Clipping Eigenvalues to 0+epsilon from -6.935982099776083e-08\n",
      "2018-07-05 18:26:48 [WARNING] root: Determinant was negative! Clipping Eigenvalues to 0+epsilon from -1.4133087233858532e-07\n",
      "2018-07-05 18:26:48 [WARNING] root: Determinant was negative! Clipping Eigenvalues to 0+epsilon from -2.257350528722668e-09\n",
      "2018-07-05 18:26:48 [WARNING] root: Determinant was negative! Clipping Eigenvalues to 0+epsilon from -7.526193144258286e-07\n",
      "2018-07-05 18:26:48 [WARNING] root: Determinant was negative! Clipping Eigenvalues to 0+epsilon from -5.442042265713098e-07\n",
      "2018-07-05 18:26:48 [WARNING] root: Determinant was negative! Clipping Eigenvalues to 0+epsilon from -4.729527063318528e-07\n",
      "2018-07-05 18:26:48 [WARNING] root: Determinant was negative! Clipping Eigenvalues to 0+epsilon from -1.0893995749938767e-06\n",
      "2018-07-05 18:26:48 [WARNING] root: Determinant was negative! Clipping Eigenvalues to 0+epsilon from -5.824321078762296e-07\n",
      "2018-07-05 18:26:48 [WARNING] root: Determinant was negative! Clipping Eigenvalues to 0+epsilon from -3.2369794666919915e-07\n",
      "2018-07-05 18:26:48 [WARNING] root: Determinant was negative! Clipping Eigenvalues to 0+epsilon from -1.575901222850007e-07\n",
      "2018-07-05 18:26:48 [WARNING] root: Determinant was negative! Clipping Eigenvalues to 0+epsilon from -2.393426541402732e-07\n",
      "2018-07-05 18:26:48 [WARNING] root: Determinant was negative! Clipping Eigenvalues to 0+epsilon from -1.7181400835397653e-07\n",
      "2018-07-05 18:26:48 [WARNING] root: Determinant was negative! Clipping Eigenvalues to 0+epsilon from -3.332029336888809e-07\n",
      "2018-07-05 18:26:48 [WARNING] root: Determinant was negative! Clipping Eigenvalues to 0+epsilon from -1.6287201276554697e-07\n",
      "2018-07-05 18:26:48 [WARNING] root: Determinant was negative! Clipping Eigenvalues to 0+epsilon from -4.3844042352247925e-07\n",
      "2018-07-05 18:26:48 [ERROR] src.evaluation.evaluator: An exception occurred while training DAGMM_NNAutoEncoder_withoutWindow on Syn Extreme Outliers (mis=0.45): Lapack Error getrf : U(3,3) is 0, U is singular at /pytorch/aten/src/TH/generic/THTensorLapack.c:514\n",
      "2018-07-05 18:26:48 [ERROR] src.evaluation.evaluator: Traceback (most recent call last):\n",
      "  File \"../src/evaluation/evaluator.py\", line 122, in evaluate\n",
      "    det.fit(X_train.copy(), y_train.copy())\n",
      "  File \"../src/algorithms/dagmm.py\", line 203, in fit\n",
      "    self.dagmm_step(input_data.float())\n",
      "  File \"../src/algorithms/dagmm.py\", line 177, in dagmm_step\n",
      "    self.lambda_cov_diag)\n",
      "  File \"../src/algorithms/dagmm.py\", line 144, in loss_function\n",
      "    sample_energy, cov_diag = self.compute_energy(z, phi, mu, cov)\n",
      "  File \"../src/algorithms/dagmm.py\", line 113, in compute_energy\n",
      "    cov_inverse.append(torch.inverse(cov_k).unsqueeze(0))\n",
      "RuntimeError: Lapack Error getrf : U(3,3) is 0, U is singular at /pytorch/aten/src/TH/generic/THTensorLapack.c:514\n",
      "\n"
     ]
    },
    {
     "name": "stderr",
     "output_type": "stream",
     "text": [
      "\r",
      "                                                                               \r",
      "\r",
      " 42% (3 of 7) |###########               | Elapsed Time: 0:03:19 ETA:   0:03:15"
     ]
    },
    {
     "name": "stdout",
     "output_type": "stream",
     "text": [
      "2018-07-05 18:26:48 [INFO] src.evaluation.evaluator: Training DAGMM_NNAutoEncoder_withWindow on Syn Extreme Outliers (mis=0.45) with seed 2984800904\n"
     ]
    },
    {
     "name": "stderr",
     "output_type": "stream",
     "text": [
      "\r",
      "                                                                               \r",
      "\r",
      " 57% (4 of 7) |##############            | Elapsed Time: 0:03:23 ETA:   0:00:11"
     ]
    },
    {
     "name": "stdout",
     "output_type": "stream",
     "text": [
      "2018-07-05 18:26:52 [INFO] src.evaluation.evaluator: Training DAGMM_LSTMAutoEncoder_withWindow on Syn Extreme Outliers (mis=0.45) with seed 2984800904\n"
     ]
    },
    {
     "name": "stderr",
     "output_type": "stream",
     "text": [
      "\r",
      "                                                                               \r",
      "\r",
      " 71% (5 of 7) |##################        | Elapsed Time: 0:03:53 ETA:   0:01:00"
     ]
    },
    {
     "name": "stdout",
     "output_type": "stream",
     "text": [
      "2018-07-05 18:27:23 [INFO] src.evaluation.evaluator: Training Recurrent EBM on Syn Extreme Outliers (mis=0.45) with seed 2984800904\n"
     ]
    },
    {
     "name": "stderr",
     "output_type": "stream",
     "text": [
      "100%|██████████| 15/15 [00:06<00:00,  2.44it/s]\n",
      " 85% (6 of 7) |######################    | Elapsed Time: 0:04:04 ETA:   0:00:11"
     ]
    },
    {
     "name": "stdout",
     "output_type": "stream",
     "text": [
      "2018-07-05 18:27:34 [INFO] src.evaluation.evaluator: Training Donut on Syn Extreme Outliers (mis=0.45) with seed 2984800904\n"
     ]
    },
    {
     "name": "stderr",
     "output_type": "stream",
     "text": [
      "100%|██████████| 1/1 [00:05<00:00,  5.47s/it]\n",
      "100% (7 of 7) |##########################| Elapsed Time: 0:04:13 Time:  0:04:13\n",
      "N/A% (0 of 7) |                          | Elapsed Time: 0:00:00 ETA:  --:--:--"
     ]
    },
    {
     "name": "stdout",
     "output_type": "stream",
     "text": [
      "2018-07-05 18:27:43 [INFO] src.evaluation.evaluator: Training LSTM-AD on Syn Extreme Outliers (mis=0.675) with seed 2984800904\n"
     ]
    },
    {
     "name": "stderr",
     "output_type": "stream",
     "text": [
      "\r",
      "                                                                               \r",
      "\r",
      " 14% (1 of 7) |###                       | Elapsed Time: 0:01:41 ETA:   0:10:07"
     ]
    },
    {
     "name": "stdout",
     "output_type": "stream",
     "text": [
      "2018-07-05 18:29:24 [INFO] src.evaluation.evaluator: Training LSTMED on Syn Extreme Outliers (mis=0.675) with seed 2984800904\n"
     ]
    },
    {
     "name": "stderr",
     "output_type": "stream",
     "text": [
      "\r",
      "                                                                               \r",
      "\r",
      " 28% (2 of 7) |#######                   | Elapsed Time: 0:03:18 ETA:   0:08:03"
     ]
    },
    {
     "name": "stdout",
     "output_type": "stream",
     "text": [
      "2018-07-05 18:31:01 [INFO] src.evaluation.evaluator: Training DAGMM_NNAutoEncoder_withoutWindow on Syn Extreme Outliers (mis=0.675) with seed 2984800904\n",
      "2018-07-05 18:31:01 [ERROR] src.evaluation.evaluator: An exception occurred while training DAGMM_NNAutoEncoder_withoutWindow on Syn Extreme Outliers (mis=0.675): Lapack Error getrf : U(3,3) is 0, U is singular at /pytorch/aten/src/TH/generic/THTensorLapack.c:514\n",
      "2018-07-05 18:31:01 [ERROR] src.evaluation.evaluator: Traceback (most recent call last):\n",
      "  File \"../src/evaluation/evaluator.py\", line 122, in evaluate\n",
      "    det.fit(X_train.copy(), y_train.copy())\n",
      "  File \"../src/algorithms/dagmm.py\", line 203, in fit\n",
      "    self.dagmm_step(input_data.float())\n",
      "  File \"../src/algorithms/dagmm.py\", line 177, in dagmm_step\n",
      "    self.lambda_cov_diag)\n",
      "  File \"../src/algorithms/dagmm.py\", line 144, in loss_function\n",
      "    sample_energy, cov_diag = self.compute_energy(z, phi, mu, cov)\n",
      "  File \"../src/algorithms/dagmm.py\", line 113, in compute_energy\n",
      "    cov_inverse.append(torch.inverse(cov_k).unsqueeze(0))\n",
      "RuntimeError: Lapack Error getrf : U(3,3) is 0, U is singular at /pytorch/aten/src/TH/generic/THTensorLapack.c:514\n",
      "\n",
      "2018-07-05 18:31:01 [INFO] src.evaluation.evaluator: Training DAGMM_NNAutoEncoder_withWindow on Syn Extreme Outliers (mis=0.675) with seed 2984800904\n"
     ]
    },
    {
     "name": "stderr",
     "output_type": "stream",
     "text": [
      "\r",
      "                                                                               \r",
      "\r",
      " 57% (4 of 7) |##############            | Elapsed Time: 0:03:21 ETA:   0:00:05"
     ]
    },
    {
     "name": "stdout",
     "output_type": "stream",
     "text": [
      "2018-07-05 18:31:05 [INFO] src.evaluation.evaluator: Training DAGMM_LSTMAutoEncoder_withWindow on Syn Extreme Outliers (mis=0.675) with seed 2984800904\n"
     ]
    },
    {
     "name": "stderr",
     "output_type": "stream",
     "text": [
      "\r",
      "                                                                               \r",
      "\r",
      " 71% (5 of 7) |##################        | Elapsed Time: 0:03:52 ETA:   0:01:00"
     ]
    },
    {
     "name": "stdout",
     "output_type": "stream",
     "text": [
      "2018-07-05 18:31:35 [INFO] src.evaluation.evaluator: Training Recurrent EBM on Syn Extreme Outliers (mis=0.675) with seed 2984800904\n"
     ]
    },
    {
     "name": "stderr",
     "output_type": "stream",
     "text": [
      "100%|██████████| 15/15 [00:06<00:00,  2.37it/s]\n",
      " 85% (6 of 7) |######################    | Elapsed Time: 0:04:03 ETA:   0:00:11"
     ]
    },
    {
     "name": "stdout",
     "output_type": "stream",
     "text": [
      "2018-07-05 18:31:47 [INFO] src.evaluation.evaluator: Training Donut on Syn Extreme Outliers (mis=0.675) with seed 2984800904\n"
     ]
    },
    {
     "name": "stderr",
     "output_type": "stream",
     "text": [
      "100%|██████████| 1/1 [00:05<00:00,  5.70s/it]\n",
      "100% (7 of 7) |##########################| Elapsed Time: 0:04:13 Time:  0:04:13\n",
      "N/A% (0 of 7) |                          | Elapsed Time: 0:00:00 ETA:  --:--:--"
     ]
    },
    {
     "name": "stdout",
     "output_type": "stream",
     "text": [
      "2018-07-05 18:31:56 [INFO] src.evaluation.evaluator: Training LSTM-AD on Syn Extreme Outliers (mis=0.9) with seed 2984800904\n"
     ]
    },
    {
     "name": "stderr",
     "output_type": "stream",
     "text": [
      "\r",
      "                                                                               \r",
      "\r",
      " 14% (1 of 7) |###                       | Elapsed Time: 0:01:41 ETA:   0:10:11"
     ]
    },
    {
     "name": "stdout",
     "output_type": "stream",
     "text": [
      "2018-07-05 18:33:38 [INFO] src.evaluation.evaluator: Training LSTMED on Syn Extreme Outliers (mis=0.9) with seed 2984800904\n"
     ]
    },
    {
     "name": "stderr",
     "output_type": "stream",
     "text": [
      "\r",
      "                                                                               \r",
      "\r",
      " 28% (2 of 7) |#######                   | Elapsed Time: 0:03:18 ETA:   0:08:04"
     ]
    },
    {
     "name": "stdout",
     "output_type": "stream",
     "text": [
      "2018-07-05 18:35:15 [INFO] src.evaluation.evaluator: Training DAGMM_NNAutoEncoder_withoutWindow on Syn Extreme Outliers (mis=0.9) with seed 2984800904\n",
      "2018-07-05 18:35:15 [WARNING] root: Determinant was negative! Clipping Eigenvalues to 0+epsilon from -8.694718833801574e-10\n",
      "2018-07-05 18:35:15 [ERROR] src.evaluation.evaluator: An exception occurred while training DAGMM_NNAutoEncoder_withoutWindow on Syn Extreme Outliers (mis=0.9): Lapack Error getrf : U(3,3) is 0, U is singular at /pytorch/aten/src/TH/generic/THTensorLapack.c:514\n",
      "2018-07-05 18:35:15 [ERROR] src.evaluation.evaluator: Traceback (most recent call last):\n",
      "  File \"../src/evaluation/evaluator.py\", line 122, in evaluate\n",
      "    det.fit(X_train.copy(), y_train.copy())\n",
      "  File \"../src/algorithms/dagmm.py\", line 203, in fit\n",
      "    self.dagmm_step(input_data.float())\n",
      "  File \"../src/algorithms/dagmm.py\", line 177, in dagmm_step\n",
      "    self.lambda_cov_diag)\n",
      "  File \"../src/algorithms/dagmm.py\", line 144, in loss_function\n",
      "    sample_energy, cov_diag = self.compute_energy(z, phi, mu, cov)\n",
      "  File \"../src/algorithms/dagmm.py\", line 113, in compute_energy\n",
      "    cov_inverse.append(torch.inverse(cov_k).unsqueeze(0))\n",
      "RuntimeError: Lapack Error getrf : U(3,3) is 0, U is singular at /pytorch/aten/src/TH/generic/THTensorLapack.c:514\n",
      "\n",
      "2018-07-05 18:35:15 [INFO] src.evaluation.evaluator: Training DAGMM_NNAutoEncoder_withWindow on Syn Extreme Outliers (mis=0.9) with seed 2984800904\n"
     ]
    },
    {
     "name": "stderr",
     "output_type": "stream",
     "text": [
      "\r",
      "                                                                               \r",
      "\r",
      " 57% (4 of 7) |##############            | Elapsed Time: 0:03:22 ETA:   0:00:05"
     ]
    },
    {
     "name": "stdout",
     "output_type": "stream",
     "text": [
      "2018-07-05 18:35:19 [INFO] src.evaluation.evaluator: Training DAGMM_LSTMAutoEncoder_withWindow on Syn Extreme Outliers (mis=0.9) with seed 2984800904\n"
     ]
    },
    {
     "name": "stderr",
     "output_type": "stream",
     "text": [
      "\r",
      "                                                                               \r",
      "\r",
      " 71% (5 of 7) |##################        | Elapsed Time: 0:03:52 ETA:   0:01:00"
     ]
    },
    {
     "name": "stdout",
     "output_type": "stream",
     "text": [
      "2018-07-05 18:35:49 [INFO] src.evaluation.evaluator: Training Recurrent EBM on Syn Extreme Outliers (mis=0.9) with seed 2984800904\n"
     ]
    },
    {
     "name": "stderr",
     "output_type": "stream",
     "text": [
      "100%|██████████| 15/15 [00:06<00:00,  2.44it/s]\n",
      " 85% (6 of 7) |######################    | Elapsed Time: 0:04:04 ETA:   0:00:11"
     ]
    },
    {
     "name": "stdout",
     "output_type": "stream",
     "text": [
      "2018-07-05 18:36:00 [INFO] src.evaluation.evaluator: Training Donut on Syn Extreme Outliers (mis=0.9) with seed 2984800904\n"
     ]
    },
    {
     "name": "stderr",
     "output_type": "stream",
     "text": [
      "100%|██████████| 1/1 [00:06<00:00,  6.38s/it]\n",
      "100% (7 of 7) |##########################| Elapsed Time: 0:04:14 Time:  0:04:14\n",
      "100% (5 of 5) |##########################| Elapsed Time: 0:21:47 Time:  0:21:47\n"
     ]
    },
    {
     "name": "stdout",
     "output_type": "stream",
     "text": [
      "2018-07-05 18:36:13 [INFO] src.evaluation.evaluator: Store evaluator results at /home/thomas/work/notebooks/data/missing-run-4-2984800904-2018-07-05-183613.pkl\n"
     ]
    },
    {
     "name": "stderr",
     "output_type": "stream",
     "text": [
      "N/A% (0 of 7) |                          | Elapsed Time: 0:00:00 ETA:  --:--:--"
     ]
    },
    {
     "name": "stdout",
     "output_type": "stream",
     "text": [
      "2018-07-05 18:36:13 [INFO] src.evaluation.evaluator: Training LSTM-AD on Syn Extreme Outliers (mis=0.0) with seed 3198619892\n"
     ]
    },
    {
     "name": "stderr",
     "output_type": "stream",
     "text": [
      "\r",
      "                                                                               \r",
      "\r",
      " 14% (1 of 7) |###                       | Elapsed Time: 0:01:41 ETA:   0:10:08"
     ]
    },
    {
     "name": "stdout",
     "output_type": "stream",
     "text": [
      "2018-07-05 18:37:54 [INFO] src.evaluation.evaluator: Training LSTMED on Syn Extreme Outliers (mis=0.0) with seed 3198619892\n"
     ]
    },
    {
     "name": "stderr",
     "output_type": "stream",
     "text": [
      "\r",
      "                                                                               \r",
      "\r",
      " 28% (2 of 7) |#######                   | Elapsed Time: 0:03:18 ETA:   0:08:05"
     ]
    },
    {
     "name": "stdout",
     "output_type": "stream",
     "text": [
      "2018-07-05 18:39:32 [INFO] src.evaluation.evaluator: Training DAGMM_NNAutoEncoder_withoutWindow on Syn Extreme Outliers (mis=0.0) with seed 3198619892\n",
      "2018-07-05 18:39:32 [WARNING] root: Determinant was negative! Clipping Eigenvalues to 0+epsilon from -1.5054796520530545e-08\n",
      "2018-07-05 18:39:32 [WARNING] root: Determinant was negative! Clipping Eigenvalues to 0+epsilon from -3.0691516883507575e-08\n",
      "2018-07-05 18:39:32 [WARNING] root: Determinant was negative! Clipping Eigenvalues to 0+epsilon from -4.629685292911745e-07\n",
      "2018-07-05 18:39:33 [WARNING] root: Determinant was negative! Clipping Eigenvalues to 0+epsilon from -1.6143593484230223e-07\n",
      "2018-07-05 18:39:33 [WARNING] root: Determinant was negative! Clipping Eigenvalues to 0+epsilon from -5.6452009289387206e-08\n",
      "2018-07-05 18:39:33 [WARNING] root: Determinant was negative! Clipping Eigenvalues to 0+epsilon from -2.7387525580735428e-09\n",
      "2018-07-05 18:39:33 [WARNING] root: Determinant was negative! Clipping Eigenvalues to 0+epsilon from -1.2856507680680807e-07\n",
      "2018-07-05 18:39:34 [WARNING] root: Determinant was negative! Clipping Eigenvalues to 0+epsilon from -1.6746459152727766e-07\n"
     ]
    },
    {
     "name": "stderr",
     "output_type": "stream",
     "text": [
      "\r",
      "                                                                               \r",
      "\r",
      " 42% (3 of 7) |###########               | Elapsed Time: 0:03:22 ETA:   0:00:15"
     ]
    },
    {
     "name": "stdout",
     "output_type": "stream",
     "text": [
      "2018-07-05 18:39:36 [INFO] src.evaluation.evaluator: Training DAGMM_NNAutoEncoder_withWindow on Syn Extreme Outliers (mis=0.0) with seed 3198619892\n"
     ]
    },
    {
     "name": "stderr",
     "output_type": "stream",
     "text": [
      "\r",
      "                                                                               \r",
      "\r",
      " 57% (4 of 7) |##############            | Elapsed Time: 0:03:26 ETA:   0:00:11"
     ]
    },
    {
     "name": "stdout",
     "output_type": "stream",
     "text": [
      "2018-07-05 18:39:39 [INFO] src.evaluation.evaluator: Training DAGMM_LSTMAutoEncoder_withWindow on Syn Extreme Outliers (mis=0.0) with seed 3198619892\n"
     ]
    },
    {
     "name": "stderr",
     "output_type": "stream",
     "text": [
      "\r",
      "                                                                               \r",
      "\r",
      " 71% (5 of 7) |##################        | Elapsed Time: 0:03:56 ETA:   0:01:00"
     ]
    },
    {
     "name": "stdout",
     "output_type": "stream",
     "text": [
      "2018-07-05 18:40:10 [INFO] src.evaluation.evaluator: Training Recurrent EBM on Syn Extreme Outliers (mis=0.0) with seed 3198619892\n"
     ]
    },
    {
     "name": "stderr",
     "output_type": "stream",
     "text": [
      "100%|██████████| 15/15 [00:06<00:00,  2.41it/s]\n",
      " 85% (6 of 7) |######################    | Elapsed Time: 0:04:08 ETA:   0:00:11"
     ]
    },
    {
     "name": "stdout",
     "output_type": "stream",
     "text": [
      "2018-07-05 18:40:21 [INFO] src.evaluation.evaluator: Training Donut on Syn Extreme Outliers (mis=0.0) with seed 3198619892\n"
     ]
    },
    {
     "name": "stderr",
     "output_type": "stream",
     "text": [
      "\r",
      "  0%|          | 0/1 [00:00<?, ?it/s]"
     ]
    },
    {
     "name": "stdout",
     "output_type": "stream",
     "text": [
      "INFO:tensorflow:Restoring parameters from /tmp/tmpiprbqwdt/variables.dat-900\n",
      "2018-07-05 18:41:11 [INFO] tensorflow: Restoring parameters from /tmp/tmpiprbqwdt/variables.dat-900\n"
     ]
    },
    {
     "name": "stderr",
     "output_type": "stream",
     "text": [
      "100%|██████████| 1/1 [00:50<00:00, 50.25s/it]\n",
      "100% (7 of 7) |##########################| Elapsed Time: 0:05:02 Time:  0:05:02\n",
      "N/A% (0 of 7) |                          | Elapsed Time: 0:00:00 ETA:  --:--:--"
     ]
    },
    {
     "name": "stdout",
     "output_type": "stream",
     "text": [
      "2018-07-05 18:41:16 [INFO] src.evaluation.evaluator: Training LSTM-AD on Syn Extreme Outliers (mis=0.225) with seed 3198619892\n"
     ]
    },
    {
     "name": "stderr",
     "output_type": "stream",
     "text": [
      "\r",
      "                                                                               \r",
      "\r",
      " 14% (1 of 7) |###                       | Elapsed Time: 0:01:42 ETA:   0:10:13"
     ]
    },
    {
     "name": "stdout",
     "output_type": "stream",
     "text": [
      "2018-07-05 18:42:58 [INFO] src.evaluation.evaluator: Training LSTMED on Syn Extreme Outliers (mis=0.225) with seed 3198619892\n"
     ]
    },
    {
     "name": "stderr",
     "output_type": "stream",
     "text": [
      "\r",
      "                                                                               \r",
      "\r",
      " 28% (2 of 7) |#######                   | Elapsed Time: 0:03:19 ETA:   0:08:04"
     ]
    },
    {
     "name": "stdout",
     "output_type": "stream",
     "text": [
      "2018-07-05 18:44:35 [INFO] src.evaluation.evaluator: Training DAGMM_NNAutoEncoder_withoutWindow on Syn Extreme Outliers (mis=0.225) with seed 3198619892\n",
      "2018-07-05 18:44:35 [WARNING] root: Determinant was negative! Clipping Eigenvalues to 0+epsilon from -5.172506121198239e-07\n",
      "2018-07-05 18:44:35 [WARNING] root: Determinant was negative! Clipping Eigenvalues to 0+epsilon from -1.0858874333052881e-07\n",
      "2018-07-05 18:44:35 [WARNING] root: Determinant was negative! Clipping Eigenvalues to 0+epsilon from -7.778060648888641e-07\n",
      "2018-07-05 18:44:35 [WARNING] root: Determinant was negative! Clipping Eigenvalues to 0+epsilon from -3.9904332993501157e-07\n",
      "2018-07-05 18:44:35 [WARNING] root: Determinant was negative! Clipping Eigenvalues to 0+epsilon from -2.0709316927991495e-08\n",
      "2018-07-05 18:44:35 [ERROR] src.evaluation.evaluator: An exception occurred while training DAGMM_NNAutoEncoder_withoutWindow on Syn Extreme Outliers (mis=0.225): Lapack Error getrf : U(3,3) is 0, U is singular at /pytorch/aten/src/TH/generic/THTensorLapack.c:514\n",
      "2018-07-05 18:44:35 [ERROR] src.evaluation.evaluator: Traceback (most recent call last):\n",
      "  File \"../src/evaluation/evaluator.py\", line 122, in evaluate\n",
      "    det.fit(X_train.copy(), y_train.copy())\n",
      "  File \"../src/algorithms/dagmm.py\", line 203, in fit\n",
      "    self.dagmm_step(input_data.float())\n",
      "  File \"../src/algorithms/dagmm.py\", line 177, in dagmm_step\n",
      "    self.lambda_cov_diag)\n",
      "  File \"../src/algorithms/dagmm.py\", line 144, in loss_function\n",
      "    sample_energy, cov_diag = self.compute_energy(z, phi, mu, cov)\n",
      "  File \"../src/algorithms/dagmm.py\", line 113, in compute_energy\n",
      "    cov_inverse.append(torch.inverse(cov_k).unsqueeze(0))\n",
      "RuntimeError: Lapack Error getrf : U(3,3) is 0, U is singular at /pytorch/aten/src/TH/generic/THTensorLapack.c:514\n",
      "\n"
     ]
    },
    {
     "name": "stderr",
     "output_type": "stream",
     "text": [
      "\r",
      "                                                                               \r",
      "\r",
      " 42% (3 of 7) |###########               | Elapsed Time: 0:03:19 ETA:   0:03:14"
     ]
    },
    {
     "name": "stdout",
     "output_type": "stream",
     "text": [
      "2018-07-05 18:44:35 [INFO] src.evaluation.evaluator: Training DAGMM_NNAutoEncoder_withWindow on Syn Extreme Outliers (mis=0.225) with seed 3198619892\n"
     ]
    },
    {
     "name": "stderr",
     "output_type": "stream",
     "text": [
      "\r",
      "                                                                               \r",
      "\r",
      " 57% (4 of 7) |##############            | Elapsed Time: 0:03:23 ETA:   0:00:11"
     ]
    },
    {
     "name": "stdout",
     "output_type": "stream",
     "text": [
      "2018-07-05 18:44:39 [INFO] src.evaluation.evaluator: Training DAGMM_LSTMAutoEncoder_withWindow on Syn Extreme Outliers (mis=0.225) with seed 3198619892\n"
     ]
    },
    {
     "name": "stderr",
     "output_type": "stream",
     "text": [
      "\r",
      "                                                                               \r",
      "\r",
      " 71% (5 of 7) |##################        | Elapsed Time: 0:03:53 ETA:   0:01:00"
     ]
    },
    {
     "name": "stdout",
     "output_type": "stream",
     "text": [
      "2018-07-05 18:45:09 [INFO] src.evaluation.evaluator: Training Recurrent EBM on Syn Extreme Outliers (mis=0.225) with seed 3198619892\n"
     ]
    },
    {
     "name": "stderr",
     "output_type": "stream",
     "text": [
      "100%|██████████| 15/15 [00:06<00:00,  2.43it/s]\n",
      " 85% (6 of 7) |######################    | Elapsed Time: 0:04:05 ETA:   0:00:11"
     ]
    },
    {
     "name": "stdout",
     "output_type": "stream",
     "text": [
      "2018-07-05 18:45:21 [INFO] src.evaluation.evaluator: Training Donut on Syn Extreme Outliers (mis=0.225) with seed 3198619892\n"
     ]
    },
    {
     "name": "stderr",
     "output_type": "stream",
     "text": [
      "100%|██████████| 1/1 [00:06<00:00,  6.45s/it]\n",
      "100% (7 of 7) |##########################| Elapsed Time: 0:04:16 Time:  0:04:16\n",
      "N/A% (0 of 7) |                          | Elapsed Time: 0:00:00 ETA:  --:--:--"
     ]
    },
    {
     "name": "stdout",
     "output_type": "stream",
     "text": [
      "2018-07-05 18:45:32 [INFO] src.evaluation.evaluator: Training LSTM-AD on Syn Extreme Outliers (mis=0.45) with seed 3198619892\n"
     ]
    },
    {
     "name": "stderr",
     "output_type": "stream",
     "text": [
      "\r",
      "                                                                               \r",
      "\r",
      " 14% (1 of 7) |###                       | Elapsed Time: 0:01:41 ETA:   0:10:09"
     ]
    },
    {
     "name": "stdout",
     "output_type": "stream",
     "text": [
      "2018-07-05 18:47:13 [INFO] src.evaluation.evaluator: Training LSTMED on Syn Extreme Outliers (mis=0.45) with seed 3198619892\n"
     ]
    },
    {
     "name": "stderr",
     "output_type": "stream",
     "text": [
      "\r",
      "                                                                               \r",
      "\r",
      " 28% (2 of 7) |#######                   | Elapsed Time: 0:03:18 ETA:   0:08:05"
     ]
    },
    {
     "name": "stdout",
     "output_type": "stream",
     "text": [
      "2018-07-05 18:48:50 [INFO] src.evaluation.evaluator: Training DAGMM_NNAutoEncoder_withoutWindow on Syn Extreme Outliers (mis=0.45) with seed 3198619892\n",
      "2018-07-05 18:48:50 [WARNING] root: Determinant was negative! Clipping Eigenvalues to 0+epsilon from -2.639561387240974e-07\n",
      "2018-07-05 18:48:50 [WARNING] root: Determinant was negative! Clipping Eigenvalues to 0+epsilon from -1.1216619100196112e-07\n",
      "2018-07-05 18:48:50 [WARNING] root: Determinant was negative! Clipping Eigenvalues to 0+epsilon from -1.860511957829658e-07\n",
      "2018-07-05 18:48:50 [WARNING] root: Determinant was negative! Clipping Eigenvalues to 0+epsilon from -2.2217540163183003e-07\n",
      "2018-07-05 18:48:50 [WARNING] root: Determinant was negative! Clipping Eigenvalues to 0+epsilon from -7.28034194708016e-07\n",
      "2018-07-05 18:48:50 [WARNING] root: Determinant was negative! Clipping Eigenvalues to 0+epsilon from -6.439472031161131e-07\n",
      "2018-07-05 18:48:51 [WARNING] root: Determinant was negative! Clipping Eigenvalues to 0+epsilon from -2.2430282342611463e-07\n",
      "2018-07-05 18:48:51 [WARNING] root: Determinant was negative! Clipping Eigenvalues to 0+epsilon from -2.4508028673153603e-07\n",
      "2018-07-05 18:48:51 [WARNING] root: Determinant was negative! Clipping Eigenvalues to 0+epsilon from -1.630777006766948e-07\n",
      "2018-07-05 18:48:51 [WARNING] root: Determinant was negative! Clipping Eigenvalues to 0+epsilon from -1.901916135693682e-07\n",
      "2018-07-05 18:48:51 [WARNING] root: Determinant was negative! Clipping Eigenvalues to 0+epsilon from -1.9336478374043509e-07\n",
      "2018-07-05 18:48:51 [WARNING] root: Determinant was negative! Clipping Eigenvalues to 0+epsilon from -2.906814415837289e-07\n",
      "2018-07-05 18:48:51 [WARNING] root: Determinant was negative! Clipping Eigenvalues to 0+epsilon from -1.5493658622744988e-07\n",
      "2018-07-05 18:48:51 [WARNING] root: Determinant was negative! Clipping Eigenvalues to 0+epsilon from -5.052498295299301e-07\n",
      "2018-07-05 18:48:51 [WARNING] root: Determinant was negative! Clipping Eigenvalues to 0+epsilon from -1.849617774496437e-07\n",
      "2018-07-05 18:48:51 [WARNING] root: Determinant was negative! Clipping Eigenvalues to 0+epsilon from -6.013122799686244e-08\n",
      "2018-07-05 18:48:51 [WARNING] root: Determinant was negative! Clipping Eigenvalues to 0+epsilon from -7.173267704274622e-07\n",
      "2018-07-05 18:48:51 [WARNING] root: Determinant was negative! Clipping Eigenvalues to 0+epsilon from -1.5677338183195388e-07\n",
      "2018-07-05 18:48:51 [WARNING] root: Determinant was negative! Clipping Eigenvalues to 0+epsilon from -8.867835532555546e-08\n",
      "2018-07-05 18:48:51 [WARNING] root: Determinant was negative! Clipping Eigenvalues to 0+epsilon from -5.497457777892123e-08\n",
      "2018-07-05 18:48:51 [WARNING] root: Determinant was negative! Clipping Eigenvalues to 0+epsilon from -4.99065777148644e-07\n",
      "2018-07-05 18:48:51 [WARNING] root: Determinant was negative! Clipping Eigenvalues to 0+epsilon from -1.3072334468233748e-06\n",
      "2018-07-05 18:48:51 [WARNING] root: Determinant was negative! Clipping Eigenvalues to 0+epsilon from -7.239934234348766e-07\n",
      "2018-07-05 18:48:51 [WARNING] root: Determinant was negative! Clipping Eigenvalues to 0+epsilon from -3.523768441482389e-07\n",
      "2018-07-05 18:48:51 [WARNING] root: Determinant was negative! Clipping Eigenvalues to 0+epsilon from -4.846505774480647e-08\n",
      "2018-07-05 18:48:51 [WARNING] root: Determinant was negative! Clipping Eigenvalues to 0+epsilon from -6.175661582119574e-08\n",
      "2018-07-05 18:48:51 [WARNING] root: Determinant was negative! Clipping Eigenvalues to 0+epsilon from -3.6012042414768075e-07\n",
      "2018-07-05 18:48:51 [WARNING] root: Determinant was negative! Clipping Eigenvalues to 0+epsilon from -4.791469905285339e-07\n",
      "2018-07-05 18:48:51 [WARNING] root: Determinant was negative! Clipping Eigenvalues to 0+epsilon from -1.3942377563580521e-07\n",
      "2018-07-05 18:48:51 [WARNING] root: Determinant was negative! Clipping Eigenvalues to 0+epsilon from -1.6721519102702587e-07\n",
      "2018-07-05 18:48:51 [WARNING] root: Determinant was negative! Clipping Eigenvalues to 0+epsilon from -2.4605574822089693e-07\n",
      "2018-07-05 18:48:51 [WARNING] root: Determinant was negative! Clipping Eigenvalues to 0+epsilon from -1.1972709046403907e-07\n",
      "2018-07-05 18:48:51 [WARNING] root: Determinant was negative! Clipping Eigenvalues to 0+epsilon from -4.795861059392337e-07\n",
      "2018-07-05 18:48:51 [WARNING] root: Determinant was negative! Clipping Eigenvalues to 0+epsilon from -8.978274763649097e-07\n",
      "2018-07-05 18:48:51 [WARNING] root: Determinant was negative! Clipping Eigenvalues to 0+epsilon from -6.098674703025608e-07\n",
      "2018-07-05 18:48:51 [WARNING] root: Determinant was negative! Clipping Eigenvalues to 0+epsilon from -1.1785733988745051e-07\n",
      "2018-07-05 18:48:51 [WARNING] root: Determinant was negative! Clipping Eigenvalues to 0+epsilon from -9.331436245929581e-08\n",
      "2018-07-05 18:48:51 [WARNING] root: Determinant was negative! Clipping Eigenvalues to 0+epsilon from -4.4596447423828067e-07\n",
      "2018-07-05 18:48:51 [WARNING] root: Determinant was negative! Clipping Eigenvalues to 0+epsilon from -2.653841590927186e-07\n",
      "2018-07-05 18:48:51 [WARNING] root: Determinant was negative! Clipping Eigenvalues to 0+epsilon from -1.028103540079428e-07\n",
      "2018-07-05 18:48:51 [WARNING] root: Determinant was negative! Clipping Eigenvalues to 0+epsilon from -2.203910156595157e-07\n",
      "2018-07-05 18:48:51 [WARNING] root: Determinant was negative! Clipping Eigenvalues to 0+epsilon from -2.404265444511111e-07\n",
      "2018-07-05 18:48:51 [WARNING] root: Determinant was negative! Clipping Eigenvalues to 0+epsilon from -3.9163080600701505e-07\n",
      "2018-07-05 18:48:51 [WARNING] root: Determinant was negative! Clipping Eigenvalues to 0+epsilon from -4.683159033902484e-07\n",
      "2018-07-05 18:48:51 [WARNING] root: Determinant was negative! Clipping Eigenvalues to 0+epsilon from -4.639537110051606e-07\n",
      "2018-07-05 18:48:51 [WARNING] root: Determinant was negative! Clipping Eigenvalues to 0+epsilon from -4.1016900098611586e-08\n",
      "2018-07-05 18:48:51 [ERROR] src.evaluation.evaluator: An exception occurred while training DAGMM_NNAutoEncoder_withoutWindow on Syn Extreme Outliers (mis=0.45): Lapack Error getrf : U(3,3) is 0, U is singular at /pytorch/aten/src/TH/generic/THTensorLapack.c:514\n",
      "2018-07-05 18:48:51 [ERROR] src.evaluation.evaluator: Traceback (most recent call last):\n",
      "  File \"../src/evaluation/evaluator.py\", line 122, in evaluate\n",
      "    det.fit(X_train.copy(), y_train.copy())\n",
      "  File \"../src/algorithms/dagmm.py\", line 203, in fit\n",
      "    self.dagmm_step(input_data.float())\n",
      "  File \"../src/algorithms/dagmm.py\", line 177, in dagmm_step\n",
      "    self.lambda_cov_diag)\n",
      "  File \"../src/algorithms/dagmm.py\", line 144, in loss_function\n",
      "    sample_energy, cov_diag = self.compute_energy(z, phi, mu, cov)\n",
      "  File \"../src/algorithms/dagmm.py\", line 113, in compute_energy\n",
      "    cov_inverse.append(torch.inverse(cov_k).unsqueeze(0))\n",
      "RuntimeError: Lapack Error getrf : U(3,3) is 0, U is singular at /pytorch/aten/src/TH/generic/THTensorLapack.c:514\n",
      "\n"
     ]
    },
    {
     "name": "stderr",
     "output_type": "stream",
     "text": [
      "\r",
      "                                                                               \r",
      "\r",
      " 42% (3 of 7) |###########               | Elapsed Time: 0:03:19 ETA:   0:03:15"
     ]
    },
    {
     "name": "stdout",
     "output_type": "stream",
     "text": [
      "2018-07-05 18:48:51 [INFO] src.evaluation.evaluator: Training DAGMM_NNAutoEncoder_withWindow on Syn Extreme Outliers (mis=0.45) with seed 3198619892\n"
     ]
    },
    {
     "name": "stderr",
     "output_type": "stream",
     "text": [
      "\r",
      "                                                                               \r",
      "\r",
      " 57% (4 of 7) |##############            | Elapsed Time: 0:03:23 ETA:   0:00:11"
     ]
    },
    {
     "name": "stdout",
     "output_type": "stream",
     "text": [
      "2018-07-05 18:48:55 [INFO] src.evaluation.evaluator: Training DAGMM_LSTMAutoEncoder_withWindow on Syn Extreme Outliers (mis=0.45) with seed 3198619892\n"
     ]
    },
    {
     "name": "stderr",
     "output_type": "stream",
     "text": [
      "\r",
      "                                                                               \r",
      "\r",
      " 71% (5 of 7) |##################        | Elapsed Time: 0:03:53 ETA:   0:01:00"
     ]
    },
    {
     "name": "stdout",
     "output_type": "stream",
     "text": [
      "2018-07-05 18:49:25 [INFO] src.evaluation.evaluator: Training Recurrent EBM on Syn Extreme Outliers (mis=0.45) with seed 3198619892\n"
     ]
    },
    {
     "name": "stderr",
     "output_type": "stream",
     "text": [
      "100%|██████████| 15/15 [00:06<00:00,  2.41it/s]\n",
      " 85% (6 of 7) |######################    | Elapsed Time: 0:04:05 ETA:   0:00:12"
     ]
    },
    {
     "name": "stdout",
     "output_type": "stream",
     "text": [
      "2018-07-05 18:49:37 [INFO] src.evaluation.evaluator: Training Donut on Syn Extreme Outliers (mis=0.45) with seed 3198619892\n"
     ]
    },
    {
     "name": "stderr",
     "output_type": "stream",
     "text": [
      "100%|██████████| 1/1 [00:06<00:00,  6.75s/it]\n",
      "100% (7 of 7) |##########################| Elapsed Time: 0:04:16 Time:  0:04:16\n",
      "N/A% (0 of 7) |                          | Elapsed Time: 0:00:00 ETA:  --:--:--"
     ]
    },
    {
     "name": "stdout",
     "output_type": "stream",
     "text": [
      "2018-07-05 18:49:48 [INFO] src.evaluation.evaluator: Training LSTM-AD on Syn Extreme Outliers (mis=0.675) with seed 3198619892\n"
     ]
    },
    {
     "name": "stderr",
     "output_type": "stream",
     "text": [
      "\r",
      "                                                                               \r",
      "\r",
      " 14% (1 of 7) |###                       | Elapsed Time: 0:01:41 ETA:   0:10:06"
     ]
    },
    {
     "name": "stdout",
     "output_type": "stream",
     "text": [
      "2018-07-05 18:51:29 [INFO] src.evaluation.evaluator: Training LSTMED on Syn Extreme Outliers (mis=0.675) with seed 3198619892\n"
     ]
    },
    {
     "name": "stderr",
     "output_type": "stream",
     "text": [
      "\r",
      "                                                                               \r",
      "\r",
      " 28% (2 of 7) |#######                   | Elapsed Time: 0:03:17 ETA:   0:08:03"
     ]
    },
    {
     "name": "stdout",
     "output_type": "stream",
     "text": [
      "2018-07-05 18:53:06 [INFO] src.evaluation.evaluator: Training DAGMM_NNAutoEncoder_withoutWindow on Syn Extreme Outliers (mis=0.675) with seed 3198619892\n",
      "2018-07-05 18:53:06 [WARNING] root: Determinant was negative! Clipping Eigenvalues to 0+epsilon from -2.0993122973322897e-07\n",
      "2018-07-05 18:53:06 [WARNING] root: Determinant was negative! Clipping Eigenvalues to 0+epsilon from -2.1035353370280063e-07\n",
      "2018-07-05 18:53:06 [WARNING] root: Determinant was negative! Clipping Eigenvalues to 0+epsilon from -2.7345481612428557e-07\n",
      "2018-07-05 18:53:06 [WARNING] root: Determinant was negative! Clipping Eigenvalues to 0+epsilon from -5.183866278457572e-07\n",
      "2018-07-05 18:53:06 [WARNING] root: Determinant was negative! Clipping Eigenvalues to 0+epsilon from -2.917076642461325e-07\n",
      "2018-07-05 18:53:06 [WARNING] root: Determinant was negative! Clipping Eigenvalues to 0+epsilon from -3.1702867886451713e-07\n",
      "2018-07-05 18:53:06 [WARNING] root: Determinant was negative! Clipping Eigenvalues to 0+epsilon from -1.816904244833495e-07\n",
      "2018-07-05 18:53:06 [ERROR] src.evaluation.evaluator: An exception occurred while training DAGMM_NNAutoEncoder_withoutWindow on Syn Extreme Outliers (mis=0.675): Lapack Error getrf : U(3,3) is 0, U is singular at /pytorch/aten/src/TH/generic/THTensorLapack.c:514\n",
      "2018-07-05 18:53:06 [ERROR] src.evaluation.evaluator: Traceback (most recent call last):\n",
      "  File \"../src/evaluation/evaluator.py\", line 122, in evaluate\n",
      "    det.fit(X_train.copy(), y_train.copy())\n",
      "  File \"../src/algorithms/dagmm.py\", line 203, in fit\n",
      "    self.dagmm_step(input_data.float())\n",
      "  File \"../src/algorithms/dagmm.py\", line 177, in dagmm_step\n",
      "    self.lambda_cov_diag)\n",
      "  File \"../src/algorithms/dagmm.py\", line 144, in loss_function\n",
      "    sample_energy, cov_diag = self.compute_energy(z, phi, mu, cov)\n",
      "  File \"../src/algorithms/dagmm.py\", line 113, in compute_energy\n",
      "    cov_inverse.append(torch.inverse(cov_k).unsqueeze(0))\n",
      "RuntimeError: Lapack Error getrf : U(3,3) is 0, U is singular at /pytorch/aten/src/TH/generic/THTensorLapack.c:514\n",
      "\n",
      "2018-07-05 18:53:06 [INFO] src.evaluation.evaluator: Training DAGMM_NNAutoEncoder_withWindow on Syn Extreme Outliers (mis=0.675) with seed 3198619892\n"
     ]
    },
    {
     "name": "stderr",
     "output_type": "stream",
     "text": [
      "\r",
      "                                                                               \r",
      "\r",
      " 57% (4 of 7) |##############            | Elapsed Time: 0:03:21 ETA:   0:00:05"
     ]
    },
    {
     "name": "stdout",
     "output_type": "stream",
     "text": [
      "2018-07-05 18:53:10 [INFO] src.evaluation.evaluator: Training DAGMM_LSTMAutoEncoder_withWindow on Syn Extreme Outliers (mis=0.675) with seed 3198619892\n"
     ]
    },
    {
     "name": "stderr",
     "output_type": "stream",
     "text": [
      "\r",
      "                                                                               \r",
      "\r",
      " 71% (5 of 7) |##################        | Elapsed Time: 0:03:51 ETA:   0:01:00"
     ]
    },
    {
     "name": "stdout",
     "output_type": "stream",
     "text": [
      "2018-07-05 18:53:40 [INFO] src.evaluation.evaluator: Training Recurrent EBM on Syn Extreme Outliers (mis=0.675) with seed 3198619892\n"
     ]
    },
    {
     "name": "stderr",
     "output_type": "stream",
     "text": [
      "100%|██████████| 15/15 [00:06<00:00,  2.41it/s]\n",
      " 85% (6 of 7) |######################    | Elapsed Time: 0:04:04 ETA:   0:00:12"
     ]
    },
    {
     "name": "stdout",
     "output_type": "stream",
     "text": [
      "2018-07-05 18:53:52 [INFO] src.evaluation.evaluator: Training Donut on Syn Extreme Outliers (mis=0.675) with seed 3198619892\n"
     ]
    },
    {
     "name": "stderr",
     "output_type": "stream",
     "text": [
      "100%|██████████| 1/1 [00:06<00:00,  6.96s/it]\n",
      "100% (7 of 7) |##########################| Elapsed Time: 0:04:15 Time:  0:04:15\n",
      "N/A% (0 of 7) |                          | Elapsed Time: 0:00:00 ETA:  --:--:--"
     ]
    },
    {
     "name": "stdout",
     "output_type": "stream",
     "text": [
      "2018-07-05 18:54:04 [INFO] src.evaluation.evaluator: Training LSTM-AD on Syn Extreme Outliers (mis=0.9) with seed 3198619892\n"
     ]
    },
    {
     "name": "stderr",
     "output_type": "stream",
     "text": [
      "\r",
      "                                                                               \r",
      "\r",
      " 14% (1 of 7) |###                       | Elapsed Time: 0:01:41 ETA:   0:10:06"
     ]
    },
    {
     "name": "stdout",
     "output_type": "stream",
     "text": [
      "2018-07-05 18:55:45 [INFO] src.evaluation.evaluator: Training LSTMED on Syn Extreme Outliers (mis=0.9) with seed 3198619892\n"
     ]
    },
    {
     "name": "stderr",
     "output_type": "stream",
     "text": [
      "\r",
      "                                                                               \r",
      "\r",
      " 28% (2 of 7) |#######                   | Elapsed Time: 0:03:17 ETA:   0:08:03"
     ]
    },
    {
     "name": "stdout",
     "output_type": "stream",
     "text": [
      "2018-07-05 18:57:21 [INFO] src.evaluation.evaluator: Training DAGMM_NNAutoEncoder_withoutWindow on Syn Extreme Outliers (mis=0.9) with seed 3198619892\n",
      "2018-07-05 18:57:21 [WARNING] root: Determinant was negative! Clipping Eigenvalues to 0+epsilon from -5.3581647563305523e-08\n",
      "2018-07-05 18:57:21 [WARNING] root: Determinant was negative! Clipping Eigenvalues to 0+epsilon from -8.577823251698646e-08\n",
      "2018-07-05 18:57:21 [WARNING] root: Determinant was negative! Clipping Eigenvalues to 0+epsilon from -5.749977844970999e-07\n",
      "2018-07-05 18:57:21 [WARNING] root: Determinant was negative! Clipping Eigenvalues to 0+epsilon from -2.25290253119681e-09\n",
      "2018-07-05 18:57:21 [ERROR] src.evaluation.evaluator: An exception occurred while training DAGMM_NNAutoEncoder_withoutWindow on Syn Extreme Outliers (mis=0.9): Lapack Error getrf : U(3,3) is 0, U is singular at /pytorch/aten/src/TH/generic/THTensorLapack.c:514\n",
      "2018-07-05 18:57:21 [ERROR] src.evaluation.evaluator: Traceback (most recent call last):\n",
      "  File \"../src/evaluation/evaluator.py\", line 122, in evaluate\n",
      "    det.fit(X_train.copy(), y_train.copy())\n",
      "  File \"../src/algorithms/dagmm.py\", line 203, in fit\n",
      "    self.dagmm_step(input_data.float())\n",
      "  File \"../src/algorithms/dagmm.py\", line 177, in dagmm_step\n",
      "    self.lambda_cov_diag)\n",
      "  File \"../src/algorithms/dagmm.py\", line 144, in loss_function\n",
      "    sample_energy, cov_diag = self.compute_energy(z, phi, mu, cov)\n",
      "  File \"../src/algorithms/dagmm.py\", line 113, in compute_energy\n",
      "    cov_inverse.append(torch.inverse(cov_k).unsqueeze(0))\n",
      "RuntimeError: Lapack Error getrf : U(3,3) is 0, U is singular at /pytorch/aten/src/TH/generic/THTensorLapack.c:514\n",
      "\n",
      "2018-07-05 18:57:21 [INFO] src.evaluation.evaluator: Training DAGMM_NNAutoEncoder_withWindow on Syn Extreme Outliers (mis=0.9) with seed 3198619892\n"
     ]
    },
    {
     "name": "stderr",
     "output_type": "stream",
     "text": [
      "\r",
      "                                                                               \r",
      "\r",
      " 57% (4 of 7) |##############            | Elapsed Time: 0:03:21 ETA:   0:00:05"
     ]
    },
    {
     "name": "stdout",
     "output_type": "stream",
     "text": [
      "2018-07-05 18:57:25 [INFO] src.evaluation.evaluator: Training DAGMM_LSTMAutoEncoder_withWindow on Syn Extreme Outliers (mis=0.9) with seed 3198619892\n"
     ]
    },
    {
     "name": "stderr",
     "output_type": "stream",
     "text": [
      "\r",
      "                                                                               \r",
      "\r",
      " 71% (5 of 7) |##################        | Elapsed Time: 0:03:51 ETA:   0:01:00"
     ]
    },
    {
     "name": "stdout",
     "output_type": "stream",
     "text": [
      "2018-07-05 18:57:55 [INFO] src.evaluation.evaluator: Training Recurrent EBM on Syn Extreme Outliers (mis=0.9) with seed 3198619892\n"
     ]
    },
    {
     "name": "stderr",
     "output_type": "stream",
     "text": [
      "100%|██████████| 15/15 [00:06<00:00,  2.39it/s]\n",
      " 85% (6 of 7) |######################    | Elapsed Time: 0:04:04 ETA:   0:00:12"
     ]
    },
    {
     "name": "stdout",
     "output_type": "stream",
     "text": [
      "2018-07-05 18:58:08 [INFO] src.evaluation.evaluator: Training Donut on Syn Extreme Outliers (mis=0.9) with seed 3198619892\n"
     ]
    },
    {
     "name": "stderr",
     "output_type": "stream",
     "text": [
      "100%|██████████| 1/1 [00:07<00:00,  7.18s/it]\n",
      "100% (7 of 7) |##########################| Elapsed Time: 0:04:15 Time:  0:04:15\n",
      "100% (5 of 5) |##########################| Elapsed Time: 0:22:06 Time:  0:22:06\n"
     ]
    },
    {
     "name": "stdout",
     "output_type": "stream",
     "text": [
      "2018-07-05 18:58:22 [INFO] src.evaluation.evaluator: Store evaluator results at /home/thomas/work/notebooks/data/missing-run-5-3198619892-2018-07-05-185822.pkl\n"
     ]
    },
    {
     "name": "stderr",
     "output_type": "stream",
     "text": [
      "N/A% (0 of 7) |                          | Elapsed Time: 0:00:00 ETA:  --:--:--"
     ]
    },
    {
     "name": "stdout",
     "output_type": "stream",
     "text": [
      "2018-07-05 18:58:22 [INFO] src.evaluation.evaluator: Training LSTM-AD on Syn Extreme Outliers (mis=0.0) with seed 2436925548\n"
     ]
    },
    {
     "name": "stderr",
     "output_type": "stream",
     "text": [
      "\r",
      "                                                                               \r",
      "\r",
      " 14% (1 of 7) |###                       | Elapsed Time: 0:01:41 ETA:   0:10:08"
     ]
    },
    {
     "name": "stdout",
     "output_type": "stream",
     "text": [
      "2018-07-05 19:00:03 [INFO] src.evaluation.evaluator: Training LSTMED on Syn Extreme Outliers (mis=0.0) with seed 2436925548\n"
     ]
    },
    {
     "name": "stderr",
     "output_type": "stream",
     "text": [
      "\r",
      "                                                                               \r",
      "\r",
      " 28% (2 of 7) |#######                   | Elapsed Time: 0:03:18 ETA:   0:08:04"
     ]
    },
    {
     "name": "stdout",
     "output_type": "stream",
     "text": [
      "2018-07-05 19:01:40 [INFO] src.evaluation.evaluator: Training DAGMM_NNAutoEncoder_withoutWindow on Syn Extreme Outliers (mis=0.0) with seed 2436925548\n",
      "2018-07-05 19:01:40 [ERROR] src.evaluation.evaluator: An exception occurred while training DAGMM_NNAutoEncoder_withoutWindow on Syn Extreme Outliers (mis=0.0): Lapack Error getrf : U(3,3) is 0, U is singular at /pytorch/aten/src/TH/generic/THTensorLapack.c:514\n",
      "2018-07-05 19:01:40 [ERROR] src.evaluation.evaluator: Traceback (most recent call last):\n",
      "  File \"../src/evaluation/evaluator.py\", line 122, in evaluate\n",
      "    det.fit(X_train.copy(), y_train.copy())\n",
      "  File \"../src/algorithms/dagmm.py\", line 203, in fit\n",
      "    self.dagmm_step(input_data.float())\n",
      "  File \"../src/algorithms/dagmm.py\", line 177, in dagmm_step\n",
      "    self.lambda_cov_diag)\n",
      "  File \"../src/algorithms/dagmm.py\", line 144, in loss_function\n",
      "    sample_energy, cov_diag = self.compute_energy(z, phi, mu, cov)\n",
      "  File \"../src/algorithms/dagmm.py\", line 113, in compute_energy\n",
      "    cov_inverse.append(torch.inverse(cov_k).unsqueeze(0))\n",
      "RuntimeError: Lapack Error getrf : U(3,3) is 0, U is singular at /pytorch/aten/src/TH/generic/THTensorLapack.c:514\n",
      "\n"
     ]
    },
    {
     "name": "stderr",
     "output_type": "stream",
     "text": [
      "\r",
      "                                                                               \r",
      "\r",
      " 42% (3 of 7) |###########               | Elapsed Time: 0:03:18 ETA:   0:03:14"
     ]
    },
    {
     "name": "stdout",
     "output_type": "stream",
     "text": [
      "2018-07-05 19:01:40 [INFO] src.evaluation.evaluator: Training DAGMM_NNAutoEncoder_withWindow on Syn Extreme Outliers (mis=0.0) with seed 2436925548\n"
     ]
    },
    {
     "name": "stderr",
     "output_type": "stream",
     "text": [
      "\r",
      "                                                                               \r",
      "\r",
      " 57% (4 of 7) |##############            | Elapsed Time: 0:03:22 ETA:   0:00:12"
     ]
    },
    {
     "name": "stdout",
     "output_type": "stream",
     "text": [
      "2018-07-05 19:01:44 [INFO] src.evaluation.evaluator: Training DAGMM_LSTMAutoEncoder_withWindow on Syn Extreme Outliers (mis=0.0) with seed 2436925548\n"
     ]
    },
    {
     "name": "stderr",
     "output_type": "stream",
     "text": [
      "\r",
      "                                                                               \r",
      "\r",
      " 71% (5 of 7) |##################        | Elapsed Time: 0:03:52 ETA:   0:01:00"
     ]
    },
    {
     "name": "stdout",
     "output_type": "stream",
     "text": [
      "2018-07-05 19:02:15 [INFO] src.evaluation.evaluator: Training Recurrent EBM on Syn Extreme Outliers (mis=0.0) with seed 2436925548\n"
     ]
    },
    {
     "name": "stderr",
     "output_type": "stream",
     "text": [
      "100%|██████████| 15/15 [00:06<00:00,  2.39it/s]\n",
      " 85% (6 of 7) |######################    | Elapsed Time: 0:04:05 ETA:   0:00:12"
     ]
    },
    {
     "name": "stdout",
     "output_type": "stream",
     "text": [
      "2018-07-05 19:02:27 [INFO] src.evaluation.evaluator: Training Donut on Syn Extreme Outliers (mis=0.0) with seed 2436925548\n"
     ]
    },
    {
     "name": "stderr",
     "output_type": "stream",
     "text": [
      "\r",
      "  0%|          | 0/1 [00:00<?, ?it/s]"
     ]
    },
    {
     "name": "stdout",
     "output_type": "stream",
     "text": [
      "INFO:tensorflow:Restoring parameters from /tmp/tmp5_3f_asj/variables.dat-1200\n",
      "2018-07-05 19:03:16 [INFO] tensorflow: Restoring parameters from /tmp/tmp5_3f_asj/variables.dat-1200\n"
     ]
    },
    {
     "name": "stderr",
     "output_type": "stream",
     "text": [
      "100%|██████████| 1/1 [00:48<00:00, 48.77s/it]\n",
      "100% (7 of 7) |##########################| Elapsed Time: 0:04:58 Time:  0:04:58\n",
      "N/A% (0 of 7) |                          | Elapsed Time: 0:00:00 ETA:  --:--:--"
     ]
    },
    {
     "name": "stdout",
     "output_type": "stream",
     "text": [
      "2018-07-05 19:03:20 [INFO] src.evaluation.evaluator: Training LSTM-AD on Syn Extreme Outliers (mis=0.225) with seed 2436925548\n"
     ]
    },
    {
     "name": "stderr",
     "output_type": "stream",
     "text": [
      "\r",
      "                                                                               \r",
      "\r",
      " 14% (1 of 7) |###                       | Elapsed Time: 0:01:42 ETA:   0:10:15"
     ]
    },
    {
     "name": "stdout",
     "output_type": "stream",
     "text": [
      "2018-07-05 19:05:03 [INFO] src.evaluation.evaluator: Training LSTMED on Syn Extreme Outliers (mis=0.225) with seed 2436925548\n"
     ]
    },
    {
     "name": "stderr",
     "output_type": "stream",
     "text": [
      "\r",
      "                                                                               \r",
      "\r",
      " 28% (2 of 7) |#######                   | Elapsed Time: 0:03:19 ETA:   0:08:03"
     ]
    },
    {
     "name": "stdout",
     "output_type": "stream",
     "text": [
      "2018-07-05 19:06:40 [INFO] src.evaluation.evaluator: Training DAGMM_NNAutoEncoder_withoutWindow on Syn Extreme Outliers (mis=0.225) with seed 2436925548\n",
      "2018-07-05 19:06:40 [WARNING] root: Determinant was negative! Clipping Eigenvalues to 0+epsilon from -9.893792451975969e-08\n",
      "2018-07-05 19:06:40 [ERROR] src.evaluation.evaluator: An exception occurred while training DAGMM_NNAutoEncoder_withoutWindow on Syn Extreme Outliers (mis=0.225): Lapack Error getrf : U(3,3) is 0, U is singular at /pytorch/aten/src/TH/generic/THTensorLapack.c:514\n",
      "2018-07-05 19:06:40 [ERROR] src.evaluation.evaluator: Traceback (most recent call last):\n",
      "  File \"../src/evaluation/evaluator.py\", line 122, in evaluate\n",
      "    det.fit(X_train.copy(), y_train.copy())\n",
      "  File \"../src/algorithms/dagmm.py\", line 203, in fit\n",
      "    self.dagmm_step(input_data.float())\n",
      "  File \"../src/algorithms/dagmm.py\", line 177, in dagmm_step\n",
      "    self.lambda_cov_diag)\n",
      "  File \"../src/algorithms/dagmm.py\", line 144, in loss_function\n",
      "    sample_energy, cov_diag = self.compute_energy(z, phi, mu, cov)\n",
      "  File \"../src/algorithms/dagmm.py\", line 113, in compute_energy\n",
      "    cov_inverse.append(torch.inverse(cov_k).unsqueeze(0))\n",
      "RuntimeError: Lapack Error getrf : U(3,3) is 0, U is singular at /pytorch/aten/src/TH/generic/THTensorLapack.c:514\n",
      "\n"
     ]
    },
    {
     "name": "stderr",
     "output_type": "stream",
     "text": [
      "\r",
      "                                                                               \r",
      "\r",
      " 42% (3 of 7) |###########               | Elapsed Time: 0:03:19 ETA:   0:06:26"
     ]
    },
    {
     "name": "stdout",
     "output_type": "stream",
     "text": [
      "2018-07-05 19:06:40 [INFO] src.evaluation.evaluator: Training DAGMM_NNAutoEncoder_withWindow on Syn Extreme Outliers (mis=0.225) with seed 2436925548\n"
     ]
    },
    {
     "name": "stderr",
     "output_type": "stream",
     "text": [
      "\r",
      "                                                                               \r",
      "\r",
      " 57% (4 of 7) |##############            | Elapsed Time: 0:03:23 ETA:   0:00:06"
     ]
    },
    {
     "name": "stdout",
     "output_type": "stream",
     "text": [
      "2018-07-05 19:06:44 [INFO] src.evaluation.evaluator: Training DAGMM_LSTMAutoEncoder_withWindow on Syn Extreme Outliers (mis=0.225) with seed 2436925548\n"
     ]
    },
    {
     "name": "stderr",
     "output_type": "stream",
     "text": [
      "\r",
      "                                                                               \r",
      "\r",
      " 71% (5 of 7) |##################        | Elapsed Time: 0:03:53 ETA:   0:01:00"
     ]
    },
    {
     "name": "stdout",
     "output_type": "stream",
     "text": [
      "2018-07-05 19:07:14 [INFO] src.evaluation.evaluator: Training Recurrent EBM on Syn Extreme Outliers (mis=0.225) with seed 2436925548\n"
     ]
    },
    {
     "name": "stderr",
     "output_type": "stream",
     "text": [
      "100%|██████████| 15/15 [00:06<00:00,  2.41it/s]\n",
      " 85% (6 of 7) |######################    | Elapsed Time: 0:04:06 ETA:   0:00:12"
     ]
    },
    {
     "name": "stdout",
     "output_type": "stream",
     "text": [
      "2018-07-05 19:07:27 [INFO] src.evaluation.evaluator: Training Donut on Syn Extreme Outliers (mis=0.225) with seed 2436925548\n"
     ]
    },
    {
     "name": "stderr",
     "output_type": "stream",
     "text": [
      "100%|██████████| 1/1 [00:07<00:00,  7.75s/it]\n",
      "100% (7 of 7) |##########################| Elapsed Time: 0:04:18 Time:  0:04:18\n",
      "N/A% (0 of 7) |                          | Elapsed Time: 0:00:00 ETA:  --:--:--"
     ]
    },
    {
     "name": "stdout",
     "output_type": "stream",
     "text": [
      "2018-07-05 19:07:39 [INFO] src.evaluation.evaluator: Training LSTM-AD on Syn Extreme Outliers (mis=0.45) with seed 2436925548\n"
     ]
    },
    {
     "name": "stderr",
     "output_type": "stream",
     "text": [
      "\r",
      "                                                                               \r",
      "\r",
      " 14% (1 of 7) |###                       | Elapsed Time: 0:01:41 ETA:   0:10:08"
     ]
    },
    {
     "name": "stdout",
     "output_type": "stream",
     "text": [
      "2018-07-05 19:09:20 [INFO] src.evaluation.evaluator: Training LSTMED on Syn Extreme Outliers (mis=0.45) with seed 2436925548\n"
     ]
    },
    {
     "name": "stderr",
     "output_type": "stream",
     "text": [
      "\r",
      "                                                                               \r",
      "\r",
      " 28% (2 of 7) |#######                   | Elapsed Time: 0:03:18 ETA:   0:08:03"
     ]
    },
    {
     "name": "stdout",
     "output_type": "stream",
     "text": [
      "2018-07-05 19:10:57 [INFO] src.evaluation.evaluator: Training DAGMM_NNAutoEncoder_withoutWindow on Syn Extreme Outliers (mis=0.45) with seed 2436925548\n",
      "2018-07-05 19:10:57 [WARNING] root: Determinant was negative! Clipping Eigenvalues to 0+epsilon from -5.146324042470951e-07\n",
      "2018-07-05 19:10:57 [WARNING] root: Determinant was negative! Clipping Eigenvalues to 0+epsilon from -5.215854343987303e-07\n",
      "2018-07-05 19:10:57 [WARNING] root: Determinant was negative! Clipping Eigenvalues to 0+epsilon from -3.575206903860817e-07\n",
      "2018-07-05 19:10:57 [WARNING] root: Determinant was negative! Clipping Eigenvalues to 0+epsilon from -6.625383264236007e-08\n",
      "2018-07-05 19:10:57 [WARNING] root: Determinant was negative! Clipping Eigenvalues to 0+epsilon from -9.990385052560669e-08\n",
      "2018-07-05 19:10:57 [WARNING] root: Determinant was negative! Clipping Eigenvalues to 0+epsilon from -1.4630985845087707e-07\n",
      "2018-07-05 19:10:57 [WARNING] root: Determinant was negative! Clipping Eigenvalues to 0+epsilon from -3.185335799571476e-07\n",
      "2018-07-05 19:10:57 [WARNING] root: Determinant was negative! Clipping Eigenvalues to 0+epsilon from -2.8427407983144803e-07\n",
      "2018-07-05 19:10:57 [WARNING] root: Determinant was negative! Clipping Eigenvalues to 0+epsilon from -2.013800752820316e-07\n",
      "2018-07-05 19:10:57 [WARNING] root: Determinant was negative! Clipping Eigenvalues to 0+epsilon from -3.594562940634205e-07\n",
      "2018-07-05 19:10:57 [WARNING] root: Determinant was negative! Clipping Eigenvalues to 0+epsilon from -2.7808150093733275e-07\n",
      "2018-07-05 19:10:57 [WARNING] root: Determinant was negative! Clipping Eigenvalues to 0+epsilon from -1.4553039306974824e-07\n",
      "2018-07-05 19:10:57 [WARNING] root: Determinant was negative! Clipping Eigenvalues to 0+epsilon from -6.888838015584042e-07\n",
      "2018-07-05 19:10:57 [WARNING] root: Determinant was negative! Clipping Eigenvalues to 0+epsilon from -3.8878045671708605e-08\n",
      "2018-07-05 19:10:57 [WARNING] root: Determinant was negative! Clipping Eigenvalues to 0+epsilon from -6.66819460093393e-07\n",
      "2018-07-05 19:10:57 [WARNING] root: Determinant was negative! Clipping Eigenvalues to 0+epsilon from -9.597832928420758e-08\n",
      "2018-07-05 19:10:57 [ERROR] src.evaluation.evaluator: An exception occurred while training DAGMM_NNAutoEncoder_withoutWindow on Syn Extreme Outliers (mis=0.45): Lapack Error getrf : U(3,3) is 0, U is singular at /pytorch/aten/src/TH/generic/THTensorLapack.c:514\n",
      "2018-07-05 19:10:57 [ERROR] src.evaluation.evaluator: Traceback (most recent call last):\n",
      "  File \"../src/evaluation/evaluator.py\", line 122, in evaluate\n",
      "    det.fit(X_train.copy(), y_train.copy())\n",
      "  File \"../src/algorithms/dagmm.py\", line 203, in fit\n",
      "    self.dagmm_step(input_data.float())\n",
      "  File \"../src/algorithms/dagmm.py\", line 177, in dagmm_step\n",
      "    self.lambda_cov_diag)\n",
      "  File \"../src/algorithms/dagmm.py\", line 144, in loss_function\n",
      "    sample_energy, cov_diag = self.compute_energy(z, phi, mu, cov)\n",
      "  File \"../src/algorithms/dagmm.py\", line 113, in compute_energy\n",
      "    cov_inverse.append(torch.inverse(cov_k).unsqueeze(0))\n",
      "RuntimeError: Lapack Error getrf : U(3,3) is 0, U is singular at /pytorch/aten/src/TH/generic/THTensorLapack.c:514\n",
      "\n"
     ]
    },
    {
     "name": "stderr",
     "output_type": "stream",
     "text": [
      "\r",
      "                                                                               \r",
      "\r",
      " 42% (3 of 7) |###########               | Elapsed Time: 0:03:18 ETA:   0:03:14"
     ]
    },
    {
     "name": "stdout",
     "output_type": "stream",
     "text": [
      "2018-07-05 19:10:57 [INFO] src.evaluation.evaluator: Training DAGMM_NNAutoEncoder_withWindow on Syn Extreme Outliers (mis=0.45) with seed 2436925548\n"
     ]
    },
    {
     "name": "stderr",
     "output_type": "stream",
     "text": [
      "\r",
      "                                                                               \r",
      "\r",
      " 57% (4 of 7) |##############            | Elapsed Time: 0:03:22 ETA:   0:00:11"
     ]
    },
    {
     "name": "stdout",
     "output_type": "stream",
     "text": [
      "2018-07-05 19:11:01 [INFO] src.evaluation.evaluator: Training DAGMM_LSTMAutoEncoder_withWindow on Syn Extreme Outliers (mis=0.45) with seed 2436925548\n"
     ]
    },
    {
     "name": "stderr",
     "output_type": "stream",
     "text": [
      "\r",
      "                                                                               \r",
      "\r",
      " 71% (5 of 7) |##################        | Elapsed Time: 0:03:52 ETA:   0:00:59"
     ]
    },
    {
     "name": "stdout",
     "output_type": "stream",
     "text": [
      "2018-07-05 19:11:31 [INFO] src.evaluation.evaluator: Training Recurrent EBM on Syn Extreme Outliers (mis=0.45) with seed 2436925548\n"
     ]
    },
    {
     "name": "stderr",
     "output_type": "stream",
     "text": [
      "100%|██████████| 15/15 [00:06<00:00,  2.34it/s]\n",
      " 85% (6 of 7) |######################    | Elapsed Time: 0:04:05 ETA:   0:00:13"
     ]
    },
    {
     "name": "stdout",
     "output_type": "stream",
     "text": [
      "2018-07-05 19:11:45 [INFO] src.evaluation.evaluator: Training Donut on Syn Extreme Outliers (mis=0.45) with seed 2436925548\n"
     ]
    },
    {
     "name": "stderr",
     "output_type": "stream",
     "text": [
      "100%|██████████| 1/1 [00:08<00:00,  8.05s/it]\n",
      "100% (7 of 7) |##########################| Elapsed Time: 0:04:18 Time:  0:04:18\n",
      "N/A% (0 of 7) |                          | Elapsed Time: 0:00:00 ETA:  --:--:--"
     ]
    },
    {
     "name": "stdout",
     "output_type": "stream",
     "text": [
      "2018-07-05 19:11:57 [INFO] src.evaluation.evaluator: Training LSTM-AD on Syn Extreme Outliers (mis=0.675) with seed 2436925548\n"
     ]
    },
    {
     "name": "stderr",
     "output_type": "stream",
     "text": [
      "\r",
      "                                                                               \r",
      "\r",
      " 14% (1 of 7) |###                       | Elapsed Time: 0:01:41 ETA:   0:10:07"
     ]
    },
    {
     "name": "stdout",
     "output_type": "stream",
     "text": [
      "2018-07-05 19:13:38 [INFO] src.evaluation.evaluator: Training LSTMED on Syn Extreme Outliers (mis=0.675) with seed 2436925548\n"
     ]
    },
    {
     "name": "stderr",
     "output_type": "stream",
     "text": [
      "\r",
      "                                                                               \r",
      "\r",
      " 28% (2 of 7) |#######                   | Elapsed Time: 0:03:18 ETA:   0:08:04"
     ]
    },
    {
     "name": "stdout",
     "output_type": "stream",
     "text": [
      "2018-07-05 19:15:15 [INFO] src.evaluation.evaluator: Training DAGMM_NNAutoEncoder_withoutWindow on Syn Extreme Outliers (mis=0.675) with seed 2436925548\n",
      "2018-07-05 19:15:15 [WARNING] root: Determinant was negative! Clipping Eigenvalues to 0+epsilon from -7.505891375103602e-08\n",
      "2018-07-05 19:15:15 [WARNING] root: Determinant was negative! Clipping Eigenvalues to 0+epsilon from -6.640287324444216e-07\n",
      "2018-07-05 19:15:15 [WARNING] root: Determinant was negative! Clipping Eigenvalues to 0+epsilon from -4.2884505546680884e-07\n",
      "2018-07-05 19:15:15 [WARNING] root: Determinant was negative! Clipping Eigenvalues to 0+epsilon from -2.414251696336578e-07\n",
      "2018-07-05 19:15:15 [WARNING] root: Determinant was negative! Clipping Eigenvalues to 0+epsilon from -3.202729885742883e-07\n",
      "2018-07-05 19:15:15 [WARNING] root: Determinant was negative! Clipping Eigenvalues to 0+epsilon from -5.392461730480136e-07\n",
      "2018-07-05 19:15:15 [WARNING] root: Determinant was negative! Clipping Eigenvalues to 0+epsilon from -3.0574864240406896e-07\n",
      "2018-07-05 19:15:15 [WARNING] root: Determinant was negative! Clipping Eigenvalues to 0+epsilon from -1.86269190294297e-07\n",
      "2018-07-05 19:15:15 [WARNING] root: Determinant was negative! Clipping Eigenvalues to 0+epsilon from -1.400832729814283e-07\n",
      "2018-07-05 19:15:15 [WARNING] root: Determinant was negative! Clipping Eigenvalues to 0+epsilon from -1.4910594359207607e-07\n",
      "2018-07-05 19:15:15 [WARNING] root: Determinant was negative! Clipping Eigenvalues to 0+epsilon from -3.3582878700144647e-07\n",
      "2018-07-05 19:15:16 [WARNING] root: Determinant was negative! Clipping Eigenvalues to 0+epsilon from -2.2766869278711965e-07\n",
      "2018-07-05 19:15:16 [ERROR] src.evaluation.evaluator: An exception occurred while training DAGMM_NNAutoEncoder_withoutWindow on Syn Extreme Outliers (mis=0.675): Lapack Error getrf : U(3,3) is 0, U is singular at /pytorch/aten/src/TH/generic/THTensorLapack.c:514\n",
      "2018-07-05 19:15:16 [ERROR] src.evaluation.evaluator: Traceback (most recent call last):\n",
      "  File \"../src/evaluation/evaluator.py\", line 122, in evaluate\n",
      "    det.fit(X_train.copy(), y_train.copy())\n",
      "  File \"../src/algorithms/dagmm.py\", line 203, in fit\n",
      "    self.dagmm_step(input_data.float())\n",
      "  File \"../src/algorithms/dagmm.py\", line 177, in dagmm_step\n",
      "    self.lambda_cov_diag)\n",
      "  File \"../src/algorithms/dagmm.py\", line 144, in loss_function\n",
      "    sample_energy, cov_diag = self.compute_energy(z, phi, mu, cov)\n",
      "  File \"../src/algorithms/dagmm.py\", line 113, in compute_energy\n",
      "    cov_inverse.append(torch.inverse(cov_k).unsqueeze(0))\n",
      "RuntimeError: Lapack Error getrf : U(3,3) is 0, U is singular at /pytorch/aten/src/TH/generic/THTensorLapack.c:514\n",
      "\n"
     ]
    },
    {
     "name": "stderr",
     "output_type": "stream",
     "text": [
      "\r",
      "                                                                               \r",
      "\r",
      " 42% (3 of 7) |###########               | Elapsed Time: 0:03:18 ETA:   0:03:14"
     ]
    },
    {
     "name": "stdout",
     "output_type": "stream",
     "text": [
      "2018-07-05 19:15:16 [INFO] src.evaluation.evaluator: Training DAGMM_NNAutoEncoder_withWindow on Syn Extreme Outliers (mis=0.675) with seed 2436925548\n",
      "2018-07-05 19:15:16 [WARNING] root: Determinant was negative! Clipping Eigenvalues to 0+epsilon from -3.80073629457911e-06\n"
     ]
    },
    {
     "name": "stderr",
     "output_type": "stream",
     "text": [
      "\r",
      "                                                                               \r",
      "\r",
      " 57% (4 of 7) |##############            | Elapsed Time: 0:03:22 ETA:   0:00:11"
     ]
    },
    {
     "name": "stdout",
     "output_type": "stream",
     "text": [
      "2018-07-05 19:15:19 [INFO] src.evaluation.evaluator: Training DAGMM_LSTMAutoEncoder_withWindow on Syn Extreme Outliers (mis=0.675) with seed 2436925548\n"
     ]
    },
    {
     "name": "stderr",
     "output_type": "stream",
     "text": [
      "\r",
      "                                                                               \r",
      "\r",
      " 71% (5 of 7) |##################        | Elapsed Time: 0:03:52 ETA:   0:01:00"
     ]
    },
    {
     "name": "stdout",
     "output_type": "stream",
     "text": [
      "2018-07-05 19:15:50 [INFO] src.evaluation.evaluator: Training Recurrent EBM on Syn Extreme Outliers (mis=0.675) with seed 2436925548\n"
     ]
    },
    {
     "name": "stderr",
     "output_type": "stream",
     "text": [
      "100%|██████████| 15/15 [00:06<00:00,  2.37it/s]\n",
      " 85% (6 of 7) |######################    | Elapsed Time: 0:04:05 ETA:   0:00:13"
     ]
    },
    {
     "name": "stdout",
     "output_type": "stream",
     "text": [
      "2018-07-05 19:16:03 [INFO] src.evaluation.evaluator: Training Donut on Syn Extreme Outliers (mis=0.675) with seed 2436925548\n"
     ]
    },
    {
     "name": "stderr",
     "output_type": "stream",
     "text": [
      "100%|██████████| 1/1 [00:08<00:00,  8.29s/it]\n",
      "100% (7 of 7) |##########################| Elapsed Time: 0:04:18 Time:  0:04:18\n",
      "N/A% (0 of 7) |                          | Elapsed Time: 0:00:00 ETA:  --:--:--"
     ]
    },
    {
     "name": "stdout",
     "output_type": "stream",
     "text": [
      "2018-07-05 19:16:16 [INFO] src.evaluation.evaluator: Training LSTM-AD on Syn Extreme Outliers (mis=0.9) with seed 2436925548\n"
     ]
    },
    {
     "name": "stderr",
     "output_type": "stream",
     "text": [
      "\r",
      "                                                                               \r",
      "\r",
      " 14% (1 of 7) |###                       | Elapsed Time: 0:01:40 ETA:   0:10:05"
     ]
    },
    {
     "name": "stdout",
     "output_type": "stream",
     "text": [
      "2018-07-05 19:17:57 [INFO] src.evaluation.evaluator: Training LSTMED on Syn Extreme Outliers (mis=0.9) with seed 2436925548\n"
     ]
    },
    {
     "name": "stderr",
     "output_type": "stream",
     "text": [
      "\r",
      "                                                                               \r",
      "\r",
      " 28% (2 of 7) |#######                   | Elapsed Time: 0:03:17 ETA:   0:08:03"
     ]
    },
    {
     "name": "stdout",
     "output_type": "stream",
     "text": [
      "2018-07-05 19:19:34 [INFO] src.evaluation.evaluator: Training DAGMM_NNAutoEncoder_withoutWindow on Syn Extreme Outliers (mis=0.9) with seed 2436925548\n",
      "2018-07-05 19:19:34 [WARNING] root: Determinant was negative! Clipping Eigenvalues to 0+epsilon from -6.6865899484014335e-09\n",
      "2018-07-05 19:19:34 [WARNING] root: Determinant was negative! Clipping Eigenvalues to 0+epsilon from -1.2651240943739595e-08\n",
      "2018-07-05 19:19:34 [ERROR] src.evaluation.evaluator: An exception occurred while training DAGMM_NNAutoEncoder_withoutWindow on Syn Extreme Outliers (mis=0.9): Lapack Error getrf : U(3,3) is 0, U is singular at /pytorch/aten/src/TH/generic/THTensorLapack.c:514\n",
      "2018-07-05 19:19:34 [ERROR] src.evaluation.evaluator: Traceback (most recent call last):\n",
      "  File \"../src/evaluation/evaluator.py\", line 122, in evaluate\n",
      "    det.fit(X_train.copy(), y_train.copy())\n",
      "  File \"../src/algorithms/dagmm.py\", line 203, in fit\n",
      "    self.dagmm_step(input_data.float())\n",
      "  File \"../src/algorithms/dagmm.py\", line 177, in dagmm_step\n",
      "    self.lambda_cov_diag)\n",
      "  File \"../src/algorithms/dagmm.py\", line 144, in loss_function\n",
      "    sample_energy, cov_diag = self.compute_energy(z, phi, mu, cov)\n",
      "  File \"../src/algorithms/dagmm.py\", line 113, in compute_energy\n",
      "    cov_inverse.append(torch.inverse(cov_k).unsqueeze(0))\n",
      "RuntimeError: Lapack Error getrf : U(3,3) is 0, U is singular at /pytorch/aten/src/TH/generic/THTensorLapack.c:514\n",
      "\n",
      "2018-07-05 19:19:34 [INFO] src.evaluation.evaluator: Training DAGMM_NNAutoEncoder_withWindow on Syn Extreme Outliers (mis=0.9) with seed 2436925548\n"
     ]
    },
    {
     "name": "stderr",
     "output_type": "stream",
     "text": [
      "\r",
      "                                                                               \r",
      "\r",
      " 57% (4 of 7) |##############            | Elapsed Time: 0:03:21 ETA:   0:00:05"
     ]
    },
    {
     "name": "stdout",
     "output_type": "stream",
     "text": [
      "2018-07-05 19:19:37 [INFO] src.evaluation.evaluator: Training DAGMM_LSTMAutoEncoder_withWindow on Syn Extreme Outliers (mis=0.9) with seed 2436925548\n"
     ]
    },
    {
     "name": "stderr",
     "output_type": "stream",
     "text": [
      "\r",
      "                                                                               \r",
      "\r",
      " 71% (5 of 7) |##################        | Elapsed Time: 0:03:51 ETA:   0:01:00"
     ]
    },
    {
     "name": "stdout",
     "output_type": "stream",
     "text": [
      "2018-07-05 19:20:08 [INFO] src.evaluation.evaluator: Training Recurrent EBM on Syn Extreme Outliers (mis=0.9) with seed 2436925548\n"
     ]
    },
    {
     "name": "stderr",
     "output_type": "stream",
     "text": [
      "100%|██████████| 15/15 [00:06<00:00,  2.39it/s]\n",
      " 85% (6 of 7) |######################    | Elapsed Time: 0:04:05 ETA:   0:00:13"
     ]
    },
    {
     "name": "stdout",
     "output_type": "stream",
     "text": [
      "2018-07-05 19:20:21 [INFO] src.evaluation.evaluator: Training Donut on Syn Extreme Outliers (mis=0.9) with seed 2436925548\n"
     ]
    },
    {
     "name": "stderr",
     "output_type": "stream",
     "text": [
      "100%|██████████| 1/1 [00:08<00:00,  8.61s/it]\n",
      "100% (7 of 7) |##########################| Elapsed Time: 0:04:18 Time:  0:04:18\n",
      "100% (5 of 5) |##########################| Elapsed Time: 0:22:12 Time:  0:22:12\n"
     ]
    },
    {
     "name": "stdout",
     "output_type": "stream",
     "text": [
      "2018-07-05 19:20:37 [INFO] src.evaluation.evaluator: Store evaluator results at /home/thomas/work/notebooks/data/missing-run-6-2436925548-2018-07-05-192037.pkl\n"
     ]
    },
    {
     "name": "stderr",
     "output_type": "stream",
     "text": [
      "N/A% (0 of 7) |                          | Elapsed Time: 0:00:00 ETA:  --:--:--"
     ]
    },
    {
     "name": "stdout",
     "output_type": "stream",
     "text": [
      "2018-07-05 19:20:37 [INFO] src.evaluation.evaluator: Training LSTM-AD on Syn Extreme Outliers (mis=0.0) with seed 1771257656\n"
     ]
    },
    {
     "name": "stderr",
     "output_type": "stream",
     "text": [
      "\r",
      "                                                                               \r",
      "\r",
      " 14% (1 of 7) |###                       | Elapsed Time: 0:01:41 ETA:   0:10:09"
     ]
    },
    {
     "name": "stdout",
     "output_type": "stream",
     "text": [
      "2018-07-05 19:22:19 [INFO] src.evaluation.evaluator: Training LSTMED on Syn Extreme Outliers (mis=0.0) with seed 1771257656\n"
     ]
    },
    {
     "name": "stderr",
     "output_type": "stream",
     "text": [
      "\r",
      "                                                                               \r",
      "\r",
      " 28% (2 of 7) |#######                   | Elapsed Time: 0:03:18 ETA:   0:08:04"
     ]
    },
    {
     "name": "stdout",
     "output_type": "stream",
     "text": [
      "2018-07-05 19:23:55 [INFO] src.evaluation.evaluator: Training DAGMM_NNAutoEncoder_withoutWindow on Syn Extreme Outliers (mis=0.0) with seed 1771257656\n",
      "2018-07-05 19:23:56 [WARNING] root: Determinant was negative! Clipping Eigenvalues to 0+epsilon from -2.72369163667463e-07\n",
      "2018-07-05 19:23:56 [WARNING] root: Determinant was negative! Clipping Eigenvalues to 0+epsilon from -4.273116083197692e-09\n",
      "2018-07-05 19:23:56 [WARNING] root: Determinant was negative! Clipping Eigenvalues to 0+epsilon from -4.669275881497015e-07\n",
      "2018-07-05 19:23:57 [WARNING] root: Determinant was negative! Clipping Eigenvalues to 0+epsilon from -1.9775421300494145e-09\n",
      "2018-07-05 19:23:58 [WARNING] root: Determinant was negative! Clipping Eigenvalues to 0+epsilon from -7.617636015311291e-07\n"
     ]
    },
    {
     "name": "stderr",
     "output_type": "stream",
     "text": [
      "\r",
      "                                                                               \r",
      "\r",
      " 42% (3 of 7) |###########               | Elapsed Time: 0:03:22 ETA:   0:00:15"
     ]
    },
    {
     "name": "stdout",
     "output_type": "stream",
     "text": [
      "2018-07-05 19:23:59 [INFO] src.evaluation.evaluator: Training DAGMM_NNAutoEncoder_withWindow on Syn Extreme Outliers (mis=0.0) with seed 1771257656\n"
     ]
    },
    {
     "name": "stderr",
     "output_type": "stream",
     "text": [
      "\r",
      "                                                                               \r",
      "\r",
      " 57% (4 of 7) |##############            | Elapsed Time: 0:03:26 ETA:   0:00:11"
     ]
    },
    {
     "name": "stdout",
     "output_type": "stream",
     "text": [
      "2018-07-05 19:24:03 [INFO] src.evaluation.evaluator: Training DAGMM_LSTMAutoEncoder_withWindow on Syn Extreme Outliers (mis=0.0) with seed 1771257656\n"
     ]
    },
    {
     "name": "stderr",
     "output_type": "stream",
     "text": [
      "\r",
      "                                                                               \r",
      "\r",
      " 71% (5 of 7) |##################        | Elapsed Time: 0:03:56 ETA:   0:01:00"
     ]
    },
    {
     "name": "stdout",
     "output_type": "stream",
     "text": [
      "2018-07-05 19:24:34 [INFO] src.evaluation.evaluator: Training Recurrent EBM on Syn Extreme Outliers (mis=0.0) with seed 1771257656\n"
     ]
    },
    {
     "name": "stderr",
     "output_type": "stream",
     "text": [
      "100%|██████████| 15/15 [00:06<00:00,  2.36it/s]\n",
      " 85% (6 of 7) |######################    | Elapsed Time: 0:04:10 ETA:   0:00:14"
     ]
    },
    {
     "name": "stdout",
     "output_type": "stream",
     "text": [
      "2018-07-05 19:24:48 [INFO] src.evaluation.evaluator: Training Donut on Syn Extreme Outliers (mis=0.0) with seed 1771257656\n"
     ]
    },
    {
     "name": "stderr",
     "output_type": "stream",
     "text": [
      "\r",
      "  0%|          | 0/1 [00:00<?, ?it/s]"
     ]
    },
    {
     "name": "stdout",
     "output_type": "stream",
     "text": [
      "INFO:tensorflow:Restoring parameters from /tmp/tmpgry0unik/variables.dat-1100\n",
      "2018-07-05 19:25:54 [INFO] tensorflow: Restoring parameters from /tmp/tmpgry0unik/variables.dat-1100\n"
     ]
    },
    {
     "name": "stderr",
     "output_type": "stream",
     "text": [
      "100%|██████████| 1/1 [01:06<00:00, 66.06s/it]\n",
      "100% (7 of 7) |##########################| Elapsed Time: 0:05:21 Time:  0:05:21\n",
      "N/A% (0 of 7) |                          | Elapsed Time: 0:00:00 ETA:  --:--:--"
     ]
    },
    {
     "name": "stdout",
     "output_type": "stream",
     "text": [
      "2018-07-05 19:25:59 [INFO] src.evaluation.evaluator: Training LSTM-AD on Syn Extreme Outliers (mis=0.225) with seed 1771257656\n"
     ]
    },
    {
     "name": "stderr",
     "output_type": "stream",
     "text": [
      "\r",
      "                                                                               \r",
      "\r",
      " 14% (1 of 7) |###                       | Elapsed Time: 0:01:42 ETA:   0:10:14"
     ]
    },
    {
     "name": "stdout",
     "output_type": "stream",
     "text": [
      "2018-07-05 19:27:41 [INFO] src.evaluation.evaluator: Training LSTMED on Syn Extreme Outliers (mis=0.225) with seed 1771257656\n"
     ]
    },
    {
     "name": "stderr",
     "output_type": "stream",
     "text": [
      "\r",
      "                                                                               \r",
      "\r",
      " 28% (2 of 7) |#######                   | Elapsed Time: 0:03:19 ETA:   0:08:04"
     ]
    },
    {
     "name": "stdout",
     "output_type": "stream",
     "text": [
      "2018-07-05 19:29:18 [INFO] src.evaluation.evaluator: Training DAGMM_NNAutoEncoder_withoutWindow on Syn Extreme Outliers (mis=0.225) with seed 1771257656\n",
      "2018-07-05 19:29:18 [WARNING] root: Determinant was negative! Clipping Eigenvalues to 0+epsilon from -3.897074236647313e-07\n",
      "2018-07-05 19:29:18 [WARNING] root: Determinant was negative! Clipping Eigenvalues to 0+epsilon from -9.301351866497498e-08\n",
      "2018-07-05 19:29:18 [WARNING] root: Determinant was negative! Clipping Eigenvalues to 0+epsilon from -4.260873538441956e-07\n",
      "2018-07-05 19:29:18 [WARNING] root: Determinant was negative! Clipping Eigenvalues to 0+epsilon from -4.738071766041685e-07\n",
      "2018-07-05 19:29:18 [WARNING] root: Determinant was negative! Clipping Eigenvalues to 0+epsilon from -2.787797370729095e-07\n",
      "2018-07-05 19:29:18 [WARNING] root: Determinant was negative! Clipping Eigenvalues to 0+epsilon from -1.5311888645896943e-08\n",
      "2018-07-05 19:29:18 [WARNING] root: Determinant was negative! Clipping Eigenvalues to 0+epsilon from -8.203868162581784e-08\n",
      "2018-07-05 19:29:18 [ERROR] src.evaluation.evaluator: An exception occurred while training DAGMM_NNAutoEncoder_withoutWindow on Syn Extreme Outliers (mis=0.225): Lapack Error getrf : U(3,3) is 0, U is singular at /pytorch/aten/src/TH/generic/THTensorLapack.c:514\n",
      "2018-07-05 19:29:18 [ERROR] src.evaluation.evaluator: Traceback (most recent call last):\n",
      "  File \"../src/evaluation/evaluator.py\", line 122, in evaluate\n",
      "    det.fit(X_train.copy(), y_train.copy())\n",
      "  File \"../src/algorithms/dagmm.py\", line 203, in fit\n",
      "    self.dagmm_step(input_data.float())\n",
      "  File \"../src/algorithms/dagmm.py\", line 177, in dagmm_step\n",
      "    self.lambda_cov_diag)\n",
      "  File \"../src/algorithms/dagmm.py\", line 144, in loss_function\n",
      "    sample_energy, cov_diag = self.compute_energy(z, phi, mu, cov)\n",
      "  File \"../src/algorithms/dagmm.py\", line 113, in compute_energy\n",
      "    cov_inverse.append(torch.inverse(cov_k).unsqueeze(0))\n",
      "RuntimeError: Lapack Error getrf : U(3,3) is 0, U is singular at /pytorch/aten/src/TH/generic/THTensorLapack.c:514\n",
      "\n"
     ]
    },
    {
     "name": "stderr",
     "output_type": "stream",
     "text": [
      "\r",
      "                                                                               \r",
      "\r",
      " 42% (3 of 7) |###########               | Elapsed Time: 0:03:19 ETA:   0:06:27"
     ]
    },
    {
     "name": "stdout",
     "output_type": "stream",
     "text": [
      "2018-07-05 19:29:18 [INFO] src.evaluation.evaluator: Training DAGMM_NNAutoEncoder_withWindow on Syn Extreme Outliers (mis=0.225) with seed 1771257656\n"
     ]
    },
    {
     "name": "stderr",
     "output_type": "stream",
     "text": [
      "\r",
      "                                                                               \r",
      "\r",
      " 57% (4 of 7) |##############            | Elapsed Time: 0:03:23 ETA:   0:00:06"
     ]
    },
    {
     "name": "stdout",
     "output_type": "stream",
     "text": [
      "2018-07-05 19:29:22 [INFO] src.evaluation.evaluator: Training DAGMM_LSTMAutoEncoder_withWindow on Syn Extreme Outliers (mis=0.225) with seed 1771257656\n"
     ]
    },
    {
     "name": "stderr",
     "output_type": "stream",
     "text": [
      "\r",
      "                                                                               \r",
      "\r",
      " 71% (5 of 7) |##################        | Elapsed Time: 0:03:53 ETA:   0:01:00"
     ]
    },
    {
     "name": "stdout",
     "output_type": "stream",
     "text": [
      "2018-07-05 19:29:53 [INFO] src.evaluation.evaluator: Training Recurrent EBM on Syn Extreme Outliers (mis=0.225) with seed 1771257656\n"
     ]
    },
    {
     "name": "stderr",
     "output_type": "stream",
     "text": [
      "100%|██████████| 15/15 [00:06<00:00,  2.36it/s]\n",
      " 85% (6 of 7) |######################    | Elapsed Time: 0:04:07 ETA:   0:00:13"
     ]
    },
    {
     "name": "stdout",
     "output_type": "stream",
     "text": [
      "2018-07-05 19:30:07 [INFO] src.evaluation.evaluator: Training Donut on Syn Extreme Outliers (mis=0.225) with seed 1771257656\n"
     ]
    },
    {
     "name": "stderr",
     "output_type": "stream",
     "text": [
      "100%|██████████| 1/1 [00:09<00:00,  9.25s/it]\n",
      "100% (7 of 7) |##########################| Elapsed Time: 0:04:21 Time:  0:04:21\n",
      "N/A% (0 of 7) |                          | Elapsed Time: 0:00:00 ETA:  --:--:--"
     ]
    },
    {
     "name": "stdout",
     "output_type": "stream",
     "text": [
      "2018-07-05 19:30:21 [INFO] src.evaluation.evaluator: Training LSTM-AD on Syn Extreme Outliers (mis=0.45) with seed 1771257656\n"
     ]
    },
    {
     "name": "stderr",
     "output_type": "stream",
     "text": [
      "\r",
      "                                                                               \r",
      "\r",
      " 14% (1 of 7) |###                       | Elapsed Time: 0:01:41 ETA:   0:10:08"
     ]
    },
    {
     "name": "stdout",
     "output_type": "stream",
     "text": [
      "2018-07-05 19:32:02 [INFO] src.evaluation.evaluator: Training LSTMED on Syn Extreme Outliers (mis=0.45) with seed 1771257656\n"
     ]
    },
    {
     "name": "stderr",
     "output_type": "stream",
     "text": [
      "\r",
      "                                                                               \r",
      "\r",
      " 28% (2 of 7) |#######                   | Elapsed Time: 0:03:18 ETA:   0:08:04"
     ]
    },
    {
     "name": "stdout",
     "output_type": "stream",
     "text": [
      "2018-07-05 19:33:39 [INFO] src.evaluation.evaluator: Training DAGMM_NNAutoEncoder_withoutWindow on Syn Extreme Outliers (mis=0.45) with seed 1771257656\n",
      "2018-07-05 19:33:39 [WARNING] root: Determinant was negative! Clipping Eigenvalues to 0+epsilon from -3.8807201008239645e-08\n",
      "2018-07-05 19:33:39 [WARNING] root: Determinant was negative! Clipping Eigenvalues to 0+epsilon from -4.2303398117837787e-07\n",
      "2018-07-05 19:33:39 [WARNING] root: Determinant was negative! Clipping Eigenvalues to 0+epsilon from -2.7463309493214183e-07\n",
      "2018-07-05 19:33:39 [WARNING] root: Determinant was negative! Clipping Eigenvalues to 0+epsilon from -4.986274007023894e-07\n",
      "2018-07-05 19:33:39 [WARNING] root: Determinant was negative! Clipping Eigenvalues to 0+epsilon from -2.3374651902940968e-07\n",
      "2018-07-05 19:33:39 [WARNING] root: Determinant was negative! Clipping Eigenvalues to 0+epsilon from -1.470309030082717e-07\n",
      "2018-07-05 19:33:39 [WARNING] root: Determinant was negative! Clipping Eigenvalues to 0+epsilon from -6.837876185272762e-07\n",
      "2018-07-05 19:33:39 [WARNING] root: Determinant was negative! Clipping Eigenvalues to 0+epsilon from -1.432939988887938e-08\n",
      "2018-07-05 19:33:39 [WARNING] root: Determinant was negative! Clipping Eigenvalues to 0+epsilon from -1.2280312375878566e-06\n",
      "2018-07-05 19:33:39 [WARNING] root: Determinant was negative! Clipping Eigenvalues to 0+epsilon from -3.5497208727974794e-07\n",
      "2018-07-05 19:33:39 [WARNING] root: Determinant was negative! Clipping Eigenvalues to 0+epsilon from -3.0157110586515046e-07\n",
      "2018-07-05 19:33:39 [WARNING] root: Determinant was negative! Clipping Eigenvalues to 0+epsilon from -2.312645506208355e-07\n",
      "2018-07-05 19:33:39 [WARNING] root: Determinant was negative! Clipping Eigenvalues to 0+epsilon from -1.1341191985536625e-08\n",
      "2018-07-05 19:33:39 [WARNING] root: Determinant was negative! Clipping Eigenvalues to 0+epsilon from -1.5027374900000723e-08\n",
      "2018-07-05 19:33:40 [WARNING] root: Determinant was negative! Clipping Eigenvalues to 0+epsilon from -9.21968421607744e-08\n",
      "2018-07-05 19:33:40 [WARNING] root: Determinant was negative! Clipping Eigenvalues to 0+epsilon from -1.939856844046517e-07\n",
      "2018-07-05 19:33:40 [WARNING] root: Determinant was negative! Clipping Eigenvalues to 0+epsilon from -1.6325985896514794e-08\n",
      "2018-07-05 19:33:40 [WARNING] root: Determinant was negative! Clipping Eigenvalues to 0+epsilon from -2.135588346163786e-07\n",
      "2018-07-05 19:33:40 [WARNING] root: Determinant was negative! Clipping Eigenvalues to 0+epsilon from -8.186806610410713e-08\n",
      "2018-07-05 19:33:40 [ERROR] src.evaluation.evaluator: An exception occurred while training DAGMM_NNAutoEncoder_withoutWindow on Syn Extreme Outliers (mis=0.45): Lapack Error getrf : U(3,3) is 0, U is singular at /pytorch/aten/src/TH/generic/THTensorLapack.c:514\n",
      "2018-07-05 19:33:40 [ERROR] src.evaluation.evaluator: Traceback (most recent call last):\n",
      "  File \"../src/evaluation/evaluator.py\", line 122, in evaluate\n",
      "    det.fit(X_train.copy(), y_train.copy())\n",
      "  File \"../src/algorithms/dagmm.py\", line 203, in fit\n",
      "    self.dagmm_step(input_data.float())\n",
      "  File \"../src/algorithms/dagmm.py\", line 177, in dagmm_step\n",
      "    self.lambda_cov_diag)\n",
      "  File \"../src/algorithms/dagmm.py\", line 144, in loss_function\n",
      "    sample_energy, cov_diag = self.compute_energy(z, phi, mu, cov)\n",
      "  File \"../src/algorithms/dagmm.py\", line 113, in compute_energy\n",
      "    cov_inverse.append(torch.inverse(cov_k).unsqueeze(0))\n",
      "RuntimeError: Lapack Error getrf : U(3,3) is 0, U is singular at /pytorch/aten/src/TH/generic/THTensorLapack.c:514\n",
      "\n"
     ]
    },
    {
     "name": "stderr",
     "output_type": "stream",
     "text": [
      "\r",
      "                                                                               \r",
      "\r",
      " 42% (3 of 7) |###########               | Elapsed Time: 0:03:18 ETA:   0:03:14"
     ]
    },
    {
     "name": "stdout",
     "output_type": "stream",
     "text": [
      "2018-07-05 19:33:40 [INFO] src.evaluation.evaluator: Training DAGMM_NNAutoEncoder_withWindow on Syn Extreme Outliers (mis=0.45) with seed 1771257656\n"
     ]
    },
    {
     "name": "stderr",
     "output_type": "stream",
     "text": [
      "\r",
      "                                                                               \r",
      "\r",
      " 57% (4 of 7) |##############            | Elapsed Time: 0:03:22 ETA:   0:00:11"
     ]
    },
    {
     "name": "stdout",
     "output_type": "stream",
     "text": [
      "2018-07-05 19:33:44 [INFO] src.evaluation.evaluator: Training DAGMM_LSTMAutoEncoder_withWindow on Syn Extreme Outliers (mis=0.45) with seed 1771257656\n"
     ]
    },
    {
     "name": "stderr",
     "output_type": "stream",
     "text": [
      "\r",
      "                                                                               \r",
      "\r",
      " 71% (5 of 7) |##################        | Elapsed Time: 0:03:53 ETA:   0:01:00"
     ]
    },
    {
     "name": "stdout",
     "output_type": "stream",
     "text": [
      "2018-07-05 19:34:14 [INFO] src.evaluation.evaluator: Training Recurrent EBM on Syn Extreme Outliers (mis=0.45) with seed 1771257656\n"
     ]
    },
    {
     "name": "stderr",
     "output_type": "stream",
     "text": [
      "100%|██████████| 15/15 [00:06<00:00,  2.35it/s]\n",
      " 85% (6 of 7) |######################    | Elapsed Time: 0:04:07 ETA:   0:00:14"
     ]
    },
    {
     "name": "stdout",
     "output_type": "stream",
     "text": [
      "2018-07-05 19:34:28 [INFO] src.evaluation.evaluator: Training Donut on Syn Extreme Outliers (mis=0.45) with seed 1771257656\n"
     ]
    },
    {
     "name": "stderr",
     "output_type": "stream",
     "text": [
      "100%|██████████| 1/1 [00:09<00:00,  9.53s/it]\n",
      "100% (7 of 7) |##########################| Elapsed Time: 0:04:21 Time:  0:04:21\n",
      "N/A% (0 of 7) |                          | Elapsed Time: 0:00:00 ETA:  --:--:--"
     ]
    },
    {
     "name": "stdout",
     "output_type": "stream",
     "text": [
      "2018-07-05 19:34:43 [INFO] src.evaluation.evaluator: Training LSTM-AD on Syn Extreme Outliers (mis=0.675) with seed 1771257656\n"
     ]
    },
    {
     "name": "stderr",
     "output_type": "stream",
     "text": [
      "\r",
      "                                                                               \r",
      "\r",
      " 14% (1 of 7) |###                       | Elapsed Time: 0:01:41 ETA:   0:10:09"
     ]
    },
    {
     "name": "stdout",
     "output_type": "stream",
     "text": [
      "2018-07-05 19:36:24 [INFO] src.evaluation.evaluator: Training LSTMED on Syn Extreme Outliers (mis=0.675) with seed 1771257656\n"
     ]
    },
    {
     "name": "stderr",
     "output_type": "stream",
     "text": [
      "\r",
      "                                                                               \r",
      "\r",
      " 28% (2 of 7) |#######                   | Elapsed Time: 0:03:18 ETA:   0:08:03"
     ]
    },
    {
     "name": "stdout",
     "output_type": "stream",
     "text": [
      "2018-07-05 19:38:01 [INFO] src.evaluation.evaluator: Training DAGMM_NNAutoEncoder_withoutWindow on Syn Extreme Outliers (mis=0.675) with seed 1771257656\n",
      "2018-07-05 19:38:01 [WARNING] root: Determinant was negative! Clipping Eigenvalues to 0+epsilon from -7.943893365336407e-08\n",
      "2018-07-05 19:38:01 [WARNING] root: Determinant was negative! Clipping Eigenvalues to 0+epsilon from -3.924823843703962e-08\n",
      "2018-07-05 19:38:01 [WARNING] root: Determinant was negative! Clipping Eigenvalues to 0+epsilon from -3.3548755595802504e-07\n",
      "2018-07-05 19:38:01 [WARNING] root: Determinant was negative! Clipping Eigenvalues to 0+epsilon from -8.733647405279044e-08\n",
      "2018-07-05 19:38:01 [WARNING] root: Determinant was negative! Clipping Eigenvalues to 0+epsilon from -3.682775684410444e-07\n",
      "2018-07-05 19:38:01 [WARNING] root: Determinant was negative! Clipping Eigenvalues to 0+epsilon from -5.898323820474616e-07\n",
      "2018-07-05 19:38:01 [WARNING] root: Determinant was negative! Clipping Eigenvalues to 0+epsilon from -3.747783239305136e-07\n",
      "2018-07-05 19:38:01 [WARNING] root: Determinant was negative! Clipping Eigenvalues to 0+epsilon from -4.867985694545496e-07\n",
      "2018-07-05 19:38:01 [WARNING] root: Determinant was negative! Clipping Eigenvalues to 0+epsilon from -4.750891662297363e-07\n",
      "2018-07-05 19:38:01 [WARNING] root: Determinant was negative! Clipping Eigenvalues to 0+epsilon from -2.9413999413918646e-07\n",
      "2018-07-05 19:38:01 [WARNING] root: Determinant was negative! Clipping Eigenvalues to 0+epsilon from -2.1042022524397908e-07\n",
      "2018-07-05 19:38:01 [WARNING] root: Determinant was negative! Clipping Eigenvalues to 0+epsilon from -4.0874485307540454e-07\n",
      "2018-07-05 19:38:01 [WARNING] root: Determinant was negative! Clipping Eigenvalues to 0+epsilon from -4.105772291040921e-07\n",
      "2018-07-05 19:38:01 [WARNING] root: Determinant was negative! Clipping Eigenvalues to 0+epsilon from -1.668280980027248e-08\n",
      "2018-07-05 19:38:01 [WARNING] root: Determinant was negative! Clipping Eigenvalues to 0+epsilon from -5.061668844064116e-07\n",
      "2018-07-05 19:38:01 [WARNING] root: Determinant was negative! Clipping Eigenvalues to 0+epsilon from -6.482228798176948e-08\n",
      "2018-07-05 19:38:01 [WARNING] root: Determinant was negative! Clipping Eigenvalues to 0+epsilon from -7.20281889243779e-07\n",
      "2018-07-05 19:38:01 [WARNING] root: Determinant was negative! Clipping Eigenvalues to 0+epsilon from -5.472017861052336e-08\n",
      "2018-07-05 19:38:01 [WARNING] root: Determinant was negative! Clipping Eigenvalues to 0+epsilon from -9.02578051409364e-07\n",
      "2018-07-05 19:38:01 [WARNING] root: Determinant was negative! Clipping Eigenvalues to 0+epsilon from -5.540176744034397e-07\n",
      "2018-07-05 19:38:01 [ERROR] src.evaluation.evaluator: An exception occurred while training DAGMM_NNAutoEncoder_withoutWindow on Syn Extreme Outliers (mis=0.675): Lapack Error getrf : U(3,3) is 0, U is singular at /pytorch/aten/src/TH/generic/THTensorLapack.c:514\n",
      "2018-07-05 19:38:01 [ERROR] src.evaluation.evaluator: Traceback (most recent call last):\n",
      "  File \"../src/evaluation/evaluator.py\", line 122, in evaluate\n",
      "    det.fit(X_train.copy(), y_train.copy())\n",
      "  File \"../src/algorithms/dagmm.py\", line 203, in fit\n",
      "    self.dagmm_step(input_data.float())\n",
      "  File \"../src/algorithms/dagmm.py\", line 177, in dagmm_step\n",
      "    self.lambda_cov_diag)\n",
      "  File \"../src/algorithms/dagmm.py\", line 144, in loss_function\n",
      "    sample_energy, cov_diag = self.compute_energy(z, phi, mu, cov)\n",
      "  File \"../src/algorithms/dagmm.py\", line 113, in compute_energy\n",
      "    cov_inverse.append(torch.inverse(cov_k).unsqueeze(0))\n",
      "RuntimeError: Lapack Error getrf : U(3,3) is 0, U is singular at /pytorch/aten/src/TH/generic/THTensorLapack.c:514\n",
      "\n"
     ]
    },
    {
     "name": "stderr",
     "output_type": "stream",
     "text": [
      "\r",
      "                                                                               \r",
      "\r",
      " 42% (3 of 7) |###########               | Elapsed Time: 0:03:18 ETA:   0:03:13"
     ]
    },
    {
     "name": "stdout",
     "output_type": "stream",
     "text": [
      "2018-07-05 19:38:01 [INFO] src.evaluation.evaluator: Training DAGMM_NNAutoEncoder_withWindow on Syn Extreme Outliers (mis=0.675) with seed 1771257656\n"
     ]
    },
    {
     "name": "stderr",
     "output_type": "stream",
     "text": [
      "\r",
      "                                                                               \r",
      "\r",
      " 57% (4 of 7) |##############            | Elapsed Time: 0:03:22 ETA:   0:00:11"
     ]
    },
    {
     "name": "stdout",
     "output_type": "stream",
     "text": [
      "2018-07-05 19:38:05 [INFO] src.evaluation.evaluator: Training DAGMM_LSTMAutoEncoder_withWindow on Syn Extreme Outliers (mis=0.675) with seed 1771257656\n"
     ]
    },
    {
     "name": "stderr",
     "output_type": "stream",
     "text": [
      "\r",
      "                                                                               \r",
      "\r",
      " 71% (5 of 7) |##################        | Elapsed Time: 0:03:52 ETA:   0:01:00"
     ]
    },
    {
     "name": "stdout",
     "output_type": "stream",
     "text": [
      "2018-07-05 19:38:35 [INFO] src.evaluation.evaluator: Training Recurrent EBM on Syn Extreme Outliers (mis=0.675) with seed 1771257656\n"
     ]
    },
    {
     "name": "stderr",
     "output_type": "stream",
     "text": [
      "100%|██████████| 15/15 [00:06<00:00,  2.36it/s]\n",
      " 85% (6 of 7) |######################    | Elapsed Time: 0:04:07 ETA:   0:00:15"
     ]
    },
    {
     "name": "stdout",
     "output_type": "stream",
     "text": [
      "2018-07-05 19:38:50 [INFO] src.evaluation.evaluator: Training Donut on Syn Extreme Outliers (mis=0.675) with seed 1771257656\n"
     ]
    },
    {
     "name": "stderr",
     "output_type": "stream",
     "text": [
      "100%|██████████| 1/1 [00:09<00:00,  9.87s/it]\n",
      "100% (7 of 7) |##########################| Elapsed Time: 0:04:22 Time:  0:04:22\n",
      "N/A% (0 of 7) |                          | Elapsed Time: 0:00:00 ETA:  --:--:--"
     ]
    },
    {
     "name": "stdout",
     "output_type": "stream",
     "text": [
      "2018-07-05 19:39:05 [INFO] src.evaluation.evaluator: Training LSTM-AD on Syn Extreme Outliers (mis=0.9) with seed 1771257656\n"
     ]
    },
    {
     "name": "stderr",
     "output_type": "stream",
     "text": [
      "\r",
      "                                                                               \r",
      "\r",
      " 14% (1 of 7) |###                       | Elapsed Time: 0:01:41 ETA:   0:10:07"
     ]
    },
    {
     "name": "stdout",
     "output_type": "stream",
     "text": [
      "2018-07-05 19:40:47 [INFO] src.evaluation.evaluator: Training LSTMED on Syn Extreme Outliers (mis=0.9) with seed 1771257656\n"
     ]
    },
    {
     "name": "stderr",
     "output_type": "stream",
     "text": [
      "\r",
      "                                                                               \r",
      "\r",
      " 28% (2 of 7) |#######                   | Elapsed Time: 0:03:18 ETA:   0:08:03"
     ]
    },
    {
     "name": "stdout",
     "output_type": "stream",
     "text": [
      "2018-07-05 19:42:23 [INFO] src.evaluation.evaluator: Training DAGMM_NNAutoEncoder_withoutWindow on Syn Extreme Outliers (mis=0.9) with seed 1771257656\n",
      "2018-07-05 19:42:23 [WARNING] root: Determinant was negative! Clipping Eigenvalues to 0+epsilon from -2.545759514305246e-07\n",
      "2018-07-05 19:42:23 [ERROR] src.evaluation.evaluator: An exception occurred while training DAGMM_NNAutoEncoder_withoutWindow on Syn Extreme Outliers (mis=0.9): Lapack Error getrf : U(3,3) is 0, U is singular at /pytorch/aten/src/TH/generic/THTensorLapack.c:514\n",
      "2018-07-05 19:42:23 [ERROR] src.evaluation.evaluator: Traceback (most recent call last):\n",
      "  File \"../src/evaluation/evaluator.py\", line 122, in evaluate\n",
      "    det.fit(X_train.copy(), y_train.copy())\n",
      "  File \"../src/algorithms/dagmm.py\", line 203, in fit\n",
      "    self.dagmm_step(input_data.float())\n",
      "  File \"../src/algorithms/dagmm.py\", line 177, in dagmm_step\n",
      "    self.lambda_cov_diag)\n",
      "  File \"../src/algorithms/dagmm.py\", line 144, in loss_function\n",
      "    sample_energy, cov_diag = self.compute_energy(z, phi, mu, cov)\n",
      "  File \"../src/algorithms/dagmm.py\", line 113, in compute_energy\n",
      "    cov_inverse.append(torch.inverse(cov_k).unsqueeze(0))\n",
      "RuntimeError: Lapack Error getrf : U(3,3) is 0, U is singular at /pytorch/aten/src/TH/generic/THTensorLapack.c:514\n",
      "\n",
      "2018-07-05 19:42:23 [INFO] src.evaluation.evaluator: Training DAGMM_NNAutoEncoder_withWindow on Syn Extreme Outliers (mis=0.9) with seed 1771257656\n"
     ]
    },
    {
     "name": "stderr",
     "output_type": "stream",
     "text": [
      "\r",
      "                                                                               \r",
      "\r",
      " 57% (4 of 7) |##############            | Elapsed Time: 0:03:21 ETA:   0:00:05"
     ]
    },
    {
     "name": "stdout",
     "output_type": "stream",
     "text": [
      "2018-07-05 19:42:27 [INFO] src.evaluation.evaluator: Training DAGMM_LSTMAutoEncoder_withWindow on Syn Extreme Outliers (mis=0.9) with seed 1771257656\n"
     ]
    },
    {
     "name": "stderr",
     "output_type": "stream",
     "text": [
      "\r",
      "                                                                               \r",
      "\r",
      " 71% (5 of 7) |##################        | Elapsed Time: 0:03:52 ETA:   0:01:00"
     ]
    },
    {
     "name": "stdout",
     "output_type": "stream",
     "text": [
      "2018-07-05 19:42:58 [INFO] src.evaluation.evaluator: Training Recurrent EBM on Syn Extreme Outliers (mis=0.9) with seed 1771257656\n"
     ]
    },
    {
     "name": "stderr",
     "output_type": "stream",
     "text": [
      "100%|██████████| 15/15 [00:06<00:00,  2.35it/s]\n",
      " 85% (6 of 7) |######################    | Elapsed Time: 0:04:06 ETA:   0:00:14"
     ]
    },
    {
     "name": "stdout",
     "output_type": "stream",
     "text": [
      "2018-07-05 19:43:12 [INFO] src.evaluation.evaluator: Training Donut on Syn Extreme Outliers (mis=0.9) with seed 1771257656\n"
     ]
    },
    {
     "name": "stderr",
     "output_type": "stream",
     "text": [
      "100%|██████████| 1/1 [00:10<00:00, 10.18s/it]\n",
      "100% (7 of 7) |##########################| Elapsed Time: 0:04:22 Time:  0:04:22\n",
      "100% (5 of 5) |##########################| Elapsed Time: 0:22:50 Time:  0:22:50\n"
     ]
    },
    {
     "name": "stdout",
     "output_type": "stream",
     "text": [
      "2018-07-05 19:43:30 [INFO] src.evaluation.evaluator: Store evaluator results at /home/thomas/work/notebooks/data/missing-run-7-1771257656-2018-07-05-194330.pkl\n"
     ]
    },
    {
     "name": "stderr",
     "output_type": "stream",
     "text": [
      "N/A% (0 of 7) |                          | Elapsed Time: 0:00:00 ETA:  --:--:--"
     ]
    },
    {
     "name": "stdout",
     "output_type": "stream",
     "text": [
      "2018-07-05 19:43:30 [INFO] src.evaluation.evaluator: Training LSTM-AD on Syn Extreme Outliers (mis=0.0) with seed 3419840286\n"
     ]
    },
    {
     "name": "stderr",
     "output_type": "stream",
     "text": [
      "\r",
      "                                                                               \r",
      "\r",
      " 14% (1 of 7) |###                       | Elapsed Time: 0:01:41 ETA:   0:10:07"
     ]
    },
    {
     "name": "stdout",
     "output_type": "stream",
     "text": [
      "2018-07-05 19:45:11 [INFO] src.evaluation.evaluator: Training LSTMED on Syn Extreme Outliers (mis=0.0) with seed 3419840286\n"
     ]
    },
    {
     "name": "stderr",
     "output_type": "stream",
     "text": [
      "\r",
      "                                                                               \r",
      "\r",
      " 28% (2 of 7) |#######                   | Elapsed Time: 0:03:18 ETA:   0:08:05"
     ]
    },
    {
     "name": "stdout",
     "output_type": "stream",
     "text": [
      "2018-07-05 19:46:49 [INFO] src.evaluation.evaluator: Training DAGMM_NNAutoEncoder_withoutWindow on Syn Extreme Outliers (mis=0.0) with seed 3419840286\n",
      "2018-07-05 19:46:49 [WARNING] root: Determinant was negative! Clipping Eigenvalues to 0+epsilon from -2.8439425037163346e-08\n",
      "2018-07-05 19:46:49 [WARNING] root: Determinant was negative! Clipping Eigenvalues to 0+epsilon from -2.5727366903538496e-08\n",
      "2018-07-05 19:46:50 [WARNING] root: Determinant was negative! Clipping Eigenvalues to 0+epsilon from -3.0124476779747056e-07\n",
      "2018-07-05 19:46:50 [WARNING] root: Determinant was negative! Clipping Eigenvalues to 0+epsilon from -9.150477708885774e-09\n",
      "2018-07-05 19:46:51 [WARNING] root: Determinant was negative! Clipping Eigenvalues to 0+epsilon from -5.194451091483643e-09\n"
     ]
    },
    {
     "name": "stderr",
     "output_type": "stream",
     "text": [
      "\r",
      "                                                                               \r",
      "\r",
      " 42% (3 of 7) |###########               | Elapsed Time: 0:03:22 ETA:   0:00:15"
     ]
    },
    {
     "name": "stdout",
     "output_type": "stream",
     "text": [
      "2018-07-05 19:46:53 [INFO] src.evaluation.evaluator: Training DAGMM_NNAutoEncoder_withWindow on Syn Extreme Outliers (mis=0.0) with seed 3419840286\n"
     ]
    },
    {
     "name": "stderr",
     "output_type": "stream",
     "text": [
      "\r",
      "                                                                               \r",
      "\r",
      " 57% (4 of 7) |##############            | Elapsed Time: 0:03:26 ETA:   0:00:11"
     ]
    },
    {
     "name": "stdout",
     "output_type": "stream",
     "text": [
      "2018-07-05 19:46:57 [INFO] src.evaluation.evaluator: Training DAGMM_LSTMAutoEncoder_withWindow on Syn Extreme Outliers (mis=0.0) with seed 3419840286\n"
     ]
    },
    {
     "name": "stderr",
     "output_type": "stream",
     "text": [
      "\r",
      "                                                                               \r",
      "\r",
      " 71% (5 of 7) |##################        | Elapsed Time: 0:03:56 ETA:   0:01:00"
     ]
    },
    {
     "name": "stdout",
     "output_type": "stream",
     "text": [
      "2018-07-05 19:47:27 [INFO] src.evaluation.evaluator: Training Recurrent EBM on Syn Extreme Outliers (mis=0.0) with seed 3419840286\n"
     ]
    },
    {
     "name": "stderr",
     "output_type": "stream",
     "text": [
      "100%|██████████| 15/15 [00:06<00:00,  2.35it/s]\n",
      " 85% (6 of 7) |######################    | Elapsed Time: 0:04:11 ETA:   0:00:14"
     ]
    },
    {
     "name": "stdout",
     "output_type": "stream",
     "text": [
      "2018-07-05 19:47:42 [INFO] src.evaluation.evaluator: Training Donut on Syn Extreme Outliers (mis=0.0) with seed 3419840286\n"
     ]
    },
    {
     "name": "stderr",
     "output_type": "stream",
     "text": [
      "\r",
      "  0%|          | 0/1 [00:00<?, ?it/s]"
     ]
    },
    {
     "name": "stdout",
     "output_type": "stream",
     "text": [
      "INFO:tensorflow:Restoring parameters from /tmp/tmpca2i2diz/variables.dat-1200\n",
      "2018-07-05 19:48:49 [INFO] tensorflow: Restoring parameters from /tmp/tmpca2i2diz/variables.dat-1200\n"
     ]
    },
    {
     "name": "stderr",
     "output_type": "stream",
     "text": [
      "100%|██████████| 1/1 [01:08<00:00, 68.10s/it]\n",
      "100% (7 of 7) |##########################| Elapsed Time: 0:05:24 Time:  0:05:24\n",
      "N/A% (0 of 7) |                          | Elapsed Time: 0:00:00 ETA:  --:--:--"
     ]
    },
    {
     "name": "stdout",
     "output_type": "stream",
     "text": [
      "2018-07-05 19:48:55 [INFO] src.evaluation.evaluator: Training LSTM-AD on Syn Extreme Outliers (mis=0.225) with seed 3419840286\n"
     ]
    },
    {
     "name": "stderr",
     "output_type": "stream",
     "text": [
      "\r",
      "                                                                               \r",
      "\r",
      " 14% (1 of 7) |###                       | Elapsed Time: 0:01:42 ETA:   0:10:15"
     ]
    },
    {
     "name": "stdout",
     "output_type": "stream",
     "text": [
      "2018-07-05 19:50:38 [INFO] src.evaluation.evaluator: Training LSTMED on Syn Extreme Outliers (mis=0.225) with seed 3419840286\n"
     ]
    },
    {
     "name": "stderr",
     "output_type": "stream",
     "text": [
      "\r",
      "                                                                               \r",
      "\r",
      " 28% (2 of 7) |#######                   | Elapsed Time: 0:03:19 ETA:   0:08:05"
     ]
    },
    {
     "name": "stdout",
     "output_type": "stream",
     "text": [
      "2018-07-05 19:52:15 [INFO] src.evaluation.evaluator: Training DAGMM_NNAutoEncoder_withoutWindow on Syn Extreme Outliers (mis=0.225) with seed 3419840286\n",
      "2018-07-05 19:52:15 [WARNING] root: Determinant was negative! Clipping Eigenvalues to 0+epsilon from -6.234923262127268e-07\n",
      "2018-07-05 19:52:15 [WARNING] root: Determinant was negative! Clipping Eigenvalues to 0+epsilon from -1.9254099470344954e-07\n",
      "2018-07-05 19:52:15 [WARNING] root: Determinant was negative! Clipping Eigenvalues to 0+epsilon from -1.991230789144538e-07\n",
      "2018-07-05 19:52:15 [WARNING] root: Determinant was negative! Clipping Eigenvalues to 0+epsilon from -1.1824687362604891e-07\n",
      "2018-07-05 19:52:15 [WARNING] root: Determinant was negative! Clipping Eigenvalues to 0+epsilon from -2.599197728159197e-07\n",
      "2018-07-05 19:52:15 [WARNING] root: Determinant was negative! Clipping Eigenvalues to 0+epsilon from -4.1843254194873225e-08\n",
      "2018-07-05 19:52:15 [WARNING] root: Determinant was negative! Clipping Eigenvalues to 0+epsilon from -1.6112925038669346e-07\n",
      "2018-07-05 19:52:15 [WARNING] root: Determinant was negative! Clipping Eigenvalues to 0+epsilon from -6.861806127744785e-07\n",
      "2018-07-05 19:52:15 [WARNING] root: Determinant was negative! Clipping Eigenvalues to 0+epsilon from -1.0195094546361361e-07\n",
      "2018-07-05 19:52:15 [WARNING] root: Determinant was negative! Clipping Eigenvalues to 0+epsilon from -2.3435328344589834e-08\n",
      "2018-07-05 19:52:15 [WARNING] root: Determinant was negative! Clipping Eigenvalues to 0+epsilon from -3.269737192113098e-08\n",
      "2018-07-05 19:52:15 [WARNING] root: Determinant was negative! Clipping Eigenvalues to 0+epsilon from -9.6097814150653e-09\n",
      "2018-07-05 19:52:15 [WARNING] root: Determinant was negative! Clipping Eigenvalues to 0+epsilon from -2.3163951823335083e-07\n",
      "2018-07-05 19:52:15 [WARNING] root: Determinant was negative! Clipping Eigenvalues to 0+epsilon from -3.7074707393003337e-07\n",
      "2018-07-05 19:52:15 [WARNING] root: Determinant was negative! Clipping Eigenvalues to 0+epsilon from -2.0611190620911657e-07\n",
      "2018-07-05 19:52:15 [WARNING] root: Determinant was negative! Clipping Eigenvalues to 0+epsilon from -9.220190833048036e-08\n",
      "2018-07-05 19:52:15 [WARNING] root: Determinant was negative! Clipping Eigenvalues to 0+epsilon from -3.45401844015214e-07\n",
      "2018-07-05 19:52:15 [WARNING] root: Determinant was negative! Clipping Eigenvalues to 0+epsilon from -3.923063616184663e-07\n",
      "2018-07-05 19:52:15 [WARNING] root: Determinant was negative! Clipping Eigenvalues to 0+epsilon from -2.114667552177707e-07\n",
      "2018-07-05 19:52:15 [WARNING] root: Determinant was negative! Clipping Eigenvalues to 0+epsilon from -1.951080150774942e-07\n",
      "2018-07-05 19:52:15 [WARNING] root: Determinant was negative! Clipping Eigenvalues to 0+epsilon from -3.496139555636546e-08\n",
      "2018-07-05 19:52:15 [WARNING] root: Determinant was negative! Clipping Eigenvalues to 0+epsilon from -3.29462324089036e-07\n",
      "2018-07-05 19:52:15 [WARNING] root: Determinant was negative! Clipping Eigenvalues to 0+epsilon from -1.1505020580671044e-07\n",
      "2018-07-05 19:52:15 [WARNING] root: Determinant was negative! Clipping Eigenvalues to 0+epsilon from -9.356725882980754e-08\n",
      "2018-07-05 19:52:15 [WARNING] root: Determinant was negative! Clipping Eigenvalues to 0+epsilon from -1.6191560803235916e-07\n",
      "2018-07-05 19:52:15 [WARNING] root: Determinant was negative! Clipping Eigenvalues to 0+epsilon from -3.6882931908621686e-07\n",
      "2018-07-05 19:52:15 [WARNING] root: Determinant was negative! Clipping Eigenvalues to 0+epsilon from -8.027370768104447e-08\n",
      "2018-07-05 19:52:15 [WARNING] root: Determinant was negative! Clipping Eigenvalues to 0+epsilon from -3.1231328989633766e-07\n",
      "2018-07-05 19:52:15 [WARNING] root: Determinant was negative! Clipping Eigenvalues to 0+epsilon from -2.7686476755661715e-07\n",
      "2018-07-05 19:52:15 [WARNING] root: Determinant was negative! Clipping Eigenvalues to 0+epsilon from -7.583127370480724e-08\n",
      "2018-07-05 19:52:15 [WARNING] root: Determinant was negative! Clipping Eigenvalues to 0+epsilon from -5.4715904695967765e-08\n",
      "2018-07-05 19:52:15 [ERROR] src.evaluation.evaluator: An exception occurred while training DAGMM_NNAutoEncoder_withoutWindow on Syn Extreme Outliers (mis=0.225): Lapack Error getrf : U(3,3) is 0, U is singular at /pytorch/aten/src/TH/generic/THTensorLapack.c:514\n",
      "2018-07-05 19:52:15 [ERROR] src.evaluation.evaluator: Traceback (most recent call last):\n",
      "  File \"../src/evaluation/evaluator.py\", line 122, in evaluate\n",
      "    det.fit(X_train.copy(), y_train.copy())\n",
      "  File \"../src/algorithms/dagmm.py\", line 203, in fit\n",
      "    self.dagmm_step(input_data.float())\n",
      "  File \"../src/algorithms/dagmm.py\", line 177, in dagmm_step\n",
      "    self.lambda_cov_diag)\n",
      "  File \"../src/algorithms/dagmm.py\", line 144, in loss_function\n",
      "    sample_energy, cov_diag = self.compute_energy(z, phi, mu, cov)\n",
      "  File \"../src/algorithms/dagmm.py\", line 113, in compute_energy\n",
      "    cov_inverse.append(torch.inverse(cov_k).unsqueeze(0))\n",
      "RuntimeError: Lapack Error getrf : U(3,3) is 0, U is singular at /pytorch/aten/src/TH/generic/THTensorLapack.c:514\n",
      "\n"
     ]
    },
    {
     "name": "stderr",
     "output_type": "stream",
     "text": [
      "\r",
      "                                                                               \r",
      "\r",
      " 42% (3 of 7) |###########               | Elapsed Time: 0:03:20 ETA:   0:03:15"
     ]
    },
    {
     "name": "stdout",
     "output_type": "stream",
     "text": [
      "2018-07-05 19:52:15 [INFO] src.evaluation.evaluator: Training DAGMM_NNAutoEncoder_withWindow on Syn Extreme Outliers (mis=0.225) with seed 3419840286\n"
     ]
    },
    {
     "name": "stderr",
     "output_type": "stream",
     "text": [
      "\r",
      "                                                                               \r",
      "\r",
      " 57% (4 of 7) |##############            | Elapsed Time: 0:03:24 ETA:   0:00:11"
     ]
    },
    {
     "name": "stdout",
     "output_type": "stream",
     "text": [
      "2018-07-05 19:52:19 [INFO] src.evaluation.evaluator: Training DAGMM_LSTMAutoEncoder_withWindow on Syn Extreme Outliers (mis=0.225) with seed 3419840286\n"
     ]
    },
    {
     "name": "stderr",
     "output_type": "stream",
     "text": [
      "\r",
      "                                                                               \r",
      "\r",
      " 71% (5 of 7) |##################        | Elapsed Time: 0:03:54 ETA:   0:01:00"
     ]
    },
    {
     "name": "stdout",
     "output_type": "stream",
     "text": [
      "2018-07-05 19:52:50 [INFO] src.evaluation.evaluator: Training Recurrent EBM on Syn Extreme Outliers (mis=0.225) with seed 3419840286\n"
     ]
    },
    {
     "name": "stderr",
     "output_type": "stream",
     "text": [
      "100%|██████████| 15/15 [00:06<00:00,  2.33it/s]\n",
      " 85% (6 of 7) |######################    | Elapsed Time: 0:04:09 ETA:   0:00:15"
     ]
    },
    {
     "name": "stdout",
     "output_type": "stream",
     "text": [
      "2018-07-05 19:53:05 [INFO] src.evaluation.evaluator: Training Donut on Syn Extreme Outliers (mis=0.225) with seed 3419840286\n"
     ]
    },
    {
     "name": "stderr",
     "output_type": "stream",
     "text": [
      "100%|██████████| 1/1 [00:11<00:00, 11.56s/it]\n",
      "100% (7 of 7) |##########################| Elapsed Time: 0:04:26 Time:  0:04:26\n",
      "N/A% (0 of 7) |                          | Elapsed Time: 0:00:00 ETA:  --:--:--"
     ]
    },
    {
     "name": "stdout",
     "output_type": "stream",
     "text": [
      "2018-07-05 19:53:22 [INFO] src.evaluation.evaluator: Training LSTM-AD on Syn Extreme Outliers (mis=0.45) with seed 3419840286\n"
     ]
    },
    {
     "name": "stderr",
     "output_type": "stream",
     "text": [
      "\r",
      "                                                                               \r",
      "\r",
      " 14% (1 of 7) |###                       | Elapsed Time: 0:01:41 ETA:   0:10:09"
     ]
    },
    {
     "name": "stdout",
     "output_type": "stream",
     "text": [
      "2018-07-05 19:55:03 [INFO] src.evaluation.evaluator: Training LSTMED on Syn Extreme Outliers (mis=0.45) with seed 3419840286\n"
     ]
    },
    {
     "name": "stderr",
     "output_type": "stream",
     "text": [
      "\r",
      "                                                                               \r",
      "\r",
      " 28% (2 of 7) |#######                   | Elapsed Time: 0:03:18 ETA:   0:08:05"
     ]
    },
    {
     "name": "stdout",
     "output_type": "stream",
     "text": [
      "2018-07-05 19:56:41 [INFO] src.evaluation.evaluator: Training DAGMM_NNAutoEncoder_withoutWindow on Syn Extreme Outliers (mis=0.45) with seed 3419840286\n",
      "2018-07-05 19:56:41 [WARNING] root: Determinant was negative! Clipping Eigenvalues to 0+epsilon from -2.450547356147581e-07\n",
      "2018-07-05 19:56:41 [WARNING] root: Determinant was negative! Clipping Eigenvalues to 0+epsilon from -7.882719899043877e-08\n",
      "2018-07-05 19:56:41 [WARNING] root: Determinant was negative! Clipping Eigenvalues to 0+epsilon from -2.2063845506181679e-07\n",
      "2018-07-05 19:56:41 [WARNING] root: Determinant was negative! Clipping Eigenvalues to 0+epsilon from -3.467098110832012e-07\n",
      "2018-07-05 19:56:41 [WARNING] root: Determinant was negative! Clipping Eigenvalues to 0+epsilon from -2.1565740837559133e-07\n",
      "2018-07-05 19:56:41 [WARNING] root: Determinant was negative! Clipping Eigenvalues to 0+epsilon from -3.789123184105847e-07\n",
      "2018-07-05 19:56:41 [WARNING] root: Determinant was negative! Clipping Eigenvalues to 0+epsilon from -1.9077150170687673e-07\n",
      "2018-07-05 19:56:41 [WARNING] root: Determinant was negative! Clipping Eigenvalues to 0+epsilon from -3.2755437473497295e-07\n",
      "2018-07-05 19:56:41 [WARNING] root: Determinant was negative! Clipping Eigenvalues to 0+epsilon from -1.0783283599380411e-08\n",
      "2018-07-05 19:56:41 [WARNING] root: Determinant was negative! Clipping Eigenvalues to 0+epsilon from -4.2433126168361923e-07\n",
      "2018-07-05 19:56:41 [WARNING] root: Determinant was negative! Clipping Eigenvalues to 0+epsilon from -1.3839589030339994e-07\n",
      "2018-07-05 19:56:41 [WARNING] root: Determinant was negative! Clipping Eigenvalues to 0+epsilon from -2.4561538225498225e-07\n",
      "2018-07-05 19:56:41 [WARNING] root: Determinant was negative! Clipping Eigenvalues to 0+epsilon from -3.9933905071620757e-08\n",
      "2018-07-05 19:56:41 [WARNING] root: Determinant was negative! Clipping Eigenvalues to 0+epsilon from -1.195036958279161e-07\n",
      "2018-07-05 19:56:41 [WARNING] root: Determinant was negative! Clipping Eigenvalues to 0+epsilon from -4.790899197359977e-07\n",
      "2018-07-05 19:56:41 [WARNING] root: Determinant was negative! Clipping Eigenvalues to 0+epsilon from -2.3572331997456786e-07\n",
      "2018-07-05 19:56:41 [WARNING] root: Determinant was negative! Clipping Eigenvalues to 0+epsilon from -3.050044767860527e-07\n",
      "2018-07-05 19:56:41 [WARNING] root: Determinant was negative! Clipping Eigenvalues to 0+epsilon from -4.340719783613167e-07\n",
      "2018-07-05 19:56:41 [WARNING] root: Determinant was negative! Clipping Eigenvalues to 0+epsilon from -4.226780276894715e-07\n",
      "2018-07-05 19:56:41 [WARNING] root: Determinant was negative! Clipping Eigenvalues to 0+epsilon from -4.271623410545544e-08\n",
      "2018-07-05 19:56:41 [WARNING] root: Determinant was negative! Clipping Eigenvalues to 0+epsilon from -3.239361774376448e-07\n",
      "2018-07-05 19:56:41 [WARNING] root: Determinant was negative! Clipping Eigenvalues to 0+epsilon from -5.526856625692744e-07\n",
      "2018-07-05 19:56:41 [WARNING] root: Determinant was negative! Clipping Eigenvalues to 0+epsilon from -1.660909418887968e-07\n",
      "2018-07-05 19:56:41 [WARNING] root: Determinant was negative! Clipping Eigenvalues to 0+epsilon from -2.3403116244935518e-07\n",
      "2018-07-05 19:56:41 [WARNING] root: Determinant was negative! Clipping Eigenvalues to 0+epsilon from -2.2141421140986495e-07\n",
      "2018-07-05 19:56:41 [WARNING] root: Determinant was negative! Clipping Eigenvalues to 0+epsilon from -1.0687776885731637e-08\n",
      "2018-07-05 19:56:41 [WARNING] root: Determinant was negative! Clipping Eigenvalues to 0+epsilon from -1.2538147586838022e-07\n",
      "2018-07-05 19:56:41 [ERROR] src.evaluation.evaluator: An exception occurred while training DAGMM_NNAutoEncoder_withoutWindow on Syn Extreme Outliers (mis=0.45): Lapack Error getrf : U(3,3) is 0, U is singular at /pytorch/aten/src/TH/generic/THTensorLapack.c:514\n",
      "2018-07-05 19:56:41 [ERROR] src.evaluation.evaluator: Traceback (most recent call last):\n",
      "  File \"../src/evaluation/evaluator.py\", line 122, in evaluate\n",
      "    det.fit(X_train.copy(), y_train.copy())\n",
      "  File \"../src/algorithms/dagmm.py\", line 203, in fit\n",
      "    self.dagmm_step(input_data.float())\n",
      "  File \"../src/algorithms/dagmm.py\", line 177, in dagmm_step\n",
      "    self.lambda_cov_diag)\n",
      "  File \"../src/algorithms/dagmm.py\", line 144, in loss_function\n",
      "    sample_energy, cov_diag = self.compute_energy(z, phi, mu, cov)\n",
      "  File \"../src/algorithms/dagmm.py\", line 113, in compute_energy\n",
      "    cov_inverse.append(torch.inverse(cov_k).unsqueeze(0))\n",
      "RuntimeError: Lapack Error getrf : U(3,3) is 0, U is singular at /pytorch/aten/src/TH/generic/THTensorLapack.c:514\n",
      "\n"
     ]
    },
    {
     "name": "stderr",
     "output_type": "stream",
     "text": [
      "\r",
      "                                                                               \r",
      "\r",
      " 42% (3 of 7) |###########               | Elapsed Time: 0:03:19 ETA:   0:03:15"
     ]
    },
    {
     "name": "stdout",
     "output_type": "stream",
     "text": [
      "2018-07-05 19:56:41 [INFO] src.evaluation.evaluator: Training DAGMM_NNAutoEncoder_withWindow on Syn Extreme Outliers (mis=0.45) with seed 3419840286\n"
     ]
    },
    {
     "name": "stderr",
     "output_type": "stream",
     "text": [
      "\r",
      "                                                                               \r",
      "\r",
      " 57% (4 of 7) |##############            | Elapsed Time: 0:03:23 ETA:   0:00:11"
     ]
    },
    {
     "name": "stdout",
     "output_type": "stream",
     "text": [
      "2018-07-05 19:56:45 [INFO] src.evaluation.evaluator: Training DAGMM_LSTMAutoEncoder_withWindow on Syn Extreme Outliers (mis=0.45) with seed 3419840286\n"
     ]
    },
    {
     "name": "stderr",
     "output_type": "stream",
     "text": [
      "\r",
      "                                                                               \r",
      "\r",
      " 71% (5 of 7) |##################        | Elapsed Time: 0:03:53 ETA:   0:01:00"
     ]
    },
    {
     "name": "stdout",
     "output_type": "stream",
     "text": [
      "2018-07-05 19:57:15 [INFO] src.evaluation.evaluator: Training Recurrent EBM on Syn Extreme Outliers (mis=0.45) with seed 3419840286\n"
     ]
    },
    {
     "name": "stderr",
     "output_type": "stream",
     "text": [
      "100%|██████████| 15/15 [00:06<00:00,  2.34it/s]\n",
      " 85% (6 of 7) |######################    | Elapsed Time: 0:04:08 ETA:   0:00:15"
     ]
    },
    {
     "name": "stdout",
     "output_type": "stream",
     "text": [
      "2018-07-05 19:57:31 [INFO] src.evaluation.evaluator: Training Donut on Syn Extreme Outliers (mis=0.45) with seed 3419840286\n"
     ]
    },
    {
     "name": "stderr",
     "output_type": "stream",
     "text": [
      "100%|██████████| 1/1 [00:11<00:00, 11.30s/it]\n",
      "100% (7 of 7) |##########################| Elapsed Time: 0:04:25 Time:  0:04:25\n",
      "N/A% (0 of 7) |                          | Elapsed Time: 0:00:00 ETA:  --:--:--"
     ]
    },
    {
     "name": "stdout",
     "output_type": "stream",
     "text": [
      "2018-07-05 19:57:48 [INFO] src.evaluation.evaluator: Training LSTM-AD on Syn Extreme Outliers (mis=0.675) with seed 3419840286\n"
     ]
    },
    {
     "name": "stderr",
     "output_type": "stream",
     "text": [
      "\r",
      "                                                                               \r",
      "\r",
      " 14% (1 of 7) |###                       | Elapsed Time: 0:01:41 ETA:   0:10:10"
     ]
    },
    {
     "name": "stdout",
     "output_type": "stream",
     "text": [
      "2018-07-05 19:59:29 [INFO] src.evaluation.evaluator: Training LSTMED on Syn Extreme Outliers (mis=0.675) with seed 3419840286\n"
     ]
    },
    {
     "name": "stderr",
     "output_type": "stream",
     "text": [
      "\r",
      "                                                                               \r",
      "\r",
      " 28% (2 of 7) |#######                   | Elapsed Time: 0:03:18 ETA:   0:08:04"
     ]
    },
    {
     "name": "stdout",
     "output_type": "stream",
     "text": [
      "2018-07-05 20:01:06 [INFO] src.evaluation.evaluator: Training DAGMM_NNAutoEncoder_withoutWindow on Syn Extreme Outliers (mis=0.675) with seed 3419840286\n",
      "2018-07-05 20:01:06 [WARNING] root: Determinant was negative! Clipping Eigenvalues to 0+epsilon from -4.267502333732409e-07\n",
      "2018-07-05 20:01:06 [WARNING] root: Determinant was negative! Clipping Eigenvalues to 0+epsilon from -2.569604760083166e-07\n",
      "2018-07-05 20:01:06 [WARNING] root: Determinant was negative! Clipping Eigenvalues to 0+epsilon from -3.131763151031919e-07\n",
      "2018-07-05 20:01:06 [ERROR] src.evaluation.evaluator: An exception occurred while training DAGMM_NNAutoEncoder_withoutWindow on Syn Extreme Outliers (mis=0.675): Lapack Error getrf : U(3,3) is 0, U is singular at /pytorch/aten/src/TH/generic/THTensorLapack.c:514\n",
      "2018-07-05 20:01:06 [ERROR] src.evaluation.evaluator: Traceback (most recent call last):\n",
      "  File \"../src/evaluation/evaluator.py\", line 122, in evaluate\n",
      "    det.fit(X_train.copy(), y_train.copy())\n",
      "  File \"../src/algorithms/dagmm.py\", line 203, in fit\n",
      "    self.dagmm_step(input_data.float())\n",
      "  File \"../src/algorithms/dagmm.py\", line 177, in dagmm_step\n",
      "    self.lambda_cov_diag)\n",
      "  File \"../src/algorithms/dagmm.py\", line 144, in loss_function\n",
      "    sample_energy, cov_diag = self.compute_energy(z, phi, mu, cov)\n",
      "  File \"../src/algorithms/dagmm.py\", line 113, in compute_energy\n",
      "    cov_inverse.append(torch.inverse(cov_k).unsqueeze(0))\n",
      "RuntimeError: Lapack Error getrf : U(3,3) is 0, U is singular at /pytorch/aten/src/TH/generic/THTensorLapack.c:514\n",
      "\n"
     ]
    },
    {
     "name": "stderr",
     "output_type": "stream",
     "text": [
      "\r",
      "                                                                               \r",
      "\r",
      " 42% (3 of 7) |###########               | Elapsed Time: 0:03:18 ETA:   0:06:27"
     ]
    },
    {
     "name": "stdout",
     "output_type": "stream",
     "text": [
      "2018-07-05 20:01:06 [INFO] src.evaluation.evaluator: Training DAGMM_NNAutoEncoder_withWindow on Syn Extreme Outliers (mis=0.675) with seed 3419840286\n"
     ]
    },
    {
     "name": "stderr",
     "output_type": "stream",
     "text": [
      "\r",
      "                                                                               \r",
      "\r",
      " 57% (4 of 7) |##############            | Elapsed Time: 0:03:22 ETA:   0:00:06"
     ]
    },
    {
     "name": "stdout",
     "output_type": "stream",
     "text": [
      "2018-07-05 20:01:10 [INFO] src.evaluation.evaluator: Training DAGMM_LSTMAutoEncoder_withWindow on Syn Extreme Outliers (mis=0.675) with seed 3419840286\n"
     ]
    },
    {
     "name": "stderr",
     "output_type": "stream",
     "text": [
      "\r",
      "                                                                               \r",
      "\r",
      " 71% (5 of 7) |##################        | Elapsed Time: 0:03:52 ETA:   0:01:00"
     ]
    },
    {
     "name": "stdout",
     "output_type": "stream",
     "text": [
      "2018-07-05 20:01:41 [INFO] src.evaluation.evaluator: Training Recurrent EBM on Syn Extreme Outliers (mis=0.675) with seed 3419840286\n"
     ]
    },
    {
     "name": "stderr",
     "output_type": "stream",
     "text": [
      "100%|██████████| 15/15 [00:06<00:00,  2.34it/s]\n",
      " 85% (6 of 7) |######################    | Elapsed Time: 0:04:08 ETA:   0:00:15"
     ]
    },
    {
     "name": "stdout",
     "output_type": "stream",
     "text": [
      "2018-07-05 20:01:56 [INFO] src.evaluation.evaluator: Training Donut on Syn Extreme Outliers (mis=0.675) with seed 3419840286\n"
     ]
    },
    {
     "name": "stderr",
     "output_type": "stream",
     "text": [
      "100%|██████████| 1/1 [00:11<00:00, 11.69s/it]\n",
      "100% (7 of 7) |##########################| Elapsed Time: 0:04:26 Time:  0:04:26\n",
      "N/A% (0 of 7) |                          | Elapsed Time: 0:00:00 ETA:  --:--:--"
     ]
    },
    {
     "name": "stdout",
     "output_type": "stream",
     "text": [
      "2018-07-05 20:02:14 [INFO] src.evaluation.evaluator: Training LSTM-AD on Syn Extreme Outliers (mis=0.9) with seed 3419840286\n"
     ]
    },
    {
     "name": "stderr",
     "output_type": "stream",
     "text": [
      "\r",
      "                                                                               \r",
      "\r",
      " 14% (1 of 7) |###                       | Elapsed Time: 0:01:41 ETA:   0:10:08"
     ]
    },
    {
     "name": "stdout",
     "output_type": "stream",
     "text": [
      "2018-07-05 20:03:55 [INFO] src.evaluation.evaluator: Training LSTMED on Syn Extreme Outliers (mis=0.9) with seed 3419840286\n"
     ]
    },
    {
     "name": "stderr",
     "output_type": "stream",
     "text": [
      "\r",
      "                                                                               \r",
      "\r",
      " 28% (2 of 7) |#######                   | Elapsed Time: 0:03:18 ETA:   0:08:04"
     ]
    },
    {
     "name": "stdout",
     "output_type": "stream",
     "text": [
      "2018-07-05 20:05:32 [INFO] src.evaluation.evaluator: Training DAGMM_NNAutoEncoder_withoutWindow on Syn Extreme Outliers (mis=0.9) with seed 3419840286\n",
      "2018-07-05 20:05:32 [WARNING] root: Determinant was negative! Clipping Eigenvalues to 0+epsilon from -5.541071459447267e-07\n",
      "2018-07-05 20:05:32 [WARNING] root: Determinant was negative! Clipping Eigenvalues to 0+epsilon from -3.4204097687506874e-07\n",
      "2018-07-05 20:05:32 [WARNING] root: Determinant was negative! Clipping Eigenvalues to 0+epsilon from -9.048990889937158e-09\n",
      "2018-07-05 20:05:32 [WARNING] root: Determinant was negative! Clipping Eigenvalues to 0+epsilon from -7.909754344836983e-07\n",
      "2018-07-05 20:05:32 [WARNING] root: Determinant was negative! Clipping Eigenvalues to 0+epsilon from -2.900805817773744e-08\n",
      "2018-07-05 20:05:32 [WARNING] root: Determinant was negative! Clipping Eigenvalues to 0+epsilon from -1.1534422128534061e-07\n",
      "2018-07-05 20:05:32 [WARNING] root: Determinant was negative! Clipping Eigenvalues to 0+epsilon from -1.8752568564650574e-07\n",
      "2018-07-05 20:05:32 [WARNING] root: Determinant was negative! Clipping Eigenvalues to 0+epsilon from -3.940618498177173e-08\n",
      "2018-07-05 20:05:32 [WARNING] root: Determinant was negative! Clipping Eigenvalues to 0+epsilon from -1.733096581801874e-07\n",
      "2018-07-05 20:05:32 [WARNING] root: Determinant was negative! Clipping Eigenvalues to 0+epsilon from -7.818043101792682e-09\n",
      "2018-07-05 20:05:32 [WARNING] root: Determinant was negative! Clipping Eigenvalues to 0+epsilon from -1.507986979731868e-07\n",
      "2018-07-05 20:05:32 [WARNING] root: Determinant was negative! Clipping Eigenvalues to 0+epsilon from -1.798828179744305e-07\n",
      "2018-07-05 20:05:32 [WARNING] root: Determinant was negative! Clipping Eigenvalues to 0+epsilon from -7.973786750881118e-07\n",
      "2018-07-05 20:05:32 [WARNING] root: Determinant was negative! Clipping Eigenvalues to 0+epsilon from -6.266405705446232e-08\n",
      "2018-07-05 20:05:32 [WARNING] root: Determinant was negative! Clipping Eigenvalues to 0+epsilon from -2.2847478930998477e-07\n",
      "2018-07-05 20:05:32 [WARNING] root: Determinant was negative! Clipping Eigenvalues to 0+epsilon from -1.607654986912621e-08\n",
      "2018-07-05 20:05:32 [WARNING] root: Determinant was negative! Clipping Eigenvalues to 0+epsilon from -4.7223565502463316e-07\n",
      "2018-07-05 20:05:32 [WARNING] root: Determinant was negative! Clipping Eigenvalues to 0+epsilon from -1.296615437240689e-07\n",
      "2018-07-05 20:05:32 [WARNING] root: Determinant was negative! Clipping Eigenvalues to 0+epsilon from -1.4757779354113154e-07\n",
      "2018-07-05 20:05:32 [WARNING] root: Determinant was negative! Clipping Eigenvalues to 0+epsilon from -1.6826913906697882e-07\n",
      "2018-07-05 20:05:32 [WARNING] root: Determinant was negative! Clipping Eigenvalues to 0+epsilon from -4.462304730168398e-07\n",
      "2018-07-05 20:05:32 [WARNING] root: Determinant was negative! Clipping Eigenvalues to 0+epsilon from -5.4027452733862447e-08\n",
      "2018-07-05 20:05:32 [WARNING] root: Determinant was negative! Clipping Eigenvalues to 0+epsilon from -2.02857336262241e-07\n",
      "2018-07-05 20:05:32 [WARNING] root: Determinant was negative! Clipping Eigenvalues to 0+epsilon from -2.902266205140336e-10\n",
      "2018-07-05 20:05:32 [WARNING] root: Determinant was negative! Clipping Eigenvalues to 0+epsilon from -9.283670721060844e-08\n",
      "2018-07-05 20:05:32 [WARNING] root: Determinant was negative! Clipping Eigenvalues to 0+epsilon from -1.1564204527303446e-07\n",
      "2018-07-05 20:05:32 [WARNING] root: Determinant was negative! Clipping Eigenvalues to 0+epsilon from -7.351312092396256e-08\n",
      "2018-07-05 20:05:32 [WARNING] root: Determinant was negative! Clipping Eigenvalues to 0+epsilon from -2.1240403214051184e-07\n",
      "2018-07-05 20:05:32 [ERROR] src.evaluation.evaluator: An exception occurred while training DAGMM_NNAutoEncoder_withoutWindow on Syn Extreme Outliers (mis=0.9): Lapack Error getrf : U(3,3) is 0, U is singular at /pytorch/aten/src/TH/generic/THTensorLapack.c:514\n",
      "2018-07-05 20:05:32 [ERROR] src.evaluation.evaluator: Traceback (most recent call last):\n",
      "  File \"../src/evaluation/evaluator.py\", line 122, in evaluate\n",
      "    det.fit(X_train.copy(), y_train.copy())\n",
      "  File \"../src/algorithms/dagmm.py\", line 203, in fit\n",
      "    self.dagmm_step(input_data.float())\n",
      "  File \"../src/algorithms/dagmm.py\", line 177, in dagmm_step\n",
      "    self.lambda_cov_diag)\n",
      "  File \"../src/algorithms/dagmm.py\", line 144, in loss_function\n",
      "    sample_energy, cov_diag = self.compute_energy(z, phi, mu, cov)\n",
      "  File \"../src/algorithms/dagmm.py\", line 113, in compute_energy\n",
      "    cov_inverse.append(torch.inverse(cov_k).unsqueeze(0))\n",
      "RuntimeError: Lapack Error getrf : U(3,3) is 0, U is singular at /pytorch/aten/src/TH/generic/THTensorLapack.c:514\n",
      "\n"
     ]
    },
    {
     "name": "stderr",
     "output_type": "stream",
     "text": [
      "\r",
      "                                                                               \r",
      "\r",
      " 42% (3 of 7) |###########               | Elapsed Time: 0:03:18 ETA:   0:03:14"
     ]
    },
    {
     "name": "stdout",
     "output_type": "stream",
     "text": [
      "2018-07-05 20:05:32 [INFO] src.evaluation.evaluator: Training DAGMM_NNAutoEncoder_withWindow on Syn Extreme Outliers (mis=0.9) with seed 3419840286\n"
     ]
    },
    {
     "name": "stderr",
     "output_type": "stream",
     "text": [
      "\r",
      "                                                                               \r",
      "\r",
      " 57% (4 of 7) |##############            | Elapsed Time: 0:03:22 ETA:   0:00:11"
     ]
    },
    {
     "name": "stdout",
     "output_type": "stream",
     "text": [
      "2018-07-05 20:05:36 [INFO] src.evaluation.evaluator: Training DAGMM_LSTMAutoEncoder_withWindow on Syn Extreme Outliers (mis=0.9) with seed 3419840286\n"
     ]
    },
    {
     "name": "stderr",
     "output_type": "stream",
     "text": [
      "\r",
      "                                                                               \r",
      "\r",
      " 71% (5 of 7) |##################        | Elapsed Time: 0:03:52 ETA:   0:01:00"
     ]
    },
    {
     "name": "stdout",
     "output_type": "stream",
     "text": [
      "2018-07-05 20:06:07 [INFO] src.evaluation.evaluator: Training Recurrent EBM on Syn Extreme Outliers (mis=0.9) with seed 3419840286\n"
     ]
    },
    {
     "name": "stderr",
     "output_type": "stream",
     "text": [
      "100%|██████████| 15/15 [00:06<00:00,  2.28it/s]\n",
      " 85% (6 of 7) |######################    | Elapsed Time: 0:04:08 ETA:   0:00:16"
     ]
    },
    {
     "name": "stdout",
     "output_type": "stream",
     "text": [
      "2018-07-05 20:06:23 [INFO] src.evaluation.evaluator: Training Donut on Syn Extreme Outliers (mis=0.9) with seed 3419840286\n"
     ]
    },
    {
     "name": "stderr",
     "output_type": "stream",
     "text": [
      "100%|██████████| 1/1 [00:12<00:00, 12.03s/it]\n",
      "100% (7 of 7) |##########################| Elapsed Time: 0:04:26 Time:  0:04:26\n",
      "100% (5 of 5) |##########################| Elapsed Time: 0:23:10 Time:  0:23:10\n"
     ]
    },
    {
     "name": "stdout",
     "output_type": "stream",
     "text": [
      "2018-07-05 20:06:43 [INFO] src.evaluation.evaluator: Store evaluator results at /home/thomas/work/notebooks/data/missing-run-8-3419840286-2018-07-05-200643.pkl\n"
     ]
    },
    {
     "name": "stderr",
     "output_type": "stream",
     "text": [
      "N/A% (0 of 7) |                          | Elapsed Time: 0:00:00 ETA:  --:--:--"
     ]
    },
    {
     "name": "stdout",
     "output_type": "stream",
     "text": [
      "2018-07-05 20:06:43 [INFO] src.evaluation.evaluator: Training LSTM-AD on Syn Extreme Outliers (mis=0.0) with seed 840763924\n"
     ]
    },
    {
     "name": "stderr",
     "output_type": "stream",
     "text": [
      "\r",
      "                                                                               \r",
      "\r",
      " 14% (1 of 7) |###                       | Elapsed Time: 0:01:41 ETA:   0:10:09"
     ]
    },
    {
     "name": "stdout",
     "output_type": "stream",
     "text": [
      "2018-07-05 20:08:25 [INFO] src.evaluation.evaluator: Training LSTMED on Syn Extreme Outliers (mis=0.0) with seed 840763924\n"
     ]
    },
    {
     "name": "stderr",
     "output_type": "stream",
     "text": [
      "\r",
      "                                                                               \r",
      "\r",
      " 28% (2 of 7) |#######                   | Elapsed Time: 0:03:18 ETA:   0:08:04"
     ]
    },
    {
     "name": "stdout",
     "output_type": "stream",
     "text": [
      "2018-07-05 20:10:02 [INFO] src.evaluation.evaluator: Training DAGMM_NNAutoEncoder_withoutWindow on Syn Extreme Outliers (mis=0.0) with seed 840763924\n",
      "2018-07-05 20:10:02 [WARNING] root: Determinant was negative! Clipping Eigenvalues to 0+epsilon from -1.9036706078168208e-07\n",
      "2018-07-05 20:10:02 [WARNING] root: Determinant was negative! Clipping Eigenvalues to 0+epsilon from -1.0039590137012055e-07\n",
      "2018-07-05 20:10:02 [WARNING] root: Determinant was negative! Clipping Eigenvalues to 0+epsilon from -1.538885072704943e-07\n",
      "2018-07-05 20:10:03 [WARNING] root: Determinant was negative! Clipping Eigenvalues to 0+epsilon from -9.348152474331073e-08\n",
      "2018-07-05 20:10:03 [WARNING] root: Determinant was negative! Clipping Eigenvalues to 0+epsilon from -1.3033422119335114e-09\n",
      "2018-07-05 20:10:03 [ERROR] src.evaluation.evaluator: An exception occurred while training DAGMM_NNAutoEncoder_withoutWindow on Syn Extreme Outliers (mis=0.0): Lapack Error getrf : U(3,3) is 0, U is singular at /pytorch/aten/src/TH/generic/THTensorLapack.c:514\n",
      "2018-07-05 20:10:03 [ERROR] src.evaluation.evaluator: Traceback (most recent call last):\n",
      "  File \"../src/evaluation/evaluator.py\", line 122, in evaluate\n",
      "    det.fit(X_train.copy(), y_train.copy())\n",
      "  File \"../src/algorithms/dagmm.py\", line 203, in fit\n",
      "    self.dagmm_step(input_data.float())\n",
      "  File \"../src/algorithms/dagmm.py\", line 177, in dagmm_step\n",
      "    self.lambda_cov_diag)\n",
      "  File \"../src/algorithms/dagmm.py\", line 144, in loss_function\n",
      "    sample_energy, cov_diag = self.compute_energy(z, phi, mu, cov)\n",
      "  File \"../src/algorithms/dagmm.py\", line 113, in compute_energy\n",
      "    cov_inverse.append(torch.inverse(cov_k).unsqueeze(0))\n",
      "RuntimeError: Lapack Error getrf : U(3,3) is 0, U is singular at /pytorch/aten/src/TH/generic/THTensorLapack.c:514\n",
      "\n"
     ]
    },
    {
     "name": "stderr",
     "output_type": "stream",
     "text": [
      "\r",
      "                                                                               \r",
      "\r",
      " 42% (3 of 7) |###########               | Elapsed Time: 0:03:19 ETA:   0:03:16"
     ]
    },
    {
     "name": "stdout",
     "output_type": "stream",
     "text": [
      "2018-07-05 20:10:03 [INFO] src.evaluation.evaluator: Training DAGMM_NNAutoEncoder_withWindow on Syn Extreme Outliers (mis=0.0) with seed 840763924\n"
     ]
    },
    {
     "name": "stderr",
     "output_type": "stream",
     "text": [
      "\r",
      "                                                                               \r",
      "\r",
      " 57% (4 of 7) |##############            | Elapsed Time: 0:03:23 ETA:   0:00:11"
     ]
    },
    {
     "name": "stdout",
     "output_type": "stream",
     "text": [
      "2018-07-05 20:10:07 [INFO] src.evaluation.evaluator: Training DAGMM_LSTMAutoEncoder_withWindow on Syn Extreme Outliers (mis=0.0) with seed 840763924\n"
     ]
    },
    {
     "name": "stderr",
     "output_type": "stream",
     "text": [
      "\r",
      "                                                                               \r",
      "\r",
      " 71% (5 of 7) |##################        | Elapsed Time: 0:03:53 ETA:   0:01:00"
     ]
    },
    {
     "name": "stdout",
     "output_type": "stream",
     "text": [
      "2018-07-05 20:10:37 [INFO] src.evaluation.evaluator: Training Recurrent EBM on Syn Extreme Outliers (mis=0.0) with seed 840763924\n"
     ]
    },
    {
     "name": "stderr",
     "output_type": "stream",
     "text": [
      "100%|██████████| 15/15 [00:06<00:00,  2.32it/s]\n",
      " 85% (6 of 7) |######################    | Elapsed Time: 0:04:10 ETA:   0:00:16"
     ]
    },
    {
     "name": "stdout",
     "output_type": "stream",
     "text": [
      "2018-07-05 20:10:53 [INFO] src.evaluation.evaluator: Training Donut on Syn Extreme Outliers (mis=0.0) with seed 840763924\n"
     ]
    },
    {
     "name": "stderr",
     "output_type": "stream",
     "text": [
      "\r",
      "  0%|          | 0/1 [00:00<?, ?it/s]"
     ]
    },
    {
     "name": "stdout",
     "output_type": "stream",
     "text": [
      "INFO:tensorflow:Restoring parameters from /tmp/tmpsw2y7j35/variables.dat-1200\n",
      "2018-07-05 20:12:10 [INFO] tensorflow: Restoring parameters from /tmp/tmpsw2y7j35/variables.dat-1200\n"
     ]
    },
    {
     "name": "stderr",
     "output_type": "stream",
     "text": [
      "100%|██████████| 1/1 [01:16<00:00, 76.85s/it]\n",
      "100% (7 of 7) |##########################| Elapsed Time: 0:05:33 Time:  0:05:33\n",
      "N/A% (0 of 7) |                          | Elapsed Time: 0:00:00 ETA:  --:--:--"
     ]
    },
    {
     "name": "stdout",
     "output_type": "stream",
     "text": [
      "2018-07-05 20:12:16 [INFO] src.evaluation.evaluator: Training LSTM-AD on Syn Extreme Outliers (mis=0.225) with seed 840763924\n"
     ]
    },
    {
     "name": "stderr",
     "output_type": "stream",
     "text": [
      "\r",
      "                                                                               \r",
      "\r",
      " 14% (1 of 7) |###                       | Elapsed Time: 0:01:42 ETA:   0:10:17"
     ]
    },
    {
     "name": "stdout",
     "output_type": "stream",
     "text": [
      "2018-07-05 20:13:59 [INFO] src.evaluation.evaluator: Training LSTMED on Syn Extreme Outliers (mis=0.225) with seed 840763924\n"
     ]
    },
    {
     "name": "stderr",
     "output_type": "stream",
     "text": [
      "\r",
      "                                                                               \r",
      "\r",
      " 28% (2 of 7) |#######                   | Elapsed Time: 0:03:20 ETA:   0:08:06"
     ]
    },
    {
     "name": "stdout",
     "output_type": "stream",
     "text": [
      "2018-07-05 20:15:37 [INFO] src.evaluation.evaluator: Training DAGMM_NNAutoEncoder_withoutWindow on Syn Extreme Outliers (mis=0.225) with seed 840763924\n",
      "2018-07-05 20:15:37 [WARNING] root: Determinant was negative! Clipping Eigenvalues to 0+epsilon from -5.673820169249666e-08\n",
      "2018-07-05 20:15:37 [ERROR] src.evaluation.evaluator: An exception occurred while training DAGMM_NNAutoEncoder_withoutWindow on Syn Extreme Outliers (mis=0.225): Lapack Error getrf : U(3,3) is 0, U is singular at /pytorch/aten/src/TH/generic/THTensorLapack.c:514\n",
      "2018-07-05 20:15:37 [ERROR] src.evaluation.evaluator: Traceback (most recent call last):\n",
      "  File \"../src/evaluation/evaluator.py\", line 122, in evaluate\n",
      "    det.fit(X_train.copy(), y_train.copy())\n",
      "  File \"../src/algorithms/dagmm.py\", line 203, in fit\n",
      "    self.dagmm_step(input_data.float())\n",
      "  File \"../src/algorithms/dagmm.py\", line 177, in dagmm_step\n",
      "    self.lambda_cov_diag)\n",
      "  File \"../src/algorithms/dagmm.py\", line 144, in loss_function\n",
      "    sample_energy, cov_diag = self.compute_energy(z, phi, mu, cov)\n",
      "  File \"../src/algorithms/dagmm.py\", line 113, in compute_energy\n",
      "    cov_inverse.append(torch.inverse(cov_k).unsqueeze(0))\n",
      "RuntimeError: Lapack Error getrf : U(3,3) is 0, U is singular at /pytorch/aten/src/TH/generic/THTensorLapack.c:514\n",
      "\n",
      "2018-07-05 20:15:37 [INFO] src.evaluation.evaluator: Training DAGMM_NNAutoEncoder_withWindow on Syn Extreme Outliers (mis=0.225) with seed 840763924\n"
     ]
    },
    {
     "name": "stderr",
     "output_type": "stream",
     "text": [
      "\r",
      "                                                                               \r",
      "\r",
      " 57% (4 of 7) |##############            | Elapsed Time: 0:03:24 ETA:   0:00:05"
     ]
    },
    {
     "name": "stdout",
     "output_type": "stream",
     "text": [
      "2018-07-05 20:15:41 [INFO] src.evaluation.evaluator: Training DAGMM_LSTMAutoEncoder_withWindow on Syn Extreme Outliers (mis=0.225) with seed 840763924\n"
     ]
    },
    {
     "name": "stderr",
     "output_type": "stream",
     "text": [
      "\r",
      "                                                                               \r",
      "\r",
      " 71% (5 of 7) |##################        | Elapsed Time: 0:03:54 ETA:   0:01:00"
     ]
    },
    {
     "name": "stdout",
     "output_type": "stream",
     "text": [
      "2018-07-05 20:16:11 [INFO] src.evaluation.evaluator: Training Recurrent EBM on Syn Extreme Outliers (mis=0.225) with seed 840763924\n"
     ]
    },
    {
     "name": "stderr",
     "output_type": "stream",
     "text": [
      "100%|██████████| 15/15 [00:06<00:00,  2.33it/s]\n",
      " 85% (6 of 7) |######################    | Elapsed Time: 0:04:10 ETA:   0:00:16"
     ]
    },
    {
     "name": "stdout",
     "output_type": "stream",
     "text": [
      "2018-07-05 20:16:27 [INFO] src.evaluation.evaluator: Training Donut on Syn Extreme Outliers (mis=0.225) with seed 840763924\n"
     ]
    },
    {
     "name": "stderr",
     "output_type": "stream",
     "text": [
      "100%|██████████| 1/1 [00:12<00:00, 12.84s/it]\n",
      "100% (7 of 7) |##########################| Elapsed Time: 0:04:29 Time:  0:04:29\n",
      "N/A% (0 of 7) |                          | Elapsed Time: 0:00:00 ETA:  --:--:--"
     ]
    },
    {
     "name": "stdout",
     "output_type": "stream",
     "text": [
      "2018-07-05 20:16:46 [INFO] src.evaluation.evaluator: Training LSTM-AD on Syn Extreme Outliers (mis=0.45) with seed 840763924\n"
     ]
    },
    {
     "name": "stderr",
     "output_type": "stream",
     "text": [
      "\r",
      "                                                                               \r",
      "\r",
      " 14% (1 of 7) |###                       | Elapsed Time: 0:01:41 ETA:   0:10:09"
     ]
    },
    {
     "name": "stdout",
     "output_type": "stream",
     "text": [
      "2018-07-05 20:18:28 [INFO] src.evaluation.evaluator: Training LSTMED on Syn Extreme Outliers (mis=0.45) with seed 840763924\n"
     ]
    },
    {
     "name": "stderr",
     "output_type": "stream",
     "text": [
      "\r",
      "                                                                               \r",
      "\r",
      " 28% (2 of 7) |#######                   | Elapsed Time: 0:03:18 ETA:   0:08:04"
     ]
    },
    {
     "name": "stdout",
     "output_type": "stream",
     "text": [
      "2018-07-05 20:20:05 [INFO] src.evaluation.evaluator: Training DAGMM_NNAutoEncoder_withoutWindow on Syn Extreme Outliers (mis=0.45) with seed 840763924\n",
      "2018-07-05 20:20:05 [WARNING] root: Determinant was negative! Clipping Eigenvalues to 0+epsilon from -2.1665054816821794e-07\n",
      "2018-07-05 20:20:05 [WARNING] root: Determinant was negative! Clipping Eigenvalues to 0+epsilon from -2.621363819343969e-07\n",
      "2018-07-05 20:20:05 [WARNING] root: Determinant was negative! Clipping Eigenvalues to 0+epsilon from -4.002449429663102e-07\n",
      "2018-07-05 20:20:05 [WARNING] root: Determinant was negative! Clipping Eigenvalues to 0+epsilon from -5.645075020765944e-07\n",
      "2018-07-05 20:20:05 [WARNING] root: Determinant was negative! Clipping Eigenvalues to 0+epsilon from -6.270344670156192e-07\n",
      "2018-07-05 20:20:05 [WARNING] root: Determinant was negative! Clipping Eigenvalues to 0+epsilon from -2.6575651190796634e-07\n",
      "2018-07-05 20:20:05 [WARNING] root: Determinant was negative! Clipping Eigenvalues to 0+epsilon from -3.073542487186387e-08\n",
      "2018-07-05 20:20:05 [WARNING] root: Determinant was negative! Clipping Eigenvalues to 0+epsilon from -3.410502529277437e-07\n",
      "2018-07-05 20:20:05 [WARNING] root: Determinant was negative! Clipping Eigenvalues to 0+epsilon from -2.8827409437326423e-07\n",
      "2018-07-05 20:20:05 [WARNING] root: Determinant was negative! Clipping Eigenvalues to 0+epsilon from -8.69226113309196e-09\n",
      "2018-07-05 20:20:05 [WARNING] root: Determinant was negative! Clipping Eigenvalues to 0+epsilon from -8.720103323867079e-07\n",
      "2018-07-05 20:20:05 [WARNING] root: Determinant was negative! Clipping Eigenvalues to 0+epsilon from -7.93100809914904e-07\n",
      "2018-07-05 20:20:05 [WARNING] root: Determinant was negative! Clipping Eigenvalues to 0+epsilon from -7.161091986063184e-08\n",
      "2018-07-05 20:20:05 [ERROR] src.evaluation.evaluator: An exception occurred while training DAGMM_NNAutoEncoder_withoutWindow on Syn Extreme Outliers (mis=0.45): Lapack Error getrf : U(3,3) is 0, U is singular at /pytorch/aten/src/TH/generic/THTensorLapack.c:514\n",
      "2018-07-05 20:20:05 [ERROR] src.evaluation.evaluator: Traceback (most recent call last):\n",
      "  File \"../src/evaluation/evaluator.py\", line 122, in evaluate\n",
      "    det.fit(X_train.copy(), y_train.copy())\n",
      "  File \"../src/algorithms/dagmm.py\", line 203, in fit\n",
      "    self.dagmm_step(input_data.float())\n",
      "  File \"../src/algorithms/dagmm.py\", line 177, in dagmm_step\n",
      "    self.lambda_cov_diag)\n",
      "  File \"../src/algorithms/dagmm.py\", line 144, in loss_function\n",
      "    sample_energy, cov_diag = self.compute_energy(z, phi, mu, cov)\n",
      "  File \"../src/algorithms/dagmm.py\", line 113, in compute_energy\n",
      "    cov_inverse.append(torch.inverse(cov_k).unsqueeze(0))\n",
      "RuntimeError: Lapack Error getrf : U(3,3) is 0, U is singular at /pytorch/aten/src/TH/generic/THTensorLapack.c:514\n",
      "\n"
     ]
    },
    {
     "name": "stderr",
     "output_type": "stream",
     "text": [
      "\r",
      "                                                                               \r",
      "\r",
      " 42% (3 of 7) |###########               | Elapsed Time: 0:03:18 ETA:   0:03:13"
     ]
    },
    {
     "name": "stdout",
     "output_type": "stream",
     "text": [
      "2018-07-05 20:20:05 [INFO] src.evaluation.evaluator: Training DAGMM_NNAutoEncoder_withWindow on Syn Extreme Outliers (mis=0.45) with seed 840763924\n"
     ]
    },
    {
     "name": "stderr",
     "output_type": "stream",
     "text": [
      "\r",
      "                                                                               \r",
      "\r",
      " 57% (4 of 7) |##############            | Elapsed Time: 0:03:22 ETA:   0:00:11"
     ]
    },
    {
     "name": "stdout",
     "output_type": "stream",
     "text": [
      "2018-07-05 20:20:09 [INFO] src.evaluation.evaluator: Training DAGMM_LSTMAutoEncoder_withWindow on Syn Extreme Outliers (mis=0.45) with seed 840763924\n"
     ]
    },
    {
     "name": "stderr",
     "output_type": "stream",
     "text": [
      "\r",
      "                                                                               \r",
      "\r",
      " 71% (5 of 7) |##################        | Elapsed Time: 0:03:52 ETA:   0:01:00"
     ]
    },
    {
     "name": "stdout",
     "output_type": "stream",
     "text": [
      "2018-07-05 20:20:39 [INFO] src.evaluation.evaluator: Training Recurrent EBM on Syn Extreme Outliers (mis=0.45) with seed 840763924\n"
     ]
    },
    {
     "name": "stderr",
     "output_type": "stream",
     "text": [
      "100%|██████████| 15/15 [00:06<00:00,  2.31it/s]\n",
      " 85% (6 of 7) |######################    | Elapsed Time: 0:04:09 ETA:   0:00:16"
     ]
    },
    {
     "name": "stdout",
     "output_type": "stream",
     "text": [
      "2018-07-05 20:20:56 [INFO] src.evaluation.evaluator: Training Donut on Syn Extreme Outliers (mis=0.45) with seed 840763924\n"
     ]
    },
    {
     "name": "stderr",
     "output_type": "stream",
     "text": [
      "100%|██████████| 1/1 [00:13<00:00, 13.31s/it]\n",
      "100% (7 of 7) |##########################| Elapsed Time: 0:04:29 Time:  0:04:29\n",
      "N/A% (0 of 7) |                          | Elapsed Time: 0:00:00 ETA:  --:--:--"
     ]
    },
    {
     "name": "stdout",
     "output_type": "stream",
     "text": [
      "2018-07-05 20:21:16 [INFO] src.evaluation.evaluator: Training LSTM-AD on Syn Extreme Outliers (mis=0.675) with seed 840763924\n"
     ]
    },
    {
     "name": "stderr",
     "output_type": "stream",
     "text": [
      "\r",
      "                                                                               \r",
      "\r",
      " 14% (1 of 7) |###                       | Elapsed Time: 0:01:41 ETA:   0:10:10"
     ]
    },
    {
     "name": "stdout",
     "output_type": "stream",
     "text": [
      "2018-07-05 20:22:57 [INFO] src.evaluation.evaluator: Training LSTMED on Syn Extreme Outliers (mis=0.675) with seed 840763924\n"
     ]
    },
    {
     "name": "stderr",
     "output_type": "stream",
     "text": [
      "\r",
      "                                                                               \r",
      "\r",
      " 28% (2 of 7) |#######                   | Elapsed Time: 0:03:18 ETA:   0:08:04"
     ]
    },
    {
     "name": "stdout",
     "output_type": "stream",
     "text": [
      "2018-07-05 20:24:34 [INFO] src.evaluation.evaluator: Training DAGMM_NNAutoEncoder_withoutWindow on Syn Extreme Outliers (mis=0.675) with seed 840763924\n",
      "2018-07-05 20:24:34 [WARNING] root: Determinant was negative! Clipping Eigenvalues to 0+epsilon from -9.140592993617247e-08\n",
      "2018-07-05 20:24:34 [WARNING] root: Determinant was negative! Clipping Eigenvalues to 0+epsilon from -6.611072222995062e-08\n",
      "2018-07-05 20:24:34 [WARNING] root: Determinant was negative! Clipping Eigenvalues to 0+epsilon from -1.9939740969476816e-09\n",
      "2018-07-05 20:24:34 [WARNING] root: Determinant was negative! Clipping Eigenvalues to 0+epsilon from -7.321239650082134e-07\n",
      "2018-07-05 20:24:34 [WARNING] root: Determinant was negative! Clipping Eigenvalues to 0+epsilon from -6.495279194496106e-07\n",
      "2018-07-05 20:24:34 [WARNING] root: Determinant was negative! Clipping Eigenvalues to 0+epsilon from -3.7525214224842784e-07\n",
      "2018-07-05 20:24:34 [WARNING] root: Determinant was negative! Clipping Eigenvalues to 0+epsilon from -1.1464013027762121e-07\n",
      "2018-07-05 20:24:34 [WARNING] root: Determinant was negative! Clipping Eigenvalues to 0+epsilon from -1.6234935173997656e-07\n",
      "2018-07-05 20:24:34 [WARNING] root: Determinant was negative! Clipping Eigenvalues to 0+epsilon from -6.374560825861408e-07\n",
      "2018-07-05 20:24:34 [WARNING] root: Determinant was negative! Clipping Eigenvalues to 0+epsilon from -8.394000161615622e-08\n",
      "2018-07-05 20:24:34 [WARNING] root: Determinant was negative! Clipping Eigenvalues to 0+epsilon from -3.0884527291163977e-07\n",
      "2018-07-05 20:24:34 [WARNING] root: Determinant was negative! Clipping Eigenvalues to 0+epsilon from -6.302726092144439e-07\n",
      "2018-07-05 20:24:34 [WARNING] root: Determinant was negative! Clipping Eigenvalues to 0+epsilon from -2.229228499572855e-07\n",
      "2018-07-05 20:24:34 [WARNING] root: Determinant was negative! Clipping Eigenvalues to 0+epsilon from -1.9842678966597305e-07\n",
      "2018-07-05 20:24:34 [WARNING] root: Determinant was negative! Clipping Eigenvalues to 0+epsilon from -5.6118896196721835e-08\n",
      "2018-07-05 20:24:34 [ERROR] src.evaluation.evaluator: An exception occurred while training DAGMM_NNAutoEncoder_withoutWindow on Syn Extreme Outliers (mis=0.675): Lapack Error getrf : U(3,3) is 0, U is singular at /pytorch/aten/src/TH/generic/THTensorLapack.c:514\n",
      "2018-07-05 20:24:34 [ERROR] src.evaluation.evaluator: Traceback (most recent call last):\n",
      "  File \"../src/evaluation/evaluator.py\", line 122, in evaluate\n",
      "    det.fit(X_train.copy(), y_train.copy())\n",
      "  File \"../src/algorithms/dagmm.py\", line 203, in fit\n",
      "    self.dagmm_step(input_data.float())\n",
      "  File \"../src/algorithms/dagmm.py\", line 177, in dagmm_step\n",
      "    self.lambda_cov_diag)\n",
      "  File \"../src/algorithms/dagmm.py\", line 144, in loss_function\n",
      "    sample_energy, cov_diag = self.compute_energy(z, phi, mu, cov)\n",
      "  File \"../src/algorithms/dagmm.py\", line 113, in compute_energy\n",
      "    cov_inverse.append(torch.inverse(cov_k).unsqueeze(0))\n",
      "RuntimeError: Lapack Error getrf : U(3,3) is 0, U is singular at /pytorch/aten/src/TH/generic/THTensorLapack.c:514\n",
      "\n"
     ]
    },
    {
     "name": "stderr",
     "output_type": "stream",
     "text": [
      "\r",
      "                                                                               \r",
      "\r",
      " 42% (3 of 7) |###########               | Elapsed Time: 0:03:18 ETA:   0:03:14"
     ]
    },
    {
     "name": "stdout",
     "output_type": "stream",
     "text": [
      "2018-07-05 20:24:34 [INFO] src.evaluation.evaluator: Training DAGMM_NNAutoEncoder_withWindow on Syn Extreme Outliers (mis=0.675) with seed 840763924\n"
     ]
    },
    {
     "name": "stderr",
     "output_type": "stream",
     "text": [
      "\r",
      "                                                                               \r",
      "\r",
      " 57% (4 of 7) |##############            | Elapsed Time: 0:03:22 ETA:   0:00:11"
     ]
    },
    {
     "name": "stdout",
     "output_type": "stream",
     "text": [
      "2018-07-05 20:24:38 [INFO] src.evaluation.evaluator: Training DAGMM_LSTMAutoEncoder_withWindow on Syn Extreme Outliers (mis=0.675) with seed 840763924\n"
     ]
    },
    {
     "name": "stderr",
     "output_type": "stream",
     "text": [
      "\r",
      "                                                                               \r",
      "\r",
      " 71% (5 of 7) |##################        | Elapsed Time: 0:03:52 ETA:   0:01:00"
     ]
    },
    {
     "name": "stdout",
     "output_type": "stream",
     "text": [
      "2018-07-05 20:25:09 [INFO] src.evaluation.evaluator: Training Recurrent EBM on Syn Extreme Outliers (mis=0.675) with seed 840763924\n"
     ]
    },
    {
     "name": "stderr",
     "output_type": "stream",
     "text": [
      "100%|██████████| 15/15 [00:06<00:00,  2.31it/s]\n",
      " 85% (6 of 7) |######################    | Elapsed Time: 0:04:09 ETA:   0:00:17"
     ]
    },
    {
     "name": "stdout",
     "output_type": "stream",
     "text": [
      "2018-07-05 20:25:26 [INFO] src.evaluation.evaluator: Training Donut on Syn Extreme Outliers (mis=0.675) with seed 840763924\n"
     ]
    },
    {
     "name": "stderr",
     "output_type": "stream",
     "text": [
      "100%|██████████| 1/1 [00:13<00:00, 13.73s/it]\n",
      "100% (7 of 7) |##########################| Elapsed Time: 0:04:30 Time:  0:04:30\n",
      "N/A% (0 of 7) |                          | Elapsed Time: 0:00:00 ETA:  --:--:--"
     ]
    },
    {
     "name": "stdout",
     "output_type": "stream",
     "text": [
      "2018-07-05 20:25:46 [INFO] src.evaluation.evaluator: Training LSTM-AD on Syn Extreme Outliers (mis=0.9) with seed 840763924\n"
     ]
    },
    {
     "name": "stderr",
     "output_type": "stream",
     "text": [
      "\r",
      "                                                                               \r",
      "\r",
      " 14% (1 of 7) |###                       | Elapsed Time: 0:01:41 ETA:   0:10:07"
     ]
    },
    {
     "name": "stdout",
     "output_type": "stream",
     "text": [
      "2018-07-05 20:27:27 [INFO] src.evaluation.evaluator: Training LSTMED on Syn Extreme Outliers (mis=0.9) with seed 840763924\n"
     ]
    },
    {
     "name": "stderr",
     "output_type": "stream",
     "text": [
      "\r",
      "                                                                               \r",
      "\r",
      " 28% (2 of 7) |#######                   | Elapsed Time: 0:03:18 ETA:   0:08:05"
     ]
    },
    {
     "name": "stdout",
     "output_type": "stream",
     "text": [
      "2018-07-05 20:29:04 [INFO] src.evaluation.evaluator: Training DAGMM_NNAutoEncoder_withoutWindow on Syn Extreme Outliers (mis=0.9) with seed 840763924\n",
      "2018-07-05 20:29:04 [WARNING] root: Determinant was negative! Clipping Eigenvalues to 0+epsilon from -1.2552293071621534e-07\n",
      "2018-07-05 20:29:04 [ERROR] src.evaluation.evaluator: An exception occurred while training DAGMM_NNAutoEncoder_withoutWindow on Syn Extreme Outliers (mis=0.9): Lapack Error getrf : U(3,3) is 0, U is singular at /pytorch/aten/src/TH/generic/THTensorLapack.c:514\n",
      "2018-07-05 20:29:04 [ERROR] src.evaluation.evaluator: Traceback (most recent call last):\n",
      "  File \"../src/evaluation/evaluator.py\", line 122, in evaluate\n",
      "    det.fit(X_train.copy(), y_train.copy())\n",
      "  File \"../src/algorithms/dagmm.py\", line 203, in fit\n",
      "    self.dagmm_step(input_data.float())\n",
      "  File \"../src/algorithms/dagmm.py\", line 177, in dagmm_step\n",
      "    self.lambda_cov_diag)\n",
      "  File \"../src/algorithms/dagmm.py\", line 144, in loss_function\n",
      "    sample_energy, cov_diag = self.compute_energy(z, phi, mu, cov)\n",
      "  File \"../src/algorithms/dagmm.py\", line 113, in compute_energy\n",
      "    cov_inverse.append(torch.inverse(cov_k).unsqueeze(0))\n",
      "RuntimeError: Lapack Error getrf : U(3,3) is 0, U is singular at /pytorch/aten/src/TH/generic/THTensorLapack.c:514\n",
      "\n",
      "2018-07-05 20:29:04 [INFO] src.evaluation.evaluator: Training DAGMM_NNAutoEncoder_withWindow on Syn Extreme Outliers (mis=0.9) with seed 840763924\n"
     ]
    },
    {
     "name": "stderr",
     "output_type": "stream",
     "text": [
      "\r",
      "                                                                               \r",
      "\r",
      " 57% (4 of 7) |##############            | Elapsed Time: 0:03:22 ETA:   0:00:05"
     ]
    },
    {
     "name": "stdout",
     "output_type": "stream",
     "text": [
      "2018-07-05 20:29:08 [INFO] src.evaluation.evaluator: Training DAGMM_LSTMAutoEncoder_withWindow on Syn Extreme Outliers (mis=0.9) with seed 840763924\n"
     ]
    },
    {
     "name": "stderr",
     "output_type": "stream",
     "text": [
      "\r",
      "                                                                               \r",
      "\r",
      " 71% (5 of 7) |##################        | Elapsed Time: 0:03:52 ETA:   0:01:00"
     ]
    },
    {
     "name": "stdout",
     "output_type": "stream",
     "text": [
      "2018-07-05 20:29:38 [INFO] src.evaluation.evaluator: Training Recurrent EBM on Syn Extreme Outliers (mis=0.9) with seed 840763924\n"
     ]
    },
    {
     "name": "stderr",
     "output_type": "stream",
     "text": [
      "100%|██████████| 15/15 [00:06<00:00,  2.30it/s]\n",
      " 85% (6 of 7) |######################    | Elapsed Time: 0:04:09 ETA:   0:00:17"
     ]
    },
    {
     "name": "stdout",
     "output_type": "stream",
     "text": [
      "2018-07-05 20:29:56 [INFO] src.evaluation.evaluator: Training Donut on Syn Extreme Outliers (mis=0.9) with seed 840763924\n"
     ]
    },
    {
     "name": "stderr",
     "output_type": "stream",
     "text": [
      "100%|██████████| 1/1 [00:14<00:00, 14.12s/it]\n",
      "100% (7 of 7) |##########################| Elapsed Time: 0:04:30 Time:  0:04:30\n",
      "100% (5 of 5) |##########################| Elapsed Time: 0:23:33 Time:  0:23:33\n"
     ]
    },
    {
     "name": "stdout",
     "output_type": "stream",
     "text": [
      "2018-07-05 20:30:19 [INFO] src.evaluation.evaluator: Store evaluator results at /home/thomas/work/notebooks/data/missing-run-9-840763924-2018-07-05-203019.pkl\n"
     ]
    }
   ],
   "source": [
    "seeds = np.random.randint(low=0, high=2 ** 32 - 1, size=10, dtype=\"uint32\")\n",
    "print_order = [\"dataset\", \"algorithm\", \"accuracy\", \"precision\", \"recall\", \"F1-score\", \"F0.1-score\", \"auroc\"]\n",
    "rename_columns = [col for col in print_order if col not in ['dataset', 'algorithm']]\n",
    "results = pd.DataFrame()\n",
    "\n",
    "for i, seed in enumerate(seeds):\n",
    "    evaluator = Evaluator(datasets if datasets else get_pipeline_datasets(seed), detectors, seed=seed, output_dir='data')\n",
    "    evaluator.evaluate()\n",
    "    result = evaluator.benchmarks()\n",
    "    evaluator.benchmark_results = result\n",
    "    evaluator.export_results(f'missing-run-{i}-{seed}')\n",
    "    del evaluator  # Save memory\n",
    "    results = results.append(result, ignore_index=True)"
   ]
  },
  {
   "cell_type": "code",
   "execution_count": 30,
   "metadata": {},
   "outputs": [],
   "source": [
    "avg_results = results.groupby([\"dataset\", \"algorithm\"], as_index=False).mean()\n",
    "std_results = results.groupby([\"dataset\", \"algorithm\"]).std(ddof=0)\n",
    "\n",
    "evaluator = Evaluator(datasets if datasets else get_pipeline_datasets(seed), detectors, seed=42, output_dir='data')\n",
    "evaluator.benchmark_results = avg_results"
   ]
  },
  {
   "cell_type": "code",
   "execution_count": 31,
   "metadata": {},
   "outputs": [
    {
     "name": "stdout",
     "output_type": "stream",
     "text": [
      "-------------------- Average --------------------\n",
      "                             dataset                          algorithm  \\\n",
      "0     Syn Extreme Outliers (mis=0.0)   DAGMM_LSTMAutoEncoder_withWindow   \n",
      "1     Syn Extreme Outliers (mis=0.0)     DAGMM_NNAutoEncoder_withWindow   \n",
      "2     Syn Extreme Outliers (mis=0.0)  DAGMM_NNAutoEncoder_withoutWindow   \n",
      "3     Syn Extreme Outliers (mis=0.0)                              Donut   \n",
      "4     Syn Extreme Outliers (mis=0.0)                            LSTM-AD   \n",
      "5     Syn Extreme Outliers (mis=0.0)                             LSTMED   \n",
      "6     Syn Extreme Outliers (mis=0.0)                      Recurrent EBM   \n",
      "7   Syn Extreme Outliers (mis=0.225)   DAGMM_LSTMAutoEncoder_withWindow   \n",
      "8   Syn Extreme Outliers (mis=0.225)     DAGMM_NNAutoEncoder_withWindow   \n",
      "9   Syn Extreme Outliers (mis=0.225)  DAGMM_NNAutoEncoder_withoutWindow   \n",
      "10  Syn Extreme Outliers (mis=0.225)                              Donut   \n",
      "11  Syn Extreme Outliers (mis=0.225)                            LSTM-AD   \n",
      "12  Syn Extreme Outliers (mis=0.225)                             LSTMED   \n",
      "13  Syn Extreme Outliers (mis=0.225)                      Recurrent EBM   \n",
      "14   Syn Extreme Outliers (mis=0.45)   DAGMM_LSTMAutoEncoder_withWindow   \n",
      "15   Syn Extreme Outliers (mis=0.45)     DAGMM_NNAutoEncoder_withWindow   \n",
      "16   Syn Extreme Outliers (mis=0.45)  DAGMM_NNAutoEncoder_withoutWindow   \n",
      "17   Syn Extreme Outliers (mis=0.45)                              Donut   \n",
      "18   Syn Extreme Outliers (mis=0.45)                            LSTM-AD   \n",
      "19   Syn Extreme Outliers (mis=0.45)                             LSTMED   \n",
      "20   Syn Extreme Outliers (mis=0.45)                      Recurrent EBM   \n",
      "21  Syn Extreme Outliers (mis=0.675)   DAGMM_LSTMAutoEncoder_withWindow   \n",
      "22  Syn Extreme Outliers (mis=0.675)     DAGMM_NNAutoEncoder_withWindow   \n",
      "23  Syn Extreme Outliers (mis=0.675)  DAGMM_NNAutoEncoder_withoutWindow   \n",
      "24  Syn Extreme Outliers (mis=0.675)                              Donut   \n",
      "25  Syn Extreme Outliers (mis=0.675)                            LSTM-AD   \n",
      "26  Syn Extreme Outliers (mis=0.675)                             LSTMED   \n",
      "27  Syn Extreme Outliers (mis=0.675)                      Recurrent EBM   \n",
      "28    Syn Extreme Outliers (mis=0.9)   DAGMM_LSTMAutoEncoder_withWindow   \n",
      "29    Syn Extreme Outliers (mis=0.9)     DAGMM_NNAutoEncoder_withWindow   \n",
      "30    Syn Extreme Outliers (mis=0.9)  DAGMM_NNAutoEncoder_withoutWindow   \n",
      "31    Syn Extreme Outliers (mis=0.9)                              Donut   \n",
      "32    Syn Extreme Outliers (mis=0.9)                            LSTM-AD   \n",
      "33    Syn Extreme Outliers (mis=0.9)                             LSTMED   \n",
      "34    Syn Extreme Outliers (mis=0.9)                      Recurrent EBM   \n",
      "\n",
      "    F0.1-score  F1-score  accuracy     auroc  precision  recall  \n",
      "0     0.050490  0.089614  0.728444  0.687619   0.050053   0.600  \n",
      "1     0.050120  0.092027  0.695000  0.732892   0.049663   0.690  \n",
      "2     0.114419  0.177322  0.928111  0.699585   0.113617   0.450  \n",
      "3     0.116968  0.203713  0.853444  0.846875   0.115971   0.840  \n",
      "4     0.770610  0.674070  0.986333  0.966159   0.774005   0.645  \n",
      "5     0.841667  0.095238  0.978889  0.681267   1.000000   0.050  \n",
      "6     0.991867  0.711713  0.990111  0.881267   1.000000   0.555  \n",
      "7     0.037011  0.061424  0.753778  0.534369   0.036721   0.330  \n",
      "8     0.031226  0.056124  0.547222  0.437159   0.030950   0.530  \n",
      "9     0.000000  0.000000  0.977778  0.500000   0.000000   0.000  \n",
      "10    0.099423  0.176626  0.823889  0.836648   0.098553   0.850  \n",
      "11    0.589101  0.287537  0.976889  0.809943   0.606667   0.205  \n",
      "12    0.693961  0.096473  0.975222  0.672364   0.820635   0.060  \n",
      "13    0.987453  0.613788  0.987667  0.824756   1.000000   0.445  \n",
      "14    0.039212  0.059966  0.612333  0.361452   0.038985   0.450  \n",
      "15    0.029162  0.051966  0.479667  0.331494   0.028908   0.550  \n",
      "16    0.000000  0.000000  0.977778  0.500000   0.000000   0.000  \n",
      "17    0.098286  0.174811  0.821667  0.835511   0.097424   0.850  \n",
      "18    0.624764  0.468953  0.978556  0.803256   0.629676   0.395  \n",
      "19    0.474718  0.099469  0.970222  0.664466   0.553928   0.075  \n",
      "20    0.957334  0.367350  0.983000  0.752438   1.000000   0.235  \n",
      "21    0.045353  0.067634  0.761000  0.271128   0.045063   0.295  \n",
      "22    0.039360  0.067981  0.661333  0.401716   0.039031   0.455  \n",
      "23    0.000000  0.000000  0.977778  0.500000   0.000000   0.000  \n",
      "24    0.098062  0.174453  0.821222  0.835284   0.097202   0.850  \n",
      "25    0.851414  0.532706  0.984556  0.834966   0.862711   0.395  \n",
      "26    0.621685  0.097790  0.973667  0.658131   0.732550   0.065  \n",
      "27    0.976886  0.626929  0.988444  0.834696   0.992308   0.485  \n",
      "28    0.031932  0.056540  0.300444  0.448045   0.031659   0.780  \n",
      "29    0.036820  0.059328  0.639778  0.171509   0.036544   0.405  \n",
      "30    0.000000  0.000000  0.977778  0.500000   0.000000   0.000  \n",
      "31    0.094551  0.168822  0.814000  0.831591   0.093718   0.850  \n",
      "32    0.805819  0.573636  0.982000  0.778011   0.813334   0.470  \n",
      "33    0.460325  0.098511  0.946333  0.634199   0.539357   0.135  \n",
      "34    0.984624  0.580455  0.987000  0.783540   1.000000   0.415  \n",
      "---------------------- Std ----------------------\n",
      "                                                                      F0.1-score  \\\n",
      "dataset                          algorithm                                         \n",
      "Syn Extreme Outliers (mis=0.0)   DAGMM_LSTMAutoEncoder_withWindow   1.479968e-02   \n",
      "                                 DAGMM_NNAutoEncoder_withWindow     1.007916e-02   \n",
      "                                 DAGMM_NNAutoEncoder_withoutWindow  1.008282e-01   \n",
      "                                 Donut                              8.640334e-03   \n",
      "                                 LSTM-AD                            1.679486e-01   \n",
      "                                 LSTMED                             1.110223e-16   \n",
      "                                 Recurrent EBM                      2.397879e-03   \n",
      "Syn Extreme Outliers (mis=0.225) DAGMM_LSTMAutoEncoder_withWindow   9.425475e-03   \n",
      "                                 DAGMM_NNAutoEncoder_withWindow     1.213297e-02   \n",
      "                                 DAGMM_NNAutoEncoder_withoutWindow  0.000000e+00   \n",
      "                                 Donut                              4.641659e-04   \n",
      "                                 LSTM-AD                            2.922449e-01   \n",
      "                                 LSTMED                             2.954331e-01   \n",
      "                                 Recurrent EBM                      2.825940e-03   \n",
      "Syn Extreme Outliers (mis=0.45)  DAGMM_LSTMAutoEncoder_withWindow   1.550619e-02   \n",
      "                                 DAGMM_NNAutoEncoder_withWindow     1.205746e-02   \n",
      "                                 DAGMM_NNAutoEncoder_withoutWindow  0.000000e+00   \n",
      "                                 Donut                              5.197599e-04   \n",
      "                                 LSTM-AD                            2.538973e-01   \n",
      "                                 LSTMED                             3.669728e-01   \n",
      "                                 Recurrent EBM                      2.683223e-02   \n",
      "Syn Extreme Outliers (mis=0.675) DAGMM_LSTMAutoEncoder_withWindow   1.864781e-02   \n",
      "                                 DAGMM_NNAutoEncoder_withWindow     1.447103e-02   \n",
      "                                 DAGMM_NNAutoEncoder_withoutWindow  0.000000e+00   \n",
      "                                 Donut                              5.821851e-04   \n",
      "                                 LSTM-AD                            1.828042e-01   \n",
      "                                 LSTMED                             3.360942e-01   \n",
      "                                 Recurrent EBM                      2.433791e-02   \n",
      "Syn Extreme Outliers (mis=0.9)   DAGMM_LSTMAutoEncoder_withWindow   1.363653e-02   \n",
      "                                 DAGMM_NNAutoEncoder_withWindow     1.126175e-02   \n",
      "                                 DAGMM_NNAutoEncoder_withoutWindow  0.000000e+00   \n",
      "                                 Donut                              4.774330e-04   \n",
      "                                 LSTM-AD                            2.575557e-01   \n",
      "                                 LSTMED                             3.816455e-01   \n",
      "                                 Recurrent EBM                      8.031197e-03   \n",
      "\n",
      "                                                                    F1-score  \\\n",
      "dataset                          algorithm                                     \n",
      "Syn Extreme Outliers (mis=0.0)   DAGMM_LSTMAutoEncoder_withWindow   0.027021   \n",
      "                                 DAGMM_NNAutoEncoder_withWindow     0.018005   \n",
      "                                 DAGMM_NNAutoEncoder_withoutWindow  0.148272   \n",
      "                                 Donut                              0.013498   \n",
      "                                 LSTM-AD                            0.051769   \n",
      "                                 LSTMED                             0.000000   \n",
      "                                 Recurrent EBM                      0.053899   \n",
      "Syn Extreme Outliers (mis=0.225) DAGMM_LSTMAutoEncoder_withWindow   0.012559   \n",
      "                                 DAGMM_NNAutoEncoder_withWindow     0.021304   \n",
      "                                 DAGMM_NNAutoEncoder_withoutWindow  0.000000   \n",
      "                                 Donut                              0.000740   \n",
      "                                 LSTM-AD                            0.080513   \n",
      "                                 LSTMED                             0.003011   \n",
      "                                 Recurrent EBM                      0.054212   \n",
      "Syn Extreme Outliers (mis=0.45)  DAGMM_LSTMAutoEncoder_withWindow   0.014401   \n",
      "                                 DAGMM_NNAutoEncoder_withWindow     0.019680   \n",
      "                                 DAGMM_NNAutoEncoder_withoutWindow  0.000000   \n",
      "                                 Donut                              0.000830   \n",
      "                                 LSTM-AD                            0.113195   \n",
      "                                 LSTMED                             0.004660   \n",
      "                                 Recurrent EBM                      0.146240   \n",
      "Syn Extreme Outliers (mis=0.675) DAGMM_LSTMAutoEncoder_withWindow   0.018742   \n",
      "                                 DAGMM_NNAutoEncoder_withWindow     0.024202   \n",
      "                                 DAGMM_NNAutoEncoder_withoutWindow  0.000000   \n",
      "                                 Donut                              0.000931   \n",
      "                                 LSTM-AD                            0.105244   \n",
      "                                 LSTMED                             0.004959   \n",
      "                                 Recurrent EBM                      0.186387   \n",
      "Syn Extreme Outliers (mis=0.9)   DAGMM_LSTMAutoEncoder_withWindow   0.019509   \n",
      "                                 DAGMM_NNAutoEncoder_withWindow     0.012743   \n",
      "                                 DAGMM_NNAutoEncoder_withoutWindow  0.000000   \n",
      "                                 Donut                              0.000769   \n",
      "                                 LSTM-AD                            0.143725   \n",
      "                                 LSTMED                             0.004643   \n",
      "                                 Recurrent EBM                      0.097024   \n",
      "\n",
      "                                                                        accuracy  \\\n",
      "dataset                          algorithm                                         \n",
      "Syn Extreme Outliers (mis=0.0)   DAGMM_LSTMAutoEncoder_withWindow   1.466475e-01   \n",
      "                                 DAGMM_NNAutoEncoder_withWindow     9.587833e-02   \n",
      "                                 DAGMM_NNAutoEncoder_withoutWindow  4.194956e-02   \n",
      "                                 Donut                              1.029743e-02   \n",
      "                                 LSTM-AD                            2.584379e-03   \n",
      "                                 LSTMED                             0.000000e+00   \n",
      "                                 Recurrent EBM                      1.356284e-03   \n",
      "Syn Extreme Outliers (mis=0.225) DAGMM_LSTMAutoEncoder_withWindow   2.561029e-01   \n",
      "                                 DAGMM_NNAutoEncoder_withWindow     3.549979e-01   \n",
      "                                 DAGMM_NNAutoEncoder_withoutWindow  1.110223e-16   \n",
      "                                 Donut                              8.958064e-04   \n",
      "                                 LSTM-AD                            5.461425e-03   \n",
      "                                 LSTMED                             7.371115e-03   \n",
      "                                 Recurrent EBM                      1.261980e-03   \n",
      "Syn Extreme Outliers (mis=0.45)  DAGMM_LSTMAutoEncoder_withWindow   3.916888e-01   \n",
      "                                 DAGMM_NNAutoEncoder_withWindow     3.926840e-01   \n",
      "                                 DAGMM_NNAutoEncoder_withoutWindow  1.110223e-16   \n",
      "                                 Donut                              1.024394e-03   \n",
      "                                 LSTM-AD                            8.564209e-03   \n",
      "                                 LSTMED                             8.703625e-03   \n",
      "                                 Recurrent EBM                      2.487003e-03   \n",
      "Syn Extreme Outliers (mis=0.675) DAGMM_LSTMAutoEncoder_withWindow   3.124117e-01   \n",
      "                                 DAGMM_NNAutoEncoder_withWindow     3.240423e-01   \n",
      "                                 DAGMM_NNAutoEncoder_withoutWindow  1.110223e-16   \n",
      "                                 Donut                              1.160034e-03   \n",
      "                                 LSTM-AD                            4.344714e-03   \n",
      "                                 LSTMED                             8.074499e-03   \n",
      "                                 Recurrent EBM                      4.192881e-03   \n",
      "Syn Extreme Outliers (mis=0.9)   DAGMM_LSTMAutoEncoder_withWindow   3.811196e-01   \n",
      "                                 DAGMM_NNAutoEncoder_withWindow     4.037227e-01   \n",
      "                                 DAGMM_NNAutoEncoder_withoutWindow  1.110223e-16   \n",
      "                                 Donut                              1.018350e-03   \n",
      "                                 LSTM-AD                            1.422743e-02   \n",
      "                                 LSTMED                             4.278586e-02   \n",
      "                                 Recurrent EBM                      1.990719e-03   \n",
      "\n",
      "                                                                       auroc  \\\n",
      "dataset                          algorithm                                     \n",
      "Syn Extreme Outliers (mis=0.0)   DAGMM_LSTMAutoEncoder_withWindow   0.096586   \n",
      "                                 DAGMM_NNAutoEncoder_withWindow     0.070599   \n",
      "                                 DAGMM_NNAutoEncoder_withoutWindow  0.192696   \n",
      "                                 Donut                              0.012423   \n",
      "                                 LSTM-AD                            0.008652   \n",
      "                                 LSTMED                             0.008002   \n",
      "                                 Recurrent EBM                      0.065722   \n",
      "Syn Extreme Outliers (mis=0.225) DAGMM_LSTMAutoEncoder_withWindow   0.092223   \n",
      "                                 DAGMM_NNAutoEncoder_withWindow     0.149098   \n",
      "                                 DAGMM_NNAutoEncoder_withoutWindow  0.000000   \n",
      "                                 Donut                              0.000458   \n",
      "                                 LSTM-AD                            0.026501   \n",
      "                                 LSTMED                             0.003339   \n",
      "                                 Recurrent EBM                      0.112243   \n",
      "Syn Extreme Outliers (mis=0.45)  DAGMM_LSTMAutoEncoder_withWindow   0.114960   \n",
      "                                 DAGMM_NNAutoEncoder_withWindow     0.097495   \n",
      "                                 DAGMM_NNAutoEncoder_withoutWindow  0.000000   \n",
      "                                 Donut                              0.000524   \n",
      "                                 LSTM-AD                            0.045073   \n",
      "                                 LSTMED                             0.005890   \n",
      "                                 Recurrent EBM                      0.109928   \n",
      "Syn Extreme Outliers (mis=0.675) DAGMM_LSTMAutoEncoder_withWindow   0.053167   \n",
      "                                 DAGMM_NNAutoEncoder_withWindow     0.121637   \n",
      "                                 DAGMM_NNAutoEncoder_withoutWindow  0.000000   \n",
      "                                 Donut                              0.000593   \n",
      "                                 LSTM-AD                            0.050269   \n",
      "                                 LSTMED                             0.005579   \n",
      "                                 Recurrent EBM                      0.075532   \n",
      "Syn Extreme Outliers (mis=0.9)   DAGMM_LSTMAutoEncoder_withWindow   0.073800   \n",
      "                                 DAGMM_NNAutoEncoder_withWindow     0.040412   \n",
      "                                 DAGMM_NNAutoEncoder_withoutWindow  0.000000   \n",
      "                                 Donut                              0.000521   \n",
      "                                 LSTM-AD                            0.058942   \n",
      "                                 LSTMED                             0.007112   \n",
      "                                 Recurrent EBM                      0.162801   \n",
      "\n",
      "                                                                    precision  \\\n",
      "dataset                          algorithm                                      \n",
      "Syn Extreme Outliers (mis=0.0)   DAGMM_LSTMAutoEncoder_withWindow    0.014674   \n",
      "                                 DAGMM_NNAutoEncoder_withWindow      0.009991   \n",
      "                                 DAGMM_NNAutoEncoder_withoutWindow   0.100204   \n",
      "                                 Donut                               0.008577   \n",
      "                                 LSTM-AD                             0.173319   \n",
      "                                 LSTMED                              0.000000   \n",
      "                                 Recurrent EBM                       0.000000   \n",
      "Syn Extreme Outliers (mis=0.225) DAGMM_LSTMAutoEncoder_withWindow    0.009385   \n",
      "                                 DAGMM_NNAutoEncoder_withWindow      0.012029   \n",
      "                                 DAGMM_NNAutoEncoder_withoutWindow   0.000000   \n",
      "                                 Donut                               0.000461   \n",
      "                                 LSTM-AD                             0.309717   \n",
      "                                 LSTMED                              0.358748   \n",
      "                                 Recurrent EBM                       0.000000   \n",
      "Syn Extreme Outliers (mis=0.45)  DAGMM_LSTMAutoEncoder_withWindow    0.015589   \n",
      "                                 DAGMM_NNAutoEncoder_withWindow      0.011964   \n",
      "                                 DAGMM_NNAutoEncoder_withoutWindow   0.000000   \n",
      "                                 Donut                               0.000516   \n",
      "                                 LSTM-AD                             0.258491   \n",
      "                                 LSTMED                              0.446092   \n",
      "                                 Recurrent EBM                       0.000000   \n",
      "Syn Extreme Outliers (mis=0.675) DAGMM_LSTMAutoEncoder_withWindow    0.018615   \n",
      "                                 DAGMM_NNAutoEncoder_withWindow      0.014358   \n",
      "                                 DAGMM_NNAutoEncoder_withoutWindow   0.000000   \n",
      "                                 Donut                               0.000578   \n",
      "                                 LSTM-AD                             0.186991   \n",
      "                                 LSTMED                              0.408593   \n",
      "                                 Recurrent EBM                       0.023077   \n",
      "Syn Extreme Outliers (mis=0.9)   DAGMM_LSTMAutoEncoder_withWindow    0.013554   \n",
      "                                 DAGMM_NNAutoEncoder_withWindow      0.011216   \n",
      "                                 DAGMM_NNAutoEncoder_withoutWindow   0.000000   \n",
      "                                 Donut                               0.000474   \n",
      "                                 LSTM-AD                             0.261717   \n",
      "                                 LSTMED                              0.460900   \n",
      "                                 Recurrent EBM                       0.000000   \n",
      "\n",
      "                                                                      recall  \n",
      "dataset                          algorithm                                    \n",
      "Syn Extreme Outliers (mis=0.0)   DAGMM_LSTMAutoEncoder_withWindow   0.316228  \n",
      "                                 DAGMM_NNAutoEncoder_withWindow     0.214243  \n",
      "                                 DAGMM_NNAutoEncoder_withoutWindow  0.352136  \n",
      "                                 Donut                              0.020000  \n",
      "                                 LSTM-AD                            0.129325  \n",
      "                                 LSTMED                             0.000000  \n",
      "                                 Recurrent EBM                      0.061033  \n",
      "Syn Extreme Outliers (mis=0.225) DAGMM_LSTMAutoEncoder_withWindow   0.267582  \n",
      "                                 DAGMM_NNAutoEncoder_withWindow     0.328024  \n",
      "                                 DAGMM_NNAutoEncoder_withoutWindow  0.000000  \n",
      "                                 Donut                              0.000000  \n",
      "                                 LSTM-AD                            0.056789  \n",
      "                                 LSTMED                             0.020000  \n",
      "                                 Recurrent EBM                      0.056789  \n",
      "Syn Extreme Outliers (mis=0.45)  DAGMM_LSTMAutoEncoder_withWindow   0.368103  \n",
      "                                 DAGMM_NNAutoEncoder_withWindow     0.354260  \n",
      "                                 DAGMM_NNAutoEncoder_withoutWindow  0.000000  \n",
      "                                 Donut                              0.000000  \n",
      "                                 LSTM-AD                            0.052202  \n",
      "                                 LSTMED                             0.025000  \n",
      "                                 Recurrent EBM                      0.111915  \n",
      "Syn Extreme Outliers (mis=0.675) DAGMM_LSTMAutoEncoder_withWindow   0.303686  \n",
      "                                 DAGMM_NNAutoEncoder_withWindow     0.307774  \n",
      "                                 DAGMM_NNAutoEncoder_withoutWindow  0.000000  \n",
      "                                 Donut                              0.000000  \n",
      "                                 LSTM-AD                            0.087892  \n",
      "                                 LSTMED                             0.022913  \n",
      "                                 Recurrent EBM                      0.191115  \n",
      "Syn Extreme Outliers (mis=0.9)   DAGMM_LSTMAutoEncoder_withWindow   0.347994  \n",
      "                                 DAGMM_NNAutoEncoder_withWindow     0.389519  \n",
      "                                 DAGMM_NNAutoEncoder_withoutWindow  0.000000  \n",
      "                                 Donut                              0.000000  \n",
      "                                 LSTM-AD                            0.095394  \n",
      "                                 LSTMED                             0.111915  \n",
      "                                 Recurrent EBM                      0.089582  \n"
     ]
    }
   ],
   "source": [
    "print(f'{\"-\"*20} Average {\"-\"*20}')\n",
    "print(avg_results)\n",
    "print(f'{\"-\"*22} Std {\"-\"*22}')\n",
    "print(std_results)"
   ]
  },
  {
   "cell_type": "code",
   "execution_count": 32,
   "metadata": {},
   "outputs": [
    {
     "name": "stdout",
     "output_type": "stream",
     "text": [
      "2018-07-05 20:30:19 [INFO] src.evaluation.evaluator: Store evaluator results at /home/thomas/work/notebooks/data/missing-final-2018-07-05-203019.pkl\n"
     ]
    }
   ],
   "source": [
    "path = evaluator.export_results('missing-final')"
   ]
  },
  {
   "cell_type": "code",
   "execution_count": 35,
   "metadata": {},
   "outputs": [
    {
     "name": "stdout",
     "output_type": "stream",
     "text": [
      "2018-07-10 09:20:22 [INFO] src.evaluation.evaluator: Read evaluator results at /home/thomas/work/notebooks/data/missing-final-2018-07-05-203019.pkl\n"
     ]
    }
   ],
   "source": [
    "evaluator2 = Evaluator(datasets, detectors, output_dir='data')\n",
    "evaluator2.import_results(path[5:-4])"
   ]
  },
  {
   "cell_type": "code",
   "execution_count": 36,
   "metadata": {},
   "outputs": [
    {
     "data": {
      "image/png": "[encoded data removed]",
      "text/plain": [
       "<Figure size 720x720 with 1 Axes>"
      ]
     },
     "metadata": {},
     "output_type": "display_data"
    }
   ],
   "source": [
    "fig = evaluator2.plot_experiment_comparison('Missing')"
   ]
  }
 ],
 "metadata": {
  "kernelspec": {
   "display_name": "Python 3",
   "language": "python",
   "name": "python3"
  },
  "language_info": {
   "codemirror_mode": {
    "name": "ipython",
    "version": 3
   },
   "file_extension": ".py",
   "mimetype": "text/x-python",
   "name": "python",
   "nbconvert_exporter": "python",
   "pygments_lexer": "ipython3",
   "version": "3.6.5"
  }
 },
 "nbformat": 4,
 "nbformat_minor": 2
}
