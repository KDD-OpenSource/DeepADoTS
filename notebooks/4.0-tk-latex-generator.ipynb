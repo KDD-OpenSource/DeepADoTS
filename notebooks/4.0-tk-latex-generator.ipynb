{
 "cells": [
  {
   "cell_type": "code",
   "execution_count": 2,
   "metadata": {},
   "outputs": [],
   "source": [
    "% load_ext autoreload\n",
    "% autoreload 2\n",
    "% matplotlib inline\n",
    "\n",
    "import pickle\n",
    "import pandas as pd\n",
    "from matplotlib import pyplot as plt\n",
    "\n",
    "import os\n",
    "import sys\n",
    "sys.path.append('..')\n",
    "\n",
    "from src.evaluation import Plotter, Evaluator"
   ]
  },
  {
   "cell_type": "markdown",
   "metadata": {},
   "source": [
    "### After adding to Plotter"
   ]
  },
  {
   "cell_type": "code",
   "execution_count": 16,
   "metadata": {},
   "outputs": [
    {
     "data": {
      "text/plain": [
       "0.4"
      ]
     },
     "execution_count": 16,
     "metadata": {},
     "output_type": "execute_result"
    }
   ],
   "source": [
    "output_dir = './reports'\n",
    "pickles_dir = '../reports/experiment_pollution/shift_1'\n",
    "plotter = Plotter(output_dir, pickles_dir)\n",
    "plotter.fix_anomaly_percentage(-2)"
   ]
  },
  {
   "cell_type": "code",
   "execution_count": 18,
   "metadata": {},
   "outputs": [
    {
     "name": "stdout",
     "output_type": "stream",
     "text": [
      "\n",
      "\\begin{figure}[!h]\n",
      "    \\centering\n",
      "    \\begin{subfigure}{.475\\linewidth}\n",
      "    \\centering\n",
      "    \\begin{tikzpicture}[yscale=0.9]\n",
      "    \\begin{axis}[\n",
      "        % title={{Pollution}},\n",
      "        xlabel={Pollution In Training Data},\n",
      "        ylabel={AUROC},\n",
      "        xmin=0, xmax={1.10},\n",
      "        ymin=0, ymax=1,\n",
      "        xtick={0.00, 0.25, 0.50, 0.75, 1.00},\n",
      "        ytick={0.0, 0.2, 0.4, 0.6, 0.8, 1.0},\n",
      "        legend entries={\\lstmdagmm, \\lstmed, \\lstmad, \\ebm, OLD-DAGMM-NN, \\donut, \\dagmm},\n",
      "        legend pos = outer north east,\n",
      "        ymajorgrids=true,\n",
      "        grid style=dashed,\n",
      "        width=\\linewidth\n",
      "    ]\n",
      "\n",
      "\t\\addplot coordinates{(0.00, 0.72) (0.25, 0.75) (0.50, 0.64) (0.75, 0.67) (1.00, 0.62)}\n",
      "\t\\addplot coordinates{(0.00, 0.83) (0.25, 0.82) (0.50, 0.85) (0.75, 0.83) (1.00, 0.83)}\n",
      "\t\\addplot coordinates{(0.00, 0.92) (0.25, 0.82) (0.50, 0.95) (0.75, 0.89) (1.00, 0.93)}\n",
      "\t\\addplot coordinates{(0.00, 0.99) (0.25, 0.84) (0.50, 0.95) (0.75, 0.86) (1.00, 0.86)}\n",
      "\t\\addplot coordinates{(0.00, 0.89) (0.25, 0.83) (0.50, 0.90) (0.75, 0.86) (1.00, 0.88)}\n",
      "\t\\addplot coordinates{(0.00, 0.51) (0.25, 0.73) (0.50, 0.72) (0.75, 0.60) (1.00, 0.50)}\n",
      "\t\\addplot coordinates{(0.00, 0.89) (0.25, 0.76) (0.50, 0.63) (0.75, 0.77) (1.00, 0.85)}\n",
      "\n",
      "\n",
      "    \\end{axis}\n",
      "    \\end{tikzpicture}\n",
      "    \\end{subfigure}\n",
      "\n",
      "    \\caption{Comparison of the presented approaches on \\textbf{shift} anomalies with varying pollution levels for the training dataset. The anomaly percentage for the test dataset is fixed to 40~%.}\n",
      "    \\label{fig:#LATEX_LABEL#}\n",
      "\\end{figure}\n",
      "\n"
     ]
    }
   ],
   "source": [
    "print(plotter.latex_lineplot(\n",
    "    title='Pollution',\n",
    "    x_label='Pollution In Training Data',\n",
    "    caption='Comparison of the presented approaches on \\\\textbf{shift} anomalies with varying '\n",
    "    'pollution levels for the training dataset. The anomaly percentage for the test dataset is '\n",
    "    'fixed to 40~%.',\n",
    "    latex_label='pollution_lineplot',\n",
    "))"
   ]
  },
  {
   "cell_type": "markdown",
   "metadata": {},
   "source": [
    "### Code by Willi"
   ]
  },
  {
   "cell_type": "code",
   "execution_count": null,
   "metadata": {},
   "outputs": [],
   "source": [
    "GROUPS = None\n",
    "#GROUPS = 20\n",
    "\n",
    "df = pd.read_pickle(\"experiment-multi_dim_multivariate-2018-07-23-013012.pkl\")['benchmark_results']\n",
    "df = df.append(pd.read_pickle(\"experiment-run-1-1043199673-2018-08-01-194308.pkl\")['benchmark_results'])\n",
    "df = df.append(pd.read_pickle(\"experiment-run-0-906869411-2018-08-01-131414.pkl\")['benchmark_results'])\n",
    "df = df.groupby([\"dataset\", \"algorithm\"], as_index=False).mean()\n",
    "df = df[[\"dataset\", \"algorithm\", \"auroc\"]]\n",
    "df.head()\n"
   ]
  },
  {
   "cell_type": "code",
   "execution_count": null,
   "metadata": {},
   "outputs": [],
   "source": [
    "if GROUPS is None:\n",
    "    df = df[~df['dataset'].str.contains(\"with 20 \")]\n",
    "else:\n",
    "    df = df[df['dataset'].str.contains(\"with 20 \")]"
   ]
  },
  {
   "cell_type": "code",
   "execution_count": null,
   "metadata": {},
   "outputs": [],
   "source": [
    "import collections\n",
    "\n",
    "def recursively_default_dict():\n",
    "    return collections.defaultdict(recursively_default_dict)\n",
    "\n",
    "results = recursively_default_dict() # function - algorithm - dimension\n",
    "algorithm_name = {'DAGMM_LSTMAutoEncoder_withWindow': 'DAGMM-LW', 'DAGMM_NNAutoEncoder_withWindow': 'DAGMM-NW',\n",
    "                  'DAGMM_NNAutoEncoder_withoutWindow': 'DAGMM-NN', 'LSTM-AD': 'LSTM-AD', 'Recurrent EBM': 'REBM', 'LSTMED': 'LSTMED'}\n",
    "dimensions = set()\n",
    "functions = ['Doubled', 'Shrinked', 'Inversed', 'XOR', 'Delayed', 'Delayed Missing']\n",
    "algorithms = set()\n",
    "\n",
    "for _, row in df.iterrows():\n",
    "    function =  row[0].split('(f=')[1].split(')')[0]\n",
    "    dimension = int(row[0].split('-dimensional')[0].split(' ')[2])\n",
    "    dimensions.add(dimension)\n",
    "    algorithm = algorithm_name[row[1]]\n",
    "    algorithms.add(algorithm)\n",
    "    score = float(row[2])\n",
    "    results[function][algorithm][dimension] = score\n",
    "algorithms = sorted(list(algorithms))\n",
    "results['delayed']"
   ]
  },
  {
   "cell_type": "code",
   "execution_count": null,
   "metadata": {
    "scrolled": false
   },
   "outputs": [],
   "source": [
    "for function_index, function in enumerate(functions):\n",
    "    function_lower = function.lower().replace(' ', '_')\n",
    "    title = f\"({function_index}) {function}\"\n",
    "    x_label = \"Dimensions\"\n",
    "    x_max = str(max(dimensions) + 100)\n",
    "    \n",
    "    # Add figure block\n",
    "    header = \"\"\n",
    "    if function_index == 0:\n",
    "        header += \"\\\\begin{figure}[!h]\\n\\\\centering\"\n",
    "    header += \"\" + \\\n",
    "    \"\"\"\\\\begin{subfigure}{.475\\\\linewidth}\n",
    "    \\\\centering\n",
    "    \"\"\"\n",
    "    \n",
    "    header += u\"\"\"\n",
    "    \\\\begin{tikzpicture}[yscale=0.9]\n",
    "    \\\\begin{axis}[\n",
    "        title={{the_title}},\n",
    "        xlabel={x_label},\n",
    "        ylabel={AUROC},\n",
    "        xmin=0, xmax={x_max},\n",
    "        ymin=0, ymax=1,\n",
    "        xtick={dimensions},\n",
    "        ytick={0,0.2, 0.4, 0.6, 0.8, 1.0},\n",
    "        legend pos=north west,\n",
    "        ymajorgrids=true,\n",
    "        grid style=dashed,\n",
    "        legend style ={ at={(0,0)}, \n",
    "            anchor=south west, draw=black, \n",
    "            fill=white,align=left},\n",
    "        %cycle list name=black white,\n",
    "        width=\\\\linewidth\n",
    "    ]\n",
    "    \"\"\".replace(\"the_title\", title).replace(\"x_label\", x_label).replace(\"dimensions\",\",\".join([str(x) for x in sorted(list(dimensions))])).replace(\"x_max\", x_max)\n",
    "    print(header)\n",
    "    for algorithm in algorithms:\n",
    "        add_plot = \"\"\"\n",
    "        \\\\addplot\n",
    "            coordinates {\n",
    "            \"\"\"\n",
    "        for dimension in dimensions:\n",
    "            add_plot += f\"({dimension},{results[function_lower][algorithm][dimension]})\"\n",
    "        print(add_plot + \"};\")\n",
    "    if function_index == 0:\n",
    "        print(\"\\\\legend{algorithms}\".replace(\"algorithms\", \",\".join(algorithms)))\n",
    "    print(\"\"\"\n",
    "    \\\\end{axis}\n",
    "    \\\\end{tikzpicture}\n",
    "    \\\\end{subfigure}\"\"\")\n",
    "    if function_index % 2 == 0:\n",
    "        print(\"\\\\hfill\")\n",
    "    else:\n",
    "        if function_index == len(functions)-1:\n",
    "            group_text = \"The group size is set to \"\n",
    "            if GROUPS is None:\n",
    "                group_text += \"the number of dimensions.\"\n",
    "            else:\n",
    "                group_text += \"20.\"\n",
    "            \n",
    "            print(\"\\\\caption{Comparison of the presented approaches on different anomalies with varying dimensions. \" + group_text + \"}\")\n",
    "            if GROUPS is None:\n",
    "                print(\"\\\\label{fig:multid_groups_none}\")\n",
    "            else:\n",
    "                print(\"\\\\label{fig:multid_groups_20}\")\n",
    "            print(\"\\\\end{figure}\")"
   ]
  }
 ],
 "metadata": {
  "kernelspec": {
   "display_name": "Python36 (MP)",
   "language": "python",
   "name": "venv_mp"
  },
  "language_info": {
   "codemirror_mode": {
    "name": "ipython",
    "version": 3
   },
   "file_extension": ".py",
   "mimetype": "text/x-python",
   "name": "python",
   "nbconvert_exporter": "python",
   "pygments_lexer": "ipython3",
   "version": "3.6.4"
  }
 },
 "nbformat": 4,
 "nbformat_minor": 2
}
